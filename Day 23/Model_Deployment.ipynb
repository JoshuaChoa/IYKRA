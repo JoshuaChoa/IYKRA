{
 "cells": [
  {
   "cell_type": "markdown",
   "metadata": {},
   "source": [
    "<div class=title>\n",
    "<strong><center><font size=\"3\">DAY 23 - IYKRA</font></center>\n",
    "<hr>\n",
    "<center><font size=\"5\"><strong>Data Science Bootcamp</strong></font></center>\n",
    "<center><font size=\"4\"><strong>Applied Machine Learning: Model</strong></font></center>\n",
    "<hr>\n",
    "<p style=\"text-align:center\">Author</p>\n",
    "<center>Joshua Effendi and Gilang Mahardika</center>\n",
    "<p style=\"text-align:center\">Date:</p>\n",
    "<center>20 November 2019</center></strong>\n",
    "</div>"
   ]
  },
  {
   "cell_type": "markdown",
   "metadata": {},
   "source": [
    "<div class=title1>\n",
    "    <b><font size='3'>Load Packages</font></b>\n",
    "</div>"
   ]
  },
  {
   "cell_type": "code",
   "execution_count": 31,
   "metadata": {
    "ExecuteTime": {
     "end_time": "2019-11-20T05:39:54.052500Z",
     "start_time": "2019-11-20T05:39:54.042500Z"
    }
   },
   "outputs": [
    {
     "data": {
      "text/html": [
       "<style>\n",
       "div.cbox {\n",
       "    background-color: #ADD8E6;\n",
       "    padding: 0.5em;\n",
       "    text-align: justify;\n",
       "    text-justify: inter-word;\n",
       "    }\n",
       "div.title {\n",
       "    background-color: #90EE90;\n",
       "    padding: 0.5em;\n",
       "    }\n",
       "div.title2 {\n",
       "    background-color: #01D848;\n",
       "    padding: 0.5em;\n",
       "    }\n",
       "div.title1 {\n",
       "    background-color: #AADDAA;\n",
       "    padding: 0.5em;\n",
       "    }\n",
       "</style>"
      ],
      "text/plain": [
       "<IPython.core.display.HTML object>"
      ]
     },
     "execution_count": 31,
     "metadata": {},
     "output_type": "execute_result"
    }
   ],
   "source": [
    "import numpy as np # math calculation\n",
    "import pandas as pd # data wrangling\n",
    "import matplotlib.pyplot as plt # plot visualization\n",
    "import seaborn as sns # visualization\n",
    "from sklearn.metrics import auc, confusion_matrix\n",
    "from sklearn import metrics\n",
    "import pickle\n",
    "\n",
    "import warnings\n",
    "warnings.filterwarnings(\"ignore\")\n",
    "\n",
    "from IPython.core.display import HTML\n",
    "\n",
    "def css_styling():\n",
    "    styles = open(\"./styles/custom.css\", \"r\").read()\n",
    "    return HTML(styles)\n",
    "css_styling()"
   ]
  },
  {
   "cell_type": "markdown",
   "metadata": {},
   "source": [
    "<div class=title1>\n",
    "    <b><font size='3'>Load Dataset</font></b>\n",
    "</div>\n",
    "<div class=title2>\n",
    "    <b><font size='2'>Data yang digunakan adalah data german_credit.csv untuk melakukan analisis regresi</font></b>\n",
    "</div>"
   ]
  },
  {
   "cell_type": "code",
   "execution_count": 23,
   "metadata": {
    "ExecuteTime": {
     "end_time": "2019-11-20T04:58:13.362000Z",
     "start_time": "2019-11-20T04:58:13.347000Z"
    }
   },
   "outputs": [],
   "source": [
    "data = pd.read_csv(\"german_credit.csv\")"
   ]
  },
  {
   "cell_type": "code",
   "execution_count": 24,
   "metadata": {
    "ExecuteTime": {
     "end_time": "2019-11-20T04:58:13.699500Z",
     "start_time": "2019-11-20T04:58:13.652000Z"
    }
   },
   "outputs": [
    {
     "data": {
      "text/html": [
       "<div>\n",
       "<style scoped>\n",
       "    .dataframe tbody tr th:only-of-type {\n",
       "        vertical-align: middle;\n",
       "    }\n",
       "\n",
       "    .dataframe tbody tr th {\n",
       "        vertical-align: top;\n",
       "    }\n",
       "\n",
       "    .dataframe thead th {\n",
       "        text-align: right;\n",
       "    }\n",
       "</style>\n",
       "<table border=\"1\" class=\"dataframe\">\n",
       "  <thead>\n",
       "    <tr style=\"text-align: right;\">\n",
       "      <th></th>\n",
       "      <th>default</th>\n",
       "      <th>account_check_status</th>\n",
       "      <th>duration_in_month</th>\n",
       "      <th>credit_history</th>\n",
       "      <th>purpose</th>\n",
       "      <th>credit_amount</th>\n",
       "      <th>savings</th>\n",
       "      <th>present_emp_since</th>\n",
       "      <th>installment_as_income_perc</th>\n",
       "      <th>personal_status_sex</th>\n",
       "      <th>...</th>\n",
       "      <th>present_res_since</th>\n",
       "      <th>property</th>\n",
       "      <th>age</th>\n",
       "      <th>other_installment_plans</th>\n",
       "      <th>housing</th>\n",
       "      <th>credits_this_bank</th>\n",
       "      <th>job</th>\n",
       "      <th>people_under_maintenance</th>\n",
       "      <th>telephone</th>\n",
       "      <th>foreign_worker</th>\n",
       "    </tr>\n",
       "  </thead>\n",
       "  <tbody>\n",
       "    <tr>\n",
       "      <th>0</th>\n",
       "      <td>0</td>\n",
       "      <td>&lt; 0 DM</td>\n",
       "      <td>6</td>\n",
       "      <td>critical account/ other credits existing (not ...</td>\n",
       "      <td>domestic appliances</td>\n",
       "      <td>1169</td>\n",
       "      <td>unknown/ no savings account</td>\n",
       "      <td>.. &gt;= 7 years</td>\n",
       "      <td>4</td>\n",
       "      <td>male : single</td>\n",
       "      <td>...</td>\n",
       "      <td>4</td>\n",
       "      <td>real estate</td>\n",
       "      <td>67</td>\n",
       "      <td>none</td>\n",
       "      <td>own</td>\n",
       "      <td>2</td>\n",
       "      <td>skilled employee / official</td>\n",
       "      <td>1</td>\n",
       "      <td>yes, registered under the customers name</td>\n",
       "      <td>yes</td>\n",
       "    </tr>\n",
       "    <tr>\n",
       "      <th>1</th>\n",
       "      <td>1</td>\n",
       "      <td>0 &lt;= ... &lt; 200 DM</td>\n",
       "      <td>48</td>\n",
       "      <td>existing credits paid back duly till now</td>\n",
       "      <td>domestic appliances</td>\n",
       "      <td>5951</td>\n",
       "      <td>... &lt; 100 DM</td>\n",
       "      <td>1 &lt;= ... &lt; 4 years</td>\n",
       "      <td>2</td>\n",
       "      <td>female : divorced/separated/married</td>\n",
       "      <td>...</td>\n",
       "      <td>2</td>\n",
       "      <td>real estate</td>\n",
       "      <td>22</td>\n",
       "      <td>none</td>\n",
       "      <td>own</td>\n",
       "      <td>1</td>\n",
       "      <td>skilled employee / official</td>\n",
       "      <td>1</td>\n",
       "      <td>none</td>\n",
       "      <td>yes</td>\n",
       "    </tr>\n",
       "    <tr>\n",
       "      <th>2</th>\n",
       "      <td>0</td>\n",
       "      <td>no checking account</td>\n",
       "      <td>12</td>\n",
       "      <td>critical account/ other credits existing (not ...</td>\n",
       "      <td>(vacation - does not exist?)</td>\n",
       "      <td>2096</td>\n",
       "      <td>... &lt; 100 DM</td>\n",
       "      <td>4 &lt;= ... &lt; 7 years</td>\n",
       "      <td>2</td>\n",
       "      <td>male : single</td>\n",
       "      <td>...</td>\n",
       "      <td>3</td>\n",
       "      <td>real estate</td>\n",
       "      <td>49</td>\n",
       "      <td>none</td>\n",
       "      <td>own</td>\n",
       "      <td>1</td>\n",
       "      <td>unskilled - resident</td>\n",
       "      <td>2</td>\n",
       "      <td>none</td>\n",
       "      <td>yes</td>\n",
       "    </tr>\n",
       "    <tr>\n",
       "      <th>3</th>\n",
       "      <td>0</td>\n",
       "      <td>&lt; 0 DM</td>\n",
       "      <td>42</td>\n",
       "      <td>existing credits paid back duly till now</td>\n",
       "      <td>radio/television</td>\n",
       "      <td>7882</td>\n",
       "      <td>... &lt; 100 DM</td>\n",
       "      <td>4 &lt;= ... &lt; 7 years</td>\n",
       "      <td>2</td>\n",
       "      <td>male : single</td>\n",
       "      <td>...</td>\n",
       "      <td>4</td>\n",
       "      <td>if not A121 : building society savings agreeme...</td>\n",
       "      <td>45</td>\n",
       "      <td>none</td>\n",
       "      <td>for free</td>\n",
       "      <td>1</td>\n",
       "      <td>skilled employee / official</td>\n",
       "      <td>2</td>\n",
       "      <td>none</td>\n",
       "      <td>yes</td>\n",
       "    </tr>\n",
       "    <tr>\n",
       "      <th>4</th>\n",
       "      <td>1</td>\n",
       "      <td>&lt; 0 DM</td>\n",
       "      <td>24</td>\n",
       "      <td>delay in paying off in the past</td>\n",
       "      <td>car (new)</td>\n",
       "      <td>4870</td>\n",
       "      <td>... &lt; 100 DM</td>\n",
       "      <td>1 &lt;= ... &lt; 4 years</td>\n",
       "      <td>3</td>\n",
       "      <td>male : single</td>\n",
       "      <td>...</td>\n",
       "      <td>4</td>\n",
       "      <td>unknown / no property</td>\n",
       "      <td>53</td>\n",
       "      <td>none</td>\n",
       "      <td>for free</td>\n",
       "      <td>2</td>\n",
       "      <td>skilled employee / official</td>\n",
       "      <td>2</td>\n",
       "      <td>none</td>\n",
       "      <td>yes</td>\n",
       "    </tr>\n",
       "  </tbody>\n",
       "</table>\n",
       "<p>5 rows × 21 columns</p>\n",
       "</div>"
      ],
      "text/plain": [
       "   default account_check_status  duration_in_month  \\\n",
       "0        0               < 0 DM                  6   \n",
       "1        1    0 <= ... < 200 DM                 48   \n",
       "2        0  no checking account                 12   \n",
       "3        0               < 0 DM                 42   \n",
       "4        1               < 0 DM                 24   \n",
       "\n",
       "                                      credit_history  \\\n",
       "0  critical account/ other credits existing (not ...   \n",
       "1           existing credits paid back duly till now   \n",
       "2  critical account/ other credits existing (not ...   \n",
       "3           existing credits paid back duly till now   \n",
       "4                    delay in paying off in the past   \n",
       "\n",
       "                        purpose  credit_amount                      savings  \\\n",
       "0           domestic appliances           1169  unknown/ no savings account   \n",
       "1           domestic appliances           5951                 ... < 100 DM   \n",
       "2  (vacation - does not exist?)           2096                 ... < 100 DM   \n",
       "3              radio/television           7882                 ... < 100 DM   \n",
       "4                     car (new)           4870                 ... < 100 DM   \n",
       "\n",
       "    present_emp_since  installment_as_income_perc  \\\n",
       "0       .. >= 7 years                           4   \n",
       "1  1 <= ... < 4 years                           2   \n",
       "2  4 <= ... < 7 years                           2   \n",
       "3  4 <= ... < 7 years                           2   \n",
       "4  1 <= ... < 4 years                           3   \n",
       "\n",
       "                   personal_status_sex  ... present_res_since  \\\n",
       "0                        male : single  ...                 4   \n",
       "1  female : divorced/separated/married  ...                 2   \n",
       "2                        male : single  ...                 3   \n",
       "3                        male : single  ...                 4   \n",
       "4                        male : single  ...                 4   \n",
       "\n",
       "                                            property age  \\\n",
       "0                                        real estate  67   \n",
       "1                                        real estate  22   \n",
       "2                                        real estate  49   \n",
       "3  if not A121 : building society savings agreeme...  45   \n",
       "4                              unknown / no property  53   \n",
       "\n",
       "   other_installment_plans   housing credits_this_bank  \\\n",
       "0                     none       own                 2   \n",
       "1                     none       own                 1   \n",
       "2                     none       own                 1   \n",
       "3                     none  for free                 1   \n",
       "4                     none  for free                 2   \n",
       "\n",
       "                           job people_under_maintenance  \\\n",
       "0  skilled employee / official                        1   \n",
       "1  skilled employee / official                        1   \n",
       "2         unskilled - resident                        2   \n",
       "3  skilled employee / official                        2   \n",
       "4  skilled employee / official                        2   \n",
       "\n",
       "                                   telephone foreign_worker  \n",
       "0  yes, registered under the customers name             yes  \n",
       "1                                       none            yes  \n",
       "2                                       none            yes  \n",
       "3                                       none            yes  \n",
       "4                                       none            yes  \n",
       "\n",
       "[5 rows x 21 columns]"
      ]
     },
     "execution_count": 24,
     "metadata": {},
     "output_type": "execute_result"
    }
   ],
   "source": [
    "data.head()"
   ]
  },
  {
   "cell_type": "code",
   "execution_count": 25,
   "metadata": {
    "ExecuteTime": {
     "end_time": "2019-11-20T04:58:13.997000Z",
     "start_time": "2019-11-20T04:58:13.984500Z"
    }
   },
   "outputs": [
    {
     "name": "stdout",
     "output_type": "stream",
     "text": [
      "male : single                          548\n",
      "female : divorced/separated/married    310\n",
      "male : married/widowed                  92\n",
      "male : divorced/separated               50\n",
      "Name: personal_status_sex, dtype: int64\n",
      "\n",
      "\n",
      "0    700\n",
      "1    300\n",
      "Name: default, dtype: int64\n",
      "\n",
      "\n",
      "skilled employee / official                                      630\n",
      "unskilled - resident                                             200\n",
      "management/ self-employed/ highly qualified employee/ officer    148\n",
      "unemployed/ unskilled - non-resident                              22\n",
      "Name: job, dtype: int64\n"
     ]
    }
   ],
   "source": [
    "print(data['personal_status_sex'].value_counts())\n",
    "print('\\n')\n",
    "print(data['default'].value_counts())\n",
    "print('\\n')\n",
    "print(data['job'].value_counts())"
   ]
  },
  {
   "cell_type": "markdown",
   "metadata": {},
   "source": [
    "<div class=title1>\n",
    "    <b><font size='3'>Validation Data</font></b>\n",
    "</div>"
   ]
  },
  {
   "cell_type": "code",
   "execution_count": 26,
   "metadata": {
    "ExecuteTime": {
     "end_time": "2019-11-20T04:58:16.684500Z",
     "start_time": "2019-11-20T04:58:16.654500Z"
    }
   },
   "outputs": [
    {
     "data": {
      "text/html": [
       "<div>\n",
       "<style scoped>\n",
       "    .dataframe tbody tr th:only-of-type {\n",
       "        vertical-align: middle;\n",
       "    }\n",
       "\n",
       "    .dataframe tbody tr th {\n",
       "        vertical-align: top;\n",
       "    }\n",
       "\n",
       "    .dataframe thead th {\n",
       "        text-align: right;\n",
       "    }\n",
       "</style>\n",
       "<table border=\"1\" class=\"dataframe\">\n",
       "  <thead>\n",
       "    <tr style=\"text-align: right;\">\n",
       "      <th></th>\n",
       "      <th>default</th>\n",
       "      <th>account_check_status</th>\n",
       "      <th>duration_in_month</th>\n",
       "      <th>credit_history</th>\n",
       "      <th>purpose</th>\n",
       "      <th>credit_amount</th>\n",
       "      <th>savings</th>\n",
       "      <th>present_emp_since</th>\n",
       "      <th>installment_as_income_perc</th>\n",
       "      <th>personal_status_sex</th>\n",
       "      <th>...</th>\n",
       "      <th>present_res_since</th>\n",
       "      <th>property</th>\n",
       "      <th>age</th>\n",
       "      <th>other_installment_plans</th>\n",
       "      <th>housing</th>\n",
       "      <th>credits_this_bank</th>\n",
       "      <th>job</th>\n",
       "      <th>people_under_maintenance</th>\n",
       "      <th>telephone</th>\n",
       "      <th>foreign_worker</th>\n",
       "    </tr>\n",
       "  </thead>\n",
       "  <tbody>\n",
       "    <tr>\n",
       "      <th>681</th>\n",
       "      <td>0</td>\n",
       "      <td>no checking account</td>\n",
       "      <td>12</td>\n",
       "      <td>existing credits paid back duly till now</td>\n",
       "      <td>domestic appliances</td>\n",
       "      <td>2279</td>\n",
       "      <td>unknown/ no savings account</td>\n",
       "      <td>1 &lt;= ... &lt; 4 years</td>\n",
       "      <td>4</td>\n",
       "      <td>male : single</td>\n",
       "      <td>...</td>\n",
       "      <td>4</td>\n",
       "      <td>unknown / no property</td>\n",
       "      <td>37</td>\n",
       "      <td>none</td>\n",
       "      <td>for free</td>\n",
       "      <td>1</td>\n",
       "      <td>skilled employee / official</td>\n",
       "      <td>1</td>\n",
       "      <td>yes, registered under the customers name</td>\n",
       "      <td>yes</td>\n",
       "    </tr>\n",
       "    <tr>\n",
       "      <th>990</th>\n",
       "      <td>0</td>\n",
       "      <td>no checking account</td>\n",
       "      <td>12</td>\n",
       "      <td>critical account/ other credits existing (not ...</td>\n",
       "      <td>(vacation - does not exist?)</td>\n",
       "      <td>3565</td>\n",
       "      <td>unknown/ no savings account</td>\n",
       "      <td>... &lt; 1 year</td>\n",
       "      <td>2</td>\n",
       "      <td>male : single</td>\n",
       "      <td>...</td>\n",
       "      <td>1</td>\n",
       "      <td>if not A121 : building society savings agreeme...</td>\n",
       "      <td>37</td>\n",
       "      <td>none</td>\n",
       "      <td>own</td>\n",
       "      <td>2</td>\n",
       "      <td>unskilled - resident</td>\n",
       "      <td>2</td>\n",
       "      <td>none</td>\n",
       "      <td>yes</td>\n",
       "    </tr>\n",
       "    <tr>\n",
       "      <th>155</th>\n",
       "      <td>1</td>\n",
       "      <td>&lt; 0 DM</td>\n",
       "      <td>12</td>\n",
       "      <td>existing credits paid back duly till now</td>\n",
       "      <td>radio/television</td>\n",
       "      <td>1282</td>\n",
       "      <td>... &lt; 100 DM</td>\n",
       "      <td>1 &lt;= ... &lt; 4 years</td>\n",
       "      <td>2</td>\n",
       "      <td>female : divorced/separated/married</td>\n",
       "      <td>...</td>\n",
       "      <td>4</td>\n",
       "      <td>if not A121/A122 : car or other, not in attrib...</td>\n",
       "      <td>20</td>\n",
       "      <td>none</td>\n",
       "      <td>rent</td>\n",
       "      <td>1</td>\n",
       "      <td>skilled employee / official</td>\n",
       "      <td>1</td>\n",
       "      <td>none</td>\n",
       "      <td>yes</td>\n",
       "    </tr>\n",
       "    <tr>\n",
       "      <th>768</th>\n",
       "      <td>0</td>\n",
       "      <td>0 &lt;= ... &lt; 200 DM</td>\n",
       "      <td>12</td>\n",
       "      <td>critical account/ other credits existing (not ...</td>\n",
       "      <td>radio/television</td>\n",
       "      <td>3617</td>\n",
       "      <td>... &lt; 100 DM</td>\n",
       "      <td>.. &gt;= 7 years</td>\n",
       "      <td>1</td>\n",
       "      <td>male : single</td>\n",
       "      <td>...</td>\n",
       "      <td>4</td>\n",
       "      <td>if not A121/A122 : car or other, not in attrib...</td>\n",
       "      <td>28</td>\n",
       "      <td>none</td>\n",
       "      <td>rent</td>\n",
       "      <td>3</td>\n",
       "      <td>skilled employee / official</td>\n",
       "      <td>1</td>\n",
       "      <td>yes, registered under the customers name</td>\n",
       "      <td>yes</td>\n",
       "    </tr>\n",
       "    <tr>\n",
       "      <th>438</th>\n",
       "      <td>0</td>\n",
       "      <td>&lt; 0 DM</td>\n",
       "      <td>42</td>\n",
       "      <td>critical account/ other credits existing (not ...</td>\n",
       "      <td>education</td>\n",
       "      <td>3394</td>\n",
       "      <td>... &lt; 100 DM</td>\n",
       "      <td>unemployed</td>\n",
       "      <td>4</td>\n",
       "      <td>male : single</td>\n",
       "      <td>...</td>\n",
       "      <td>4</td>\n",
       "      <td>if not A121/A122 : car or other, not in attrib...</td>\n",
       "      <td>65</td>\n",
       "      <td>none</td>\n",
       "      <td>own</td>\n",
       "      <td>2</td>\n",
       "      <td>unemployed/ unskilled - non-resident</td>\n",
       "      <td>1</td>\n",
       "      <td>none</td>\n",
       "      <td>yes</td>\n",
       "    </tr>\n",
       "  </tbody>\n",
       "</table>\n",
       "<p>5 rows × 21 columns</p>\n",
       "</div>"
      ],
      "text/plain": [
       "     default account_check_status  duration_in_month  \\\n",
       "681        0  no checking account                 12   \n",
       "990        0  no checking account                 12   \n",
       "155        1               < 0 DM                 12   \n",
       "768        0    0 <= ... < 200 DM                 12   \n",
       "438        0               < 0 DM                 42   \n",
       "\n",
       "                                        credit_history  \\\n",
       "681           existing credits paid back duly till now   \n",
       "990  critical account/ other credits existing (not ...   \n",
       "155           existing credits paid back duly till now   \n",
       "768  critical account/ other credits existing (not ...   \n",
       "438  critical account/ other credits existing (not ...   \n",
       "\n",
       "                          purpose  credit_amount                      savings  \\\n",
       "681           domestic appliances           2279  unknown/ no savings account   \n",
       "990  (vacation - does not exist?)           3565  unknown/ no savings account   \n",
       "155              radio/television           1282                 ... < 100 DM   \n",
       "768              radio/television           3617                 ... < 100 DM   \n",
       "438                     education           3394                 ... < 100 DM   \n",
       "\n",
       "      present_emp_since  installment_as_income_perc  \\\n",
       "681  1 <= ... < 4 years                           4   \n",
       "990       ... < 1 year                            2   \n",
       "155  1 <= ... < 4 years                           2   \n",
       "768       .. >= 7 years                           1   \n",
       "438          unemployed                           4   \n",
       "\n",
       "                     personal_status_sex  ... present_res_since  \\\n",
       "681                        male : single  ...                 4   \n",
       "990                        male : single  ...                 1   \n",
       "155  female : divorced/separated/married  ...                 4   \n",
       "768                        male : single  ...                 4   \n",
       "438                        male : single  ...                 4   \n",
       "\n",
       "                                              property age  \\\n",
       "681                              unknown / no property  37   \n",
       "990  if not A121 : building society savings agreeme...  37   \n",
       "155  if not A121/A122 : car or other, not in attrib...  20   \n",
       "768  if not A121/A122 : car or other, not in attrib...  28   \n",
       "438  if not A121/A122 : car or other, not in attrib...  65   \n",
       "\n",
       "     other_installment_plans   housing credits_this_bank  \\\n",
       "681                     none  for free                 1   \n",
       "990                     none       own                 2   \n",
       "155                     none      rent                 1   \n",
       "768                     none      rent                 3   \n",
       "438                     none       own                 2   \n",
       "\n",
       "                                      job people_under_maintenance  \\\n",
       "681           skilled employee / official                        1   \n",
       "990                  unskilled - resident                        2   \n",
       "155           skilled employee / official                        1   \n",
       "768           skilled employee / official                        1   \n",
       "438  unemployed/ unskilled - non-resident                        1   \n",
       "\n",
       "                                     telephone foreign_worker  \n",
       "681  yes, registered under the customers name             yes  \n",
       "990                                       none            yes  \n",
       "155                                       none            yes  \n",
       "768  yes, registered under the customers name             yes  \n",
       "438                                       none            yes  \n",
       "\n",
       "[5 rows x 21 columns]"
      ]
     },
     "execution_count": 26,
     "metadata": {},
     "output_type": "execute_result"
    }
   ],
   "source": [
    "validation = data.sample(200, random_state = 1234)\n",
    "validation.head()"
   ]
  },
  {
   "cell_type": "code",
   "execution_count": 28,
   "metadata": {
    "ExecuteTime": {
     "end_time": "2019-11-20T04:59:40.567000Z",
     "start_time": "2019-11-20T04:59:40.559500Z"
    }
   },
   "outputs": [],
   "source": [
    "validation = validation.drop(columns='default').reset_index(drop=True)"
   ]
  },
  {
   "cell_type": "code",
   "execution_count": 30,
   "metadata": {
    "ExecuteTime": {
     "end_time": "2019-11-20T05:00:16.614500Z",
     "start_time": "2019-11-20T05:00:16.607000Z"
    }
   },
   "outputs": [],
   "source": [
    "validation.to_json('validation.json')"
   ]
  },
  {
   "cell_type": "code",
   "execution_count": null,
   "metadata": {},
   "outputs": [],
   "source": [
    "#Drop validation data from raw data\n",
    "data = data.drop(validation.index)"
   ]
  },
  {
   "cell_type": "markdown",
   "metadata": {},
   "source": [
    "<div class=title1>\n",
    "    <b><font size='3'>Feature Engineering</font></b>\n",
    "</div>"
   ]
  },
  {
   "cell_type": "code",
   "execution_count": null,
   "metadata": {
    "ExecuteTime": {
     "end_time": "2019-11-01T10:16:08.195000Z",
     "start_time": "2019-11-01T10:16:08.075000Z"
    },
    "collapsed": true
   },
   "outputs": [],
   "source": [
    "def age_group(age):\n",
    "    if age < 35:\n",
    "        return 'Productive'\n",
    "    if age < 50:\n",
    "        return 'Mature'\n",
    "    else:\n",
    "        return 'Old'"
   ]
  },
  {
   "cell_type": "code",
   "execution_count": null,
   "metadata": {
    "ExecuteTime": {
     "end_time": "2019-11-01T10:16:08.330000Z",
     "start_time": "2019-11-01T10:16:08.207500Z"
    },
    "collapsed": true
   },
   "outputs": [],
   "source": [
    "data['age_group'] = data['age'].apply(age_group)"
   ]
  },
  {
   "cell_type": "code",
   "execution_count": null,
   "metadata": {
    "ExecuteTime": {
     "end_time": "2019-11-01T10:16:08.507500Z",
     "start_time": "2019-11-01T10:16:08.335000Z"
    }
   },
   "outputs": [],
   "source": [
    "data.head()"
   ]
  },
  {
   "cell_type": "code",
   "execution_count": null,
   "metadata": {
    "collapsed": true
   },
   "outputs": [],
   "source": [
    "validation['age_group'] = validation['age'].apply(age_group)"
   ]
  },
  {
   "cell_type": "code",
   "execution_count": null,
   "metadata": {},
   "outputs": [],
   "source": [
    "validation.head()"
   ]
  },
  {
   "cell_type": "markdown",
   "metadata": {},
   "source": [
    "<div class=title1>\n",
    "    <b><font size='3'>Train-Test Split</font></b>\n",
    "</div>"
   ]
  },
  {
   "cell_type": "code",
   "execution_count": null,
   "metadata": {
    "collapsed": true
   },
   "outputs": [],
   "source": [
    "from sklearn.preprocessing import StandardScaler\n",
    "\n",
    "xgb_data = data.copy()\n",
    "target = xgb_data['default']\n",
    "temp = xgb_data.drop(['default'], axis = 1)"
   ]
  },
  {
   "cell_type": "code",
   "execution_count": null,
   "metadata": {
    "collapsed": true
   },
   "outputs": [],
   "source": [
    "dummy = temp.select_dtypes(exclude = ['int', 'int64', 'float64'])\n",
    "integer = temp.select_dtypes(include = ['int', 'int64', 'float64'])"
   ]
  },
  {
   "cell_type": "code",
   "execution_count": null,
   "metadata": {
    "collapsed": true
   },
   "outputs": [],
   "source": [
    "dummy2 = pd.get_dummies(dummy, drop_first = True)"
   ]
  },
  {
   "cell_type": "code",
   "execution_count": null,
   "metadata": {
    "collapsed": true
   },
   "outputs": [],
   "source": [
    "xgb_data = pd.concat([integer, dummy2, target], axis = 1)"
   ]
  },
  {
   "cell_type": "code",
   "execution_count": null,
   "metadata": {},
   "outputs": [],
   "source": [
    "X = xgb_data.iloc[:, 0:len(xgb_data.columns)-1]\n",
    "y = xgb_data.iloc[:, len(xgb_data.columns)-1]"
   ]
  },
  {
   "cell_type": "code",
   "execution_count": null,
   "metadata": {
    "collapsed": true
   },
   "outputs": [],
   "source": [
    "valid_data = validation.copy()\n",
    "valid_target = valid_data['default']\n",
    "valid_temp = valid_data.drop(['default'], axis = 1)"
   ]
  },
  {
   "cell_type": "code",
   "execution_count": null,
   "metadata": {},
   "outputs": [],
   "source": [
    "valid_dummy = valid_temp.select_dtypes(exclude = ['int', 'int64', 'float64'])\n",
    "valid_integer = valid_temp.select_dtypes(include = ['int', 'int64', 'float64'])"
   ]
  },
  {
   "cell_type": "code",
   "execution_count": null,
   "metadata": {
    "collapsed": true
   },
   "outputs": [],
   "source": [
    "valid_dummy2 = pd.get_dummies(valid_dummy, drop_first = True)\n",
    "valid_data = pd.concat([valid_integer, valid_dummy2, valid_target], axis = 1)"
   ]
  },
  {
   "cell_type": "code",
   "execution_count": null,
   "metadata": {
    "collapsed": true
   },
   "outputs": [],
   "source": [
    "X_valid = valid_data.iloc[:, 0:len(valid_data.columns)-1]\n",
    "y_valid = valid_data.iloc[:, len(valid_data.columns)-1]"
   ]
  },
  {
   "cell_type": "code",
   "execution_count": null,
   "metadata": {},
   "outputs": [],
   "source": [
    "from sklearn.model_selection import train_test_split\n",
    "\n",
    "X_train, X_test, y_train, y_test = train_test_split(X, y, test_size = 0.2, random_state = 1234)"
   ]
  },
  {
   "cell_type": "code",
   "execution_count": null,
   "metadata": {
    "collapsed": true
   },
   "outputs": [],
   "source": [
    "SC = StandardScaler()\n",
    "X_train = SC.fit_transform(X_train)\n",
    "X_test = SC.fit_transform(X_test)"
   ]
  },
  {
   "cell_type": "markdown",
   "metadata": {},
   "source": [
    "<div class=title1>\n",
    "    <b><font size='3'>Oversampling</font></b>\n",
    "</div>"
   ]
  },
  {
   "cell_type": "code",
   "execution_count": null,
   "metadata": {},
   "outputs": [],
   "source": [
    "from imblearn.over_sampling import SMOTE\n",
    "\n",
    "smt = SMOTE(random_state= 1234)\n",
    "X_train, y_train = smt.fit_sample(X_train, y_train)"
   ]
  },
  {
   "cell_type": "markdown",
   "metadata": {},
   "source": [
    "<div class=title1>\n",
    "    <b><font size='3'>XGBoost Model</font></b>\n",
    "</div>"
   ]
  },
  {
   "cell_type": "code",
   "execution_count": null,
   "metadata": {
    "collapsed": true
   },
   "outputs": [],
   "source": [
    "import xgboost as xgb\n",
    "from xgboost import XGBClassifier\n",
    "#print('XGBoost v',xgb.__version__)\n",
    "\n",
    "# fit, train and cross validate Decision Tree with training and test data \n",
    "def xgbclf(params, X_train, y_train,X_test, y_test):\n",
    "  \n",
    "    eval_set=[(X_train, y_train), (X_test, y_test)]\n",
    "    \n",
    "    model = XGBClassifier(**params).\\\n",
    "      fit(X_train, y_train, eval_set=eval_set, \\\n",
    "                  eval_metric='auc', early_stopping_rounds = 100, verbose=100)\n",
    "        \n",
    "    #print(model.best_ntree_limit)\n",
    "\n",
    "    model.set_params(**{'n_estimators': model.best_ntree_limit})\n",
    "    model.fit(X_train, y_train)\n",
    "    #print(model,'\\n')\n",
    "    \n",
    "    # Predict target variables y for test data\n",
    "    y_pred = model.predict(X_test, ntree_limit=model.best_ntree_limit) #model.best_iteration\n",
    "    #print(y_pred)\n",
    "   \n",
    "    # Get Cross Validation and Confusion matrix\n",
    "    #get_eval(model, X_train, y_train)\n",
    "    #get_eval2(model, X_train, y_train,X_test, y_test)\n",
    "    \n",
    "    # Create and print confusion matrix    \n",
    "    abclf_cm = confusion_matrix(y_test,y_pred)\n",
    "    print(abclf_cm)\n",
    "    \n",
    "    #y_pred = model.predict(X_test)\n",
    "    print (metrics.classification_report(y_test,y_pred) )\n",
    "    print ('\\n')\n",
    "    print (\"Model Final Generalization Accuracy: %.6f\" %metrics.accuracy_score(y_test,y_pred) )\n",
    "    \n",
    "    # Predict probabilities target variables y for test data\n",
    "    y_pred_proba = model.predict_proba(X_test, ntree_limit=model.best_ntree_limit)[:,1] #model.best_iteration\n",
    "    get_roc (y_test,y_pred_proba)\n",
    "    return model\n",
    "\n",
    "def plot_featureImportance(model, keys):\n",
    "  importances = model.feature_importances_\n",
    "\n",
    "  importance_frame = pd.DataFrame({'Importance': list(importances), 'Feature': list(keys)})\n",
    "  importance_frame.sort_values(by = 'Importance', inplace = True)\n",
    "  importance_frame.tail(10).plot(kind = 'barh', x = 'Feature', figsize = (8,8), color = 'orange')"
   ]
  },
  {
   "cell_type": "markdown",
   "metadata": {},
   "source": [
    "<div class=title1>\n",
    "    <b><font size='3'>Model Accuracy</font></b>\n",
    "</div>"
   ]
  },
  {
   "cell_type": "code",
   "execution_count": null,
   "metadata": {
    "collapsed": true
   },
   "outputs": [],
   "source": [
    "def get_roc (y_test,y_pred):\n",
    "    # Compute ROC curve and ROC area for each class\n",
    "    fpr = dict()\n",
    "    tpr = dict()\n",
    "    roc_auc = dict()\n",
    "    fpr, tpr, _ = metrics.roc_curve(y_test, y_pred)\n",
    "    roc_auc = metrics.auc(fpr, tpr)\n",
    "    #Plot of a ROC curve\n",
    "    plt.figure()\n",
    "    lw = 2\n",
    "    plt.plot(fpr, tpr, color='darkorange',\n",
    "             label='ROC curve (area = %0.2f)' % roc_auc)\n",
    "    plt.plot([0, 1], [0, 1], color='navy', lw=lw, linestyle='--')\n",
    "    plt.xlim([0.0, 1.0])\n",
    "    plt.ylim([0.0, 1.0])\n",
    "    plt.xlabel('False Positive Rate')\n",
    "    plt.ylabel('True Positive Rate')\n",
    "    plt.title('Receiver operating characteristic')\n",
    "    plt.legend(loc=\"upper left\")\n",
    "    plt.show()\n",
    "    return"
   ]
  },
  {
   "cell_type": "markdown",
   "metadata": {},
   "source": [
    "<div class=title1>\n",
    "    <b><font size='3'>XGBoost Model Test</font></b>\n",
    "</div>"
   ]
  },
  {
   "cell_type": "code",
   "execution_count": null,
   "metadata": {},
   "outputs": [],
   "source": [
    "params={}\n",
    "\n",
    "params1={\n",
    "    'n_estimators':3000,\n",
    "    'objective': 'binary:logistic',\n",
    "    'learning_rate': 0.05,\n",
    "    'gamma':0.1,\n",
    "    'subsample':0.8,\n",
    "    'colsample_bytree':0.3,\n",
    "    'min_child_weight':3,\n",
    "    'max_depth':3,\n",
    "    #'seed':1024,\n",
    "    'n_jobs' : -1\n",
    "}\n",
    "\n",
    "params2={\n",
    "    'n_estimators':3000,\n",
    "    'objective': 'binary:logistic',\n",
    "    'learning_rate': 0.005,\n",
    "    #'gamma':0.01,\n",
    "    'subsample':0.555,\n",
    "    'colsample_bytree':0.7,\n",
    "    'min_child_weight':3,\n",
    "    'max_depth':8,\n",
    "    #'seed':1024,\n",
    "    'n_jobs' : -1\n",
    "}\n",
    "\n",
    "xgbclf(params2, X_train, y_train, X_test, y_test)"
   ]
  },
  {
   "cell_type": "code",
   "execution_count": null,
   "metadata": {},
   "outputs": [],
   "source": [
    "eval_set=[(X_train, y_train), (X_test, y_test)]\n",
    "    \n",
    "model = XGBClassifier(**params).\\\n",
    "fit(X_train, y_train, eval_set=eval_set, \\\n",
    "eval_metric='auc', early_stopping_rounds = 100, verbose=100)\n",
    "        \n",
    "    #print(model.best_ntree_limit)\n",
    "model.set_params(**{'n_estimators': model.best_ntree_limit})\n",
    "model.fit(X_train, y_train)"
   ]
  },
  {
   "cell_type": "markdown",
   "metadata": {},
   "source": [
    "<div class=title1>\n",
    "    <b><font size='3'>Dump Model on Pickle</font></b>\n",
    "</div>"
   ]
  },
  {
   "cell_type": "code",
   "execution_count": null,
   "metadata": {},
   "outputs": [],
   "source": [
    "pickle.dump(model, open('model_xgb.pkl','wb'))"
   ]
  }
 ],
 "metadata": {
  "hide_input": false,
  "kernelspec": {
   "display_name": "Python 3",
   "language": "python",
   "name": "python3"
  },
  "language_info": {
   "codemirror_mode": {
    "name": "ipython",
    "version": 3
   },
   "file_extension": ".py",
   "mimetype": "text/x-python",
   "name": "python",
   "nbconvert_exporter": "python",
   "pygments_lexer": "ipython3",
   "version": "3.7.4"
  },
  "toc": {
   "base_numbering": 1,
   "nav_menu": {},
   "number_sections": true,
   "sideBar": true,
   "skip_h1_title": false,
   "title_cell": "Table of Contents",
   "title_sidebar": "Contents",
   "toc_cell": false,
   "toc_position": {
    "height": "calc(100% - 180px)",
    "left": "10px",
    "top": "150px",
    "width": "341.484px"
   },
   "toc_section_display": true,
   "toc_window_display": false
  }
 },
 "nbformat": 4,
 "nbformat_minor": 2
}
