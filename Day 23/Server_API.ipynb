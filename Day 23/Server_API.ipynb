{
 "cells": [
  {
   "cell_type": "markdown",
   "metadata": {},
   "source": [
    "<div class=title>\n",
    "<strong><center><font size=\"3\">DAY 23 - IYKRA</font></center>\n",
    "<hr>\n",
    "<center><font size=\"5\"><strong>Data Science Bootcamp</strong></font></center>\n",
    "<center><font size=\"4\"><strong>Applied Machine Learning: Server</strong></font></center>\n",
    "<hr>\n",
    "<p style=\"text-align:center\">Author</p>\n",
    "<center>Joshua Effendi and Gilang Mahardika</center>\n",
    "<p style=\"text-align:center\">Date:</p>\n",
    "<center>20 November 2019</center></strong>\n",
    "</div>"
   ]
  },
  {
   "cell_type": "code",
   "execution_count": 1,
   "metadata": {
    "ExecuteTime": {
     "end_time": "2019-11-20T02:18:13.783000Z",
     "start_time": "2019-11-20T02:18:13.767000Z"
    }
   },
   "outputs": [
    {
     "data": {
      "text/html": [
       "<style>\n",
       "div.cbox {\n",
       "    background-color: #ADD8E6;\n",
       "    padding: 0.5em;\n",
       "    text-align: justify;\n",
       "    text-justify: inter-word;\n",
       "    }\n",
       "div.title {\n",
       "    background-color: #90EE90;\n",
       "    padding: 0.5em;\n",
       "    }\n",
       "div.title2 {\n",
       "    background-color: #01D848;\n",
       "    padding: 0.5em;\n",
       "    }\n",
       "div.title1 {\n",
       "    background-color: #AADDAA;\n",
       "    padding: 0.5em;\n",
       "    }\n",
       "</style>"
      ],
      "text/plain": [
       "<IPython.core.display.HTML object>"
      ]
     },
     "execution_count": 1,
     "metadata": {},
     "output_type": "execute_result"
    }
   ],
   "source": [
    "import warnings\n",
    "warnings.filterwarnings(\"ignore\")\n",
    "\n",
    "from IPython.core.display import HTML\n",
    "\n",
    "def css_styling():\n",
    "    styles = open(\"./styles/custom.css\", \"r\").read()\n",
    "    return HTML(styles)\n",
    "css_styling()"
   ]
  },
  {
   "cell_type": "markdown",
   "metadata": {},
   "source": [
    "<div class=title1>\n",
    "    <b><font size='3'>Import Libraries</font></b>\n",
    "</div>\n",
    "<div class=title2>\n",
    "    <b><font size='2'>Import libraries that are needed to run the server</font></b>\n",
    "</div>"
   ]
  },
  {
   "cell_type": "code",
   "execution_count": null,
   "metadata": {
    "ExecuteTime": {
     "end_time": "2019-11-20T02:17:55.234000Z",
     "start_time": "2019-11-20T02:17:55.231000Z"
    }
   },
   "outputs": [],
   "source": [
    "from flask import Flask, request, jsonify #To handle the communication\n",
    "import pickle #To open imported model in the server\n",
    "app = Flask(__name__)"
   ]
  },
  {
   "cell_type": "markdown",
   "metadata": {},
   "source": [
    "<div class=title1>\n",
    "    <b><font size='3'>Load Model</font></b>\n",
    "</div>\n",
    "<div class=title2>\n",
    "    <b><font size='2'>Load existing model that is saved in a pickle file</font></b>\n",
    "</div>"
   ]
  },
  {
   "cell_type": "code",
   "execution_count": null,
   "metadata": {
    "ExecuteTime": {
     "end_time": "2019-11-20T02:17:55.591000Z",
     "start_time": "2019-11-20T02:17:55.579000Z"
    }
   },
   "outputs": [],
   "source": [
    "model = pickle.load(open('model_xgb.pkl','rb'))"
   ]
  },
  {
   "cell_type": "markdown",
   "metadata": {},
   "source": [
    "<div class=title1>\n",
    "    <b><font size='3'>Setup Connection Method System</font></b>\n",
    "</div>\n",
    "<div class=title2>\n",
    "    <b><font size='2'>Setup the connection of the server using the method POST to send data from the server</font></b>\n",
    "</div>"
   ]
  },
  {
   "cell_type": "code",
   "execution_count": null,
   "metadata": {
    "ExecuteTime": {
     "end_time": "2019-11-20T02:17:56.434000Z",
     "start_time": "2019-11-20T02:17:56.430000Z"
    }
   },
   "outputs": [],
   "source": [
    "@app.route('/api',methods=['POST'])"
   ]
  },
  {
   "cell_type": "markdown",
   "metadata": {},
   "source": [
    "<div class=title1>\n",
    "    <b><font size='3'>Function of Model Prediction</font></b>\n",
    "</div>\n",
    "<div class=title2>\n",
    "    <b><font size='2'>Create a function that give prediction from a loaded model that are requested from the clients' side</font></b>\n",
    "</div>"
   ]
  },
  {
   "cell_type": "code",
   "execution_count": null,
   "metadata": {
    "ExecuteTime": {
     "end_time": "2019-11-20T02:17:45.358000Z",
     "start_time": "2019-11-20T02:17:45.352000Z"
    }
   },
   "outputs": [],
   "source": [
    "def predict():\n",
    "    # Get the data from the POST request.\n",
    "    data = request.get_json(force=True)\n",
    "    \n",
    "    # Transform JSON into DataFrame\n",
    "    data = pd.DataFrame.from_dict(data)\n",
    "    \n",
    "    def age_group(age):\n",
    "        if age < 35:\n",
    "            return 'Productive'\n",
    "        if age < 50:\n",
    "            return 'Mature'\n",
    "        else:\n",
    "            return 'Old'\n",
    "    \n",
    "    # Apply function of age_group to DataFrame\n",
    "    data['age_group'] = data['age'].apply(age_group)\n",
    "    \n",
    "    # Prepare data by teir data types\n",
    "    dummy = data.select_dtypes(exclude = ['int', 'int64', 'float64'])\n",
    "    integer = data.select_dtypes(include = ['int', 'int64', 'float64'])\n",
    "    \n",
    "    # Do OHE on dummy\n",
    "    dummy2 = pd.get_dummies(dummy, drop_first = True)\n",
    "    \n",
    "    # Join the data from the integer part and also the OHE part\n",
    "    data = pd.concat([integer, dummy2], axis = 1)\n",
    "    \n",
    "    # Setup StandardScaler\n",
    "    SC = StandardScaler()\n",
    "    \n",
    "    #Do StandardScaler to Data\n",
    "    data = SC.fit_transform(data)\n",
    "\n",
    "    # Make prediction using model loaded from disk as per the data.\n",
    "    prediction = model.predict(data)\n",
    "\n",
    "    # Take the first value of prediction\n",
    "    output = prediction.tolist()\n",
    "\n",
    "    return jsonify(output)"
   ]
  },
  {
   "cell_type": "markdown",
   "metadata": {},
   "source": [
    "<div class=title1>\n",
    "    <b><font size='3'>Setup the Port Connection</font></b>\n",
    "</div>\n",
    "<div class=title2>\n",
    "    <b><font size='2'>Setup the desired port and try to run the server, if it's disconnect, print \"Server got disconnected\"</font></b>\n",
    "</div>"
   ]
  },
  {
   "cell_type": "code",
   "execution_count": null,
   "metadata": {
    "ExecuteTime": {
     "end_time": "2019-11-20T02:17:47.826000Z",
     "start_time": "2019-11-20T02:17:46.748000Z"
    }
   },
   "outputs": [],
   "source": [
    "if __name__ == '__main__':\n",
    "    try:\n",
    "        app.run(port=1234, debug=True)\n",
    "    except:\n",
    "        print(\"Server is exited unexpectedly. Please contact server admin.\")"
   ]
  }
 ],
 "metadata": {
  "hide_input": false,
  "kernelspec": {
   "display_name": "Python 3",
   "language": "python",
   "name": "python3"
  },
  "language_info": {
   "codemirror_mode": {
    "name": "ipython",
    "version": 3
   },
   "file_extension": ".py",
   "mimetype": "text/x-python",
   "name": "python",
   "nbconvert_exporter": "python",
   "pygments_lexer": "ipython3",
   "version": "3.7.4"
  },
  "toc": {
   "base_numbering": 1,
   "nav_menu": {},
   "number_sections": true,
   "sideBar": true,
   "skip_h1_title": false,
   "title_cell": "Table of Contents",
   "title_sidebar": "Contents",
   "toc_cell": false,
   "toc_position": {},
   "toc_section_display": true,
   "toc_window_display": false
  }
 },
 "nbformat": 4,
 "nbformat_minor": 2
}
