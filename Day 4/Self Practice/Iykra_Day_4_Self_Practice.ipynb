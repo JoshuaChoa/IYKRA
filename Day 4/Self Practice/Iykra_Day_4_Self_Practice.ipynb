{
 "cells": [
  {
   "cell_type": "markdown",
   "metadata": {},
   "source": [
    " # <center>DAY 4 - IYKRA</center>\n",
    "<center><font size=\"5\"><strong>Practice Case 01</strong></font></center>\n",
    "<center><font size=\"4\"><strong>Initial Data Analysis of German Credit Score Dataset</strong></font></center>\n",
    "<hr>\n",
    "<p style=\"text-align:center\"> **Author**</p>\n",
    "<center>**Joshua Effendi**</center>\n",
    "<p style=\"text-align:center\"> **Date:**</p>\n",
    "<center>**24 October 2019**</center>"
   ]
  },
  {
   "cell_type": "markdown",
   "metadata": {},
   "source": [
    "<font size=\"3\"><strong>Practice Case 1</strong></font></center>"
   ]
  },
  {
   "cell_type": "code",
   "execution_count": 1,
   "metadata": {},
   "outputs": [
    {
     "data": {
      "text/html": [
       "        <script type=\"text/javascript\">\n",
       "        window.PlotlyConfig = {MathJaxConfig: 'local'};\n",
       "        if (window.MathJax) {MathJax.Hub.Config({SVG: {font: \"STIX-Web\"}});}\n",
       "        if (typeof require !== 'undefined') {\n",
       "        require.undef(\"plotly\");\n",
       "        requirejs.config({\n",
       "            paths: {\n",
       "                'plotly': ['https://cdn.plot.ly/plotly-latest.min']\n",
       "            }\n",
       "        });\n",
       "        require(['plotly'], function(Plotly) {\n",
       "            window._Plotly = Plotly;\n",
       "        });\n",
       "        }\n",
       "        </script>\n",
       "        "
      ]
     },
     "metadata": {},
     "output_type": "display_data"
    }
   ],
   "source": [
    "import numpy as np\n",
    "import pandas as pd\n",
    "import matplotlib.pyplot as plt\n",
    "import seaborn as sns\n",
    "import plotly.offline as py\n",
    "py.init_notebook_mode(connected=True)\n",
    "import plotly.graph_objs as go\n",
    "import plotly.tools as tls\n",
    "import warnings\n",
    "warnings.filterwarnings(\"ignore\")\n",
    "\n",
    "df = pd.read_csv(\"https://raw.githubusercontent.com/arikunco/GermanCredit/master/dataset/german_credit_data_with_risk.csv\")\n",
    "df = df.loc[:, ~df.columns.str.contains('^Unnamed')]"
   ]
  },
  {
   "cell_type": "code",
   "execution_count": 2,
   "metadata": {},
   "outputs": [
    {
     "data": {
      "text/html": [
       "<div>\n",
       "<style>\n",
       "    .dataframe thead tr:only-child th {\n",
       "        text-align: right;\n",
       "    }\n",
       "\n",
       "    .dataframe thead th {\n",
       "        text-align: left;\n",
       "    }\n",
       "\n",
       "    .dataframe tbody tr th {\n",
       "        vertical-align: top;\n",
       "    }\n",
       "</style>\n",
       "<table border=\"1\" class=\"dataframe\">\n",
       "  <thead>\n",
       "    <tr style=\"text-align: right;\">\n",
       "      <th></th>\n",
       "      <th>Age</th>\n",
       "      <th>Sex</th>\n",
       "      <th>Job</th>\n",
       "      <th>Housing</th>\n",
       "      <th>Saving accounts</th>\n",
       "      <th>Checking account</th>\n",
       "      <th>Credit amount</th>\n",
       "      <th>Duration</th>\n",
       "      <th>Purpose</th>\n",
       "      <th>Risk</th>\n",
       "    </tr>\n",
       "  </thead>\n",
       "  <tbody>\n",
       "    <tr>\n",
       "      <th>0</th>\n",
       "      <td>67</td>\n",
       "      <td>male</td>\n",
       "      <td>2</td>\n",
       "      <td>own</td>\n",
       "      <td>NaN</td>\n",
       "      <td>little</td>\n",
       "      <td>1169</td>\n",
       "      <td>6</td>\n",
       "      <td>radio/TV</td>\n",
       "      <td>good</td>\n",
       "    </tr>\n",
       "    <tr>\n",
       "      <th>1</th>\n",
       "      <td>22</td>\n",
       "      <td>female</td>\n",
       "      <td>2</td>\n",
       "      <td>own</td>\n",
       "      <td>little</td>\n",
       "      <td>moderate</td>\n",
       "      <td>5951</td>\n",
       "      <td>48</td>\n",
       "      <td>radio/TV</td>\n",
       "      <td>bad</td>\n",
       "    </tr>\n",
       "    <tr>\n",
       "      <th>2</th>\n",
       "      <td>49</td>\n",
       "      <td>male</td>\n",
       "      <td>1</td>\n",
       "      <td>own</td>\n",
       "      <td>little</td>\n",
       "      <td>NaN</td>\n",
       "      <td>2096</td>\n",
       "      <td>12</td>\n",
       "      <td>education</td>\n",
       "      <td>good</td>\n",
       "    </tr>\n",
       "    <tr>\n",
       "      <th>3</th>\n",
       "      <td>45</td>\n",
       "      <td>male</td>\n",
       "      <td>2</td>\n",
       "      <td>free</td>\n",
       "      <td>little</td>\n",
       "      <td>little</td>\n",
       "      <td>7882</td>\n",
       "      <td>42</td>\n",
       "      <td>furniture/equipment</td>\n",
       "      <td>good</td>\n",
       "    </tr>\n",
       "    <tr>\n",
       "      <th>4</th>\n",
       "      <td>53</td>\n",
       "      <td>male</td>\n",
       "      <td>2</td>\n",
       "      <td>free</td>\n",
       "      <td>little</td>\n",
       "      <td>little</td>\n",
       "      <td>4870</td>\n",
       "      <td>24</td>\n",
       "      <td>car</td>\n",
       "      <td>bad</td>\n",
       "    </tr>\n",
       "  </tbody>\n",
       "</table>\n",
       "</div>"
      ],
      "text/plain": [
       "   Age     Sex  Job Housing Saving accounts Checking account  Credit amount  \\\n",
       "0   67    male    2     own             NaN           little           1169   \n",
       "1   22  female    2     own          little         moderate           5951   \n",
       "2   49    male    1     own          little              NaN           2096   \n",
       "3   45    male    2    free          little           little           7882   \n",
       "4   53    male    2    free          little           little           4870   \n",
       "\n",
       "   Duration              Purpose  Risk  \n",
       "0         6             radio/TV  good  \n",
       "1        48             radio/TV   bad  \n",
       "2        12            education  good  \n",
       "3        42  furniture/equipment  good  \n",
       "4        24                  car   bad  "
      ]
     },
     "execution_count": 2,
     "metadata": {},
     "output_type": "execute_result"
    }
   ],
   "source": [
    "df.head()"
   ]
  },
  {
   "cell_type": "markdown",
   "metadata": {},
   "source": [
    "<font size=\"2\"><strong>Part A</strong></font></center>"
   ]
  },
  {
   "cell_type": "markdown",
   "metadata": {},
   "source": [
    "**1. How many rows and columns reflected in the dataset?**"
   ]
  },
  {
   "cell_type": "code",
   "execution_count": 3,
   "metadata": {},
   "outputs": [
    {
     "name": "stdout",
     "output_type": "stream",
     "text": [
      "Rows in data set: 1000 and Columns in data set: 10\n"
     ]
    }
   ],
   "source": [
    "print(\"Rows in data set: {} and Columns in data set: {}\".format(df.shape[0],df.shape[1]))"
   ]
  },
  {
   "cell_type": "markdown",
   "metadata": {},
   "source": [
    "**2. What is the minimum, maximum, and mean of the customer's age? **"
   ]
  },
  {
   "cell_type": "code",
   "execution_count": 4,
   "metadata": {},
   "outputs": [
    {
     "name": "stdout",
     "output_type": "stream",
     "text": [
      "Minimum age: 19, Maximum age: 75, Mean age: 35.546\n"
     ]
    }
   ],
   "source": [
    "print('Minimum age: {}, Maximum age: {}, Mean age: {}'.format(df.Age.min(),df.Age.max(),df.Age.mean()))"
   ]
  },
  {
   "cell_type": "markdown",
   "metadata": {},
   "source": [
    "**3. How many are male and how many are female? Why?**"
   ]
  },
  {
   "cell_type": "code",
   "execution_count": 5,
   "metadata": {},
   "outputs": [
    {
     "name": "stdout",
     "output_type": "stream",
     "text": [
      "Male: 690 and Female: 310\n",
      "Why? I don't know. But, perhaps due to the most of them are married, maybe the husband bought something for his family.\n"
     ]
    }
   ],
   "source": [
    "print('Male: {} and Female: {}'.format(df[df.Sex=='male'].count()['Sex'],df[df.Sex=='female'].count()['Sex']))\n",
    "print('Why? I don\\'t know. But, perhaps due to the most of them are married, maybe the husband bought something for his \\\n",
    "family.')"
   ]
  },
  {
   "cell_type": "markdown",
   "metadata": {},
   "source": [
    "**4. How many high skilled workers customers reflected in the dataset?**"
   ]
  },
  {
   "cell_type": "code",
   "execution_count": 6,
   "metadata": {},
   "outputs": [
    {
     "name": "stdout",
     "output_type": "stream",
     "text": [
      "High skilled workers: 148 and Un-skilled workers: 852\n"
     ]
    }
   ],
   "source": [
    "print(\"High skilled workers: {} \\\n",
    "and Un-skilled workers: {}\\\n",
    "\".format(df[df.Job==3].count()['Job'],df[df.Job!=3].count()['Job']))"
   ]
  },
  {
   "cell_type": "markdown",
   "metadata": {},
   "source": [
    "**5. How many customers who own the house? **"
   ]
  },
  {
   "cell_type": "code",
   "execution_count": 7,
   "metadata": {},
   "outputs": [
    {
     "name": "stdout",
     "output_type": "stream",
     "text": [
      "Customers who owned house: 713\n"
     ]
    }
   ],
   "source": [
    "print('Customers who owned house: {}'.format(df[df.Housing=='own'].count().Housing))"
   ]
  },
  {
   "cell_type": "markdown",
   "metadata": {},
   "source": [
    "**6. How many customers who have 'rich' Saving accounts?**"
   ]
  },
  {
   "cell_type": "code",
   "execution_count": 8,
   "metadata": {},
   "outputs": [
    {
     "name": "stdout",
     "output_type": "stream",
     "text": [
      "Customers who had 'rich' saving accounts: 48\n"
     ]
    }
   ],
   "source": [
    "print('Customers who had \\'rich\\' saving accounts: {}'.format(df[df['Saving accounts']=='rich'].count()['Saving accounts']))"
   ]
  },
  {
   "cell_type": "markdown",
   "metadata": {},
   "source": [
    "**7. How many customers who do not have checking accounts or have zero checking account?**"
   ]
  },
  {
   "cell_type": "code",
   "execution_count": 9,
   "metadata": {},
   "outputs": [
    {
     "name": "stdout",
     "output_type": "stream",
     "text": [
      "I don't know as the type of the column is string and it has uniques values: ['little' 'moderate' nan 'rich']\n"
     ]
    }
   ],
   "source": [
    "print('I don\\'t know as the type of the column is string and it has uniques values: {}'.format(df['Checking account'].unique()))"
   ]
  },
  {
   "attachments": {},
   "cell_type": "markdown",
   "metadata": {},
   "source": [
    "But as based on the data of German Credit Data in UCI, the Nan is mark as no checking account. So... < 0DM is == 0DM and Little,  0 <= ... < 200 DM is 0 < ... < 200 DM is also moderate, and >= 200 DM / salary assignments for at least 1 year is rich."
   ]
  },
  {
   "cell_type": "code",
   "execution_count": 10,
   "metadata": {},
   "outputs": [
    {
     "name": "stdout",
     "output_type": "stream",
     "text": [
      "The customers who do not have checking accounts: 394, the customers who have zero checking accounts: 274 and both of them: 668\n"
     ]
    }
   ],
   "source": [
    "print('The customers who do not have checking accounts: {}, \\\n",
    "the customers who have zero checking accounts: {} \\\n",
    "and both of them: {}'.format(df['Checking account'].isnull().sum(),\\\n",
    "                            df[df['Checking account']=='little'].count()['Checking account'],\\\n",
    "                            df[df['Checking account']=='little'].count()['Checking account']\\\n",
    "                             +df['Checking account'].isnull().sum()))"
   ]
  },
  {
   "cell_type": "markdown",
   "metadata": {},
   "source": [
    "**8. Who is the one who have highest credit amount? Show us the profile of the age, sex, job, housing, saving account, and checking account!**"
   ]
  },
  {
   "cell_type": "code",
   "execution_count": 11,
   "metadata": {},
   "outputs": [
    {
     "name": "stdout",
     "output_type": "stream",
     "text": [
      "Customer characteristic with highest credit amount:\n"
     ]
    },
    {
     "data": {
      "text/html": [
       "<div>\n",
       "<style>\n",
       "    .dataframe thead tr:only-child th {\n",
       "        text-align: right;\n",
       "    }\n",
       "\n",
       "    .dataframe thead th {\n",
       "        text-align: left;\n",
       "    }\n",
       "\n",
       "    .dataframe tbody tr th {\n",
       "        vertical-align: top;\n",
       "    }\n",
       "</style>\n",
       "<table border=\"1\" class=\"dataframe\">\n",
       "  <thead>\n",
       "    <tr style=\"text-align: right;\">\n",
       "      <th></th>\n",
       "      <th>Age</th>\n",
       "      <th>Sex</th>\n",
       "      <th>Job</th>\n",
       "      <th>Housing</th>\n",
       "      <th>Saving accounts</th>\n",
       "      <th>Checking account</th>\n",
       "    </tr>\n",
       "  </thead>\n",
       "  <tbody>\n",
       "    <tr>\n",
       "      <th>0</th>\n",
       "      <td>32</td>\n",
       "      <td>female</td>\n",
       "      <td>3</td>\n",
       "      <td>own</td>\n",
       "      <td>little</td>\n",
       "      <td>moderate</td>\n",
       "    </tr>\n",
       "  </tbody>\n",
       "</table>\n",
       "</div>"
      ],
      "text/plain": [
       "   Age     Sex  Job Housing Saving accounts Checking account\n",
       "0   32  female    3     own          little         moderate"
      ]
     },
     "metadata": {},
     "output_type": "display_data"
    }
   ],
   "source": [
    "print(\"Customer characteristic with highest credit amount:\")\n",
    "display(df[df['Credit amount'] == df['Credit amount'].max()]\\\n",
    "        [['Age','Sex','Job','Housing','Saving accounts','Checking account']].reset_index(drop=True))"
   ]
  },
  {
   "cell_type": "markdown",
   "metadata": {},
   "source": [
    "**9. How many customers are classified as good risk and bad risk?**"
   ]
  },
  {
   "cell_type": "code",
   "execution_count": 12,
   "metadata": {},
   "outputs": [
    {
     "name": "stdout",
     "output_type": "stream",
     "text": [
      "Customers that have good risk: 700 and bad risk: 300\n"
     ]
    }
   ],
   "source": [
    "print('Customers that have good risk: {} and bad risk: {}'\\\n",
    "      .format(df[df.Risk=='good'].count().Risk,df[df.Risk=='bad'].count().Risk))"
   ]
  },
  {
   "cell_type": "markdown",
   "metadata": {},
   "source": [
    "**10. Is the average of credit amount for good risk is higher than bad risk?**"
   ]
  },
  {
   "cell_type": "code",
   "execution_count": 13,
   "metadata": {},
   "outputs": [
    {
     "name": "stdout",
     "output_type": "stream",
     "text": [
      "No, as the average credit amount for the good customer is 2985.457142857143 and for the bad customer 3938.1266666666666\n"
     ]
    }
   ],
   "source": [
    "x = df[df.Risk=='good']['Credit amount'].mean()\n",
    "y = df[df.Risk=='bad']['Credit amount'].mean()\n",
    "if x > y:\n",
    "    print('Yes, as the average credit amount for the good customer is {} and for the bad customer {}'.format(x,y))\n",
    "elif x < y:\n",
    "    print('No, as the average credit amount for the good customer is {} and for the bad customer {}'.format(x,y))\n",
    "else:\n",
    "    print('No, they have the same average value of credit amount {}'.format(x))"
   ]
  },
  {
   "cell_type": "markdown",
   "metadata": {},
   "source": [
    "***"
   ]
  },
  {
   "cell_type": "markdown",
   "metadata": {},
   "source": [
    "<font size=\"2\"><strong>Part B</strong></font></center>"
   ]
  },
  {
   "cell_type": "markdown",
   "metadata": {},
   "source": [
    "**1. Features those had high correlation? How many of them?**"
   ]
  },
  {
   "cell_type": "code",
   "execution_count": 14,
   "metadata": {},
   "outputs": [
    {
     "data": {
      "image/png": "[encoded data removed]",
      "text/plain": [
       "<matplotlib.figure.Figure at 0xdf97f60>"
      ]
     },
     "metadata": {},
     "output_type": "display_data"
    }
   ],
   "source": [
    "corr = df.corr(method = 'pearson')\n",
    "mask = np.array(corr)\n",
    "mask[np.tril_indices_from(mask)] = False\n",
    "fig, ax = plt.subplots(figsize = (15,12))\n",
    "fig.set_size_inches(20,20)\n",
    "sns.heatmap(corr, mask = mask, vmax = 0.9, square = True, annot = True)\n",
    "plt.show()"
   ]
  },
  {
   "cell_type": "markdown",
   "metadata": {},
   "source": [
    "As you see in the heat map, the only variables that are highly correlated to each other are Duration and Credit Amount. As this is normal and make sense as the higher the credit amount the higher the duration of tenor."
   ]
  },
  {
   "cell_type": "markdown",
   "metadata": {},
   "source": [
    "**2. Is there any correlation between Age and Risk?**"
   ]
  },
  {
   "cell_type": "code",
   "execution_count": 15,
   "metadata": {},
   "outputs": [
    {
     "data": {
      "application/vnd.plotly.v1+json": {
       "config": {
        "linkText": "Export to plot.ly",
        "plotlyServerURL": "https://plot.ly",
        "showLink": false
       },
       "data": [
        {
         "histnorm": "probability",
         "name": "Good Credit",
         "type": "histogram",
         "x": [
          19,
          20,
          20,
          20,
          20,
          20,
          20,
          20,
          20,
          20,
          21,
          21,
          21,
          21,
          21,
          21,
          21,
          21,
          21,
          22,
          22,
          22,
          22,
          22,
          22,
          22,
          22,
          22,
          22,
          22,
          22,
          22,
          22,
          22,
          22,
          23,
          23,
          23,
          23,
          23,
          23,
          23,
          23,
          23,
          23,
          23,
          23,
          23,
          23,
          23,
          23,
          23,
          23,
          23,
          23,
          23,
          23,
          23,
          23,
          23,
          23,
          23,
          23,
          24,
          24,
          24,
          24,
          24,
          24,
          24,
          24,
          24,
          24,
          24,
          24,
          24,
          24,
          24,
          24,
          24,
          24,
          24,
          24,
          24,
          24,
          24,
          24,
          24,
          25,
          25,
          25,
          25,
          25,
          25,
          25,
          25,
          25,
          25,
          25,
          25,
          25,
          25,
          25,
          25,
          25,
          25,
          25,
          25,
          25,
          25,
          26,
          26,
          26,
          26,
          26,
          26,
          26,
          26,
          26,
          26,
          26,
          26,
          26,
          26,
          26,
          26,
          26,
          26,
          26,
          26,
          26,
          26,
          26,
          26,
          26,
          26,
          26,
          26,
          26,
          26,
          26,
          26,
          26,
          26,
          26,
          26,
          27,
          27,
          27,
          27,
          27,
          27,
          27,
          27,
          27,
          27,
          27,
          27,
          27,
          27,
          27,
          27,
          27,
          27,
          27,
          27,
          27,
          27,
          27,
          27,
          27,
          27,
          27,
          27,
          27,
          27,
          27,
          27,
          27,
          27,
          27,
          27,
          27,
          27,
          28,
          28,
          28,
          28,
          28,
          28,
          28,
          28,
          28,
          28,
          28,
          28,
          28,
          28,
          28,
          28,
          28,
          28,
          28,
          28,
          28,
          28,
          28,
          28,
          28,
          28,
          28,
          28,
          29,
          29,
          29,
          29,
          29,
          29,
          29,
          29,
          29,
          29,
          29,
          29,
          29,
          29,
          29,
          29,
          29,
          29,
          29,
          29,
          29,
          29,
          30,
          30,
          30,
          30,
          30,
          30,
          30,
          30,
          30,
          30,
          30,
          30,
          30,
          30,
          30,
          30,
          30,
          30,
          30,
          30,
          30,
          30,
          30,
          30,
          30,
          30,
          30,
          30,
          30,
          31,
          31,
          31,
          31,
          31,
          31,
          31,
          31,
          31,
          31,
          31,
          31,
          31,
          31,
          31,
          31,
          31,
          31,
          31,
          31,
          31,
          31,
          31,
          31,
          31,
          31,
          31,
          32,
          32,
          32,
          32,
          32,
          32,
          32,
          32,
          32,
          32,
          32,
          32,
          32,
          32,
          32,
          32,
          32,
          32,
          32,
          32,
          32,
          32,
          32,
          32,
          32,
          33,
          33,
          33,
          33,
          33,
          33,
          33,
          33,
          33,
          33,
          33,
          33,
          33,
          33,
          33,
          33,
          33,
          33,
          33,
          33,
          34,
          34,
          34,
          34,
          34,
          34,
          34,
          34,
          34,
          34,
          34,
          34,
          34,
          34,
          34,
          34,
          34,
          34,
          34,
          34,
          34,
          35,
          35,
          35,
          35,
          35,
          35,
          35,
          35,
          35,
          35,
          35,
          35,
          35,
          35,
          35,
          35,
          35,
          35,
          35,
          35,
          35,
          35,
          35,
          35,
          35,
          35,
          35,
          35,
          35,
          35,
          35,
          35,
          35,
          35,
          36,
          36,
          36,
          36,
          36,
          36,
          36,
          36,
          36,
          36,
          36,
          36,
          36,
          36,
          36,
          36,
          36,
          36,
          36,
          36,
          36,
          36,
          36,
          36,
          36,
          36,
          36,
          36,
          36,
          36,
          36,
          36,
          36,
          37,
          37,
          37,
          37,
          37,
          37,
          37,
          37,
          37,
          37,
          37,
          37,
          37,
          37,
          37,
          37,
          37,
          37,
          37,
          37,
          37,
          38,
          38,
          38,
          38,
          38,
          38,
          38,
          38,
          38,
          38,
          38,
          38,
          38,
          38,
          38,
          38,
          38,
          38,
          38,
          38,
          39,
          39,
          39,
          39,
          39,
          39,
          39,
          39,
          39,
          39,
          39,
          39,
          39,
          39,
          39,
          40,
          40,
          40,
          40,
          40,
          40,
          40,
          40,
          40,
          40,
          40,
          40,
          40,
          40,
          40,
          40,
          40,
          40,
          40,
          41,
          41,
          41,
          41,
          41,
          41,
          41,
          41,
          41,
          41,
          41,
          41,
          41,
          42,
          42,
          42,
          42,
          42,
          42,
          42,
          42,
          42,
          42,
          42,
          42,
          42,
          42,
          43,
          43,
          43,
          43,
          43,
          43,
          43,
          43,
          43,
          43,
          43,
          43,
          44,
          44,
          44,
          44,
          44,
          44,
          44,
          44,
          44,
          44,
          44,
          44,
          45,
          45,
          45,
          45,
          45,
          45,
          45,
          45,
          45,
          45,
          45,
          45,
          46,
          46,
          46,
          46,
          46,
          46,
          46,
          46,
          46,
          46,
          46,
          46,
          46,
          46,
          47,
          47,
          47,
          47,
          47,
          47,
          47,
          47,
          47,
          47,
          47,
          47,
          48,
          48,
          48,
          48,
          48,
          48,
          48,
          48,
          48,
          49,
          49,
          49,
          49,
          49,
          49,
          49,
          49,
          49,
          49,
          49,
          49,
          49,
          50,
          50,
          50,
          50,
          50,
          50,
          50,
          50,
          50,
          51,
          51,
          51,
          51,
          51,
          51,
          51,
          52,
          52,
          52,
          52,
          52,
          52,
          52,
          52,
          53,
          53,
          54,
          54,
          54,
          54,
          54,
          54,
          54,
          54,
          55,
          55,
          55,
          55,
          55,
          56,
          56,
          56,
          57,
          57,
          57,
          57,
          57,
          57,
          58,
          58,
          58,
          59,
          59,
          60,
          60,
          60,
          61,
          61,
          61,
          61,
          62,
          62,
          63,
          63,
          63,
          63,
          63,
          63,
          63,
          64,
          64,
          64,
          64,
          64,
          65,
          65,
          65,
          65,
          66,
          66,
          66,
          67,
          67,
          67,
          68,
          70,
          74,
          74,
          74,
          75,
          75
         ],
         "xaxis": "x",
         "yaxis": "y"
        },
        {
         "histnorm": "probability",
         "name": "Bad Credit",
         "type": "histogram",
         "x": [
          19,
          20,
          20,
          20,
          20,
          20,
          21,
          21,
          21,
          21,
          21,
          22,
          22,
          22,
          22,
          22,
          22,
          22,
          22,
          22,
          22,
          22,
          23,
          23,
          23,
          23,
          23,
          23,
          23,
          23,
          23,
          23,
          23,
          23,
          23,
          23,
          23,
          23,
          23,
          23,
          23,
          23,
          24,
          24,
          24,
          24,
          24,
          24,
          24,
          24,
          24,
          24,
          24,
          24,
          24,
          24,
          24,
          24,
          24,
          24,
          24,
          25,
          25,
          25,
          25,
          25,
          25,
          25,
          25,
          25,
          25,
          25,
          25,
          25,
          25,
          25,
          25,
          25,
          25,
          25,
          26,
          26,
          26,
          26,
          26,
          26,
          26,
          26,
          26,
          26,
          26,
          26,
          26,
          26,
          27,
          27,
          27,
          27,
          27,
          27,
          27,
          27,
          27,
          27,
          27,
          27,
          27,
          28,
          28,
          28,
          28,
          28,
          28,
          28,
          28,
          28,
          28,
          28,
          28,
          28,
          28,
          28,
          29,
          29,
          29,
          29,
          29,
          29,
          29,
          29,
          29,
          29,
          29,
          29,
          29,
          29,
          29,
          30,
          30,
          30,
          30,
          30,
          30,
          30,
          30,
          30,
          30,
          30,
          31,
          31,
          31,
          31,
          31,
          31,
          31,
          31,
          31,
          31,
          31,
          32,
          32,
          32,
          32,
          32,
          32,
          32,
          32,
          32,
          33,
          33,
          33,
          33,
          33,
          33,
          33,
          33,
          33,
          33,
          33,
          33,
          33,
          34,
          34,
          34,
          34,
          34,
          34,
          34,
          34,
          34,
          34,
          34,
          35,
          35,
          35,
          35,
          35,
          35,
          36,
          36,
          36,
          36,
          36,
          36,
          37,
          37,
          37,
          37,
          37,
          37,
          37,
          37,
          38,
          38,
          38,
          38,
          39,
          39,
          39,
          39,
          39,
          39,
          40,
          40,
          40,
          40,
          40,
          40,
          41,
          41,
          41,
          41,
          42,
          42,
          42,
          42,
          42,
          42,
          42,
          42,
          43,
          43,
          43,
          43,
          43,
          44,
          44,
          44,
          44,
          44,
          45,
          45,
          45,
          46,
          46,
          46,
          46,
          47,
          47,
          47,
          47,
          47,
          48,
          48,
          48,
          49,
          50,
          50,
          50,
          51,
          52,
          53,
          53,
          53,
          53,
          53,
          54,
          54,
          55,
          55,
          55,
          57,
          57,
          57,
          58,
          58,
          59,
          60,
          60,
          60,
          61,
          61,
          61,
          63,
          65,
          66,
          66,
          68,
          68,
          74
         ],
         "xaxis": "x2",
         "yaxis": "y2"
        },
        {
         "histnorm": "probability",
         "name": "Overall Age",
         "type": "histogram",
         "x": [
          67,
          22,
          49,
          45,
          53,
          35,
          53,
          35,
          61,
          28,
          25,
          24,
          22,
          60,
          28,
          32,
          53,
          25,
          44,
          31,
          48,
          44,
          48,
          44,
          26,
          36,
          39,
          42,
          34,
          63,
          36,
          27,
          30,
          57,
          33,
          25,
          31,
          37,
          37,
          24,
          30,
          26,
          44,
          24,
          58,
          35,
          39,
          23,
          39,
          28,
          29,
          30,
          25,
          31,
          57,
          26,
          52,
          31,
          23,
          23,
          27,
          50,
          61,
          25,
          26,
          48,
          29,
          22,
          37,
          25,
          30,
          46,
          51,
          41,
          40,
          66,
          34,
          51,
          39,
          22,
          44,
          47,
          24,
          58,
          52,
          29,
          27,
          47,
          30,
          28,
          56,
          54,
          33,
          20,
          54,
          58,
          61,
          34,
          36,
          36,
          41,
          24,
          24,
          35,
          26,
          39,
          39,
          32,
          30,
          35,
          31,
          23,
          28,
          25,
          35,
          47,
          30,
          27,
          23,
          36,
          25,
          41,
          24,
          63,
          27,
          30,
          40,
          30,
          34,
          29,
          24,
          29,
          27,
          47,
          21,
          38,
          27,
          66,
          35,
          44,
          27,
          30,
          27,
          22,
          23,
          30,
          39,
          51,
          28,
          46,
          42,
          38,
          24,
          29,
          36,
          20,
          48,
          45,
          38,
          34,
          36,
          30,
          36,
          70,
          36,
          32,
          33,
          20,
          25,
          31,
          33,
          26,
          34,
          33,
          26,
          53,
          42,
          52,
          31,
          65,
          28,
          30,
          40,
          50,
          36,
          31,
          74,
          68,
          20,
          33,
          54,
          34,
          36,
          29,
          21,
          34,
          28,
          27,
          36,
          40,
          52,
          27,
          26,
          21,
          38,
          38,
          43,
          26,
          21,
          55,
          33,
          45,
          50,
          66,
          51,
          39,
          31,
          23,
          24,
          64,
          26,
          23,
          30,
          32,
          30,
          27,
          27,
          53,
          22,
          22,
          26,
          51,
          35,
          25,
          42,
          30,
          23,
          61,
          35,
          39,
          29,
          51,
          24,
          27,
          35,
          25,
          52,
          35,
          26,
          22,
          39,
          46,
          24,
          35,
          24,
          27,
          35,
          29,
          23,
          57,
          27,
          55,
          36,
          57,
          32,
          37,
          36,
          38,
          45,
          25,
          32,
          37,
          36,
          28,
          34,
          32,
          26,
          49,
          32,
          29,
          23,
          50,
          49,
          63,
          37,
          35,
          26,
          31,
          49,
          48,
          26,
          28,
          44,
          56,
          46,
          26,
          20,
          45,
          43,
          32,
          54,
          42,
          37,
          49,
          44,
          33,
          24,
          33,
          24,
          22,
          40,
          25,
          26,
          25,
          29,
          31,
          38,
          48,
          32,
          27,
          28,
          32,
          34,
          28,
          36,
          39,
          49,
          34,
          31,
          28,
          75,
          30,
          24,
          24,
          23,
          44,
          23,
          24,
          28,
          31,
          24,
          26,
          25,
          33,
          37,
          43,
          23,
          23,
          34,
          32,
          23,
          29,
          38,
          28,
          46,
          23,
          49,
          26,
          28,
          23,
          61,
          37,
          36,
          21,
          25,
          36,
          27,
          22,
          42,
          40,
          36,
          33,
          23,
          63,
          60,
          37,
          34,
          36,
          57,
          52,
          39,
          38,
          25,
          26,
          26,
          25,
          21,
          40,
          27,
          27,
          30,
          19,
          39,
          31,
          31,
          32,
          55,
          46,
          46,
          43,
          39,
          28,
          27,
          27,
          43,
          22,
          43,
          27,
          26,
          28,
          20,
          35,
          42,
          40,
          35,
          35,
          33,
          23,
          31,
          33,
          20,
          30,
          47,
          34,
          25,
          21,
          29,
          46,
          20,
          55,
          74,
          29,
          36,
          33,
          25,
          25,
          23,
          37,
          65,
          26,
          39,
          30,
          29,
          41,
          30,
          41,
          34,
          35,
          55,
          61,
          30,
          29,
          34,
          35,
          31,
          29,
          36,
          35,
          27,
          32,
          37,
          36,
          34,
          38,
          34,
          63,
          29,
          32,
          26,
          35,
          22,
          23,
          28,
          36,
          33,
          26,
          24,
          25,
          39,
          44,
          23,
          26,
          57,
          30,
          44,
          47,
          52,
          62,
          35,
          26,
          26,
          42,
          27,
          38,
          39,
          20,
          29,
          40,
          32,
          28,
          27,
          42,
          49,
          38,
          24,
          27,
          36,
          34,
          28,
          45,
          26,
          32,
          26,
          20,
          54,
          37,
          40,
          23,
          43,
          36,
          44,
          24,
          53,
          23,
          26,
          30,
          31,
          42,
          31,
          41,
          32,
          28,
          41,
          26,
          25,
          33,
          75,
          37,
          42,
          45,
          23,
          60,
          31,
          34,
          61,
          43,
          37,
          32,
          24,
          35,
          23,
          45,
          34,
          27,
          67,
          22,
          28,
          29,
          27,
          31,
          49,
          24,
          29,
          37,
          37,
          23,
          36,
          34,
          41,
          31,
          23,
          38,
          26,
          22,
          27,
          24,
          27,
          33,
          27,
          27,
          30,
          49,
          26,
          33,
          52,
          20,
          36,
          21,
          47,
          60,
          58,
          42,
          36,
          20,
          40,
          32,
          23,
          36,
          31,
          32,
          45,
          30,
          34,
          28,
          23,
          22,
          74,
          50,
          33,
          45,
          22,
          48,
          29,
          22,
          22,
          48,
          27,
          37,
          21,
          49,
          27,
          32,
          38,
          22,
          65,
          35,
          41,
          29,
          36,
          64,
          28,
          44,
          23,
          19,
          25,
          47,
          28,
          21,
          34,
          26,
          27,
          38,
          40,
          33,
          32,
          27,
          32,
          26,
          38,
          40,
          50,
          37,
          45,
          42,
          35,
          22,
          41,
          37,
          28,
          41,
          23,
          23,
          50,
          35,
          50,
          27,
          34,
          27,
          43,
          47,
          27,
          31,
          42,
          24,
          41,
          26,
          33,
          24,
          64,
          26,
          56,
          37,
          33,
          47,
          31,
          34,
          27,
          30,
          35,
          31,
          25,
          25,
          29,
          44,
          28,
          50,
          29,
          38,
          24,
          40,
          29,
          46,
          47,
          41,
          32,
          35,
          24,
          25,
          25,
          37,
          32,
          35,
          46,
          25,
          27,
          63,
          40,
          32,
          31,
          31,
          34,
          24,
          24,
          66,
          21,
          41,
          47,
          25,
          59,
          36,
          33,
          21,
          44,
          28,
          37,
          29,
          23,
          35,
          45,
          26,
          32,
          23,
          41,
          22,
          30,
          28,
          23,
          37,
          26,
          33,
          49,
          23,
          23,
          25,
          55,
          32,
          74,
          39,
          31,
          35,
          59,
          24,
          24,
          30,
          27,
          40,
          31,
          31,
          28,
          63,
          26,
          25,
          36,
          52,
          66,
          25,
          37,
          25,
          38,
          67,
          25,
          60,
          31,
          23,
          60,
          35,
          40,
          38,
          50,
          27,
          39,
          41,
          27,
          51,
          32,
          22,
          51,
          22,
          54,
          35,
          54,
          48,
          24,
          35,
          24,
          24,
          26,
          65,
          55,
          26,
          26,
          28,
          24,
          54,
          46,
          54,
          62,
          24,
          43,
          26,
          27,
          24,
          41,
          47,
          35,
          30,
          33,
          36,
          47,
          38,
          44,
          23,
          29,
          42,
          25,
          48,
          21,
          23,
          63,
          46,
          29,
          28,
          23,
          50,
          47,
          35,
          68,
          28,
          59,
          57,
          33,
          43,
          35,
          32,
          45,
          33,
          40,
          28,
          29,
          26,
          27,
          28,
          35,
          32,
          25,
          20,
          27,
          42,
          37,
          24,
          40,
          46,
          26,
          24,
          29,
          40,
          36,
          28,
          27,
          36,
          38,
          48,
          36,
          65,
          43,
          53,
          34,
          23,
          34,
          40,
          43,
          46,
          38,
          34,
          29,
          31,
          28,
          35,
          33,
          42,
          43,
          44,
          42,
          40,
          36,
          20,
          24,
          27,
          46,
          33,
          34,
          25,
          25,
          28,
          31,
          32,
          32,
          68,
          33,
          39,
          28,
          37,
          22,
          30,
          55,
          46,
          21,
          39,
          58,
          43,
          24,
          22,
          30,
          42,
          23,
          30,
          28,
          30,
          42,
          46,
          45,
          31,
          31,
          42,
          46,
          30,
          30,
          38,
          43,
          31,
          40,
          24,
          28,
          26,
          29,
          57,
          49,
          37,
          45,
          30,
          30,
          47,
          29,
          35,
          22,
          26,
          23,
          54,
          29,
          40,
          22,
          43,
          29,
          36,
          33,
          57,
          64,
          42,
          47,
          25,
          49,
          33,
          28,
          26,
          30,
          25,
          33,
          64,
          29,
          48,
          37,
          34,
          23,
          30,
          50,
          31,
          40,
          38,
          23,
          27
         ],
         "xaxis": "x3",
         "yaxis": "y3"
        }
       ],
       "layout": {
        "annotations": [
         {
          "font": {
           "size": 16
          },
          "showarrow": false,
          "text": "Good",
          "x": 0.225,
          "xanchor": "center",
          "xref": "paper",
          "y": 1,
          "yanchor": "bottom",
          "yref": "paper"
         },
         {
          "font": {
           "size": 16
          },
          "showarrow": false,
          "text": "Bad",
          "x": 0.775,
          "xanchor": "center",
          "xref": "paper",
          "y": 1,
          "yanchor": "bottom",
          "yref": "paper"
         },
         {
          "font": {
           "size": 16
          },
          "showarrow": false,
          "text": "General Distribuition",
          "x": 0.5,
          "xanchor": "center",
          "xref": "paper",
          "y": 0.375,
          "yanchor": "bottom",
          "yref": "paper"
         }
        ],
        "bargap": 0.05,
        "showlegend": true,
        "template": {
         "data": {
          "bar": [
           {
            "error_x": {
             "color": "#2a3f5f"
            },
            "error_y": {
             "color": "#2a3f5f"
            },
            "marker": {
             "line": {
              "color": "#E5ECF6",
              "width": 0.5
             }
            },
            "type": "bar"
           }
          ],
          "barpolar": [
           {
            "marker": {
             "line": {
              "color": "#E5ECF6",
              "width": 0.5
             }
            },
            "type": "barpolar"
           }
          ],
          "carpet": [
           {
            "aaxis": {
             "endlinecolor": "#2a3f5f",
             "gridcolor": "white",
             "linecolor": "white",
             "minorgridcolor": "white",
             "startlinecolor": "#2a3f5f"
            },
            "baxis": {
             "endlinecolor": "#2a3f5f",
             "gridcolor": "white",
             "linecolor": "white",
             "minorgridcolor": "white",
             "startlinecolor": "#2a3f5f"
            },
            "type": "carpet"
           }
          ],
          "choropleth": [
           {
            "colorbar": {
             "outlinewidth": 0,
             "ticks": ""
            },
            "type": "choropleth"
           }
          ],
          "contour": [
           {
            "colorbar": {
             "outlinewidth": 0,
             "ticks": ""
            },
            "colorscale": [
             [
              0,
              "#0d0887"
             ],
             [
              0.1111111111111111,
              "#46039f"
             ],
             [
              0.2222222222222222,
              "#7201a8"
             ],
             [
              0.3333333333333333,
              "#9c179e"
             ],
             [
              0.4444444444444444,
              "#bd3786"
             ],
             [
              0.5555555555555556,
              "#d8576b"
             ],
             [
              0.6666666666666666,
              "#ed7953"
             ],
             [
              0.7777777777777778,
              "#fb9f3a"
             ],
             [
              0.8888888888888888,
              "#fdca26"
             ],
             [
              1,
              "#f0f921"
             ]
            ],
            "type": "contour"
           }
          ],
          "contourcarpet": [
           {
            "colorbar": {
             "outlinewidth": 0,
             "ticks": ""
            },
            "type": "contourcarpet"
           }
          ],
          "heatmap": [
           {
            "colorbar": {
             "outlinewidth": 0,
             "ticks": ""
            },
            "colorscale": [
             [
              0,
              "#0d0887"
             ],
             [
              0.1111111111111111,
              "#46039f"
             ],
             [
              0.2222222222222222,
              "#7201a8"
             ],
             [
              0.3333333333333333,
              "#9c179e"
             ],
             [
              0.4444444444444444,
              "#bd3786"
             ],
             [
              0.5555555555555556,
              "#d8576b"
             ],
             [
              0.6666666666666666,
              "#ed7953"
             ],
             [
              0.7777777777777778,
              "#fb9f3a"
             ],
             [
              0.8888888888888888,
              "#fdca26"
             ],
             [
              1,
              "#f0f921"
             ]
            ],
            "type": "heatmap"
           }
          ],
          "heatmapgl": [
           {
            "colorbar": {
             "outlinewidth": 0,
             "ticks": ""
            },
            "colorscale": [
             [
              0,
              "#0d0887"
             ],
             [
              0.1111111111111111,
              "#46039f"
             ],
             [
              0.2222222222222222,
              "#7201a8"
             ],
             [
              0.3333333333333333,
              "#9c179e"
             ],
             [
              0.4444444444444444,
              "#bd3786"
             ],
             [
              0.5555555555555556,
              "#d8576b"
             ],
             [
              0.6666666666666666,
              "#ed7953"
             ],
             [
              0.7777777777777778,
              "#fb9f3a"
             ],
             [
              0.8888888888888888,
              "#fdca26"
             ],
             [
              1,
              "#f0f921"
             ]
            ],
            "type": "heatmapgl"
           }
          ],
          "histogram": [
           {
            "marker": {
             "colorbar": {
              "outlinewidth": 0,
              "ticks": ""
             }
            },
            "type": "histogram"
           }
          ],
          "histogram2d": [
           {
            "colorbar": {
             "outlinewidth": 0,
             "ticks": ""
            },
            "colorscale": [
             [
              0,
              "#0d0887"
             ],
             [
              0.1111111111111111,
              "#46039f"
             ],
             [
              0.2222222222222222,
              "#7201a8"
             ],
             [
              0.3333333333333333,
              "#9c179e"
             ],
             [
              0.4444444444444444,
              "#bd3786"
             ],
             [
              0.5555555555555556,
              "#d8576b"
             ],
             [
              0.6666666666666666,
              "#ed7953"
             ],
             [
              0.7777777777777778,
              "#fb9f3a"
             ],
             [
              0.8888888888888888,
              "#fdca26"
             ],
             [
              1,
              "#f0f921"
             ]
            ],
            "type": "histogram2d"
           }
          ],
          "histogram2dcontour": [
           {
            "colorbar": {
             "outlinewidth": 0,
             "ticks": ""
            },
            "colorscale": [
             [
              0,
              "#0d0887"
             ],
             [
              0.1111111111111111,
              "#46039f"
             ],
             [
              0.2222222222222222,
              "#7201a8"
             ],
             [
              0.3333333333333333,
              "#9c179e"
             ],
             [
              0.4444444444444444,
              "#bd3786"
             ],
             [
              0.5555555555555556,
              "#d8576b"
             ],
             [
              0.6666666666666666,
              "#ed7953"
             ],
             [
              0.7777777777777778,
              "#fb9f3a"
             ],
             [
              0.8888888888888888,
              "#fdca26"
             ],
             [
              1,
              "#f0f921"
             ]
            ],
            "type": "histogram2dcontour"
           }
          ],
          "mesh3d": [
           {
            "colorbar": {
             "outlinewidth": 0,
             "ticks": ""
            },
            "type": "mesh3d"
           }
          ],
          "parcoords": [
           {
            "line": {
             "colorbar": {
              "outlinewidth": 0,
              "ticks": ""
             }
            },
            "type": "parcoords"
           }
          ],
          "scatter": [
           {
            "marker": {
             "colorbar": {
              "outlinewidth": 0,
              "ticks": ""
             }
            },
            "type": "scatter"
           }
          ],
          "scatter3d": [
           {
            "line": {
             "colorbar": {
              "outlinewidth": 0,
              "ticks": ""
             }
            },
            "marker": {
             "colorbar": {
              "outlinewidth": 0,
              "ticks": ""
             }
            },
            "type": "scatter3d"
           }
          ],
          "scattercarpet": [
           {
            "marker": {
             "colorbar": {
              "outlinewidth": 0,
              "ticks": ""
             }
            },
            "type": "scattercarpet"
           }
          ],
          "scattergeo": [
           {
            "marker": {
             "colorbar": {
              "outlinewidth": 0,
              "ticks": ""
             }
            },
            "type": "scattergeo"
           }
          ],
          "scattergl": [
           {
            "marker": {
             "colorbar": {
              "outlinewidth": 0,
              "ticks": ""
             }
            },
            "type": "scattergl"
           }
          ],
          "scattermapbox": [
           {
            "marker": {
             "colorbar": {
              "outlinewidth": 0,
              "ticks": ""
             }
            },
            "type": "scattermapbox"
           }
          ],
          "scatterpolar": [
           {
            "marker": {
             "colorbar": {
              "outlinewidth": 0,
              "ticks": ""
             }
            },
            "type": "scatterpolar"
           }
          ],
          "scatterpolargl": [
           {
            "marker": {
             "colorbar": {
              "outlinewidth": 0,
              "ticks": ""
             }
            },
            "type": "scatterpolargl"
           }
          ],
          "scatterternary": [
           {
            "marker": {
             "colorbar": {
              "outlinewidth": 0,
              "ticks": ""
             }
            },
            "type": "scatterternary"
           }
          ],
          "surface": [
           {
            "colorbar": {
             "outlinewidth": 0,
             "ticks": ""
            },
            "colorscale": [
             [
              0,
              "#0d0887"
             ],
             [
              0.1111111111111111,
              "#46039f"
             ],
             [
              0.2222222222222222,
              "#7201a8"
             ],
             [
              0.3333333333333333,
              "#9c179e"
             ],
             [
              0.4444444444444444,
              "#bd3786"
             ],
             [
              0.5555555555555556,
              "#d8576b"
             ],
             [
              0.6666666666666666,
              "#ed7953"
             ],
             [
              0.7777777777777778,
              "#fb9f3a"
             ],
             [
              0.8888888888888888,
              "#fdca26"
             ],
             [
              1,
              "#f0f921"
             ]
            ],
            "type": "surface"
           }
          ],
          "table": [
           {
            "cells": {
             "fill": {
              "color": "#EBF0F8"
             },
             "line": {
              "color": "white"
             }
            },
            "header": {
             "fill": {
              "color": "#C8D4E3"
             },
             "line": {
              "color": "white"
             }
            },
            "type": "table"
           }
          ]
         },
         "layout": {
          "annotationdefaults": {
           "arrowcolor": "#2a3f5f",
           "arrowhead": 0,
           "arrowwidth": 1
          },
          "colorscale": {
           "diverging": [
            [
             0,
             "#8e0152"
            ],
            [
             0.1,
             "#c51b7d"
            ],
            [
             0.2,
             "#de77ae"
            ],
            [
             0.3,
             "#f1b6da"
            ],
            [
             0.4,
             "#fde0ef"
            ],
            [
             0.5,
             "#f7f7f7"
            ],
            [
             0.6,
             "#e6f5d0"
            ],
            [
             0.7,
             "#b8e186"
            ],
            [
             0.8,
             "#7fbc41"
            ],
            [
             0.9,
             "#4d9221"
            ],
            [
             1,
             "#276419"
            ]
           ],
           "sequential": [
            [
             0,
             "#0d0887"
            ],
            [
             0.1111111111111111,
             "#46039f"
            ],
            [
             0.2222222222222222,
             "#7201a8"
            ],
            [
             0.3333333333333333,
             "#9c179e"
            ],
            [
             0.4444444444444444,
             "#bd3786"
            ],
            [
             0.5555555555555556,
             "#d8576b"
            ],
            [
             0.6666666666666666,
             "#ed7953"
            ],
            [
             0.7777777777777778,
             "#fb9f3a"
            ],
            [
             0.8888888888888888,
             "#fdca26"
            ],
            [
             1,
             "#f0f921"
            ]
           ],
           "sequentialminus": [
            [
             0,
             "#0d0887"
            ],
            [
             0.1111111111111111,
             "#46039f"
            ],
            [
             0.2222222222222222,
             "#7201a8"
            ],
            [
             0.3333333333333333,
             "#9c179e"
            ],
            [
             0.4444444444444444,
             "#bd3786"
            ],
            [
             0.5555555555555556,
             "#d8576b"
            ],
            [
             0.6666666666666666,
             "#ed7953"
            ],
            [
             0.7777777777777778,
             "#fb9f3a"
            ],
            [
             0.8888888888888888,
             "#fdca26"
            ],
            [
             1,
             "#f0f921"
            ]
           ]
          },
          "colorway": [
           "#636efa",
           "#EF553B",
           "#00cc96",
           "#ab63fa",
           "#FFA15A",
           "#19d3f3",
           "#FF6692",
           "#B6E880",
           "#FF97FF",
           "#FECB52"
          ],
          "font": {
           "color": "#2a3f5f"
          },
          "geo": {
           "bgcolor": "white",
           "lakecolor": "white",
           "landcolor": "#E5ECF6",
           "showlakes": true,
           "showland": true,
           "subunitcolor": "white"
          },
          "hoverlabel": {
           "align": "left"
          },
          "hovermode": "closest",
          "mapbox": {
           "style": "light"
          },
          "paper_bgcolor": "white",
          "plot_bgcolor": "#E5ECF6",
          "polar": {
           "angularaxis": {
            "gridcolor": "white",
            "linecolor": "white",
            "ticks": ""
           },
           "bgcolor": "#E5ECF6",
           "radialaxis": {
            "gridcolor": "white",
            "linecolor": "white",
            "ticks": ""
           }
          },
          "scene": {
           "xaxis": {
            "backgroundcolor": "#E5ECF6",
            "gridcolor": "white",
            "gridwidth": 2,
            "linecolor": "white",
            "showbackground": true,
            "ticks": "",
            "zerolinecolor": "white"
           },
           "yaxis": {
            "backgroundcolor": "#E5ECF6",
            "gridcolor": "white",
            "gridwidth": 2,
            "linecolor": "white",
            "showbackground": true,
            "ticks": "",
            "zerolinecolor": "white"
           },
           "zaxis": {
            "backgroundcolor": "#E5ECF6",
            "gridcolor": "white",
            "gridwidth": 2,
            "linecolor": "white",
            "showbackground": true,
            "ticks": "",
            "zerolinecolor": "white"
           }
          },
          "shapedefaults": {
           "line": {
            "color": "#2a3f5f"
           }
          },
          "ternary": {
           "aaxis": {
            "gridcolor": "white",
            "linecolor": "white",
            "ticks": ""
           },
           "baxis": {
            "gridcolor": "white",
            "linecolor": "white",
            "ticks": ""
           },
           "bgcolor": "#E5ECF6",
           "caxis": {
            "gridcolor": "white",
            "linecolor": "white",
            "ticks": ""
           }
          },
          "title": {
           "x": 0.05
          },
          "xaxis": {
           "automargin": true,
           "gridcolor": "white",
           "linecolor": "white",
           "ticks": "",
           "zerolinecolor": "white",
           "zerolinewidth": 2
          },
          "yaxis": {
           "automargin": true,
           "gridcolor": "white",
           "linecolor": "white",
           "ticks": "",
           "zerolinecolor": "white",
           "zerolinewidth": 2
          }
         }
        },
        "title": {
         "text": "Age Distribuition"
        },
        "xaxis": {
         "anchor": "y",
         "domain": [
          0,
          0.45
         ]
        },
        "xaxis2": {
         "anchor": "y2",
         "domain": [
          0.55,
          1
         ]
        },
        "xaxis3": {
         "anchor": "y3",
         "domain": [
          0,
          1
         ]
        },
        "yaxis": {
         "anchor": "x",
         "domain": [
          0.625,
          1
         ]
        },
        "yaxis2": {
         "anchor": "x2",
         "domain": [
          0.625,
          1
         ]
        },
        "yaxis3": {
         "anchor": "x3",
         "domain": [
          0,
          0.375
         ]
        }
       }
      },
      "text/html": [
       "<div>\n",
       "        \n",
       "        \n",
       "            <div id=\"20ee450e-ecb9-482a-9cbe-29a3f8595aef\" class=\"plotly-graph-div\" style=\"height:525px; width:100%;\"></div>\n",
       "            <script type=\"text/javascript\">\n",
       "                require([\"plotly\"], function(Plotly) {\n",
       "                    window.PLOTLYENV=window.PLOTLYENV || {};\n",
       "                    \n",
       "                if (document.getElementById(\"20ee450e-ecb9-482a-9cbe-29a3f8595aef\")) {\n",
       "                    Plotly.newPlot(\n",
       "                        '20ee450e-ecb9-482a-9cbe-29a3f8595aef',\n",
       "                        [{\"histnorm\": \"probability\", \"name\": \"Good Credit\", \"type\": \"histogram\", \"x\": [19, 20, 20, 20, 20, 20, 20, 20, 20, 20, 21, 21, 21, 21, 21, 21, 21, 21, 21, 22, 22, 22, 22, 22, 22, 22, 22, 22, 22, 22, 22, 22, 22, 22, 22, 23, 23, 23, 23, 23, 23, 23, 23, 23, 23, 23, 23, 23, 23, 23, 23, 23, 23, 23, 23, 23, 23, 23, 23, 23, 23, 23, 23, 24, 24, 24, 24, 24, 24, 24, 24, 24, 24, 24, 24, 24, 24, 24, 24, 24, 24, 24, 24, 24, 24, 24, 24, 24, 25, 25, 25, 25, 25, 25, 25, 25, 25, 25, 25, 25, 25, 25, 25, 25, 25, 25, 25, 25, 25, 25, 26, 26, 26, 26, 26, 26, 26, 26, 26, 26, 26, 26, 26, 26, 26, 26, 26, 26, 26, 26, 26, 26, 26, 26, 26, 26, 26, 26, 26, 26, 26, 26, 26, 26, 26, 26, 27, 27, 27, 27, 27, 27, 27, 27, 27, 27, 27, 27, 27, 27, 27, 27, 27, 27, 27, 27, 27, 27, 27, 27, 27, 27, 27, 27, 27, 27, 27, 27, 27, 27, 27, 27, 27, 27, 28, 28, 28, 28, 28, 28, 28, 28, 28, 28, 28, 28, 28, 28, 28, 28, 28, 28, 28, 28, 28, 28, 28, 28, 28, 28, 28, 28, 29, 29, 29, 29, 29, 29, 29, 29, 29, 29, 29, 29, 29, 29, 29, 29, 29, 29, 29, 29, 29, 29, 30, 30, 30, 30, 30, 30, 30, 30, 30, 30, 30, 30, 30, 30, 30, 30, 30, 30, 30, 30, 30, 30, 30, 30, 30, 30, 30, 30, 30, 31, 31, 31, 31, 31, 31, 31, 31, 31, 31, 31, 31, 31, 31, 31, 31, 31, 31, 31, 31, 31, 31, 31, 31, 31, 31, 31, 32, 32, 32, 32, 32, 32, 32, 32, 32, 32, 32, 32, 32, 32, 32, 32, 32, 32, 32, 32, 32, 32, 32, 32, 32, 33, 33, 33, 33, 33, 33, 33, 33, 33, 33, 33, 33, 33, 33, 33, 33, 33, 33, 33, 33, 34, 34, 34, 34, 34, 34, 34, 34, 34, 34, 34, 34, 34, 34, 34, 34, 34, 34, 34, 34, 34, 35, 35, 35, 35, 35, 35, 35, 35, 35, 35, 35, 35, 35, 35, 35, 35, 35, 35, 35, 35, 35, 35, 35, 35, 35, 35, 35, 35, 35, 35, 35, 35, 35, 35, 36, 36, 36, 36, 36, 36, 36, 36, 36, 36, 36, 36, 36, 36, 36, 36, 36, 36, 36, 36, 36, 36, 36, 36, 36, 36, 36, 36, 36, 36, 36, 36, 36, 37, 37, 37, 37, 37, 37, 37, 37, 37, 37, 37, 37, 37, 37, 37, 37, 37, 37, 37, 37, 37, 38, 38, 38, 38, 38, 38, 38, 38, 38, 38, 38, 38, 38, 38, 38, 38, 38, 38, 38, 38, 39, 39, 39, 39, 39, 39, 39, 39, 39, 39, 39, 39, 39, 39, 39, 40, 40, 40, 40, 40, 40, 40, 40, 40, 40, 40, 40, 40, 40, 40, 40, 40, 40, 40, 41, 41, 41, 41, 41, 41, 41, 41, 41, 41, 41, 41, 41, 42, 42, 42, 42, 42, 42, 42, 42, 42, 42, 42, 42, 42, 42, 43, 43, 43, 43, 43, 43, 43, 43, 43, 43, 43, 43, 44, 44, 44, 44, 44, 44, 44, 44, 44, 44, 44, 44, 45, 45, 45, 45, 45, 45, 45, 45, 45, 45, 45, 45, 46, 46, 46, 46, 46, 46, 46, 46, 46, 46, 46, 46, 46, 46, 47, 47, 47, 47, 47, 47, 47, 47, 47, 47, 47, 47, 48, 48, 48, 48, 48, 48, 48, 48, 48, 49, 49, 49, 49, 49, 49, 49, 49, 49, 49, 49, 49, 49, 50, 50, 50, 50, 50, 50, 50, 50, 50, 51, 51, 51, 51, 51, 51, 51, 52, 52, 52, 52, 52, 52, 52, 52, 53, 53, 54, 54, 54, 54, 54, 54, 54, 54, 55, 55, 55, 55, 55, 56, 56, 56, 57, 57, 57, 57, 57, 57, 58, 58, 58, 59, 59, 60, 60, 60, 61, 61, 61, 61, 62, 62, 63, 63, 63, 63, 63, 63, 63, 64, 64, 64, 64, 64, 65, 65, 65, 65, 66, 66, 66, 67, 67, 67, 68, 70, 74, 74, 74, 75, 75], \"xaxis\": \"x\", \"yaxis\": \"y\"}, {\"histnorm\": \"probability\", \"name\": \"Bad Credit\", \"type\": \"histogram\", \"x\": [19, 20, 20, 20, 20, 20, 21, 21, 21, 21, 21, 22, 22, 22, 22, 22, 22, 22, 22, 22, 22, 22, 23, 23, 23, 23, 23, 23, 23, 23, 23, 23, 23, 23, 23, 23, 23, 23, 23, 23, 23, 23, 24, 24, 24, 24, 24, 24, 24, 24, 24, 24, 24, 24, 24, 24, 24, 24, 24, 24, 24, 25, 25, 25, 25, 25, 25, 25, 25, 25, 25, 25, 25, 25, 25, 25, 25, 25, 25, 25, 26, 26, 26, 26, 26, 26, 26, 26, 26, 26, 26, 26, 26, 26, 27, 27, 27, 27, 27, 27, 27, 27, 27, 27, 27, 27, 27, 28, 28, 28, 28, 28, 28, 28, 28, 28, 28, 28, 28, 28, 28, 28, 29, 29, 29, 29, 29, 29, 29, 29, 29, 29, 29, 29, 29, 29, 29, 30, 30, 30, 30, 30, 30, 30, 30, 30, 30, 30, 31, 31, 31, 31, 31, 31, 31, 31, 31, 31, 31, 32, 32, 32, 32, 32, 32, 32, 32, 32, 33, 33, 33, 33, 33, 33, 33, 33, 33, 33, 33, 33, 33, 34, 34, 34, 34, 34, 34, 34, 34, 34, 34, 34, 35, 35, 35, 35, 35, 35, 36, 36, 36, 36, 36, 36, 37, 37, 37, 37, 37, 37, 37, 37, 38, 38, 38, 38, 39, 39, 39, 39, 39, 39, 40, 40, 40, 40, 40, 40, 41, 41, 41, 41, 42, 42, 42, 42, 42, 42, 42, 42, 43, 43, 43, 43, 43, 44, 44, 44, 44, 44, 45, 45, 45, 46, 46, 46, 46, 47, 47, 47, 47, 47, 48, 48, 48, 49, 50, 50, 50, 51, 52, 53, 53, 53, 53, 53, 54, 54, 55, 55, 55, 57, 57, 57, 58, 58, 59, 60, 60, 60, 61, 61, 61, 63, 65, 66, 66, 68, 68, 74], \"xaxis\": \"x2\", \"yaxis\": \"y2\"}, {\"histnorm\": \"probability\", \"name\": \"Overall Age\", \"type\": \"histogram\", \"x\": [67, 22, 49, 45, 53, 35, 53, 35, 61, 28, 25, 24, 22, 60, 28, 32, 53, 25, 44, 31, 48, 44, 48, 44, 26, 36, 39, 42, 34, 63, 36, 27, 30, 57, 33, 25, 31, 37, 37, 24, 30, 26, 44, 24, 58, 35, 39, 23, 39, 28, 29, 30, 25, 31, 57, 26, 52, 31, 23, 23, 27, 50, 61, 25, 26, 48, 29, 22, 37, 25, 30, 46, 51, 41, 40, 66, 34, 51, 39, 22, 44, 47, 24, 58, 52, 29, 27, 47, 30, 28, 56, 54, 33, 20, 54, 58, 61, 34, 36, 36, 41, 24, 24, 35, 26, 39, 39, 32, 30, 35, 31, 23, 28, 25, 35, 47, 30, 27, 23, 36, 25, 41, 24, 63, 27, 30, 40, 30, 34, 29, 24, 29, 27, 47, 21, 38, 27, 66, 35, 44, 27, 30, 27, 22, 23, 30, 39, 51, 28, 46, 42, 38, 24, 29, 36, 20, 48, 45, 38, 34, 36, 30, 36, 70, 36, 32, 33, 20, 25, 31, 33, 26, 34, 33, 26, 53, 42, 52, 31, 65, 28, 30, 40, 50, 36, 31, 74, 68, 20, 33, 54, 34, 36, 29, 21, 34, 28, 27, 36, 40, 52, 27, 26, 21, 38, 38, 43, 26, 21, 55, 33, 45, 50, 66, 51, 39, 31, 23, 24, 64, 26, 23, 30, 32, 30, 27, 27, 53, 22, 22, 26, 51, 35, 25, 42, 30, 23, 61, 35, 39, 29, 51, 24, 27, 35, 25, 52, 35, 26, 22, 39, 46, 24, 35, 24, 27, 35, 29, 23, 57, 27, 55, 36, 57, 32, 37, 36, 38, 45, 25, 32, 37, 36, 28, 34, 32, 26, 49, 32, 29, 23, 50, 49, 63, 37, 35, 26, 31, 49, 48, 26, 28, 44, 56, 46, 26, 20, 45, 43, 32, 54, 42, 37, 49, 44, 33, 24, 33, 24, 22, 40, 25, 26, 25, 29, 31, 38, 48, 32, 27, 28, 32, 34, 28, 36, 39, 49, 34, 31, 28, 75, 30, 24, 24, 23, 44, 23, 24, 28, 31, 24, 26, 25, 33, 37, 43, 23, 23, 34, 32, 23, 29, 38, 28, 46, 23, 49, 26, 28, 23, 61, 37, 36, 21, 25, 36, 27, 22, 42, 40, 36, 33, 23, 63, 60, 37, 34, 36, 57, 52, 39, 38, 25, 26, 26, 25, 21, 40, 27, 27, 30, 19, 39, 31, 31, 32, 55, 46, 46, 43, 39, 28, 27, 27, 43, 22, 43, 27, 26, 28, 20, 35, 42, 40, 35, 35, 33, 23, 31, 33, 20, 30, 47, 34, 25, 21, 29, 46, 20, 55, 74, 29, 36, 33, 25, 25, 23, 37, 65, 26, 39, 30, 29, 41, 30, 41, 34, 35, 55, 61, 30, 29, 34, 35, 31, 29, 36, 35, 27, 32, 37, 36, 34, 38, 34, 63, 29, 32, 26, 35, 22, 23, 28, 36, 33, 26, 24, 25, 39, 44, 23, 26, 57, 30, 44, 47, 52, 62, 35, 26, 26, 42, 27, 38, 39, 20, 29, 40, 32, 28, 27, 42, 49, 38, 24, 27, 36, 34, 28, 45, 26, 32, 26, 20, 54, 37, 40, 23, 43, 36, 44, 24, 53, 23, 26, 30, 31, 42, 31, 41, 32, 28, 41, 26, 25, 33, 75, 37, 42, 45, 23, 60, 31, 34, 61, 43, 37, 32, 24, 35, 23, 45, 34, 27, 67, 22, 28, 29, 27, 31, 49, 24, 29, 37, 37, 23, 36, 34, 41, 31, 23, 38, 26, 22, 27, 24, 27, 33, 27, 27, 30, 49, 26, 33, 52, 20, 36, 21, 47, 60, 58, 42, 36, 20, 40, 32, 23, 36, 31, 32, 45, 30, 34, 28, 23, 22, 74, 50, 33, 45, 22, 48, 29, 22, 22, 48, 27, 37, 21, 49, 27, 32, 38, 22, 65, 35, 41, 29, 36, 64, 28, 44, 23, 19, 25, 47, 28, 21, 34, 26, 27, 38, 40, 33, 32, 27, 32, 26, 38, 40, 50, 37, 45, 42, 35, 22, 41, 37, 28, 41, 23, 23, 50, 35, 50, 27, 34, 27, 43, 47, 27, 31, 42, 24, 41, 26, 33, 24, 64, 26, 56, 37, 33, 47, 31, 34, 27, 30, 35, 31, 25, 25, 29, 44, 28, 50, 29, 38, 24, 40, 29, 46, 47, 41, 32, 35, 24, 25, 25, 37, 32, 35, 46, 25, 27, 63, 40, 32, 31, 31, 34, 24, 24, 66, 21, 41, 47, 25, 59, 36, 33, 21, 44, 28, 37, 29, 23, 35, 45, 26, 32, 23, 41, 22, 30, 28, 23, 37, 26, 33, 49, 23, 23, 25, 55, 32, 74, 39, 31, 35, 59, 24, 24, 30, 27, 40, 31, 31, 28, 63, 26, 25, 36, 52, 66, 25, 37, 25, 38, 67, 25, 60, 31, 23, 60, 35, 40, 38, 50, 27, 39, 41, 27, 51, 32, 22, 51, 22, 54, 35, 54, 48, 24, 35, 24, 24, 26, 65, 55, 26, 26, 28, 24, 54, 46, 54, 62, 24, 43, 26, 27, 24, 41, 47, 35, 30, 33, 36, 47, 38, 44, 23, 29, 42, 25, 48, 21, 23, 63, 46, 29, 28, 23, 50, 47, 35, 68, 28, 59, 57, 33, 43, 35, 32, 45, 33, 40, 28, 29, 26, 27, 28, 35, 32, 25, 20, 27, 42, 37, 24, 40, 46, 26, 24, 29, 40, 36, 28, 27, 36, 38, 48, 36, 65, 43, 53, 34, 23, 34, 40, 43, 46, 38, 34, 29, 31, 28, 35, 33, 42, 43, 44, 42, 40, 36, 20, 24, 27, 46, 33, 34, 25, 25, 28, 31, 32, 32, 68, 33, 39, 28, 37, 22, 30, 55, 46, 21, 39, 58, 43, 24, 22, 30, 42, 23, 30, 28, 30, 42, 46, 45, 31, 31, 42, 46, 30, 30, 38, 43, 31, 40, 24, 28, 26, 29, 57, 49, 37, 45, 30, 30, 47, 29, 35, 22, 26, 23, 54, 29, 40, 22, 43, 29, 36, 33, 57, 64, 42, 47, 25, 49, 33, 28, 26, 30, 25, 33, 64, 29, 48, 37, 34, 23, 30, 50, 31, 40, 38, 23, 27], \"xaxis\": \"x3\", \"yaxis\": \"y3\"}],\n",
       "                        {\"annotations\": [{\"font\": {\"size\": 16}, \"showarrow\": false, \"text\": \"Good\", \"x\": 0.225, \"xanchor\": \"center\", \"xref\": \"paper\", \"y\": 1.0, \"yanchor\": \"bottom\", \"yref\": \"paper\"}, {\"font\": {\"size\": 16}, \"showarrow\": false, \"text\": \"Bad\", \"x\": 0.775, \"xanchor\": \"center\", \"xref\": \"paper\", \"y\": 1.0, \"yanchor\": \"bottom\", \"yref\": \"paper\"}, {\"font\": {\"size\": 16}, \"showarrow\": false, \"text\": \"General Distribuition\", \"x\": 0.5, \"xanchor\": \"center\", \"xref\": \"paper\", \"y\": 0.375, \"yanchor\": \"bottom\", \"yref\": \"paper\"}], \"bargap\": 0.05, \"showlegend\": true, \"template\": {\"data\": {\"bar\": [{\"error_x\": {\"color\": \"#2a3f5f\"}, \"error_y\": {\"color\": \"#2a3f5f\"}, \"marker\": {\"line\": {\"color\": \"#E5ECF6\", \"width\": 0.5}}, \"type\": \"bar\"}], \"barpolar\": [{\"marker\": {\"line\": {\"color\": \"#E5ECF6\", \"width\": 0.5}}, \"type\": \"barpolar\"}], \"carpet\": [{\"aaxis\": {\"endlinecolor\": \"#2a3f5f\", \"gridcolor\": \"white\", \"linecolor\": \"white\", \"minorgridcolor\": \"white\", \"startlinecolor\": \"#2a3f5f\"}, \"baxis\": {\"endlinecolor\": \"#2a3f5f\", \"gridcolor\": \"white\", \"linecolor\": \"white\", \"minorgridcolor\": \"white\", \"startlinecolor\": \"#2a3f5f\"}, \"type\": \"carpet\"}], \"choropleth\": [{\"colorbar\": {\"outlinewidth\": 0, \"ticks\": \"\"}, \"type\": \"choropleth\"}], \"contour\": [{\"colorbar\": {\"outlinewidth\": 0, \"ticks\": \"\"}, \"colorscale\": [[0.0, \"#0d0887\"], [0.1111111111111111, \"#46039f\"], [0.2222222222222222, \"#7201a8\"], [0.3333333333333333, \"#9c179e\"], [0.4444444444444444, \"#bd3786\"], [0.5555555555555556, \"#d8576b\"], [0.6666666666666666, \"#ed7953\"], [0.7777777777777778, \"#fb9f3a\"], [0.8888888888888888, \"#fdca26\"], [1.0, \"#f0f921\"]], \"type\": \"contour\"}], \"contourcarpet\": [{\"colorbar\": {\"outlinewidth\": 0, \"ticks\": \"\"}, \"type\": \"contourcarpet\"}], \"heatmap\": [{\"colorbar\": {\"outlinewidth\": 0, \"ticks\": \"\"}, \"colorscale\": [[0.0, \"#0d0887\"], [0.1111111111111111, \"#46039f\"], [0.2222222222222222, \"#7201a8\"], [0.3333333333333333, \"#9c179e\"], [0.4444444444444444, \"#bd3786\"], [0.5555555555555556, \"#d8576b\"], [0.6666666666666666, \"#ed7953\"], [0.7777777777777778, \"#fb9f3a\"], [0.8888888888888888, \"#fdca26\"], [1.0, \"#f0f921\"]], \"type\": \"heatmap\"}], \"heatmapgl\": [{\"colorbar\": {\"outlinewidth\": 0, \"ticks\": \"\"}, \"colorscale\": [[0.0, \"#0d0887\"], [0.1111111111111111, \"#46039f\"], [0.2222222222222222, \"#7201a8\"], [0.3333333333333333, \"#9c179e\"], [0.4444444444444444, \"#bd3786\"], [0.5555555555555556, \"#d8576b\"], [0.6666666666666666, \"#ed7953\"], [0.7777777777777778, \"#fb9f3a\"], [0.8888888888888888, \"#fdca26\"], [1.0, \"#f0f921\"]], \"type\": \"heatmapgl\"}], \"histogram\": [{\"marker\": {\"colorbar\": {\"outlinewidth\": 0, \"ticks\": \"\"}}, \"type\": \"histogram\"}], \"histogram2d\": [{\"colorbar\": {\"outlinewidth\": 0, \"ticks\": \"\"}, \"colorscale\": [[0.0, \"#0d0887\"], [0.1111111111111111, \"#46039f\"], [0.2222222222222222, \"#7201a8\"], [0.3333333333333333, \"#9c179e\"], [0.4444444444444444, \"#bd3786\"], [0.5555555555555556, \"#d8576b\"], [0.6666666666666666, \"#ed7953\"], [0.7777777777777778, \"#fb9f3a\"], [0.8888888888888888, \"#fdca26\"], [1.0, \"#f0f921\"]], \"type\": \"histogram2d\"}], \"histogram2dcontour\": [{\"colorbar\": {\"outlinewidth\": 0, \"ticks\": \"\"}, \"colorscale\": [[0.0, \"#0d0887\"], [0.1111111111111111, \"#46039f\"], [0.2222222222222222, \"#7201a8\"], [0.3333333333333333, \"#9c179e\"], [0.4444444444444444, \"#bd3786\"], [0.5555555555555556, \"#d8576b\"], [0.6666666666666666, \"#ed7953\"], [0.7777777777777778, \"#fb9f3a\"], [0.8888888888888888, \"#fdca26\"], [1.0, \"#f0f921\"]], \"type\": \"histogram2dcontour\"}], \"mesh3d\": [{\"colorbar\": {\"outlinewidth\": 0, \"ticks\": \"\"}, \"type\": \"mesh3d\"}], \"parcoords\": [{\"line\": {\"colorbar\": {\"outlinewidth\": 0, \"ticks\": \"\"}}, \"type\": \"parcoords\"}], \"scatter\": [{\"marker\": {\"colorbar\": {\"outlinewidth\": 0, \"ticks\": \"\"}}, \"type\": \"scatter\"}], \"scatter3d\": [{\"line\": {\"colorbar\": {\"outlinewidth\": 0, \"ticks\": \"\"}}, \"marker\": {\"colorbar\": {\"outlinewidth\": 0, \"ticks\": \"\"}}, \"type\": \"scatter3d\"}], \"scattercarpet\": [{\"marker\": {\"colorbar\": {\"outlinewidth\": 0, \"ticks\": \"\"}}, \"type\": \"scattercarpet\"}], \"scattergeo\": [{\"marker\": {\"colorbar\": {\"outlinewidth\": 0, \"ticks\": \"\"}}, \"type\": \"scattergeo\"}], \"scattergl\": [{\"marker\": {\"colorbar\": {\"outlinewidth\": 0, \"ticks\": \"\"}}, \"type\": \"scattergl\"}], \"scattermapbox\": [{\"marker\": {\"colorbar\": {\"outlinewidth\": 0, \"ticks\": \"\"}}, \"type\": \"scattermapbox\"}], \"scatterpolar\": [{\"marker\": {\"colorbar\": {\"outlinewidth\": 0, \"ticks\": \"\"}}, \"type\": \"scatterpolar\"}], \"scatterpolargl\": [{\"marker\": {\"colorbar\": {\"outlinewidth\": 0, \"ticks\": \"\"}}, \"type\": \"scatterpolargl\"}], \"scatterternary\": [{\"marker\": {\"colorbar\": {\"outlinewidth\": 0, \"ticks\": \"\"}}, \"type\": \"scatterternary\"}], \"surface\": [{\"colorbar\": {\"outlinewidth\": 0, \"ticks\": \"\"}, \"colorscale\": [[0.0, \"#0d0887\"], [0.1111111111111111, \"#46039f\"], [0.2222222222222222, \"#7201a8\"], [0.3333333333333333, \"#9c179e\"], [0.4444444444444444, \"#bd3786\"], [0.5555555555555556, \"#d8576b\"], [0.6666666666666666, \"#ed7953\"], [0.7777777777777778, \"#fb9f3a\"], [0.8888888888888888, \"#fdca26\"], [1.0, \"#f0f921\"]], \"type\": \"surface\"}], \"table\": [{\"cells\": {\"fill\": {\"color\": \"#EBF0F8\"}, \"line\": {\"color\": \"white\"}}, \"header\": {\"fill\": {\"color\": \"#C8D4E3\"}, \"line\": {\"color\": \"white\"}}, \"type\": \"table\"}]}, \"layout\": {\"annotationdefaults\": {\"arrowcolor\": \"#2a3f5f\", \"arrowhead\": 0, \"arrowwidth\": 1}, \"colorscale\": {\"diverging\": [[0, \"#8e0152\"], [0.1, \"#c51b7d\"], [0.2, \"#de77ae\"], [0.3, \"#f1b6da\"], [0.4, \"#fde0ef\"], [0.5, \"#f7f7f7\"], [0.6, \"#e6f5d0\"], [0.7, \"#b8e186\"], [0.8, \"#7fbc41\"], [0.9, \"#4d9221\"], [1, \"#276419\"]], \"sequential\": [[0.0, \"#0d0887\"], [0.1111111111111111, \"#46039f\"], [0.2222222222222222, \"#7201a8\"], [0.3333333333333333, \"#9c179e\"], [0.4444444444444444, \"#bd3786\"], [0.5555555555555556, \"#d8576b\"], [0.6666666666666666, \"#ed7953\"], [0.7777777777777778, \"#fb9f3a\"], [0.8888888888888888, \"#fdca26\"], [1.0, \"#f0f921\"]], \"sequentialminus\": [[0.0, \"#0d0887\"], [0.1111111111111111, \"#46039f\"], [0.2222222222222222, \"#7201a8\"], [0.3333333333333333, \"#9c179e\"], [0.4444444444444444, \"#bd3786\"], [0.5555555555555556, \"#d8576b\"], [0.6666666666666666, \"#ed7953\"], [0.7777777777777778, \"#fb9f3a\"], [0.8888888888888888, \"#fdca26\"], [1.0, \"#f0f921\"]]}, \"colorway\": [\"#636efa\", \"#EF553B\", \"#00cc96\", \"#ab63fa\", \"#FFA15A\", \"#19d3f3\", \"#FF6692\", \"#B6E880\", \"#FF97FF\", \"#FECB52\"], \"font\": {\"color\": \"#2a3f5f\"}, \"geo\": {\"bgcolor\": \"white\", \"lakecolor\": \"white\", \"landcolor\": \"#E5ECF6\", \"showlakes\": true, \"showland\": true, \"subunitcolor\": \"white\"}, \"hoverlabel\": {\"align\": \"left\"}, \"hovermode\": \"closest\", \"mapbox\": {\"style\": \"light\"}, \"paper_bgcolor\": \"white\", \"plot_bgcolor\": \"#E5ECF6\", \"polar\": {\"angularaxis\": {\"gridcolor\": \"white\", \"linecolor\": \"white\", \"ticks\": \"\"}, \"bgcolor\": \"#E5ECF6\", \"radialaxis\": {\"gridcolor\": \"white\", \"linecolor\": \"white\", \"ticks\": \"\"}}, \"scene\": {\"xaxis\": {\"backgroundcolor\": \"#E5ECF6\", \"gridcolor\": \"white\", \"gridwidth\": 2, \"linecolor\": \"white\", \"showbackground\": true, \"ticks\": \"\", \"zerolinecolor\": \"white\"}, \"yaxis\": {\"backgroundcolor\": \"#E5ECF6\", \"gridcolor\": \"white\", \"gridwidth\": 2, \"linecolor\": \"white\", \"showbackground\": true, \"ticks\": \"\", \"zerolinecolor\": \"white\"}, \"zaxis\": {\"backgroundcolor\": \"#E5ECF6\", \"gridcolor\": \"white\", \"gridwidth\": 2, \"linecolor\": \"white\", \"showbackground\": true, \"ticks\": \"\", \"zerolinecolor\": \"white\"}}, \"shapedefaults\": {\"line\": {\"color\": \"#2a3f5f\"}}, \"ternary\": {\"aaxis\": {\"gridcolor\": \"white\", \"linecolor\": \"white\", \"ticks\": \"\"}, \"baxis\": {\"gridcolor\": \"white\", \"linecolor\": \"white\", \"ticks\": \"\"}, \"bgcolor\": \"#E5ECF6\", \"caxis\": {\"gridcolor\": \"white\", \"linecolor\": \"white\", \"ticks\": \"\"}}, \"title\": {\"x\": 0.05}, \"xaxis\": {\"automargin\": true, \"gridcolor\": \"white\", \"linecolor\": \"white\", \"ticks\": \"\", \"zerolinecolor\": \"white\", \"zerolinewidth\": 2}, \"yaxis\": {\"automargin\": true, \"gridcolor\": \"white\", \"linecolor\": \"white\", \"ticks\": \"\", \"zerolinecolor\": \"white\", \"zerolinewidth\": 2}}}, \"title\": {\"text\": \"Age Distribuition\"}, \"xaxis\": {\"anchor\": \"y\", \"domain\": [0.0, 0.45]}, \"xaxis2\": {\"anchor\": \"y2\", \"domain\": [0.55, 1.0]}, \"xaxis3\": {\"anchor\": \"y3\", \"domain\": [0.0, 1.0]}, \"yaxis\": {\"anchor\": \"x\", \"domain\": [0.625, 1.0]}, \"yaxis2\": {\"anchor\": \"x2\", \"domain\": [0.625, 1.0]}, \"yaxis3\": {\"anchor\": \"x3\", \"domain\": [0.0, 0.375]}},\n",
       "                        {\"responsive\": true}\n",
       "                    ).then(function(){\n",
       "                            \n",
       "var gd = document.getElementById('20ee450e-ecb9-482a-9cbe-29a3f8595aef');\n",
       "var x = new MutationObserver(function (mutations, observer) {{\n",
       "        var display = window.getComputedStyle(gd).display;\n",
       "        if (!display || display === 'none') {{\n",
       "            console.log([gd, 'removed!']);\n",
       "            Plotly.purge(gd);\n",
       "            observer.disconnect();\n",
       "        }}\n",
       "}});\n",
       "\n",
       "// Listen for the removal of the full notebook cells\n",
       "var notebookContainer = gd.closest('#notebook-container');\n",
       "if (notebookContainer) {{\n",
       "    x.observe(notebookContainer, {childList: true});\n",
       "}}\n",
       "\n",
       "// Listen for the clearing of the current output cell\n",
       "var outputEl = gd.closest('.output');\n",
       "if (outputEl) {{\n",
       "    x.observe(outputEl, {childList: true});\n",
       "}}\n",
       "\n",
       "                        })\n",
       "                };\n",
       "                });\n",
       "            </script>\n",
       "        </div>"
      ]
     },
     "metadata": {},
     "output_type": "display_data"
    }
   ],
   "source": [
    "df_good = df.loc[df[\"Risk\"] == 'good'].sort_values(by=['Age'])['Age'].values.tolist()\n",
    "df_bad = df.loc[df[\"Risk\"] == 'bad'].sort_values(by=['Age'])['Age'].values.tolist()\n",
    "df_age = df['Age'].values.tolist()\n",
    "\n",
    "trace0 = go.Histogram(\n",
    "    x=df_good,\n",
    "    histnorm='probability',\n",
    "    name=\"Good Credit\"\n",
    ")\n",
    "\n",
    "trace1 = go.Histogram(\n",
    "    x=df_bad,\n",
    "    histnorm='probability',\n",
    "    name=\"Bad Credit\"\n",
    ")\n",
    "\n",
    "trace2 = go.Histogram(\n",
    "    x=df_age,\n",
    "    histnorm='probability',\n",
    "    name=\"Overall Age\"\n",
    ")\n",
    "\n",
    "fig = tls.make_subplots(rows=2, cols=2, specs=[[{}, {}], [{'colspan': 2}, None]],\n",
    "                          subplot_titles=('Good','Bad', 'General Distribuition'))\n",
    "\n",
    "fig.append_trace(trace0, 1, 1)\n",
    "fig.append_trace(trace1, 1, 2)\n",
    "fig.append_trace(trace2, 2, 1)\n",
    "\n",
    "fig['layout'].update(showlegend=True, title='Age Distribuition', bargap=0.05)\n",
    "py.iplot(fig, filename='custom-sized-subplot-with-subplot-titles')"
   ]
  },
  {
   "cell_type": "markdown",
   "metadata": {},
   "source": [
    "As you can see in the graphic, there is no correlation between age and risk."
   ]
  },
  {
   "cell_type": "markdown",
   "metadata": {},
   "source": [
    "**3. Is there any correlation between purpose and risk?**"
   ]
  },
  {
   "cell_type": "code",
   "execution_count": 16,
   "metadata": {},
   "outputs": [
    {
     "data": {
      "application/vnd.plotly.v1+json": {
       "config": {
        "linkText": "Export to plot.ly",
        "plotlyServerURL": "https://plot.ly",
        "showLink": false
       },
       "data": [
        {
         "histnorm": "probability",
         "name": "Good Credit",
         "type": "histogram",
         "x": [
          "business",
          "business",
          "business",
          "business",
          "business",
          "business",
          "business",
          "business",
          "business",
          "business",
          "business",
          "business",
          "business",
          "business",
          "business",
          "business",
          "business",
          "business",
          "business",
          "business",
          "business",
          "business",
          "business",
          "business",
          "business",
          "business",
          "business",
          "business",
          "business",
          "business",
          "business",
          "business",
          "business",
          "business",
          "business",
          "business",
          "business",
          "business",
          "business",
          "business",
          "business",
          "business",
          "business",
          "business",
          "business",
          "business",
          "business",
          "business",
          "business",
          "business",
          "business",
          "business",
          "business",
          "business",
          "business",
          "business",
          "business",
          "business",
          "business",
          "business",
          "business",
          "business",
          "business",
          "car",
          "car",
          "car",
          "car",
          "car",
          "car",
          "car",
          "car",
          "car",
          "car",
          "car",
          "car",
          "car",
          "car",
          "car",
          "car",
          "car",
          "car",
          "car",
          "car",
          "car",
          "car",
          "car",
          "car",
          "car",
          "car",
          "car",
          "car",
          "car",
          "car",
          "car",
          "car",
          "car",
          "car",
          "car",
          "car",
          "car",
          "car",
          "car",
          "car",
          "car",
          "car",
          "car",
          "car",
          "car",
          "car",
          "car",
          "car",
          "car",
          "car",
          "car",
          "car",
          "car",
          "car",
          "car",
          "car",
          "car",
          "car",
          "car",
          "car",
          "car",
          "car",
          "car",
          "car",
          "car",
          "car",
          "car",
          "car",
          "car",
          "car",
          "car",
          "car",
          "car",
          "car",
          "car",
          "car",
          "car",
          "car",
          "car",
          "car",
          "car",
          "car",
          "car",
          "car",
          "car",
          "car",
          "car",
          "car",
          "car",
          "car",
          "car",
          "car",
          "car",
          "car",
          "car",
          "car",
          "car",
          "car",
          "car",
          "car",
          "car",
          "car",
          "car",
          "car",
          "car",
          "car",
          "car",
          "car",
          "car",
          "car",
          "car",
          "car",
          "car",
          "car",
          "car",
          "car",
          "car",
          "car",
          "car",
          "car",
          "car",
          "car",
          "car",
          "car",
          "car",
          "car",
          "car",
          "car",
          "car",
          "car",
          "car",
          "car",
          "car",
          "car",
          "car",
          "car",
          "car",
          "car",
          "car",
          "car",
          "car",
          "car",
          "car",
          "car",
          "car",
          "car",
          "car",
          "car",
          "car",
          "car",
          "car",
          "car",
          "car",
          "car",
          "car",
          "car",
          "car",
          "car",
          "car",
          "car",
          "car",
          "car",
          "car",
          "car",
          "car",
          "car",
          "car",
          "car",
          "car",
          "car",
          "car",
          "car",
          "car",
          "car",
          "car",
          "car",
          "car",
          "car",
          "car",
          "car",
          "car",
          "car",
          "car",
          "car",
          "car",
          "car",
          "car",
          "car",
          "car",
          "car",
          "car",
          "car",
          "car",
          "car",
          "car",
          "car",
          "car",
          "car",
          "car",
          "car",
          "car",
          "car",
          "car",
          "car",
          "car",
          "car",
          "car",
          "car",
          "car",
          "car",
          "car",
          "car",
          "car",
          "car",
          "car",
          "car",
          "car",
          "car",
          "car",
          "car",
          "car",
          "car",
          "car",
          "car",
          "car",
          "car",
          "car",
          "car",
          "car",
          "car",
          "car",
          "domestic appliances",
          "domestic appliances",
          "domestic appliances",
          "domestic appliances",
          "domestic appliances",
          "domestic appliances",
          "domestic appliances",
          "domestic appliances",
          "education",
          "education",
          "education",
          "education",
          "education",
          "education",
          "education",
          "education",
          "education",
          "education",
          "education",
          "education",
          "education",
          "education",
          "education",
          "education",
          "education",
          "education",
          "education",
          "education",
          "education",
          "education",
          "education",
          "education",
          "education",
          "education",
          "education",
          "education",
          "education",
          "education",
          "education",
          "education",
          "education",
          "education",
          "education",
          "education",
          "furniture/equipment",
          "furniture/equipment",
          "furniture/equipment",
          "furniture/equipment",
          "furniture/equipment",
          "furniture/equipment",
          "furniture/equipment",
          "furniture/equipment",
          "furniture/equipment",
          "furniture/equipment",
          "furniture/equipment",
          "furniture/equipment",
          "furniture/equipment",
          "furniture/equipment",
          "furniture/equipment",
          "furniture/equipment",
          "furniture/equipment",
          "furniture/equipment",
          "furniture/equipment",
          "furniture/equipment",
          "furniture/equipment",
          "furniture/equipment",
          "furniture/equipment",
          "furniture/equipment",
          "furniture/equipment",
          "furniture/equipment",
          "furniture/equipment",
          "furniture/equipment",
          "furniture/equipment",
          "furniture/equipment",
          "furniture/equipment",
          "furniture/equipment",
          "furniture/equipment",
          "furniture/equipment",
          "furniture/equipment",
          "furniture/equipment",
          "furniture/equipment",
          "furniture/equipment",
          "furniture/equipment",
          "furniture/equipment",
          "furniture/equipment",
          "furniture/equipment",
          "furniture/equipment",
          "furniture/equipment",
          "furniture/equipment",
          "furniture/equipment",
          "furniture/equipment",
          "furniture/equipment",
          "furniture/equipment",
          "furniture/equipment",
          "furniture/equipment",
          "furniture/equipment",
          "furniture/equipment",
          "furniture/equipment",
          "furniture/equipment",
          "furniture/equipment",
          "furniture/equipment",
          "furniture/equipment",
          "furniture/equipment",
          "furniture/equipment",
          "furniture/equipment",
          "furniture/equipment",
          "furniture/equipment",
          "furniture/equipment",
          "furniture/equipment",
          "furniture/equipment",
          "furniture/equipment",
          "furniture/equipment",
          "furniture/equipment",
          "furniture/equipment",
          "furniture/equipment",
          "furniture/equipment",
          "furniture/equipment",
          "furniture/equipment",
          "furniture/equipment",
          "furniture/equipment",
          "furniture/equipment",
          "furniture/equipment",
          "furniture/equipment",
          "furniture/equipment",
          "furniture/equipment",
          "furniture/equipment",
          "furniture/equipment",
          "furniture/equipment",
          "furniture/equipment",
          "furniture/equipment",
          "furniture/equipment",
          "furniture/equipment",
          "furniture/equipment",
          "furniture/equipment",
          "furniture/equipment",
          "furniture/equipment",
          "furniture/equipment",
          "furniture/equipment",
          "furniture/equipment",
          "furniture/equipment",
          "furniture/equipment",
          "furniture/equipment",
          "furniture/equipment",
          "furniture/equipment",
          "furniture/equipment",
          "furniture/equipment",
          "furniture/equipment",
          "furniture/equipment",
          "furniture/equipment",
          "furniture/equipment",
          "furniture/equipment",
          "furniture/equipment",
          "furniture/equipment",
          "furniture/equipment",
          "furniture/equipment",
          "furniture/equipment",
          "furniture/equipment",
          "furniture/equipment",
          "furniture/equipment",
          "furniture/equipment",
          "furniture/equipment",
          "furniture/equipment",
          "furniture/equipment",
          "furniture/equipment",
          "furniture/equipment",
          "furniture/equipment",
          "furniture/equipment",
          "radio/TV",
          "radio/TV",
          "radio/TV",
          "radio/TV",
          "radio/TV",
          "radio/TV",
          "radio/TV",
          "radio/TV",
          "radio/TV",
          "radio/TV",
          "radio/TV",
          "radio/TV",
          "radio/TV",
          "radio/TV",
          "radio/TV",
          "radio/TV",
          "radio/TV",
          "radio/TV",
          "radio/TV",
          "radio/TV",
          "radio/TV",
          "radio/TV",
          "radio/TV",
          "radio/TV",
          "radio/TV",
          "radio/TV",
          "radio/TV",
          "radio/TV",
          "radio/TV",
          "radio/TV",
          "radio/TV",
          "radio/TV",
          "radio/TV",
          "radio/TV",
          "radio/TV",
          "radio/TV",
          "radio/TV",
          "radio/TV",
          "radio/TV",
          "radio/TV",
          "radio/TV",
          "radio/TV",
          "radio/TV",
          "radio/TV",
          "radio/TV",
          "radio/TV",
          "radio/TV",
          "radio/TV",
          "radio/TV",
          "radio/TV",
          "radio/TV",
          "radio/TV",
          "radio/TV",
          "radio/TV",
          "radio/TV",
          "radio/TV",
          "radio/TV",
          "radio/TV",
          "radio/TV",
          "radio/TV",
          "radio/TV",
          "radio/TV",
          "radio/TV",
          "radio/TV",
          "radio/TV",
          "radio/TV",
          "radio/TV",
          "radio/TV",
          "radio/TV",
          "radio/TV",
          "radio/TV",
          "radio/TV",
          "radio/TV",
          "radio/TV",
          "radio/TV",
          "radio/TV",
          "radio/TV",
          "radio/TV",
          "radio/TV",
          "radio/TV",
          "radio/TV",
          "radio/TV",
          "radio/TV",
          "radio/TV",
          "radio/TV",
          "radio/TV",
          "radio/TV",
          "radio/TV",
          "radio/TV",
          "radio/TV",
          "radio/TV",
          "radio/TV",
          "radio/TV",
          "radio/TV",
          "radio/TV",
          "radio/TV",
          "radio/TV",
          "radio/TV",
          "radio/TV",
          "radio/TV",
          "radio/TV",
          "radio/TV",
          "radio/TV",
          "radio/TV",
          "radio/TV",
          "radio/TV",
          "radio/TV",
          "radio/TV",
          "radio/TV",
          "radio/TV",
          "radio/TV",
          "radio/TV",
          "radio/TV",
          "radio/TV",
          "radio/TV",
          "radio/TV",
          "radio/TV",
          "radio/TV",
          "radio/TV",
          "radio/TV",
          "radio/TV",
          "radio/TV",
          "radio/TV",
          "radio/TV",
          "radio/TV",
          "radio/TV",
          "radio/TV",
          "radio/TV",
          "radio/TV",
          "radio/TV",
          "radio/TV",
          "radio/TV",
          "radio/TV",
          "radio/TV",
          "radio/TV",
          "radio/TV",
          "radio/TV",
          "radio/TV",
          "radio/TV",
          "radio/TV",
          "radio/TV",
          "radio/TV",
          "radio/TV",
          "radio/TV",
          "radio/TV",
          "radio/TV",
          "radio/TV",
          "radio/TV",
          "radio/TV",
          "radio/TV",
          "radio/TV",
          "radio/TV",
          "radio/TV",
          "radio/TV",
          "radio/TV",
          "radio/TV",
          "radio/TV",
          "radio/TV",
          "radio/TV",
          "radio/TV",
          "radio/TV",
          "radio/TV",
          "radio/TV",
          "radio/TV",
          "radio/TV",
          "radio/TV",
          "radio/TV",
          "radio/TV",
          "radio/TV",
          "radio/TV",
          "radio/TV",
          "radio/TV",
          "radio/TV",
          "radio/TV",
          "radio/TV",
          "radio/TV",
          "radio/TV",
          "radio/TV",
          "radio/TV",
          "radio/TV",
          "radio/TV",
          "radio/TV",
          "radio/TV",
          "radio/TV",
          "radio/TV",
          "radio/TV",
          "radio/TV",
          "radio/TV",
          "radio/TV",
          "radio/TV",
          "radio/TV",
          "radio/TV",
          "radio/TV",
          "radio/TV",
          "radio/TV",
          "radio/TV",
          "radio/TV",
          "radio/TV",
          "radio/TV",
          "radio/TV",
          "radio/TV",
          "radio/TV",
          "radio/TV",
          "radio/TV",
          "radio/TV",
          "radio/TV",
          "radio/TV",
          "radio/TV",
          "radio/TV",
          "radio/TV",
          "radio/TV",
          "radio/TV",
          "radio/TV",
          "radio/TV",
          "radio/TV",
          "radio/TV",
          "radio/TV",
          "radio/TV",
          "repairs",
          "repairs",
          "repairs",
          "repairs",
          "repairs",
          "repairs",
          "repairs",
          "repairs",
          "repairs",
          "repairs",
          "repairs",
          "repairs",
          "repairs",
          "repairs",
          "vacation/others",
          "vacation/others",
          "vacation/others",
          "vacation/others",
          "vacation/others",
          "vacation/others",
          "vacation/others"
         ],
         "xaxis": "x",
         "yaxis": "y"
        },
        {
         "histnorm": "probability",
         "name": "Bad Credit",
         "type": "histogram",
         "x": [
          "business",
          "business",
          "business",
          "business",
          "business",
          "business",
          "business",
          "business",
          "business",
          "business",
          "business",
          "business",
          "business",
          "business",
          "business",
          "business",
          "business",
          "business",
          "business",
          "business",
          "business",
          "business",
          "business",
          "business",
          "business",
          "business",
          "business",
          "business",
          "business",
          "business",
          "business",
          "business",
          "business",
          "business",
          "car",
          "car",
          "car",
          "car",
          "car",
          "car",
          "car",
          "car",
          "car",
          "car",
          "car",
          "car",
          "car",
          "car",
          "car",
          "car",
          "car",
          "car",
          "car",
          "car",
          "car",
          "car",
          "car",
          "car",
          "car",
          "car",
          "car",
          "car",
          "car",
          "car",
          "car",
          "car",
          "car",
          "car",
          "car",
          "car",
          "car",
          "car",
          "car",
          "car",
          "car",
          "car",
          "car",
          "car",
          "car",
          "car",
          "car",
          "car",
          "car",
          "car",
          "car",
          "car",
          "car",
          "car",
          "car",
          "car",
          "car",
          "car",
          "car",
          "car",
          "car",
          "car",
          "car",
          "car",
          "car",
          "car",
          "car",
          "car",
          "car",
          "car",
          "car",
          "car",
          "car",
          "car",
          "car",
          "car",
          "car",
          "car",
          "car",
          "car",
          "car",
          "car",
          "car",
          "car",
          "car",
          "car",
          "car",
          "car",
          "car",
          "car",
          "car",
          "car",
          "car",
          "car",
          "car",
          "car",
          "car",
          "car",
          "car",
          "car",
          "car",
          "car",
          "car",
          "car",
          "car",
          "car",
          "domestic appliances",
          "domestic appliances",
          "domestic appliances",
          "domestic appliances",
          "education",
          "education",
          "education",
          "education",
          "education",
          "education",
          "education",
          "education",
          "education",
          "education",
          "education",
          "education",
          "education",
          "education",
          "education",
          "education",
          "education",
          "education",
          "education",
          "education",
          "education",
          "education",
          "education",
          "furniture/equipment",
          "furniture/equipment",
          "furniture/equipment",
          "furniture/equipment",
          "furniture/equipment",
          "furniture/equipment",
          "furniture/equipment",
          "furniture/equipment",
          "furniture/equipment",
          "furniture/equipment",
          "furniture/equipment",
          "furniture/equipment",
          "furniture/equipment",
          "furniture/equipment",
          "furniture/equipment",
          "furniture/equipment",
          "furniture/equipment",
          "furniture/equipment",
          "furniture/equipment",
          "furniture/equipment",
          "furniture/equipment",
          "furniture/equipment",
          "furniture/equipment",
          "furniture/equipment",
          "furniture/equipment",
          "furniture/equipment",
          "furniture/equipment",
          "furniture/equipment",
          "furniture/equipment",
          "furniture/equipment",
          "furniture/equipment",
          "furniture/equipment",
          "furniture/equipment",
          "furniture/equipment",
          "furniture/equipment",
          "furniture/equipment",
          "furniture/equipment",
          "furniture/equipment",
          "furniture/equipment",
          "furniture/equipment",
          "furniture/equipment",
          "furniture/equipment",
          "furniture/equipment",
          "furniture/equipment",
          "furniture/equipment",
          "furniture/equipment",
          "furniture/equipment",
          "furniture/equipment",
          "furniture/equipment",
          "furniture/equipment",
          "furniture/equipment",
          "furniture/equipment",
          "furniture/equipment",
          "furniture/equipment",
          "furniture/equipment",
          "furniture/equipment",
          "furniture/equipment",
          "furniture/equipment",
          "radio/TV",
          "radio/TV",
          "radio/TV",
          "radio/TV",
          "radio/TV",
          "radio/TV",
          "radio/TV",
          "radio/TV",
          "radio/TV",
          "radio/TV",
          "radio/TV",
          "radio/TV",
          "radio/TV",
          "radio/TV",
          "radio/TV",
          "radio/TV",
          "radio/TV",
          "radio/TV",
          "radio/TV",
          "radio/TV",
          "radio/TV",
          "radio/TV",
          "radio/TV",
          "radio/TV",
          "radio/TV",
          "radio/TV",
          "radio/TV",
          "radio/TV",
          "radio/TV",
          "radio/TV",
          "radio/TV",
          "radio/TV",
          "radio/TV",
          "radio/TV",
          "radio/TV",
          "radio/TV",
          "radio/TV",
          "radio/TV",
          "radio/TV",
          "radio/TV",
          "radio/TV",
          "radio/TV",
          "radio/TV",
          "radio/TV",
          "radio/TV",
          "radio/TV",
          "radio/TV",
          "radio/TV",
          "radio/TV",
          "radio/TV",
          "radio/TV",
          "radio/TV",
          "radio/TV",
          "radio/TV",
          "radio/TV",
          "radio/TV",
          "radio/TV",
          "radio/TV",
          "radio/TV",
          "radio/TV",
          "radio/TV",
          "radio/TV",
          "repairs",
          "repairs",
          "repairs",
          "repairs",
          "repairs",
          "repairs",
          "repairs",
          "repairs",
          "vacation/others",
          "vacation/others",
          "vacation/others",
          "vacation/others",
          "vacation/others"
         ],
         "xaxis": "x2",
         "yaxis": "y2"
        },
        {
         "histnorm": "probability",
         "name": "Overall Purpose",
         "type": "histogram",
         "x": [
          "radio/TV",
          "radio/TV",
          "education",
          "furniture/equipment",
          "car",
          "education",
          "furniture/equipment",
          "car",
          "radio/TV",
          "car",
          "car",
          "business",
          "radio/TV",
          "car",
          "car",
          "radio/TV",
          "radio/TV",
          "business",
          "car",
          "radio/TV",
          "car",
          "radio/TV",
          "car",
          "car",
          "furniture/equipment",
          "furniture/equipment",
          "radio/TV",
          "radio/TV",
          "radio/TV",
          "business",
          "business",
          "furniture/equipment",
          "car",
          "business",
          "furniture/equipment",
          "radio/TV",
          "education",
          "radio/TV",
          "domestic appliances",
          "radio/TV",
          "radio/TV",
          "radio/TV",
          "repairs",
          "car",
          "car",
          "car",
          "radio/TV",
          "car",
          "car",
          "radio/TV",
          "furniture/equipment",
          "car",
          "radio/TV",
          "car",
          "car",
          "car",
          "radio/TV",
          "radio/TV",
          "car",
          "furniture/equipment",
          "business",
          "radio/TV",
          "business",
          "business",
          "radio/TV",
          "repairs",
          "radio/TV",
          "car",
          "education",
          "radio/TV",
          "car",
          "radio/TV",
          "vacation/others",
          "business",
          "education",
          "car",
          "radio/TV",
          "radio/TV",
          "car",
          "furniture/equipment",
          "radio/TV",
          "radio/TV",
          "business",
          "vacation/others",
          "radio/TV",
          "business",
          "furniture/equipment",
          "education",
          "car",
          "repairs",
          "radio/TV",
          "car",
          "radio/TV",
          "furniture/equipment",
          "car",
          "business",
          "education",
          "business",
          "radio/TV",
          "car",
          "car",
          "radio/TV",
          "radio/TV",
          "furniture/equipment",
          "car",
          "vacation/others",
          "car",
          "car",
          "furniture/equipment",
          "business",
          "business",
          "education",
          "car",
          "car",
          "radio/TV",
          "radio/TV",
          "radio/TV",
          "furniture/equipment",
          "furniture/equipment",
          "car",
          "radio/TV",
          "car",
          "furniture/equipment",
          "car",
          "furniture/equipment",
          "car",
          "radio/TV",
          "repairs",
          "car",
          "car",
          "car",
          "education",
          "furniture/equipment",
          "furniture/equipment",
          "radio/TV",
          "radio/TV",
          "car",
          "radio/TV",
          "radio/TV",
          "radio/TV",
          "car",
          "radio/TV",
          "radio/TV",
          "furniture/equipment",
          "furniture/equipment",
          "business",
          "car",
          "car",
          "furniture/equipment",
          "radio/TV",
          "radio/TV",
          "radio/TV",
          "radio/TV",
          "car",
          "business",
          "furniture/equipment",
          "repairs",
          "education",
          "car",
          "radio/TV",
          "radio/TV",
          "car",
          "domestic appliances",
          "car",
          "car",
          "furniture/equipment",
          "furniture/equipment",
          "furniture/equipment",
          "furniture/equipment",
          "business",
          "car",
          "furniture/equipment",
          "furniture/equipment",
          "radio/TV",
          "education",
          "car",
          "furniture/equipment",
          "radio/TV",
          "radio/TV",
          "car",
          "business",
          "business",
          "car",
          "furniture/equipment",
          "car",
          "radio/TV",
          "car",
          "car",
          "radio/TV",
          "furniture/equipment",
          "business",
          "business",
          "business",
          "radio/TV",
          "radio/TV",
          "education",
          "radio/TV",
          "furniture/equipment",
          "car",
          "furniture/equipment",
          "education",
          "car",
          "business",
          "education",
          "car",
          "car",
          "furniture/equipment",
          "domestic appliances",
          "business",
          "car",
          "radio/TV",
          "radio/TV",
          "business",
          "business",
          "radio/TV",
          "education",
          "business",
          "radio/TV",
          "furniture/equipment",
          "car",
          "radio/TV",
          "education",
          "radio/TV",
          "business",
          "car",
          "repairs",
          "radio/TV",
          "furniture/equipment",
          "radio/TV",
          "furniture/equipment",
          "radio/TV",
          "car",
          "radio/TV",
          "radio/TV",
          "radio/TV",
          "radio/TV",
          "car",
          "business",
          "radio/TV",
          "radio/TV",
          "car",
          "radio/TV",
          "car",
          "business",
          "education",
          "business",
          "radio/TV",
          "car",
          "furniture/equipment",
          "radio/TV",
          "car",
          "furniture/equipment",
          "car",
          "furniture/equipment",
          "furniture/equipment",
          "radio/TV",
          "radio/TV",
          "radio/TV",
          "car",
          "radio/TV",
          "furniture/equipment",
          "radio/TV",
          "car",
          "education",
          "car",
          "radio/TV",
          "business",
          "radio/TV",
          "car",
          "radio/TV",
          "car",
          "furniture/equipment",
          "car",
          "radio/TV",
          "repairs",
          "radio/TV",
          "radio/TV",
          "furniture/equipment",
          "furniture/equipment",
          "radio/TV",
          "car",
          "furniture/equipment",
          "radio/TV",
          "furniture/equipment",
          "car",
          "car",
          "car",
          "vacation/others",
          "radio/TV",
          "radio/TV",
          "business",
          "car",
          "car",
          "car",
          "business",
          "furniture/equipment",
          "car",
          "car",
          "furniture/equipment",
          "furniture/equipment",
          "car",
          "radio/TV",
          "car",
          "car",
          "car",
          "furniture/equipment",
          "car",
          "radio/TV",
          "furniture/equipment",
          "car",
          "vacation/others",
          "furniture/equipment",
          "furniture/equipment",
          "car",
          "car",
          "furniture/equipment",
          "furniture/equipment",
          "furniture/equipment",
          "education",
          "furniture/equipment",
          "car",
          "radio/TV",
          "car",
          "furniture/equipment",
          "car",
          "car",
          "furniture/equipment",
          "car",
          "radio/TV",
          "radio/TV",
          "car",
          "education",
          "car",
          "car",
          "furniture/equipment",
          "furniture/equipment",
          "radio/TV",
          "domestic appliances",
          "furniture/equipment",
          "furniture/equipment",
          "education",
          "furniture/equipment",
          "radio/TV",
          "business",
          "car",
          "radio/TV",
          "radio/TV",
          "radio/TV",
          "business",
          "education",
          "domestic appliances",
          "furniture/equipment",
          "car",
          "radio/TV",
          "education",
          "car",
          "radio/TV",
          "radio/TV",
          "radio/TV",
          "furniture/equipment",
          "education",
          "radio/TV",
          "car",
          "furniture/equipment",
          "furniture/equipment",
          "business",
          "car",
          "furniture/equipment",
          "furniture/equipment",
          "furniture/equipment",
          "car",
          "radio/TV",
          "furniture/equipment",
          "car",
          "vacation/others",
          "business",
          "radio/TV",
          "radio/TV",
          "car",
          "car",
          "furniture/equipment",
          "car",
          "car",
          "car",
          "business",
          "radio/TV",
          "radio/TV",
          "furniture/equipment",
          "business",
          "business",
          "car",
          "furniture/equipment",
          "car",
          "radio/TV",
          "furniture/equipment",
          "education",
          "furniture/equipment",
          "furniture/equipment",
          "car",
          "radio/TV",
          "radio/TV",
          "business",
          "business",
          "car",
          "car",
          "radio/TV",
          "car",
          "radio/TV",
          "radio/TV",
          "car",
          "radio/TV",
          "car",
          "business",
          "car",
          "car",
          "car",
          "car",
          "education",
          "car",
          "car",
          "car",
          "car",
          "car",
          "furniture/equipment",
          "furniture/equipment",
          "car",
          "radio/TV",
          "radio/TV",
          "furniture/equipment",
          "repairs",
          "business",
          "vacation/others",
          "furniture/equipment",
          "repairs",
          "furniture/equipment",
          "radio/TV",
          "repairs",
          "car",
          "repairs",
          "business",
          "car",
          "furniture/equipment",
          "vacation/others",
          "education",
          "furniture/equipment",
          "education",
          "car",
          "radio/TV",
          "furniture/equipment",
          "repairs",
          "car",
          "radio/TV",
          "furniture/equipment",
          "car",
          "car",
          "car",
          "car",
          "car",
          "domestic appliances",
          "radio/TV",
          "furniture/equipment",
          "car",
          "furniture/equipment",
          "education",
          "business",
          "car",
          "radio/TV",
          "radio/TV",
          "business",
          "car",
          "radio/TV",
          "education",
          "car",
          "education",
          "radio/TV",
          "furniture/equipment",
          "car",
          "radio/TV",
          "business",
          "furniture/equipment",
          "radio/TV",
          "car",
          "furniture/equipment",
          "furniture/equipment",
          "car",
          "car",
          "radio/TV",
          "car",
          "car",
          "car",
          "radio/TV",
          "business",
          "radio/TV",
          "radio/TV",
          "car",
          "furniture/equipment",
          "furniture/equipment",
          "furniture/equipment",
          "radio/TV",
          "car",
          "car",
          "car",
          "radio/TV",
          "radio/TV",
          "car",
          "car",
          "car",
          "car",
          "radio/TV",
          "car",
          "car",
          "car",
          "business",
          "radio/TV",
          "car",
          "car",
          "car",
          "furniture/equipment",
          "car",
          "radio/TV",
          "repairs",
          "radio/TV",
          "furniture/equipment",
          "car",
          "radio/TV",
          "car",
          "education",
          "radio/TV",
          "radio/TV",
          "car",
          "education",
          "car",
          "car",
          "radio/TV",
          "radio/TV",
          "education",
          "car",
          "furniture/equipment",
          "car",
          "furniture/equipment",
          "radio/TV",
          "car",
          "furniture/equipment",
          "furniture/equipment",
          "car",
          "car",
          "car",
          "radio/TV",
          "radio/TV",
          "car",
          "repairs",
          "radio/TV",
          "radio/TV",
          "car",
          "education",
          "radio/TV",
          "car",
          "car",
          "furniture/equipment",
          "furniture/equipment",
          "car",
          "radio/TV",
          "radio/TV",
          "car",
          "business",
          "radio/TV",
          "car",
          "radio/TV",
          "radio/TV",
          "radio/TV",
          "furniture/equipment",
          "radio/TV",
          "car",
          "business",
          "radio/TV",
          "furniture/equipment",
          "radio/TV",
          "education",
          "car",
          "education",
          "car",
          "car",
          "furniture/equipment",
          "repairs",
          "car",
          "furniture/equipment",
          "car",
          "furniture/equipment",
          "domestic appliances",
          "furniture/equipment",
          "radio/TV",
          "car",
          "business",
          "car",
          "vacation/others",
          "car",
          "car",
          "business",
          "car",
          "business",
          "radio/TV",
          "furniture/equipment",
          "education",
          "furniture/equipment",
          "furniture/equipment",
          "furniture/equipment",
          "business",
          "radio/TV",
          "radio/TV",
          "car",
          "domestic appliances",
          "car",
          "radio/TV",
          "car",
          "furniture/equipment",
          "business",
          "radio/TV",
          "car",
          "furniture/equipment",
          "car",
          "business",
          "car",
          "business",
          "furniture/equipment",
          "radio/TV",
          "radio/TV",
          "furniture/equipment",
          "car",
          "furniture/equipment",
          "education",
          "radio/TV",
          "furniture/equipment",
          "radio/TV",
          "furniture/equipment",
          "car",
          "education",
          "radio/TV",
          "radio/TV",
          "radio/TV",
          "radio/TV",
          "education",
          "repairs",
          "education",
          "radio/TV",
          "radio/TV",
          "business",
          "furniture/equipment",
          "car",
          "car",
          "education",
          "education",
          "furniture/equipment",
          "car",
          "car",
          "car",
          "car",
          "car",
          "radio/TV",
          "business",
          "furniture/equipment",
          "radio/TV",
          "car",
          "furniture/equipment",
          "furniture/equipment",
          "education",
          "vacation/others",
          "furniture/equipment",
          "business",
          "car",
          "radio/TV",
          "business",
          "business",
          "car",
          "car",
          "business",
          "radio/TV",
          "furniture/equipment",
          "radio/TV",
          "radio/TV",
          "radio/TV",
          "education",
          "radio/TV",
          "radio/TV",
          "radio/TV",
          "business",
          "car",
          "radio/TV",
          "car",
          "radio/TV",
          "car",
          "furniture/equipment",
          "repairs",
          "radio/TV",
          "car",
          "radio/TV",
          "car",
          "radio/TV",
          "car",
          "radio/TV",
          "education",
          "furniture/equipment",
          "car",
          "radio/TV",
          "business",
          "business",
          "car",
          "car",
          "furniture/equipment",
          "radio/TV",
          "radio/TV",
          "radio/TV",
          "education",
          "car",
          "radio/TV",
          "car",
          "car",
          "radio/TV",
          "radio/TV",
          "radio/TV",
          "car",
          "radio/TV",
          "education",
          "car",
          "radio/TV",
          "car",
          "car",
          "radio/TV",
          "radio/TV",
          "business",
          "business",
          "radio/TV",
          "radio/TV",
          "radio/TV",
          "car",
          "car",
          "domestic appliances",
          "car",
          "car",
          "car",
          "business",
          "car",
          "radio/TV",
          "radio/TV",
          "furniture/equipment",
          "furniture/equipment",
          "business",
          "car",
          "car",
          "car",
          "car",
          "furniture/equipment",
          "car",
          "business",
          "radio/TV",
          "repairs",
          "car",
          "car",
          "radio/TV",
          "car",
          "car",
          "car",
          "furniture/equipment",
          "radio/TV",
          "car",
          "car",
          "radio/TV",
          "furniture/equipment",
          "car",
          "furniture/equipment",
          "radio/TV",
          "car",
          "education",
          "car",
          "radio/TV",
          "car",
          "car",
          "car",
          "radio/TV",
          "car",
          "repairs",
          "radio/TV",
          "car",
          "education",
          "car",
          "car",
          "business",
          "radio/TV",
          "car",
          "education",
          "education",
          "business",
          "car",
          "furniture/equipment",
          "furniture/equipment",
          "furniture/equipment",
          "furniture/equipment",
          "car",
          "furniture/equipment",
          "car",
          "car",
          "education",
          "radio/TV",
          "furniture/equipment",
          "radio/TV",
          "car",
          "car",
          "radio/TV",
          "radio/TV",
          "car",
          "car",
          "business",
          "radio/TV",
          "car",
          "domestic appliances",
          "car",
          "car",
          "domestic appliances",
          "radio/TV",
          "vacation/others",
          "radio/TV",
          "car",
          "radio/TV",
          "furniture/equipment",
          "car",
          "furniture/equipment",
          "car",
          "car",
          "business",
          "car",
          "business",
          "business",
          "car",
          "business",
          "radio/TV",
          "radio/TV",
          "car",
          "radio/TV",
          "furniture/equipment",
          "car",
          "radio/TV",
          "furniture/equipment",
          "car",
          "repairs",
          "business",
          "furniture/equipment",
          "furniture/equipment",
          "car",
          "car",
          "radio/TV",
          "radio/TV",
          "car",
          "car",
          "radio/TV",
          "car",
          "car",
          "car",
          "education",
          "furniture/equipment",
          "car",
          "car",
          "car",
          "business",
          "radio/TV",
          "furniture/equipment",
          "furniture/equipment",
          "furniture/equipment",
          "radio/TV",
          "furniture/equipment",
          "business",
          "furniture/equipment",
          "furniture/equipment",
          "car",
          "business",
          "domestic appliances",
          "furniture/equipment",
          "car",
          "radio/TV",
          "radio/TV",
          "car",
          "radio/TV",
          "car",
          "car",
          "car",
          "radio/TV",
          "furniture/equipment",
          "education",
          "business",
          "business",
          "car",
          "car",
          "business",
          "radio/TV",
          "car",
          "car",
          "radio/TV",
          "car",
          "radio/TV",
          "furniture/equipment",
          "furniture/equipment",
          "furniture/equipment",
          "car",
          "car",
          "car",
          "radio/TV",
          "radio/TV",
          "radio/TV",
          "car",
          "education",
          "car",
          "car",
          "radio/TV",
          "furniture/equipment",
          "radio/TV",
          "business",
          "business",
          "vacation/others",
          "car",
          "car",
          "furniture/equipment",
          "furniture/equipment",
          "furniture/equipment",
          "radio/TV",
          "radio/TV",
          "car",
          "furniture/equipment",
          "car",
          "furniture/equipment",
          "car",
          "radio/TV",
          "car",
          "furniture/equipment",
          "radio/TV",
          "car",
          "radio/TV",
          "radio/TV",
          "radio/TV",
          "radio/TV",
          "radio/TV",
          "education",
          "car",
          "car",
          "car",
          "furniture/equipment",
          "car",
          "furniture/equipment",
          "car",
          "furniture/equipment",
          "car",
          "furniture/equipment",
          "radio/TV",
          "business",
          "business",
          "car",
          "furniture/equipment",
          "car",
          "radio/TV",
          "radio/TV",
          "radio/TV",
          "car",
          "furniture/equipment",
          "radio/TV",
          "car",
          "car",
          "radio/TV",
          "repairs",
          "radio/TV",
          "radio/TV",
          "radio/TV",
          "radio/TV",
          "car",
          "repairs",
          "car",
          "car",
          "business",
          "radio/TV",
          "radio/TV",
          "radio/TV",
          "business",
          "car",
          "car",
          "furniture/equipment",
          "business",
          "car",
          "car",
          "furniture/equipment",
          "furniture/equipment",
          "business",
          "radio/TV",
          "car",
          "radio/TV",
          "education",
          "radio/TV",
          "radio/TV",
          "furniture/equipment",
          "car",
          "furniture/equipment",
          "car",
          "radio/TV",
          "radio/TV",
          "car"
         ],
         "xaxis": "x3",
         "yaxis": "y3"
        }
       ],
       "layout": {
        "annotations": [
         {
          "font": {
           "size": 16
          },
          "showarrow": false,
          "text": "Good",
          "x": 0.225,
          "xanchor": "center",
          "xref": "paper",
          "y": 1,
          "yanchor": "bottom",
          "yref": "paper"
         },
         {
          "font": {
           "size": 16
          },
          "showarrow": false,
          "text": "Bad",
          "x": 0.775,
          "xanchor": "center",
          "xref": "paper",
          "y": 1,
          "yanchor": "bottom",
          "yref": "paper"
         },
         {
          "font": {
           "size": 16
          },
          "showarrow": false,
          "text": "General Distribuition",
          "x": 0.5,
          "xanchor": "center",
          "xref": "paper",
          "y": 0.375,
          "yanchor": "bottom",
          "yref": "paper"
         }
        ],
        "bargap": 0.05,
        "showlegend": true,
        "template": {
         "data": {
          "bar": [
           {
            "error_x": {
             "color": "#2a3f5f"
            },
            "error_y": {
             "color": "#2a3f5f"
            },
            "marker": {
             "line": {
              "color": "#E5ECF6",
              "width": 0.5
             }
            },
            "type": "bar"
           }
          ],
          "barpolar": [
           {
            "marker": {
             "line": {
              "color": "#E5ECF6",
              "width": 0.5
             }
            },
            "type": "barpolar"
           }
          ],
          "carpet": [
           {
            "aaxis": {
             "endlinecolor": "#2a3f5f",
             "gridcolor": "white",
             "linecolor": "white",
             "minorgridcolor": "white",
             "startlinecolor": "#2a3f5f"
            },
            "baxis": {
             "endlinecolor": "#2a3f5f",
             "gridcolor": "white",
             "linecolor": "white",
             "minorgridcolor": "white",
             "startlinecolor": "#2a3f5f"
            },
            "type": "carpet"
           }
          ],
          "choropleth": [
           {
            "colorbar": {
             "outlinewidth": 0,
             "ticks": ""
            },
            "type": "choropleth"
           }
          ],
          "contour": [
           {
            "colorbar": {
             "outlinewidth": 0,
             "ticks": ""
            },
            "colorscale": [
             [
              0,
              "#0d0887"
             ],
             [
              0.1111111111111111,
              "#46039f"
             ],
             [
              0.2222222222222222,
              "#7201a8"
             ],
             [
              0.3333333333333333,
              "#9c179e"
             ],
             [
              0.4444444444444444,
              "#bd3786"
             ],
             [
              0.5555555555555556,
              "#d8576b"
             ],
             [
              0.6666666666666666,
              "#ed7953"
             ],
             [
              0.7777777777777778,
              "#fb9f3a"
             ],
             [
              0.8888888888888888,
              "#fdca26"
             ],
             [
              1,
              "#f0f921"
             ]
            ],
            "type": "contour"
           }
          ],
          "contourcarpet": [
           {
            "colorbar": {
             "outlinewidth": 0,
             "ticks": ""
            },
            "type": "contourcarpet"
           }
          ],
          "heatmap": [
           {
            "colorbar": {
             "outlinewidth": 0,
             "ticks": ""
            },
            "colorscale": [
             [
              0,
              "#0d0887"
             ],
             [
              0.1111111111111111,
              "#46039f"
             ],
             [
              0.2222222222222222,
              "#7201a8"
             ],
             [
              0.3333333333333333,
              "#9c179e"
             ],
             [
              0.4444444444444444,
              "#bd3786"
             ],
             [
              0.5555555555555556,
              "#d8576b"
             ],
             [
              0.6666666666666666,
              "#ed7953"
             ],
             [
              0.7777777777777778,
              "#fb9f3a"
             ],
             [
              0.8888888888888888,
              "#fdca26"
             ],
             [
              1,
              "#f0f921"
             ]
            ],
            "type": "heatmap"
           }
          ],
          "heatmapgl": [
           {
            "colorbar": {
             "outlinewidth": 0,
             "ticks": ""
            },
            "colorscale": [
             [
              0,
              "#0d0887"
             ],
             [
              0.1111111111111111,
              "#46039f"
             ],
             [
              0.2222222222222222,
              "#7201a8"
             ],
             [
              0.3333333333333333,
              "#9c179e"
             ],
             [
              0.4444444444444444,
              "#bd3786"
             ],
             [
              0.5555555555555556,
              "#d8576b"
             ],
             [
              0.6666666666666666,
              "#ed7953"
             ],
             [
              0.7777777777777778,
              "#fb9f3a"
             ],
             [
              0.8888888888888888,
              "#fdca26"
             ],
             [
              1,
              "#f0f921"
             ]
            ],
            "type": "heatmapgl"
           }
          ],
          "histogram": [
           {
            "marker": {
             "colorbar": {
              "outlinewidth": 0,
              "ticks": ""
             }
            },
            "type": "histogram"
           }
          ],
          "histogram2d": [
           {
            "colorbar": {
             "outlinewidth": 0,
             "ticks": ""
            },
            "colorscale": [
             [
              0,
              "#0d0887"
             ],
             [
              0.1111111111111111,
              "#46039f"
             ],
             [
              0.2222222222222222,
              "#7201a8"
             ],
             [
              0.3333333333333333,
              "#9c179e"
             ],
             [
              0.4444444444444444,
              "#bd3786"
             ],
             [
              0.5555555555555556,
              "#d8576b"
             ],
             [
              0.6666666666666666,
              "#ed7953"
             ],
             [
              0.7777777777777778,
              "#fb9f3a"
             ],
             [
              0.8888888888888888,
              "#fdca26"
             ],
             [
              1,
              "#f0f921"
             ]
            ],
            "type": "histogram2d"
           }
          ],
          "histogram2dcontour": [
           {
            "colorbar": {
             "outlinewidth": 0,
             "ticks": ""
            },
            "colorscale": [
             [
              0,
              "#0d0887"
             ],
             [
              0.1111111111111111,
              "#46039f"
             ],
             [
              0.2222222222222222,
              "#7201a8"
             ],
             [
              0.3333333333333333,
              "#9c179e"
             ],
             [
              0.4444444444444444,
              "#bd3786"
             ],
             [
              0.5555555555555556,
              "#d8576b"
             ],
             [
              0.6666666666666666,
              "#ed7953"
             ],
             [
              0.7777777777777778,
              "#fb9f3a"
             ],
             [
              0.8888888888888888,
              "#fdca26"
             ],
             [
              1,
              "#f0f921"
             ]
            ],
            "type": "histogram2dcontour"
           }
          ],
          "mesh3d": [
           {
            "colorbar": {
             "outlinewidth": 0,
             "ticks": ""
            },
            "type": "mesh3d"
           }
          ],
          "parcoords": [
           {
            "line": {
             "colorbar": {
              "outlinewidth": 0,
              "ticks": ""
             }
            },
            "type": "parcoords"
           }
          ],
          "scatter": [
           {
            "marker": {
             "colorbar": {
              "outlinewidth": 0,
              "ticks": ""
             }
            },
            "type": "scatter"
           }
          ],
          "scatter3d": [
           {
            "line": {
             "colorbar": {
              "outlinewidth": 0,
              "ticks": ""
             }
            },
            "marker": {
             "colorbar": {
              "outlinewidth": 0,
              "ticks": ""
             }
            },
            "type": "scatter3d"
           }
          ],
          "scattercarpet": [
           {
            "marker": {
             "colorbar": {
              "outlinewidth": 0,
              "ticks": ""
             }
            },
            "type": "scattercarpet"
           }
          ],
          "scattergeo": [
           {
            "marker": {
             "colorbar": {
              "outlinewidth": 0,
              "ticks": ""
             }
            },
            "type": "scattergeo"
           }
          ],
          "scattergl": [
           {
            "marker": {
             "colorbar": {
              "outlinewidth": 0,
              "ticks": ""
             }
            },
            "type": "scattergl"
           }
          ],
          "scattermapbox": [
           {
            "marker": {
             "colorbar": {
              "outlinewidth": 0,
              "ticks": ""
             }
            },
            "type": "scattermapbox"
           }
          ],
          "scatterpolar": [
           {
            "marker": {
             "colorbar": {
              "outlinewidth": 0,
              "ticks": ""
             }
            },
            "type": "scatterpolar"
           }
          ],
          "scatterpolargl": [
           {
            "marker": {
             "colorbar": {
              "outlinewidth": 0,
              "ticks": ""
             }
            },
            "type": "scatterpolargl"
           }
          ],
          "scatterternary": [
           {
            "marker": {
             "colorbar": {
              "outlinewidth": 0,
              "ticks": ""
             }
            },
            "type": "scatterternary"
           }
          ],
          "surface": [
           {
            "colorbar": {
             "outlinewidth": 0,
             "ticks": ""
            },
            "colorscale": [
             [
              0,
              "#0d0887"
             ],
             [
              0.1111111111111111,
              "#46039f"
             ],
             [
              0.2222222222222222,
              "#7201a8"
             ],
             [
              0.3333333333333333,
              "#9c179e"
             ],
             [
              0.4444444444444444,
              "#bd3786"
             ],
             [
              0.5555555555555556,
              "#d8576b"
             ],
             [
              0.6666666666666666,
              "#ed7953"
             ],
             [
              0.7777777777777778,
              "#fb9f3a"
             ],
             [
              0.8888888888888888,
              "#fdca26"
             ],
             [
              1,
              "#f0f921"
             ]
            ],
            "type": "surface"
           }
          ],
          "table": [
           {
            "cells": {
             "fill": {
              "color": "#EBF0F8"
             },
             "line": {
              "color": "white"
             }
            },
            "header": {
             "fill": {
              "color": "#C8D4E3"
             },
             "line": {
              "color": "white"
             }
            },
            "type": "table"
           }
          ]
         },
         "layout": {
          "annotationdefaults": {
           "arrowcolor": "#2a3f5f",
           "arrowhead": 0,
           "arrowwidth": 1
          },
          "colorscale": {
           "diverging": [
            [
             0,
             "#8e0152"
            ],
            [
             0.1,
             "#c51b7d"
            ],
            [
             0.2,
             "#de77ae"
            ],
            [
             0.3,
             "#f1b6da"
            ],
            [
             0.4,
             "#fde0ef"
            ],
            [
             0.5,
             "#f7f7f7"
            ],
            [
             0.6,
             "#e6f5d0"
            ],
            [
             0.7,
             "#b8e186"
            ],
            [
             0.8,
             "#7fbc41"
            ],
            [
             0.9,
             "#4d9221"
            ],
            [
             1,
             "#276419"
            ]
           ],
           "sequential": [
            [
             0,
             "#0d0887"
            ],
            [
             0.1111111111111111,
             "#46039f"
            ],
            [
             0.2222222222222222,
             "#7201a8"
            ],
            [
             0.3333333333333333,
             "#9c179e"
            ],
            [
             0.4444444444444444,
             "#bd3786"
            ],
            [
             0.5555555555555556,
             "#d8576b"
            ],
            [
             0.6666666666666666,
             "#ed7953"
            ],
            [
             0.7777777777777778,
             "#fb9f3a"
            ],
            [
             0.8888888888888888,
             "#fdca26"
            ],
            [
             1,
             "#f0f921"
            ]
           ],
           "sequentialminus": [
            [
             0,
             "#0d0887"
            ],
            [
             0.1111111111111111,
             "#46039f"
            ],
            [
             0.2222222222222222,
             "#7201a8"
            ],
            [
             0.3333333333333333,
             "#9c179e"
            ],
            [
             0.4444444444444444,
             "#bd3786"
            ],
            [
             0.5555555555555556,
             "#d8576b"
            ],
            [
             0.6666666666666666,
             "#ed7953"
            ],
            [
             0.7777777777777778,
             "#fb9f3a"
            ],
            [
             0.8888888888888888,
             "#fdca26"
            ],
            [
             1,
             "#f0f921"
            ]
           ]
          },
          "colorway": [
           "#636efa",
           "#EF553B",
           "#00cc96",
           "#ab63fa",
           "#FFA15A",
           "#19d3f3",
           "#FF6692",
           "#B6E880",
           "#FF97FF",
           "#FECB52"
          ],
          "font": {
           "color": "#2a3f5f"
          },
          "geo": {
           "bgcolor": "white",
           "lakecolor": "white",
           "landcolor": "#E5ECF6",
           "showlakes": true,
           "showland": true,
           "subunitcolor": "white"
          },
          "hoverlabel": {
           "align": "left"
          },
          "hovermode": "closest",
          "mapbox": {
           "style": "light"
          },
          "paper_bgcolor": "white",
          "plot_bgcolor": "#E5ECF6",
          "polar": {
           "angularaxis": {
            "gridcolor": "white",
            "linecolor": "white",
            "ticks": ""
           },
           "bgcolor": "#E5ECF6",
           "radialaxis": {
            "gridcolor": "white",
            "linecolor": "white",
            "ticks": ""
           }
          },
          "scene": {
           "xaxis": {
            "backgroundcolor": "#E5ECF6",
            "gridcolor": "white",
            "gridwidth": 2,
            "linecolor": "white",
            "showbackground": true,
            "ticks": "",
            "zerolinecolor": "white"
           },
           "yaxis": {
            "backgroundcolor": "#E5ECF6",
            "gridcolor": "white",
            "gridwidth": 2,
            "linecolor": "white",
            "showbackground": true,
            "ticks": "",
            "zerolinecolor": "white"
           },
           "zaxis": {
            "backgroundcolor": "#E5ECF6",
            "gridcolor": "white",
            "gridwidth": 2,
            "linecolor": "white",
            "showbackground": true,
            "ticks": "",
            "zerolinecolor": "white"
           }
          },
          "shapedefaults": {
           "line": {
            "color": "#2a3f5f"
           }
          },
          "ternary": {
           "aaxis": {
            "gridcolor": "white",
            "linecolor": "white",
            "ticks": ""
           },
           "baxis": {
            "gridcolor": "white",
            "linecolor": "white",
            "ticks": ""
           },
           "bgcolor": "#E5ECF6",
           "caxis": {
            "gridcolor": "white",
            "linecolor": "white",
            "ticks": ""
           }
          },
          "title": {
           "x": 0.05
          },
          "xaxis": {
           "automargin": true,
           "gridcolor": "white",
           "linecolor": "white",
           "ticks": "",
           "zerolinecolor": "white",
           "zerolinewidth": 2
          },
          "yaxis": {
           "automargin": true,
           "gridcolor": "white",
           "linecolor": "white",
           "ticks": "",
           "zerolinecolor": "white",
           "zerolinewidth": 2
          }
         }
        },
        "title": {
         "text": "Purpose Distribuition"
        },
        "xaxis": {
         "anchor": "y",
         "domain": [
          0,
          0.45
         ]
        },
        "xaxis2": {
         "anchor": "y2",
         "domain": [
          0.55,
          1
         ]
        },
        "xaxis3": {
         "anchor": "y3",
         "domain": [
          0,
          1
         ]
        },
        "yaxis": {
         "anchor": "x",
         "domain": [
          0.625,
          1
         ]
        },
        "yaxis2": {
         "anchor": "x2",
         "domain": [
          0.625,
          1
         ]
        },
        "yaxis3": {
         "anchor": "x3",
         "domain": [
          0,
          0.375
         ]
        }
       }
      },
      "text/html": [
       "<div>\n",
       "        \n",
       "        \n",
       "            <div id=\"5b2b2955-ccb7-4da9-9769-7f877c6a565e\" class=\"plotly-graph-div\" style=\"height:525px; width:100%;\"></div>\n",
       "            <script type=\"text/javascript\">\n",
       "                require([\"plotly\"], function(Plotly) {\n",
       "                    window.PLOTLYENV=window.PLOTLYENV || {};\n",
       "                    \n",
       "                if (document.getElementById(\"5b2b2955-ccb7-4da9-9769-7f877c6a565e\")) {\n",
       "                    Plotly.newPlot(\n",
       "                        '5b2b2955-ccb7-4da9-9769-7f877c6a565e',\n",
       "                        [{\"histnorm\": \"probability\", \"name\": \"Good Credit\", \"type\": \"histogram\", \"x\": [\"business\", \"business\", \"business\", \"business\", \"business\", \"business\", \"business\", \"business\", \"business\", \"business\", \"business\", \"business\", \"business\", \"business\", \"business\", \"business\", \"business\", \"business\", \"business\", \"business\", \"business\", \"business\", \"business\", \"business\", \"business\", \"business\", \"business\", \"business\", \"business\", \"business\", \"business\", \"business\", \"business\", \"business\", \"business\", \"business\", \"business\", \"business\", \"business\", \"business\", \"business\", \"business\", \"business\", \"business\", \"business\", \"business\", \"business\", \"business\", \"business\", \"business\", \"business\", \"business\", \"business\", \"business\", \"business\", \"business\", \"business\", \"business\", \"business\", \"business\", \"business\", \"business\", \"business\", \"car\", \"car\", \"car\", \"car\", \"car\", \"car\", \"car\", \"car\", \"car\", \"car\", \"car\", \"car\", \"car\", \"car\", \"car\", \"car\", \"car\", \"car\", \"car\", \"car\", \"car\", \"car\", \"car\", \"car\", \"car\", \"car\", \"car\", \"car\", \"car\", \"car\", \"car\", \"car\", \"car\", \"car\", \"car\", \"car\", \"car\", \"car\", \"car\", \"car\", \"car\", \"car\", \"car\", \"car\", \"car\", \"car\", \"car\", \"car\", \"car\", \"car\", \"car\", \"car\", \"car\", \"car\", \"car\", \"car\", \"car\", \"car\", \"car\", \"car\", \"car\", \"car\", \"car\", \"car\", \"car\", \"car\", \"car\", \"car\", \"car\", \"car\", \"car\", \"car\", \"car\", \"car\", \"car\", \"car\", \"car\", \"car\", \"car\", \"car\", \"car\", \"car\", \"car\", \"car\", \"car\", \"car\", \"car\", \"car\", \"car\", \"car\", \"car\", \"car\", \"car\", \"car\", \"car\", \"car\", \"car\", \"car\", \"car\", \"car\", \"car\", \"car\", \"car\", \"car\", \"car\", \"car\", \"car\", \"car\", \"car\", \"car\", \"car\", \"car\", \"car\", \"car\", \"car\", \"car\", \"car\", \"car\", \"car\", \"car\", \"car\", \"car\", \"car\", \"car\", \"car\", \"car\", \"car\", \"car\", \"car\", \"car\", \"car\", \"car\", \"car\", \"car\", \"car\", \"car\", \"car\", \"car\", \"car\", \"car\", \"car\", \"car\", \"car\", \"car\", \"car\", \"car\", \"car\", \"car\", \"car\", \"car\", \"car\", \"car\", \"car\", \"car\", \"car\", \"car\", \"car\", \"car\", \"car\", \"car\", \"car\", \"car\", \"car\", \"car\", \"car\", \"car\", \"car\", \"car\", \"car\", \"car\", \"car\", \"car\", \"car\", \"car\", \"car\", \"car\", \"car\", \"car\", \"car\", \"car\", \"car\", \"car\", \"car\", \"car\", \"car\", \"car\", \"car\", \"car\", \"car\", \"car\", \"car\", \"car\", \"car\", \"car\", \"car\", \"car\", \"car\", \"car\", \"car\", \"car\", \"car\", \"car\", \"car\", \"car\", \"car\", \"car\", \"car\", \"car\", \"car\", \"car\", \"car\", \"car\", \"car\", \"car\", \"car\", \"car\", \"car\", \"car\", \"car\", \"car\", \"car\", \"car\", \"car\", \"car\", \"car\", \"car\", \"car\", \"car\", \"car\", \"car\", \"car\", \"domestic appliances\", \"domestic appliances\", \"domestic appliances\", \"domestic appliances\", \"domestic appliances\", \"domestic appliances\", \"domestic appliances\", \"domestic appliances\", \"education\", \"education\", \"education\", \"education\", \"education\", \"education\", \"education\", \"education\", \"education\", \"education\", \"education\", \"education\", \"education\", \"education\", \"education\", \"education\", \"education\", \"education\", \"education\", \"education\", \"education\", \"education\", \"education\", \"education\", \"education\", \"education\", \"education\", \"education\", \"education\", \"education\", \"education\", \"education\", \"education\", \"education\", \"education\", \"education\", \"furniture/equipment\", \"furniture/equipment\", \"furniture/equipment\", \"furniture/equipment\", \"furniture/equipment\", \"furniture/equipment\", \"furniture/equipment\", \"furniture/equipment\", \"furniture/equipment\", \"furniture/equipment\", \"furniture/equipment\", \"furniture/equipment\", \"furniture/equipment\", \"furniture/equipment\", \"furniture/equipment\", \"furniture/equipment\", \"furniture/equipment\", \"furniture/equipment\", \"furniture/equipment\", \"furniture/equipment\", \"furniture/equipment\", \"furniture/equipment\", \"furniture/equipment\", \"furniture/equipment\", \"furniture/equipment\", \"furniture/equipment\", \"furniture/equipment\", \"furniture/equipment\", \"furniture/equipment\", \"furniture/equipment\", \"furniture/equipment\", \"furniture/equipment\", \"furniture/equipment\", \"furniture/equipment\", \"furniture/equipment\", \"furniture/equipment\", \"furniture/equipment\", \"furniture/equipment\", \"furniture/equipment\", \"furniture/equipment\", \"furniture/equipment\", \"furniture/equipment\", \"furniture/equipment\", \"furniture/equipment\", \"furniture/equipment\", \"furniture/equipment\", \"furniture/equipment\", \"furniture/equipment\", \"furniture/equipment\", \"furniture/equipment\", \"furniture/equipment\", \"furniture/equipment\", \"furniture/equipment\", \"furniture/equipment\", \"furniture/equipment\", \"furniture/equipment\", \"furniture/equipment\", \"furniture/equipment\", \"furniture/equipment\", \"furniture/equipment\", \"furniture/equipment\", \"furniture/equipment\", \"furniture/equipment\", \"furniture/equipment\", \"furniture/equipment\", \"furniture/equipment\", \"furniture/equipment\", \"furniture/equipment\", \"furniture/equipment\", \"furniture/equipment\", \"furniture/equipment\", \"furniture/equipment\", \"furniture/equipment\", \"furniture/equipment\", \"furniture/equipment\", \"furniture/equipment\", \"furniture/equipment\", \"furniture/equipment\", \"furniture/equipment\", \"furniture/equipment\", \"furniture/equipment\", \"furniture/equipment\", \"furniture/equipment\", \"furniture/equipment\", \"furniture/equipment\", \"furniture/equipment\", \"furniture/equipment\", \"furniture/equipment\", \"furniture/equipment\", \"furniture/equipment\", \"furniture/equipment\", \"furniture/equipment\", \"furniture/equipment\", \"furniture/equipment\", \"furniture/equipment\", \"furniture/equipment\", \"furniture/equipment\", \"furniture/equipment\", \"furniture/equipment\", \"furniture/equipment\", \"furniture/equipment\", \"furniture/equipment\", \"furniture/equipment\", \"furniture/equipment\", \"furniture/equipment\", \"furniture/equipment\", \"furniture/equipment\", \"furniture/equipment\", \"furniture/equipment\", \"furniture/equipment\", \"furniture/equipment\", \"furniture/equipment\", \"furniture/equipment\", \"furniture/equipment\", \"furniture/equipment\", \"furniture/equipment\", \"furniture/equipment\", \"furniture/equipment\", \"furniture/equipment\", \"furniture/equipment\", \"furniture/equipment\", \"furniture/equipment\", \"furniture/equipment\", \"radio/TV\", \"radio/TV\", \"radio/TV\", \"radio/TV\", \"radio/TV\", \"radio/TV\", \"radio/TV\", \"radio/TV\", \"radio/TV\", \"radio/TV\", \"radio/TV\", \"radio/TV\", \"radio/TV\", \"radio/TV\", \"radio/TV\", \"radio/TV\", \"radio/TV\", \"radio/TV\", \"radio/TV\", \"radio/TV\", \"radio/TV\", \"radio/TV\", \"radio/TV\", \"radio/TV\", \"radio/TV\", \"radio/TV\", \"radio/TV\", \"radio/TV\", \"radio/TV\", \"radio/TV\", \"radio/TV\", \"radio/TV\", \"radio/TV\", \"radio/TV\", \"radio/TV\", \"radio/TV\", \"radio/TV\", \"radio/TV\", \"radio/TV\", \"radio/TV\", \"radio/TV\", \"radio/TV\", \"radio/TV\", \"radio/TV\", \"radio/TV\", \"radio/TV\", \"radio/TV\", \"radio/TV\", \"radio/TV\", \"radio/TV\", \"radio/TV\", \"radio/TV\", \"radio/TV\", \"radio/TV\", \"radio/TV\", \"radio/TV\", \"radio/TV\", \"radio/TV\", \"radio/TV\", \"radio/TV\", \"radio/TV\", \"radio/TV\", \"radio/TV\", \"radio/TV\", \"radio/TV\", \"radio/TV\", \"radio/TV\", \"radio/TV\", \"radio/TV\", \"radio/TV\", \"radio/TV\", \"radio/TV\", \"radio/TV\", \"radio/TV\", \"radio/TV\", \"radio/TV\", \"radio/TV\", \"radio/TV\", \"radio/TV\", \"radio/TV\", \"radio/TV\", \"radio/TV\", \"radio/TV\", \"radio/TV\", \"radio/TV\", \"radio/TV\", \"radio/TV\", \"radio/TV\", \"radio/TV\", \"radio/TV\", \"radio/TV\", \"radio/TV\", \"radio/TV\", \"radio/TV\", \"radio/TV\", \"radio/TV\", \"radio/TV\", \"radio/TV\", \"radio/TV\", \"radio/TV\", \"radio/TV\", \"radio/TV\", \"radio/TV\", \"radio/TV\", \"radio/TV\", \"radio/TV\", \"radio/TV\", \"radio/TV\", \"radio/TV\", \"radio/TV\", \"radio/TV\", \"radio/TV\", \"radio/TV\", \"radio/TV\", \"radio/TV\", \"radio/TV\", \"radio/TV\", \"radio/TV\", \"radio/TV\", \"radio/TV\", \"radio/TV\", \"radio/TV\", \"radio/TV\", \"radio/TV\", \"radio/TV\", \"radio/TV\", \"radio/TV\", \"radio/TV\", \"radio/TV\", \"radio/TV\", \"radio/TV\", \"radio/TV\", \"radio/TV\", \"radio/TV\", \"radio/TV\", \"radio/TV\", \"radio/TV\", \"radio/TV\", \"radio/TV\", \"radio/TV\", \"radio/TV\", \"radio/TV\", \"radio/TV\", \"radio/TV\", \"radio/TV\", \"radio/TV\", \"radio/TV\", \"radio/TV\", \"radio/TV\", \"radio/TV\", \"radio/TV\", \"radio/TV\", \"radio/TV\", \"radio/TV\", \"radio/TV\", \"radio/TV\", \"radio/TV\", \"radio/TV\", \"radio/TV\", \"radio/TV\", \"radio/TV\", \"radio/TV\", \"radio/TV\", \"radio/TV\", \"radio/TV\", \"radio/TV\", \"radio/TV\", \"radio/TV\", \"radio/TV\", \"radio/TV\", \"radio/TV\", \"radio/TV\", \"radio/TV\", \"radio/TV\", \"radio/TV\", \"radio/TV\", \"radio/TV\", \"radio/TV\", \"radio/TV\", \"radio/TV\", \"radio/TV\", \"radio/TV\", \"radio/TV\", \"radio/TV\", \"radio/TV\", \"radio/TV\", \"radio/TV\", \"radio/TV\", \"radio/TV\", \"radio/TV\", \"radio/TV\", \"radio/TV\", \"radio/TV\", \"radio/TV\", \"radio/TV\", \"radio/TV\", \"radio/TV\", \"radio/TV\", \"radio/TV\", \"radio/TV\", \"radio/TV\", \"radio/TV\", \"radio/TV\", \"radio/TV\", \"radio/TV\", \"radio/TV\", \"radio/TV\", \"radio/TV\", \"radio/TV\", \"radio/TV\", \"radio/TV\", \"radio/TV\", \"radio/TV\", \"radio/TV\", \"radio/TV\", \"radio/TV\", \"radio/TV\", \"radio/TV\", \"repairs\", \"repairs\", \"repairs\", \"repairs\", \"repairs\", \"repairs\", \"repairs\", \"repairs\", \"repairs\", \"repairs\", \"repairs\", \"repairs\", \"repairs\", \"repairs\", \"vacation/others\", \"vacation/others\", \"vacation/others\", \"vacation/others\", \"vacation/others\", \"vacation/others\", \"vacation/others\"], \"xaxis\": \"x\", \"yaxis\": \"y\"}, {\"histnorm\": \"probability\", \"name\": \"Bad Credit\", \"type\": \"histogram\", \"x\": [\"business\", \"business\", \"business\", \"business\", \"business\", \"business\", \"business\", \"business\", \"business\", \"business\", \"business\", \"business\", \"business\", \"business\", \"business\", \"business\", \"business\", \"business\", \"business\", \"business\", \"business\", \"business\", \"business\", \"business\", \"business\", \"business\", \"business\", \"business\", \"business\", \"business\", \"business\", \"business\", \"business\", \"business\", \"car\", \"car\", \"car\", \"car\", \"car\", \"car\", \"car\", \"car\", \"car\", \"car\", \"car\", \"car\", \"car\", \"car\", \"car\", \"car\", \"car\", \"car\", \"car\", \"car\", \"car\", \"car\", \"car\", \"car\", \"car\", \"car\", \"car\", \"car\", \"car\", \"car\", \"car\", \"car\", \"car\", \"car\", \"car\", \"car\", \"car\", \"car\", \"car\", \"car\", \"car\", \"car\", \"car\", \"car\", \"car\", \"car\", \"car\", \"car\", \"car\", \"car\", \"car\", \"car\", \"car\", \"car\", \"car\", \"car\", \"car\", \"car\", \"car\", \"car\", \"car\", \"car\", \"car\", \"car\", \"car\", \"car\", \"car\", \"car\", \"car\", \"car\", \"car\", \"car\", \"car\", \"car\", \"car\", \"car\", \"car\", \"car\", \"car\", \"car\", \"car\", \"car\", \"car\", \"car\", \"car\", \"car\", \"car\", \"car\", \"car\", \"car\", \"car\", \"car\", \"car\", \"car\", \"car\", \"car\", \"car\", \"car\", \"car\", \"car\", \"car\", \"car\", \"car\", \"car\", \"car\", \"car\", \"domestic appliances\", \"domestic appliances\", \"domestic appliances\", \"domestic appliances\", \"education\", \"education\", \"education\", \"education\", \"education\", \"education\", \"education\", \"education\", \"education\", \"education\", \"education\", \"education\", \"education\", \"education\", \"education\", \"education\", \"education\", \"education\", \"education\", \"education\", \"education\", \"education\", \"education\", \"furniture/equipment\", \"furniture/equipment\", \"furniture/equipment\", \"furniture/equipment\", \"furniture/equipment\", \"furniture/equipment\", \"furniture/equipment\", \"furniture/equipment\", \"furniture/equipment\", \"furniture/equipment\", \"furniture/equipment\", \"furniture/equipment\", \"furniture/equipment\", \"furniture/equipment\", \"furniture/equipment\", \"furniture/equipment\", \"furniture/equipment\", \"furniture/equipment\", \"furniture/equipment\", \"furniture/equipment\", \"furniture/equipment\", \"furniture/equipment\", \"furniture/equipment\", \"furniture/equipment\", \"furniture/equipment\", \"furniture/equipment\", \"furniture/equipment\", \"furniture/equipment\", \"furniture/equipment\", \"furniture/equipment\", \"furniture/equipment\", \"furniture/equipment\", \"furniture/equipment\", \"furniture/equipment\", \"furniture/equipment\", \"furniture/equipment\", \"furniture/equipment\", \"furniture/equipment\", \"furniture/equipment\", \"furniture/equipment\", \"furniture/equipment\", \"furniture/equipment\", \"furniture/equipment\", \"furniture/equipment\", \"furniture/equipment\", \"furniture/equipment\", \"furniture/equipment\", \"furniture/equipment\", \"furniture/equipment\", \"furniture/equipment\", \"furniture/equipment\", \"furniture/equipment\", \"furniture/equipment\", \"furniture/equipment\", \"furniture/equipment\", \"furniture/equipment\", \"furniture/equipment\", \"furniture/equipment\", \"radio/TV\", \"radio/TV\", \"radio/TV\", \"radio/TV\", \"radio/TV\", \"radio/TV\", \"radio/TV\", \"radio/TV\", \"radio/TV\", \"radio/TV\", \"radio/TV\", \"radio/TV\", \"radio/TV\", \"radio/TV\", \"radio/TV\", \"radio/TV\", \"radio/TV\", \"radio/TV\", \"radio/TV\", \"radio/TV\", \"radio/TV\", \"radio/TV\", \"radio/TV\", \"radio/TV\", \"radio/TV\", \"radio/TV\", \"radio/TV\", \"radio/TV\", \"radio/TV\", \"radio/TV\", \"radio/TV\", \"radio/TV\", \"radio/TV\", \"radio/TV\", \"radio/TV\", \"radio/TV\", \"radio/TV\", \"radio/TV\", \"radio/TV\", \"radio/TV\", \"radio/TV\", \"radio/TV\", \"radio/TV\", \"radio/TV\", \"radio/TV\", \"radio/TV\", \"radio/TV\", \"radio/TV\", \"radio/TV\", \"radio/TV\", \"radio/TV\", \"radio/TV\", \"radio/TV\", \"radio/TV\", \"radio/TV\", \"radio/TV\", \"radio/TV\", \"radio/TV\", \"radio/TV\", \"radio/TV\", \"radio/TV\", \"radio/TV\", \"repairs\", \"repairs\", \"repairs\", \"repairs\", \"repairs\", \"repairs\", \"repairs\", \"repairs\", \"vacation/others\", \"vacation/others\", \"vacation/others\", \"vacation/others\", \"vacation/others\"], \"xaxis\": \"x2\", \"yaxis\": \"y2\"}, {\"histnorm\": \"probability\", \"name\": \"Overall Purpose\", \"type\": \"histogram\", \"x\": [\"radio/TV\", \"radio/TV\", \"education\", \"furniture/equipment\", \"car\", \"education\", \"furniture/equipment\", \"car\", \"radio/TV\", \"car\", \"car\", \"business\", \"radio/TV\", \"car\", \"car\", \"radio/TV\", \"radio/TV\", \"business\", \"car\", \"radio/TV\", \"car\", \"radio/TV\", \"car\", \"car\", \"furniture/equipment\", \"furniture/equipment\", \"radio/TV\", \"radio/TV\", \"radio/TV\", \"business\", \"business\", \"furniture/equipment\", \"car\", \"business\", \"furniture/equipment\", \"radio/TV\", \"education\", \"radio/TV\", \"domestic appliances\", \"radio/TV\", \"radio/TV\", \"radio/TV\", \"repairs\", \"car\", \"car\", \"car\", \"radio/TV\", \"car\", \"car\", \"radio/TV\", \"furniture/equipment\", \"car\", \"radio/TV\", \"car\", \"car\", \"car\", \"radio/TV\", \"radio/TV\", \"car\", \"furniture/equipment\", \"business\", \"radio/TV\", \"business\", \"business\", \"radio/TV\", \"repairs\", \"radio/TV\", \"car\", \"education\", \"radio/TV\", \"car\", \"radio/TV\", \"vacation/others\", \"business\", \"education\", \"car\", \"radio/TV\", \"radio/TV\", \"car\", \"furniture/equipment\", \"radio/TV\", \"radio/TV\", \"business\", \"vacation/others\", \"radio/TV\", \"business\", \"furniture/equipment\", \"education\", \"car\", \"repairs\", \"radio/TV\", \"car\", \"radio/TV\", \"furniture/equipment\", \"car\", \"business\", \"education\", \"business\", \"radio/TV\", \"car\", \"car\", \"radio/TV\", \"radio/TV\", \"furniture/equipment\", \"car\", \"vacation/others\", \"car\", \"car\", \"furniture/equipment\", \"business\", \"business\", \"education\", \"car\", \"car\", \"radio/TV\", \"radio/TV\", \"radio/TV\", \"furniture/equipment\", \"furniture/equipment\", \"car\", \"radio/TV\", \"car\", \"furniture/equipment\", \"car\", \"furniture/equipment\", \"car\", \"radio/TV\", \"repairs\", \"car\", \"car\", \"car\", \"education\", \"furniture/equipment\", \"furniture/equipment\", \"radio/TV\", \"radio/TV\", \"car\", \"radio/TV\", \"radio/TV\", \"radio/TV\", \"car\", \"radio/TV\", \"radio/TV\", \"furniture/equipment\", \"furniture/equipment\", \"business\", \"car\", \"car\", \"furniture/equipment\", \"radio/TV\", \"radio/TV\", \"radio/TV\", \"radio/TV\", \"car\", \"business\", \"furniture/equipment\", \"repairs\", \"education\", \"car\", \"radio/TV\", \"radio/TV\", \"car\", \"domestic appliances\", \"car\", \"car\", \"furniture/equipment\", \"furniture/equipment\", \"furniture/equipment\", \"furniture/equipment\", \"business\", \"car\", \"furniture/equipment\", \"furniture/equipment\", \"radio/TV\", \"education\", \"car\", \"furniture/equipment\", \"radio/TV\", \"radio/TV\", \"car\", \"business\", \"business\", \"car\", \"furniture/equipment\", \"car\", \"radio/TV\", \"car\", \"car\", \"radio/TV\", \"furniture/equipment\", \"business\", \"business\", \"business\", \"radio/TV\", \"radio/TV\", \"education\", \"radio/TV\", \"furniture/equipment\", \"car\", \"furniture/equipment\", \"education\", \"car\", \"business\", \"education\", \"car\", \"car\", \"furniture/equipment\", \"domestic appliances\", \"business\", \"car\", \"radio/TV\", \"radio/TV\", \"business\", \"business\", \"radio/TV\", \"education\", \"business\", \"radio/TV\", \"furniture/equipment\", \"car\", \"radio/TV\", \"education\", \"radio/TV\", \"business\", \"car\", \"repairs\", \"radio/TV\", \"furniture/equipment\", \"radio/TV\", \"furniture/equipment\", \"radio/TV\", \"car\", \"radio/TV\", \"radio/TV\", \"radio/TV\", \"radio/TV\", \"car\", \"business\", \"radio/TV\", \"radio/TV\", \"car\", \"radio/TV\", \"car\", \"business\", \"education\", \"business\", \"radio/TV\", \"car\", \"furniture/equipment\", \"radio/TV\", \"car\", \"furniture/equipment\", \"car\", \"furniture/equipment\", \"furniture/equipment\", \"radio/TV\", \"radio/TV\", \"radio/TV\", \"car\", \"radio/TV\", \"furniture/equipment\", \"radio/TV\", \"car\", \"education\", \"car\", \"radio/TV\", \"business\", \"radio/TV\", \"car\", \"radio/TV\", \"car\", \"furniture/equipment\", \"car\", \"radio/TV\", \"repairs\", \"radio/TV\", \"radio/TV\", \"furniture/equipment\", \"furniture/equipment\", \"radio/TV\", \"car\", \"furniture/equipment\", \"radio/TV\", \"furniture/equipment\", \"car\", \"car\", \"car\", \"vacation/others\", \"radio/TV\", \"radio/TV\", \"business\", \"car\", \"car\", \"car\", \"business\", \"furniture/equipment\", \"car\", \"car\", \"furniture/equipment\", \"furniture/equipment\", \"car\", \"radio/TV\", \"car\", \"car\", \"car\", \"furniture/equipment\", \"car\", \"radio/TV\", \"furniture/equipment\", \"car\", \"vacation/others\", \"furniture/equipment\", \"furniture/equipment\", \"car\", \"car\", \"furniture/equipment\", \"furniture/equipment\", \"furniture/equipment\", \"education\", \"furniture/equipment\", \"car\", \"radio/TV\", \"car\", \"furniture/equipment\", \"car\", \"car\", \"furniture/equipment\", \"car\", \"radio/TV\", \"radio/TV\", \"car\", \"education\", \"car\", \"car\", \"furniture/equipment\", \"furniture/equipment\", \"radio/TV\", \"domestic appliances\", \"furniture/equipment\", \"furniture/equipment\", \"education\", \"furniture/equipment\", \"radio/TV\", \"business\", \"car\", \"radio/TV\", \"radio/TV\", \"radio/TV\", \"business\", \"education\", \"domestic appliances\", \"furniture/equipment\", \"car\", \"radio/TV\", \"education\", \"car\", \"radio/TV\", \"radio/TV\", \"radio/TV\", \"furniture/equipment\", \"education\", \"radio/TV\", \"car\", \"furniture/equipment\", \"furniture/equipment\", \"business\", \"car\", \"furniture/equipment\", \"furniture/equipment\", \"furniture/equipment\", \"car\", \"radio/TV\", \"furniture/equipment\", \"car\", \"vacation/others\", \"business\", \"radio/TV\", \"radio/TV\", \"car\", \"car\", \"furniture/equipment\", \"car\", \"car\", \"car\", \"business\", \"radio/TV\", \"radio/TV\", \"furniture/equipment\", \"business\", \"business\", \"car\", \"furniture/equipment\", \"car\", \"radio/TV\", \"furniture/equipment\", \"education\", \"furniture/equipment\", \"furniture/equipment\", \"car\", \"radio/TV\", \"radio/TV\", \"business\", \"business\", \"car\", \"car\", \"radio/TV\", \"car\", \"radio/TV\", \"radio/TV\", \"car\", \"radio/TV\", \"car\", \"business\", \"car\", \"car\", \"car\", \"car\", \"education\", \"car\", \"car\", \"car\", \"car\", \"car\", \"furniture/equipment\", \"furniture/equipment\", \"car\", \"radio/TV\", \"radio/TV\", \"furniture/equipment\", \"repairs\", \"business\", \"vacation/others\", \"furniture/equipment\", \"repairs\", \"furniture/equipment\", \"radio/TV\", \"repairs\", \"car\", \"repairs\", \"business\", \"car\", \"furniture/equipment\", \"vacation/others\", \"education\", \"furniture/equipment\", \"education\", \"car\", \"radio/TV\", \"furniture/equipment\", \"repairs\", \"car\", \"radio/TV\", \"furniture/equipment\", \"car\", \"car\", \"car\", \"car\", \"car\", \"domestic appliances\", \"radio/TV\", \"furniture/equipment\", \"car\", \"furniture/equipment\", \"education\", \"business\", \"car\", \"radio/TV\", \"radio/TV\", \"business\", \"car\", \"radio/TV\", \"education\", \"car\", \"education\", \"radio/TV\", \"furniture/equipment\", \"car\", \"radio/TV\", \"business\", \"furniture/equipment\", \"radio/TV\", \"car\", \"furniture/equipment\", \"furniture/equipment\", \"car\", \"car\", \"radio/TV\", \"car\", \"car\", \"car\", \"radio/TV\", \"business\", \"radio/TV\", \"radio/TV\", \"car\", \"furniture/equipment\", \"furniture/equipment\", \"furniture/equipment\", \"radio/TV\", \"car\", \"car\", \"car\", \"radio/TV\", \"radio/TV\", \"car\", \"car\", \"car\", \"car\", \"radio/TV\", \"car\", \"car\", \"car\", \"business\", \"radio/TV\", \"car\", \"car\", \"car\", \"furniture/equipment\", \"car\", \"radio/TV\", \"repairs\", \"radio/TV\", \"furniture/equipment\", \"car\", \"radio/TV\", \"car\", \"education\", \"radio/TV\", \"radio/TV\", \"car\", \"education\", \"car\", \"car\", \"radio/TV\", \"radio/TV\", \"education\", \"car\", \"furniture/equipment\", \"car\", \"furniture/equipment\", \"radio/TV\", \"car\", \"furniture/equipment\", \"furniture/equipment\", \"car\", \"car\", \"car\", \"radio/TV\", \"radio/TV\", \"car\", \"repairs\", \"radio/TV\", \"radio/TV\", \"car\", \"education\", \"radio/TV\", \"car\", \"car\", \"furniture/equipment\", \"furniture/equipment\", \"car\", \"radio/TV\", \"radio/TV\", \"car\", \"business\", \"radio/TV\", \"car\", \"radio/TV\", \"radio/TV\", \"radio/TV\", \"furniture/equipment\", \"radio/TV\", \"car\", \"business\", \"radio/TV\", \"furniture/equipment\", \"radio/TV\", \"education\", \"car\", \"education\", \"car\", \"car\", \"furniture/equipment\", \"repairs\", \"car\", \"furniture/equipment\", \"car\", \"furniture/equipment\", \"domestic appliances\", \"furniture/equipment\", \"radio/TV\", \"car\", \"business\", \"car\", \"vacation/others\", \"car\", \"car\", \"business\", \"car\", \"business\", \"radio/TV\", \"furniture/equipment\", \"education\", \"furniture/equipment\", \"furniture/equipment\", \"furniture/equipment\", \"business\", \"radio/TV\", \"radio/TV\", \"car\", \"domestic appliances\", \"car\", \"radio/TV\", \"car\", \"furniture/equipment\", \"business\", \"radio/TV\", \"car\", \"furniture/equipment\", \"car\", \"business\", \"car\", \"business\", \"furniture/equipment\", \"radio/TV\", \"radio/TV\", \"furniture/equipment\", \"car\", \"furniture/equipment\", \"education\", \"radio/TV\", \"furniture/equipment\", \"radio/TV\", \"furniture/equipment\", \"car\", \"education\", \"radio/TV\", \"radio/TV\", \"radio/TV\", \"radio/TV\", \"education\", \"repairs\", \"education\", \"radio/TV\", \"radio/TV\", \"business\", \"furniture/equipment\", \"car\", \"car\", \"education\", \"education\", \"furniture/equipment\", \"car\", \"car\", \"car\", \"car\", \"car\", \"radio/TV\", \"business\", \"furniture/equipment\", \"radio/TV\", \"car\", \"furniture/equipment\", \"furniture/equipment\", \"education\", \"vacation/others\", \"furniture/equipment\", \"business\", \"car\", \"radio/TV\", \"business\", \"business\", \"car\", \"car\", \"business\", \"radio/TV\", \"furniture/equipment\", \"radio/TV\", \"radio/TV\", \"radio/TV\", \"education\", \"radio/TV\", \"radio/TV\", \"radio/TV\", \"business\", \"car\", \"radio/TV\", \"car\", \"radio/TV\", \"car\", \"furniture/equipment\", \"repairs\", \"radio/TV\", \"car\", \"radio/TV\", \"car\", \"radio/TV\", \"car\", \"radio/TV\", \"education\", \"furniture/equipment\", \"car\", \"radio/TV\", \"business\", \"business\", \"car\", \"car\", \"furniture/equipment\", \"radio/TV\", \"radio/TV\", \"radio/TV\", \"education\", \"car\", \"radio/TV\", \"car\", \"car\", \"radio/TV\", \"radio/TV\", \"radio/TV\", \"car\", \"radio/TV\", \"education\", \"car\", \"radio/TV\", \"car\", \"car\", \"radio/TV\", \"radio/TV\", \"business\", \"business\", \"radio/TV\", \"radio/TV\", \"radio/TV\", \"car\", \"car\", \"domestic appliances\", \"car\", \"car\", \"car\", \"business\", \"car\", \"radio/TV\", \"radio/TV\", \"furniture/equipment\", \"furniture/equipment\", \"business\", \"car\", \"car\", \"car\", \"car\", \"furniture/equipment\", \"car\", \"business\", \"radio/TV\", \"repairs\", \"car\", \"car\", \"radio/TV\", \"car\", \"car\", \"car\", \"furniture/equipment\", \"radio/TV\", \"car\", \"car\", \"radio/TV\", \"furniture/equipment\", \"car\", \"furniture/equipment\", \"radio/TV\", \"car\", \"education\", \"car\", \"radio/TV\", \"car\", \"car\", \"car\", \"radio/TV\", \"car\", \"repairs\", \"radio/TV\", \"car\", \"education\", \"car\", \"car\", \"business\", \"radio/TV\", \"car\", \"education\", \"education\", \"business\", \"car\", \"furniture/equipment\", \"furniture/equipment\", \"furniture/equipment\", \"furniture/equipment\", \"car\", \"furniture/equipment\", \"car\", \"car\", \"education\", \"radio/TV\", \"furniture/equipment\", \"radio/TV\", \"car\", \"car\", \"radio/TV\", \"radio/TV\", \"car\", \"car\", \"business\", \"radio/TV\", \"car\", \"domestic appliances\", \"car\", \"car\", \"domestic appliances\", \"radio/TV\", \"vacation/others\", \"radio/TV\", \"car\", \"radio/TV\", \"furniture/equipment\", \"car\", \"furniture/equipment\", \"car\", \"car\", \"business\", \"car\", \"business\", \"business\", \"car\", \"business\", \"radio/TV\", \"radio/TV\", \"car\", \"radio/TV\", \"furniture/equipment\", \"car\", \"radio/TV\", \"furniture/equipment\", \"car\", \"repairs\", \"business\", \"furniture/equipment\", \"furniture/equipment\", \"car\", \"car\", \"radio/TV\", \"radio/TV\", \"car\", \"car\", \"radio/TV\", \"car\", \"car\", \"car\", \"education\", \"furniture/equipment\", \"car\", \"car\", \"car\", \"business\", \"radio/TV\", \"furniture/equipment\", \"furniture/equipment\", \"furniture/equipment\", \"radio/TV\", \"furniture/equipment\", \"business\", \"furniture/equipment\", \"furniture/equipment\", \"car\", \"business\", \"domestic appliances\", \"furniture/equipment\", \"car\", \"radio/TV\", \"radio/TV\", \"car\", \"radio/TV\", \"car\", \"car\", \"car\", \"radio/TV\", \"furniture/equipment\", \"education\", \"business\", \"business\", \"car\", \"car\", \"business\", \"radio/TV\", \"car\", \"car\", \"radio/TV\", \"car\", \"radio/TV\", \"furniture/equipment\", \"furniture/equipment\", \"furniture/equipment\", \"car\", \"car\", \"car\", \"radio/TV\", \"radio/TV\", \"radio/TV\", \"car\", \"education\", \"car\", \"car\", \"radio/TV\", \"furniture/equipment\", \"radio/TV\", \"business\", \"business\", \"vacation/others\", \"car\", \"car\", \"furniture/equipment\", \"furniture/equipment\", \"furniture/equipment\", \"radio/TV\", \"radio/TV\", \"car\", \"furniture/equipment\", \"car\", \"furniture/equipment\", \"car\", \"radio/TV\", \"car\", \"furniture/equipment\", \"radio/TV\", \"car\", \"radio/TV\", \"radio/TV\", \"radio/TV\", \"radio/TV\", \"radio/TV\", \"education\", \"car\", \"car\", \"car\", \"furniture/equipment\", \"car\", \"furniture/equipment\", \"car\", \"furniture/equipment\", \"car\", \"furniture/equipment\", \"radio/TV\", \"business\", \"business\", \"car\", \"furniture/equipment\", \"car\", \"radio/TV\", \"radio/TV\", \"radio/TV\", \"car\", \"furniture/equipment\", \"radio/TV\", \"car\", \"car\", \"radio/TV\", \"repairs\", \"radio/TV\", \"radio/TV\", \"radio/TV\", \"radio/TV\", \"car\", \"repairs\", \"car\", \"car\", \"business\", \"radio/TV\", \"radio/TV\", \"radio/TV\", \"business\", \"car\", \"car\", \"furniture/equipment\", \"business\", \"car\", \"car\", \"furniture/equipment\", \"furniture/equipment\", \"business\", \"radio/TV\", \"car\", \"radio/TV\", \"education\", \"radio/TV\", \"radio/TV\", \"furniture/equipment\", \"car\", \"furniture/equipment\", \"car\", \"radio/TV\", \"radio/TV\", \"car\"], \"xaxis\": \"x3\", \"yaxis\": \"y3\"}],\n",
       "                        {\"annotations\": [{\"font\": {\"size\": 16}, \"showarrow\": false, \"text\": \"Good\", \"x\": 0.225, \"xanchor\": \"center\", \"xref\": \"paper\", \"y\": 1.0, \"yanchor\": \"bottom\", \"yref\": \"paper\"}, {\"font\": {\"size\": 16}, \"showarrow\": false, \"text\": \"Bad\", \"x\": 0.775, \"xanchor\": \"center\", \"xref\": \"paper\", \"y\": 1.0, \"yanchor\": \"bottom\", \"yref\": \"paper\"}, {\"font\": {\"size\": 16}, \"showarrow\": false, \"text\": \"General Distribuition\", \"x\": 0.5, \"xanchor\": \"center\", \"xref\": \"paper\", \"y\": 0.375, \"yanchor\": \"bottom\", \"yref\": \"paper\"}], \"bargap\": 0.05, \"showlegend\": true, \"template\": {\"data\": {\"bar\": [{\"error_x\": {\"color\": \"#2a3f5f\"}, \"error_y\": {\"color\": \"#2a3f5f\"}, \"marker\": {\"line\": {\"color\": \"#E5ECF6\", \"width\": 0.5}}, \"type\": \"bar\"}], \"barpolar\": [{\"marker\": {\"line\": {\"color\": \"#E5ECF6\", \"width\": 0.5}}, \"type\": \"barpolar\"}], \"carpet\": [{\"aaxis\": {\"endlinecolor\": \"#2a3f5f\", \"gridcolor\": \"white\", \"linecolor\": \"white\", \"minorgridcolor\": \"white\", \"startlinecolor\": \"#2a3f5f\"}, \"baxis\": {\"endlinecolor\": \"#2a3f5f\", \"gridcolor\": \"white\", \"linecolor\": \"white\", \"minorgridcolor\": \"white\", \"startlinecolor\": \"#2a3f5f\"}, \"type\": \"carpet\"}], \"choropleth\": [{\"colorbar\": {\"outlinewidth\": 0, \"ticks\": \"\"}, \"type\": \"choropleth\"}], \"contour\": [{\"colorbar\": {\"outlinewidth\": 0, \"ticks\": \"\"}, \"colorscale\": [[0.0, \"#0d0887\"], [0.1111111111111111, \"#46039f\"], [0.2222222222222222, \"#7201a8\"], [0.3333333333333333, \"#9c179e\"], [0.4444444444444444, \"#bd3786\"], [0.5555555555555556, \"#d8576b\"], [0.6666666666666666, \"#ed7953\"], [0.7777777777777778, \"#fb9f3a\"], [0.8888888888888888, \"#fdca26\"], [1.0, \"#f0f921\"]], \"type\": \"contour\"}], \"contourcarpet\": [{\"colorbar\": {\"outlinewidth\": 0, \"ticks\": \"\"}, \"type\": \"contourcarpet\"}], \"heatmap\": [{\"colorbar\": {\"outlinewidth\": 0, \"ticks\": \"\"}, \"colorscale\": [[0.0, \"#0d0887\"], [0.1111111111111111, \"#46039f\"], [0.2222222222222222, \"#7201a8\"], [0.3333333333333333, \"#9c179e\"], [0.4444444444444444, \"#bd3786\"], [0.5555555555555556, \"#d8576b\"], [0.6666666666666666, \"#ed7953\"], [0.7777777777777778, \"#fb9f3a\"], [0.8888888888888888, \"#fdca26\"], [1.0, \"#f0f921\"]], \"type\": \"heatmap\"}], \"heatmapgl\": [{\"colorbar\": {\"outlinewidth\": 0, \"ticks\": \"\"}, \"colorscale\": [[0.0, \"#0d0887\"], [0.1111111111111111, \"#46039f\"], [0.2222222222222222, \"#7201a8\"], [0.3333333333333333, \"#9c179e\"], [0.4444444444444444, \"#bd3786\"], [0.5555555555555556, \"#d8576b\"], [0.6666666666666666, \"#ed7953\"], [0.7777777777777778, \"#fb9f3a\"], [0.8888888888888888, \"#fdca26\"], [1.0, \"#f0f921\"]], \"type\": \"heatmapgl\"}], \"histogram\": [{\"marker\": {\"colorbar\": {\"outlinewidth\": 0, \"ticks\": \"\"}}, \"type\": \"histogram\"}], \"histogram2d\": [{\"colorbar\": {\"outlinewidth\": 0, \"ticks\": \"\"}, \"colorscale\": [[0.0, \"#0d0887\"], [0.1111111111111111, \"#46039f\"], [0.2222222222222222, \"#7201a8\"], [0.3333333333333333, \"#9c179e\"], [0.4444444444444444, \"#bd3786\"], [0.5555555555555556, \"#d8576b\"], [0.6666666666666666, \"#ed7953\"], [0.7777777777777778, \"#fb9f3a\"], [0.8888888888888888, \"#fdca26\"], [1.0, \"#f0f921\"]], \"type\": \"histogram2d\"}], \"histogram2dcontour\": [{\"colorbar\": {\"outlinewidth\": 0, \"ticks\": \"\"}, \"colorscale\": [[0.0, \"#0d0887\"], [0.1111111111111111, \"#46039f\"], [0.2222222222222222, \"#7201a8\"], [0.3333333333333333, \"#9c179e\"], [0.4444444444444444, \"#bd3786\"], [0.5555555555555556, \"#d8576b\"], [0.6666666666666666, \"#ed7953\"], [0.7777777777777778, \"#fb9f3a\"], [0.8888888888888888, \"#fdca26\"], [1.0, \"#f0f921\"]], \"type\": \"histogram2dcontour\"}], \"mesh3d\": [{\"colorbar\": {\"outlinewidth\": 0, \"ticks\": \"\"}, \"type\": \"mesh3d\"}], \"parcoords\": [{\"line\": {\"colorbar\": {\"outlinewidth\": 0, \"ticks\": \"\"}}, \"type\": \"parcoords\"}], \"scatter\": [{\"marker\": {\"colorbar\": {\"outlinewidth\": 0, \"ticks\": \"\"}}, \"type\": \"scatter\"}], \"scatter3d\": [{\"line\": {\"colorbar\": {\"outlinewidth\": 0, \"ticks\": \"\"}}, \"marker\": {\"colorbar\": {\"outlinewidth\": 0, \"ticks\": \"\"}}, \"type\": \"scatter3d\"}], \"scattercarpet\": [{\"marker\": {\"colorbar\": {\"outlinewidth\": 0, \"ticks\": \"\"}}, \"type\": \"scattercarpet\"}], \"scattergeo\": [{\"marker\": {\"colorbar\": {\"outlinewidth\": 0, \"ticks\": \"\"}}, \"type\": \"scattergeo\"}], \"scattergl\": [{\"marker\": {\"colorbar\": {\"outlinewidth\": 0, \"ticks\": \"\"}}, \"type\": \"scattergl\"}], \"scattermapbox\": [{\"marker\": {\"colorbar\": {\"outlinewidth\": 0, \"ticks\": \"\"}}, \"type\": \"scattermapbox\"}], \"scatterpolar\": [{\"marker\": {\"colorbar\": {\"outlinewidth\": 0, \"ticks\": \"\"}}, \"type\": \"scatterpolar\"}], \"scatterpolargl\": [{\"marker\": {\"colorbar\": {\"outlinewidth\": 0, \"ticks\": \"\"}}, \"type\": \"scatterpolargl\"}], \"scatterternary\": [{\"marker\": {\"colorbar\": {\"outlinewidth\": 0, \"ticks\": \"\"}}, \"type\": \"scatterternary\"}], \"surface\": [{\"colorbar\": {\"outlinewidth\": 0, \"ticks\": \"\"}, \"colorscale\": [[0.0, \"#0d0887\"], [0.1111111111111111, \"#46039f\"], [0.2222222222222222, \"#7201a8\"], [0.3333333333333333, \"#9c179e\"], [0.4444444444444444, \"#bd3786\"], [0.5555555555555556, \"#d8576b\"], [0.6666666666666666, \"#ed7953\"], [0.7777777777777778, \"#fb9f3a\"], [0.8888888888888888, \"#fdca26\"], [1.0, \"#f0f921\"]], \"type\": \"surface\"}], \"table\": [{\"cells\": {\"fill\": {\"color\": \"#EBF0F8\"}, \"line\": {\"color\": \"white\"}}, \"header\": {\"fill\": {\"color\": \"#C8D4E3\"}, \"line\": {\"color\": \"white\"}}, \"type\": \"table\"}]}, \"layout\": {\"annotationdefaults\": {\"arrowcolor\": \"#2a3f5f\", \"arrowhead\": 0, \"arrowwidth\": 1}, \"colorscale\": {\"diverging\": [[0, \"#8e0152\"], [0.1, \"#c51b7d\"], [0.2, \"#de77ae\"], [0.3, \"#f1b6da\"], [0.4, \"#fde0ef\"], [0.5, \"#f7f7f7\"], [0.6, \"#e6f5d0\"], [0.7, \"#b8e186\"], [0.8, \"#7fbc41\"], [0.9, \"#4d9221\"], [1, \"#276419\"]], \"sequential\": [[0.0, \"#0d0887\"], [0.1111111111111111, \"#46039f\"], [0.2222222222222222, \"#7201a8\"], [0.3333333333333333, \"#9c179e\"], [0.4444444444444444, \"#bd3786\"], [0.5555555555555556, \"#d8576b\"], [0.6666666666666666, \"#ed7953\"], [0.7777777777777778, \"#fb9f3a\"], [0.8888888888888888, \"#fdca26\"], [1.0, \"#f0f921\"]], \"sequentialminus\": [[0.0, \"#0d0887\"], [0.1111111111111111, \"#46039f\"], [0.2222222222222222, \"#7201a8\"], [0.3333333333333333, \"#9c179e\"], [0.4444444444444444, \"#bd3786\"], [0.5555555555555556, \"#d8576b\"], [0.6666666666666666, \"#ed7953\"], [0.7777777777777778, \"#fb9f3a\"], [0.8888888888888888, \"#fdca26\"], [1.0, \"#f0f921\"]]}, \"colorway\": [\"#636efa\", \"#EF553B\", \"#00cc96\", \"#ab63fa\", \"#FFA15A\", \"#19d3f3\", \"#FF6692\", \"#B6E880\", \"#FF97FF\", \"#FECB52\"], \"font\": {\"color\": \"#2a3f5f\"}, \"geo\": {\"bgcolor\": \"white\", \"lakecolor\": \"white\", \"landcolor\": \"#E5ECF6\", \"showlakes\": true, \"showland\": true, \"subunitcolor\": \"white\"}, \"hoverlabel\": {\"align\": \"left\"}, \"hovermode\": \"closest\", \"mapbox\": {\"style\": \"light\"}, \"paper_bgcolor\": \"white\", \"plot_bgcolor\": \"#E5ECF6\", \"polar\": {\"angularaxis\": {\"gridcolor\": \"white\", \"linecolor\": \"white\", \"ticks\": \"\"}, \"bgcolor\": \"#E5ECF6\", \"radialaxis\": {\"gridcolor\": \"white\", \"linecolor\": \"white\", \"ticks\": \"\"}}, \"scene\": {\"xaxis\": {\"backgroundcolor\": \"#E5ECF6\", \"gridcolor\": \"white\", \"gridwidth\": 2, \"linecolor\": \"white\", \"showbackground\": true, \"ticks\": \"\", \"zerolinecolor\": \"white\"}, \"yaxis\": {\"backgroundcolor\": \"#E5ECF6\", \"gridcolor\": \"white\", \"gridwidth\": 2, \"linecolor\": \"white\", \"showbackground\": true, \"ticks\": \"\", \"zerolinecolor\": \"white\"}, \"zaxis\": {\"backgroundcolor\": \"#E5ECF6\", \"gridcolor\": \"white\", \"gridwidth\": 2, \"linecolor\": \"white\", \"showbackground\": true, \"ticks\": \"\", \"zerolinecolor\": \"white\"}}, \"shapedefaults\": {\"line\": {\"color\": \"#2a3f5f\"}}, \"ternary\": {\"aaxis\": {\"gridcolor\": \"white\", \"linecolor\": \"white\", \"ticks\": \"\"}, \"baxis\": {\"gridcolor\": \"white\", \"linecolor\": \"white\", \"ticks\": \"\"}, \"bgcolor\": \"#E5ECF6\", \"caxis\": {\"gridcolor\": \"white\", \"linecolor\": \"white\", \"ticks\": \"\"}}, \"title\": {\"x\": 0.05}, \"xaxis\": {\"automargin\": true, \"gridcolor\": \"white\", \"linecolor\": \"white\", \"ticks\": \"\", \"zerolinecolor\": \"white\", \"zerolinewidth\": 2}, \"yaxis\": {\"automargin\": true, \"gridcolor\": \"white\", \"linecolor\": \"white\", \"ticks\": \"\", \"zerolinecolor\": \"white\", \"zerolinewidth\": 2}}}, \"title\": {\"text\": \"Purpose Distribuition\"}, \"xaxis\": {\"anchor\": \"y\", \"domain\": [0.0, 0.45]}, \"xaxis2\": {\"anchor\": \"y2\", \"domain\": [0.55, 1.0]}, \"xaxis3\": {\"anchor\": \"y3\", \"domain\": [0.0, 1.0]}, \"yaxis\": {\"anchor\": \"x\", \"domain\": [0.625, 1.0]}, \"yaxis2\": {\"anchor\": \"x2\", \"domain\": [0.625, 1.0]}, \"yaxis3\": {\"anchor\": \"x3\", \"domain\": [0.0, 0.375]}},\n",
       "                        {\"responsive\": true}\n",
       "                    ).then(function(){\n",
       "                            \n",
       "var gd = document.getElementById('5b2b2955-ccb7-4da9-9769-7f877c6a565e');\n",
       "var x = new MutationObserver(function (mutations, observer) {{\n",
       "        var display = window.getComputedStyle(gd).display;\n",
       "        if (!display || display === 'none') {{\n",
       "            console.log([gd, 'removed!']);\n",
       "            Plotly.purge(gd);\n",
       "            observer.disconnect();\n",
       "        }}\n",
       "}});\n",
       "\n",
       "// Listen for the removal of the full notebook cells\n",
       "var notebookContainer = gd.closest('#notebook-container');\n",
       "if (notebookContainer) {{\n",
       "    x.observe(notebookContainer, {childList: true});\n",
       "}}\n",
       "\n",
       "// Listen for the clearing of the current output cell\n",
       "var outputEl = gd.closest('.output');\n",
       "if (outputEl) {{\n",
       "    x.observe(outputEl, {childList: true});\n",
       "}}\n",
       "\n",
       "                        })\n",
       "                };\n",
       "                });\n",
       "            </script>\n",
       "        </div>"
      ]
     },
     "metadata": {},
     "output_type": "display_data"
    }
   ],
   "source": [
    "df_good = df.loc[df[\"Risk\"] == 'good'].sort_values(by=['Purpose'])['Purpose'].values.tolist()\n",
    "df_bad = df.loc[df[\"Risk\"] == 'bad'].sort_values(by=['Purpose'])['Purpose'].values.tolist()\n",
    "df_age = df['Purpose'].values.tolist()\n",
    "\n",
    "trace0 = go.Histogram(\n",
    "    x=df_good,\n",
    "    histnorm='probability',\n",
    "    name=\"Good Credit\"\n",
    ")\n",
    "\n",
    "trace1 = go.Histogram(\n",
    "    x=df_bad,\n",
    "    histnorm='probability',\n",
    "    name=\"Bad Credit\"\n",
    ")\n",
    "\n",
    "trace2 = go.Histogram(\n",
    "    x=df_age,\n",
    "    histnorm='probability',\n",
    "    name=\"Overall Purpose\"\n",
    ")\n",
    "\n",
    "fig = tls.make_subplots(rows=2, cols=2, specs=[[{}, {}], [{'colspan': 2}, None]],\n",
    "                          subplot_titles=('Good','Bad', 'General Distribuition'))\n",
    "\n",
    "fig.append_trace(trace0, 1, 1)\n",
    "fig.append_trace(trace1, 1, 2)\n",
    "fig.append_trace(trace2, 2, 1)\n",
    "\n",
    "fig['layout'].update(showlegend=True, title='Purpose Distribuition', bargap=0.05)\n",
    "py.iplot(fig, filename='custom-sized-subplot-with-subplot-titles')"
   ]
  },
  {
   "cell_type": "markdown",
   "metadata": {},
   "source": [
    "There is no correlation as we see in the graph."
   ]
  },
  {
   "cell_type": "markdown",
   "metadata": {},
   "source": [
    "**4. Is there any correlation between owning a house and risk?**"
   ]
  },
  {
   "cell_type": "code",
   "execution_count": 17,
   "metadata": {},
   "outputs": [
    {
     "data": {
      "application/vnd.plotly.v1+json": {
       "config": {
        "linkText": "Export to plot.ly",
        "plotlyServerURL": "https://plot.ly",
        "showLink": false
       },
       "data": [
        {
         "name": "Good credit",
         "type": "bar",
         "x": [
          "own",
          "rent",
          "free"
         ],
         "y": [
          527,
          109,
          64
         ]
        },
        {
         "name": "Bad Credit",
         "type": "bar",
         "x": [
          "own",
          "rent",
          "free"
         ],
         "y": [
          186,
          70,
          44
         ]
        }
       ],
       "layout": {
        "template": {
         "data": {
          "bar": [
           {
            "error_x": {
             "color": "#2a3f5f"
            },
            "error_y": {
             "color": "#2a3f5f"
            },
            "marker": {
             "line": {
              "color": "#E5ECF6",
              "width": 0.5
             }
            },
            "type": "bar"
           }
          ],
          "barpolar": [
           {
            "marker": {
             "line": {
              "color": "#E5ECF6",
              "width": 0.5
             }
            },
            "type": "barpolar"
           }
          ],
          "carpet": [
           {
            "aaxis": {
             "endlinecolor": "#2a3f5f",
             "gridcolor": "white",
             "linecolor": "white",
             "minorgridcolor": "white",
             "startlinecolor": "#2a3f5f"
            },
            "baxis": {
             "endlinecolor": "#2a3f5f",
             "gridcolor": "white",
             "linecolor": "white",
             "minorgridcolor": "white",
             "startlinecolor": "#2a3f5f"
            },
            "type": "carpet"
           }
          ],
          "choropleth": [
           {
            "colorbar": {
             "outlinewidth": 0,
             "ticks": ""
            },
            "type": "choropleth"
           }
          ],
          "contour": [
           {
            "colorbar": {
             "outlinewidth": 0,
             "ticks": ""
            },
            "colorscale": [
             [
              0,
              "#0d0887"
             ],
             [
              0.1111111111111111,
              "#46039f"
             ],
             [
              0.2222222222222222,
              "#7201a8"
             ],
             [
              0.3333333333333333,
              "#9c179e"
             ],
             [
              0.4444444444444444,
              "#bd3786"
             ],
             [
              0.5555555555555556,
              "#d8576b"
             ],
             [
              0.6666666666666666,
              "#ed7953"
             ],
             [
              0.7777777777777778,
              "#fb9f3a"
             ],
             [
              0.8888888888888888,
              "#fdca26"
             ],
             [
              1,
              "#f0f921"
             ]
            ],
            "type": "contour"
           }
          ],
          "contourcarpet": [
           {
            "colorbar": {
             "outlinewidth": 0,
             "ticks": ""
            },
            "type": "contourcarpet"
           }
          ],
          "heatmap": [
           {
            "colorbar": {
             "outlinewidth": 0,
             "ticks": ""
            },
            "colorscale": [
             [
              0,
              "#0d0887"
             ],
             [
              0.1111111111111111,
              "#46039f"
             ],
             [
              0.2222222222222222,
              "#7201a8"
             ],
             [
              0.3333333333333333,
              "#9c179e"
             ],
             [
              0.4444444444444444,
              "#bd3786"
             ],
             [
              0.5555555555555556,
              "#d8576b"
             ],
             [
              0.6666666666666666,
              "#ed7953"
             ],
             [
              0.7777777777777778,
              "#fb9f3a"
             ],
             [
              0.8888888888888888,
              "#fdca26"
             ],
             [
              1,
              "#f0f921"
             ]
            ],
            "type": "heatmap"
           }
          ],
          "heatmapgl": [
           {
            "colorbar": {
             "outlinewidth": 0,
             "ticks": ""
            },
            "colorscale": [
             [
              0,
              "#0d0887"
             ],
             [
              0.1111111111111111,
              "#46039f"
             ],
             [
              0.2222222222222222,
              "#7201a8"
             ],
             [
              0.3333333333333333,
              "#9c179e"
             ],
             [
              0.4444444444444444,
              "#bd3786"
             ],
             [
              0.5555555555555556,
              "#d8576b"
             ],
             [
              0.6666666666666666,
              "#ed7953"
             ],
             [
              0.7777777777777778,
              "#fb9f3a"
             ],
             [
              0.8888888888888888,
              "#fdca26"
             ],
             [
              1,
              "#f0f921"
             ]
            ],
            "type": "heatmapgl"
           }
          ],
          "histogram": [
           {
            "marker": {
             "colorbar": {
              "outlinewidth": 0,
              "ticks": ""
             }
            },
            "type": "histogram"
           }
          ],
          "histogram2d": [
           {
            "colorbar": {
             "outlinewidth": 0,
             "ticks": ""
            },
            "colorscale": [
             [
              0,
              "#0d0887"
             ],
             [
              0.1111111111111111,
              "#46039f"
             ],
             [
              0.2222222222222222,
              "#7201a8"
             ],
             [
              0.3333333333333333,
              "#9c179e"
             ],
             [
              0.4444444444444444,
              "#bd3786"
             ],
             [
              0.5555555555555556,
              "#d8576b"
             ],
             [
              0.6666666666666666,
              "#ed7953"
             ],
             [
              0.7777777777777778,
              "#fb9f3a"
             ],
             [
              0.8888888888888888,
              "#fdca26"
             ],
             [
              1,
              "#f0f921"
             ]
            ],
            "type": "histogram2d"
           }
          ],
          "histogram2dcontour": [
           {
            "colorbar": {
             "outlinewidth": 0,
             "ticks": ""
            },
            "colorscale": [
             [
              0,
              "#0d0887"
             ],
             [
              0.1111111111111111,
              "#46039f"
             ],
             [
              0.2222222222222222,
              "#7201a8"
             ],
             [
              0.3333333333333333,
              "#9c179e"
             ],
             [
              0.4444444444444444,
              "#bd3786"
             ],
             [
              0.5555555555555556,
              "#d8576b"
             ],
             [
              0.6666666666666666,
              "#ed7953"
             ],
             [
              0.7777777777777778,
              "#fb9f3a"
             ],
             [
              0.8888888888888888,
              "#fdca26"
             ],
             [
              1,
              "#f0f921"
             ]
            ],
            "type": "histogram2dcontour"
           }
          ],
          "mesh3d": [
           {
            "colorbar": {
             "outlinewidth": 0,
             "ticks": ""
            },
            "type": "mesh3d"
           }
          ],
          "parcoords": [
           {
            "line": {
             "colorbar": {
              "outlinewidth": 0,
              "ticks": ""
             }
            },
            "type": "parcoords"
           }
          ],
          "scatter": [
           {
            "marker": {
             "colorbar": {
              "outlinewidth": 0,
              "ticks": ""
             }
            },
            "type": "scatter"
           }
          ],
          "scatter3d": [
           {
            "line": {
             "colorbar": {
              "outlinewidth": 0,
              "ticks": ""
             }
            },
            "marker": {
             "colorbar": {
              "outlinewidth": 0,
              "ticks": ""
             }
            },
            "type": "scatter3d"
           }
          ],
          "scattercarpet": [
           {
            "marker": {
             "colorbar": {
              "outlinewidth": 0,
              "ticks": ""
             }
            },
            "type": "scattercarpet"
           }
          ],
          "scattergeo": [
           {
            "marker": {
             "colorbar": {
              "outlinewidth": 0,
              "ticks": ""
             }
            },
            "type": "scattergeo"
           }
          ],
          "scattergl": [
           {
            "marker": {
             "colorbar": {
              "outlinewidth": 0,
              "ticks": ""
             }
            },
            "type": "scattergl"
           }
          ],
          "scattermapbox": [
           {
            "marker": {
             "colorbar": {
              "outlinewidth": 0,
              "ticks": ""
             }
            },
            "type": "scattermapbox"
           }
          ],
          "scatterpolar": [
           {
            "marker": {
             "colorbar": {
              "outlinewidth": 0,
              "ticks": ""
             }
            },
            "type": "scatterpolar"
           }
          ],
          "scatterpolargl": [
           {
            "marker": {
             "colorbar": {
              "outlinewidth": 0,
              "ticks": ""
             }
            },
            "type": "scatterpolargl"
           }
          ],
          "scatterternary": [
           {
            "marker": {
             "colorbar": {
              "outlinewidth": 0,
              "ticks": ""
             }
            },
            "type": "scatterternary"
           }
          ],
          "surface": [
           {
            "colorbar": {
             "outlinewidth": 0,
             "ticks": ""
            },
            "colorscale": [
             [
              0,
              "#0d0887"
             ],
             [
              0.1111111111111111,
              "#46039f"
             ],
             [
              0.2222222222222222,
              "#7201a8"
             ],
             [
              0.3333333333333333,
              "#9c179e"
             ],
             [
              0.4444444444444444,
              "#bd3786"
             ],
             [
              0.5555555555555556,
              "#d8576b"
             ],
             [
              0.6666666666666666,
              "#ed7953"
             ],
             [
              0.7777777777777778,
              "#fb9f3a"
             ],
             [
              0.8888888888888888,
              "#fdca26"
             ],
             [
              1,
              "#f0f921"
             ]
            ],
            "type": "surface"
           }
          ],
          "table": [
           {
            "cells": {
             "fill": {
              "color": "#EBF0F8"
             },
             "line": {
              "color": "white"
             }
            },
            "header": {
             "fill": {
              "color": "#C8D4E3"
             },
             "line": {
              "color": "white"
             }
            },
            "type": "table"
           }
          ]
         },
         "layout": {
          "annotationdefaults": {
           "arrowcolor": "#2a3f5f",
           "arrowhead": 0,
           "arrowwidth": 1
          },
          "colorscale": {
           "diverging": [
            [
             0,
             "#8e0152"
            ],
            [
             0.1,
             "#c51b7d"
            ],
            [
             0.2,
             "#de77ae"
            ],
            [
             0.3,
             "#f1b6da"
            ],
            [
             0.4,
             "#fde0ef"
            ],
            [
             0.5,
             "#f7f7f7"
            ],
            [
             0.6,
             "#e6f5d0"
            ],
            [
             0.7,
             "#b8e186"
            ],
            [
             0.8,
             "#7fbc41"
            ],
            [
             0.9,
             "#4d9221"
            ],
            [
             1,
             "#276419"
            ]
           ],
           "sequential": [
            [
             0,
             "#0d0887"
            ],
            [
             0.1111111111111111,
             "#46039f"
            ],
            [
             0.2222222222222222,
             "#7201a8"
            ],
            [
             0.3333333333333333,
             "#9c179e"
            ],
            [
             0.4444444444444444,
             "#bd3786"
            ],
            [
             0.5555555555555556,
             "#d8576b"
            ],
            [
             0.6666666666666666,
             "#ed7953"
            ],
            [
             0.7777777777777778,
             "#fb9f3a"
            ],
            [
             0.8888888888888888,
             "#fdca26"
            ],
            [
             1,
             "#f0f921"
            ]
           ],
           "sequentialminus": [
            [
             0,
             "#0d0887"
            ],
            [
             0.1111111111111111,
             "#46039f"
            ],
            [
             0.2222222222222222,
             "#7201a8"
            ],
            [
             0.3333333333333333,
             "#9c179e"
            ],
            [
             0.4444444444444444,
             "#bd3786"
            ],
            [
             0.5555555555555556,
             "#d8576b"
            ],
            [
             0.6666666666666666,
             "#ed7953"
            ],
            [
             0.7777777777777778,
             "#fb9f3a"
            ],
            [
             0.8888888888888888,
             "#fdca26"
            ],
            [
             1,
             "#f0f921"
            ]
           ]
          },
          "colorway": [
           "#636efa",
           "#EF553B",
           "#00cc96",
           "#ab63fa",
           "#FFA15A",
           "#19d3f3",
           "#FF6692",
           "#B6E880",
           "#FF97FF",
           "#FECB52"
          ],
          "font": {
           "color": "#2a3f5f"
          },
          "geo": {
           "bgcolor": "white",
           "lakecolor": "white",
           "landcolor": "#E5ECF6",
           "showlakes": true,
           "showland": true,
           "subunitcolor": "white"
          },
          "hoverlabel": {
           "align": "left"
          },
          "hovermode": "closest",
          "mapbox": {
           "style": "light"
          },
          "paper_bgcolor": "white",
          "plot_bgcolor": "#E5ECF6",
          "polar": {
           "angularaxis": {
            "gridcolor": "white",
            "linecolor": "white",
            "ticks": ""
           },
           "bgcolor": "#E5ECF6",
           "radialaxis": {
            "gridcolor": "white",
            "linecolor": "white",
            "ticks": ""
           }
          },
          "scene": {
           "xaxis": {
            "backgroundcolor": "#E5ECF6",
            "gridcolor": "white",
            "gridwidth": 2,
            "linecolor": "white",
            "showbackground": true,
            "ticks": "",
            "zerolinecolor": "white"
           },
           "yaxis": {
            "backgroundcolor": "#E5ECF6",
            "gridcolor": "white",
            "gridwidth": 2,
            "linecolor": "white",
            "showbackground": true,
            "ticks": "",
            "zerolinecolor": "white"
           },
           "zaxis": {
            "backgroundcolor": "#E5ECF6",
            "gridcolor": "white",
            "gridwidth": 2,
            "linecolor": "white",
            "showbackground": true,
            "ticks": "",
            "zerolinecolor": "white"
           }
          },
          "shapedefaults": {
           "line": {
            "color": "#2a3f5f"
           }
          },
          "ternary": {
           "aaxis": {
            "gridcolor": "white",
            "linecolor": "white",
            "ticks": ""
           },
           "baxis": {
            "gridcolor": "white",
            "linecolor": "white",
            "ticks": ""
           },
           "bgcolor": "#E5ECF6",
           "caxis": {
            "gridcolor": "white",
            "linecolor": "white",
            "ticks": ""
           }
          },
          "title": {
           "x": 0.05
          },
          "xaxis": {
           "automargin": true,
           "gridcolor": "white",
           "linecolor": "white",
           "ticks": "",
           "zerolinecolor": "white",
           "zerolinewidth": 2
          },
          "yaxis": {
           "automargin": true,
           "gridcolor": "white",
           "linecolor": "white",
           "ticks": "",
           "zerolinecolor": "white",
           "zerolinewidth": 2
          }
         }
        },
        "title": {
         "text": "Housing Distribuition"
        }
       }
      },
      "text/html": [
       "<div>\n",
       "        \n",
       "        \n",
       "            <div id=\"d84b6f7a-0016-4b44-bb3c-2b2e34ea1fd5\" class=\"plotly-graph-div\" style=\"height:525px; width:100%;\"></div>\n",
       "            <script type=\"text/javascript\">\n",
       "                require([\"plotly\"], function(Plotly) {\n",
       "                    window.PLOTLYENV=window.PLOTLYENV || {};\n",
       "                    \n",
       "                if (document.getElementById(\"d84b6f7a-0016-4b44-bb3c-2b2e34ea1fd5\")) {\n",
       "                    Plotly.newPlot(\n",
       "                        'd84b6f7a-0016-4b44-bb3c-2b2e34ea1fd5',\n",
       "                        [{\"name\": \"Good credit\", \"type\": \"bar\", \"x\": [\"own\", \"rent\", \"free\"], \"y\": [527, 109, 64]}, {\"name\": \"Bad Credit\", \"type\": \"bar\", \"x\": [\"own\", \"rent\", \"free\"], \"y\": [186, 70, 44]}],\n",
       "                        {\"template\": {\"data\": {\"bar\": [{\"error_x\": {\"color\": \"#2a3f5f\"}, \"error_y\": {\"color\": \"#2a3f5f\"}, \"marker\": {\"line\": {\"color\": \"#E5ECF6\", \"width\": 0.5}}, \"type\": \"bar\"}], \"barpolar\": [{\"marker\": {\"line\": {\"color\": \"#E5ECF6\", \"width\": 0.5}}, \"type\": \"barpolar\"}], \"carpet\": [{\"aaxis\": {\"endlinecolor\": \"#2a3f5f\", \"gridcolor\": \"white\", \"linecolor\": \"white\", \"minorgridcolor\": \"white\", \"startlinecolor\": \"#2a3f5f\"}, \"baxis\": {\"endlinecolor\": \"#2a3f5f\", \"gridcolor\": \"white\", \"linecolor\": \"white\", \"minorgridcolor\": \"white\", \"startlinecolor\": \"#2a3f5f\"}, \"type\": \"carpet\"}], \"choropleth\": [{\"colorbar\": {\"outlinewidth\": 0, \"ticks\": \"\"}, \"type\": \"choropleth\"}], \"contour\": [{\"colorbar\": {\"outlinewidth\": 0, \"ticks\": \"\"}, \"colorscale\": [[0.0, \"#0d0887\"], [0.1111111111111111, \"#46039f\"], [0.2222222222222222, \"#7201a8\"], [0.3333333333333333, \"#9c179e\"], [0.4444444444444444, \"#bd3786\"], [0.5555555555555556, \"#d8576b\"], [0.6666666666666666, \"#ed7953\"], [0.7777777777777778, \"#fb9f3a\"], [0.8888888888888888, \"#fdca26\"], [1.0, \"#f0f921\"]], \"type\": \"contour\"}], \"contourcarpet\": [{\"colorbar\": {\"outlinewidth\": 0, \"ticks\": \"\"}, \"type\": \"contourcarpet\"}], \"heatmap\": [{\"colorbar\": {\"outlinewidth\": 0, \"ticks\": \"\"}, \"colorscale\": [[0.0, \"#0d0887\"], [0.1111111111111111, \"#46039f\"], [0.2222222222222222, \"#7201a8\"], [0.3333333333333333, \"#9c179e\"], [0.4444444444444444, \"#bd3786\"], [0.5555555555555556, \"#d8576b\"], [0.6666666666666666, \"#ed7953\"], [0.7777777777777778, \"#fb9f3a\"], [0.8888888888888888, \"#fdca26\"], [1.0, \"#f0f921\"]], \"type\": \"heatmap\"}], \"heatmapgl\": [{\"colorbar\": {\"outlinewidth\": 0, \"ticks\": \"\"}, \"colorscale\": [[0.0, \"#0d0887\"], [0.1111111111111111, \"#46039f\"], [0.2222222222222222, \"#7201a8\"], [0.3333333333333333, \"#9c179e\"], [0.4444444444444444, \"#bd3786\"], [0.5555555555555556, \"#d8576b\"], [0.6666666666666666, \"#ed7953\"], [0.7777777777777778, \"#fb9f3a\"], [0.8888888888888888, \"#fdca26\"], [1.0, \"#f0f921\"]], \"type\": \"heatmapgl\"}], \"histogram\": [{\"marker\": {\"colorbar\": {\"outlinewidth\": 0, \"ticks\": \"\"}}, \"type\": \"histogram\"}], \"histogram2d\": [{\"colorbar\": {\"outlinewidth\": 0, \"ticks\": \"\"}, \"colorscale\": [[0.0, \"#0d0887\"], [0.1111111111111111, \"#46039f\"], [0.2222222222222222, \"#7201a8\"], [0.3333333333333333, \"#9c179e\"], [0.4444444444444444, \"#bd3786\"], [0.5555555555555556, \"#d8576b\"], [0.6666666666666666, \"#ed7953\"], [0.7777777777777778, \"#fb9f3a\"], [0.8888888888888888, \"#fdca26\"], [1.0, \"#f0f921\"]], \"type\": \"histogram2d\"}], \"histogram2dcontour\": [{\"colorbar\": {\"outlinewidth\": 0, \"ticks\": \"\"}, \"colorscale\": [[0.0, \"#0d0887\"], [0.1111111111111111, \"#46039f\"], [0.2222222222222222, \"#7201a8\"], [0.3333333333333333, \"#9c179e\"], [0.4444444444444444, \"#bd3786\"], [0.5555555555555556, \"#d8576b\"], [0.6666666666666666, \"#ed7953\"], [0.7777777777777778, \"#fb9f3a\"], [0.8888888888888888, \"#fdca26\"], [1.0, \"#f0f921\"]], \"type\": \"histogram2dcontour\"}], \"mesh3d\": [{\"colorbar\": {\"outlinewidth\": 0, \"ticks\": \"\"}, \"type\": \"mesh3d\"}], \"parcoords\": [{\"line\": {\"colorbar\": {\"outlinewidth\": 0, \"ticks\": \"\"}}, \"type\": \"parcoords\"}], \"scatter\": [{\"marker\": {\"colorbar\": {\"outlinewidth\": 0, \"ticks\": \"\"}}, \"type\": \"scatter\"}], \"scatter3d\": [{\"line\": {\"colorbar\": {\"outlinewidth\": 0, \"ticks\": \"\"}}, \"marker\": {\"colorbar\": {\"outlinewidth\": 0, \"ticks\": \"\"}}, \"type\": \"scatter3d\"}], \"scattercarpet\": [{\"marker\": {\"colorbar\": {\"outlinewidth\": 0, \"ticks\": \"\"}}, \"type\": \"scattercarpet\"}], \"scattergeo\": [{\"marker\": {\"colorbar\": {\"outlinewidth\": 0, \"ticks\": \"\"}}, \"type\": \"scattergeo\"}], \"scattergl\": [{\"marker\": {\"colorbar\": {\"outlinewidth\": 0, \"ticks\": \"\"}}, \"type\": \"scattergl\"}], \"scattermapbox\": [{\"marker\": {\"colorbar\": {\"outlinewidth\": 0, \"ticks\": \"\"}}, \"type\": \"scattermapbox\"}], \"scatterpolar\": [{\"marker\": {\"colorbar\": {\"outlinewidth\": 0, \"ticks\": \"\"}}, \"type\": \"scatterpolar\"}], \"scatterpolargl\": [{\"marker\": {\"colorbar\": {\"outlinewidth\": 0, \"ticks\": \"\"}}, \"type\": \"scatterpolargl\"}], \"scatterternary\": [{\"marker\": {\"colorbar\": {\"outlinewidth\": 0, \"ticks\": \"\"}}, \"type\": \"scatterternary\"}], \"surface\": [{\"colorbar\": {\"outlinewidth\": 0, \"ticks\": \"\"}, \"colorscale\": [[0.0, \"#0d0887\"], [0.1111111111111111, \"#46039f\"], [0.2222222222222222, \"#7201a8\"], [0.3333333333333333, \"#9c179e\"], [0.4444444444444444, \"#bd3786\"], [0.5555555555555556, \"#d8576b\"], [0.6666666666666666, \"#ed7953\"], [0.7777777777777778, \"#fb9f3a\"], [0.8888888888888888, \"#fdca26\"], [1.0, \"#f0f921\"]], \"type\": \"surface\"}], \"table\": [{\"cells\": {\"fill\": {\"color\": \"#EBF0F8\"}, \"line\": {\"color\": \"white\"}}, \"header\": {\"fill\": {\"color\": \"#C8D4E3\"}, \"line\": {\"color\": \"white\"}}, \"type\": \"table\"}]}, \"layout\": {\"annotationdefaults\": {\"arrowcolor\": \"#2a3f5f\", \"arrowhead\": 0, \"arrowwidth\": 1}, \"colorscale\": {\"diverging\": [[0, \"#8e0152\"], [0.1, \"#c51b7d\"], [0.2, \"#de77ae\"], [0.3, \"#f1b6da\"], [0.4, \"#fde0ef\"], [0.5, \"#f7f7f7\"], [0.6, \"#e6f5d0\"], [0.7, \"#b8e186\"], [0.8, \"#7fbc41\"], [0.9, \"#4d9221\"], [1, \"#276419\"]], \"sequential\": [[0.0, \"#0d0887\"], [0.1111111111111111, \"#46039f\"], [0.2222222222222222, \"#7201a8\"], [0.3333333333333333, \"#9c179e\"], [0.4444444444444444, \"#bd3786\"], [0.5555555555555556, \"#d8576b\"], [0.6666666666666666, \"#ed7953\"], [0.7777777777777778, \"#fb9f3a\"], [0.8888888888888888, \"#fdca26\"], [1.0, \"#f0f921\"]], \"sequentialminus\": [[0.0, \"#0d0887\"], [0.1111111111111111, \"#46039f\"], [0.2222222222222222, \"#7201a8\"], [0.3333333333333333, \"#9c179e\"], [0.4444444444444444, \"#bd3786\"], [0.5555555555555556, \"#d8576b\"], [0.6666666666666666, \"#ed7953\"], [0.7777777777777778, \"#fb9f3a\"], [0.8888888888888888, \"#fdca26\"], [1.0, \"#f0f921\"]]}, \"colorway\": [\"#636efa\", \"#EF553B\", \"#00cc96\", \"#ab63fa\", \"#FFA15A\", \"#19d3f3\", \"#FF6692\", \"#B6E880\", \"#FF97FF\", \"#FECB52\"], \"font\": {\"color\": \"#2a3f5f\"}, \"geo\": {\"bgcolor\": \"white\", \"lakecolor\": \"white\", \"landcolor\": \"#E5ECF6\", \"showlakes\": true, \"showland\": true, \"subunitcolor\": \"white\"}, \"hoverlabel\": {\"align\": \"left\"}, \"hovermode\": \"closest\", \"mapbox\": {\"style\": \"light\"}, \"paper_bgcolor\": \"white\", \"plot_bgcolor\": \"#E5ECF6\", \"polar\": {\"angularaxis\": {\"gridcolor\": \"white\", \"linecolor\": \"white\", \"ticks\": \"\"}, \"bgcolor\": \"#E5ECF6\", \"radialaxis\": {\"gridcolor\": \"white\", \"linecolor\": \"white\", \"ticks\": \"\"}}, \"scene\": {\"xaxis\": {\"backgroundcolor\": \"#E5ECF6\", \"gridcolor\": \"white\", \"gridwidth\": 2, \"linecolor\": \"white\", \"showbackground\": true, \"ticks\": \"\", \"zerolinecolor\": \"white\"}, \"yaxis\": {\"backgroundcolor\": \"#E5ECF6\", \"gridcolor\": \"white\", \"gridwidth\": 2, \"linecolor\": \"white\", \"showbackground\": true, \"ticks\": \"\", \"zerolinecolor\": \"white\"}, \"zaxis\": {\"backgroundcolor\": \"#E5ECF6\", \"gridcolor\": \"white\", \"gridwidth\": 2, \"linecolor\": \"white\", \"showbackground\": true, \"ticks\": \"\", \"zerolinecolor\": \"white\"}}, \"shapedefaults\": {\"line\": {\"color\": \"#2a3f5f\"}}, \"ternary\": {\"aaxis\": {\"gridcolor\": \"white\", \"linecolor\": \"white\", \"ticks\": \"\"}, \"baxis\": {\"gridcolor\": \"white\", \"linecolor\": \"white\", \"ticks\": \"\"}, \"bgcolor\": \"#E5ECF6\", \"caxis\": {\"gridcolor\": \"white\", \"linecolor\": \"white\", \"ticks\": \"\"}}, \"title\": {\"x\": 0.05}, \"xaxis\": {\"automargin\": true, \"gridcolor\": \"white\", \"linecolor\": \"white\", \"ticks\": \"\", \"zerolinecolor\": \"white\", \"zerolinewidth\": 2}, \"yaxis\": {\"automargin\": true, \"gridcolor\": \"white\", \"linecolor\": \"white\", \"ticks\": \"\", \"zerolinecolor\": \"white\", \"zerolinewidth\": 2}}}, \"title\": {\"text\": \"Housing Distribuition\"}},\n",
       "                        {\"responsive\": true}\n",
       "                    ).then(function(){\n",
       "                            \n",
       "var gd = document.getElementById('d84b6f7a-0016-4b44-bb3c-2b2e34ea1fd5');\n",
       "var x = new MutationObserver(function (mutations, observer) {{\n",
       "        var display = window.getComputedStyle(gd).display;\n",
       "        if (!display || display === 'none') {{\n",
       "            console.log([gd, 'removed!']);\n",
       "            Plotly.purge(gd);\n",
       "            observer.disconnect();\n",
       "        }}\n",
       "}});\n",
       "\n",
       "// Listen for the removal of the full notebook cells\n",
       "var notebookContainer = gd.closest('#notebook-container');\n",
       "if (notebookContainer) {{\n",
       "    x.observe(notebookContainer, {childList: true});\n",
       "}}\n",
       "\n",
       "// Listen for the clearing of the current output cell\n",
       "var outputEl = gd.closest('.output');\n",
       "if (outputEl) {{\n",
       "    x.observe(outputEl, {childList: true});\n",
       "}}\n",
       "\n",
       "                        })\n",
       "                };\n",
       "                });\n",
       "            </script>\n",
       "        </div>"
      ]
     },
     "metadata": {},
     "output_type": "display_data"
    }
   ],
   "source": [
    "trace0 = go.Bar(\n",
    "    x = df[df[\"Risk\"]== 'good'][\"Housing\"].value_counts().index.values,\n",
    "    y = df[df[\"Risk\"]== 'good'][\"Housing\"].value_counts().values,\n",
    "    name='Good credit'\n",
    ")\n",
    "\n",
    "trace1 = go.Bar(\n",
    "    x = df[df[\"Risk\"]== 'bad'][\"Housing\"].value_counts().index.values,\n",
    "    y = df[df[\"Risk\"]== 'bad'][\"Housing\"].value_counts().values,\n",
    "    name=\"Bad Credit\"\n",
    ")\n",
    "\n",
    "data = [trace0, trace1]\n",
    "\n",
    "layout = go.Layout(\n",
    "    title='Housing Distribuition'\n",
    ")\n",
    "\n",
    "fig = go.Figure(data=data, layout=layout)\n",
    "\n",
    "py.iplot(fig, filename='Housing-Grouped')"
   ]
  },
  {
   "cell_type": "markdown",
   "metadata": {},
   "source": [
    "There is no correlation between owning a house and not to be good and bad customer."
   ]
  },
  {
   "cell_type": "markdown",
   "metadata": {},
   "source": [
    "**5. Is there any correlation between saving account and risk?**"
   ]
  },
  {
   "cell_type": "code",
   "execution_count": 18,
   "metadata": {},
   "outputs": [
    {
     "data": {
      "application/vnd.plotly.v1+json": {
       "config": {
        "linkText": "Export to plot.ly",
        "plotlyServerURL": "https://plot.ly",
        "showLink": false
       },
       "data": [
        {
         "name": "Good credit Distribuition",
         "type": "bar",
         "x": [
          "little",
          "moderate",
          "quite rich",
          "rich"
         ],
         "y": [
          386,
          69,
          52,
          42
         ]
        },
        {
         "name": "Bad Credit Distribuition",
         "type": "bar",
         "x": [
          "little",
          "moderate",
          "quite rich",
          "rich"
         ],
         "y": [
          217,
          34,
          11,
          6
         ]
        }
       ],
       "layout": {
        "template": {
         "data": {
          "bar": [
           {
            "error_x": {
             "color": "#2a3f5f"
            },
            "error_y": {
             "color": "#2a3f5f"
            },
            "marker": {
             "line": {
              "color": "#E5ECF6",
              "width": 0.5
             }
            },
            "type": "bar"
           }
          ],
          "barpolar": [
           {
            "marker": {
             "line": {
              "color": "#E5ECF6",
              "width": 0.5
             }
            },
            "type": "barpolar"
           }
          ],
          "carpet": [
           {
            "aaxis": {
             "endlinecolor": "#2a3f5f",
             "gridcolor": "white",
             "linecolor": "white",
             "minorgridcolor": "white",
             "startlinecolor": "#2a3f5f"
            },
            "baxis": {
             "endlinecolor": "#2a3f5f",
             "gridcolor": "white",
             "linecolor": "white",
             "minorgridcolor": "white",
             "startlinecolor": "#2a3f5f"
            },
            "type": "carpet"
           }
          ],
          "choropleth": [
           {
            "colorbar": {
             "outlinewidth": 0,
             "ticks": ""
            },
            "type": "choropleth"
           }
          ],
          "contour": [
           {
            "colorbar": {
             "outlinewidth": 0,
             "ticks": ""
            },
            "colorscale": [
             [
              0,
              "#0d0887"
             ],
             [
              0.1111111111111111,
              "#46039f"
             ],
             [
              0.2222222222222222,
              "#7201a8"
             ],
             [
              0.3333333333333333,
              "#9c179e"
             ],
             [
              0.4444444444444444,
              "#bd3786"
             ],
             [
              0.5555555555555556,
              "#d8576b"
             ],
             [
              0.6666666666666666,
              "#ed7953"
             ],
             [
              0.7777777777777778,
              "#fb9f3a"
             ],
             [
              0.8888888888888888,
              "#fdca26"
             ],
             [
              1,
              "#f0f921"
             ]
            ],
            "type": "contour"
           }
          ],
          "contourcarpet": [
           {
            "colorbar": {
             "outlinewidth": 0,
             "ticks": ""
            },
            "type": "contourcarpet"
           }
          ],
          "heatmap": [
           {
            "colorbar": {
             "outlinewidth": 0,
             "ticks": ""
            },
            "colorscale": [
             [
              0,
              "#0d0887"
             ],
             [
              0.1111111111111111,
              "#46039f"
             ],
             [
              0.2222222222222222,
              "#7201a8"
             ],
             [
              0.3333333333333333,
              "#9c179e"
             ],
             [
              0.4444444444444444,
              "#bd3786"
             ],
             [
              0.5555555555555556,
              "#d8576b"
             ],
             [
              0.6666666666666666,
              "#ed7953"
             ],
             [
              0.7777777777777778,
              "#fb9f3a"
             ],
             [
              0.8888888888888888,
              "#fdca26"
             ],
             [
              1,
              "#f0f921"
             ]
            ],
            "type": "heatmap"
           }
          ],
          "heatmapgl": [
           {
            "colorbar": {
             "outlinewidth": 0,
             "ticks": ""
            },
            "colorscale": [
             [
              0,
              "#0d0887"
             ],
             [
              0.1111111111111111,
              "#46039f"
             ],
             [
              0.2222222222222222,
              "#7201a8"
             ],
             [
              0.3333333333333333,
              "#9c179e"
             ],
             [
              0.4444444444444444,
              "#bd3786"
             ],
             [
              0.5555555555555556,
              "#d8576b"
             ],
             [
              0.6666666666666666,
              "#ed7953"
             ],
             [
              0.7777777777777778,
              "#fb9f3a"
             ],
             [
              0.8888888888888888,
              "#fdca26"
             ],
             [
              1,
              "#f0f921"
             ]
            ],
            "type": "heatmapgl"
           }
          ],
          "histogram": [
           {
            "marker": {
             "colorbar": {
              "outlinewidth": 0,
              "ticks": ""
             }
            },
            "type": "histogram"
           }
          ],
          "histogram2d": [
           {
            "colorbar": {
             "outlinewidth": 0,
             "ticks": ""
            },
            "colorscale": [
             [
              0,
              "#0d0887"
             ],
             [
              0.1111111111111111,
              "#46039f"
             ],
             [
              0.2222222222222222,
              "#7201a8"
             ],
             [
              0.3333333333333333,
              "#9c179e"
             ],
             [
              0.4444444444444444,
              "#bd3786"
             ],
             [
              0.5555555555555556,
              "#d8576b"
             ],
             [
              0.6666666666666666,
              "#ed7953"
             ],
             [
              0.7777777777777778,
              "#fb9f3a"
             ],
             [
              0.8888888888888888,
              "#fdca26"
             ],
             [
              1,
              "#f0f921"
             ]
            ],
            "type": "histogram2d"
           }
          ],
          "histogram2dcontour": [
           {
            "colorbar": {
             "outlinewidth": 0,
             "ticks": ""
            },
            "colorscale": [
             [
              0,
              "#0d0887"
             ],
             [
              0.1111111111111111,
              "#46039f"
             ],
             [
              0.2222222222222222,
              "#7201a8"
             ],
             [
              0.3333333333333333,
              "#9c179e"
             ],
             [
              0.4444444444444444,
              "#bd3786"
             ],
             [
              0.5555555555555556,
              "#d8576b"
             ],
             [
              0.6666666666666666,
              "#ed7953"
             ],
             [
              0.7777777777777778,
              "#fb9f3a"
             ],
             [
              0.8888888888888888,
              "#fdca26"
             ],
             [
              1,
              "#f0f921"
             ]
            ],
            "type": "histogram2dcontour"
           }
          ],
          "mesh3d": [
           {
            "colorbar": {
             "outlinewidth": 0,
             "ticks": ""
            },
            "type": "mesh3d"
           }
          ],
          "parcoords": [
           {
            "line": {
             "colorbar": {
              "outlinewidth": 0,
              "ticks": ""
             }
            },
            "type": "parcoords"
           }
          ],
          "scatter": [
           {
            "marker": {
             "colorbar": {
              "outlinewidth": 0,
              "ticks": ""
             }
            },
            "type": "scatter"
           }
          ],
          "scatter3d": [
           {
            "line": {
             "colorbar": {
              "outlinewidth": 0,
              "ticks": ""
             }
            },
            "marker": {
             "colorbar": {
              "outlinewidth": 0,
              "ticks": ""
             }
            },
            "type": "scatter3d"
           }
          ],
          "scattercarpet": [
           {
            "marker": {
             "colorbar": {
              "outlinewidth": 0,
              "ticks": ""
             }
            },
            "type": "scattercarpet"
           }
          ],
          "scattergeo": [
           {
            "marker": {
             "colorbar": {
              "outlinewidth": 0,
              "ticks": ""
             }
            },
            "type": "scattergeo"
           }
          ],
          "scattergl": [
           {
            "marker": {
             "colorbar": {
              "outlinewidth": 0,
              "ticks": ""
             }
            },
            "type": "scattergl"
           }
          ],
          "scattermapbox": [
           {
            "marker": {
             "colorbar": {
              "outlinewidth": 0,
              "ticks": ""
             }
            },
            "type": "scattermapbox"
           }
          ],
          "scatterpolar": [
           {
            "marker": {
             "colorbar": {
              "outlinewidth": 0,
              "ticks": ""
             }
            },
            "type": "scatterpolar"
           }
          ],
          "scatterpolargl": [
           {
            "marker": {
             "colorbar": {
              "outlinewidth": 0,
              "ticks": ""
             }
            },
            "type": "scatterpolargl"
           }
          ],
          "scatterternary": [
           {
            "marker": {
             "colorbar": {
              "outlinewidth": 0,
              "ticks": ""
             }
            },
            "type": "scatterternary"
           }
          ],
          "surface": [
           {
            "colorbar": {
             "outlinewidth": 0,
             "ticks": ""
            },
            "colorscale": [
             [
              0,
              "#0d0887"
             ],
             [
              0.1111111111111111,
              "#46039f"
             ],
             [
              0.2222222222222222,
              "#7201a8"
             ],
             [
              0.3333333333333333,
              "#9c179e"
             ],
             [
              0.4444444444444444,
              "#bd3786"
             ],
             [
              0.5555555555555556,
              "#d8576b"
             ],
             [
              0.6666666666666666,
              "#ed7953"
             ],
             [
              0.7777777777777778,
              "#fb9f3a"
             ],
             [
              0.8888888888888888,
              "#fdca26"
             ],
             [
              1,
              "#f0f921"
             ]
            ],
            "type": "surface"
           }
          ],
          "table": [
           {
            "cells": {
             "fill": {
              "color": "#EBF0F8"
             },
             "line": {
              "color": "white"
             }
            },
            "header": {
             "fill": {
              "color": "#C8D4E3"
             },
             "line": {
              "color": "white"
             }
            },
            "type": "table"
           }
          ]
         },
         "layout": {
          "annotationdefaults": {
           "arrowcolor": "#2a3f5f",
           "arrowhead": 0,
           "arrowwidth": 1
          },
          "colorscale": {
           "diverging": [
            [
             0,
             "#8e0152"
            ],
            [
             0.1,
             "#c51b7d"
            ],
            [
             0.2,
             "#de77ae"
            ],
            [
             0.3,
             "#f1b6da"
            ],
            [
             0.4,
             "#fde0ef"
            ],
            [
             0.5,
             "#f7f7f7"
            ],
            [
             0.6,
             "#e6f5d0"
            ],
            [
             0.7,
             "#b8e186"
            ],
            [
             0.8,
             "#7fbc41"
            ],
            [
             0.9,
             "#4d9221"
            ],
            [
             1,
             "#276419"
            ]
           ],
           "sequential": [
            [
             0,
             "#0d0887"
            ],
            [
             0.1111111111111111,
             "#46039f"
            ],
            [
             0.2222222222222222,
             "#7201a8"
            ],
            [
             0.3333333333333333,
             "#9c179e"
            ],
            [
             0.4444444444444444,
             "#bd3786"
            ],
            [
             0.5555555555555556,
             "#d8576b"
            ],
            [
             0.6666666666666666,
             "#ed7953"
            ],
            [
             0.7777777777777778,
             "#fb9f3a"
            ],
            [
             0.8888888888888888,
             "#fdca26"
            ],
            [
             1,
             "#f0f921"
            ]
           ],
           "sequentialminus": [
            [
             0,
             "#0d0887"
            ],
            [
             0.1111111111111111,
             "#46039f"
            ],
            [
             0.2222222222222222,
             "#7201a8"
            ],
            [
             0.3333333333333333,
             "#9c179e"
            ],
            [
             0.4444444444444444,
             "#bd3786"
            ],
            [
             0.5555555555555556,
             "#d8576b"
            ],
            [
             0.6666666666666666,
             "#ed7953"
            ],
            [
             0.7777777777777778,
             "#fb9f3a"
            ],
            [
             0.8888888888888888,
             "#fdca26"
            ],
            [
             1,
             "#f0f921"
            ]
           ]
          },
          "colorway": [
           "#636efa",
           "#EF553B",
           "#00cc96",
           "#ab63fa",
           "#FFA15A",
           "#19d3f3",
           "#FF6692",
           "#B6E880",
           "#FF97FF",
           "#FECB52"
          ],
          "font": {
           "color": "#2a3f5f"
          },
          "geo": {
           "bgcolor": "white",
           "lakecolor": "white",
           "landcolor": "#E5ECF6",
           "showlakes": true,
           "showland": true,
           "subunitcolor": "white"
          },
          "hoverlabel": {
           "align": "left"
          },
          "hovermode": "closest",
          "mapbox": {
           "style": "light"
          },
          "paper_bgcolor": "white",
          "plot_bgcolor": "#E5ECF6",
          "polar": {
           "angularaxis": {
            "gridcolor": "white",
            "linecolor": "white",
            "ticks": ""
           },
           "bgcolor": "#E5ECF6",
           "radialaxis": {
            "gridcolor": "white",
            "linecolor": "white",
            "ticks": ""
           }
          },
          "scene": {
           "xaxis": {
            "backgroundcolor": "#E5ECF6",
            "gridcolor": "white",
            "gridwidth": 2,
            "linecolor": "white",
            "showbackground": true,
            "ticks": "",
            "zerolinecolor": "white"
           },
           "yaxis": {
            "backgroundcolor": "#E5ECF6",
            "gridcolor": "white",
            "gridwidth": 2,
            "linecolor": "white",
            "showbackground": true,
            "ticks": "",
            "zerolinecolor": "white"
           },
           "zaxis": {
            "backgroundcolor": "#E5ECF6",
            "gridcolor": "white",
            "gridwidth": 2,
            "linecolor": "white",
            "showbackground": true,
            "ticks": "",
            "zerolinecolor": "white"
           }
          },
          "shapedefaults": {
           "line": {
            "color": "#2a3f5f"
           }
          },
          "ternary": {
           "aaxis": {
            "gridcolor": "white",
            "linecolor": "white",
            "ticks": ""
           },
           "baxis": {
            "gridcolor": "white",
            "linecolor": "white",
            "ticks": ""
           },
           "bgcolor": "#E5ECF6",
           "caxis": {
            "gridcolor": "white",
            "linecolor": "white",
            "ticks": ""
           }
          },
          "title": {
           "x": 0.05
          },
          "xaxis": {
           "automargin": true,
           "gridcolor": "white",
           "linecolor": "white",
           "ticks": "",
           "zerolinecolor": "white",
           "zerolinewidth": 2
          },
          "yaxis": {
           "automargin": true,
           "gridcolor": "white",
           "linecolor": "white",
           "ticks": "",
           "zerolinecolor": "white",
           "zerolinewidth": 2
          }
         }
        },
        "title": {
         "text": "Saving Account Distribuition"
        }
       }
      },
      "text/html": [
       "<div>\n",
       "        \n",
       "        \n",
       "            <div id=\"19352a5a-4da8-4f24-b112-c3a7a36b5449\" class=\"plotly-graph-div\" style=\"height:525px; width:100%;\"></div>\n",
       "            <script type=\"text/javascript\">\n",
       "                require([\"plotly\"], function(Plotly) {\n",
       "                    window.PLOTLYENV=window.PLOTLYENV || {};\n",
       "                    \n",
       "                if (document.getElementById(\"19352a5a-4da8-4f24-b112-c3a7a36b5449\")) {\n",
       "                    Plotly.newPlot(\n",
       "                        '19352a5a-4da8-4f24-b112-c3a7a36b5449',\n",
       "                        [{\"name\": \"Good credit Distribuition\", \"type\": \"bar\", \"x\": [\"little\", \"moderate\", \"quite rich\", \"rich\"], \"y\": [386, 69, 52, 42]}, {\"name\": \"Bad Credit Distribuition\", \"type\": \"bar\", \"x\": [\"little\", \"moderate\", \"quite rich\", \"rich\"], \"y\": [217, 34, 11, 6]}],\n",
       "                        {\"template\": {\"data\": {\"bar\": [{\"error_x\": {\"color\": \"#2a3f5f\"}, \"error_y\": {\"color\": \"#2a3f5f\"}, \"marker\": {\"line\": {\"color\": \"#E5ECF6\", \"width\": 0.5}}, \"type\": \"bar\"}], \"barpolar\": [{\"marker\": {\"line\": {\"color\": \"#E5ECF6\", \"width\": 0.5}}, \"type\": \"barpolar\"}], \"carpet\": [{\"aaxis\": {\"endlinecolor\": \"#2a3f5f\", \"gridcolor\": \"white\", \"linecolor\": \"white\", \"minorgridcolor\": \"white\", \"startlinecolor\": \"#2a3f5f\"}, \"baxis\": {\"endlinecolor\": \"#2a3f5f\", \"gridcolor\": \"white\", \"linecolor\": \"white\", \"minorgridcolor\": \"white\", \"startlinecolor\": \"#2a3f5f\"}, \"type\": \"carpet\"}], \"choropleth\": [{\"colorbar\": {\"outlinewidth\": 0, \"ticks\": \"\"}, \"type\": \"choropleth\"}], \"contour\": [{\"colorbar\": {\"outlinewidth\": 0, \"ticks\": \"\"}, \"colorscale\": [[0.0, \"#0d0887\"], [0.1111111111111111, \"#46039f\"], [0.2222222222222222, \"#7201a8\"], [0.3333333333333333, \"#9c179e\"], [0.4444444444444444, \"#bd3786\"], [0.5555555555555556, \"#d8576b\"], [0.6666666666666666, \"#ed7953\"], [0.7777777777777778, \"#fb9f3a\"], [0.8888888888888888, \"#fdca26\"], [1.0, \"#f0f921\"]], \"type\": \"contour\"}], \"contourcarpet\": [{\"colorbar\": {\"outlinewidth\": 0, \"ticks\": \"\"}, \"type\": \"contourcarpet\"}], \"heatmap\": [{\"colorbar\": {\"outlinewidth\": 0, \"ticks\": \"\"}, \"colorscale\": [[0.0, \"#0d0887\"], [0.1111111111111111, \"#46039f\"], [0.2222222222222222, \"#7201a8\"], [0.3333333333333333, \"#9c179e\"], [0.4444444444444444, \"#bd3786\"], [0.5555555555555556, \"#d8576b\"], [0.6666666666666666, \"#ed7953\"], [0.7777777777777778, \"#fb9f3a\"], [0.8888888888888888, \"#fdca26\"], [1.0, \"#f0f921\"]], \"type\": \"heatmap\"}], \"heatmapgl\": [{\"colorbar\": {\"outlinewidth\": 0, \"ticks\": \"\"}, \"colorscale\": [[0.0, \"#0d0887\"], [0.1111111111111111, \"#46039f\"], [0.2222222222222222, \"#7201a8\"], [0.3333333333333333, \"#9c179e\"], [0.4444444444444444, \"#bd3786\"], [0.5555555555555556, \"#d8576b\"], [0.6666666666666666, \"#ed7953\"], [0.7777777777777778, \"#fb9f3a\"], [0.8888888888888888, \"#fdca26\"], [1.0, \"#f0f921\"]], \"type\": \"heatmapgl\"}], \"histogram\": [{\"marker\": {\"colorbar\": {\"outlinewidth\": 0, \"ticks\": \"\"}}, \"type\": \"histogram\"}], \"histogram2d\": [{\"colorbar\": {\"outlinewidth\": 0, \"ticks\": \"\"}, \"colorscale\": [[0.0, \"#0d0887\"], [0.1111111111111111, \"#46039f\"], [0.2222222222222222, \"#7201a8\"], [0.3333333333333333, \"#9c179e\"], [0.4444444444444444, \"#bd3786\"], [0.5555555555555556, \"#d8576b\"], [0.6666666666666666, \"#ed7953\"], [0.7777777777777778, \"#fb9f3a\"], [0.8888888888888888, \"#fdca26\"], [1.0, \"#f0f921\"]], \"type\": \"histogram2d\"}], \"histogram2dcontour\": [{\"colorbar\": {\"outlinewidth\": 0, \"ticks\": \"\"}, \"colorscale\": [[0.0, \"#0d0887\"], [0.1111111111111111, \"#46039f\"], [0.2222222222222222, \"#7201a8\"], [0.3333333333333333, \"#9c179e\"], [0.4444444444444444, \"#bd3786\"], [0.5555555555555556, \"#d8576b\"], [0.6666666666666666, \"#ed7953\"], [0.7777777777777778, \"#fb9f3a\"], [0.8888888888888888, \"#fdca26\"], [1.0, \"#f0f921\"]], \"type\": \"histogram2dcontour\"}], \"mesh3d\": [{\"colorbar\": {\"outlinewidth\": 0, \"ticks\": \"\"}, \"type\": \"mesh3d\"}], \"parcoords\": [{\"line\": {\"colorbar\": {\"outlinewidth\": 0, \"ticks\": \"\"}}, \"type\": \"parcoords\"}], \"scatter\": [{\"marker\": {\"colorbar\": {\"outlinewidth\": 0, \"ticks\": \"\"}}, \"type\": \"scatter\"}], \"scatter3d\": [{\"line\": {\"colorbar\": {\"outlinewidth\": 0, \"ticks\": \"\"}}, \"marker\": {\"colorbar\": {\"outlinewidth\": 0, \"ticks\": \"\"}}, \"type\": \"scatter3d\"}], \"scattercarpet\": [{\"marker\": {\"colorbar\": {\"outlinewidth\": 0, \"ticks\": \"\"}}, \"type\": \"scattercarpet\"}], \"scattergeo\": [{\"marker\": {\"colorbar\": {\"outlinewidth\": 0, \"ticks\": \"\"}}, \"type\": \"scattergeo\"}], \"scattergl\": [{\"marker\": {\"colorbar\": {\"outlinewidth\": 0, \"ticks\": \"\"}}, \"type\": \"scattergl\"}], \"scattermapbox\": [{\"marker\": {\"colorbar\": {\"outlinewidth\": 0, \"ticks\": \"\"}}, \"type\": \"scattermapbox\"}], \"scatterpolar\": [{\"marker\": {\"colorbar\": {\"outlinewidth\": 0, \"ticks\": \"\"}}, \"type\": \"scatterpolar\"}], \"scatterpolargl\": [{\"marker\": {\"colorbar\": {\"outlinewidth\": 0, \"ticks\": \"\"}}, \"type\": \"scatterpolargl\"}], \"scatterternary\": [{\"marker\": {\"colorbar\": {\"outlinewidth\": 0, \"ticks\": \"\"}}, \"type\": \"scatterternary\"}], \"surface\": [{\"colorbar\": {\"outlinewidth\": 0, \"ticks\": \"\"}, \"colorscale\": [[0.0, \"#0d0887\"], [0.1111111111111111, \"#46039f\"], [0.2222222222222222, \"#7201a8\"], [0.3333333333333333, \"#9c179e\"], [0.4444444444444444, \"#bd3786\"], [0.5555555555555556, \"#d8576b\"], [0.6666666666666666, \"#ed7953\"], [0.7777777777777778, \"#fb9f3a\"], [0.8888888888888888, \"#fdca26\"], [1.0, \"#f0f921\"]], \"type\": \"surface\"}], \"table\": [{\"cells\": {\"fill\": {\"color\": \"#EBF0F8\"}, \"line\": {\"color\": \"white\"}}, \"header\": {\"fill\": {\"color\": \"#C8D4E3\"}, \"line\": {\"color\": \"white\"}}, \"type\": \"table\"}]}, \"layout\": {\"annotationdefaults\": {\"arrowcolor\": \"#2a3f5f\", \"arrowhead\": 0, \"arrowwidth\": 1}, \"colorscale\": {\"diverging\": [[0, \"#8e0152\"], [0.1, \"#c51b7d\"], [0.2, \"#de77ae\"], [0.3, \"#f1b6da\"], [0.4, \"#fde0ef\"], [0.5, \"#f7f7f7\"], [0.6, \"#e6f5d0\"], [0.7, \"#b8e186\"], [0.8, \"#7fbc41\"], [0.9, \"#4d9221\"], [1, \"#276419\"]], \"sequential\": [[0.0, \"#0d0887\"], [0.1111111111111111, \"#46039f\"], [0.2222222222222222, \"#7201a8\"], [0.3333333333333333, \"#9c179e\"], [0.4444444444444444, \"#bd3786\"], [0.5555555555555556, \"#d8576b\"], [0.6666666666666666, \"#ed7953\"], [0.7777777777777778, \"#fb9f3a\"], [0.8888888888888888, \"#fdca26\"], [1.0, \"#f0f921\"]], \"sequentialminus\": [[0.0, \"#0d0887\"], [0.1111111111111111, \"#46039f\"], [0.2222222222222222, \"#7201a8\"], [0.3333333333333333, \"#9c179e\"], [0.4444444444444444, \"#bd3786\"], [0.5555555555555556, \"#d8576b\"], [0.6666666666666666, \"#ed7953\"], [0.7777777777777778, \"#fb9f3a\"], [0.8888888888888888, \"#fdca26\"], [1.0, \"#f0f921\"]]}, \"colorway\": [\"#636efa\", \"#EF553B\", \"#00cc96\", \"#ab63fa\", \"#FFA15A\", \"#19d3f3\", \"#FF6692\", \"#B6E880\", \"#FF97FF\", \"#FECB52\"], \"font\": {\"color\": \"#2a3f5f\"}, \"geo\": {\"bgcolor\": \"white\", \"lakecolor\": \"white\", \"landcolor\": \"#E5ECF6\", \"showlakes\": true, \"showland\": true, \"subunitcolor\": \"white\"}, \"hoverlabel\": {\"align\": \"left\"}, \"hovermode\": \"closest\", \"mapbox\": {\"style\": \"light\"}, \"paper_bgcolor\": \"white\", \"plot_bgcolor\": \"#E5ECF6\", \"polar\": {\"angularaxis\": {\"gridcolor\": \"white\", \"linecolor\": \"white\", \"ticks\": \"\"}, \"bgcolor\": \"#E5ECF6\", \"radialaxis\": {\"gridcolor\": \"white\", \"linecolor\": \"white\", \"ticks\": \"\"}}, \"scene\": {\"xaxis\": {\"backgroundcolor\": \"#E5ECF6\", \"gridcolor\": \"white\", \"gridwidth\": 2, \"linecolor\": \"white\", \"showbackground\": true, \"ticks\": \"\", \"zerolinecolor\": \"white\"}, \"yaxis\": {\"backgroundcolor\": \"#E5ECF6\", \"gridcolor\": \"white\", \"gridwidth\": 2, \"linecolor\": \"white\", \"showbackground\": true, \"ticks\": \"\", \"zerolinecolor\": \"white\"}, \"zaxis\": {\"backgroundcolor\": \"#E5ECF6\", \"gridcolor\": \"white\", \"gridwidth\": 2, \"linecolor\": \"white\", \"showbackground\": true, \"ticks\": \"\", \"zerolinecolor\": \"white\"}}, \"shapedefaults\": {\"line\": {\"color\": \"#2a3f5f\"}}, \"ternary\": {\"aaxis\": {\"gridcolor\": \"white\", \"linecolor\": \"white\", \"ticks\": \"\"}, \"baxis\": {\"gridcolor\": \"white\", \"linecolor\": \"white\", \"ticks\": \"\"}, \"bgcolor\": \"#E5ECF6\", \"caxis\": {\"gridcolor\": \"white\", \"linecolor\": \"white\", \"ticks\": \"\"}}, \"title\": {\"x\": 0.05}, \"xaxis\": {\"automargin\": true, \"gridcolor\": \"white\", \"linecolor\": \"white\", \"ticks\": \"\", \"zerolinecolor\": \"white\", \"zerolinewidth\": 2}, \"yaxis\": {\"automargin\": true, \"gridcolor\": \"white\", \"linecolor\": \"white\", \"ticks\": \"\", \"zerolinecolor\": \"white\", \"zerolinewidth\": 2}}}, \"title\": {\"text\": \"Saving Account Distribuition\"}},\n",
       "                        {\"responsive\": true}\n",
       "                    ).then(function(){\n",
       "                            \n",
       "var gd = document.getElementById('19352a5a-4da8-4f24-b112-c3a7a36b5449');\n",
       "var x = new MutationObserver(function (mutations, observer) {{\n",
       "        var display = window.getComputedStyle(gd).display;\n",
       "        if (!display || display === 'none') {{\n",
       "            console.log([gd, 'removed!']);\n",
       "            Plotly.purge(gd);\n",
       "            observer.disconnect();\n",
       "        }}\n",
       "}});\n",
       "\n",
       "// Listen for the removal of the full notebook cells\n",
       "var notebookContainer = gd.closest('#notebook-container');\n",
       "if (notebookContainer) {{\n",
       "    x.observe(notebookContainer, {childList: true});\n",
       "}}\n",
       "\n",
       "// Listen for the clearing of the current output cell\n",
       "var outputEl = gd.closest('.output');\n",
       "if (outputEl) {{\n",
       "    x.observe(outputEl, {childList: true});\n",
       "}}\n",
       "\n",
       "                        })\n",
       "                };\n",
       "                });\n",
       "            </script>\n",
       "        </div>"
      ]
     },
     "metadata": {},
     "output_type": "display_data"
    }
   ],
   "source": [
    "trace0 = go.Bar(\n",
    "    x = df[df[\"Risk\"]== 'good'][\"Saving accounts\"].value_counts().index.values,\n",
    "    y = df[df[\"Risk\"]== 'good'][\"Saving accounts\"].value_counts().values,\n",
    "    name='Good credit Distribuition'\n",
    ")\n",
    "\n",
    "trace1 = go.Bar(\n",
    "    x = df[df[\"Risk\"]== 'bad'][\"Saving accounts\"].value_counts().index.values,\n",
    "    y = df[df[\"Risk\"]== 'bad'][\"Saving accounts\"].value_counts().values,\n",
    "    name=\"Bad Credit Distribuition\"\n",
    ")\n",
    "\n",
    "data = [trace0, trace1]\n",
    "\n",
    "layout = go.Layout(\n",
    "    title='Saving Account Distribuition'\n",
    ")\n",
    "\n",
    "fig = go.Figure(data=data, layout=layout)\n",
    "\n",
    "py.iplot(fig, filename='grouped-bar')"
   ]
  },
  {
   "cell_type": "markdown",
   "metadata": {},
   "source": [
    "There is no correlation in between saving accounts of customers and their risk."
   ]
  },
  {
   "cell_type": "markdown",
   "metadata": {},
   "source": [
    "**6. Is there any correlation between checking account and risk?**"
   ]
  },
  {
   "cell_type": "code",
   "execution_count": 19,
   "metadata": {},
   "outputs": [
    {
     "data": {
      "application/vnd.plotly.v1+json": {
       "config": {
        "linkText": "Export to plot.ly",
        "plotlyServerURL": "https://plot.ly",
        "showLink": false
       },
       "data": [
        {
         "name": "Good credit Distribuition",
         "type": "bar",
         "x": [
          "moderate",
          "little",
          "rich"
         ],
         "y": [
          164,
          139,
          49
         ]
        },
        {
         "name": "Bad Credit Distribuition",
         "type": "bar",
         "x": [
          "little",
          "moderate",
          "rich"
         ],
         "y": [
          135,
          105,
          14
         ]
        }
       ],
       "layout": {
        "template": {
         "data": {
          "bar": [
           {
            "error_x": {
             "color": "#2a3f5f"
            },
            "error_y": {
             "color": "#2a3f5f"
            },
            "marker": {
             "line": {
              "color": "#E5ECF6",
              "width": 0.5
             }
            },
            "type": "bar"
           }
          ],
          "barpolar": [
           {
            "marker": {
             "line": {
              "color": "#E5ECF6",
              "width": 0.5
             }
            },
            "type": "barpolar"
           }
          ],
          "carpet": [
           {
            "aaxis": {
             "endlinecolor": "#2a3f5f",
             "gridcolor": "white",
             "linecolor": "white",
             "minorgridcolor": "white",
             "startlinecolor": "#2a3f5f"
            },
            "baxis": {
             "endlinecolor": "#2a3f5f",
             "gridcolor": "white",
             "linecolor": "white",
             "minorgridcolor": "white",
             "startlinecolor": "#2a3f5f"
            },
            "type": "carpet"
           }
          ],
          "choropleth": [
           {
            "colorbar": {
             "outlinewidth": 0,
             "ticks": ""
            },
            "type": "choropleth"
           }
          ],
          "contour": [
           {
            "colorbar": {
             "outlinewidth": 0,
             "ticks": ""
            },
            "colorscale": [
             [
              0,
              "#0d0887"
             ],
             [
              0.1111111111111111,
              "#46039f"
             ],
             [
              0.2222222222222222,
              "#7201a8"
             ],
             [
              0.3333333333333333,
              "#9c179e"
             ],
             [
              0.4444444444444444,
              "#bd3786"
             ],
             [
              0.5555555555555556,
              "#d8576b"
             ],
             [
              0.6666666666666666,
              "#ed7953"
             ],
             [
              0.7777777777777778,
              "#fb9f3a"
             ],
             [
              0.8888888888888888,
              "#fdca26"
             ],
             [
              1,
              "#f0f921"
             ]
            ],
            "type": "contour"
           }
          ],
          "contourcarpet": [
           {
            "colorbar": {
             "outlinewidth": 0,
             "ticks": ""
            },
            "type": "contourcarpet"
           }
          ],
          "heatmap": [
           {
            "colorbar": {
             "outlinewidth": 0,
             "ticks": ""
            },
            "colorscale": [
             [
              0,
              "#0d0887"
             ],
             [
              0.1111111111111111,
              "#46039f"
             ],
             [
              0.2222222222222222,
              "#7201a8"
             ],
             [
              0.3333333333333333,
              "#9c179e"
             ],
             [
              0.4444444444444444,
              "#bd3786"
             ],
             [
              0.5555555555555556,
              "#d8576b"
             ],
             [
              0.6666666666666666,
              "#ed7953"
             ],
             [
              0.7777777777777778,
              "#fb9f3a"
             ],
             [
              0.8888888888888888,
              "#fdca26"
             ],
             [
              1,
              "#f0f921"
             ]
            ],
            "type": "heatmap"
           }
          ],
          "heatmapgl": [
           {
            "colorbar": {
             "outlinewidth": 0,
             "ticks": ""
            },
            "colorscale": [
             [
              0,
              "#0d0887"
             ],
             [
              0.1111111111111111,
              "#46039f"
             ],
             [
              0.2222222222222222,
              "#7201a8"
             ],
             [
              0.3333333333333333,
              "#9c179e"
             ],
             [
              0.4444444444444444,
              "#bd3786"
             ],
             [
              0.5555555555555556,
              "#d8576b"
             ],
             [
              0.6666666666666666,
              "#ed7953"
             ],
             [
              0.7777777777777778,
              "#fb9f3a"
             ],
             [
              0.8888888888888888,
              "#fdca26"
             ],
             [
              1,
              "#f0f921"
             ]
            ],
            "type": "heatmapgl"
           }
          ],
          "histogram": [
           {
            "marker": {
             "colorbar": {
              "outlinewidth": 0,
              "ticks": ""
             }
            },
            "type": "histogram"
           }
          ],
          "histogram2d": [
           {
            "colorbar": {
             "outlinewidth": 0,
             "ticks": ""
            },
            "colorscale": [
             [
              0,
              "#0d0887"
             ],
             [
              0.1111111111111111,
              "#46039f"
             ],
             [
              0.2222222222222222,
              "#7201a8"
             ],
             [
              0.3333333333333333,
              "#9c179e"
             ],
             [
              0.4444444444444444,
              "#bd3786"
             ],
             [
              0.5555555555555556,
              "#d8576b"
             ],
             [
              0.6666666666666666,
              "#ed7953"
             ],
             [
              0.7777777777777778,
              "#fb9f3a"
             ],
             [
              0.8888888888888888,
              "#fdca26"
             ],
             [
              1,
              "#f0f921"
             ]
            ],
            "type": "histogram2d"
           }
          ],
          "histogram2dcontour": [
           {
            "colorbar": {
             "outlinewidth": 0,
             "ticks": ""
            },
            "colorscale": [
             [
              0,
              "#0d0887"
             ],
             [
              0.1111111111111111,
              "#46039f"
             ],
             [
              0.2222222222222222,
              "#7201a8"
             ],
             [
              0.3333333333333333,
              "#9c179e"
             ],
             [
              0.4444444444444444,
              "#bd3786"
             ],
             [
              0.5555555555555556,
              "#d8576b"
             ],
             [
              0.6666666666666666,
              "#ed7953"
             ],
             [
              0.7777777777777778,
              "#fb9f3a"
             ],
             [
              0.8888888888888888,
              "#fdca26"
             ],
             [
              1,
              "#f0f921"
             ]
            ],
            "type": "histogram2dcontour"
           }
          ],
          "mesh3d": [
           {
            "colorbar": {
             "outlinewidth": 0,
             "ticks": ""
            },
            "type": "mesh3d"
           }
          ],
          "parcoords": [
           {
            "line": {
             "colorbar": {
              "outlinewidth": 0,
              "ticks": ""
             }
            },
            "type": "parcoords"
           }
          ],
          "scatter": [
           {
            "marker": {
             "colorbar": {
              "outlinewidth": 0,
              "ticks": ""
             }
            },
            "type": "scatter"
           }
          ],
          "scatter3d": [
           {
            "line": {
             "colorbar": {
              "outlinewidth": 0,
              "ticks": ""
             }
            },
            "marker": {
             "colorbar": {
              "outlinewidth": 0,
              "ticks": ""
             }
            },
            "type": "scatter3d"
           }
          ],
          "scattercarpet": [
           {
            "marker": {
             "colorbar": {
              "outlinewidth": 0,
              "ticks": ""
             }
            },
            "type": "scattercarpet"
           }
          ],
          "scattergeo": [
           {
            "marker": {
             "colorbar": {
              "outlinewidth": 0,
              "ticks": ""
             }
            },
            "type": "scattergeo"
           }
          ],
          "scattergl": [
           {
            "marker": {
             "colorbar": {
              "outlinewidth": 0,
              "ticks": ""
             }
            },
            "type": "scattergl"
           }
          ],
          "scattermapbox": [
           {
            "marker": {
             "colorbar": {
              "outlinewidth": 0,
              "ticks": ""
             }
            },
            "type": "scattermapbox"
           }
          ],
          "scatterpolar": [
           {
            "marker": {
             "colorbar": {
              "outlinewidth": 0,
              "ticks": ""
             }
            },
            "type": "scatterpolar"
           }
          ],
          "scatterpolargl": [
           {
            "marker": {
             "colorbar": {
              "outlinewidth": 0,
              "ticks": ""
             }
            },
            "type": "scatterpolargl"
           }
          ],
          "scatterternary": [
           {
            "marker": {
             "colorbar": {
              "outlinewidth": 0,
              "ticks": ""
             }
            },
            "type": "scatterternary"
           }
          ],
          "surface": [
           {
            "colorbar": {
             "outlinewidth": 0,
             "ticks": ""
            },
            "colorscale": [
             [
              0,
              "#0d0887"
             ],
             [
              0.1111111111111111,
              "#46039f"
             ],
             [
              0.2222222222222222,
              "#7201a8"
             ],
             [
              0.3333333333333333,
              "#9c179e"
             ],
             [
              0.4444444444444444,
              "#bd3786"
             ],
             [
              0.5555555555555556,
              "#d8576b"
             ],
             [
              0.6666666666666666,
              "#ed7953"
             ],
             [
              0.7777777777777778,
              "#fb9f3a"
             ],
             [
              0.8888888888888888,
              "#fdca26"
             ],
             [
              1,
              "#f0f921"
             ]
            ],
            "type": "surface"
           }
          ],
          "table": [
           {
            "cells": {
             "fill": {
              "color": "#EBF0F8"
             },
             "line": {
              "color": "white"
             }
            },
            "header": {
             "fill": {
              "color": "#C8D4E3"
             },
             "line": {
              "color": "white"
             }
            },
            "type": "table"
           }
          ]
         },
         "layout": {
          "annotationdefaults": {
           "arrowcolor": "#2a3f5f",
           "arrowhead": 0,
           "arrowwidth": 1
          },
          "colorscale": {
           "diverging": [
            [
             0,
             "#8e0152"
            ],
            [
             0.1,
             "#c51b7d"
            ],
            [
             0.2,
             "#de77ae"
            ],
            [
             0.3,
             "#f1b6da"
            ],
            [
             0.4,
             "#fde0ef"
            ],
            [
             0.5,
             "#f7f7f7"
            ],
            [
             0.6,
             "#e6f5d0"
            ],
            [
             0.7,
             "#b8e186"
            ],
            [
             0.8,
             "#7fbc41"
            ],
            [
             0.9,
             "#4d9221"
            ],
            [
             1,
             "#276419"
            ]
           ],
           "sequential": [
            [
             0,
             "#0d0887"
            ],
            [
             0.1111111111111111,
             "#46039f"
            ],
            [
             0.2222222222222222,
             "#7201a8"
            ],
            [
             0.3333333333333333,
             "#9c179e"
            ],
            [
             0.4444444444444444,
             "#bd3786"
            ],
            [
             0.5555555555555556,
             "#d8576b"
            ],
            [
             0.6666666666666666,
             "#ed7953"
            ],
            [
             0.7777777777777778,
             "#fb9f3a"
            ],
            [
             0.8888888888888888,
             "#fdca26"
            ],
            [
             1,
             "#f0f921"
            ]
           ],
           "sequentialminus": [
            [
             0,
             "#0d0887"
            ],
            [
             0.1111111111111111,
             "#46039f"
            ],
            [
             0.2222222222222222,
             "#7201a8"
            ],
            [
             0.3333333333333333,
             "#9c179e"
            ],
            [
             0.4444444444444444,
             "#bd3786"
            ],
            [
             0.5555555555555556,
             "#d8576b"
            ],
            [
             0.6666666666666666,
             "#ed7953"
            ],
            [
             0.7777777777777778,
             "#fb9f3a"
            ],
            [
             0.8888888888888888,
             "#fdca26"
            ],
            [
             1,
             "#f0f921"
            ]
           ]
          },
          "colorway": [
           "#636efa",
           "#EF553B",
           "#00cc96",
           "#ab63fa",
           "#FFA15A",
           "#19d3f3",
           "#FF6692",
           "#B6E880",
           "#FF97FF",
           "#FECB52"
          ],
          "font": {
           "color": "#2a3f5f"
          },
          "geo": {
           "bgcolor": "white",
           "lakecolor": "white",
           "landcolor": "#E5ECF6",
           "showlakes": true,
           "showland": true,
           "subunitcolor": "white"
          },
          "hoverlabel": {
           "align": "left"
          },
          "hovermode": "closest",
          "mapbox": {
           "style": "light"
          },
          "paper_bgcolor": "white",
          "plot_bgcolor": "#E5ECF6",
          "polar": {
           "angularaxis": {
            "gridcolor": "white",
            "linecolor": "white",
            "ticks": ""
           },
           "bgcolor": "#E5ECF6",
           "radialaxis": {
            "gridcolor": "white",
            "linecolor": "white",
            "ticks": ""
           }
          },
          "scene": {
           "xaxis": {
            "backgroundcolor": "#E5ECF6",
            "gridcolor": "white",
            "gridwidth": 2,
            "linecolor": "white",
            "showbackground": true,
            "ticks": "",
            "zerolinecolor": "white"
           },
           "yaxis": {
            "backgroundcolor": "#E5ECF6",
            "gridcolor": "white",
            "gridwidth": 2,
            "linecolor": "white",
            "showbackground": true,
            "ticks": "",
            "zerolinecolor": "white"
           },
           "zaxis": {
            "backgroundcolor": "#E5ECF6",
            "gridcolor": "white",
            "gridwidth": 2,
            "linecolor": "white",
            "showbackground": true,
            "ticks": "",
            "zerolinecolor": "white"
           }
          },
          "shapedefaults": {
           "line": {
            "color": "#2a3f5f"
           }
          },
          "ternary": {
           "aaxis": {
            "gridcolor": "white",
            "linecolor": "white",
            "ticks": ""
           },
           "baxis": {
            "gridcolor": "white",
            "linecolor": "white",
            "ticks": ""
           },
           "bgcolor": "#E5ECF6",
           "caxis": {
            "gridcolor": "white",
            "linecolor": "white",
            "ticks": ""
           }
          },
          "title": {
           "x": 0.05
          },
          "xaxis": {
           "automargin": true,
           "gridcolor": "white",
           "linecolor": "white",
           "ticks": "",
           "zerolinecolor": "white",
           "zerolinewidth": 2
          },
          "yaxis": {
           "automargin": true,
           "gridcolor": "white",
           "linecolor": "white",
           "ticks": "",
           "zerolinecolor": "white",
           "zerolinewidth": 2
          }
         }
        },
        "title": {
         "text": "Checking Account Distribuition"
        }
       }
      },
      "text/html": [
       "<div>\n",
       "        \n",
       "        \n",
       "            <div id=\"2371e73d-d512-41c9-9034-0d18a046a651\" class=\"plotly-graph-div\" style=\"height:525px; width:100%;\"></div>\n",
       "            <script type=\"text/javascript\">\n",
       "                require([\"plotly\"], function(Plotly) {\n",
       "                    window.PLOTLYENV=window.PLOTLYENV || {};\n",
       "                    \n",
       "                if (document.getElementById(\"2371e73d-d512-41c9-9034-0d18a046a651\")) {\n",
       "                    Plotly.newPlot(\n",
       "                        '2371e73d-d512-41c9-9034-0d18a046a651',\n",
       "                        [{\"name\": \"Good credit Distribuition\", \"type\": \"bar\", \"x\": [\"moderate\", \"little\", \"rich\"], \"y\": [164, 139, 49]}, {\"name\": \"Bad Credit Distribuition\", \"type\": \"bar\", \"x\": [\"little\", \"moderate\", \"rich\"], \"y\": [135, 105, 14]}],\n",
       "                        {\"template\": {\"data\": {\"bar\": [{\"error_x\": {\"color\": \"#2a3f5f\"}, \"error_y\": {\"color\": \"#2a3f5f\"}, \"marker\": {\"line\": {\"color\": \"#E5ECF6\", \"width\": 0.5}}, \"type\": \"bar\"}], \"barpolar\": [{\"marker\": {\"line\": {\"color\": \"#E5ECF6\", \"width\": 0.5}}, \"type\": \"barpolar\"}], \"carpet\": [{\"aaxis\": {\"endlinecolor\": \"#2a3f5f\", \"gridcolor\": \"white\", \"linecolor\": \"white\", \"minorgridcolor\": \"white\", \"startlinecolor\": \"#2a3f5f\"}, \"baxis\": {\"endlinecolor\": \"#2a3f5f\", \"gridcolor\": \"white\", \"linecolor\": \"white\", \"minorgridcolor\": \"white\", \"startlinecolor\": \"#2a3f5f\"}, \"type\": \"carpet\"}], \"choropleth\": [{\"colorbar\": {\"outlinewidth\": 0, \"ticks\": \"\"}, \"type\": \"choropleth\"}], \"contour\": [{\"colorbar\": {\"outlinewidth\": 0, \"ticks\": \"\"}, \"colorscale\": [[0.0, \"#0d0887\"], [0.1111111111111111, \"#46039f\"], [0.2222222222222222, \"#7201a8\"], [0.3333333333333333, \"#9c179e\"], [0.4444444444444444, \"#bd3786\"], [0.5555555555555556, \"#d8576b\"], [0.6666666666666666, \"#ed7953\"], [0.7777777777777778, \"#fb9f3a\"], [0.8888888888888888, \"#fdca26\"], [1.0, \"#f0f921\"]], \"type\": \"contour\"}], \"contourcarpet\": [{\"colorbar\": {\"outlinewidth\": 0, \"ticks\": \"\"}, \"type\": \"contourcarpet\"}], \"heatmap\": [{\"colorbar\": {\"outlinewidth\": 0, \"ticks\": \"\"}, \"colorscale\": [[0.0, \"#0d0887\"], [0.1111111111111111, \"#46039f\"], [0.2222222222222222, \"#7201a8\"], [0.3333333333333333, \"#9c179e\"], [0.4444444444444444, \"#bd3786\"], [0.5555555555555556, \"#d8576b\"], [0.6666666666666666, \"#ed7953\"], [0.7777777777777778, \"#fb9f3a\"], [0.8888888888888888, \"#fdca26\"], [1.0, \"#f0f921\"]], \"type\": \"heatmap\"}], \"heatmapgl\": [{\"colorbar\": {\"outlinewidth\": 0, \"ticks\": \"\"}, \"colorscale\": [[0.0, \"#0d0887\"], [0.1111111111111111, \"#46039f\"], [0.2222222222222222, \"#7201a8\"], [0.3333333333333333, \"#9c179e\"], [0.4444444444444444, \"#bd3786\"], [0.5555555555555556, \"#d8576b\"], [0.6666666666666666, \"#ed7953\"], [0.7777777777777778, \"#fb9f3a\"], [0.8888888888888888, \"#fdca26\"], [1.0, \"#f0f921\"]], \"type\": \"heatmapgl\"}], \"histogram\": [{\"marker\": {\"colorbar\": {\"outlinewidth\": 0, \"ticks\": \"\"}}, \"type\": \"histogram\"}], \"histogram2d\": [{\"colorbar\": {\"outlinewidth\": 0, \"ticks\": \"\"}, \"colorscale\": [[0.0, \"#0d0887\"], [0.1111111111111111, \"#46039f\"], [0.2222222222222222, \"#7201a8\"], [0.3333333333333333, \"#9c179e\"], [0.4444444444444444, \"#bd3786\"], [0.5555555555555556, \"#d8576b\"], [0.6666666666666666, \"#ed7953\"], [0.7777777777777778, \"#fb9f3a\"], [0.8888888888888888, \"#fdca26\"], [1.0, \"#f0f921\"]], \"type\": \"histogram2d\"}], \"histogram2dcontour\": [{\"colorbar\": {\"outlinewidth\": 0, \"ticks\": \"\"}, \"colorscale\": [[0.0, \"#0d0887\"], [0.1111111111111111, \"#46039f\"], [0.2222222222222222, \"#7201a8\"], [0.3333333333333333, \"#9c179e\"], [0.4444444444444444, \"#bd3786\"], [0.5555555555555556, \"#d8576b\"], [0.6666666666666666, \"#ed7953\"], [0.7777777777777778, \"#fb9f3a\"], [0.8888888888888888, \"#fdca26\"], [1.0, \"#f0f921\"]], \"type\": \"histogram2dcontour\"}], \"mesh3d\": [{\"colorbar\": {\"outlinewidth\": 0, \"ticks\": \"\"}, \"type\": \"mesh3d\"}], \"parcoords\": [{\"line\": {\"colorbar\": {\"outlinewidth\": 0, \"ticks\": \"\"}}, \"type\": \"parcoords\"}], \"scatter\": [{\"marker\": {\"colorbar\": {\"outlinewidth\": 0, \"ticks\": \"\"}}, \"type\": \"scatter\"}], \"scatter3d\": [{\"line\": {\"colorbar\": {\"outlinewidth\": 0, \"ticks\": \"\"}}, \"marker\": {\"colorbar\": {\"outlinewidth\": 0, \"ticks\": \"\"}}, \"type\": \"scatter3d\"}], \"scattercarpet\": [{\"marker\": {\"colorbar\": {\"outlinewidth\": 0, \"ticks\": \"\"}}, \"type\": \"scattercarpet\"}], \"scattergeo\": [{\"marker\": {\"colorbar\": {\"outlinewidth\": 0, \"ticks\": \"\"}}, \"type\": \"scattergeo\"}], \"scattergl\": [{\"marker\": {\"colorbar\": {\"outlinewidth\": 0, \"ticks\": \"\"}}, \"type\": \"scattergl\"}], \"scattermapbox\": [{\"marker\": {\"colorbar\": {\"outlinewidth\": 0, \"ticks\": \"\"}}, \"type\": \"scattermapbox\"}], \"scatterpolar\": [{\"marker\": {\"colorbar\": {\"outlinewidth\": 0, \"ticks\": \"\"}}, \"type\": \"scatterpolar\"}], \"scatterpolargl\": [{\"marker\": {\"colorbar\": {\"outlinewidth\": 0, \"ticks\": \"\"}}, \"type\": \"scatterpolargl\"}], \"scatterternary\": [{\"marker\": {\"colorbar\": {\"outlinewidth\": 0, \"ticks\": \"\"}}, \"type\": \"scatterternary\"}], \"surface\": [{\"colorbar\": {\"outlinewidth\": 0, \"ticks\": \"\"}, \"colorscale\": [[0.0, \"#0d0887\"], [0.1111111111111111, \"#46039f\"], [0.2222222222222222, \"#7201a8\"], [0.3333333333333333, \"#9c179e\"], [0.4444444444444444, \"#bd3786\"], [0.5555555555555556, \"#d8576b\"], [0.6666666666666666, \"#ed7953\"], [0.7777777777777778, \"#fb9f3a\"], [0.8888888888888888, \"#fdca26\"], [1.0, \"#f0f921\"]], \"type\": \"surface\"}], \"table\": [{\"cells\": {\"fill\": {\"color\": \"#EBF0F8\"}, \"line\": {\"color\": \"white\"}}, \"header\": {\"fill\": {\"color\": \"#C8D4E3\"}, \"line\": {\"color\": \"white\"}}, \"type\": \"table\"}]}, \"layout\": {\"annotationdefaults\": {\"arrowcolor\": \"#2a3f5f\", \"arrowhead\": 0, \"arrowwidth\": 1}, \"colorscale\": {\"diverging\": [[0, \"#8e0152\"], [0.1, \"#c51b7d\"], [0.2, \"#de77ae\"], [0.3, \"#f1b6da\"], [0.4, \"#fde0ef\"], [0.5, \"#f7f7f7\"], [0.6, \"#e6f5d0\"], [0.7, \"#b8e186\"], [0.8, \"#7fbc41\"], [0.9, \"#4d9221\"], [1, \"#276419\"]], \"sequential\": [[0.0, \"#0d0887\"], [0.1111111111111111, \"#46039f\"], [0.2222222222222222, \"#7201a8\"], [0.3333333333333333, \"#9c179e\"], [0.4444444444444444, \"#bd3786\"], [0.5555555555555556, \"#d8576b\"], [0.6666666666666666, \"#ed7953\"], [0.7777777777777778, \"#fb9f3a\"], [0.8888888888888888, \"#fdca26\"], [1.0, \"#f0f921\"]], \"sequentialminus\": [[0.0, \"#0d0887\"], [0.1111111111111111, \"#46039f\"], [0.2222222222222222, \"#7201a8\"], [0.3333333333333333, \"#9c179e\"], [0.4444444444444444, \"#bd3786\"], [0.5555555555555556, \"#d8576b\"], [0.6666666666666666, \"#ed7953\"], [0.7777777777777778, \"#fb9f3a\"], [0.8888888888888888, \"#fdca26\"], [1.0, \"#f0f921\"]]}, \"colorway\": [\"#636efa\", \"#EF553B\", \"#00cc96\", \"#ab63fa\", \"#FFA15A\", \"#19d3f3\", \"#FF6692\", \"#B6E880\", \"#FF97FF\", \"#FECB52\"], \"font\": {\"color\": \"#2a3f5f\"}, \"geo\": {\"bgcolor\": \"white\", \"lakecolor\": \"white\", \"landcolor\": \"#E5ECF6\", \"showlakes\": true, \"showland\": true, \"subunitcolor\": \"white\"}, \"hoverlabel\": {\"align\": \"left\"}, \"hovermode\": \"closest\", \"mapbox\": {\"style\": \"light\"}, \"paper_bgcolor\": \"white\", \"plot_bgcolor\": \"#E5ECF6\", \"polar\": {\"angularaxis\": {\"gridcolor\": \"white\", \"linecolor\": \"white\", \"ticks\": \"\"}, \"bgcolor\": \"#E5ECF6\", \"radialaxis\": {\"gridcolor\": \"white\", \"linecolor\": \"white\", \"ticks\": \"\"}}, \"scene\": {\"xaxis\": {\"backgroundcolor\": \"#E5ECF6\", \"gridcolor\": \"white\", \"gridwidth\": 2, \"linecolor\": \"white\", \"showbackground\": true, \"ticks\": \"\", \"zerolinecolor\": \"white\"}, \"yaxis\": {\"backgroundcolor\": \"#E5ECF6\", \"gridcolor\": \"white\", \"gridwidth\": 2, \"linecolor\": \"white\", \"showbackground\": true, \"ticks\": \"\", \"zerolinecolor\": \"white\"}, \"zaxis\": {\"backgroundcolor\": \"#E5ECF6\", \"gridcolor\": \"white\", \"gridwidth\": 2, \"linecolor\": \"white\", \"showbackground\": true, \"ticks\": \"\", \"zerolinecolor\": \"white\"}}, \"shapedefaults\": {\"line\": {\"color\": \"#2a3f5f\"}}, \"ternary\": {\"aaxis\": {\"gridcolor\": \"white\", \"linecolor\": \"white\", \"ticks\": \"\"}, \"baxis\": {\"gridcolor\": \"white\", \"linecolor\": \"white\", \"ticks\": \"\"}, \"bgcolor\": \"#E5ECF6\", \"caxis\": {\"gridcolor\": \"white\", \"linecolor\": \"white\", \"ticks\": \"\"}}, \"title\": {\"x\": 0.05}, \"xaxis\": {\"automargin\": true, \"gridcolor\": \"white\", \"linecolor\": \"white\", \"ticks\": \"\", \"zerolinecolor\": \"white\", \"zerolinewidth\": 2}, \"yaxis\": {\"automargin\": true, \"gridcolor\": \"white\", \"linecolor\": \"white\", \"ticks\": \"\", \"zerolinecolor\": \"white\", \"zerolinewidth\": 2}}}, \"title\": {\"text\": \"Checking Account Distribuition\"}},\n",
       "                        {\"responsive\": true}\n",
       "                    ).then(function(){\n",
       "                            \n",
       "var gd = document.getElementById('2371e73d-d512-41c9-9034-0d18a046a651');\n",
       "var x = new MutationObserver(function (mutations, observer) {{\n",
       "        var display = window.getComputedStyle(gd).display;\n",
       "        if (!display || display === 'none') {{\n",
       "            console.log([gd, 'removed!']);\n",
       "            Plotly.purge(gd);\n",
       "            observer.disconnect();\n",
       "        }}\n",
       "}});\n",
       "\n",
       "// Listen for the removal of the full notebook cells\n",
       "var notebookContainer = gd.closest('#notebook-container');\n",
       "if (notebookContainer) {{\n",
       "    x.observe(notebookContainer, {childList: true});\n",
       "}}\n",
       "\n",
       "// Listen for the clearing of the current output cell\n",
       "var outputEl = gd.closest('.output');\n",
       "if (outputEl) {{\n",
       "    x.observe(outputEl, {childList: true});\n",
       "}}\n",
       "\n",
       "                        })\n",
       "                };\n",
       "                });\n",
       "            </script>\n",
       "        </div>"
      ]
     },
     "metadata": {},
     "output_type": "display_data"
    }
   ],
   "source": [
    "trace0 = go.Bar(\n",
    "    x = df[df[\"Risk\"]== 'good'][\"Checking account\"].value_counts().index.values,\n",
    "    y = df[df[\"Risk\"]== 'good'][\"Checking account\"].value_counts().values,\n",
    "    name='Good credit Distribuition'\n",
    ")\n",
    "\n",
    "trace1 = go.Bar(\n",
    "    x = df[df[\"Risk\"]== 'bad'][\"Checking account\"].value_counts().index.values,\n",
    "    y = df[df[\"Risk\"]== 'bad'][\"Checking account\"].value_counts().values,\n",
    "    name=\"Bad Credit Distribuition\"\n",
    ")\n",
    "\n",
    "data = [trace0, trace1]\n",
    "\n",
    "layout = go.Layout(\n",
    "    title='Checking Account Distribuition'\n",
    ")\n",
    "\n",
    "fig = go.Figure(data=data, layout=layout)\n",
    "\n",
    "py.iplot(fig, filename='grouped-bar')"
   ]
  },
  {
   "cell_type": "markdown",
   "metadata": {},
   "source": [
    "There is no correlation between checking account and risk."
   ]
  },
  {
   "cell_type": "markdown",
   "metadata": {},
   "source": [
    "**7. Is there any correlation between saving accounts with risk and jobs?**"
   ]
  },
  {
   "cell_type": "code",
   "execution_count": 20,
   "metadata": {},
   "outputs": [
    {
     "name": "stdout",
     "output_type": "stream",
     "text": [
      "Description of Distribuition Saving accounts by Risk and Jobs:  \n"
     ]
    },
    {
     "data": {
      "image/png": "[encoded data removed]",
      "text/plain": [
       "<matplotlib.figure.Figure at 0x1050c240>"
      ]
     },
     "metadata": {},
     "output_type": "display_data"
    }
   ],
   "source": [
    "print(\"Description of Distribuition Saving accounts by Risk and Jobs:  \")\n",
    "\n",
    "g = sns.violinplot(x=\"Saving accounts\", y=\"Job\", data=df, palette=\"hls\", \n",
    "               hue = \"Risk\",split=True)\n",
    "g.set_title(\"Saving Accounts by Job\", fontsize=15)\n",
    "g.set_xlabel(\"Savings Accounts type\", fontsize=12)\n",
    "g.set_ylabel(\"Job\", fontsize=12)\n",
    "\n",
    "plt.show()"
   ]
  },
  {
   "cell_type": "markdown",
   "metadata": {},
   "source": [
    "No correlation between them, but as the graph explains the rich with job 1 and 0 are at certainty are bad customer."
   ]
  },
  {
   "cell_type": "markdown",
   "metadata": {},
   "source": [
    "**8. Is there any correlation between saving accounts, risk, and credit amounts?**"
   ]
  },
  {
   "cell_type": "code",
   "execution_count": 21,
   "metadata": {
    "scrolled": true
   },
   "outputs": [
    {
     "data": {
      "image/png": "[encoded data removed]",
      "text/plain": [
       "<matplotlib.figure.Figure at 0x10854438>"
      ]
     },
     "metadata": {},
     "output_type": "display_data"
    }
   ],
   "source": [
    "g = sns.boxplot(x=\"Saving accounts\", y=\"Credit amount\", data=df,\n",
    "            hue = \"Risk\",palette=\"hls\")\n",
    "g.set_title(\"Saving Accounts by Credit Amount\", fontsize=15)\n",
    "g.set_xlabel(\"Savings Accounts type\", fontsize=12)\n",
    "g.set_ylabel(\"Credit Amount(US)\", fontsize=12)\n",
    "\n",
    "plt.show()"
   ]
  },
  {
   "cell_type": "markdown",
   "metadata": {},
   "source": [
    "There is no correlation between them."
   ]
  },
  {
   "cell_type": "markdown",
   "metadata": {},
   "source": [
    "**9. Is there any correlation between installment and ?**"
   ]
  },
  {
   "cell_type": "code",
   "execution_count": 22,
   "metadata": {
    "collapsed": true
   },
   "outputs": [],
   "source": [
    "df['Installment'] = df['Credit amount'] / df['Duration']"
   ]
  },
  {
   "cell_type": "code",
   "execution_count": 23,
   "metadata": {
    "scrolled": false
   },
   "outputs": [
    {
     "data": {
      "image/png": "[encoded data removed]",
      "text/plain": [
       "<matplotlib.figure.Figure at 0xdf9e128>"
      ]
     },
     "metadata": {},
     "output_type": "display_data"
    }
   ],
   "source": [
    "corr = df.corr(method = 'pearson')\n",
    "mask = np.array(corr)\n",
    "mask[np.tril_indices_from(mask)] = False\n",
    "fig, ax = plt.subplots(figsize = (15,12))\n",
    "fig.set_size_inches(20,20)\n",
    "sns.heatmap(corr, mask = mask, vmax = 0.9, square = True, annot = True)\n",
    "plt.show()"
   ]
  },
  {
   "cell_type": "markdown",
   "metadata": {},
   "source": [
    "There is only one correlation between installment that is credit amount, as it makes sense as the higher the credit amount the higher the installment."
   ]
  },
  {
   "cell_type": "markdown",
   "metadata": {},
   "source": [
    "**10. Is there any correlation between Installment with Risk?**"
   ]
  },
  {
   "cell_type": "code",
   "execution_count": 24,
   "metadata": {},
   "outputs": [
    {
     "data": {
      "application/vnd.plotly.v1+json": {
       "config": {
        "linkText": "Export to plot.ly",
        "plotlyServerURL": "https://plot.ly",
        "showLink": false
       },
       "data": [
        {
         "histnorm": "probability",
         "name": "Good Credit",
         "type": "histogram",
         "x": [
          25.25,
          26.133333333333333,
          27.19047619047619,
          28.25,
          29.875,
          30.666666666666668,
          32.083333333333336,
          34.083333333333336,
          34.94444444444444,
          38.708333333333336,
          39.041666666666664,
          41.625,
          41.666666666666664,
          43.5,
          48.111111111111114,
          48.75,
          50.041666666666664,
          50.888888888888886,
          51.291666666666664,
          51.5,
          52.041666666666664,
          52.083333333333336,
          52.416666666666664,
          52.416666666666664,
          53.125,
          53.25,
          53.333333333333336,
          53.625,
          53.733333333333334,
          54.333333333333336,
          54.625,
          56.333333333333336,
          56.833333333333336,
          57.111111111111114,
          57.166666666666664,
          57.166666666666664,
          57.285714285714285,
          57.3125,
          57.333333333333336,
          57.375,
          57.583333333333336,
          58.041666666666664,
          58.266666666666666,
          58.27777777777778,
          58.31818181818182,
          58.416666666666664,
          58.416666666666664,
          58.611111111111114,
          58.875,
          58.916666666666664,
          59,
          59.75,
          60.333333333333336,
          61,
          61.208333333333336,
          61.333333333333336,
          61.416666666666664,
          61.833333333333336,
          62.233333333333334,
          62.55555555555556,
          62.833333333333336,
          63.138888888888886,
          63.166666666666664,
          63.541666666666664,
          63.583333333333336,
          63.833333333333336,
          63.861111111111114,
          63.875,
          64,
          64.52777777777777,
          64.66666666666667,
          64.66666666666667,
          64.70833333333333,
          64.91666666666667,
          64.94444444444444,
          64.95833333333333,
          65,
          65.22222222222223,
          65.87179487179488,
          66.04166666666667,
          66.5,
          66.54166666666667,
          66.79166666666667,
          67,
          67.84615384615384,
          68.83333333333333,
          70.08333333333333,
          70.2,
          71,
          71.33333333333333,
          71.94444444444444,
          72.27777777777777,
          72.58333333333333,
          72.625,
          72.7,
          72.7,
          72.79166666666667,
          73.125,
          73.4375,
          73.83333333333333,
          74.29166666666667,
          74.54166666666667,
          74.85714285714286,
          75.1875,
          75.66666666666667,
          75.76190476190476,
          76.28571428571429,
          77.125,
          77.16666666666667,
          77.5,
          77.76666666666667,
          78.1,
          79.20833333333333,
          79.5,
          79.83333333333333,
          80.20833333333333,
          80.27777777777777,
          80.29166666666667,
          80.66666666666667,
          80.72222222222223,
          80.80952380952381,
          80.83333333333333,
          80.86666666666666,
          81.33333333333333,
          81.83333333333333,
          81.875,
          81.91666666666667,
          81.95833333333333,
          82.89583333333333,
          83,
          83.43333333333334,
          83.61111111111111,
          83.75757575757575,
          83.91666666666667,
          84.06666666666666,
          84.13333333333334,
          84.25,
          84.5,
          84.66666666666667,
          85.52777777777777,
          85.75,
          86.33333333333333,
          86.41666666666667,
          86.66666666666667,
          87.11111111111111,
          87.2,
          87.73333333333333,
          87.77777777777777,
          87.88888888888889,
          89.4,
          89.66666666666667,
          90.25,
          90.44444444444444,
          90.66666666666667,
          91,
          91.375,
          91.54166666666667,
          91.75,
          91.91666666666667,
          92.25,
          92.4,
          92.625,
          92.83333333333333,
          93.53333333333333,
          93.62962962962963,
          93.95833333333333,
          94.36666666666666,
          95,
          95.16666666666667,
          95.53333333333333,
          96.23809523809524,
          96.25,
          96.26666666666667,
          96.5,
          96.875,
          96.91666666666667,
          97.20833333333333,
          97.26666666666667,
          97.33333333333333,
          97.75,
          97.96428571428571,
          98.06666666666666,
          98.19444444444444,
          98.33333333333333,
          98.53333333333333,
          98.53333333333333,
          98.75,
          98.95833333333333,
          99.33333333333333,
          99.7,
          99.72222222222223,
          99.75,
          99.86111111111111,
          100,
          100,
          100.55555555555556,
          100.56666666666666,
          100.71428571428571,
          100.93333333333334,
          100.94444444444444,
          101,
          101.11111111111111,
          101.33333333333333,
          101.5,
          101.68888888888888,
          102.13333333333334,
          102.46666666666667,
          102.56666666666666,
          102.625,
          103.08333333333333,
          103.33333333333333,
          103.45833333333333,
          103.8,
          104,
          104.28571428571429,
          104.44444444444444,
          104.58333333333333,
          104.6,
          104.8,
          104.83333333333333,
          104.83333333333333,
          104.9090909090909,
          105.16666666666667,
          105.16666666666667,
          105.33333333333333,
          106.27777777777777,
          106.52777777777777,
          106.71428571428571,
          107.41666666666667,
          107.41666666666667,
          107.55555555555556,
          107.58333333333333,
          107.77777777777777,
          107.83333333333333,
          108.08333333333333,
          108.33333333333333,
          108.38461538461539,
          108.45833333333333,
          108.69444444444444,
          108.78333333333333,
          108.79166666666667,
          108.94444444444444,
          108.95238095238095,
          109.83333333333333,
          109.97222222222223,
          110,
          110.22222222222223,
          110.33333333333333,
          110.6,
          110.83333333333333,
          110.83333333333333,
          111,
          111.25,
          111.625,
          111.83333333333333,
          112,
          112,
          112.04761904761905,
          112.10416666666667,
          113.375,
          113.83333333333333,
          113.94444444444444,
          114.19047619047619,
          114.73333333333333,
          115,
          116.08333333333333,
          116.53333333333333,
          116.66666666666667,
          116.83333333333333,
          117.16666666666667,
          117.41666666666667,
          117.5,
          117.66666666666667,
          117.70833333333333,
          117.75,
          117.83333333333333,
          117.9047619047619,
          118.125,
          118.16666666666667,
          118.66666666666667,
          118.66666666666667,
          119.66666666666667,
          120.18181818181819,
          120.22222222222223,
          120.5,
          120.66666666666667,
          120.73333333333333,
          120.85714285714286,
          121.25,
          121.5909090909091,
          121.83333333333333,
          121.86666666666666,
          121.93333333333334,
          122.5,
          122.83333333333333,
          123,
          123.1,
          123.20833333333333,
          123.33333333333333,
          123.5,
          123.63333333333334,
          123.72222222222223,
          124.08333333333333,
          124.0952380952381,
          124.25,
          124.33333333333333,
          124.41666666666667,
          124.58333333333333,
          124.83333333333333,
          124.94444444444444,
          125.11111111111111,
          125.25,
          125.5,
          125.875,
          126.44444444444444,
          126.51851851851852,
          126.63636363636364,
          127,
          127.16666666666667,
          127.29166666666667,
          127.5,
          127.58333333333333,
          127.73333333333333,
          127.875,
          128.22222222222223,
          128.5,
          128.56666666666666,
          128.7,
          128.88888888888889,
          129.375,
          130.16666666666666,
          130.5,
          130.58333333333334,
          130.71428571428572,
          131.16666666666666,
          131.16666666666666,
          131.20833333333334,
          131.45,
          131.93333333333334,
          132.47619047619048,
          132.54166666666666,
          132.66666666666666,
          132.72222222222223,
          133.19444444444446,
          133.22222222222223,
          133.55555555555554,
          134,
          134.7,
          134.79166666666666,
          134.83333333333334,
          135,
          136,
          136.4,
          137.33333333333334,
          137.91666666666666,
          138.08333333333334,
          138.22222222222223,
          138.23076923076923,
          139.1875,
          139.1904761904762,
          139.72222222222223,
          140,
          140.7,
          141.76190476190476,
          141.8,
          142.4,
          142.52380952380952,
          142.91666666666666,
          143.11111111111111,
          143.33333333333334,
          143.36363636363637,
          144.66666666666666,
          145.33333333333334,
          145.5,
          145.66666666666666,
          145.73333333333332,
          145.88888888888889,
          146.33333333333334,
          147.33333333333334,
          147.72222222222223,
          147.88888888888889,
          148.06666666666666,
          149.19444444444446,
          149.73809523809524,
          150.25,
          150.33333333333334,
          150.47619047619048,
          150.70833333333334,
          150.79166666666666,
          151,
          151.33333333333334,
          151.55555555555554,
          152.1,
          152.5,
          152.58333333333334,
          152.61666666666667,
          152.76666666666668,
          154.22222222222223,
          154.38888888888889,
          154.55555555555554,
          154.6,
          154.83333333333334,
          155,
          155.06666666666666,
          155.33333333333334,
          155.33333333333334,
          155.75,
          155.95238095238096,
          156.20833333333334,
          156.54166666666666,
          156.58333333333334,
          156.75,
          157,
          157.33333333333334,
          157.375,
          157.75,
          157.95833333333334,
          158.63888888888889,
          158.9375,
          159.5,
          159.7,
          159.85714285714286,
          160.36666666666667,
          160.95833333333334,
          161,
          161.05555555555554,
          161.11111111111111,
          161.16666666666666,
          161.16666666666666,
          161.25,
          161.58333333333334,
          161.6153846153846,
          162.27777777777777,
          162.44444444444446,
          163.58333333333334,
          165.5,
          166.25,
          166.72222222222223,
          166.83333333333334,
          167.4,
          167.5,
          167.62962962962962,
          167.66666666666666,
          168.41666666666666,
          169,
          169.06666666666666,
          169.38888888888889,
          170.61904761904762,
          171.38095238095238,
          172.11111111111111,
          172.44444444444446,
          172.45833333333334,
          172.75,
          172.76666666666668,
          172.95833333333334,
          173.70833333333334,
          173.9047619047619,
          174.125,
          174.25,
          174.5,
          174.66666666666666,
          174.74074074074073,
          175,
          175.11111111111111,
          175.4,
          176.75,
          176.75,
          176.8125,
          176.83333333333334,
          177.75,
          178,
          178.41666666666666,
          178.5,
          179.13333333333333,
          179.1904761904762,
          179.38888888888889,
          180.22222222222223,
          180.53333333333333,
          180.91666666666666,
          180.91666666666666,
          181.29166666666666,
          181.86666666666667,
          183.72222222222223,
          184.5,
          184.54166666666666,
          185.86666666666667,
          187.25,
          187.58333333333334,
          187.66666666666666,
          187.66666666666666,
          188.58333333333334,
          189.33333333333334,
          189.5185185185185,
          189.91666666666666,
          190.11111111111111,
          192.22222222222223,
          192.36666666666667,
          192.4,
          193,
          194.25,
          194.72727272727272,
          194.83333333333334,
          194.94444444444446,
          194.95833333333334,
          196.33333333333334,
          197.16666666666666,
          198.46666666666667,
          199.16666666666666,
          199.44444444444446,
          200.5,
          200.66666666666666,
          200.66666666666666,
          201.93333333333334,
          202.77777777777777,
          203.5,
          203.75,
          205.80555555555554,
          206,
          206.16666666666666,
          206.23333333333332,
          206.33333333333334,
          206.44444444444446,
          206.9,
          210,
          211.83333333333334,
          212.4,
          212.625,
          212.95833333333334,
          213.2,
          213.22222222222223,
          213.27777777777777,
          213.6,
          213.88888888888889,
          214.58333333333334,
          214.6,
          214.66666666666666,
          214.75,
          214.83333333333334,
          215.11111111111111,
          216.5,
          219.78787878787878,
          220.2051282051282,
          220.5,
          220.92592592592592,
          221.02380952380952,
          222.86666666666667,
          223,
          223.83333333333334,
          224.1,
          224.33333333333334,
          224.53333333333333,
          224.73333333333332,
          225.33333333333334,
          225.55555555555554,
          225.91666666666666,
          226.375,
          226.83333333333334,
          228.12765957446808,
          229,
          229,
          229,
          229.26666666666668,
          229.45833333333334,
          229.625,
          229.91666666666666,
          230.33333333333334,
          231.5,
          235.33333333333334,
          237.06666666666666,
          237.11111111111111,
          237.33333333333334,
          237.86666666666667,
          238.25,
          239.29166666666666,
          239.6,
          241.5,
          241.83333333333334,
          242.86666666666667,
          243.33333333333334,
          244.16666666666666,
          246.61111111111111,
          248.52777777777777,
          249.9047619047619,
          251.33333333333334,
          251.41666666666666,
          251.52777777777777,
          253.2,
          253.52083333333334,
          254.13333333333333,
          254.25,
          254.91666666666666,
          255.22222222222223,
          255.66666666666666,
          256.3333333333333,
          256.4166666666667,
          257.1666666666667,
          259,
          260.3333333333333,
          260.8833333333333,
          263.0416666666667,
          263.0833333333333,
          265.6041666666667,
          265.72222222222223,
          265.8333333333333,
          266.7916666666667,
          267.3333333333333,
          267.4583333333333,
          269.06666666666666,
          273.6666666666667,
          273.80555555555554,
          274.125,
          275.625,
          277.5833333333333,
          278.55555555555554,
          279.42857142857144,
          283.25,
          283.7857142857143,
          284.8,
          285.0833333333333,
          287.25,
          290,
          290.1,
          290.2916666666667,
          290.5,
          291.02777777777777,
          291.6666666666667,
          293.9166666666667,
          294.3333333333333,
          294.55555555555554,
          297.0833333333333,
          297.75,
          299.1666666666667,
          299.6666666666667,
          301.4166666666667,
          301.53846153846155,
          302.0833333333333,
          304.25,
          305.8888888888889,
          306.38461538461536,
          307.05555555555554,
          307.4,
          308.0416666666667,
          310.46666666666664,
          311,
          312,
          316.3333333333333,
          319,
          321.7083333333333,
          323.25,
          323.4,
          325.5833333333333,
          325.8888888888889,
          326.1666666666667,
          332.7142857142857,
          336.3333333333333,
          337.22222222222223,
          341.55555555555554,
          343.8333333333333,
          344.6666666666667,
          345,
          346.6666666666667,
          347.77777777777777,
          351.3333333333333,
          352.6666666666667,
          352.85,
          353.3888888888889,
          354.1,
          354.93333333333334,
          355,
          355,
          358.09090909090907,
          363.56410256410254,
          363.75,
          368,
          373.5,
          375.75,
          386,
          386.5416666666667,
          389.5833333333333,
          394.9,
          397.44444444444446,
          409.6666666666667,
          424.75,
          425.77777777777777,
          433.72727272727275,
          440.47222222222223,
          441.1666666666667,
          470.6111111111111,
          483.4166666666667,
          496.3333333333333,
          506.5,
          586.3333333333334,
          612.6666666666666,
          622.6666666666666,
          657.0909090909091,
          689.6,
          730.8,
          786,
          845,
          1126.8333333333333
         ],
         "xaxis": "x",
         "yaxis": "y"
        },
        {
         "histnorm": "probability",
         "name": "Bad Credit",
         "type": "histogram",
         "x": [
          24.055555555555557,
          38.125,
          39.458333333333336,
          41,
          41.666666666666664,
          42.666666666666664,
          49.111111111111114,
          49.708333333333336,
          49.958333333333336,
          50.291666666666664,
          50.52777777777778,
          50.666666666666664,
          50.75,
          51.166666666666664,
          51.916666666666664,
          52.166666666666664,
          53.25,
          53.416666666666664,
          53.46666666666667,
          53.541666666666664,
          54.22222222222222,
          54.25,
          54.916666666666664,
          55.541666666666664,
          56,
          56.166666666666664,
          56.458333333333336,
          56.57142857142857,
          56.583333333333336,
          57,
          57.083333333333336,
          57.125,
          57.541666666666664,
          57.583333333333336,
          57.888888888888886,
          58.083333333333336,
          58.666666666666664,
          59.083333333333336,
          59.583333333333336,
          59.916666666666664,
          60.083333333333336,
          60.583333333333336,
          61.75,
          61.80555555555556,
          62.833333333333336,
          63.25,
          63.333333333333336,
          63.5625,
          63.6,
          63.75,
          63.833333333333336,
          63.94444444444444,
          63.96666666666667,
          64.41666666666667,
          66.11111111111111,
          66.22222222222223,
          66.25,
          66.41666666666667,
          67.35555555555555,
          67.55555555555556,
          67.61111111111111,
          69.125,
          69.16666666666667,
          69.66666666666667,
          71.66666666666667,
          72.16666666666667,
          72.66666666666667,
          74,
          74.19444444444444,
          74.66666666666667,
          74.72222222222223,
          75,
          75.16666666666667,
          75.33333333333333,
          75.95833333333333,
          76.27777777777777,
          76.54166666666667,
          77.70833333333333,
          78.25,
          78.33333333333333,
          78.42857142857143,
          79.25,
          80.08333333333333,
          80.11111111111111,
          80.2,
          80.625,
          80.75,
          81.54166666666667,
          81.89583333333333,
          82.77777777777777,
          82.79166666666667,
          84.26666666666667,
          84.73333333333333,
          84.95833333333333,
          85,
          85,
          85.16666666666667,
          86,
          86.27777777777777,
          87.38095238095238,
          89.75,
          90.16666666666667,
          92.33333333333333,
          93.02777777777777,
          93.33333333333333,
          93.58333333333333,
          94.4047619047619,
          95.18518518518519,
          95.72222222222223,
          95.9375,
          95.95833333333333,
          98.29166666666667,
          99.875,
          100.44444444444444,
          100.8,
          100.91666666666667,
          101.625,
          101.91666666666667,
          102,
          102.33333333333333,
          103.55555555555556,
          103.6,
          104.04761904761905,
          104.55555555555556,
          104.8,
          105.46666666666667,
          105.66666666666667,
          105.75,
          106.16666666666667,
          106.16666666666667,
          106.55555555555556,
          106.83333333333333,
          106.88888888888889,
          107.11111111111111,
          107.91666666666667,
          107.94444444444444,
          110.42857142857143,
          110.91666666666667,
          111.75,
          113.25,
          113.27777777777777,
          113.93333333333334,
          114.33333333333333,
          114.7,
          115.5,
          116.66666666666667,
          116.94444444444444,
          118,
          118.53333333333333,
          120.5,
          121.61666666666666,
          122.85714285714286,
          123.46666666666667,
          123.66666666666667,
          123.75,
          123.97222222222223,
          123.97916666666667,
          124,
          124.83333333333333,
          126.22222222222223,
          126.48717948717949,
          126.55555555555556,
          127.83333333333333,
          127.97916666666667,
          128.83333333333334,
          129.58333333333334,
          129.66666666666666,
          129.72727272727272,
          130.125,
          130.9,
          131.70833333333334,
          131.76190476190476,
          131.89583333333334,
          133.66666666666666,
          134.75,
          136.66666666666666,
          136.77777777777777,
          137.38888888888889,
          139.375,
          139.54166666666666,
          140.79166666666666,
          141.63333333333333,
          142.66666666666666,
          143.07142857142858,
          143.86111111111111,
          144.44444444444446,
          145,
          145.8125,
          148,
          148.3125,
          148.55555555555554,
          149.95,
          150.875,
          151.77777777777777,
          154.16666666666666,
          154.625,
          155.13333333333333,
          155.16666666666666,
          158,
          159.11111111111111,
          159.66666666666666,
          160.10416666666666,
          160.16666666666666,
          161.72916666666666,
          162.57142857142858,
          164.0625,
          164.22222222222223,
          166.77777777777777,
          169.04166666666666,
          170.8095238095238,
          171.25,
          171.375,
          173,
          173.02777777777777,
          174.46666666666667,
          175.4,
          176.70833333333334,
          177.22222222222223,
          179.08333333333334,
          185.55555555555554,
          187.16666666666666,
          191,
          191.29166666666666,
          191.30555555555554,
          196.03703703703704,
          197.33333333333334,
          197.97222222222223,
          199.66666666666666,
          200.70833333333334,
          201.5,
          202.91666666666666,
          207.5,
          210.97916666666666,
          211.66666666666666,
          214.52083333333334,
          214.91666666666666,
          218.19444444444446,
          220,
          220.33333333333334,
          221,
          221.66666666666666,
          224.02777777777777,
          224.61111111111111,
          228.35416666666666,
          228.58333333333334,
          230.16666666666666,
          230.72222222222223,
          231.38888888888889,
          231.52777777777777,
          233.78333333333333,
          238.23809523809524,
          238.72222222222223,
          241.45833333333334,
          246.36666666666667,
          247.41666666666666,
          247.625,
          249.5,
          250.94444444444446,
          257.52777777777777,
          261.05555555555554,
          262.5777777777778,
          263.93333333333334,
          265.8888888888889,
          267.47222222222223,
          279.53333333333336,
          282.1666666666667,
          286.3333333333333,
          291.5833333333333,
          295.27777777777777,
          300.4375,
          304.8333333333333,
          308.0740740740741,
          308.2,
          326.5,
          344.1388888888889,
          350.3333333333333,
          358.77777777777777,
          360.3333333333333,
          375.6111111111111,
          383.8333333333333,
          397.72222222222223,
          399.93333333333334,
          403.5833333333333,
          417.27777777777777,
          456.6666666666667,
          472,
          481.6666666666667,
          497.4166666666667,
          516.5833333333334,
          524.125,
          539,
          564,
          569.8888888888889,
          603.8095238095239,
          641.2857142857143,
          655.4166666666666,
          720.8888888888889,
          768.5,
          2425.8333333333335,
          2482.6666666666665
         ],
         "xaxis": "x2",
         "yaxis": "y2"
        },
        {
         "histnorm": "probability",
         "name": "Overall Installment",
         "type": "histogram",
         "x": [
          194.83333333333334,
          123.97916666666667,
          174.66666666666666,
          187.66666666666666,
          202.91666666666666,
          251.52777777777777,
          118.125,
          193,
          254.91666666666666,
          174.46666666666667,
          107.91666666666667,
          89.75,
          130.58333333333334,
          49.958333333333336,
          93.53333333333333,
          53.416666666666664,
          101,
          269.06666666666666,
          524.125,
          142.91666666666666,
          237.11111111111111,
          441.1666666666667,
          224.1,
          150.33333333333334,
          206.9,
          229,
          71,
          34.083333333333336,
          345,
          113.93333333333334,
          106.27777777777777,
          167.5,
          325.8888888888889,
          105.33333333333333,
          122.83333333333333,
          105.46666666666667,
          127.29166666666667,
          116.66666666666667,
          122.5,
          50.888888888888886,
          77.76666666666667,
          96.5,
          344.6666666666667,
          206.23333333333332,
          127.97916666666667,
          126.63636363636364,
          63.861111111111114,
          225.33333333333334,
          657.0909090909091,
          172.75,
          97.20833333333333,
          220.92592592592592,
          105.16666666666667,
          187.66666666666666,
          61.80555555555556,
          130.5,
          539,
          265.72222222222223,
          108.94444444444444,
          173.02777777777777,
          154.55555555555554,
          102.46666666666667,
          54.25,
          300.4375,
          132.54166666666666,
          192.22222222222223,
          180.91666666666666,
          83.91666666666667,
          50.52777777777778,
          66.5,
          225.91666666666666,
          104.28571428571429,
          145.5,
          141.76190476190476,
          54.916666666666664,
          127.16666666666667,
          94.4047619047619,
          433.72727272727275,
          174.74074074074073,
          127.73333333333333,
          247.625,
          80.86666666666666,
          87.11111111111111,
          73.125,
          231.5,
          117.66666666666667,
          71.94444444444444,
          350.3333333333333,
          124.94444444444444,
          92.33333333333333,
          51.5,
          117.41666666666667,
          66.41666666666667,
          150.70833333333334,
          109.83333333333333,
          295.27777777777777,
          167.66666666666666,
          145.66666666666666,
          64.91666666666667,
          352.85,
          61.208333333333336,
          64.52777777777777,
          155.33333333333334,
          213.22222222222223,
          203.75,
          497.4166666666667,
          358.77777777777777,
          506.5,
          321.7083333333333,
          100.71428571428571,
          241.5,
          26.133333333333333,
          347.77777777777777,
          218.19444444444446,
          140,
          74.54166666666667,
          170.8095238095238,
          213.2,
          129.72727272727272,
          197.16666666666666,
          87.38095238095238,
          161.16666666666666,
          147.33333333333334,
          78.1,
          106.88888888888889,
          176.75,
          58.416666666666664,
          53.25,
          155,
          291.5833333333333,
          176.8125,
          191.30555555555554,
          180.53333333333333,
          110.22222222222223,
          169.06666666666666,
          103.33333333333333,
          319,
          63.833333333333336,
          181.86666666666667,
          156.75,
          118.16666666666667,
          133.19444444444446,
          126.51851851851852,
          136.77777777777777,
          108.95238095238095,
          74.29166666666667,
          143.33333333333334,
          56.833333333333336,
          149.19444444444446,
          87.88888888888889,
          224.33333333333334,
          192.4,
          162.44444444444446,
          323.25,
          290.2916666666667,
          106.83333333333333,
          143.11111111111111,
          28.25,
          146.33333333333334,
          316.3333333333333,
          119.66666666666667,
          58.611111111111114,
          84.13333333333334,
          730.8,
          25.25,
          496.3333333333333,
          62.833333333333336,
          143.36363636363637,
          165.5,
          80.625,
          63.333333333333336,
          63.583333333333336,
          86,
          176.75,
          162.57142857142858,
          249.5,
          214.75,
          56.333333333333336,
          163.58333333333334,
          27.19047619047619,
          265.8888888888889,
          123.75,
          78.42857142857143,
          157.375,
          49.111111111111114,
          90.66666666666667,
          569.8888888888889,
          73.4375,
          56.166666666666664,
          180.22222222222223,
          191.29166666666666,
          80.08333333333333,
          145,
          351.3333333333333,
          67.35555555555555,
          166.77777777777777,
          230.33333333333334,
          79.25,
          115,
          238.72222222222223,
          104,
          97.33333333333333,
          189.5185185185185,
          75.16666666666667,
          124.58333333333333,
          354.1,
          161.25,
          118.66666666666667,
          273.6666666666667,
          117.75,
          341.55555555555554,
          106.52777777777777,
          196.03703703703704,
          63.6,
          92.83333333333333,
          155.33333333333334,
          172.44444444444446,
          108.69444444444444,
          125.875,
          136.4,
          52.083333333333336,
          100,
          58.916666666666664,
          124.08333333333333,
          310.46666666666664,
          72.58333333333333,
          228.35416666666666,
          655.4166666666666,
          164.22222222222223,
          131.20833333333334,
          116.94444444444444,
          278.55555555555554,
          178.41666666666666,
          48.111111111111114,
          386,
          75.95833333333333,
          2425.8333333333335,
          131.76190476190476,
          107.58333333333333,
          84.06666666666666,
          38.125,
          265.8333333333333,
          95.9375,
          98.75,
          287.25,
          52.416666666666664,
          59.75,
          200.66666666666666,
          80.20833333333333,
          24.055555555555557,
          111,
          187.58333333333334,
          71.66666666666667,
          172.95833333333334,
          225.55555555555554,
          123.63333333333334,
          111.83333333333333,
          179.08333333333334,
          254.13333333333333,
          104.9090909090909,
          138.08333333333334,
          66.79166666666667,
          294.55555555555554,
          229,
          123.1,
          53.46666666666667,
          175.11111111111111,
          63.875,
          641.2857142857143,
          41.625,
          147.88888888888889,
          116.83333333333333,
          253.52083333333334,
          63.75,
          399.93333333333334,
          299.6666666666667,
          133.55555555555554,
          105.16666666666667,
          768.5,
          79.20833333333333,
          224.53333333333333,
          131.16666666666666,
          80.27777777777777,
          101.33333333333333,
          161.58333333333334,
          228.12765957446808,
          99.75,
          157.95833333333334,
          91,
          42.666666666666664,
          89.66666666666667,
          261.05555555555554,
          267.4583333333333,
          114.19047619047619,
          158.9375,
          207.5,
          389.5833333333333,
          128.7,
          139.72222222222223,
          130.71428571428572,
          112,
          105.66666666666667,
          56,
          103.8,
          210.97916666666666,
          257.1666666666667,
          160.36666666666667,
          60.583333333333336,
          154.625,
          30.666666666666668,
          112.10416666666667,
          229.625,
          156.20833333333334,
          57.083333333333336,
          373.5,
          76.27777777777777,
          59,
          181.29166666666666,
          58.416666666666664,
          242.86666666666667,
          141.63333333333333,
          80.75,
          121.25,
          147.72222222222223,
          57.111111111111114,
          424.75,
          483.4166666666667,
          63.541666666666664,
          124.25,
          178,
          275.625,
          103.55555555555556,
          123.46666666666667,
          241.45833333333334,
          171.25,
          564,
          161.6153846153846,
          85,
          173.70833333333334,
          152.1,
          239.29166666666666,
          171.38095238095238,
          178.5,
          246.61111111111111,
          394.9,
          97.26666666666667,
          67.84615384615384,
          156.58333333333334,
          290.5,
          126.22222222222223,
          137.33333333333334,
          106.55555555555556,
          179.38888888888889,
          516.5833333333334,
          72.7,
          51.916666666666664,
          194.25,
          123.97222222222223,
          64.66666666666667,
          80.2,
          68.83333333333333,
          283.25,
          187.25,
          294.3333333333333,
          137.38888888888889,
          128.5,
          213.88888888888889,
          202.77777777777777,
          95.72222222222223,
          166.72222222222223,
          85.52777777777777,
          337.22222222222223,
          214.6,
          229.26666666666668,
          246.36666666666667,
          160.10416666666666,
          128.88888888888889,
          120.85714285714286,
          397.72222222222223,
          60.333333333333336,
          110.6,
          720.8888888888889,
          58.31818181818182,
          110.83333333333333,
          142.4,
          124.33333333333333,
          62.55555555555556,
          409.6666666666667,
          155.06666666666666,
          161,
          101.11111111111111,
          81.91666666666667,
          90.25,
          326.1666666666667,
          267.3333333333333,
          301.53846153846155,
          214.83333333333334,
          65.22222222222223,
          101.91666666666667,
          63.166666666666664,
          81.83333333333333,
          104.83333333333333,
          360.3333333333333,
          57.285714285714285,
          161.05555555555554,
          84.95833333333333,
          91.54166666666667,
          70.2,
          134.79166666666666,
          78.25,
          81.95833333333333,
          219.78787878787878,
          191,
          159.7,
          57.541666666666664,
          162.27777777777777,
          214.91666666666666,
          470.6111111111111,
          132.47619047619048,
          57.888888888888886,
          212.4,
          169,
          79.83333333333333,
          75.76190476190476,
          230.16666666666666,
          154.38888888888889,
          97.96428571428571,
          63.833333333333336,
          145.88888888888889,
          66.11111111111111,
          689.6,
          472,
          312,
          85.75,
          237.33333333333334,
          123.66666666666667,
          110,
          53.625,
          80.80952380952381,
          50.75,
          157,
          135,
          131.45,
          59.916666666666664,
          106.16666666666667,
          138.22222222222223,
          51.166666666666664,
          368,
          118.66666666666667,
          100.8,
          307.05555555555554,
          86.33333333333333,
          229.91666666666666,
          111.25,
          200.70833333333334,
          111.625,
          355,
          282.1666666666667,
          57.166666666666664,
          255.22222222222223,
          100.55555555555556,
          114.73333333333333,
          251.41666666666666,
          62.833333333333336,
          108.33333333333333,
          121.83333333333333,
          69.125,
          150.79166666666666,
          83.75757575757575,
          194.95833333333334,
          128.83333333333334,
          74.66666666666667,
          72.66666666666667,
          206.33333333333334,
          69.16666666666667,
          173,
          65.87179487179488,
          214.66666666666666,
          86.41666666666667,
          98.53333333333333,
          297.75,
          50.041666666666664,
          120.73333333333333,
          64,
          96.91666666666667,
          201.5,
          256.4166666666667,
          156.54166666666666,
          141.8,
          586.3333333333334,
          161.16666666666666,
          308.0740740740741,
          206.16666666666666,
          61.333333333333336,
          176.83333333333334,
          124.83333333333333,
          250.94444444444446,
          66.04166666666667,
          72.27777777777777,
          220.5,
          130.125,
          152.58333333333334,
          125.11111111111111,
          50.666666666666664,
          50.291666666666664,
          130.9,
          157.33333333333334,
          456.6666666666667,
          58.875,
          220.2051282051282,
          63.25,
          130.16666666666666,
          179.13333333333333,
          48.75,
          93.95833333333333,
          101.5,
          226.83333333333334,
          197.97222222222223,
          200.5,
          116.66666666666667,
          229.45833333333334,
          177.22222222222223,
          148.3125,
          145.33333333333334,
          61.833333333333336,
          306.38461538461536,
          102.13333333333334,
          375.75,
          63.94444444444444,
          110.33333333333333,
          63.138888888888886,
          175.4,
          125.25,
          54.625,
          129.375,
          110.42857142857143,
          229,
          200.66666666666666,
          161.72916666666666,
          169.38888888888889,
          127.83333333333333,
          84.66666666666667,
          211.66666666666666,
          159.11111111111111,
          104.58333333333333,
          55.541666666666664,
          84.25,
          64.66666666666667,
          52.166666666666664,
          184.54166666666666,
          83,
          291.6666666666667,
          145.8125,
          166.25,
          133.22222222222223,
          110.91666666666667,
          126.55555555555556,
          238.23809523809524,
          148,
          107.11111111111111,
          123.5,
          64.41666666666667,
          113.83333333333333,
          344.1388888888889,
          196.33333333333334,
          64.70833333333333,
          114.33333333333333,
          107.41666666666667,
          82.89583333333333,
          140.79166666666666,
          134.75,
          198.46666666666667,
          226.375,
          53.733333333333334,
          120.22222222222223,
          185.86666666666667,
          244.16666666666666,
          80.29166666666667,
          78.33333333333333,
          39.041666666666664,
          58.666666666666664,
          260.3333333333333,
          154.22222222222223,
          66.22222222222223,
          177.75,
          113.27777777777777,
          311,
          107.41666666666667,
          67.61111111111111,
          187.16666666666666,
          32.083333333333336,
          81.875,
          74.85714285714286,
          113.25,
          56.583333333333336,
          155.16666666666666,
          60.083333333333336,
          176.70833333333334,
          154.16666666666666,
          160.95833333333334,
          332.7142857142857,
          102,
          76.54166666666667,
          93.02777777777777,
          127.5,
          117.83333333333333,
          188.58333333333334,
          74.19444444444444,
          113.94444444444444,
          86.66666666666667,
          61.75,
          124,
          159.85714285714286,
          151.33333333333334,
          100.44444444444444,
          254.25,
          152.61666666666667,
          612.6666666666666,
          114.7,
          53.333333333333336,
          173.9047619047619,
          85,
          81.54166666666667,
          154.83333333333334,
          144.44444444444446,
          131.93333333333334,
          352.6666666666667,
          159.66666666666666,
          96.23809523809524,
          425.77777777777777,
          152.5,
          86.27777777777777,
          96.26666666666667,
          220,
          56.458333333333336,
          116.08333333333333,
          57.333333333333336,
          260.8833333333333,
          124.41666666666667,
          104.04761904761905,
          41.666666666666664,
          87.2,
          308.2,
          77.125,
          104.44444444444444,
          221.66666666666666,
          152.76666666666668,
          115.5,
          39.458333333333336,
          57,
          155.75,
          160.16666666666666,
          95.95833333333333,
          224.61111111111111,
          97.75,
          283.7857142857143,
          74,
          212.95833333333334,
          140.7,
          353.3888888888889,
          108.08333333333333,
          75,
          106.71428571428571,
          175,
          174.5,
          263.0833333333333,
          116.53333333333333,
          75.1875,
          403.5833333333333,
          100.56666666666666,
          172.45833333333334,
          159.5,
          172.76666666666668,
          346.6666666666667,
          122.85714285714286,
          151,
          214.58333333333334,
          77.70833333333333,
          99.33333333333333,
          80.72222222222223,
          256.3333333333333,
          189.91666666666666,
          98.53333333333333,
          212.625,
          273.80555555555554,
          108.78333333333333,
          134.7,
          79.5,
          305.8888888888889,
          304.25,
          65,
          175.4,
          120.66666666666667,
          786,
          95.16666666666667,
          206,
          91.91666666666667,
          77.16666666666667,
          100,
          127,
          93.58333333333333,
          131.89583333333334,
          57.375,
          83.43333333333334,
          93.62962962962963,
          354.93333333333334,
          136.66666666666666,
          247.41666666666666,
          134,
          235.33333333333334,
          34.94444444444444,
          199.66666666666666,
          117.9047619047619,
          126.44444444444444,
          233.78333333333333,
          253.2,
          102.56666666666666,
          83.61111111111111,
          131.16666666666666,
          307.4,
          148.55555555555554,
          72.16666666666667,
          102.33333333333333,
          87.77777777777777,
          95.18518518518519,
          41.666666666666664,
          87.73333333333333,
          104.55555555555556,
          133.66666666666666,
          53.125,
          266.7916666666667,
          82.79166666666667,
          95,
          108.45833333333333,
          845,
          110.83333333333333,
          481.6666666666667,
          243.33333333333334,
          1126.8333333333333,
          142.66666666666666,
          96.875,
          104.8,
          150.47619047619048,
          103.45833333333333,
          363.56410256410254,
          138.23076923076923,
          167.4,
          106.16666666666667,
          249.9047619047619,
          201.93333333333334,
          71.33333333333333,
          54.22222222222222,
          70.08333333333333,
          192.36666666666667,
          129.58333333333334,
          53.541666666666664,
          216.5,
          84.73333333333333,
          58.041666666666664,
          57.583333333333336,
          336.3333333333333,
          118,
          184.5,
          603.8095238095239,
          102.625,
          96.25,
          103.6,
          290.1,
          301.4166666666667,
          137.91666666666666,
          117.16666666666667,
          224.02777777777777,
          155.95238095238096,
          92.625,
          123.33333333333333,
          57.125,
          98.19444444444444,
          194.94444444444446,
          158.63888888888889,
          215.11111111111111,
          126.48717948717949,
          80.83333333333333,
          117.5,
          69.66666666666667,
          323.4,
          107.83333333333333,
          121.5909090909091,
          57.3125,
          129.66666666666666,
          149.95,
          56.57142857142857,
          263.0416666666667,
          203.5,
          120.5,
          127.58333333333333,
          255.66666666666666,
          417.27777777777777,
          104.83333333333333,
          29.875,
          172.11111111111111,
          66.54166666666667,
          99.72222222222223,
          213.6,
          81.33333333333333,
          622.6666666666666,
          257.52777777777777,
          98.33333333333333,
          77.5,
          221.02380952380952,
          118.53333333333333,
          113.375,
          80.66666666666667,
          267.47222222222223,
          63.5625,
          81.89583333333333,
          206.44444444444446,
          223,
          259,
          440.47222222222223,
          74.72222222222223,
          91.75,
          251.33333333333334,
          75.33333333333333,
          91.375,
          210,
          76.28571428571429,
          220.33333333333334,
          231.38888888888889,
          231.52777777777777,
          139.1875,
          98.95833333333333,
          67.55555555555556,
          262.5777777777778,
          211.83333333333334,
          155.13333333333333,
          90.16666666666667,
          73.83333333333333,
          150.25,
          123.20833333333333,
          108.79166666666667,
          143.86111111111111,
          142.52380952380952,
          107.94444444444444,
          64.95833333333333,
          190.11111111111111,
          189.33333333333334,
          375.6111111111111,
          52.041666666666664,
          151.55555555555554,
          59.083333333333336,
          111.75,
          168.41666666666666,
          98.06666666666666,
          80.11111111111111,
          302.0833333333333,
          61.416666666666664,
          89.4,
          222.86666666666667,
          263.93333333333334,
          397.44444444444446,
          241.83333333333334,
          120.5,
          101.625,
          167.62962962962962,
          221,
          148.06666666666666,
          132.72222222222223,
          277.5833333333333,
          205.80555555555554,
          54.333333333333336,
          213.27777777777777,
          223.83333333333334,
          57.583333333333336,
          58.266666666666666,
          299.1666666666667,
          120.18181818181819,
          107.77777777777777,
          99.86111111111111,
          158,
          224.73333333333332,
          325.5833333333333,
          386.5416666666667,
          72.7,
          61,
          169.04166666666666,
          66.25,
          117.70833333333333,
          326.5,
          183.72222222222223,
          279.42857142857144,
          90.44444444444444,
          121.93333333333334,
          180.91666666666666,
          161.11111111111111,
          64.94444444444444,
          248.52777777777777,
          124.0952380952381,
          132.66666666666666,
          145.73333333333332,
          230.72222222222223,
          164.0625,
          174.25,
          291.02777777777777,
          92.4,
          53.25,
          92.25,
          179.1904761904762,
          103.08333333333333,
          239.6,
          355,
          123.72222222222223,
          197.33333333333334,
          99.7,
          194.72727272727272,
          131.70833333333334,
          383.8333333333333,
          284.8,
          2482.6666666666665,
          98.29166666666667,
          139.375,
          100.94444444444444,
          265.6041666666667,
          151.77777777777777,
          166.83333333333334,
          286.3333333333333,
          58.083333333333336,
          58.27777777777778,
          214.52083333333334,
          62.233333333333334,
          112,
          72.79166666666667,
          185.55555555555554,
          136,
          43.5,
          124.83333333333333,
          63.96666666666667,
          82.77777777777777,
          343.8333333333333,
          104.8,
          285.0833333333333,
          293.9166666666667,
          154.6,
          38.708333333333336,
          363.75,
          123,
          174.125,
          139.54166666666666,
          238.25,
          85.16666666666667,
          150.875,
          199.44444444444446,
          59.583333333333336,
          171.375,
          304.8333333333333,
          157.75,
          51.291666666666664,
          121.86666666666666,
          128.22222222222223,
          143.07142857142858,
          127.875,
          290,
          112.04761904761905,
          237.06666666666666,
          99.875,
          75.66666666666667,
          57.166666666666664,
          93.33333333333333,
          237.86666666666667,
          170.61904761904762,
          358.09090909090907,
          100.93333333333334,
          308.0416666666667,
          49.708333333333336,
          121.61666666666666,
          94.36666666666666,
          52.416666666666664,
          125.5,
          134.83333333333334,
          105.75,
          84.26666666666667,
          279.53333333333336,
          100.91666666666667,
          139.1904761904762,
          228.58333333333334,
          84.5,
          95.53333333333333,
          149.73809523809524,
          108.38461538461539,
          274.125,
          72.625,
          297.0833333333333,
          104.6,
          107.55555555555556,
          109.97222222222223,
          199.16666666666666,
          144.66666666666666,
          128.56666666666666,
          67,
          41,
          101.68888888888888
         ],
         "xaxis": "x3",
         "yaxis": "y3"
        }
       ],
       "layout": {
        "annotations": [
         {
          "font": {
           "size": 16
          },
          "showarrow": false,
          "text": "Good",
          "x": 0.225,
          "xanchor": "center",
          "xref": "paper",
          "y": 1,
          "yanchor": "bottom",
          "yref": "paper"
         },
         {
          "font": {
           "size": 16
          },
          "showarrow": false,
          "text": "Bad",
          "x": 0.775,
          "xanchor": "center",
          "xref": "paper",
          "y": 1,
          "yanchor": "bottom",
          "yref": "paper"
         },
         {
          "font": {
           "size": 16
          },
          "showarrow": false,
          "text": "General Distribuition",
          "x": 0.5,
          "xanchor": "center",
          "xref": "paper",
          "y": 0.375,
          "yanchor": "bottom",
          "yref": "paper"
         }
        ],
        "bargap": 0.05,
        "showlegend": true,
        "template": {
         "data": {
          "bar": [
           {
            "error_x": {
             "color": "#2a3f5f"
            },
            "error_y": {
             "color": "#2a3f5f"
            },
            "marker": {
             "line": {
              "color": "#E5ECF6",
              "width": 0.5
             }
            },
            "type": "bar"
           }
          ],
          "barpolar": [
           {
            "marker": {
             "line": {
              "color": "#E5ECF6",
              "width": 0.5
             }
            },
            "type": "barpolar"
           }
          ],
          "carpet": [
           {
            "aaxis": {
             "endlinecolor": "#2a3f5f",
             "gridcolor": "white",
             "linecolor": "white",
             "minorgridcolor": "white",
             "startlinecolor": "#2a3f5f"
            },
            "baxis": {
             "endlinecolor": "#2a3f5f",
             "gridcolor": "white",
             "linecolor": "white",
             "minorgridcolor": "white",
             "startlinecolor": "#2a3f5f"
            },
            "type": "carpet"
           }
          ],
          "choropleth": [
           {
            "colorbar": {
             "outlinewidth": 0,
             "ticks": ""
            },
            "type": "choropleth"
           }
          ],
          "contour": [
           {
            "colorbar": {
             "outlinewidth": 0,
             "ticks": ""
            },
            "colorscale": [
             [
              0,
              "#0d0887"
             ],
             [
              0.1111111111111111,
              "#46039f"
             ],
             [
              0.2222222222222222,
              "#7201a8"
             ],
             [
              0.3333333333333333,
              "#9c179e"
             ],
             [
              0.4444444444444444,
              "#bd3786"
             ],
             [
              0.5555555555555556,
              "#d8576b"
             ],
             [
              0.6666666666666666,
              "#ed7953"
             ],
             [
              0.7777777777777778,
              "#fb9f3a"
             ],
             [
              0.8888888888888888,
              "#fdca26"
             ],
             [
              1,
              "#f0f921"
             ]
            ],
            "type": "contour"
           }
          ],
          "contourcarpet": [
           {
            "colorbar": {
             "outlinewidth": 0,
             "ticks": ""
            },
            "type": "contourcarpet"
           }
          ],
          "heatmap": [
           {
            "colorbar": {
             "outlinewidth": 0,
             "ticks": ""
            },
            "colorscale": [
             [
              0,
              "#0d0887"
             ],
             [
              0.1111111111111111,
              "#46039f"
             ],
             [
              0.2222222222222222,
              "#7201a8"
             ],
             [
              0.3333333333333333,
              "#9c179e"
             ],
             [
              0.4444444444444444,
              "#bd3786"
             ],
             [
              0.5555555555555556,
              "#d8576b"
             ],
             [
              0.6666666666666666,
              "#ed7953"
             ],
             [
              0.7777777777777778,
              "#fb9f3a"
             ],
             [
              0.8888888888888888,
              "#fdca26"
             ],
             [
              1,
              "#f0f921"
             ]
            ],
            "type": "heatmap"
           }
          ],
          "heatmapgl": [
           {
            "colorbar": {
             "outlinewidth": 0,
             "ticks": ""
            },
            "colorscale": [
             [
              0,
              "#0d0887"
             ],
             [
              0.1111111111111111,
              "#46039f"
             ],
             [
              0.2222222222222222,
              "#7201a8"
             ],
             [
              0.3333333333333333,
              "#9c179e"
             ],
             [
              0.4444444444444444,
              "#bd3786"
             ],
             [
              0.5555555555555556,
              "#d8576b"
             ],
             [
              0.6666666666666666,
              "#ed7953"
             ],
             [
              0.7777777777777778,
              "#fb9f3a"
             ],
             [
              0.8888888888888888,
              "#fdca26"
             ],
             [
              1,
              "#f0f921"
             ]
            ],
            "type": "heatmapgl"
           }
          ],
          "histogram": [
           {
            "marker": {
             "colorbar": {
              "outlinewidth": 0,
              "ticks": ""
             }
            },
            "type": "histogram"
           }
          ],
          "histogram2d": [
           {
            "colorbar": {
             "outlinewidth": 0,
             "ticks": ""
            },
            "colorscale": [
             [
              0,
              "#0d0887"
             ],
             [
              0.1111111111111111,
              "#46039f"
             ],
             [
              0.2222222222222222,
              "#7201a8"
             ],
             [
              0.3333333333333333,
              "#9c179e"
             ],
             [
              0.4444444444444444,
              "#bd3786"
             ],
             [
              0.5555555555555556,
              "#d8576b"
             ],
             [
              0.6666666666666666,
              "#ed7953"
             ],
             [
              0.7777777777777778,
              "#fb9f3a"
             ],
             [
              0.8888888888888888,
              "#fdca26"
             ],
             [
              1,
              "#f0f921"
             ]
            ],
            "type": "histogram2d"
           }
          ],
          "histogram2dcontour": [
           {
            "colorbar": {
             "outlinewidth": 0,
             "ticks": ""
            },
            "colorscale": [
             [
              0,
              "#0d0887"
             ],
             [
              0.1111111111111111,
              "#46039f"
             ],
             [
              0.2222222222222222,
              "#7201a8"
             ],
             [
              0.3333333333333333,
              "#9c179e"
             ],
             [
              0.4444444444444444,
              "#bd3786"
             ],
             [
              0.5555555555555556,
              "#d8576b"
             ],
             [
              0.6666666666666666,
              "#ed7953"
             ],
             [
              0.7777777777777778,
              "#fb9f3a"
             ],
             [
              0.8888888888888888,
              "#fdca26"
             ],
             [
              1,
              "#f0f921"
             ]
            ],
            "type": "histogram2dcontour"
           }
          ],
          "mesh3d": [
           {
            "colorbar": {
             "outlinewidth": 0,
             "ticks": ""
            },
            "type": "mesh3d"
           }
          ],
          "parcoords": [
           {
            "line": {
             "colorbar": {
              "outlinewidth": 0,
              "ticks": ""
             }
            },
            "type": "parcoords"
           }
          ],
          "scatter": [
           {
            "marker": {
             "colorbar": {
              "outlinewidth": 0,
              "ticks": ""
             }
            },
            "type": "scatter"
           }
          ],
          "scatter3d": [
           {
            "line": {
             "colorbar": {
              "outlinewidth": 0,
              "ticks": ""
             }
            },
            "marker": {
             "colorbar": {
              "outlinewidth": 0,
              "ticks": ""
             }
            },
            "type": "scatter3d"
           }
          ],
          "scattercarpet": [
           {
            "marker": {
             "colorbar": {
              "outlinewidth": 0,
              "ticks": ""
             }
            },
            "type": "scattercarpet"
           }
          ],
          "scattergeo": [
           {
            "marker": {
             "colorbar": {
              "outlinewidth": 0,
              "ticks": ""
             }
            },
            "type": "scattergeo"
           }
          ],
          "scattergl": [
           {
            "marker": {
             "colorbar": {
              "outlinewidth": 0,
              "ticks": ""
             }
            },
            "type": "scattergl"
           }
          ],
          "scattermapbox": [
           {
            "marker": {
             "colorbar": {
              "outlinewidth": 0,
              "ticks": ""
             }
            },
            "type": "scattermapbox"
           }
          ],
          "scatterpolar": [
           {
            "marker": {
             "colorbar": {
              "outlinewidth": 0,
              "ticks": ""
             }
            },
            "type": "scatterpolar"
           }
          ],
          "scatterpolargl": [
           {
            "marker": {
             "colorbar": {
              "outlinewidth": 0,
              "ticks": ""
             }
            },
            "type": "scatterpolargl"
           }
          ],
          "scatterternary": [
           {
            "marker": {
             "colorbar": {
              "outlinewidth": 0,
              "ticks": ""
             }
            },
            "type": "scatterternary"
           }
          ],
          "surface": [
           {
            "colorbar": {
             "outlinewidth": 0,
             "ticks": ""
            },
            "colorscale": [
             [
              0,
              "#0d0887"
             ],
             [
              0.1111111111111111,
              "#46039f"
             ],
             [
              0.2222222222222222,
              "#7201a8"
             ],
             [
              0.3333333333333333,
              "#9c179e"
             ],
             [
              0.4444444444444444,
              "#bd3786"
             ],
             [
              0.5555555555555556,
              "#d8576b"
             ],
             [
              0.6666666666666666,
              "#ed7953"
             ],
             [
              0.7777777777777778,
              "#fb9f3a"
             ],
             [
              0.8888888888888888,
              "#fdca26"
             ],
             [
              1,
              "#f0f921"
             ]
            ],
            "type": "surface"
           }
          ],
          "table": [
           {
            "cells": {
             "fill": {
              "color": "#EBF0F8"
             },
             "line": {
              "color": "white"
             }
            },
            "header": {
             "fill": {
              "color": "#C8D4E3"
             },
             "line": {
              "color": "white"
             }
            },
            "type": "table"
           }
          ]
         },
         "layout": {
          "annotationdefaults": {
           "arrowcolor": "#2a3f5f",
           "arrowhead": 0,
           "arrowwidth": 1
          },
          "colorscale": {
           "diverging": [
            [
             0,
             "#8e0152"
            ],
            [
             0.1,
             "#c51b7d"
            ],
            [
             0.2,
             "#de77ae"
            ],
            [
             0.3,
             "#f1b6da"
            ],
            [
             0.4,
             "#fde0ef"
            ],
            [
             0.5,
             "#f7f7f7"
            ],
            [
             0.6,
             "#e6f5d0"
            ],
            [
             0.7,
             "#b8e186"
            ],
            [
             0.8,
             "#7fbc41"
            ],
            [
             0.9,
             "#4d9221"
            ],
            [
             1,
             "#276419"
            ]
           ],
           "sequential": [
            [
             0,
             "#0d0887"
            ],
            [
             0.1111111111111111,
             "#46039f"
            ],
            [
             0.2222222222222222,
             "#7201a8"
            ],
            [
             0.3333333333333333,
             "#9c179e"
            ],
            [
             0.4444444444444444,
             "#bd3786"
            ],
            [
             0.5555555555555556,
             "#d8576b"
            ],
            [
             0.6666666666666666,
             "#ed7953"
            ],
            [
             0.7777777777777778,
             "#fb9f3a"
            ],
            [
             0.8888888888888888,
             "#fdca26"
            ],
            [
             1,
             "#f0f921"
            ]
           ],
           "sequentialminus": [
            [
             0,
             "#0d0887"
            ],
            [
             0.1111111111111111,
             "#46039f"
            ],
            [
             0.2222222222222222,
             "#7201a8"
            ],
            [
             0.3333333333333333,
             "#9c179e"
            ],
            [
             0.4444444444444444,
             "#bd3786"
            ],
            [
             0.5555555555555556,
             "#d8576b"
            ],
            [
             0.6666666666666666,
             "#ed7953"
            ],
            [
             0.7777777777777778,
             "#fb9f3a"
            ],
            [
             0.8888888888888888,
             "#fdca26"
            ],
            [
             1,
             "#f0f921"
            ]
           ]
          },
          "colorway": [
           "#636efa",
           "#EF553B",
           "#00cc96",
           "#ab63fa",
           "#FFA15A",
           "#19d3f3",
           "#FF6692",
           "#B6E880",
           "#FF97FF",
           "#FECB52"
          ],
          "font": {
           "color": "#2a3f5f"
          },
          "geo": {
           "bgcolor": "white",
           "lakecolor": "white",
           "landcolor": "#E5ECF6",
           "showlakes": true,
           "showland": true,
           "subunitcolor": "white"
          },
          "hoverlabel": {
           "align": "left"
          },
          "hovermode": "closest",
          "mapbox": {
           "style": "light"
          },
          "paper_bgcolor": "white",
          "plot_bgcolor": "#E5ECF6",
          "polar": {
           "angularaxis": {
            "gridcolor": "white",
            "linecolor": "white",
            "ticks": ""
           },
           "bgcolor": "#E5ECF6",
           "radialaxis": {
            "gridcolor": "white",
            "linecolor": "white",
            "ticks": ""
           }
          },
          "scene": {
           "xaxis": {
            "backgroundcolor": "#E5ECF6",
            "gridcolor": "white",
            "gridwidth": 2,
            "linecolor": "white",
            "showbackground": true,
            "ticks": "",
            "zerolinecolor": "white"
           },
           "yaxis": {
            "backgroundcolor": "#E5ECF6",
            "gridcolor": "white",
            "gridwidth": 2,
            "linecolor": "white",
            "showbackground": true,
            "ticks": "",
            "zerolinecolor": "white"
           },
           "zaxis": {
            "backgroundcolor": "#E5ECF6",
            "gridcolor": "white",
            "gridwidth": 2,
            "linecolor": "white",
            "showbackground": true,
            "ticks": "",
            "zerolinecolor": "white"
           }
          },
          "shapedefaults": {
           "line": {
            "color": "#2a3f5f"
           }
          },
          "ternary": {
           "aaxis": {
            "gridcolor": "white",
            "linecolor": "white",
            "ticks": ""
           },
           "baxis": {
            "gridcolor": "white",
            "linecolor": "white",
            "ticks": ""
           },
           "bgcolor": "#E5ECF6",
           "caxis": {
            "gridcolor": "white",
            "linecolor": "white",
            "ticks": ""
           }
          },
          "title": {
           "x": 0.05
          },
          "xaxis": {
           "automargin": true,
           "gridcolor": "white",
           "linecolor": "white",
           "ticks": "",
           "zerolinecolor": "white",
           "zerolinewidth": 2
          },
          "yaxis": {
           "automargin": true,
           "gridcolor": "white",
           "linecolor": "white",
           "ticks": "",
           "zerolinecolor": "white",
           "zerolinewidth": 2
          }
         }
        },
        "title": {
         "text": "Installment Distribuition"
        },
        "xaxis": {
         "anchor": "y",
         "domain": [
          0,
          0.45
         ]
        },
        "xaxis2": {
         "anchor": "y2",
         "domain": [
          0.55,
          1
         ]
        },
        "xaxis3": {
         "anchor": "y3",
         "domain": [
          0,
          1
         ]
        },
        "yaxis": {
         "anchor": "x",
         "domain": [
          0.625,
          1
         ]
        },
        "yaxis2": {
         "anchor": "x2",
         "domain": [
          0.625,
          1
         ]
        },
        "yaxis3": {
         "anchor": "x3",
         "domain": [
          0,
          0.375
         ]
        }
       }
      },
      "text/html": [
       "<div>\n",
       "        \n",
       "        \n",
       "            <div id=\"6f0eb5e4-fc4d-4a9a-9f9b-ecbfc8d12c78\" class=\"plotly-graph-div\" style=\"height:525px; width:100%;\"></div>\n",
       "            <script type=\"text/javascript\">\n",
       "                require([\"plotly\"], function(Plotly) {\n",
       "                    window.PLOTLYENV=window.PLOTLYENV || {};\n",
       "                    \n",
       "                if (document.getElementById(\"6f0eb5e4-fc4d-4a9a-9f9b-ecbfc8d12c78\")) {\n",
       "                    Plotly.newPlot(\n",
       "                        '6f0eb5e4-fc4d-4a9a-9f9b-ecbfc8d12c78',\n",
       "                        [{\"histnorm\": \"probability\", \"name\": \"Good Credit\", \"type\": \"histogram\", \"x\": [25.25, 26.133333333333333, 27.19047619047619, 28.25, 29.875, 30.666666666666668, 32.083333333333336, 34.083333333333336, 34.94444444444444, 38.708333333333336, 39.041666666666664, 41.625, 41.666666666666664, 43.5, 48.111111111111114, 48.75, 50.041666666666664, 50.888888888888886, 51.291666666666664, 51.5, 52.041666666666664, 52.083333333333336, 52.416666666666664, 52.416666666666664, 53.125, 53.25, 53.333333333333336, 53.625, 53.733333333333334, 54.333333333333336, 54.625, 56.333333333333336, 56.833333333333336, 57.111111111111114, 57.166666666666664, 57.166666666666664, 57.285714285714285, 57.3125, 57.333333333333336, 57.375, 57.583333333333336, 58.041666666666664, 58.266666666666666, 58.27777777777778, 58.31818181818182, 58.416666666666664, 58.416666666666664, 58.611111111111114, 58.875, 58.916666666666664, 59.0, 59.75, 60.333333333333336, 61.0, 61.208333333333336, 61.333333333333336, 61.416666666666664, 61.833333333333336, 62.233333333333334, 62.55555555555556, 62.833333333333336, 63.138888888888886, 63.166666666666664, 63.541666666666664, 63.583333333333336, 63.833333333333336, 63.861111111111114, 63.875, 64.0, 64.52777777777777, 64.66666666666667, 64.66666666666667, 64.70833333333333, 64.91666666666667, 64.94444444444444, 64.95833333333333, 65.0, 65.22222222222223, 65.87179487179488, 66.04166666666667, 66.5, 66.54166666666667, 66.79166666666667, 67.0, 67.84615384615384, 68.83333333333333, 70.08333333333333, 70.2, 71.0, 71.33333333333333, 71.94444444444444, 72.27777777777777, 72.58333333333333, 72.625, 72.7, 72.7, 72.79166666666667, 73.125, 73.4375, 73.83333333333333, 74.29166666666667, 74.54166666666667, 74.85714285714286, 75.1875, 75.66666666666667, 75.76190476190476, 76.28571428571429, 77.125, 77.16666666666667, 77.5, 77.76666666666667, 78.1, 79.20833333333333, 79.5, 79.83333333333333, 80.20833333333333, 80.27777777777777, 80.29166666666667, 80.66666666666667, 80.72222222222223, 80.80952380952381, 80.83333333333333, 80.86666666666666, 81.33333333333333, 81.83333333333333, 81.875, 81.91666666666667, 81.95833333333333, 82.89583333333333, 83.0, 83.43333333333334, 83.61111111111111, 83.75757575757575, 83.91666666666667, 84.06666666666666, 84.13333333333334, 84.25, 84.5, 84.66666666666667, 85.52777777777777, 85.75, 86.33333333333333, 86.41666666666667, 86.66666666666667, 87.11111111111111, 87.2, 87.73333333333333, 87.77777777777777, 87.88888888888889, 89.4, 89.66666666666667, 90.25, 90.44444444444444, 90.66666666666667, 91.0, 91.375, 91.54166666666667, 91.75, 91.91666666666667, 92.25, 92.4, 92.625, 92.83333333333333, 93.53333333333333, 93.62962962962963, 93.95833333333333, 94.36666666666666, 95.0, 95.16666666666667, 95.53333333333333, 96.23809523809524, 96.25, 96.26666666666667, 96.5, 96.875, 96.91666666666667, 97.20833333333333, 97.26666666666667, 97.33333333333333, 97.75, 97.96428571428571, 98.06666666666666, 98.19444444444444, 98.33333333333333, 98.53333333333333, 98.53333333333333, 98.75, 98.95833333333333, 99.33333333333333, 99.7, 99.72222222222223, 99.75, 99.86111111111111, 100.0, 100.0, 100.55555555555556, 100.56666666666666, 100.71428571428571, 100.93333333333334, 100.94444444444444, 101.0, 101.11111111111111, 101.33333333333333, 101.5, 101.68888888888888, 102.13333333333334, 102.46666666666667, 102.56666666666666, 102.625, 103.08333333333333, 103.33333333333333, 103.45833333333333, 103.8, 104.0, 104.28571428571429, 104.44444444444444, 104.58333333333333, 104.6, 104.8, 104.83333333333333, 104.83333333333333, 104.9090909090909, 105.16666666666667, 105.16666666666667, 105.33333333333333, 106.27777777777777, 106.52777777777777, 106.71428571428571, 107.41666666666667, 107.41666666666667, 107.55555555555556, 107.58333333333333, 107.77777777777777, 107.83333333333333, 108.08333333333333, 108.33333333333333, 108.38461538461539, 108.45833333333333, 108.69444444444444, 108.78333333333333, 108.79166666666667, 108.94444444444444, 108.95238095238095, 109.83333333333333, 109.97222222222223, 110.0, 110.22222222222223, 110.33333333333333, 110.6, 110.83333333333333, 110.83333333333333, 111.0, 111.25, 111.625, 111.83333333333333, 112.0, 112.0, 112.04761904761905, 112.10416666666667, 113.375, 113.83333333333333, 113.94444444444444, 114.19047619047619, 114.73333333333333, 115.0, 116.08333333333333, 116.53333333333333, 116.66666666666667, 116.83333333333333, 117.16666666666667, 117.41666666666667, 117.5, 117.66666666666667, 117.70833333333333, 117.75, 117.83333333333333, 117.9047619047619, 118.125, 118.16666666666667, 118.66666666666667, 118.66666666666667, 119.66666666666667, 120.18181818181819, 120.22222222222223, 120.5, 120.66666666666667, 120.73333333333333, 120.85714285714286, 121.25, 121.5909090909091, 121.83333333333333, 121.86666666666666, 121.93333333333334, 122.5, 122.83333333333333, 123.0, 123.1, 123.20833333333333, 123.33333333333333, 123.5, 123.63333333333334, 123.72222222222223, 124.08333333333333, 124.0952380952381, 124.25, 124.33333333333333, 124.41666666666667, 124.58333333333333, 124.83333333333333, 124.94444444444444, 125.11111111111111, 125.25, 125.5, 125.875, 126.44444444444444, 126.51851851851852, 126.63636363636364, 127.0, 127.16666666666667, 127.29166666666667, 127.5, 127.58333333333333, 127.73333333333333, 127.875, 128.22222222222223, 128.5, 128.56666666666666, 128.7, 128.88888888888889, 129.375, 130.16666666666666, 130.5, 130.58333333333334, 130.71428571428572, 131.16666666666666, 131.16666666666666, 131.20833333333334, 131.45, 131.93333333333334, 132.47619047619048, 132.54166666666666, 132.66666666666666, 132.72222222222223, 133.19444444444446, 133.22222222222223, 133.55555555555554, 134.0, 134.7, 134.79166666666666, 134.83333333333334, 135.0, 136.0, 136.4, 137.33333333333334, 137.91666666666666, 138.08333333333334, 138.22222222222223, 138.23076923076923, 139.1875, 139.1904761904762, 139.72222222222223, 140.0, 140.7, 141.76190476190476, 141.8, 142.4, 142.52380952380952, 142.91666666666666, 143.11111111111111, 143.33333333333334, 143.36363636363637, 144.66666666666666, 145.33333333333334, 145.5, 145.66666666666666, 145.73333333333332, 145.88888888888889, 146.33333333333334, 147.33333333333334, 147.72222222222223, 147.88888888888889, 148.06666666666666, 149.19444444444446, 149.73809523809524, 150.25, 150.33333333333334, 150.47619047619048, 150.70833333333334, 150.79166666666666, 151.0, 151.33333333333334, 151.55555555555554, 152.1, 152.5, 152.58333333333334, 152.61666666666667, 152.76666666666668, 154.22222222222223, 154.38888888888889, 154.55555555555554, 154.6, 154.83333333333334, 155.0, 155.06666666666666, 155.33333333333334, 155.33333333333334, 155.75, 155.95238095238096, 156.20833333333334, 156.54166666666666, 156.58333333333334, 156.75, 157.0, 157.33333333333334, 157.375, 157.75, 157.95833333333334, 158.63888888888889, 158.9375, 159.5, 159.7, 159.85714285714286, 160.36666666666667, 160.95833333333334, 161.0, 161.05555555555554, 161.11111111111111, 161.16666666666666, 161.16666666666666, 161.25, 161.58333333333334, 161.6153846153846, 162.27777777777777, 162.44444444444446, 163.58333333333334, 165.5, 166.25, 166.72222222222223, 166.83333333333334, 167.4, 167.5, 167.62962962962962, 167.66666666666666, 168.41666666666666, 169.0, 169.06666666666666, 169.38888888888889, 170.61904761904762, 171.38095238095238, 172.11111111111111, 172.44444444444446, 172.45833333333334, 172.75, 172.76666666666668, 172.95833333333334, 173.70833333333334, 173.9047619047619, 174.125, 174.25, 174.5, 174.66666666666666, 174.74074074074073, 175.0, 175.11111111111111, 175.4, 176.75, 176.75, 176.8125, 176.83333333333334, 177.75, 178.0, 178.41666666666666, 178.5, 179.13333333333333, 179.1904761904762, 179.38888888888889, 180.22222222222223, 180.53333333333333, 180.91666666666666, 180.91666666666666, 181.29166666666666, 181.86666666666667, 183.72222222222223, 184.5, 184.54166666666666, 185.86666666666667, 187.25, 187.58333333333334, 187.66666666666666, 187.66666666666666, 188.58333333333334, 189.33333333333334, 189.5185185185185, 189.91666666666666, 190.11111111111111, 192.22222222222223, 192.36666666666667, 192.4, 193.0, 194.25, 194.72727272727272, 194.83333333333334, 194.94444444444446, 194.95833333333334, 196.33333333333334, 197.16666666666666, 198.46666666666667, 199.16666666666666, 199.44444444444446, 200.5, 200.66666666666666, 200.66666666666666, 201.93333333333334, 202.77777777777777, 203.5, 203.75, 205.80555555555554, 206.0, 206.16666666666666, 206.23333333333332, 206.33333333333334, 206.44444444444446, 206.9, 210.0, 211.83333333333334, 212.4, 212.625, 212.95833333333334, 213.2, 213.22222222222223, 213.27777777777777, 213.6, 213.88888888888889, 214.58333333333334, 214.6, 214.66666666666666, 214.75, 214.83333333333334, 215.11111111111111, 216.5, 219.78787878787878, 220.2051282051282, 220.5, 220.92592592592592, 221.02380952380952, 222.86666666666667, 223.0, 223.83333333333334, 224.1, 224.33333333333334, 224.53333333333333, 224.73333333333332, 225.33333333333334, 225.55555555555554, 225.91666666666666, 226.375, 226.83333333333334, 228.12765957446808, 229.0, 229.0, 229.0, 229.26666666666668, 229.45833333333334, 229.625, 229.91666666666666, 230.33333333333334, 231.5, 235.33333333333334, 237.06666666666666, 237.11111111111111, 237.33333333333334, 237.86666666666667, 238.25, 239.29166666666666, 239.6, 241.5, 241.83333333333334, 242.86666666666667, 243.33333333333334, 244.16666666666666, 246.61111111111111, 248.52777777777777, 249.9047619047619, 251.33333333333334, 251.41666666666666, 251.52777777777777, 253.2, 253.52083333333334, 254.13333333333333, 254.25, 254.91666666666666, 255.22222222222223, 255.66666666666666, 256.3333333333333, 256.4166666666667, 257.1666666666667, 259.0, 260.3333333333333, 260.8833333333333, 263.0416666666667, 263.0833333333333, 265.6041666666667, 265.72222222222223, 265.8333333333333, 266.7916666666667, 267.3333333333333, 267.4583333333333, 269.06666666666666, 273.6666666666667, 273.80555555555554, 274.125, 275.625, 277.5833333333333, 278.55555555555554, 279.42857142857144, 283.25, 283.7857142857143, 284.8, 285.0833333333333, 287.25, 290.0, 290.1, 290.2916666666667, 290.5, 291.02777777777777, 291.6666666666667, 293.9166666666667, 294.3333333333333, 294.55555555555554, 297.0833333333333, 297.75, 299.1666666666667, 299.6666666666667, 301.4166666666667, 301.53846153846155, 302.0833333333333, 304.25, 305.8888888888889, 306.38461538461536, 307.05555555555554, 307.4, 308.0416666666667, 310.46666666666664, 311.0, 312.0, 316.3333333333333, 319.0, 321.7083333333333, 323.25, 323.4, 325.5833333333333, 325.8888888888889, 326.1666666666667, 332.7142857142857, 336.3333333333333, 337.22222222222223, 341.55555555555554, 343.8333333333333, 344.6666666666667, 345.0, 346.6666666666667, 347.77777777777777, 351.3333333333333, 352.6666666666667, 352.85, 353.3888888888889, 354.1, 354.93333333333334, 355.0, 355.0, 358.09090909090907, 363.56410256410254, 363.75, 368.0, 373.5, 375.75, 386.0, 386.5416666666667, 389.5833333333333, 394.9, 397.44444444444446, 409.6666666666667, 424.75, 425.77777777777777, 433.72727272727275, 440.47222222222223, 441.1666666666667, 470.6111111111111, 483.4166666666667, 496.3333333333333, 506.5, 586.3333333333334, 612.6666666666666, 622.6666666666666, 657.0909090909091, 689.6, 730.8, 786.0, 845.0, 1126.8333333333333], \"xaxis\": \"x\", \"yaxis\": \"y\"}, {\"histnorm\": \"probability\", \"name\": \"Bad Credit\", \"type\": \"histogram\", \"x\": [24.055555555555557, 38.125, 39.458333333333336, 41.0, 41.666666666666664, 42.666666666666664, 49.111111111111114, 49.708333333333336, 49.958333333333336, 50.291666666666664, 50.52777777777778, 50.666666666666664, 50.75, 51.166666666666664, 51.916666666666664, 52.166666666666664, 53.25, 53.416666666666664, 53.46666666666667, 53.541666666666664, 54.22222222222222, 54.25, 54.916666666666664, 55.541666666666664, 56.0, 56.166666666666664, 56.458333333333336, 56.57142857142857, 56.583333333333336, 57.0, 57.083333333333336, 57.125, 57.541666666666664, 57.583333333333336, 57.888888888888886, 58.083333333333336, 58.666666666666664, 59.083333333333336, 59.583333333333336, 59.916666666666664, 60.083333333333336, 60.583333333333336, 61.75, 61.80555555555556, 62.833333333333336, 63.25, 63.333333333333336, 63.5625, 63.6, 63.75, 63.833333333333336, 63.94444444444444, 63.96666666666667, 64.41666666666667, 66.11111111111111, 66.22222222222223, 66.25, 66.41666666666667, 67.35555555555555, 67.55555555555556, 67.61111111111111, 69.125, 69.16666666666667, 69.66666666666667, 71.66666666666667, 72.16666666666667, 72.66666666666667, 74.0, 74.19444444444444, 74.66666666666667, 74.72222222222223, 75.0, 75.16666666666667, 75.33333333333333, 75.95833333333333, 76.27777777777777, 76.54166666666667, 77.70833333333333, 78.25, 78.33333333333333, 78.42857142857143, 79.25, 80.08333333333333, 80.11111111111111, 80.2, 80.625, 80.75, 81.54166666666667, 81.89583333333333, 82.77777777777777, 82.79166666666667, 84.26666666666667, 84.73333333333333, 84.95833333333333, 85.0, 85.0, 85.16666666666667, 86.0, 86.27777777777777, 87.38095238095238, 89.75, 90.16666666666667, 92.33333333333333, 93.02777777777777, 93.33333333333333, 93.58333333333333, 94.4047619047619, 95.18518518518519, 95.72222222222223, 95.9375, 95.95833333333333, 98.29166666666667, 99.875, 100.44444444444444, 100.8, 100.91666666666667, 101.625, 101.91666666666667, 102.0, 102.33333333333333, 103.55555555555556, 103.6, 104.04761904761905, 104.55555555555556, 104.8, 105.46666666666667, 105.66666666666667, 105.75, 106.16666666666667, 106.16666666666667, 106.55555555555556, 106.83333333333333, 106.88888888888889, 107.11111111111111, 107.91666666666667, 107.94444444444444, 110.42857142857143, 110.91666666666667, 111.75, 113.25, 113.27777777777777, 113.93333333333334, 114.33333333333333, 114.7, 115.5, 116.66666666666667, 116.94444444444444, 118.0, 118.53333333333333, 120.5, 121.61666666666666, 122.85714285714286, 123.46666666666667, 123.66666666666667, 123.75, 123.97222222222223, 123.97916666666667, 124.0, 124.83333333333333, 126.22222222222223, 126.48717948717949, 126.55555555555556, 127.83333333333333, 127.97916666666667, 128.83333333333334, 129.58333333333334, 129.66666666666666, 129.72727272727272, 130.125, 130.9, 131.70833333333334, 131.76190476190476, 131.89583333333334, 133.66666666666666, 134.75, 136.66666666666666, 136.77777777777777, 137.38888888888889, 139.375, 139.54166666666666, 140.79166666666666, 141.63333333333333, 142.66666666666666, 143.07142857142858, 143.86111111111111, 144.44444444444446, 145.0, 145.8125, 148.0, 148.3125, 148.55555555555554, 149.95, 150.875, 151.77777777777777, 154.16666666666666, 154.625, 155.13333333333333, 155.16666666666666, 158.0, 159.11111111111111, 159.66666666666666, 160.10416666666666, 160.16666666666666, 161.72916666666666, 162.57142857142858, 164.0625, 164.22222222222223, 166.77777777777777, 169.04166666666666, 170.8095238095238, 171.25, 171.375, 173.0, 173.02777777777777, 174.46666666666667, 175.4, 176.70833333333334, 177.22222222222223, 179.08333333333334, 185.55555555555554, 187.16666666666666, 191.0, 191.29166666666666, 191.30555555555554, 196.03703703703704, 197.33333333333334, 197.97222222222223, 199.66666666666666, 200.70833333333334, 201.5, 202.91666666666666, 207.5, 210.97916666666666, 211.66666666666666, 214.52083333333334, 214.91666666666666, 218.19444444444446, 220.0, 220.33333333333334, 221.0, 221.66666666666666, 224.02777777777777, 224.61111111111111, 228.35416666666666, 228.58333333333334, 230.16666666666666, 230.72222222222223, 231.38888888888889, 231.52777777777777, 233.78333333333333, 238.23809523809524, 238.72222222222223, 241.45833333333334, 246.36666666666667, 247.41666666666666, 247.625, 249.5, 250.94444444444446, 257.52777777777777, 261.05555555555554, 262.5777777777778, 263.93333333333334, 265.8888888888889, 267.47222222222223, 279.53333333333336, 282.1666666666667, 286.3333333333333, 291.5833333333333, 295.27777777777777, 300.4375, 304.8333333333333, 308.0740740740741, 308.2, 326.5, 344.1388888888889, 350.3333333333333, 358.77777777777777, 360.3333333333333, 375.6111111111111, 383.8333333333333, 397.72222222222223, 399.93333333333334, 403.5833333333333, 417.27777777777777, 456.6666666666667, 472.0, 481.6666666666667, 497.4166666666667, 516.5833333333334, 524.125, 539.0, 564.0, 569.8888888888889, 603.8095238095239, 641.2857142857143, 655.4166666666666, 720.8888888888889, 768.5, 2425.8333333333335, 2482.6666666666665], \"xaxis\": \"x2\", \"yaxis\": \"y2\"}, {\"histnorm\": \"probability\", \"name\": \"Overall Installment\", \"type\": \"histogram\", \"x\": [194.83333333333334, 123.97916666666667, 174.66666666666666, 187.66666666666666, 202.91666666666666, 251.52777777777777, 118.125, 193.0, 254.91666666666666, 174.46666666666667, 107.91666666666667, 89.75, 130.58333333333334, 49.958333333333336, 93.53333333333333, 53.416666666666664, 101.0, 269.06666666666666, 524.125, 142.91666666666666, 237.11111111111111, 441.1666666666667, 224.1, 150.33333333333334, 206.9, 229.0, 71.0, 34.083333333333336, 345.0, 113.93333333333334, 106.27777777777777, 167.5, 325.8888888888889, 105.33333333333333, 122.83333333333333, 105.46666666666667, 127.29166666666667, 116.66666666666667, 122.5, 50.888888888888886, 77.76666666666667, 96.5, 344.6666666666667, 206.23333333333332, 127.97916666666667, 126.63636363636364, 63.861111111111114, 225.33333333333334, 657.0909090909091, 172.75, 97.20833333333333, 220.92592592592592, 105.16666666666667, 187.66666666666666, 61.80555555555556, 130.5, 539.0, 265.72222222222223, 108.94444444444444, 173.02777777777777, 154.55555555555554, 102.46666666666667, 54.25, 300.4375, 132.54166666666666, 192.22222222222223, 180.91666666666666, 83.91666666666667, 50.52777777777778, 66.5, 225.91666666666666, 104.28571428571429, 145.5, 141.76190476190476, 54.916666666666664, 127.16666666666667, 94.4047619047619, 433.72727272727275, 174.74074074074073, 127.73333333333333, 247.625, 80.86666666666666, 87.11111111111111, 73.125, 231.5, 117.66666666666667, 71.94444444444444, 350.3333333333333, 124.94444444444444, 92.33333333333333, 51.5, 117.41666666666667, 66.41666666666667, 150.70833333333334, 109.83333333333333, 295.27777777777777, 167.66666666666666, 145.66666666666666, 64.91666666666667, 352.85, 61.208333333333336, 64.52777777777777, 155.33333333333334, 213.22222222222223, 203.75, 497.4166666666667, 358.77777777777777, 506.5, 321.7083333333333, 100.71428571428571, 241.5, 26.133333333333333, 347.77777777777777, 218.19444444444446, 140.0, 74.54166666666667, 170.8095238095238, 213.2, 129.72727272727272, 197.16666666666666, 87.38095238095238, 161.16666666666666, 147.33333333333334, 78.1, 106.88888888888889, 176.75, 58.416666666666664, 53.25, 155.0, 291.5833333333333, 176.8125, 191.30555555555554, 180.53333333333333, 110.22222222222223, 169.06666666666666, 103.33333333333333, 319.0, 63.833333333333336, 181.86666666666667, 156.75, 118.16666666666667, 133.19444444444446, 126.51851851851852, 136.77777777777777, 108.95238095238095, 74.29166666666667, 143.33333333333334, 56.833333333333336, 149.19444444444446, 87.88888888888889, 224.33333333333334, 192.4, 162.44444444444446, 323.25, 290.2916666666667, 106.83333333333333, 143.11111111111111, 28.25, 146.33333333333334, 316.3333333333333, 119.66666666666667, 58.611111111111114, 84.13333333333334, 730.8, 25.25, 496.3333333333333, 62.833333333333336, 143.36363636363637, 165.5, 80.625, 63.333333333333336, 63.583333333333336, 86.0, 176.75, 162.57142857142858, 249.5, 214.75, 56.333333333333336, 163.58333333333334, 27.19047619047619, 265.8888888888889, 123.75, 78.42857142857143, 157.375, 49.111111111111114, 90.66666666666667, 569.8888888888889, 73.4375, 56.166666666666664, 180.22222222222223, 191.29166666666666, 80.08333333333333, 145.0, 351.3333333333333, 67.35555555555555, 166.77777777777777, 230.33333333333334, 79.25, 115.0, 238.72222222222223, 104.0, 97.33333333333333, 189.5185185185185, 75.16666666666667, 124.58333333333333, 354.1, 161.25, 118.66666666666667, 273.6666666666667, 117.75, 341.55555555555554, 106.52777777777777, 196.03703703703704, 63.6, 92.83333333333333, 155.33333333333334, 172.44444444444446, 108.69444444444444, 125.875, 136.4, 52.083333333333336, 100.0, 58.916666666666664, 124.08333333333333, 310.46666666666664, 72.58333333333333, 228.35416666666666, 655.4166666666666, 164.22222222222223, 131.20833333333334, 116.94444444444444, 278.55555555555554, 178.41666666666666, 48.111111111111114, 386.0, 75.95833333333333, 2425.8333333333335, 131.76190476190476, 107.58333333333333, 84.06666666666666, 38.125, 265.8333333333333, 95.9375, 98.75, 287.25, 52.416666666666664, 59.75, 200.66666666666666, 80.20833333333333, 24.055555555555557, 111.0, 187.58333333333334, 71.66666666666667, 172.95833333333334, 225.55555555555554, 123.63333333333334, 111.83333333333333, 179.08333333333334, 254.13333333333333, 104.9090909090909, 138.08333333333334, 66.79166666666667, 294.55555555555554, 229.0, 123.1, 53.46666666666667, 175.11111111111111, 63.875, 641.2857142857143, 41.625, 147.88888888888889, 116.83333333333333, 253.52083333333334, 63.75, 399.93333333333334, 299.6666666666667, 133.55555555555554, 105.16666666666667, 768.5, 79.20833333333333, 224.53333333333333, 131.16666666666666, 80.27777777777777, 101.33333333333333, 161.58333333333334, 228.12765957446808, 99.75, 157.95833333333334, 91.0, 42.666666666666664, 89.66666666666667, 261.05555555555554, 267.4583333333333, 114.19047619047619, 158.9375, 207.5, 389.5833333333333, 128.7, 139.72222222222223, 130.71428571428572, 112.0, 105.66666666666667, 56.0, 103.8, 210.97916666666666, 257.1666666666667, 160.36666666666667, 60.583333333333336, 154.625, 30.666666666666668, 112.10416666666667, 229.625, 156.20833333333334, 57.083333333333336, 373.5, 76.27777777777777, 59.0, 181.29166666666666, 58.416666666666664, 242.86666666666667, 141.63333333333333, 80.75, 121.25, 147.72222222222223, 57.111111111111114, 424.75, 483.4166666666667, 63.541666666666664, 124.25, 178.0, 275.625, 103.55555555555556, 123.46666666666667, 241.45833333333334, 171.25, 564.0, 161.6153846153846, 85.0, 173.70833333333334, 152.1, 239.29166666666666, 171.38095238095238, 178.5, 246.61111111111111, 394.9, 97.26666666666667, 67.84615384615384, 156.58333333333334, 290.5, 126.22222222222223, 137.33333333333334, 106.55555555555556, 179.38888888888889, 516.5833333333334, 72.7, 51.916666666666664, 194.25, 123.97222222222223, 64.66666666666667, 80.2, 68.83333333333333, 283.25, 187.25, 294.3333333333333, 137.38888888888889, 128.5, 213.88888888888889, 202.77777777777777, 95.72222222222223, 166.72222222222223, 85.52777777777777, 337.22222222222223, 214.6, 229.26666666666668, 246.36666666666667, 160.10416666666666, 128.88888888888889, 120.85714285714286, 397.72222222222223, 60.333333333333336, 110.6, 720.8888888888889, 58.31818181818182, 110.83333333333333, 142.4, 124.33333333333333, 62.55555555555556, 409.6666666666667, 155.06666666666666, 161.0, 101.11111111111111, 81.91666666666667, 90.25, 326.1666666666667, 267.3333333333333, 301.53846153846155, 214.83333333333334, 65.22222222222223, 101.91666666666667, 63.166666666666664, 81.83333333333333, 104.83333333333333, 360.3333333333333, 57.285714285714285, 161.05555555555554, 84.95833333333333, 91.54166666666667, 70.2, 134.79166666666666, 78.25, 81.95833333333333, 219.78787878787878, 191.0, 159.7, 57.541666666666664, 162.27777777777777, 214.91666666666666, 470.6111111111111, 132.47619047619048, 57.888888888888886, 212.4, 169.0, 79.83333333333333, 75.76190476190476, 230.16666666666666, 154.38888888888889, 97.96428571428571, 63.833333333333336, 145.88888888888889, 66.11111111111111, 689.6, 472.0, 312.0, 85.75, 237.33333333333334, 123.66666666666667, 110.0, 53.625, 80.80952380952381, 50.75, 157.0, 135.0, 131.45, 59.916666666666664, 106.16666666666667, 138.22222222222223, 51.166666666666664, 368.0, 118.66666666666667, 100.8, 307.05555555555554, 86.33333333333333, 229.91666666666666, 111.25, 200.70833333333334, 111.625, 355.0, 282.1666666666667, 57.166666666666664, 255.22222222222223, 100.55555555555556, 114.73333333333333, 251.41666666666666, 62.833333333333336, 108.33333333333333, 121.83333333333333, 69.125, 150.79166666666666, 83.75757575757575, 194.95833333333334, 128.83333333333334, 74.66666666666667, 72.66666666666667, 206.33333333333334, 69.16666666666667, 173.0, 65.87179487179488, 214.66666666666666, 86.41666666666667, 98.53333333333333, 297.75, 50.041666666666664, 120.73333333333333, 64.0, 96.91666666666667, 201.5, 256.4166666666667, 156.54166666666666, 141.8, 586.3333333333334, 161.16666666666666, 308.0740740740741, 206.16666666666666, 61.333333333333336, 176.83333333333334, 124.83333333333333, 250.94444444444446, 66.04166666666667, 72.27777777777777, 220.5, 130.125, 152.58333333333334, 125.11111111111111, 50.666666666666664, 50.291666666666664, 130.9, 157.33333333333334, 456.6666666666667, 58.875, 220.2051282051282, 63.25, 130.16666666666666, 179.13333333333333, 48.75, 93.95833333333333, 101.5, 226.83333333333334, 197.97222222222223, 200.5, 116.66666666666667, 229.45833333333334, 177.22222222222223, 148.3125, 145.33333333333334, 61.833333333333336, 306.38461538461536, 102.13333333333334, 375.75, 63.94444444444444, 110.33333333333333, 63.138888888888886, 175.4, 125.25, 54.625, 129.375, 110.42857142857143, 229.0, 200.66666666666666, 161.72916666666666, 169.38888888888889, 127.83333333333333, 84.66666666666667, 211.66666666666666, 159.11111111111111, 104.58333333333333, 55.541666666666664, 84.25, 64.66666666666667, 52.166666666666664, 184.54166666666666, 83.0, 291.6666666666667, 145.8125, 166.25, 133.22222222222223, 110.91666666666667, 126.55555555555556, 238.23809523809524, 148.0, 107.11111111111111, 123.5, 64.41666666666667, 113.83333333333333, 344.1388888888889, 196.33333333333334, 64.70833333333333, 114.33333333333333, 107.41666666666667, 82.89583333333333, 140.79166666666666, 134.75, 198.46666666666667, 226.375, 53.733333333333334, 120.22222222222223, 185.86666666666667, 244.16666666666666, 80.29166666666667, 78.33333333333333, 39.041666666666664, 58.666666666666664, 260.3333333333333, 154.22222222222223, 66.22222222222223, 177.75, 113.27777777777777, 311.0, 107.41666666666667, 67.61111111111111, 187.16666666666666, 32.083333333333336, 81.875, 74.85714285714286, 113.25, 56.583333333333336, 155.16666666666666, 60.083333333333336, 176.70833333333334, 154.16666666666666, 160.95833333333334, 332.7142857142857, 102.0, 76.54166666666667, 93.02777777777777, 127.5, 117.83333333333333, 188.58333333333334, 74.19444444444444, 113.94444444444444, 86.66666666666667, 61.75, 124.0, 159.85714285714286, 151.33333333333334, 100.44444444444444, 254.25, 152.61666666666667, 612.6666666666666, 114.7, 53.333333333333336, 173.9047619047619, 85.0, 81.54166666666667, 154.83333333333334, 144.44444444444446, 131.93333333333334, 352.6666666666667, 159.66666666666666, 96.23809523809524, 425.77777777777777, 152.5, 86.27777777777777, 96.26666666666667, 220.0, 56.458333333333336, 116.08333333333333, 57.333333333333336, 260.8833333333333, 124.41666666666667, 104.04761904761905, 41.666666666666664, 87.2, 308.2, 77.125, 104.44444444444444, 221.66666666666666, 152.76666666666668, 115.5, 39.458333333333336, 57.0, 155.75, 160.16666666666666, 95.95833333333333, 224.61111111111111, 97.75, 283.7857142857143, 74.0, 212.95833333333334, 140.7, 353.3888888888889, 108.08333333333333, 75.0, 106.71428571428571, 175.0, 174.5, 263.0833333333333, 116.53333333333333, 75.1875, 403.5833333333333, 100.56666666666666, 172.45833333333334, 159.5, 172.76666666666668, 346.6666666666667, 122.85714285714286, 151.0, 214.58333333333334, 77.70833333333333, 99.33333333333333, 80.72222222222223, 256.3333333333333, 189.91666666666666, 98.53333333333333, 212.625, 273.80555555555554, 108.78333333333333, 134.7, 79.5, 305.8888888888889, 304.25, 65.0, 175.4, 120.66666666666667, 786.0, 95.16666666666667, 206.0, 91.91666666666667, 77.16666666666667, 100.0, 127.0, 93.58333333333333, 131.89583333333334, 57.375, 83.43333333333334, 93.62962962962963, 354.93333333333334, 136.66666666666666, 247.41666666666666, 134.0, 235.33333333333334, 34.94444444444444, 199.66666666666666, 117.9047619047619, 126.44444444444444, 233.78333333333333, 253.2, 102.56666666666666, 83.61111111111111, 131.16666666666666, 307.4, 148.55555555555554, 72.16666666666667, 102.33333333333333, 87.77777777777777, 95.18518518518519, 41.666666666666664, 87.73333333333333, 104.55555555555556, 133.66666666666666, 53.125, 266.7916666666667, 82.79166666666667, 95.0, 108.45833333333333, 845.0, 110.83333333333333, 481.6666666666667, 243.33333333333334, 1126.8333333333333, 142.66666666666666, 96.875, 104.8, 150.47619047619048, 103.45833333333333, 363.56410256410254, 138.23076923076923, 167.4, 106.16666666666667, 249.9047619047619, 201.93333333333334, 71.33333333333333, 54.22222222222222, 70.08333333333333, 192.36666666666667, 129.58333333333334, 53.541666666666664, 216.5, 84.73333333333333, 58.041666666666664, 57.583333333333336, 336.3333333333333, 118.0, 184.5, 603.8095238095239, 102.625, 96.25, 103.6, 290.1, 301.4166666666667, 137.91666666666666, 117.16666666666667, 224.02777777777777, 155.95238095238096, 92.625, 123.33333333333333, 57.125, 98.19444444444444, 194.94444444444446, 158.63888888888889, 215.11111111111111, 126.48717948717949, 80.83333333333333, 117.5, 69.66666666666667, 323.4, 107.83333333333333, 121.5909090909091, 57.3125, 129.66666666666666, 149.95, 56.57142857142857, 263.0416666666667, 203.5, 120.5, 127.58333333333333, 255.66666666666666, 417.27777777777777, 104.83333333333333, 29.875, 172.11111111111111, 66.54166666666667, 99.72222222222223, 213.6, 81.33333333333333, 622.6666666666666, 257.52777777777777, 98.33333333333333, 77.5, 221.02380952380952, 118.53333333333333, 113.375, 80.66666666666667, 267.47222222222223, 63.5625, 81.89583333333333, 206.44444444444446, 223.0, 259.0, 440.47222222222223, 74.72222222222223, 91.75, 251.33333333333334, 75.33333333333333, 91.375, 210.0, 76.28571428571429, 220.33333333333334, 231.38888888888889, 231.52777777777777, 139.1875, 98.95833333333333, 67.55555555555556, 262.5777777777778, 211.83333333333334, 155.13333333333333, 90.16666666666667, 73.83333333333333, 150.25, 123.20833333333333, 108.79166666666667, 143.86111111111111, 142.52380952380952, 107.94444444444444, 64.95833333333333, 190.11111111111111, 189.33333333333334, 375.6111111111111, 52.041666666666664, 151.55555555555554, 59.083333333333336, 111.75, 168.41666666666666, 98.06666666666666, 80.11111111111111, 302.0833333333333, 61.416666666666664, 89.4, 222.86666666666667, 263.93333333333334, 397.44444444444446, 241.83333333333334, 120.5, 101.625, 167.62962962962962, 221.0, 148.06666666666666, 132.72222222222223, 277.5833333333333, 205.80555555555554, 54.333333333333336, 213.27777777777777, 223.83333333333334, 57.583333333333336, 58.266666666666666, 299.1666666666667, 120.18181818181819, 107.77777777777777, 99.86111111111111, 158.0, 224.73333333333332, 325.5833333333333, 386.5416666666667, 72.7, 61.0, 169.04166666666666, 66.25, 117.70833333333333, 326.5, 183.72222222222223, 279.42857142857144, 90.44444444444444, 121.93333333333334, 180.91666666666666, 161.11111111111111, 64.94444444444444, 248.52777777777777, 124.0952380952381, 132.66666666666666, 145.73333333333332, 230.72222222222223, 164.0625, 174.25, 291.02777777777777, 92.4, 53.25, 92.25, 179.1904761904762, 103.08333333333333, 239.6, 355.0, 123.72222222222223, 197.33333333333334, 99.7, 194.72727272727272, 131.70833333333334, 383.8333333333333, 284.8, 2482.6666666666665, 98.29166666666667, 139.375, 100.94444444444444, 265.6041666666667, 151.77777777777777, 166.83333333333334, 286.3333333333333, 58.083333333333336, 58.27777777777778, 214.52083333333334, 62.233333333333334, 112.0, 72.79166666666667, 185.55555555555554, 136.0, 43.5, 124.83333333333333, 63.96666666666667, 82.77777777777777, 343.8333333333333, 104.8, 285.0833333333333, 293.9166666666667, 154.6, 38.708333333333336, 363.75, 123.0, 174.125, 139.54166666666666, 238.25, 85.16666666666667, 150.875, 199.44444444444446, 59.583333333333336, 171.375, 304.8333333333333, 157.75, 51.291666666666664, 121.86666666666666, 128.22222222222223, 143.07142857142858, 127.875, 290.0, 112.04761904761905, 237.06666666666666, 99.875, 75.66666666666667, 57.166666666666664, 93.33333333333333, 237.86666666666667, 170.61904761904762, 358.09090909090907, 100.93333333333334, 308.0416666666667, 49.708333333333336, 121.61666666666666, 94.36666666666666, 52.416666666666664, 125.5, 134.83333333333334, 105.75, 84.26666666666667, 279.53333333333336, 100.91666666666667, 139.1904761904762, 228.58333333333334, 84.5, 95.53333333333333, 149.73809523809524, 108.38461538461539, 274.125, 72.625, 297.0833333333333, 104.6, 107.55555555555556, 109.97222222222223, 199.16666666666666, 144.66666666666666, 128.56666666666666, 67.0, 41.0, 101.68888888888888], \"xaxis\": \"x3\", \"yaxis\": \"y3\"}],\n",
       "                        {\"annotations\": [{\"font\": {\"size\": 16}, \"showarrow\": false, \"text\": \"Good\", \"x\": 0.225, \"xanchor\": \"center\", \"xref\": \"paper\", \"y\": 1.0, \"yanchor\": \"bottom\", \"yref\": \"paper\"}, {\"font\": {\"size\": 16}, \"showarrow\": false, \"text\": \"Bad\", \"x\": 0.775, \"xanchor\": \"center\", \"xref\": \"paper\", \"y\": 1.0, \"yanchor\": \"bottom\", \"yref\": \"paper\"}, {\"font\": {\"size\": 16}, \"showarrow\": false, \"text\": \"General Distribuition\", \"x\": 0.5, \"xanchor\": \"center\", \"xref\": \"paper\", \"y\": 0.375, \"yanchor\": \"bottom\", \"yref\": \"paper\"}], \"bargap\": 0.05, \"showlegend\": true, \"template\": {\"data\": {\"bar\": [{\"error_x\": {\"color\": \"#2a3f5f\"}, \"error_y\": {\"color\": \"#2a3f5f\"}, \"marker\": {\"line\": {\"color\": \"#E5ECF6\", \"width\": 0.5}}, \"type\": \"bar\"}], \"barpolar\": [{\"marker\": {\"line\": {\"color\": \"#E5ECF6\", \"width\": 0.5}}, \"type\": \"barpolar\"}], \"carpet\": [{\"aaxis\": {\"endlinecolor\": \"#2a3f5f\", \"gridcolor\": \"white\", \"linecolor\": \"white\", \"minorgridcolor\": \"white\", \"startlinecolor\": \"#2a3f5f\"}, \"baxis\": {\"endlinecolor\": \"#2a3f5f\", \"gridcolor\": \"white\", \"linecolor\": \"white\", \"minorgridcolor\": \"white\", \"startlinecolor\": \"#2a3f5f\"}, \"type\": \"carpet\"}], \"choropleth\": [{\"colorbar\": {\"outlinewidth\": 0, \"ticks\": \"\"}, \"type\": \"choropleth\"}], \"contour\": [{\"colorbar\": {\"outlinewidth\": 0, \"ticks\": \"\"}, \"colorscale\": [[0.0, \"#0d0887\"], [0.1111111111111111, \"#46039f\"], [0.2222222222222222, \"#7201a8\"], [0.3333333333333333, \"#9c179e\"], [0.4444444444444444, \"#bd3786\"], [0.5555555555555556, \"#d8576b\"], [0.6666666666666666, \"#ed7953\"], [0.7777777777777778, \"#fb9f3a\"], [0.8888888888888888, \"#fdca26\"], [1.0, \"#f0f921\"]], \"type\": \"contour\"}], \"contourcarpet\": [{\"colorbar\": {\"outlinewidth\": 0, \"ticks\": \"\"}, \"type\": \"contourcarpet\"}], \"heatmap\": [{\"colorbar\": {\"outlinewidth\": 0, \"ticks\": \"\"}, \"colorscale\": [[0.0, \"#0d0887\"], [0.1111111111111111, \"#46039f\"], [0.2222222222222222, \"#7201a8\"], [0.3333333333333333, \"#9c179e\"], [0.4444444444444444, \"#bd3786\"], [0.5555555555555556, \"#d8576b\"], [0.6666666666666666, \"#ed7953\"], [0.7777777777777778, \"#fb9f3a\"], [0.8888888888888888, \"#fdca26\"], [1.0, \"#f0f921\"]], \"type\": \"heatmap\"}], \"heatmapgl\": [{\"colorbar\": {\"outlinewidth\": 0, \"ticks\": \"\"}, \"colorscale\": [[0.0, \"#0d0887\"], [0.1111111111111111, \"#46039f\"], [0.2222222222222222, \"#7201a8\"], [0.3333333333333333, \"#9c179e\"], [0.4444444444444444, \"#bd3786\"], [0.5555555555555556, \"#d8576b\"], [0.6666666666666666, \"#ed7953\"], [0.7777777777777778, \"#fb9f3a\"], [0.8888888888888888, \"#fdca26\"], [1.0, \"#f0f921\"]], \"type\": \"heatmapgl\"}], \"histogram\": [{\"marker\": {\"colorbar\": {\"outlinewidth\": 0, \"ticks\": \"\"}}, \"type\": \"histogram\"}], \"histogram2d\": [{\"colorbar\": {\"outlinewidth\": 0, \"ticks\": \"\"}, \"colorscale\": [[0.0, \"#0d0887\"], [0.1111111111111111, \"#46039f\"], [0.2222222222222222, \"#7201a8\"], [0.3333333333333333, \"#9c179e\"], [0.4444444444444444, \"#bd3786\"], [0.5555555555555556, \"#d8576b\"], [0.6666666666666666, \"#ed7953\"], [0.7777777777777778, \"#fb9f3a\"], [0.8888888888888888, \"#fdca26\"], [1.0, \"#f0f921\"]], \"type\": \"histogram2d\"}], \"histogram2dcontour\": [{\"colorbar\": {\"outlinewidth\": 0, \"ticks\": \"\"}, \"colorscale\": [[0.0, \"#0d0887\"], [0.1111111111111111, \"#46039f\"], [0.2222222222222222, \"#7201a8\"], [0.3333333333333333, \"#9c179e\"], [0.4444444444444444, \"#bd3786\"], [0.5555555555555556, \"#d8576b\"], [0.6666666666666666, \"#ed7953\"], [0.7777777777777778, \"#fb9f3a\"], [0.8888888888888888, \"#fdca26\"], [1.0, \"#f0f921\"]], \"type\": \"histogram2dcontour\"}], \"mesh3d\": [{\"colorbar\": {\"outlinewidth\": 0, \"ticks\": \"\"}, \"type\": \"mesh3d\"}], \"parcoords\": [{\"line\": {\"colorbar\": {\"outlinewidth\": 0, \"ticks\": \"\"}}, \"type\": \"parcoords\"}], \"scatter\": [{\"marker\": {\"colorbar\": {\"outlinewidth\": 0, \"ticks\": \"\"}}, \"type\": \"scatter\"}], \"scatter3d\": [{\"line\": {\"colorbar\": {\"outlinewidth\": 0, \"ticks\": \"\"}}, \"marker\": {\"colorbar\": {\"outlinewidth\": 0, \"ticks\": \"\"}}, \"type\": \"scatter3d\"}], \"scattercarpet\": [{\"marker\": {\"colorbar\": {\"outlinewidth\": 0, \"ticks\": \"\"}}, \"type\": \"scattercarpet\"}], \"scattergeo\": [{\"marker\": {\"colorbar\": {\"outlinewidth\": 0, \"ticks\": \"\"}}, \"type\": \"scattergeo\"}], \"scattergl\": [{\"marker\": {\"colorbar\": {\"outlinewidth\": 0, \"ticks\": \"\"}}, \"type\": \"scattergl\"}], \"scattermapbox\": [{\"marker\": {\"colorbar\": {\"outlinewidth\": 0, \"ticks\": \"\"}}, \"type\": \"scattermapbox\"}], \"scatterpolar\": [{\"marker\": {\"colorbar\": {\"outlinewidth\": 0, \"ticks\": \"\"}}, \"type\": \"scatterpolar\"}], \"scatterpolargl\": [{\"marker\": {\"colorbar\": {\"outlinewidth\": 0, \"ticks\": \"\"}}, \"type\": \"scatterpolargl\"}], \"scatterternary\": [{\"marker\": {\"colorbar\": {\"outlinewidth\": 0, \"ticks\": \"\"}}, \"type\": \"scatterternary\"}], \"surface\": [{\"colorbar\": {\"outlinewidth\": 0, \"ticks\": \"\"}, \"colorscale\": [[0.0, \"#0d0887\"], [0.1111111111111111, \"#46039f\"], [0.2222222222222222, \"#7201a8\"], [0.3333333333333333, \"#9c179e\"], [0.4444444444444444, \"#bd3786\"], [0.5555555555555556, \"#d8576b\"], [0.6666666666666666, \"#ed7953\"], [0.7777777777777778, \"#fb9f3a\"], [0.8888888888888888, \"#fdca26\"], [1.0, \"#f0f921\"]], \"type\": \"surface\"}], \"table\": [{\"cells\": {\"fill\": {\"color\": \"#EBF0F8\"}, \"line\": {\"color\": \"white\"}}, \"header\": {\"fill\": {\"color\": \"#C8D4E3\"}, \"line\": {\"color\": \"white\"}}, \"type\": \"table\"}]}, \"layout\": {\"annotationdefaults\": {\"arrowcolor\": \"#2a3f5f\", \"arrowhead\": 0, \"arrowwidth\": 1}, \"colorscale\": {\"diverging\": [[0, \"#8e0152\"], [0.1, \"#c51b7d\"], [0.2, \"#de77ae\"], [0.3, \"#f1b6da\"], [0.4, \"#fde0ef\"], [0.5, \"#f7f7f7\"], [0.6, \"#e6f5d0\"], [0.7, \"#b8e186\"], [0.8, \"#7fbc41\"], [0.9, \"#4d9221\"], [1, \"#276419\"]], \"sequential\": [[0.0, \"#0d0887\"], [0.1111111111111111, \"#46039f\"], [0.2222222222222222, \"#7201a8\"], [0.3333333333333333, \"#9c179e\"], [0.4444444444444444, \"#bd3786\"], [0.5555555555555556, \"#d8576b\"], [0.6666666666666666, \"#ed7953\"], [0.7777777777777778, \"#fb9f3a\"], [0.8888888888888888, \"#fdca26\"], [1.0, \"#f0f921\"]], \"sequentialminus\": [[0.0, \"#0d0887\"], [0.1111111111111111, \"#46039f\"], [0.2222222222222222, \"#7201a8\"], [0.3333333333333333, \"#9c179e\"], [0.4444444444444444, \"#bd3786\"], [0.5555555555555556, \"#d8576b\"], [0.6666666666666666, \"#ed7953\"], [0.7777777777777778, \"#fb9f3a\"], [0.8888888888888888, \"#fdca26\"], [1.0, \"#f0f921\"]]}, \"colorway\": [\"#636efa\", \"#EF553B\", \"#00cc96\", \"#ab63fa\", \"#FFA15A\", \"#19d3f3\", \"#FF6692\", \"#B6E880\", \"#FF97FF\", \"#FECB52\"], \"font\": {\"color\": \"#2a3f5f\"}, \"geo\": {\"bgcolor\": \"white\", \"lakecolor\": \"white\", \"landcolor\": \"#E5ECF6\", \"showlakes\": true, \"showland\": true, \"subunitcolor\": \"white\"}, \"hoverlabel\": {\"align\": \"left\"}, \"hovermode\": \"closest\", \"mapbox\": {\"style\": \"light\"}, \"paper_bgcolor\": \"white\", \"plot_bgcolor\": \"#E5ECF6\", \"polar\": {\"angularaxis\": {\"gridcolor\": \"white\", \"linecolor\": \"white\", \"ticks\": \"\"}, \"bgcolor\": \"#E5ECF6\", \"radialaxis\": {\"gridcolor\": \"white\", \"linecolor\": \"white\", \"ticks\": \"\"}}, \"scene\": {\"xaxis\": {\"backgroundcolor\": \"#E5ECF6\", \"gridcolor\": \"white\", \"gridwidth\": 2, \"linecolor\": \"white\", \"showbackground\": true, \"ticks\": \"\", \"zerolinecolor\": \"white\"}, \"yaxis\": {\"backgroundcolor\": \"#E5ECF6\", \"gridcolor\": \"white\", \"gridwidth\": 2, \"linecolor\": \"white\", \"showbackground\": true, \"ticks\": \"\", \"zerolinecolor\": \"white\"}, \"zaxis\": {\"backgroundcolor\": \"#E5ECF6\", \"gridcolor\": \"white\", \"gridwidth\": 2, \"linecolor\": \"white\", \"showbackground\": true, \"ticks\": \"\", \"zerolinecolor\": \"white\"}}, \"shapedefaults\": {\"line\": {\"color\": \"#2a3f5f\"}}, \"ternary\": {\"aaxis\": {\"gridcolor\": \"white\", \"linecolor\": \"white\", \"ticks\": \"\"}, \"baxis\": {\"gridcolor\": \"white\", \"linecolor\": \"white\", \"ticks\": \"\"}, \"bgcolor\": \"#E5ECF6\", \"caxis\": {\"gridcolor\": \"white\", \"linecolor\": \"white\", \"ticks\": \"\"}}, \"title\": {\"x\": 0.05}, \"xaxis\": {\"automargin\": true, \"gridcolor\": \"white\", \"linecolor\": \"white\", \"ticks\": \"\", \"zerolinecolor\": \"white\", \"zerolinewidth\": 2}, \"yaxis\": {\"automargin\": true, \"gridcolor\": \"white\", \"linecolor\": \"white\", \"ticks\": \"\", \"zerolinecolor\": \"white\", \"zerolinewidth\": 2}}}, \"title\": {\"text\": \"Installment Distribuition\"}, \"xaxis\": {\"anchor\": \"y\", \"domain\": [0.0, 0.45]}, \"xaxis2\": {\"anchor\": \"y2\", \"domain\": [0.55, 1.0]}, \"xaxis3\": {\"anchor\": \"y3\", \"domain\": [0.0, 1.0]}, \"yaxis\": {\"anchor\": \"x\", \"domain\": [0.625, 1.0]}, \"yaxis2\": {\"anchor\": \"x2\", \"domain\": [0.625, 1.0]}, \"yaxis3\": {\"anchor\": \"x3\", \"domain\": [0.0, 0.375]}},\n",
       "                        {\"responsive\": true}\n",
       "                    ).then(function(){\n",
       "                            \n",
       "var gd = document.getElementById('6f0eb5e4-fc4d-4a9a-9f9b-ecbfc8d12c78');\n",
       "var x = new MutationObserver(function (mutations, observer) {{\n",
       "        var display = window.getComputedStyle(gd).display;\n",
       "        if (!display || display === 'none') {{\n",
       "            console.log([gd, 'removed!']);\n",
       "            Plotly.purge(gd);\n",
       "            observer.disconnect();\n",
       "        }}\n",
       "}});\n",
       "\n",
       "// Listen for the removal of the full notebook cells\n",
       "var notebookContainer = gd.closest('#notebook-container');\n",
       "if (notebookContainer) {{\n",
       "    x.observe(notebookContainer, {childList: true});\n",
       "}}\n",
       "\n",
       "// Listen for the clearing of the current output cell\n",
       "var outputEl = gd.closest('.output');\n",
       "if (outputEl) {{\n",
       "    x.observe(outputEl, {childList: true});\n",
       "}}\n",
       "\n",
       "                        })\n",
       "                };\n",
       "                });\n",
       "            </script>\n",
       "        </div>"
      ]
     },
     "metadata": {},
     "output_type": "display_data"
    }
   ],
   "source": [
    "df_good = df.loc[df[\"Risk\"] == 'good'].sort_values(by=['Installment'])['Installment'].values.tolist()\n",
    "df_bad = df.loc[df[\"Risk\"] == 'bad'].sort_values(by=['Installment'])['Installment'].values.tolist()\n",
    "df_age = df['Installment'].values.tolist()\n",
    "\n",
    "trace0 = go.Histogram(\n",
    "    x=df_good,\n",
    "    histnorm='probability',\n",
    "    name=\"Good Credit\"\n",
    ")\n",
    "\n",
    "trace1 = go.Histogram(\n",
    "    x=df_bad,\n",
    "    histnorm='probability',\n",
    "    name=\"Bad Credit\"\n",
    ")\n",
    "\n",
    "trace2 = go.Histogram(\n",
    "    x=df_age,\n",
    "    histnorm='probability',\n",
    "    name=\"Overall Installment\"\n",
    ")\n",
    "\n",
    "fig = tls.make_subplots(rows=2, cols=2, specs=[[{}, {}], [{'colspan': 2}, None]],\n",
    "                          subplot_titles=('Good','Bad', 'General Distribuition'))\n",
    "\n",
    "fig.append_trace(trace0, 1, 1)\n",
    "fig.append_trace(trace1, 1, 2)\n",
    "fig.append_trace(trace2, 2, 1)\n",
    "\n",
    "fig['layout'].update(showlegend=True, title='Installment Distribuition', bargap=0.05)\n",
    "py.iplot(fig, filename='custom-sized-subplot-with-subplot-titles')"
   ]
  },
  {
   "cell_type": "markdown",
   "metadata": {},
   "source": [
    "***"
   ]
  },
  {
   "cell_type": "markdown",
   "metadata": {},
   "source": [
    "<font size=\"2\"><strong>Part C</strong></font></center>"
   ]
  },
  {
   "cell_type": "markdown",
   "metadata": {},
   "source": [
    "<font size=\"2\"><strong>Business Problems</strong></font></center>"
   ]
  },
  {
   "cell_type": "markdown",
   "metadata": {},
   "source": [
    "<strong>\n",
    "1. Calculate interest rate for each customers\n",
    "2. Calculate the features stability index to the time\n",
    "3. Clean data as the data had Nan\n",
    "</strong>"
   ]
  }
 ],
 "metadata": {
  "kernelspec": {
   "display_name": "Python 3",
   "language": "python",
   "name": "python3"
  },
  "language_info": {
   "codemirror_mode": {
    "name": "ipython",
    "version": 3
   },
   "file_extension": ".py",
   "mimetype": "text/x-python",
   "name": "python",
   "nbconvert_exporter": "python",
   "pygments_lexer": "ipython3",
   "version": "3.6.3"
  }
 },
 "nbformat": 4,
 "nbformat_minor": 2
}
