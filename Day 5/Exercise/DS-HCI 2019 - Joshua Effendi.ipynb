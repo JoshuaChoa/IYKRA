{
 "cells": [
  {
   "cell_type": "markdown",
   "metadata": {},
   "source": [
    "### <center>DAY 5 - IYKRA</center>\n",
    "<center><font size=\"5\"><strong>Foundation of Statistics</strong></font></center>\n",
    "<center><font size=\"4\"><strong>An Introduction to Statistics for Data Scientist</strong></font></center>\n",
    "<hr>\n",
    "<p style=\"text-align:center\"> **Author**</p>\n",
    "<center>**Joshua Effendi**</center>\n",
    "<p style=\"text-align:center\"> **Date:**</p>\n",
    "<center>**25 October 2019**</center>"
   ]
  },
  {
   "cell_type": "markdown",
   "metadata": {},
   "source": [
    "<strong>Exercise 2</strong>"
   ]
  },
  {
   "cell_type": "code",
   "execution_count": 1,
   "metadata": {
    "collapsed": true
   },
   "outputs": [],
   "source": [
    "import numpy as np\n",
    "import pandas as pd\n",
    "import matplotlib.pyplot as plt\n",
    "import seaborn as sns\n",
    "import scipy.stats as scs\n",
    "import statistics\n",
    "from sklearn.model_selection import train_test_split\n",
    "from sklearn.linear_model import LinearRegression\n",
    "from sklearn import metrics\n",
    "import copy"
   ]
  },
  {
   "cell_type": "code",
   "execution_count": 2,
   "metadata": {},
   "outputs": [],
   "source": [
    "df = pd.read_excel('data loan.xlsx')"
   ]
  },
  {
   "cell_type": "code",
   "execution_count": 3,
   "metadata": {},
   "outputs": [
    {
     "data": {
      "text/html": [
       "<div>\n",
       "<style scoped>\n",
       "    .dataframe tbody tr th:only-of-type {\n",
       "        vertical-align: middle;\n",
       "    }\n",
       "\n",
       "    .dataframe tbody tr th {\n",
       "        vertical-align: top;\n",
       "    }\n",
       "\n",
       "    .dataframe thead th {\n",
       "        text-align: right;\n",
       "    }\n",
       "</style>\n",
       "<table border=\"1\" class=\"dataframe\">\n",
       "  <thead>\n",
       "    <tr style=\"text-align: right;\">\n",
       "      <th></th>\n",
       "      <th>Kontrak</th>\n",
       "      <th>Tipe_Kendaraan</th>\n",
       "      <th>Pekerjaan</th>\n",
       "      <th>Area</th>\n",
       "      <th>Tenor</th>\n",
       "      <th>Bucket_Collectability</th>\n",
       "      <th>NPF</th>\n",
       "      <th>Total_AR</th>\n",
       "      <th>LTV</th>\n",
       "      <th>OTR</th>\n",
       "      <th>...</th>\n",
       "      <th>DP</th>\n",
       "      <th>AF</th>\n",
       "      <th>Tujuan</th>\n",
       "      <th>Pendidikan</th>\n",
       "      <th>Tanggungan</th>\n",
       "      <th>Status</th>\n",
       "      <th>Gender</th>\n",
       "      <th>Paket</th>\n",
       "      <th>Inflasi</th>\n",
       "      <th>Segmen</th>\n",
       "    </tr>\n",
       "  </thead>\n",
       "  <tbody>\n",
       "    <tr>\n",
       "      <th>0</th>\n",
       "      <td>1</td>\n",
       "      <td>OTHERS</td>\n",
       "      <td>Karyawan</td>\n",
       "      <td>Jawa</td>\n",
       "      <td>12</td>\n",
       "      <td>&gt;90 - 120 hari</td>\n",
       "      <td>Ya</td>\n",
       "      <td>2.763126</td>\n",
       "      <td>100.00</td>\n",
       "      <td>2.76</td>\n",
       "      <td>...</td>\n",
       "      <td>0.0</td>\n",
       "      <td>2.76</td>\n",
       "      <td>Private</td>\n",
       "      <td>Sarjana</td>\n",
       "      <td>Tidak ada</td>\n",
       "      <td>OTHERS</td>\n",
       "      <td>Laki-laki</td>\n",
       "      <td>Ya</td>\n",
       "      <td>3.58</td>\n",
       "      <td>Jasa &amp; Perdagangan</td>\n",
       "    </tr>\n",
       "    <tr>\n",
       "      <th>1</th>\n",
       "      <td>2</td>\n",
       "      <td>OTHERS</td>\n",
       "      <td>Wiraswasta</td>\n",
       "      <td>Jawa</td>\n",
       "      <td>12</td>\n",
       "      <td>0 - 30 hari</td>\n",
       "      <td>Tidak</td>\n",
       "      <td>2.805000</td>\n",
       "      <td>103.70</td>\n",
       "      <td>2.71</td>\n",
       "      <td>...</td>\n",
       "      <td>0.0</td>\n",
       "      <td>2.81</td>\n",
       "      <td>Private</td>\n",
       "      <td>Others</td>\n",
       "      <td>Tidak ada</td>\n",
       "      <td>MENIKAH</td>\n",
       "      <td>Laki-laki</td>\n",
       "      <td>Ya</td>\n",
       "      <td>3.58</td>\n",
       "      <td>Others</td>\n",
       "    </tr>\n",
       "    <tr>\n",
       "      <th>2</th>\n",
       "      <td>3</td>\n",
       "      <td>OTHERS</td>\n",
       "      <td>Wiraswasta</td>\n",
       "      <td>Jawa</td>\n",
       "      <td>12</td>\n",
       "      <td>0 - 30 hari</td>\n",
       "      <td>Tidak</td>\n",
       "      <td>3.104000</td>\n",
       "      <td>103.33</td>\n",
       "      <td>3.00</td>\n",
       "      <td>...</td>\n",
       "      <td>0.0</td>\n",
       "      <td>3.10</td>\n",
       "      <td>Private</td>\n",
       "      <td>Sarjana</td>\n",
       "      <td>Tidak ada</td>\n",
       "      <td>OTHERS</td>\n",
       "      <td>Perempuan</td>\n",
       "      <td>Ya</td>\n",
       "      <td>4.17</td>\n",
       "      <td>Others</td>\n",
       "    </tr>\n",
       "    <tr>\n",
       "      <th>3</th>\n",
       "      <td>4</td>\n",
       "      <td>OTHERS</td>\n",
       "      <td>Karyawan</td>\n",
       "      <td>Jawa</td>\n",
       "      <td>12</td>\n",
       "      <td>0 - 30 hari</td>\n",
       "      <td>Tidak</td>\n",
       "      <td>4.088100</td>\n",
       "      <td>102.51</td>\n",
       "      <td>3.98</td>\n",
       "      <td>...</td>\n",
       "      <td>0.0</td>\n",
       "      <td>4.08</td>\n",
       "      <td>Private</td>\n",
       "      <td>Sarjana</td>\n",
       "      <td>Ada</td>\n",
       "      <td>OTHERS</td>\n",
       "      <td>Laki-laki</td>\n",
       "      <td>Ya</td>\n",
       "      <td>3.61</td>\n",
       "      <td>Jasa &amp; Perdagangan</td>\n",
       "    </tr>\n",
       "    <tr>\n",
       "      <th>4</th>\n",
       "      <td>5</td>\n",
       "      <td>OTHERS</td>\n",
       "      <td>Karyawan</td>\n",
       "      <td>Jawa</td>\n",
       "      <td>12</td>\n",
       "      <td>0 - 30 hari</td>\n",
       "      <td>Tidak</td>\n",
       "      <td>4.607100</td>\n",
       "      <td>102.22</td>\n",
       "      <td>4.50</td>\n",
       "      <td>...</td>\n",
       "      <td>0.0</td>\n",
       "      <td>4.60</td>\n",
       "      <td>Private</td>\n",
       "      <td>Sarjana</td>\n",
       "      <td>Tidak ada</td>\n",
       "      <td>OTHERS</td>\n",
       "      <td>Perempuan</td>\n",
       "      <td>Ya</td>\n",
       "      <td>3.30</td>\n",
       "      <td>Jasa &amp; Perdagangan</td>\n",
       "    </tr>\n",
       "  </tbody>\n",
       "</table>\n",
       "<p>5 rows × 23 columns</p>\n",
       "</div>"
      ],
      "text/plain": [
       "   Kontrak Tipe_Kendaraan   Pekerjaan  Area  Tenor Bucket_Collectability  \\\n",
       "0        1         OTHERS    Karyawan  Jawa     12        >90 - 120 hari   \n",
       "1        2         OTHERS  Wiraswasta  Jawa     12           0 - 30 hari   \n",
       "2        3         OTHERS  Wiraswasta  Jawa     12           0 - 30 hari   \n",
       "3        4         OTHERS    Karyawan  Jawa     12           0 - 30 hari   \n",
       "4        5         OTHERS    Karyawan  Jawa     12           0 - 30 hari   \n",
       "\n",
       "     NPF  Total_AR     LTV   OTR  ...   DP    AF   Tujuan  Pendidikan  \\\n",
       "0     Ya  2.763126  100.00  2.76  ...  0.0  2.76  Private     Sarjana   \n",
       "1  Tidak  2.805000  103.70  2.71  ...  0.0  2.81  Private      Others   \n",
       "2  Tidak  3.104000  103.33  3.00  ...  0.0  3.10  Private     Sarjana   \n",
       "3  Tidak  4.088100  102.51  3.98  ...  0.0  4.08  Private     Sarjana   \n",
       "4  Tidak  4.607100  102.22  4.50  ...  0.0  4.60  Private     Sarjana   \n",
       "\n",
       "   Tanggungan   Status     Gender Paket Inflasi              Segmen  \n",
       "0   Tidak ada   OTHERS  Laki-laki    Ya    3.58  Jasa & Perdagangan  \n",
       "1   Tidak ada  MENIKAH  Laki-laki    Ya    3.58              Others  \n",
       "2   Tidak ada   OTHERS  Perempuan    Ya    4.17              Others  \n",
       "3         Ada   OTHERS  Laki-laki    Ya    3.61  Jasa & Perdagangan  \n",
       "4   Tidak ada   OTHERS  Perempuan    Ya    3.30  Jasa & Perdagangan  \n",
       "\n",
       "[5 rows x 23 columns]"
      ]
     },
     "execution_count": 3,
     "metadata": {},
     "output_type": "execute_result"
    }
   ],
   "source": [
    "df.head()"
   ]
  },
  {
   "cell_type": "markdown",
   "metadata": {},
   "source": [
    "**Take 80% of Data as Sample**"
   ]
  },
  {
   "cell_type": "code",
   "execution_count": 4,
   "metadata": {
    "collapsed": true
   },
   "outputs": [],
   "source": [
    "df_sample = pd.DataFrame.sample(df,frac=0.8).copy().reset_index(drop=True)"
   ]
  },
  {
   "cell_type": "code",
   "execution_count": 5,
   "metadata": {},
   "outputs": [
    {
     "data": {
      "text/html": [
       "<div>\n",
       "<style scoped>\n",
       "    .dataframe tbody tr th:only-of-type {\n",
       "        vertical-align: middle;\n",
       "    }\n",
       "\n",
       "    .dataframe tbody tr th {\n",
       "        vertical-align: top;\n",
       "    }\n",
       "\n",
       "    .dataframe thead th {\n",
       "        text-align: right;\n",
       "    }\n",
       "</style>\n",
       "<table border=\"1\" class=\"dataframe\">\n",
       "  <thead>\n",
       "    <tr style=\"text-align: right;\">\n",
       "      <th></th>\n",
       "      <th>Kontrak</th>\n",
       "      <th>Tipe_Kendaraan</th>\n",
       "      <th>Pekerjaan</th>\n",
       "      <th>Area</th>\n",
       "      <th>Tenor</th>\n",
       "      <th>Bucket_Collectability</th>\n",
       "      <th>NPF</th>\n",
       "      <th>Total_AR</th>\n",
       "      <th>LTV</th>\n",
       "      <th>OTR</th>\n",
       "      <th>...</th>\n",
       "      <th>DP</th>\n",
       "      <th>AF</th>\n",
       "      <th>Tujuan</th>\n",
       "      <th>Pendidikan</th>\n",
       "      <th>Tanggungan</th>\n",
       "      <th>Status</th>\n",
       "      <th>Gender</th>\n",
       "      <th>Paket</th>\n",
       "      <th>Inflasi</th>\n",
       "      <th>Segmen</th>\n",
       "    </tr>\n",
       "  </thead>\n",
       "  <tbody>\n",
       "    <tr>\n",
       "      <th>0</th>\n",
       "      <td>27286</td>\n",
       "      <td>OTHERS</td>\n",
       "      <td>Wiraswasta</td>\n",
       "      <td>Jawa</td>\n",
       "      <td>24</td>\n",
       "      <td>0 - 30 hari</td>\n",
       "      <td>Tidak</td>\n",
       "      <td>414.024003</td>\n",
       "      <td>80.47</td>\n",
       "      <td>447.39</td>\n",
       "      <td>...</td>\n",
       "      <td>111.85</td>\n",
       "      <td>360.00</td>\n",
       "      <td>Private</td>\n",
       "      <td>Others</td>\n",
       "      <td>Tidak ada</td>\n",
       "      <td>OTHERS</td>\n",
       "      <td>Laki-laki</td>\n",
       "      <td>Tidak</td>\n",
       "      <td>3.45</td>\n",
       "      <td>Jasa &amp; Perdagangan</td>\n",
       "    </tr>\n",
       "    <tr>\n",
       "      <th>1</th>\n",
       "      <td>22872</td>\n",
       "      <td>MINIBUS</td>\n",
       "      <td>Karyawan</td>\n",
       "      <td>Jawa</td>\n",
       "      <td>60</td>\n",
       "      <td>&gt; 150 hari</td>\n",
       "      <td>Ya</td>\n",
       "      <td>274.560003</td>\n",
       "      <td>91.70</td>\n",
       "      <td>206.45</td>\n",
       "      <td>...</td>\n",
       "      <td>41.29</td>\n",
       "      <td>189.32</td>\n",
       "      <td>Private</td>\n",
       "      <td>Others</td>\n",
       "      <td>Tidak ada</td>\n",
       "      <td>MENIKAH</td>\n",
       "      <td>Laki-laki</td>\n",
       "      <td>Tidak</td>\n",
       "      <td>3.33</td>\n",
       "      <td>Others</td>\n",
       "    </tr>\n",
       "    <tr>\n",
       "      <th>2</th>\n",
       "      <td>19766</td>\n",
       "      <td>MINIBUS</td>\n",
       "      <td>Karyawan</td>\n",
       "      <td>Jawa</td>\n",
       "      <td>60</td>\n",
       "      <td>&gt; 150 hari</td>\n",
       "      <td>Ya</td>\n",
       "      <td>227.993559</td>\n",
       "      <td>89.33</td>\n",
       "      <td>179.10</td>\n",
       "      <td>...</td>\n",
       "      <td>44.78</td>\n",
       "      <td>160.00</td>\n",
       "      <td>Private</td>\n",
       "      <td>Sarjana</td>\n",
       "      <td>Tidak ada</td>\n",
       "      <td>MENIKAH</td>\n",
       "      <td>Perempuan</td>\n",
       "      <td>Tidak</td>\n",
       "      <td>7.25</td>\n",
       "      <td>Jasa &amp; Perdagangan</td>\n",
       "    </tr>\n",
       "    <tr>\n",
       "      <th>3</th>\n",
       "      <td>17491</td>\n",
       "      <td>LCGC</td>\n",
       "      <td>Wiraswasta</td>\n",
       "      <td>Jawa</td>\n",
       "      <td>60</td>\n",
       "      <td>&gt; 150 hari</td>\n",
       "      <td>Ya</td>\n",
       "      <td>207.060000</td>\n",
       "      <td>96.13</td>\n",
       "      <td>132.00</td>\n",
       "      <td>...</td>\n",
       "      <td>26.40</td>\n",
       "      <td>126.89</td>\n",
       "      <td>Private</td>\n",
       "      <td>Others</td>\n",
       "      <td>Ada</td>\n",
       "      <td>OTHERS</td>\n",
       "      <td>Laki-laki</td>\n",
       "      <td>Ya</td>\n",
       "      <td>3.45</td>\n",
       "      <td>Jasa &amp; Perdagangan</td>\n",
       "    </tr>\n",
       "    <tr>\n",
       "      <th>4</th>\n",
       "      <td>20564</td>\n",
       "      <td>MINIBUS</td>\n",
       "      <td>Karyawan</td>\n",
       "      <td>Sumatera</td>\n",
       "      <td>60</td>\n",
       "      <td>&gt;90 - 120 hari</td>\n",
       "      <td>Ya</td>\n",
       "      <td>236.999998</td>\n",
       "      <td>85.78</td>\n",
       "      <td>192.20</td>\n",
       "      <td>...</td>\n",
       "      <td>56.25</td>\n",
       "      <td>164.87</td>\n",
       "      <td>Private</td>\n",
       "      <td>Others</td>\n",
       "      <td>Tidak ada</td>\n",
       "      <td>MENIKAH</td>\n",
       "      <td>Laki-laki</td>\n",
       "      <td>Tidak</td>\n",
       "      <td>8.36</td>\n",
       "      <td>Others</td>\n",
       "    </tr>\n",
       "  </tbody>\n",
       "</table>\n",
       "<p>5 rows × 23 columns</p>\n",
       "</div>"
      ],
      "text/plain": [
       "   Kontrak Tipe_Kendaraan   Pekerjaan      Area  Tenor Bucket_Collectability  \\\n",
       "0    27286         OTHERS  Wiraswasta      Jawa     24           0 - 30 hari   \n",
       "1    22872        MINIBUS    Karyawan      Jawa     60            > 150 hari   \n",
       "2    19766        MINIBUS    Karyawan      Jawa     60            > 150 hari   \n",
       "3    17491           LCGC  Wiraswasta      Jawa     60            > 150 hari   \n",
       "4    20564        MINIBUS    Karyawan  Sumatera     60        >90 - 120 hari   \n",
       "\n",
       "     NPF    Total_AR    LTV     OTR  ...      DP      AF   Tujuan  Pendidikan  \\\n",
       "0  Tidak  414.024003  80.47  447.39  ...  111.85  360.00  Private      Others   \n",
       "1     Ya  274.560003  91.70  206.45  ...   41.29  189.32  Private      Others   \n",
       "2     Ya  227.993559  89.33  179.10  ...   44.78  160.00  Private     Sarjana   \n",
       "3     Ya  207.060000  96.13  132.00  ...   26.40  126.89  Private      Others   \n",
       "4     Ya  236.999998  85.78  192.20  ...   56.25  164.87  Private      Others   \n",
       "\n",
       "   Tanggungan   Status     Gender  Paket Inflasi              Segmen  \n",
       "0   Tidak ada   OTHERS  Laki-laki  Tidak    3.45  Jasa & Perdagangan  \n",
       "1   Tidak ada  MENIKAH  Laki-laki  Tidak    3.33              Others  \n",
       "2   Tidak ada  MENIKAH  Perempuan  Tidak    7.25  Jasa & Perdagangan  \n",
       "3         Ada   OTHERS  Laki-laki     Ya    3.45  Jasa & Perdagangan  \n",
       "4   Tidak ada  MENIKAH  Laki-laki  Tidak    8.36              Others  \n",
       "\n",
       "[5 rows x 23 columns]"
      ]
     },
     "execution_count": 5,
     "metadata": {},
     "output_type": "execute_result"
    }
   ],
   "source": [
    "df_sample.head()"
   ]
  },
  {
   "cell_type": "code",
   "execution_count": 6,
   "metadata": {
    "collapsed": true
   },
   "outputs": [],
   "source": [
    "q1_income = df_sample['Income'].quantile(0.25)\n",
    "q3_income = df_sample['Income'].quantile(0.75)\n",
    "iqr_income = q3_income - q1_income"
   ]
  },
  {
   "cell_type": "code",
   "execution_count": 7,
   "metadata": {
    "collapsed": true
   },
   "outputs": [],
   "source": [
    "list_in = df_sample[['Kontrak', 'Income']][(df_sample.Income < (q1_income - 1.5 * iqr_income)) | (df_sample.Income > (q3_income + 1.5 * iqr_income))].index"
   ]
  },
  {
   "cell_type": "code",
   "execution_count": 8,
   "metadata": {
    "collapsed": true
   },
   "outputs": [],
   "source": [
    "df_sample_edit = df_sample.drop(list_in, axis=0).copy()"
   ]
  },
  {
   "cell_type": "markdown",
   "metadata": {},
   "source": [
    "**Do analytical statistic use the method that had been learned**"
   ]
  },
  {
   "cell_type": "code",
   "execution_count": 9,
   "metadata": {
    "collapsed": true
   },
   "outputs": [],
   "source": [
    "x = df_sample_edit['Income']\n",
    "y = df_sample_edit['Inflasi']"
   ]
  },
  {
   "cell_type": "code",
   "execution_count": 10,
   "metadata": {
    "collapsed": true
   },
   "outputs": [],
   "source": [
    "x = x.to_numpy().reshape(-1,1)\n",
    "y = y.to_numpy().reshape(-1,1)"
   ]
  },
  {
   "cell_type": "code",
   "execution_count": 11,
   "metadata": {},
   "outputs": [
    {
     "data": {
      "text/plain": [
       "LinearRegression(copy_X=True, fit_intercept=True, n_jobs=1, normalize=False)"
      ]
     },
     "execution_count": 11,
     "metadata": {},
     "output_type": "execute_result"
    }
   ],
   "source": [
    "regressor = LinearRegression()\n",
    "regressor.fit(x,y)"
   ]
  },
  {
   "cell_type": "code",
   "execution_count": 12,
   "metadata": {},
   "outputs": [
    {
     "name": "stdout",
     "output_type": "stream",
     "text": [
      "y = 5.226 + 0.020 X\n"
     ]
    }
   ],
   "source": [
    "# regression equation\n",
    "print('y = %.3f + %.3f X' %(regressor.intercept_, regressor.coef_))"
   ]
  },
  {
   "cell_type": "code",
   "execution_count": 13,
   "metadata": {},
   "outputs": [
    {
     "name": "stdout",
     "output_type": "stream",
     "text": [
      "R2 = 0.007\n",
      "RMSE = 1.787\n"
     ]
    }
   ],
   "source": [
    "y_pred = regressor.predict(x)\n",
    "print('R2 = %.3f' %metrics.r2_score(y, y_pred))\n",
    "rmse = np.sqrt(metrics.mean_squared_error(y, y_pred))\n",
    "print('RMSE = %.3f' %rmse)"
   ]
  },
  {
   "cell_type": "markdown",
   "metadata": {},
   "source": [
    "Inflasi dan income seseorang tidak memiliki korelasi dan struktur data yang sangat jauh."
   ]
  },
  {
   "cell_type": "markdown",
   "metadata": {},
   "source": [
    "**Mengubah Tujuan menjadi numerical**"
   ]
  },
  {
   "cell_type": "code",
   "execution_count": 14,
   "metadata": {
    "collapsed": true
   },
   "outputs": [],
   "source": [
    "df_tujuan = pd.get_dummies(df_sample_edit['Tujuan'], prefix = 'Tujuan')"
   ]
  },
  {
   "cell_type": "code",
   "execution_count": 15,
   "metadata": {},
   "outputs": [
    {
     "data": {
      "text/html": [
       "<div>\n",
       "<style scoped>\n",
       "    .dataframe tbody tr th:only-of-type {\n",
       "        vertical-align: middle;\n",
       "    }\n",
       "\n",
       "    .dataframe tbody tr th {\n",
       "        vertical-align: top;\n",
       "    }\n",
       "\n",
       "    .dataframe thead th {\n",
       "        text-align: right;\n",
       "    }\n",
       "</style>\n",
       "<table border=\"1\" class=\"dataframe\">\n",
       "  <thead>\n",
       "    <tr style=\"text-align: right;\">\n",
       "      <th></th>\n",
       "      <th>Tujuan_Others</th>\n",
       "      <th>Tujuan_Private</th>\n",
       "    </tr>\n",
       "  </thead>\n",
       "  <tbody>\n",
       "    <tr>\n",
       "      <th>0</th>\n",
       "      <td>0</td>\n",
       "      <td>1</td>\n",
       "    </tr>\n",
       "    <tr>\n",
       "      <th>1</th>\n",
       "      <td>0</td>\n",
       "      <td>1</td>\n",
       "    </tr>\n",
       "    <tr>\n",
       "      <th>2</th>\n",
       "      <td>0</td>\n",
       "      <td>1</td>\n",
       "    </tr>\n",
       "    <tr>\n",
       "      <th>3</th>\n",
       "      <td>0</td>\n",
       "      <td>1</td>\n",
       "    </tr>\n",
       "    <tr>\n",
       "      <th>4</th>\n",
       "      <td>0</td>\n",
       "      <td>1</td>\n",
       "    </tr>\n",
       "  </tbody>\n",
       "</table>\n",
       "</div>"
      ],
      "text/plain": [
       "   Tujuan_Others  Tujuan_Private\n",
       "0              0               1\n",
       "1              0               1\n",
       "2              0               1\n",
       "3              0               1\n",
       "4              0               1"
      ]
     },
     "execution_count": 15,
     "metadata": {},
     "output_type": "execute_result"
    }
   ],
   "source": [
    "df_tujuan.head()"
   ]
  },
  {
   "cell_type": "code",
   "execution_count": 16,
   "metadata": {
    "collapsed": true
   },
   "outputs": [],
   "source": [
    "df_tujuan_private = df_tujuan.drop(columns='Tujuan_Others')"
   ]
  },
  {
   "cell_type": "code",
   "execution_count": 17,
   "metadata": {
    "collapsed": true
   },
   "outputs": [],
   "source": [
    "df_sample_edit = pd.concat([df_sample_edit,df_tujuan_private], axis = 1)"
   ]
  },
  {
   "cell_type": "code",
   "execution_count": 18,
   "metadata": {},
   "outputs": [
    {
     "data": {
      "text/html": [
       "<div>\n",
       "<style scoped>\n",
       "    .dataframe tbody tr th:only-of-type {\n",
       "        vertical-align: middle;\n",
       "    }\n",
       "\n",
       "    .dataframe tbody tr th {\n",
       "        vertical-align: top;\n",
       "    }\n",
       "\n",
       "    .dataframe thead th {\n",
       "        text-align: right;\n",
       "    }\n",
       "</style>\n",
       "<table border=\"1\" class=\"dataframe\">\n",
       "  <thead>\n",
       "    <tr style=\"text-align: right;\">\n",
       "      <th></th>\n",
       "      <th>Kontrak</th>\n",
       "      <th>Tipe_Kendaraan</th>\n",
       "      <th>Pekerjaan</th>\n",
       "      <th>Area</th>\n",
       "      <th>Tenor</th>\n",
       "      <th>Bucket_Collectability</th>\n",
       "      <th>NPF</th>\n",
       "      <th>Total_AR</th>\n",
       "      <th>LTV</th>\n",
       "      <th>OTR</th>\n",
       "      <th>...</th>\n",
       "      <th>AF</th>\n",
       "      <th>Tujuan</th>\n",
       "      <th>Pendidikan</th>\n",
       "      <th>Tanggungan</th>\n",
       "      <th>Status</th>\n",
       "      <th>Gender</th>\n",
       "      <th>Paket</th>\n",
       "      <th>Inflasi</th>\n",
       "      <th>Segmen</th>\n",
       "      <th>Tujuan_Private</th>\n",
       "    </tr>\n",
       "  </thead>\n",
       "  <tbody>\n",
       "    <tr>\n",
       "      <th>0</th>\n",
       "      <td>27286</td>\n",
       "      <td>OTHERS</td>\n",
       "      <td>Wiraswasta</td>\n",
       "      <td>Jawa</td>\n",
       "      <td>24</td>\n",
       "      <td>0 - 30 hari</td>\n",
       "      <td>Tidak</td>\n",
       "      <td>414.024003</td>\n",
       "      <td>80.47</td>\n",
       "      <td>447.39</td>\n",
       "      <td>...</td>\n",
       "      <td>360.00</td>\n",
       "      <td>Private</td>\n",
       "      <td>Others</td>\n",
       "      <td>Tidak ada</td>\n",
       "      <td>OTHERS</td>\n",
       "      <td>Laki-laki</td>\n",
       "      <td>Tidak</td>\n",
       "      <td>3.45</td>\n",
       "      <td>Jasa &amp; Perdagangan</td>\n",
       "      <td>1</td>\n",
       "    </tr>\n",
       "    <tr>\n",
       "      <th>1</th>\n",
       "      <td>22872</td>\n",
       "      <td>MINIBUS</td>\n",
       "      <td>Karyawan</td>\n",
       "      <td>Jawa</td>\n",
       "      <td>60</td>\n",
       "      <td>&gt; 150 hari</td>\n",
       "      <td>Ya</td>\n",
       "      <td>274.560003</td>\n",
       "      <td>91.70</td>\n",
       "      <td>206.45</td>\n",
       "      <td>...</td>\n",
       "      <td>189.32</td>\n",
       "      <td>Private</td>\n",
       "      <td>Others</td>\n",
       "      <td>Tidak ada</td>\n",
       "      <td>MENIKAH</td>\n",
       "      <td>Laki-laki</td>\n",
       "      <td>Tidak</td>\n",
       "      <td>3.33</td>\n",
       "      <td>Others</td>\n",
       "      <td>1</td>\n",
       "    </tr>\n",
       "    <tr>\n",
       "      <th>2</th>\n",
       "      <td>19766</td>\n",
       "      <td>MINIBUS</td>\n",
       "      <td>Karyawan</td>\n",
       "      <td>Jawa</td>\n",
       "      <td>60</td>\n",
       "      <td>&gt; 150 hari</td>\n",
       "      <td>Ya</td>\n",
       "      <td>227.993559</td>\n",
       "      <td>89.33</td>\n",
       "      <td>179.10</td>\n",
       "      <td>...</td>\n",
       "      <td>160.00</td>\n",
       "      <td>Private</td>\n",
       "      <td>Sarjana</td>\n",
       "      <td>Tidak ada</td>\n",
       "      <td>MENIKAH</td>\n",
       "      <td>Perempuan</td>\n",
       "      <td>Tidak</td>\n",
       "      <td>7.25</td>\n",
       "      <td>Jasa &amp; Perdagangan</td>\n",
       "      <td>1</td>\n",
       "    </tr>\n",
       "    <tr>\n",
       "      <th>3</th>\n",
       "      <td>17491</td>\n",
       "      <td>LCGC</td>\n",
       "      <td>Wiraswasta</td>\n",
       "      <td>Jawa</td>\n",
       "      <td>60</td>\n",
       "      <td>&gt; 150 hari</td>\n",
       "      <td>Ya</td>\n",
       "      <td>207.060000</td>\n",
       "      <td>96.13</td>\n",
       "      <td>132.00</td>\n",
       "      <td>...</td>\n",
       "      <td>126.89</td>\n",
       "      <td>Private</td>\n",
       "      <td>Others</td>\n",
       "      <td>Ada</td>\n",
       "      <td>OTHERS</td>\n",
       "      <td>Laki-laki</td>\n",
       "      <td>Ya</td>\n",
       "      <td>3.45</td>\n",
       "      <td>Jasa &amp; Perdagangan</td>\n",
       "      <td>1</td>\n",
       "    </tr>\n",
       "    <tr>\n",
       "      <th>4</th>\n",
       "      <td>20564</td>\n",
       "      <td>MINIBUS</td>\n",
       "      <td>Karyawan</td>\n",
       "      <td>Sumatera</td>\n",
       "      <td>60</td>\n",
       "      <td>&gt;90 - 120 hari</td>\n",
       "      <td>Ya</td>\n",
       "      <td>236.999998</td>\n",
       "      <td>85.78</td>\n",
       "      <td>192.20</td>\n",
       "      <td>...</td>\n",
       "      <td>164.87</td>\n",
       "      <td>Private</td>\n",
       "      <td>Others</td>\n",
       "      <td>Tidak ada</td>\n",
       "      <td>MENIKAH</td>\n",
       "      <td>Laki-laki</td>\n",
       "      <td>Tidak</td>\n",
       "      <td>8.36</td>\n",
       "      <td>Others</td>\n",
       "      <td>1</td>\n",
       "    </tr>\n",
       "  </tbody>\n",
       "</table>\n",
       "<p>5 rows × 24 columns</p>\n",
       "</div>"
      ],
      "text/plain": [
       "   Kontrak Tipe_Kendaraan   Pekerjaan      Area  Tenor Bucket_Collectability  \\\n",
       "0    27286         OTHERS  Wiraswasta      Jawa     24           0 - 30 hari   \n",
       "1    22872        MINIBUS    Karyawan      Jawa     60            > 150 hari   \n",
       "2    19766        MINIBUS    Karyawan      Jawa     60            > 150 hari   \n",
       "3    17491           LCGC  Wiraswasta      Jawa     60            > 150 hari   \n",
       "4    20564        MINIBUS    Karyawan  Sumatera     60        >90 - 120 hari   \n",
       "\n",
       "     NPF    Total_AR    LTV     OTR  ...      AF   Tujuan  Pendidikan  \\\n",
       "0  Tidak  414.024003  80.47  447.39  ...  360.00  Private      Others   \n",
       "1     Ya  274.560003  91.70  206.45  ...  189.32  Private      Others   \n",
       "2     Ya  227.993559  89.33  179.10  ...  160.00  Private     Sarjana   \n",
       "3     Ya  207.060000  96.13  132.00  ...  126.89  Private      Others   \n",
       "4     Ya  236.999998  85.78  192.20  ...  164.87  Private      Others   \n",
       "\n",
       "   Tanggungan   Status     Gender  Paket Inflasi              Segmen  \\\n",
       "0   Tidak ada   OTHERS  Laki-laki  Tidak    3.45  Jasa & Perdagangan   \n",
       "1   Tidak ada  MENIKAH  Laki-laki  Tidak    3.33              Others   \n",
       "2   Tidak ada  MENIKAH  Perempuan  Tidak    7.25  Jasa & Perdagangan   \n",
       "3         Ada   OTHERS  Laki-laki     Ya    3.45  Jasa & Perdagangan   \n",
       "4   Tidak ada  MENIKAH  Laki-laki  Tidak    8.36              Others   \n",
       "\n",
       "  Tujuan_Private  \n",
       "0              1  \n",
       "1              1  \n",
       "2              1  \n",
       "3              1  \n",
       "4              1  \n",
       "\n",
       "[5 rows x 24 columns]"
      ]
     },
     "execution_count": 18,
     "metadata": {},
     "output_type": "execute_result"
    }
   ],
   "source": [
    "df_sample_edit.head()"
   ]
  },
  {
   "cell_type": "code",
   "execution_count": 19,
   "metadata": {
    "collapsed": true
   },
   "outputs": [],
   "source": [
    "x = df_sample_edit['Total_AR']\n",
    "y = df_sample_edit['Tujuan_Private']"
   ]
  },
  {
   "cell_type": "code",
   "execution_count": 20,
   "metadata": {
    "collapsed": true
   },
   "outputs": [],
   "source": [
    "x = x.to_numpy().reshape(-1,1)\n",
    "y = y.to_numpy().reshape(-1,1)"
   ]
  },
  {
   "cell_type": "code",
   "execution_count": 21,
   "metadata": {},
   "outputs": [
    {
     "data": {
      "text/plain": [
       "LinearRegression(copy_X=True, fit_intercept=True, n_jobs=1, normalize=False)"
      ]
     },
     "execution_count": 21,
     "metadata": {},
     "output_type": "execute_result"
    }
   ],
   "source": [
    "regressor = LinearRegression()\n",
    "regressor.fit(x,y)"
   ]
  },
  {
   "cell_type": "code",
   "execution_count": 22,
   "metadata": {},
   "outputs": [
    {
     "name": "stdout",
     "output_type": "stream",
     "text": [
      "y = [ 0.98824894] + [[-0.0004716]] X\n"
     ]
    }
   ],
   "source": [
    "# regression equation\n",
    "print('y = {} + {} X' .format(regressor.intercept_, regressor.coef_))"
   ]
  },
  {
   "cell_type": "code",
   "execution_count": 23,
   "metadata": {},
   "outputs": [
    {
     "name": "stdout",
     "output_type": "stream",
     "text": [
      "R2 = 0.016\n",
      "RMSE = 0.312\n"
     ]
    }
   ],
   "source": [
    "y_pred = regressor.predict(x)\n",
    "print('R2 = %.3f' %metrics.r2_score(y, y_pred))\n",
    "rmse = np.sqrt(metrics.mean_squared_error(y, y_pred))\n",
    "print('RMSE = %.3f' %rmse)"
   ]
  },
  {
   "cell_type": "markdown",
   "metadata": {},
   "source": [
    "Tidak ada korelasi pada total AR atau yang dipinjamkan terhadap apa tujuan pinjaman"
   ]
  },
  {
   "cell_type": "markdown",
   "metadata": {},
   "source": [
    "**Pengaruh Umur terhadap Income**"
   ]
  },
  {
   "cell_type": "code",
   "execution_count": 24,
   "metadata": {},
   "outputs": [
    {
     "data": {
      "image/png": "[encoded data removed]",
      "text/plain": [
       "<matplotlib.figure.Figure at 0xd297400>"
      ]
     },
     "metadata": {},
     "output_type": "display_data"
    }
   ],
   "source": [
    "corr = df_sample_edit.corr(method = 'pearson')\n",
    "mask = np.array(corr)\n",
    "mask[np.tril_indices_from(mask)] = False\n",
    "fig, ax = plt.subplots(figsize = (15,12))\n",
    "fig.set_size_inches(20,20)\n",
    "sns.heatmap(corr, mask = mask, vmax = 0.9, square = True, annot = True)\n",
    "plt.show()"
   ]
  },
  {
   "cell_type": "markdown",
   "metadata": {},
   "source": [
    "As seen from the data income and age doesn't have any correlation. But let's see the function."
   ]
  },
  {
   "cell_type": "code",
   "execution_count": 25,
   "metadata": {
    "collapsed": true
   },
   "outputs": [],
   "source": [
    "x = df_sample_edit['Age']\n",
    "y = df_sample_edit['Income']"
   ]
  },
  {
   "cell_type": "code",
   "execution_count": 26,
   "metadata": {
    "collapsed": true
   },
   "outputs": [],
   "source": [
    "x = x.to_numpy().reshape(-1,1)\n",
    "y = y.to_numpy().reshape(-1,1)"
   ]
  },
  {
   "cell_type": "code",
   "execution_count": 27,
   "metadata": {},
   "outputs": [
    {
     "data": {
      "text/plain": [
       "LinearRegression(copy_X=True, fit_intercept=True, n_jobs=1, normalize=False)"
      ]
     },
     "execution_count": 27,
     "metadata": {},
     "output_type": "execute_result"
    }
   ],
   "source": [
    "regressor = LinearRegression()\n",
    "regressor.fit(x,y)"
   ]
  },
  {
   "cell_type": "code",
   "execution_count": 28,
   "metadata": {},
   "outputs": [
    {
     "name": "stdout",
     "output_type": "stream",
     "text": [
      "y = [ 9.34960697] + [[ 0.11912774]] X\n"
     ]
    }
   ],
   "source": [
    "# regression equation\n",
    "print('y = {} + {} X' .format(regressor.intercept_, regressor.coef_))"
   ]
  },
  {
   "cell_type": "code",
   "execution_count": 29,
   "metadata": {},
   "outputs": [
    {
     "name": "stdout",
     "output_type": "stream",
     "text": [
      "R2 = 0.023\n",
      "RMSE = 7.349\n"
     ]
    }
   ],
   "source": [
    "y_pred = regressor.predict(x)\n",
    "print('R2 = %.3f' %metrics.r2_score(y, y_pred))\n",
    "rmse = np.sqrt(metrics.mean_squared_error(y, y_pred))\n",
    "print('RMSE = %.3f' %rmse)"
   ]
  },
  {
   "cell_type": "markdown",
   "metadata": {},
   "source": [
    "Terbukti bahwa R2 yang kecil dan RMSE yang besar menandakan bahwa tidak adanya korelasi pada kedua variable"
   ]
  },
  {
   "cell_type": "markdown",
   "metadata": {},
   "source": [
    "Tetapi pada grafik heatmap Total AR memiliki korelasi yang cukup tinggi dengan AF dan OTR maka kita dapat mencari fungsi."
   ]
  },
  {
   "cell_type": "markdown",
   "metadata": {},
   "source": [
    "**Mencari RMSE dari Total AR, AF, dan OTR**"
   ]
  },
  {
   "cell_type": "code",
   "execution_count": 30,
   "metadata": {
    "collapsed": true
   },
   "outputs": [],
   "source": [
    "x = df_sample_edit[['AF','OTR']]\n",
    "y = df_sample_edit['Total_AR']"
   ]
  },
  {
   "cell_type": "code",
   "execution_count": 31,
   "metadata": {
    "collapsed": true
   },
   "outputs": [],
   "source": [
    "x = x.to_numpy()\n",
    "y = y.to_numpy().reshape(-1,1)"
   ]
  },
  {
   "cell_type": "code",
   "execution_count": 32,
   "metadata": {},
   "outputs": [
    {
     "data": {
      "text/plain": [
       "LinearRegression(copy_X=True, fit_intercept=True, n_jobs=1, normalize=False)"
      ]
     },
     "execution_count": 32,
     "metadata": {},
     "output_type": "execute_result"
    }
   ],
   "source": [
    "regressor = LinearRegression()\n",
    "regressor.fit(x,y)"
   ]
  },
  {
   "cell_type": "code",
   "execution_count": 33,
   "metadata": {},
   "outputs": [
    {
     "name": "stdout",
     "output_type": "stream",
     "text": [
      "y = [ 6.27183941] + [[ 1.6677809  -0.31020488]] X\n"
     ]
    }
   ],
   "source": [
    "# regression equation\n",
    "print('y = {} + {} X' .format(regressor.intercept_, regressor.coef_))"
   ]
  },
  {
   "cell_type": "code",
   "execution_count": 34,
   "metadata": {},
   "outputs": [
    {
     "name": "stdout",
     "output_type": "stream",
     "text": [
      "R2 = 0.933\n",
      "RMSE = 21.775\n"
     ]
    }
   ],
   "source": [
    "y_pred = regressor.predict(x)\n",
    "print('R2 = %.3f' %metrics.r2_score(y, y_pred))\n",
    "rmse = np.sqrt(metrics.mean_squared_error(y, y_pred))\n",
    "print('RMSE = %.3f' %rmse)"
   ]
  },
  {
   "cell_type": "markdown",
   "metadata": {},
   "source": [
    "Terbukti dari R2, bahwa mereka memiliki nilai korelasi yang tinggi dan nilai RMSE yang cukup kecil sehingga dapat disimpulkan bahwa Total_AR dapat dibuat dengan nilai AF dan nilai OTR."
   ]
  }
 ],
 "metadata": {
  "kernelspec": {
   "display_name": "Python 3",
   "language": "python",
   "name": "python3"
  },
  "language_info": {
   "codemirror_mode": {
    "name": "ipython",
    "version": 3
   },
   "file_extension": ".py",
   "mimetype": "text/x-python",
   "name": "python",
   "nbconvert_exporter": "python",
   "pygments_lexer": "ipython3",
   "version": "3.6.3"
  }
 },
 "nbformat": 4,
 "nbformat_minor": 2
}
