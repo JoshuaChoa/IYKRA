{
 "cells": [
  {
   "cell_type": "markdown",
   "metadata": {},
   "source": [
    "# Advanced Machine Learning "
   ]
  },
  {
   "cell_type": "code",
   "execution_count": 420,
   "metadata": {
    "ExecuteTime": {
     "end_time": "2019-11-08T08:06:21.512500Z",
     "start_time": "2019-11-08T08:06:21.440000Z"
    }
   },
   "outputs": [],
   "source": [
    "# Load dataset (iris), split into X_train, y_train, X_test, y_test!\n",
    "# Write your code here \n",
    "from sklearn import datasets\n",
    "from sklearn.model_selection import train_test_split, cross_val_score\n",
    "import warnings\n",
    "import pandas as pd\n",
    "warnings.filterwarnings(\"ignore\")\n",
    "\n",
    "breast_cancer = datasets.load_breast_cancer()\n",
    "\n",
    "X = breast_cancer.data\n",
    "y = breast_cancer.target\n",
    "X_train, X_test, y_train, y_test = train_test_split(X, y, test_size=0.3, random_state=42, stratify=y)"
   ]
  },
  {
   "cell_type": "code",
   "execution_count": 373,
   "metadata": {
    "ExecuteTime": {
     "end_time": "2019-11-08T07:42:22.960000Z",
     "start_time": "2019-11-08T07:42:22.917500Z"
    }
   },
   "outputs": [
    {
     "data": {
      "text/html": [
       "<div>\n",
       "<style scoped>\n",
       "    .dataframe tbody tr th:only-of-type {\n",
       "        vertical-align: middle;\n",
       "    }\n",
       "\n",
       "    .dataframe tbody tr th {\n",
       "        vertical-align: top;\n",
       "    }\n",
       "\n",
       "    .dataframe thead th {\n",
       "        text-align: right;\n",
       "    }\n",
       "</style>\n",
       "<table border=\"1\" class=\"dataframe\">\n",
       "  <thead>\n",
       "    <tr style=\"text-align: right;\">\n",
       "      <th></th>\n",
       "      <th>age</th>\n",
       "      <th>sex</th>\n",
       "      <th>bmi</th>\n",
       "      <th>bp</th>\n",
       "      <th>s1</th>\n",
       "      <th>s2</th>\n",
       "      <th>s3</th>\n",
       "      <th>s4</th>\n",
       "      <th>s5</th>\n",
       "      <th>s6</th>\n",
       "    </tr>\n",
       "  </thead>\n",
       "  <tbody>\n",
       "    <tr>\n",
       "      <th>0</th>\n",
       "      <td>0.038076</td>\n",
       "      <td>0.050680</td>\n",
       "      <td>0.061696</td>\n",
       "      <td>0.021872</td>\n",
       "      <td>-0.044223</td>\n",
       "      <td>-0.034821</td>\n",
       "      <td>-0.043401</td>\n",
       "      <td>-0.002592</td>\n",
       "      <td>0.019908</td>\n",
       "      <td>-0.017646</td>\n",
       "    </tr>\n",
       "    <tr>\n",
       "      <th>1</th>\n",
       "      <td>-0.001882</td>\n",
       "      <td>-0.044642</td>\n",
       "      <td>-0.051474</td>\n",
       "      <td>-0.026328</td>\n",
       "      <td>-0.008449</td>\n",
       "      <td>-0.019163</td>\n",
       "      <td>0.074412</td>\n",
       "      <td>-0.039493</td>\n",
       "      <td>-0.068330</td>\n",
       "      <td>-0.092204</td>\n",
       "    </tr>\n",
       "    <tr>\n",
       "      <th>2</th>\n",
       "      <td>0.085299</td>\n",
       "      <td>0.050680</td>\n",
       "      <td>0.044451</td>\n",
       "      <td>-0.005671</td>\n",
       "      <td>-0.045599</td>\n",
       "      <td>-0.034194</td>\n",
       "      <td>-0.032356</td>\n",
       "      <td>-0.002592</td>\n",
       "      <td>0.002864</td>\n",
       "      <td>-0.025930</td>\n",
       "    </tr>\n",
       "    <tr>\n",
       "      <th>3</th>\n",
       "      <td>-0.089063</td>\n",
       "      <td>-0.044642</td>\n",
       "      <td>-0.011595</td>\n",
       "      <td>-0.036656</td>\n",
       "      <td>0.012191</td>\n",
       "      <td>0.024991</td>\n",
       "      <td>-0.036038</td>\n",
       "      <td>0.034309</td>\n",
       "      <td>0.022692</td>\n",
       "      <td>-0.009362</td>\n",
       "    </tr>\n",
       "    <tr>\n",
       "      <th>4</th>\n",
       "      <td>0.005383</td>\n",
       "      <td>-0.044642</td>\n",
       "      <td>-0.036385</td>\n",
       "      <td>0.021872</td>\n",
       "      <td>0.003935</td>\n",
       "      <td>0.015596</td>\n",
       "      <td>0.008142</td>\n",
       "      <td>-0.002592</td>\n",
       "      <td>-0.031991</td>\n",
       "      <td>-0.046641</td>\n",
       "    </tr>\n",
       "  </tbody>\n",
       "</table>\n",
       "</div>"
      ],
      "text/plain": [
       "        age       sex       bmi        bp        s1        s2        s3  \\\n",
       "0  0.038076  0.050680  0.061696  0.021872 -0.044223 -0.034821 -0.043401   \n",
       "1 -0.001882 -0.044642 -0.051474 -0.026328 -0.008449 -0.019163  0.074412   \n",
       "2  0.085299  0.050680  0.044451 -0.005671 -0.045599 -0.034194 -0.032356   \n",
       "3 -0.089063 -0.044642 -0.011595 -0.036656  0.012191  0.024991 -0.036038   \n",
       "4  0.005383 -0.044642 -0.036385  0.021872  0.003935  0.015596  0.008142   \n",
       "\n",
       "         s4        s5        s6  \n",
       "0 -0.002592  0.019908 -0.017646  \n",
       "1 -0.039493 -0.068330 -0.092204  \n",
       "2 -0.002592  0.002864 -0.025930  \n",
       "3  0.034309  0.022692 -0.009362  \n",
       "4 -0.002592 -0.031991 -0.046641  "
      ]
     },
     "execution_count": 373,
     "metadata": {},
     "output_type": "execute_result"
    }
   ],
   "source": [
    "df.head(5)"
   ]
  },
  {
   "cell_type": "markdown",
   "metadata": {},
   "source": [
    "## 1. Voting "
   ]
  },
  {
   "cell_type": "code",
   "execution_count": 374,
   "metadata": {
    "ExecuteTime": {
     "end_time": "2019-11-08T07:42:23.277500Z",
     "start_time": "2019-11-08T07:42:23.242500Z"
    }
   },
   "outputs": [
    {
     "name": "stdout",
     "output_type": "stream",
     "text": [
      "Accuracy: 0.942\n"
     ]
    }
   ],
   "source": [
    "from sklearn.ensemble import VotingClassifier\n",
    "from sklearn.neighbors import KNeighborsClassifier\n",
    "from sklearn.tree import DecisionTreeClassifier\n",
    "from sklearn.linear_model import LogisticRegression\n",
    "from sklearn.metrics import accuracy_score, classification_report\n",
    "\n",
    "# Hint: \n",
    "# clf_voting = VotingClassifier( estimators=[('label1', clf_1),\n",
    "#('label2', clf_2),\n",
    "#('labelN', clf_N)]) \n",
    "\n",
    "# Create the individual models\n",
    "clf_knn = KNeighborsClassifier(5)\n",
    "clf_dt = DecisionTreeClassifier()\n",
    "clf_lr = LogisticRegression()\n",
    "\n",
    "# Create voting classifier\n",
    "clf_voting = VotingClassifier(estimators=[\n",
    "('knn', clf_knn),\n",
    "('dt', clf_dt),\n",
    "('lr', clf_lr)])\n",
    "\n",
    "# Fit it to the training set and predict\n",
    "clf_voting.fit(X_train, y_train)\n",
    "y_pred = clf_voting.predict(X_test)\n",
    "\n",
    "# Get the accuracy score\n",
    "acc = accuracy_score(y_test, y_pred)\n",
    "print(\"Accuracy: {:0.3f}\".format(acc))"
   ]
  },
  {
   "cell_type": "code",
   "execution_count": 375,
   "metadata": {
    "ExecuteTime": {
     "end_time": "2019-11-08T07:42:23.460000Z",
     "start_time": "2019-11-08T07:42:23.430000Z"
    }
   },
   "outputs": [
    {
     "name": "stdout",
     "output_type": "stream",
     "text": [
      "Voting Classifier \n",
      "               precision    recall  f1-score   support\n",
      "\n",
      "           0       0.95      0.89      0.92        64\n",
      "           1       0.94      0.97      0.95       107\n",
      "\n",
      "    accuracy                           0.94       171\n",
      "   macro avg       0.94      0.93      0.94       171\n",
      "weighted avg       0.94      0.94      0.94       171\n",
      "\n"
     ]
    }
   ],
   "source": [
    "print('Voting Classifier \\n',classification_report(y_test, clf_voting.predict(X_test)))"
   ]
  },
  {
   "cell_type": "code",
   "execution_count": 376,
   "metadata": {
    "ExecuteTime": {
     "end_time": "2019-11-08T07:42:23.667500Z",
     "start_time": "2019-11-08T07:42:23.610000Z"
    }
   },
   "outputs": [
    {
     "name": "stdout",
     "output_type": "stream",
     "text": [
      "KNN Classifier \n",
      "               precision    recall  f1-score   support\n",
      "\n",
      "           0       0.90      0.89      0.90        64\n",
      "           1       0.94      0.94      0.94       107\n",
      "\n",
      "    accuracy                           0.92       171\n",
      "   macro avg       0.92      0.92      0.92       171\n",
      "weighted avg       0.92      0.92      0.92       171\n",
      "\n"
     ]
    }
   ],
   "source": [
    "clf_knn.fit(X_train, y_train)\n",
    "y_pred = clf_knn.predict(X_test)\n",
    "\n",
    "print('KNN Classifier \\n',classification_report(y_test, clf_knn.predict(X_test)))"
   ]
  },
  {
   "cell_type": "code",
   "execution_count": 377,
   "metadata": {
    "ExecuteTime": {
     "end_time": "2019-11-08T07:42:23.827500Z",
     "start_time": "2019-11-08T07:42:23.785000Z"
    }
   },
   "outputs": [
    {
     "name": "stdout",
     "output_type": "stream",
     "text": [
      "Decision Tree Classifier \n",
      "               precision    recall  f1-score   support\n",
      "\n",
      "           0       0.92      0.89      0.90        64\n",
      "           1       0.94      0.95      0.94       107\n",
      "\n",
      "    accuracy                           0.93       171\n",
      "   macro avg       0.93      0.92      0.92       171\n",
      "weighted avg       0.93      0.93      0.93       171\n",
      "\n"
     ]
    }
   ],
   "source": [
    "clf_dt.fit(X_train, y_train)\n",
    "y_pred = clf_dt.predict(X_test)\n",
    "\n",
    "print('Decision Tree Classifier \\n',classification_report(y_test, clf_dt.predict(X_test)))"
   ]
  },
  {
   "cell_type": "code",
   "execution_count": 378,
   "metadata": {
    "ExecuteTime": {
     "end_time": "2019-11-08T07:42:23.995000Z",
     "start_time": "2019-11-08T07:42:23.962500Z"
    }
   },
   "outputs": [
    {
     "name": "stdout",
     "output_type": "stream",
     "text": [
      "Linear Regression \n",
      "               precision    recall  f1-score   support\n",
      "\n",
      "           0       0.97      0.88      0.92        64\n",
      "           1       0.93      0.98      0.95       107\n",
      "\n",
      "    accuracy                           0.94       171\n",
      "   macro avg       0.95      0.93      0.94       171\n",
      "weighted avg       0.94      0.94      0.94       171\n",
      "\n"
     ]
    }
   ],
   "source": [
    "clf_lr.fit(X_train, y_train)\n",
    "y_pred = clf_lr.predict(X_test)\n",
    "\n",
    "print('Linear Regression \\n',classification_report(y_test, clf_lr.predict(X_test)))"
   ]
  },
  {
   "cell_type": "markdown",
   "metadata": {},
   "source": [
    "## 2. Averaging "
   ]
  },
  {
   "cell_type": "code",
   "execution_count": 379,
   "metadata": {
    "ExecuteTime": {
     "end_time": "2019-11-08T07:42:24.355000Z",
     "start_time": "2019-11-08T07:42:24.330000Z"
    }
   },
   "outputs": [],
   "source": [
    "# Template for averaging Classifier \n",
    "\n",
    "from sklearn.ensemble import VotingClassifier\n",
    "from sklearn.neighbors import KNeighborsClassifier\n",
    "from sklearn.tree import DecisionTreeClassifier\n",
    "from sklearn.linear_model import LogisticRegression\n",
    "from sklearn.metrics import accuracy_score\n",
    "\n",
    "# clf_voting = VotingClassifier(\n",
    "# estimators=[\n",
    "#('label1', clf_1),\n",
    "#('label2', clf_2),\n",
    "#...\n",
    "#('labelN', clf_N)],\n",
    "#voting='soft',\n",
    "#weights=[w_1, w_2, ..., w_N]\n",
    "#)"
   ]
  },
  {
   "cell_type": "code",
   "execution_count": 380,
   "metadata": {
    "ExecuteTime": {
     "end_time": "2019-11-08T07:42:24.565000Z",
     "start_time": "2019-11-08T07:42:24.510000Z"
    }
   },
   "outputs": [
    {
     "name": "stdout",
     "output_type": "stream",
     "text": [
      "Accuracy: 0.953\n"
     ]
    }
   ],
   "source": [
    "# Initiate the individual models \n",
    "\n",
    "# Write your code here! \n",
    "\n",
    "clf_knn = KNeighborsClassifier(3)\n",
    "clf_dt = DecisionTreeClassifier()\n",
    "clf_lr = LogisticRegression()\n",
    "\n",
    "clf_voting = VotingClassifier(estimators=[('knn', clf_knn),\n",
    "                                          ('dt', clf_dt),\n",
    "                                          ('lr', clf_lr)],\n",
    "                             voting='soft',\n",
    "                             weights=[1,1,2])\n",
    "\n",
    "# Create averaging classifier\n",
    "\n",
    "# Write your code here! \n",
    "\n",
    "# Fit it to the training set and predict\n",
    "clf_voting.fit(X_train, y_train)\n",
    "y_pred = clf_voting.predict(X_test)\n",
    "\n",
    "# Get the accuracy score\n",
    "acc = accuracy_score(y_test, y_pred)\n",
    "print(\"Accuracy: {:0.3f}\".format(acc))"
   ]
  },
  {
   "cell_type": "code",
   "execution_count": 381,
   "metadata": {
    "ExecuteTime": {
     "end_time": "2019-11-08T07:42:24.750000Z",
     "start_time": "2019-11-08T07:42:24.695000Z"
    }
   },
   "outputs": [
    {
     "name": "stdout",
     "output_type": "stream",
     "text": [
      "Averaging Classifier \n",
      "               precision    recall  f1-score   support\n",
      "\n",
      "           0       1.00      0.88      0.93        64\n",
      "           1       0.93      1.00      0.96       107\n",
      "\n",
      "    accuracy                           0.95       171\n",
      "   macro avg       0.97      0.94      0.95       171\n",
      "weighted avg       0.96      0.95      0.95       171\n",
      "\n"
     ]
    }
   ],
   "source": [
    "clf_voting.fit(X_train, y_train)\n",
    "y_pred = clf_voting.predict(X_test)\n",
    "\n",
    "print('Averaging Classifier \\n',classification_report(y_test, clf_voting.predict(X_test)))"
   ]
  },
  {
   "cell_type": "markdown",
   "metadata": {},
   "source": [
    "## 3. Bagging"
   ]
  },
  {
   "cell_type": "code",
   "execution_count": 382,
   "metadata": {
    "ExecuteTime": {
     "end_time": "2019-11-08T07:42:25.149000Z",
     "start_time": "2019-11-08T07:42:25.087500Z"
    }
   },
   "outputs": [
    {
     "name": "stdout",
     "output_type": "stream",
     "text": [
      "Accuracy: 0.918\n"
     ]
    }
   ],
   "source": [
    "from sklearn.ensemble import BaggingClassifier\n",
    "from sklearn.neighbors import KNeighborsClassifier\n",
    "import numpy as np\n",
    "\n",
    "bagging = BaggingClassifier(KNeighborsClassifier(3),\n",
    "                           max_samples=0.5, max_features=0.5)\n",
    "\n",
    "# Fit it to the training set and predict\n",
    "bagging.fit(X_train, y_train)\n",
    "y_pred = bagging.predict(X_test)\n",
    "\n",
    "# Get the accuracy score\n",
    "acc = accuracy_score(y_test, y_pred)\n",
    "print(\"Accuracy: {:0.3f}\".format(acc))"
   ]
  },
  {
   "cell_type": "code",
   "execution_count": 383,
   "metadata": {
    "ExecuteTime": {
     "end_time": "2019-11-08T07:42:25.354500Z",
     "start_time": "2019-11-08T07:42:25.269500Z"
    }
   },
   "outputs": [
    {
     "name": "stdout",
     "output_type": "stream",
     "text": [
      "Bagging Classifier \n",
      "               precision    recall  f1-score   support\n",
      "\n",
      "           0       0.93      0.88      0.90        64\n",
      "           1       0.93      0.96      0.94       107\n",
      "\n",
      "    accuracy                           0.93       171\n",
      "   macro avg       0.93      0.92      0.92       171\n",
      "weighted avg       0.93      0.93      0.93       171\n",
      "\n"
     ]
    }
   ],
   "source": [
    "bagging.fit(X_train, y_train)\n",
    "y_pred = bagging.predict(X_test)\n",
    "\n",
    "print('Bagging Classifier \\n',classification_report(y_test, bagging.predict(X_test)))"
   ]
  },
  {
   "cell_type": "code",
   "execution_count": 384,
   "metadata": {
    "ExecuteTime": {
     "end_time": "2019-11-08T07:42:25.552000Z",
     "start_time": "2019-11-08T07:42:25.479500Z"
    }
   },
   "outputs": [
    {
     "name": "stdout",
     "output_type": "stream",
     "text": [
      "Accuracy: 0.942\n"
     ]
    }
   ],
   "source": [
    "# Write your code here if base classifier = decision tree!\n",
    "from sklearn.tree import DecisionTreeClassifier\n",
    "\n",
    "bagging = BaggingClassifier(DecisionTreeClassifier(),\n",
    "                           max_samples=0.5, max_features=0.5)\n",
    "\n",
    "# Fit it to the training set and predict\n",
    "bagging.fit(X_train, y_train)\n",
    "y_pred = bagging.predict(X_test)\n",
    "\n",
    "# Get the accuracy score\n",
    "acc = accuracy_score(y_test, y_pred)\n",
    "print(\"Accuracy: {:0.3f}\".format(acc))"
   ]
  },
  {
   "cell_type": "code",
   "execution_count": 385,
   "metadata": {
    "ExecuteTime": {
     "end_time": "2019-11-08T07:42:25.769500Z",
     "start_time": "2019-11-08T07:42:25.679500Z"
    }
   },
   "outputs": [
    {
     "name": "stdout",
     "output_type": "stream",
     "text": [
      "Averaging Classifier \n",
      "               precision    recall  f1-score   support\n",
      "\n",
      "           0       0.94      0.91      0.92        64\n",
      "           1       0.94      0.96      0.95       107\n",
      "\n",
      "    accuracy                           0.94       171\n",
      "   macro avg       0.94      0.93      0.94       171\n",
      "weighted avg       0.94      0.94      0.94       171\n",
      "\n"
     ]
    }
   ],
   "source": [
    "bagging.fit(X_train, y_train)\n",
    "y_pred = bagging.predict(X_test)\n",
    "\n",
    "print('Averaging Classifier \\n',classification_report(y_test, bagging.predict(X_test)))"
   ]
  },
  {
   "cell_type": "code",
   "execution_count": 386,
   "metadata": {
    "ExecuteTime": {
     "end_time": "2019-11-08T07:42:26.087000Z",
     "start_time": "2019-11-08T07:42:25.864500Z"
    }
   },
   "outputs": [
    {
     "name": "stdout",
     "output_type": "stream",
     "text": [
      "Accuracy: 0.936\n"
     ]
    }
   ],
   "source": [
    "# Write your code here if you use RandomForest, compare with above!\n",
    "\n",
    "from sklearn.ensemble import RandomForestClassifier\n",
    "\n",
    "bagging = BaggingClassifier(RandomForestClassifier(),\n",
    "                           max_samples=0.5, max_features=0.5)\n",
    "\n",
    "# Fit it to the training set and predict\n",
    "bagging.fit(X_train, y_train)\n",
    "y_pred = bagging.predict(X_test)\n",
    "\n",
    "# Get the accuracy score\n",
    "acc = accuracy_score(y_test, y_pred)\n",
    "print(\"Accuracy: {:0.3f}\".format(acc))"
   ]
  },
  {
   "cell_type": "code",
   "execution_count": 387,
   "metadata": {
    "ExecuteTime": {
     "end_time": "2019-11-08T07:42:26.304500Z",
     "start_time": "2019-11-08T07:42:26.089500Z"
    }
   },
   "outputs": [
    {
     "name": "stdout",
     "output_type": "stream",
     "text": [
      "Averaging Classifier \n",
      "               precision    recall  f1-score   support\n",
      "\n",
      "           0       0.92      0.91      0.91        64\n",
      "           1       0.94      0.95      0.95       107\n",
      "\n",
      "    accuracy                           0.94       171\n",
      "   macro avg       0.93      0.93      0.93       171\n",
      "weighted avg       0.94      0.94      0.94       171\n",
      "\n"
     ]
    }
   ],
   "source": [
    "bagging.fit(X_train, y_train)\n",
    "y_pred = bagging.predict(X_test)\n",
    "\n",
    "print('Averaging Classifier \\n',classification_report(y_test, bagging.predict(X_test)))"
   ]
  },
  {
   "cell_type": "markdown",
   "metadata": {},
   "source": [
    "## 4. Boosting\n",
    "Source: https://scikit-learn.org/stable/modules/ensemble.html"
   ]
  },
  {
   "cell_type": "code",
   "execution_count": 388,
   "metadata": {
    "ExecuteTime": {
     "end_time": "2019-11-08T07:42:26.482000Z",
     "start_time": "2019-11-08T07:42:26.469500Z"
    }
   },
   "outputs": [],
   "source": [
    "from sklearn.ensemble import AdaBoostClassifier\n",
    "# clf_ada = AdaBoostClassifier(\n",
    "# base_estimator,\n",
    "# n_estimators,\n",
    "# learning_rate\n",
    "# )\n",
    "\n",
    "# base_estimator\n",
    "# Default: Decision Tree (max_depth=1)\n",
    "# n_estimators\n",
    "# Default: 50\n",
    "# learning_rate\n",
    "# Default: 1.0\n",
    "# Trade-off between n_estimators and\n",
    "# learning_rate"
   ]
  },
  {
   "cell_type": "markdown",
   "metadata": {},
   "source": [
    "### Create AdaBoost Classifier for iris dataset!"
   ]
  },
  {
   "cell_type": "code",
   "execution_count": 389,
   "metadata": {
    "ExecuteTime": {
     "end_time": "2019-11-08T07:42:26.872000Z",
     "start_time": "2019-11-08T07:42:26.867000Z"
    }
   },
   "outputs": [],
   "source": [
    "# Write your code here!\n",
    "clf_ada = AdaBoostClassifier(\n",
    "DecisionTreeClassifier(),\n",
    "n_estimators=100,\n",
    "learning_rate=0.2\n",
    ")"
   ]
  },
  {
   "cell_type": "code",
   "execution_count": 390,
   "metadata": {
    "ExecuteTime": {
     "end_time": "2019-11-08T07:42:27.142000Z",
     "start_time": "2019-11-08T07:42:27.072000Z"
    }
   },
   "outputs": [
    {
     "name": "stdout",
     "output_type": "stream",
     "text": [
      "Accuracy: 0.924 \n",
      "\n",
      "AdaBoost Classifier \n",
      "               precision    recall  f1-score   support\n",
      "\n",
      "           0       0.92      0.88      0.90        64\n",
      "           1       0.93      0.95      0.94       107\n",
      "\n",
      "    accuracy                           0.92       171\n",
      "   macro avg       0.92      0.91      0.92       171\n",
      "weighted avg       0.92      0.92      0.92       171\n",
      "\n"
     ]
    }
   ],
   "source": [
    "# Fit it to the training set and predict\n",
    "clf_ada.fit(X_train, y_train)\n",
    "y_pred = clf_ada.predict(X_test)\n",
    "\n",
    "# Get the accuracy score\n",
    "acc = accuracy_score(y_test, y_pred)\n",
    "print(\"Accuracy: {:0.3f}\".format(acc),'\\n')\n",
    "print('AdaBoost Classifier \\n',classification_report(y_test, clf_ada.predict(X_test)))"
   ]
  },
  {
   "cell_type": "code",
   "execution_count": 391,
   "metadata": {
    "ExecuteTime": {
     "end_time": "2019-11-08T07:42:27.272000Z",
     "start_time": "2019-11-08T07:42:27.262000Z"
    }
   },
   "outputs": [],
   "source": [
    "from sklearn.ensemble import AdaBoostRegressor\n",
    "from sklearn.linear_model import LogisticRegression\n",
    "\n",
    "reg_ada = AdaBoostRegressor(\n",
    "LogisticRegression(),\n",
    "n_estimators=100,\n",
    "learning_rate=0.1,\n",
    "loss='square'\n",
    ")\n",
    "\n",
    "# base_estimator\n",
    "# Default: Decision Tree (max_depth=3)\n",
    "# loss\n",
    "# linear (default)\n",
    "# square\n",
    "# exponential"
   ]
  },
  {
   "cell_type": "code",
   "execution_count": 392,
   "metadata": {
    "ExecuteTime": {
     "end_time": "2019-11-08T07:42:27.502000Z",
     "start_time": "2019-11-08T07:42:27.464500Z"
    }
   },
   "outputs": [],
   "source": [
    "diabetes = datasets.load_diabetes()\n",
    "\n",
    "X = diabetes.data\n",
    "y = diabetes.target\n",
    "X_train, X_test, y_train, y_test = train_test_split(X, y, test_size=0.3, random_state=42)"
   ]
  },
  {
   "cell_type": "code",
   "execution_count": 393,
   "metadata": {
    "ExecuteTime": {
     "end_time": "2019-11-08T07:42:31.369500Z",
     "start_time": "2019-11-08T07:42:27.677000Z"
    }
   },
   "outputs": [
    {
     "name": "stdout",
     "output_type": "stream",
     "text": [
      "Accuracy: 0.000 \n",
      "\n",
      "AdaBoost Regressor \n",
      "               precision    recall  f1-score   support\n",
      "\n",
      "        37.0       0.00      0.00      0.00       1.0\n",
      "        42.0       0.00      0.00      0.00       1.0\n",
      "        48.0       0.00      0.00      0.00       2.0\n",
      "        52.0       0.00      0.00      0.00       3.0\n",
      "        53.0       0.00      0.00      0.00       1.0\n",
      "        59.0       0.00      0.00      0.00       1.0\n",
      "        60.0       0.00      0.00      0.00       2.0\n",
      "        61.0       0.00      0.00      0.00       2.0\n",
      "        63.0       0.00      0.00      0.00       3.0\n",
      "        64.0       0.00      0.00      0.00       1.0\n",
      "        65.0       0.00      0.00      0.00       1.0\n",
      "        67.0       0.00      0.00      0.00       1.0\n",
      "        68.0       0.00      0.00      0.00       1.0\n",
      "        69.0       0.00      0.00      0.00       1.0\n",
      "        70.0       0.00      0.00      0.00       1.0\n",
      "        71.0       0.00      0.00      0.00       1.0\n",
      "        72.0       0.00      0.00      0.00       4.0\n",
      "        77.0       0.00      0.00      0.00       1.0\n",
      "        78.0       0.00      0.00      0.00       0.0\n",
      "        84.0       0.00      0.00      0.00       2.0\n",
      "        85.0       0.00      0.00      0.00       0.0\n",
      "        87.0       0.00      0.00      0.00       1.0\n",
      "        88.0       0.00      0.00      0.00       1.0\n",
      "        89.0       0.00      0.00      0.00       1.0\n",
      "        90.0       0.00      0.00      0.00       4.0\n",
      "        91.0       0.00      0.00      0.00       1.0\n",
      "        93.0       0.00      0.00      0.00       1.0\n",
      "        94.0       0.00      0.00      0.00       2.0\n",
      "        95.0       0.00      0.00      0.00       1.0\n",
      "        96.0       0.00      0.00      0.00       2.0\n",
      "        97.0       0.00      0.00      0.00       2.0\n",
      "        98.0       0.00      0.00      0.00       1.0\n",
      "        99.0       0.00      0.00      0.00       1.0\n",
      "       101.0       0.00      0.00      0.00       2.0\n",
      "       102.0       0.00      0.00      0.00       2.0\n",
      "       104.0       0.00      0.00      0.00       1.0\n",
      "       107.0       0.00      0.00      0.00       1.0\n",
      "       108.0       0.00      0.00      0.00       1.0\n",
      "       109.0       0.00      0.00      0.00       0.0\n",
      "       110.0       0.00      0.00      0.00       1.0\n",
      "       111.0       0.00      0.00      0.00       1.0\n",
      "       113.0       0.00      0.00      0.00       1.0\n",
      "       118.0       0.00      0.00      0.00       1.0\n",
      "       121.0       0.00      0.00      0.00       1.0\n",
      "       122.0       0.00      0.00      0.00       1.0\n",
      "       124.0       0.00      0.00      0.00       0.0\n",
      "       125.0       0.00      0.00      0.00       1.0\n",
      "       127.0       0.00      0.00      0.00       0.0\n",
      "       128.0       0.00      0.00      0.00       2.0\n",
      "       129.0       0.00      0.00      0.00       2.0\n",
      "       131.0       0.00      0.00      0.00       0.0\n",
      "       132.0       0.00      0.00      0.00       1.0\n",
      "       135.0       0.00      0.00      0.00       1.0\n",
      "       136.0       0.00      0.00      0.00       1.0\n",
      "       137.0       0.00      0.00      0.00       1.0\n",
      "       138.0       0.00      0.00      0.00       0.0\n",
      "       140.0       0.00      0.00      0.00       2.0\n",
      "       144.0       0.00      0.00      0.00       1.0\n",
      "       150.0       0.00      0.00      0.00       1.0\n",
      "       151.0       0.00      0.00      0.00       1.0\n",
      "       153.0       0.00      0.00      0.00       1.0\n",
      "       156.0       0.00      0.00      0.00       1.0\n",
      "       158.0       0.00      0.00      0.00       1.0\n",
      "       164.0       0.00      0.00      0.00       1.0\n",
      "       166.0       0.00      0.00      0.00       1.0\n",
      "       167.0       0.00      0.00      0.00       1.0\n",
      "       168.0       0.00      0.00      0.00       2.0\n",
      "       170.0       0.00      0.00      0.00       1.0\n",
      "       171.0       0.00      0.00      0.00       1.0\n",
      "       172.0       0.00      0.00      0.00       1.0\n",
      "       173.0       0.00      0.00      0.00       1.0\n",
      "       174.0       0.00      0.00      0.00       1.0\n",
      "       178.0       0.00      0.00      0.00       1.0\n",
      "       180.0       0.00      0.00      0.00       1.0\n",
      "       181.0       0.00      0.00      0.00       1.0\n",
      "       182.0       0.00      0.00      0.00       0.0\n",
      "       184.0       0.00      0.00      0.00       1.0\n",
      "       185.0       0.00      0.00      0.00       0.0\n",
      "       186.0       0.00      0.00      0.00       1.0\n",
      "       187.0       0.00      0.00      0.00       1.0\n",
      "       189.0       0.00      0.00      0.00       1.0\n",
      "       190.0       0.00      0.00      0.00       1.0\n",
      "       197.0       0.00      0.00      0.00       1.0\n",
      "       198.0       0.00      0.00      0.00       0.0\n",
      "       200.0       0.00      0.00      0.00       1.0\n",
      "       202.0       0.00      0.00      0.00       2.0\n",
      "       206.0       0.00      0.00      0.00       1.0\n",
      "       214.0       0.00      0.00      0.00       1.0\n",
      "       217.0       0.00      0.00      0.00       0.0\n",
      "       219.0       0.00      0.00      0.00       1.0\n",
      "       220.0       0.00      0.00      0.00       2.0\n",
      "       222.0       0.00      0.00      0.00       1.0\n",
      "       230.0       0.00      0.00      0.00       1.0\n",
      "       232.0       0.00      0.00      0.00       2.0\n",
      "       233.0       0.00      0.00      0.00       2.0\n",
      "       237.0       0.00      0.00      0.00       1.0\n",
      "       242.0       0.00      0.00      0.00       2.0\n",
      "       248.0       0.00      0.00      0.00       1.0\n",
      "       252.0       0.00      0.00      0.00       1.0\n",
      "       257.0       0.00      0.00      0.00       1.0\n",
      "       258.0       0.00      0.00      0.00       1.0\n",
      "       262.0       0.00      0.00      0.00       1.0\n",
      "       263.0       0.00      0.00      0.00       1.0\n",
      "       264.0       0.00      0.00      0.00       1.0\n",
      "       265.0       0.00      0.00      0.00       1.0\n",
      "       270.0       0.00      0.00      0.00       1.0\n",
      "       272.0       0.00      0.00      0.00       1.0\n",
      "       275.0       0.00      0.00      0.00       1.0\n",
      "       277.0       0.00      0.00      0.00       1.0\n",
      "       280.0       0.00      0.00      0.00       1.0\n",
      "       281.0       0.00      0.00      0.00       2.0\n",
      "       283.0       0.00      0.00      0.00       1.0\n",
      "       295.0       0.00      0.00      0.00       1.0\n",
      "       297.0       0.00      0.00      0.00       1.0\n",
      "       310.0       0.00      0.00      0.00       1.0\n",
      "\n",
      "    accuracy                           0.00     133.0\n",
      "   macro avg       0.00      0.00      0.00     133.0\n",
      "weighted avg       0.00      0.00      0.00     133.0\n",
      "\n"
     ]
    }
   ],
   "source": [
    "# Fit it to the training set and predict\n",
    "reg_ada.fit(X_train, y_train)\n",
    "y_pred = reg_ada.predict(X_test)\n",
    "\n",
    "# Get the accuracy score\n",
    "acc = accuracy_score(y_test, y_pred)\n",
    "print(\"Accuracy: {:0.3f}\".format(acc),'\\n')\n",
    "print('AdaBoost Regressor \\n',classification_report(y_test, reg_ada.predict(X_test)))"
   ]
  },
  {
   "cell_type": "code",
   "execution_count": 394,
   "metadata": {
    "ExecuteTime": {
     "end_time": "2019-11-08T07:42:31.377000Z",
     "start_time": "2019-11-08T07:42:31.372000Z"
    }
   },
   "outputs": [],
   "source": [
    "from sklearn.ensemble import GradientBoostingClassifier\n",
    "\n",
    "grad_boo = GradientBoostingClassifier()"
   ]
  },
  {
   "cell_type": "code",
   "execution_count": 395,
   "metadata": {
    "ExecuteTime": {
     "end_time": "2019-11-08T07:42:31.627000Z",
     "start_time": "2019-11-08T07:42:31.377000Z"
    }
   },
   "outputs": [],
   "source": [
    "breast_cancer = datasets.load_breast_cancer()\n",
    "\n",
    "X = breast_cancer.data\n",
    "y = breast_cancer.target\n",
    "X_train, X_test, y_train, y_test = train_test_split(X, y, test_size=0.3, random_state=42, stratify=y)"
   ]
  },
  {
   "cell_type": "code",
   "execution_count": 396,
   "metadata": {
    "ExecuteTime": {
     "end_time": "2019-11-08T07:42:32.012000Z",
     "start_time": "2019-11-08T07:42:31.632000Z"
    }
   },
   "outputs": [
    {
     "name": "stdout",
     "output_type": "stream",
     "text": [
      "Accuracy: 0.942 \n",
      "\n",
      "GradientBoost Classifier \n",
      "               precision    recall  f1-score   support\n",
      "\n",
      "           0       0.95      0.89      0.92        64\n",
      "           1       0.94      0.97      0.95       107\n",
      "\n",
      "    accuracy                           0.94       171\n",
      "   macro avg       0.94      0.93      0.94       171\n",
      "weighted avg       0.94      0.94      0.94       171\n",
      "\n"
     ]
    }
   ],
   "source": [
    "# Fit it to the training set and predict\n",
    "grad_boo.fit(X_train, y_train)\n",
    "y_pred = grad_boo.predict(X_test)\n",
    "\n",
    "# Get the accuracy score\n",
    "acc = accuracy_score(y_test, y_pred)\n",
    "print(\"Accuracy: {:0.3f}\".format(acc),'\\n')\n",
    "print('GradientBoost Classifier \\n',classification_report(y_test, grad_boo.predict(X_test)))"
   ]
  },
  {
   "cell_type": "markdown",
   "metadata": {},
   "source": [
    "### Create GradientBoostingClassifier for iris Dataset!"
   ]
  },
  {
   "cell_type": "code",
   "execution_count": 397,
   "metadata": {
    "ExecuteTime": {
     "end_time": "2019-11-08T07:42:32.019500Z",
     "start_time": "2019-11-08T07:42:32.014500Z"
    }
   },
   "outputs": [],
   "source": [
    "# Write your code here!"
   ]
  },
  {
   "cell_type": "code",
   "execution_count": 398,
   "metadata": {
    "ExecuteTime": {
     "end_time": "2019-11-08T07:42:32.184500Z",
     "start_time": "2019-11-08T07:42:32.022000Z"
    }
   },
   "outputs": [],
   "source": [
    "# import xgboost as xgb => ini mesti install dulu \n",
    "# import lightgbm as lgb\n",
    "# import catboost as cb\n",
    "# Cek di sini: \n",
    "# https://stackoverflow.com/questions/35139108/how-to-install-xgboost-in-anaconda-python-windows-platform"
   ]
  },
  {
   "cell_type": "code",
   "execution_count": 399,
   "metadata": {
    "ExecuteTime": {
     "end_time": "2019-11-08T07:42:32.289500Z",
     "start_time": "2019-11-08T07:42:32.192000Z"
    }
   },
   "outputs": [],
   "source": [
    "df_train = df_1.loc[:(len(df_1)*0.8)]"
   ]
  },
  {
   "cell_type": "code",
   "execution_count": 400,
   "metadata": {
    "ExecuteTime": {
     "end_time": "2019-11-08T07:42:32.494500Z",
     "start_time": "2019-11-08T07:42:32.299500Z"
    }
   },
   "outputs": [],
   "source": [
    "df_test = df_1.loc[(len(df_1)*0.8):]"
   ]
  },
  {
   "cell_type": "code",
   "execution_count": 422,
   "metadata": {
    "ExecuteTime": {
     "end_time": "2019-11-08T08:19:24.803000Z",
     "start_time": "2019-11-08T08:19:24.790500Z"
    }
   },
   "outputs": [],
   "source": [
    "from xgboost import XGBClassifier\n",
    "\n",
    "xgbc = XGBClassifier()"
   ]
  },
  {
   "cell_type": "code",
   "execution_count": 423,
   "metadata": {
    "ExecuteTime": {
     "end_time": "2019-11-08T08:19:32.203000Z",
     "start_time": "2019-11-08T08:19:32.030500Z"
    }
   },
   "outputs": [
    {
     "name": "stdout",
     "output_type": "stream",
     "text": [
      "Accuracy: 0.953 \n",
      "\n",
      "XGBoost Regressor \n",
      "               precision    recall  f1-score   support\n",
      "\n",
      "           0       0.97      0.91      0.94        64\n",
      "           1       0.95      0.98      0.96       107\n",
      "\n",
      "    accuracy                           0.95       171\n",
      "   macro avg       0.96      0.94      0.95       171\n",
      "weighted avg       0.95      0.95      0.95       171\n",
      "\n"
     ]
    }
   ],
   "source": [
    "xgbc.fit(X_train, y_train)\n",
    "y_pred = xgbc.predict(X_test)\n",
    "predictions = [round(value) for value in y_pred]\n",
    "\n",
    "# Get the accuracy score\n",
    "acc = accuracy_score(y_test, predictions)\n",
    "print(\"Accuracy: {:0.3f}\".format(acc),'\\n')\n",
    "print('XGBoost Regressor \\n',classification_report(y_test, predictions))"
   ]
  },
  {
   "cell_type": "code",
   "execution_count": 403,
   "metadata": {
    "ExecuteTime": {
     "end_time": "2019-11-08T07:42:33.332000Z",
     "start_time": "2019-11-08T07:42:33.107000Z"
    }
   },
   "outputs": [
    {
     "name": "stdout",
     "output_type": "stream",
     "text": [
      "[1]\tvalid_0's auc: 0.935967\n",
      "Training until validation scores don't improve for 100 rounds\n",
      "[2]\tvalid_0's auc: 0.964369\n",
      "[3]\tvalid_0's auc: 0.96123\n",
      "[4]\tvalid_0's auc: 0.97021\n",
      "[5]\tvalid_0's auc: 0.977439\n",
      "[6]\tvalid_0's auc: 0.977731\n",
      "[7]\tvalid_0's auc: 0.978315\n",
      "[8]\tvalid_0's auc: 0.977293\n",
      "[9]\tvalid_0's auc: 0.97868\n",
      "[10]\tvalid_0's auc: 0.981162\n",
      "[11]\tvalid_0's auc: 0.978242\n",
      "[12]\tvalid_0's auc: 0.979264\n",
      "[13]\tvalid_0's auc: 0.980286\n",
      "[14]\tvalid_0's auc: 0.98087\n",
      "[15]\tvalid_0's auc: 0.979702\n",
      "[16]\tvalid_0's auc: 0.98087\n",
      "[17]\tvalid_0's auc: 0.981893\n",
      "[18]\tvalid_0's auc: 0.982623\n",
      "[19]\tvalid_0's auc: 0.982039\n",
      "[20]\tvalid_0's auc: 0.983645\n",
      "[21]\tvalid_0's auc: 0.984375\n",
      "[22]\tvalid_0's auc: 0.983937\n",
      "[23]\tvalid_0's auc: 0.984521\n",
      "[24]\tvalid_0's auc: 0.985397\n",
      "[25]\tvalid_0's auc: 0.985981\n",
      "[26]\tvalid_0's auc: 0.986711\n",
      "[27]\tvalid_0's auc: 0.987442\n",
      "[28]\tvalid_0's auc: 0.987442\n",
      "[29]\tvalid_0's auc: 0.987442\n",
      "[30]\tvalid_0's auc: 0.987588\n",
      "[31]\tvalid_0's auc: 0.988464\n",
      "[32]\tvalid_0's auc: 0.989194\n",
      "[33]\tvalid_0's auc: 0.989048\n",
      "[34]\tvalid_0's auc: 0.989194\n",
      "[35]\tvalid_0's auc: 0.989194\n",
      "[36]\tvalid_0's auc: 0.98934\n",
      "[37]\tvalid_0's auc: 0.989924\n",
      "[38]\tvalid_0's auc: 0.990216\n",
      "[39]\tvalid_0's auc: 0.990508\n",
      "[40]\tvalid_0's auc: 0.990654\n",
      "[41]\tvalid_0's auc: 0.9908\n",
      "[42]\tvalid_0's auc: 0.990946\n",
      "[43]\tvalid_0's auc: 0.991092\n",
      "[44]\tvalid_0's auc: 0.991384\n",
      "[45]\tvalid_0's auc: 0.991822\n",
      "[46]\tvalid_0's auc: 0.991822\n",
      "[47]\tvalid_0's auc: 0.991822\n",
      "[48]\tvalid_0's auc: 0.991822\n",
      "[49]\tvalid_0's auc: 0.991822\n",
      "[50]\tvalid_0's auc: 0.991968\n",
      "[51]\tvalid_0's auc: 0.992114\n",
      "[52]\tvalid_0's auc: 0.992261\n",
      "[53]\tvalid_0's auc: 0.992114\n",
      "[54]\tvalid_0's auc: 0.991822\n",
      "[55]\tvalid_0's auc: 0.991822\n",
      "[56]\tvalid_0's auc: 0.991822\n",
      "[57]\tvalid_0's auc: 0.991968\n",
      "[58]\tvalid_0's auc: 0.991822\n",
      "[59]\tvalid_0's auc: 0.99153\n",
      "[60]\tvalid_0's auc: 0.99153\n",
      "[61]\tvalid_0's auc: 0.992114\n",
      "[62]\tvalid_0's auc: 0.992261\n",
      "[63]\tvalid_0's auc: 0.992699\n",
      "[64]\tvalid_0's auc: 0.992553\n",
      "[65]\tvalid_0's auc: 0.992845\n",
      "[66]\tvalid_0's auc: 0.992699\n",
      "[67]\tvalid_0's auc: 0.992991\n",
      "[68]\tvalid_0's auc: 0.993137\n",
      "[69]\tvalid_0's auc: 0.993283\n",
      "[70]\tvalid_0's auc: 0.993283\n",
      "[71]\tvalid_0's auc: 0.993429\n",
      "[72]\tvalid_0's auc: 0.993429\n",
      "[73]\tvalid_0's auc: 0.993867\n",
      "[74]\tvalid_0's auc: 0.994159\n",
      "[75]\tvalid_0's auc: 0.993721\n",
      "[76]\tvalid_0's auc: 0.994013\n",
      "[77]\tvalid_0's auc: 0.994013\n",
      "[78]\tvalid_0's auc: 0.994159\n",
      "[79]\tvalid_0's auc: 0.994305\n",
      "[80]\tvalid_0's auc: 0.994305\n",
      "[81]\tvalid_0's auc: 0.994743\n",
      "[82]\tvalid_0's auc: 0.994743\n",
      "[83]\tvalid_0's auc: 0.994743\n",
      "[84]\tvalid_0's auc: 0.994743\n",
      "[85]\tvalid_0's auc: 0.994743\n",
      "[86]\tvalid_0's auc: 0.994743\n",
      "[87]\tvalid_0's auc: 0.994743\n",
      "[88]\tvalid_0's auc: 0.994743\n",
      "[89]\tvalid_0's auc: 0.995035\n",
      "[90]\tvalid_0's auc: 0.995035\n",
      "[91]\tvalid_0's auc: 0.995035\n",
      "[92]\tvalid_0's auc: 0.994889\n",
      "[93]\tvalid_0's auc: 0.994889\n",
      "[94]\tvalid_0's auc: 0.994743\n",
      "[95]\tvalid_0's auc: 0.994743\n",
      "[96]\tvalid_0's auc: 0.994889\n",
      "[97]\tvalid_0's auc: 0.995181\n",
      "[98]\tvalid_0's auc: 0.995181\n",
      "[99]\tvalid_0's auc: 0.995181\n",
      "[100]\tvalid_0's auc: 0.995181\n",
      "[101]\tvalid_0's auc: 0.995473\n",
      "[102]\tvalid_0's auc: 0.995473\n",
      "[103]\tvalid_0's auc: 0.995473\n",
      "[104]\tvalid_0's auc: 0.995473\n",
      "[105]\tvalid_0's auc: 0.995473\n",
      "[106]\tvalid_0's auc: 0.995473\n",
      "[107]\tvalid_0's auc: 0.995327\n",
      "[108]\tvalid_0's auc: 0.995765\n",
      "[109]\tvalid_0's auc: 0.995765\n",
      "[110]\tvalid_0's auc: 0.995765\n",
      "[111]\tvalid_0's auc: 0.995765\n",
      "[112]\tvalid_0's auc: 0.995911\n",
      "[113]\tvalid_0's auc: 0.995911\n",
      "[114]\tvalid_0's auc: 0.995765\n",
      "[115]\tvalid_0's auc: 0.995765\n",
      "[116]\tvalid_0's auc: 0.995765\n",
      "[117]\tvalid_0's auc: 0.995911\n",
      "[118]\tvalid_0's auc: 0.995619\n",
      "[119]\tvalid_0's auc: 0.995911\n",
      "[120]\tvalid_0's auc: 0.995619\n",
      "[121]\tvalid_0's auc: 0.995473\n",
      "[122]\tvalid_0's auc: 0.995473\n",
      "[123]\tvalid_0's auc: 0.995473\n",
      "[124]\tvalid_0's auc: 0.995327\n",
      "[125]\tvalid_0's auc: 0.995327\n",
      "[126]\tvalid_0's auc: 0.995473\n",
      "[127]\tvalid_0's auc: 0.995327\n",
      "[128]\tvalid_0's auc: 0.995181\n",
      "[129]\tvalid_0's auc: 0.995035\n",
      "[130]\tvalid_0's auc: 0.995327\n",
      "[131]\tvalid_0's auc: 0.995181\n",
      "[132]\tvalid_0's auc: 0.995181\n",
      "[133]\tvalid_0's auc: 0.995181\n",
      "[134]\tvalid_0's auc: 0.995181\n",
      "[135]\tvalid_0's auc: 0.995181\n",
      "[136]\tvalid_0's auc: 0.995181\n",
      "[137]\tvalid_0's auc: 0.995327\n",
      "[138]\tvalid_0's auc: 0.995181\n",
      "[139]\tvalid_0's auc: 0.995035\n",
      "[140]\tvalid_0's auc: 0.995327\n",
      "[141]\tvalid_0's auc: 0.995327\n",
      "[142]\tvalid_0's auc: 0.995035\n",
      "[143]\tvalid_0's auc: 0.995035\n",
      "[144]\tvalid_0's auc: 0.995181\n",
      "[145]\tvalid_0's auc: 0.995035\n",
      "[146]\tvalid_0's auc: 0.994597\n",
      "[147]\tvalid_0's auc: 0.995327\n",
      "[148]\tvalid_0's auc: 0.994889\n",
      "[149]\tvalid_0's auc: 0.995035\n",
      "[150]\tvalid_0's auc: 0.994597\n",
      "[151]\tvalid_0's auc: 0.994743\n",
      "[152]\tvalid_0's auc: 0.994743\n",
      "[153]\tvalid_0's auc: 0.994889\n",
      "[154]\tvalid_0's auc: 0.995181\n",
      "[155]\tvalid_0's auc: 0.995035\n",
      "[156]\tvalid_0's auc: 0.994889\n",
      "[157]\tvalid_0's auc: 0.994743\n",
      "[158]\tvalid_0's auc: 0.994743\n",
      "[159]\tvalid_0's auc: 0.994743\n",
      "[160]\tvalid_0's auc: 0.994743\n",
      "[161]\tvalid_0's auc: 0.994889\n",
      "[162]\tvalid_0's auc: 0.994889\n",
      "[163]\tvalid_0's auc: 0.994889\n",
      "[164]\tvalid_0's auc: 0.994743\n",
      "[165]\tvalid_0's auc: 0.994743\n",
      "[166]\tvalid_0's auc: 0.994743\n",
      "[167]\tvalid_0's auc: 0.994889\n",
      "[168]\tvalid_0's auc: 0.994889\n",
      "[169]\tvalid_0's auc: 0.994743\n",
      "[170]\tvalid_0's auc: 0.994451\n",
      "[171]\tvalid_0's auc: 0.994451\n",
      "[172]\tvalid_0's auc: 0.994451\n",
      "[173]\tvalid_0's auc: 0.994451\n",
      "[174]\tvalid_0's auc: 0.994451\n",
      "[175]\tvalid_0's auc: 0.994451\n",
      "[176]\tvalid_0's auc: 0.994451\n",
      "[177]\tvalid_0's auc: 0.994597\n",
      "[178]\tvalid_0's auc: 0.994597\n",
      "[179]\tvalid_0's auc: 0.994743\n",
      "[180]\tvalid_0's auc: 0.994305\n",
      "[181]\tvalid_0's auc: 0.994889\n",
      "[182]\tvalid_0's auc: 0.995035\n",
      "[183]\tvalid_0's auc: 0.995181\n",
      "[184]\tvalid_0's auc: 0.995181\n",
      "[185]\tvalid_0's auc: 0.995327\n",
      "[186]\tvalid_0's auc: 0.995327\n",
      "[187]\tvalid_0's auc: 0.995327\n",
      "[188]\tvalid_0's auc: 0.995327\n",
      "[189]\tvalid_0's auc: 0.995327\n",
      "[190]\tvalid_0's auc: 0.995619\n",
      "[191]\tvalid_0's auc: 0.995327\n",
      "[192]\tvalid_0's auc: 0.995327\n",
      "[193]\tvalid_0's auc: 0.995035\n",
      "[194]\tvalid_0's auc: 0.995035\n",
      "[195]\tvalid_0's auc: 0.995181\n",
      "[196]\tvalid_0's auc: 0.995473\n",
      "[197]\tvalid_0's auc: 0.995619\n",
      "[198]\tvalid_0's auc: 0.995765\n",
      "[199]\tvalid_0's auc: 0.995911\n",
      "[200]\tvalid_0's auc: 0.995765\n",
      "[201]\tvalid_0's auc: 0.995619\n",
      "[202]\tvalid_0's auc: 0.995473\n",
      "[203]\tvalid_0's auc: 0.995473\n",
      "[204]\tvalid_0's auc: 0.995473\n",
      "[205]\tvalid_0's auc: 0.995619\n",
      "[206]\tvalid_0's auc: 0.995619\n",
      "[207]\tvalid_0's auc: 0.995619\n",
      "[208]\tvalid_0's auc: 0.995619\n",
      "[209]\tvalid_0's auc: 0.995765\n",
      "[210]\tvalid_0's auc: 0.995765\n",
      "[211]\tvalid_0's auc: 0.995619\n",
      "[212]\tvalid_0's auc: 0.995619\n",
      "Early stopping, best iteration is:\n",
      "[112]\tvalid_0's auc: 0.995911\n"
     ]
    }
   ],
   "source": [
    "import lightgbm as lgb\n",
    "\n",
    "train_data = lgb.Dataset(X_train, label=y_train)\n",
    "test_data = lgb.Dataset(X_test, label=y_test)\n",
    "\n",
    "parameters = {\n",
    "    'application': 'binary',\n",
    "    'objective': 'binary',\n",
    "    'metric': 'auc',\n",
    "    'is_unbalance': 'true',\n",
    "    'boosting': 'gbdt',\n",
    "    'num_leaves': 31,\n",
    "    'feature_fraction': 0.5,\n",
    "    'bagging_fraction': 0.5,\n",
    "    'bagging_freq': 20,\n",
    "    'learning_rate': 0.05,\n",
    "    'verbose': 0\n",
    "}\n",
    "\n",
    "lgb_model = lgb.train(parameters,\n",
    "                       train_data,\n",
    "                       valid_sets=test_data,\n",
    "                       num_boost_round=5000,\n",
    "                       early_stopping_rounds=100)\n",
    "\n",
    "y_pred = lgb_model.predict(X_test)"
   ]
  },
  {
   "cell_type": "code",
   "execution_count": 410,
   "metadata": {
    "ExecuteTime": {
     "end_time": "2019-11-08T07:44:06.689000Z",
     "start_time": "2019-11-08T07:44:06.636500Z"
    }
   },
   "outputs": [
    {
     "name": "stdout",
     "output_type": "stream",
     "text": [
      "Accuracy: 0.959 \n",
      "\n",
      "GradientBoost Classifier \n",
      "               precision    recall  f1-score   support\n",
      "\n",
      "           0       0.94      0.95      0.95        64\n",
      "           1       0.97      0.96      0.97       107\n",
      "\n",
      "    accuracy                           0.96       171\n",
      "   macro avg       0.96      0.96      0.96       171\n",
      "weighted avg       0.96      0.96      0.96       171\n",
      "\n"
     ]
    }
   ],
   "source": [
    "predictions = [round(value) for value in y_pred]\n",
    "acc = accuracy_score(y_test, predictions)\n",
    "print(\"Accuracy: {:0.3f}\".format(acc),'\\n')\n",
    "print('LightBoost Classifier \\n',classification_report(y_test, predictions))"
   ]
  },
  {
   "cell_type": "code",
   "execution_count": 413,
   "metadata": {
    "ExecuteTime": {
     "end_time": "2019-11-08T07:53:37.189500Z",
     "start_time": "2019-11-08T07:53:37.174500Z"
    }
   },
   "outputs": [],
   "source": [
    "from catboost import CatBoostClassifier\n",
    "\n",
    "cbc = CatBoostClassifier(iterations=2,\n",
    "                          learning_rate=0.1,\n",
    "                          depth=2)"
   ]
  },
  {
   "cell_type": "code",
   "execution_count": 414,
   "metadata": {
    "ExecuteTime": {
     "end_time": "2019-11-08T07:53:50.314500Z",
     "start_time": "2019-11-08T07:53:49.482000Z"
    }
   },
   "outputs": [
    {
     "name": "stdout",
     "output_type": "stream",
     "text": [
      "0:\tlearn: 0.5842142\ttotal: 87ms\tremaining: 87ms\n",
      "1:\tlearn: 0.4737043\ttotal: 96.5ms\tremaining: 0us\n",
      "Accuracy: 0.918 \n",
      "\n",
      "CatBoost Regressor \n",
      "               precision    recall  f1-score   support\n",
      "\n",
      "           0       0.93      0.84      0.89        64\n",
      "           1       0.91      0.96      0.94       107\n",
      "\n",
      "    accuracy                           0.92       171\n",
      "   macro avg       0.92      0.90      0.91       171\n",
      "weighted avg       0.92      0.92      0.92       171\n",
      "\n"
     ]
    }
   ],
   "source": [
    "cbc.fit(X_train, y_train)\n",
    "y_pred = cbc.predict(X_test)\n",
    "predictions = [round(value) for value in y_pred]\n",
    "\n",
    "# Get the accuracy score\n",
    "acc = accuracy_score(y_test, predictions)\n",
    "print(\"Accuracy: {:0.3f}\".format(acc),'\\n')\n",
    "print('CatBoost Regressor \\n',classification_report(y_test, predictions))"
   ]
  },
  {
   "cell_type": "markdown",
   "metadata": {},
   "source": [
    "### Create XGBoost, lightgbm, catboost for iris Dataset"
   ]
  },
  {
   "cell_type": "markdown",
   "metadata": {},
   "source": [
    "## 5. Stacking  "
   ]
  },
  {
   "cell_type": "code",
   "execution_count": 415,
   "metadata": {
    "ExecuteTime": {
     "end_time": "2019-11-08T07:54:16.579500Z",
     "start_time": "2019-11-08T07:54:16.177000Z"
    }
   },
   "outputs": [],
   "source": [
    "# from mlxtend.classifier import StackingClassifier => ini mesti install dulu \n",
    "from mlxtend.classifier import StackingClassifier"
   ]
  },
  {
   "cell_type": "code",
   "execution_count": null,
   "metadata": {},
   "outputs": [],
   "source": [
    "# Instantiate the 1st-layer classifiers\n",
    "# clf1 = Classifier1(params1)\n",
    "# clf2 = Classifier2(params2)\n",
    "# ...\n",
    "# clfN = ClassifierN(paramsN)\n",
    "\n",
    "# Instantiate the 2nd-layer classifier\n",
    "# clf_meta = ClassifierMeta(paramsMeta)\n",
    "\n",
    "# Build the Stacking classifier\n",
    "# clf_stack = StackingClassifier(\n",
    "# classifiers=[clf1, clf2, ... clfN],\n",
    "# meta_classifier=clf_meta,\n",
    "# use_probas=False,\n",
    "# use_features_in_secondary=False)\n",
    "\n",
    "# Use the fit and predict methods\n",
    "# like with scikit-learn estimators\n",
    "# clf_stack.fit(X_train, y_train)\n",
    "# pred = clf_stack.predict(X_test)"
   ]
  },
  {
   "cell_type": "code",
   "execution_count": 435,
   "metadata": {
    "ExecuteTime": {
     "end_time": "2019-11-08T08:29:27.541500Z",
     "start_time": "2019-11-08T08:29:27.509000Z"
    }
   },
   "outputs": [],
   "source": [
    "clf1 = KNeighborsClassifier(5)\n",
    "clf2 = DecisionTreeClassifier()\n",
    "clf3 = RandomForestClassifier()\n",
    "clf4 = VotingClassifier(estimators=[('knn', clf_knn),('dt', clf_dt),('lr', clf_lr)])\n",
    "clf5 = VotingClassifier(estimators=[('knn', clf_knn),\n",
    "                                          ('dt', clf_dt),\n",
    "                                          ('lr', clf_lr)],\n",
    "                        voting='soft',\n",
    "                        weights=[1,1,2])\n",
    "clf6 = BaggingClassifier(RandomForestClassifier(),\n",
    "                        max_samples=0.5, max_features=0.5)\n",
    "clf7 = AdaBoostClassifier(DecisionTreeClassifier(),\n",
    "                          n_estimators=100,\n",
    "                          learning_rate=0.2)\n",
    "clf8 = GradientBoostingClassifier()\n",
    "clf9 = XGBClassifier()\n",
    "clf10 = CatBoostClassifier(iterations=2,\n",
    "                          learning_rate=0.1,\n",
    "                          depth=2)\n",
    "\n",
    "clf_meta = LogisticRegression()\n",
    "\n",
    "sclf = StackingClassifier(classifiers=[clf1, clf2, clf3, clf4, clf5, clf6, clf7, clf8, clf9, clf10], \n",
    "                          meta_classifier=clf_meta)"
   ]
  },
  {
   "cell_type": "code",
   "execution_count": 436,
   "metadata": {
    "ExecuteTime": {
     "end_time": "2019-11-08T08:29:34.806500Z",
     "start_time": "2019-11-08T08:29:27.931500Z"
    }
   },
   "outputs": [
    {
     "name": "stdout",
     "output_type": "stream",
     "text": [
      "0:\tlearn: 0.5842142\ttotal: 34.1ms\tremaining: 34.1ms\n",
      "1:\tlearn: 0.4737043\ttotal: 45.2ms\tremaining: 0us\n",
      "Accuracy: 0.92 (+/- 0.02) [KNN]\n",
      "Accuracy: 0.90 (+/- 0.03) [Decision Tree]\n",
      "Accuracy: 0.96 (+/- 0.02) [Random Forest]\n",
      "Accuracy: 0.94 (+/- 0.02) [Voting Classifier]\n",
      "Accuracy: 0.95 (+/- 0.02) [Averaging Claasifier]\n",
      "Accuracy: 0.95 (+/- 0.01) [Bagging Classifier]\n",
      "Accuracy: 0.89 (+/- 0.04) [AdaBoost Classifier]\n",
      "Accuracy: 0.96 (+/- 0.01) [Gradient Boosting Classifier]\n",
      "Accuracy: 0.97 (+/- 0.01) [XGBoost Classifier]\n",
      "0:\tlearn: 0.5794877\ttotal: 25.3ms\tremaining: 25.3ms\n",
      "1:\tlearn: 0.5008387\ttotal: 31.5ms\tremaining: 0us\n",
      "0:\tlearn: 0.5893465\ttotal: 4.11ms\tremaining: 4.11ms\n",
      "1:\tlearn: 0.5179855\ttotal: 8.82ms\tremaining: 0us\n",
      "0:\tlearn: 0.5971567\ttotal: 8.76ms\tremaining: 8.76ms\n",
      "1:\tlearn: 0.4836895\ttotal: 13.3ms\tremaining: 0us\n",
      "Accuracy: 0.91 (+/- 0.03) [CatBoost Classifier]\n",
      "0:\tlearn: 0.5794877\ttotal: 18.2ms\tremaining: 18.2ms\n",
      "1:\tlearn: 0.5008387\ttotal: 23.7ms\tremaining: 0us\n",
      "0:\tlearn: 0.5893465\ttotal: 16.3ms\tremaining: 16.3ms\n",
      "1:\tlearn: 0.5179855\ttotal: 27.4ms\tremaining: 0us\n",
      "0:\tlearn: 0.5971567\ttotal: 6.95ms\tremaining: 6.95ms\n",
      "1:\tlearn: 0.4836895\ttotal: 13.3ms\tremaining: 0us\n",
      "Accuracy: 0.95 (+/- 0.01) [StackingClassifier]\n",
      "Accuracy: 0.953 \n",
      "\n",
      "CatBoost Regressor \n",
      "               precision    recall  f1-score   support\n",
      "\n",
      "           0       0.98      0.89      0.93        64\n",
      "           1       0.94      0.99      0.96       107\n",
      "\n",
      "    accuracy                           0.95       171\n",
      "   macro avg       0.96      0.94      0.95       171\n",
      "weighted avg       0.95      0.95      0.95       171\n",
      "\n"
     ]
    }
   ],
   "source": [
    "sclf.fit(X_train, y_train)\n",
    "y_pred = sclf.predict(X_test)\n",
    "predictions = [round(value) for value in y_pred]\n",
    "\n",
    "for clf, label in zip([clf1, clf2, clf3, clf4, clf5, clf6, clf7, clf8, clf9, clf10, sclf], \n",
    "                      ['KNN', \n",
    "                       'Decision Tree', \n",
    "                       'Random Forest',\n",
    "                       'Voting Classifier',\n",
    "                       'Averaging Claasifier',\n",
    "                       'Bagging Classifier',\n",
    "                       'AdaBoost Classifier',\n",
    "                       'Gradient Boosting Classifier',\n",
    "                       'XGBoost Classifier',\n",
    "                       'CatBoost Classifier',\n",
    "                       'StackingClassifier']):\n",
    "\n",
    "    scores = cross_val_score(clf, X, y, \n",
    "                                              cv=3, scoring='accuracy')\n",
    "    print(\"Accuracy: %0.2f (+/- %0.2f) [%s]\" \n",
    "          % (scores.mean(), scores.std(), label))\n",
    "\n",
    "# Get the accuracy score\n",
    "acc = accuracy_score(y_test, predictions)\n",
    "print(\"Accuracy: {:0.3f}\".format(acc),'\\n')\n",
    "print('CatBoost Regressor \\n',classification_report(y_test, predictions))"
   ]
  }
 ],
 "metadata": {
  "hide_input": false,
  "kernelspec": {
   "display_name": "Python 3",
   "language": "python",
   "name": "python3"
  },
  "language_info": {
   "codemirror_mode": {
    "name": "ipython",
    "version": 3
   },
   "file_extension": ".py",
   "mimetype": "text/x-python",
   "name": "python",
   "nbconvert_exporter": "python",
   "pygments_lexer": "ipython3",
   "version": "3.7.4"
  },
  "toc": {
   "base_numbering": 1,
   "nav_menu": {},
   "number_sections": true,
   "sideBar": true,
   "skip_h1_title": false,
   "title_cell": "Table of Contents",
   "title_sidebar": "Contents",
   "toc_cell": false,
   "toc_position": {},
   "toc_section_display": true,
   "toc_window_display": false
  }
 },
 "nbformat": 4,
 "nbformat_minor": 2
}
