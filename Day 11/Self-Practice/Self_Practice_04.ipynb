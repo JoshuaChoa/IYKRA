{
 "cells": [
  {
   "cell_type": "markdown",
   "metadata": {},
   "source": [
    "<div class=title>\n",
    "<strong><center><font size=\"3\">DAY 11 - IYKRA</font></center>\n",
    "<hr>\n",
    "<center><font size=\"5\"><strong>Self-Practice 4</strong></font></center>\n",
    "<center><font size=\"4\"><strong>Foundation of Machine Learning</strong></font></center>\n",
    "<hr>\n",
    "<p style=\"text-align:center\">Author</p>\n",
    "<center>Joshua Effendi</center>\n",
    "<p style=\"text-align:center\">Date:</p>\n",
    "<center>4 November 2019</center></strong>\n",
    "</div>"
   ]
  },
  {
   "cell_type": "markdown",
   "metadata": {},
   "source": [
    "<div class=title1>\n",
    "    <b><font size='3'>Import Libraries</font></b>\n",
    "</div>"
   ]
  },
  {
   "cell_type": "code",
   "execution_count": 249,
   "metadata": {
    "ExecuteTime": {
     "end_time": "2019-11-04T11:38:59.984500Z",
     "start_time": "2019-11-04T11:38:59.971500Z"
    }
   },
   "outputs": [
    {
     "data": {
      "text/html": [
       "<style>\n",
       "div.cbox {\n",
       "    background-color: #ADD8E6;\n",
       "    padding: 0.5em;\n",
       "    text-align: justify;\n",
       "    text-justify: inter-word;\n",
       "    }\n",
       "div.title {\n",
       "    background-color: #90EE90;\n",
       "    padding: 0.5em;\n",
       "    }\n",
       "div.title1 {\n",
       "    background-color: #01D848;\n",
       "    padding: 0.5em;\n",
       "    }\n",
       "</style>"
      ],
      "text/plain": [
       "<IPython.core.display.HTML object>"
      ]
     },
     "execution_count": 249,
     "metadata": {},
     "output_type": "execute_result"
    }
   ],
   "source": [
    "import pandas as pd\n",
    "import numpy as np\n",
    "import matplotlib.pyplot as plt\n",
    "import seaborn as sns\n",
    "from sklearn.linear_model import LinearRegression, LogisticRegression\n",
    "from sklearn.metrics import mean_squared_error\n",
    "from sklearn import preprocessing\n",
    "from datetime import datetime\n",
    "from xgboost import XGBClassifier\n",
    "\n",
    "from IPython.core.display import HTML\n",
    "\n",
    "def css_styling():\n",
    "    styles = open(\"./styles/custom.css\", \"r\").read()\n",
    "    return HTML(styles)\n",
    "css_styling()"
   ]
  },
  {
   "cell_type": "markdown",
   "metadata": {
    "ExecuteTime": {
     "end_time": "2019-11-04T02:22:45.322500Z",
     "start_time": "2019-11-04T02:22:45.297500Z"
    }
   },
   "source": [
    "<div class=title1>\n",
    "    <b><font size='3'>Import Data</font></b>\n",
    "</div>"
   ]
  },
  {
   "cell_type": "code",
   "execution_count": 250,
   "metadata": {
    "ExecuteTime": {
     "end_time": "2019-11-04T11:39:00.973500Z",
     "start_time": "2019-11-04T11:39:00.280500Z"
    }
   },
   "outputs": [
    {
     "data": {
      "text/html": [
       "<div>\n",
       "<style scoped>\n",
       "    .dataframe tbody tr th:only-of-type {\n",
       "        vertical-align: middle;\n",
       "    }\n",
       "\n",
       "    .dataframe tbody tr th {\n",
       "        vertical-align: top;\n",
       "    }\n",
       "\n",
       "    .dataframe thead th {\n",
       "        text-align: right;\n",
       "    }\n",
       "</style>\n",
       "<table border=\"1\" class=\"dataframe\">\n",
       "  <thead>\n",
       "    <tr style=\"text-align: right;\">\n",
       "      <th></th>\n",
       "      <th>id</th>\n",
       "      <th>number</th>\n",
       "      <th>airline</th>\n",
       "      <th>airline_name</th>\n",
       "      <th>scheduled_departure_time</th>\n",
       "      <th>scheduled_arrival_time</th>\n",
       "      <th>departure_airport_city</th>\n",
       "      <th>departure_airport_code</th>\n",
       "      <th>departure_airport_country</th>\n",
       "      <th>departure_airport_gate</th>\n",
       "      <th>...</th>\n",
       "      <th>arrival_airport_country</th>\n",
       "      <th>arrival_airport_gate</th>\n",
       "      <th>arrival_airport_name</th>\n",
       "      <th>arrival_airport_region</th>\n",
       "      <th>arrival_airport_terminal</th>\n",
       "      <th>arrival_airport_timezone</th>\n",
       "      <th>flight_equipment_iata</th>\n",
       "      <th>flight_equipment_name</th>\n",
       "      <th>flight_duration</th>\n",
       "      <th>delay</th>\n",
       "    </tr>\n",
       "  </thead>\n",
       "  <tbody>\n",
       "    <tr>\n",
       "      <th>0</th>\n",
       "      <td>1</td>\n",
       "      <td>AK6430</td>\n",
       "      <td>AK</td>\n",
       "      <td>AirAsia</td>\n",
       "      <td>2018-10-05 22:00:00</td>\n",
       "      <td>2018-10-05 23:05:00</td>\n",
       "      <td>Kuala Lumpur</td>\n",
       "      <td>KUL</td>\n",
       "      <td>MY</td>\n",
       "      <td>J15</td>\n",
       "      <td>...</td>\n",
       "      <td>MY</td>\n",
       "      <td>2</td>\n",
       "      <td>Sultan Ismail Petra Airport</td>\n",
       "      <td>Asia</td>\n",
       "      <td>NaN</td>\n",
       "      <td>Asia/Kuala_Lumpur</td>\n",
       "      <td>32S</td>\n",
       "      <td>Airbus A318 / A319 / A320 / A321</td>\n",
       "      <td>58m</td>\n",
       "      <td>2</td>\n",
       "    </tr>\n",
       "    <tr>\n",
       "      <th>1</th>\n",
       "      <td>2</td>\n",
       "      <td>ID*7164</td>\n",
       "      <td>ID*</td>\n",
       "      <td>Batik Air</td>\n",
       "      <td>2018-10-05 22:00:00</td>\n",
       "      <td>2018-10-05 23:55:00</td>\n",
       "      <td>Kuala Lumpur</td>\n",
       "      <td>KUL</td>\n",
       "      <td>MY</td>\n",
       "      <td>C33</td>\n",
       "      <td>...</td>\n",
       "      <td>ID</td>\n",
       "      <td>5</td>\n",
       "      <td>Soekarno-Hatta International Airport</td>\n",
       "      <td>Asia</td>\n",
       "      <td>2</td>\n",
       "      <td>Asia/Jakarta</td>\n",
       "      <td>32S</td>\n",
       "      <td>Airbus A318 / A319 / A320 / A321</td>\n",
       "      <td>1h 55m</td>\n",
       "      <td>8</td>\n",
       "    </tr>\n",
       "    <tr>\n",
       "      <th>2</th>\n",
       "      <td>3</td>\n",
       "      <td>MXD9116</td>\n",
       "      <td>MXD</td>\n",
       "      <td>Malindo Air</td>\n",
       "      <td>2018-10-05 22:00:00</td>\n",
       "      <td>2018-10-05 23:55:00</td>\n",
       "      <td>Kuala Lumpur</td>\n",
       "      <td>KUL</td>\n",
       "      <td>MY</td>\n",
       "      <td>C33</td>\n",
       "      <td>...</td>\n",
       "      <td>ID</td>\n",
       "      <td>5</td>\n",
       "      <td>Soekarno-Hatta International Airport</td>\n",
       "      <td>Asia</td>\n",
       "      <td>2</td>\n",
       "      <td>Asia/Jakarta</td>\n",
       "      <td>32S</td>\n",
       "      <td>Airbus A318 / A319 / A320 / A321</td>\n",
       "      <td>1h 55m</td>\n",
       "      <td>8</td>\n",
       "    </tr>\n",
       "    <tr>\n",
       "      <th>3</th>\n",
       "      <td>4</td>\n",
       "      <td>AK5198</td>\n",
       "      <td>AK</td>\n",
       "      <td>AirAsia</td>\n",
       "      <td>2018-10-05 22:05:00</td>\n",
       "      <td>2018-10-06 01:00:00</td>\n",
       "      <td>Kuala Lumpur</td>\n",
       "      <td>KUL</td>\n",
       "      <td>MY</td>\n",
       "      <td>J9</td>\n",
       "      <td>...</td>\n",
       "      <td>MY</td>\n",
       "      <td>INT</td>\n",
       "      <td>Sandakan Airport</td>\n",
       "      <td>Asia</td>\n",
       "      <td>NaN</td>\n",
       "      <td>Asia/Kuala_Lumpur</td>\n",
       "      <td>32S</td>\n",
       "      <td>Airbus A318 / A319 / A320 / A321</td>\n",
       "      <td>2h 54m</td>\n",
       "      <td>0</td>\n",
       "    </tr>\n",
       "    <tr>\n",
       "      <th>4</th>\n",
       "      <td>5</td>\n",
       "      <td>AK516</td>\n",
       "      <td>AK</td>\n",
       "      <td>AirAsia</td>\n",
       "      <td>2018-10-05 22:10:00</td>\n",
       "      <td>2018-10-06 01:25:00</td>\n",
       "      <td>Kuala Lumpur</td>\n",
       "      <td>KUL</td>\n",
       "      <td>MY</td>\n",
       "      <td>P1</td>\n",
       "      <td>...</td>\n",
       "      <td>VN</td>\n",
       "      <td>NaN</td>\n",
       "      <td>Noi Bai International Airport</td>\n",
       "      <td>Asia</td>\n",
       "      <td>T2</td>\n",
       "      <td>Asia/Ho_Chi_Minh</td>\n",
       "      <td>32S</td>\n",
       "      <td>Airbus A318 / A319 / A320 / A321</td>\n",
       "      <td>3h 17m</td>\n",
       "      <td>0</td>\n",
       "    </tr>\n",
       "    <tr>\n",
       "      <th>...</th>\n",
       "      <td>...</td>\n",
       "      <td>...</td>\n",
       "      <td>...</td>\n",
       "      <td>...</td>\n",
       "      <td>...</td>\n",
       "      <td>...</td>\n",
       "      <td>...</td>\n",
       "      <td>...</td>\n",
       "      <td>...</td>\n",
       "      <td>...</td>\n",
       "      <td>...</td>\n",
       "      <td>...</td>\n",
       "      <td>...</td>\n",
       "      <td>...</td>\n",
       "      <td>...</td>\n",
       "      <td>...</td>\n",
       "      <td>...</td>\n",
       "      <td>...</td>\n",
       "      <td>...</td>\n",
       "      <td>...</td>\n",
       "      <td>...</td>\n",
       "    </tr>\n",
       "    <tr>\n",
       "      <th>111063</th>\n",
       "      <td>496554</td>\n",
       "      <td>EK3367</td>\n",
       "      <td>EK</td>\n",
       "      <td>Emirates</td>\n",
       "      <td>2018-11-30 22:45:00</td>\n",
       "      <td>2018-11-30 23:45:00</td>\n",
       "      <td>Kota Bharu</td>\n",
       "      <td>KBR</td>\n",
       "      <td>MY</td>\n",
       "      <td>NaN</td>\n",
       "      <td>...</td>\n",
       "      <td>MY</td>\n",
       "      <td>NaN</td>\n",
       "      <td>Kuala Lumpur International Airport</td>\n",
       "      <td>Asia</td>\n",
       "      <td>1</td>\n",
       "      <td>Asia/Kuala_Lumpur</td>\n",
       "      <td>738</td>\n",
       "      <td>Boeing 737-800 Passenger</td>\n",
       "      <td>1h 14m</td>\n",
       "      <td>0</td>\n",
       "    </tr>\n",
       "    <tr>\n",
       "      <th>111064</th>\n",
       "      <td>496555</td>\n",
       "      <td>PR3519</td>\n",
       "      <td>PR</td>\n",
       "      <td>Philippine Airlines</td>\n",
       "      <td>2018-11-30 22:45:00</td>\n",
       "      <td>2018-11-30 23:45:00</td>\n",
       "      <td>Kota Bharu</td>\n",
       "      <td>KBR</td>\n",
       "      <td>MY</td>\n",
       "      <td>NaN</td>\n",
       "      <td>...</td>\n",
       "      <td>MY</td>\n",
       "      <td>NaN</td>\n",
       "      <td>Kuala Lumpur International Airport</td>\n",
       "      <td>Asia</td>\n",
       "      <td>1</td>\n",
       "      <td>Asia/Kuala_Lumpur</td>\n",
       "      <td>738</td>\n",
       "      <td>Boeing 737-800 Passenger</td>\n",
       "      <td>1h 14m</td>\n",
       "      <td>0</td>\n",
       "    </tr>\n",
       "    <tr>\n",
       "      <th>111065</th>\n",
       "      <td>496556</td>\n",
       "      <td>QR5401</td>\n",
       "      <td>QR</td>\n",
       "      <td>Qatar Airways</td>\n",
       "      <td>2018-11-30 22:45:00</td>\n",
       "      <td>2018-11-30 23:45:00</td>\n",
       "      <td>Kota Bharu</td>\n",
       "      <td>KBR</td>\n",
       "      <td>MY</td>\n",
       "      <td>NaN</td>\n",
       "      <td>...</td>\n",
       "      <td>MY</td>\n",
       "      <td>NaN</td>\n",
       "      <td>Kuala Lumpur International Airport</td>\n",
       "      <td>Asia</td>\n",
       "      <td>1</td>\n",
       "      <td>Asia/Kuala_Lumpur</td>\n",
       "      <td>738</td>\n",
       "      <td>Boeing 737-800 Passenger</td>\n",
       "      <td>1h 14m</td>\n",
       "      <td>0</td>\n",
       "    </tr>\n",
       "    <tr>\n",
       "      <th>111066</th>\n",
       "      <td>496557</td>\n",
       "      <td>AK6431</td>\n",
       "      <td>AK</td>\n",
       "      <td>AirAsia</td>\n",
       "      <td>2018-11-30 23:55:00</td>\n",
       "      <td>2018-12-01 01:00:00</td>\n",
       "      <td>Kota Bharu</td>\n",
       "      <td>KBR</td>\n",
       "      <td>MY</td>\n",
       "      <td>2</td>\n",
       "      <td>...</td>\n",
       "      <td>MY</td>\n",
       "      <td>NaN</td>\n",
       "      <td>Kuala Lumpur International Airport</td>\n",
       "      <td>Asia</td>\n",
       "      <td>2</td>\n",
       "      <td>Asia/Kuala_Lumpur</td>\n",
       "      <td>32S</td>\n",
       "      <td>Airbus A318 / A319 / A320 / A321</td>\n",
       "      <td>1h 6m</td>\n",
       "      <td>7</td>\n",
       "    </tr>\n",
       "    <tr>\n",
       "      <th>111067</th>\n",
       "      <td>496596</td>\n",
       "      <td>MH3740</td>\n",
       "      <td>MH</td>\n",
       "      <td>Malaysia Airlines</td>\n",
       "      <td>2018-11-30 23:05:00</td>\n",
       "      <td>2018-11-30 23:40:00</td>\n",
       "      <td>Sibu</td>\n",
       "      <td>SBW</td>\n",
       "      <td>MY</td>\n",
       "      <td>NaN</td>\n",
       "      <td>...</td>\n",
       "      <td>MY</td>\n",
       "      <td>NaN</td>\n",
       "      <td>Bintulu Airport</td>\n",
       "      <td>Asia</td>\n",
       "      <td>NaN</td>\n",
       "      <td>Asia/Kuala_Lumpur</td>\n",
       "      <td>AT7</td>\n",
       "      <td>ATR 72</td>\n",
       "      <td>37m</td>\n",
       "      <td>0</td>\n",
       "    </tr>\n",
       "  </tbody>\n",
       "</table>\n",
       "<p>111068 rows × 26 columns</p>\n",
       "</div>"
      ],
      "text/plain": [
       "            id   number airline         airline_name scheduled_departure_time  \\\n",
       "0            1   AK6430      AK              AirAsia      2018-10-05 22:00:00   \n",
       "1            2  ID*7164     ID*            Batik Air      2018-10-05 22:00:00   \n",
       "2            3  MXD9116     MXD          Malindo Air      2018-10-05 22:00:00   \n",
       "3            4   AK5198      AK              AirAsia      2018-10-05 22:05:00   \n",
       "4            5    AK516      AK              AirAsia      2018-10-05 22:10:00   \n",
       "...        ...      ...     ...                  ...                      ...   \n",
       "111063  496554   EK3367      EK             Emirates      2018-11-30 22:45:00   \n",
       "111064  496555   PR3519      PR  Philippine Airlines      2018-11-30 22:45:00   \n",
       "111065  496556   QR5401      QR        Qatar Airways      2018-11-30 22:45:00   \n",
       "111066  496557   AK6431      AK              AirAsia      2018-11-30 23:55:00   \n",
       "111067  496596   MH3740      MH    Malaysia Airlines      2018-11-30 23:05:00   \n",
       "\n",
       "       scheduled_arrival_time departure_airport_city departure_airport_code  \\\n",
       "0         2018-10-05 23:05:00           Kuala Lumpur                    KUL   \n",
       "1         2018-10-05 23:55:00           Kuala Lumpur                    KUL   \n",
       "2         2018-10-05 23:55:00           Kuala Lumpur                    KUL   \n",
       "3         2018-10-06 01:00:00           Kuala Lumpur                    KUL   \n",
       "4         2018-10-06 01:25:00           Kuala Lumpur                    KUL   \n",
       "...                       ...                    ...                    ...   \n",
       "111063    2018-11-30 23:45:00             Kota Bharu                    KBR   \n",
       "111064    2018-11-30 23:45:00             Kota Bharu                    KBR   \n",
       "111065    2018-11-30 23:45:00             Kota Bharu                    KBR   \n",
       "111066    2018-12-01 01:00:00             Kota Bharu                    KBR   \n",
       "111067    2018-11-30 23:40:00                   Sibu                    SBW   \n",
       "\n",
       "       departure_airport_country departure_airport_gate  ...  \\\n",
       "0                             MY                    J15  ...   \n",
       "1                             MY                    C33  ...   \n",
       "2                             MY                    C33  ...   \n",
       "3                             MY                     J9  ...   \n",
       "4                             MY                     P1  ...   \n",
       "...                          ...                    ...  ...   \n",
       "111063                        MY                    NaN  ...   \n",
       "111064                        MY                    NaN  ...   \n",
       "111065                        MY                    NaN  ...   \n",
       "111066                        MY                      2  ...   \n",
       "111067                        MY                    NaN  ...   \n",
       "\n",
       "       arrival_airport_country arrival_airport_gate  \\\n",
       "0                           MY                    2   \n",
       "1                           ID                    5   \n",
       "2                           ID                    5   \n",
       "3                           MY                  INT   \n",
       "4                           VN                  NaN   \n",
       "...                        ...                  ...   \n",
       "111063                      MY                  NaN   \n",
       "111064                      MY                  NaN   \n",
       "111065                      MY                  NaN   \n",
       "111066                      MY                  NaN   \n",
       "111067                      MY                  NaN   \n",
       "\n",
       "                        arrival_airport_name arrival_airport_region  \\\n",
       "0                Sultan Ismail Petra Airport                   Asia   \n",
       "1       Soekarno-Hatta International Airport                   Asia   \n",
       "2       Soekarno-Hatta International Airport                   Asia   \n",
       "3                           Sandakan Airport                   Asia   \n",
       "4              Noi Bai International Airport                   Asia   \n",
       "...                                      ...                    ...   \n",
       "111063    Kuala Lumpur International Airport                   Asia   \n",
       "111064    Kuala Lumpur International Airport                   Asia   \n",
       "111065    Kuala Lumpur International Airport                   Asia   \n",
       "111066    Kuala Lumpur International Airport                   Asia   \n",
       "111067                       Bintulu Airport                   Asia   \n",
       "\n",
       "       arrival_airport_terminal arrival_airport_timezone  \\\n",
       "0                           NaN        Asia/Kuala_Lumpur   \n",
       "1                             2             Asia/Jakarta   \n",
       "2                             2             Asia/Jakarta   \n",
       "3                           NaN        Asia/Kuala_Lumpur   \n",
       "4                            T2         Asia/Ho_Chi_Minh   \n",
       "...                         ...                      ...   \n",
       "111063                        1        Asia/Kuala_Lumpur   \n",
       "111064                        1        Asia/Kuala_Lumpur   \n",
       "111065                        1        Asia/Kuala_Lumpur   \n",
       "111066                        2        Asia/Kuala_Lumpur   \n",
       "111067                      NaN        Asia/Kuala_Lumpur   \n",
       "\n",
       "       flight_equipment_iata             flight_equipment_name  \\\n",
       "0                        32S  Airbus A318 / A319 / A320 / A321   \n",
       "1                        32S  Airbus A318 / A319 / A320 / A321   \n",
       "2                        32S  Airbus A318 / A319 / A320 / A321   \n",
       "3                        32S  Airbus A318 / A319 / A320 / A321   \n",
       "4                        32S  Airbus A318 / A319 / A320 / A321   \n",
       "...                      ...                               ...   \n",
       "111063                   738          Boeing 737-800 Passenger   \n",
       "111064                   738          Boeing 737-800 Passenger   \n",
       "111065                   738          Boeing 737-800 Passenger   \n",
       "111066                   32S  Airbus A318 / A319 / A320 / A321   \n",
       "111067                   AT7                            ATR 72   \n",
       "\n",
       "       flight_duration delay  \n",
       "0                  58m     2  \n",
       "1               1h 55m     8  \n",
       "2               1h 55m     8  \n",
       "3               2h 54m     0  \n",
       "4               3h 17m     0  \n",
       "...                ...   ...  \n",
       "111063          1h 14m     0  \n",
       "111064          1h 14m     0  \n",
       "111065          1h 14m     0  \n",
       "111066           1h 6m     7  \n",
       "111067             37m     0  \n",
       "\n",
       "[111068 rows x 26 columns]"
      ]
     },
     "execution_count": 250,
     "metadata": {},
     "output_type": "execute_result"
    }
   ],
   "source": [
    "df_train = pd.read_csv('training_dataset.csv')\n",
    "df_train"
   ]
  },
  {
   "cell_type": "code",
   "execution_count": 251,
   "metadata": {
    "ExecuteTime": {
     "end_time": "2019-11-04T11:39:01.223500Z",
     "start_time": "2019-11-04T11:39:00.975500Z"
    }
   },
   "outputs": [
    {
     "data": {
      "text/html": [
       "<div>\n",
       "<style scoped>\n",
       "    .dataframe tbody tr th:only-of-type {\n",
       "        vertical-align: middle;\n",
       "    }\n",
       "\n",
       "    .dataframe tbody tr th {\n",
       "        vertical-align: top;\n",
       "    }\n",
       "\n",
       "    .dataframe thead th {\n",
       "        text-align: right;\n",
       "    }\n",
       "</style>\n",
       "<table border=\"1\" class=\"dataframe\">\n",
       "  <thead>\n",
       "    <tr style=\"text-align: right;\">\n",
       "      <th></th>\n",
       "      <th>id</th>\n",
       "      <th>number</th>\n",
       "      <th>airline</th>\n",
       "      <th>airline_name</th>\n",
       "      <th>scheduled_departure_time</th>\n",
       "      <th>scheduled_arrival_time</th>\n",
       "      <th>departure_airport_city</th>\n",
       "      <th>departure_airport_code</th>\n",
       "      <th>departure_airport_country</th>\n",
       "      <th>departure_airport_gate</th>\n",
       "      <th>...</th>\n",
       "      <th>arrival_airport_country</th>\n",
       "      <th>arrival_airport_gate</th>\n",
       "      <th>arrival_airport_name</th>\n",
       "      <th>arrival_airport_region</th>\n",
       "      <th>arrival_airport_terminal</th>\n",
       "      <th>arrival_airport_timezone</th>\n",
       "      <th>flight_equipment_iata</th>\n",
       "      <th>flight_equipment_name</th>\n",
       "      <th>flight_duration</th>\n",
       "      <th>delay</th>\n",
       "    </tr>\n",
       "  </thead>\n",
       "  <tbody>\n",
       "    <tr>\n",
       "      <th>0</th>\n",
       "      <td>483244</td>\n",
       "      <td>CZ7412</td>\n",
       "      <td>CZ</td>\n",
       "      <td>China Southern Airlines</td>\n",
       "      <td>2018-12-01 00:00:00</td>\n",
       "      <td>2018-12-01 04:40:00</td>\n",
       "      <td>Kuala Lumpur</td>\n",
       "      <td>KUL</td>\n",
       "      <td>MY</td>\n",
       "      <td>C11</td>\n",
       "      <td>...</td>\n",
       "      <td>CN</td>\n",
       "      <td>NaN</td>\n",
       "      <td>Changle International Airport</td>\n",
       "      <td>Asia</td>\n",
       "      <td>NaN</td>\n",
       "      <td>Asia/Shanghai</td>\n",
       "      <td>738</td>\n",
       "      <td>Boeing 737-800 Passenger</td>\n",
       "      <td>4h 40m</td>\n",
       "      <td>15</td>\n",
       "    </tr>\n",
       "    <tr>\n",
       "      <th>1</th>\n",
       "      <td>483245</td>\n",
       "      <td>MH5712</td>\n",
       "      <td>MH</td>\n",
       "      <td>Malaysia Airlines</td>\n",
       "      <td>2018-12-01 00:00:00</td>\n",
       "      <td>2018-12-01 04:40:00</td>\n",
       "      <td>Kuala Lumpur</td>\n",
       "      <td>KUL</td>\n",
       "      <td>MY</td>\n",
       "      <td>C11</td>\n",
       "      <td>...</td>\n",
       "      <td>CN</td>\n",
       "      <td>NaN</td>\n",
       "      <td>Changle International Airport</td>\n",
       "      <td>Asia</td>\n",
       "      <td>NaN</td>\n",
       "      <td>Asia/Shanghai</td>\n",
       "      <td>738</td>\n",
       "      <td>Boeing 737-800 Passenger</td>\n",
       "      <td>4h 40m</td>\n",
       "      <td>15</td>\n",
       "    </tr>\n",
       "    <tr>\n",
       "      <th>2</th>\n",
       "      <td>483246</td>\n",
       "      <td>TK8186</td>\n",
       "      <td>TK</td>\n",
       "      <td>Turkish Airlines</td>\n",
       "      <td>2018-12-01 00:00:00</td>\n",
       "      <td>2018-12-01 02:40:00</td>\n",
       "      <td>Kuala Lumpur</td>\n",
       "      <td>KUL</td>\n",
       "      <td>MY</td>\n",
       "      <td>A4</td>\n",
       "      <td>...</td>\n",
       "      <td>MY</td>\n",
       "      <td>NaN</td>\n",
       "      <td>Kota Kinabalu International Airport</td>\n",
       "      <td>Asia</td>\n",
       "      <td>NaN</td>\n",
       "      <td>Asia/Kuala_Lumpur</td>\n",
       "      <td>738</td>\n",
       "      <td>Boeing 737-800 Passenger</td>\n",
       "      <td>2h 40m</td>\n",
       "      <td>27</td>\n",
       "    </tr>\n",
       "    <tr>\n",
       "      <th>3</th>\n",
       "      <td>483247</td>\n",
       "      <td>AK6324</td>\n",
       "      <td>AK</td>\n",
       "      <td>AirAsia</td>\n",
       "      <td>2018-12-01 00:00:00</td>\n",
       "      <td>2018-12-01 01:05:00</td>\n",
       "      <td>Kuala Lumpur</td>\n",
       "      <td>KUL</td>\n",
       "      <td>MY</td>\n",
       "      <td>J1</td>\n",
       "      <td>...</td>\n",
       "      <td>MY</td>\n",
       "      <td>NaN</td>\n",
       "      <td>Langkawi International Airport</td>\n",
       "      <td>Asia</td>\n",
       "      <td>NaN</td>\n",
       "      <td>Asia/Kuala_Lumpur</td>\n",
       "      <td>32S</td>\n",
       "      <td>Airbus A318 / A319 / A320 / A321</td>\n",
       "      <td>1h 10m</td>\n",
       "      <td>95</td>\n",
       "    </tr>\n",
       "    <tr>\n",
       "      <th>4</th>\n",
       "      <td>483248</td>\n",
       "      <td>UA7967</td>\n",
       "      <td>UA</td>\n",
       "      <td>United Airlines</td>\n",
       "      <td>2018-12-01 00:00:00</td>\n",
       "      <td>2018-12-01 06:40:00</td>\n",
       "      <td>Kuala Lumpur</td>\n",
       "      <td>KUL</td>\n",
       "      <td>MY</td>\n",
       "      <td>C22</td>\n",
       "      <td>...</td>\n",
       "      <td>JP</td>\n",
       "      <td>58B</td>\n",
       "      <td>Narita International Airport</td>\n",
       "      <td>Asia</td>\n",
       "      <td>1</td>\n",
       "      <td>Asia/Tokyo</td>\n",
       "      <td>788</td>\n",
       "      <td>Boeing 787-8</td>\n",
       "      <td>6h 23m</td>\n",
       "      <td>20</td>\n",
       "    </tr>\n",
       "  </tbody>\n",
       "</table>\n",
       "<p>5 rows × 26 columns</p>\n",
       "</div>"
      ],
      "text/plain": [
       "       id  number airline             airline_name scheduled_departure_time  \\\n",
       "0  483244  CZ7412      CZ  China Southern Airlines      2018-12-01 00:00:00   \n",
       "1  483245  MH5712      MH        Malaysia Airlines      2018-12-01 00:00:00   \n",
       "2  483246  TK8186      TK         Turkish Airlines      2018-12-01 00:00:00   \n",
       "3  483247  AK6324      AK                  AirAsia      2018-12-01 00:00:00   \n",
       "4  483248  UA7967      UA          United Airlines      2018-12-01 00:00:00   \n",
       "\n",
       "  scheduled_arrival_time departure_airport_city departure_airport_code  \\\n",
       "0    2018-12-01 04:40:00           Kuala Lumpur                    KUL   \n",
       "1    2018-12-01 04:40:00           Kuala Lumpur                    KUL   \n",
       "2    2018-12-01 02:40:00           Kuala Lumpur                    KUL   \n",
       "3    2018-12-01 01:05:00           Kuala Lumpur                    KUL   \n",
       "4    2018-12-01 06:40:00           Kuala Lumpur                    KUL   \n",
       "\n",
       "  departure_airport_country departure_airport_gate  ...  \\\n",
       "0                        MY                    C11  ...   \n",
       "1                        MY                    C11  ...   \n",
       "2                        MY                     A4  ...   \n",
       "3                        MY                     J1  ...   \n",
       "4                        MY                    C22  ...   \n",
       "\n",
       "  arrival_airport_country arrival_airport_gate  \\\n",
       "0                      CN                  NaN   \n",
       "1                      CN                  NaN   \n",
       "2                      MY                  NaN   \n",
       "3                      MY                  NaN   \n",
       "4                      JP                  58B   \n",
       "\n",
       "                  arrival_airport_name arrival_airport_region  \\\n",
       "0        Changle International Airport                   Asia   \n",
       "1        Changle International Airport                   Asia   \n",
       "2  Kota Kinabalu International Airport                   Asia   \n",
       "3       Langkawi International Airport                   Asia   \n",
       "4         Narita International Airport                   Asia   \n",
       "\n",
       "  arrival_airport_terminal arrival_airport_timezone flight_equipment_iata  \\\n",
       "0                      NaN            Asia/Shanghai                   738   \n",
       "1                      NaN            Asia/Shanghai                   738   \n",
       "2                      NaN        Asia/Kuala_Lumpur                   738   \n",
       "3                      NaN        Asia/Kuala_Lumpur                   32S   \n",
       "4                        1               Asia/Tokyo                   788   \n",
       "\n",
       "              flight_equipment_name flight_duration delay  \n",
       "0          Boeing 737-800 Passenger          4h 40m    15  \n",
       "1          Boeing 737-800 Passenger          4h 40m    15  \n",
       "2          Boeing 737-800 Passenger          2h 40m    27  \n",
       "3  Airbus A318 / A319 / A320 / A321          1h 10m    95  \n",
       "4                      Boeing 787-8          6h 23m    20  \n",
       "\n",
       "[5 rows x 26 columns]"
      ]
     },
     "execution_count": 251,
     "metadata": {},
     "output_type": "execute_result"
    }
   ],
   "source": [
    "df_test = pd.read_csv('test_dataset.csv')\n",
    "df_test.head()"
   ]
  },
  {
   "cell_type": "markdown",
   "metadata": {
    "ExecuteTime": {
     "end_time": "2019-11-04T02:25:10.004500Z",
     "start_time": "2019-11-04T02:25:09.977000Z"
    }
   },
   "source": [
    "<div class=title1>\n",
    "    <b><font size='3'>Data Cleansing</font></b>\n",
    "</div>"
   ]
  },
  {
   "cell_type": "code",
   "execution_count": 252,
   "metadata": {
    "ExecuteTime": {
     "end_time": "2019-11-04T11:39:01.351500Z",
     "start_time": "2019-11-04T11:39:01.226500Z"
    }
   },
   "outputs": [
    {
     "name": "stdout",
     "output_type": "stream",
     "text": [
      "<class 'pandas.core.frame.DataFrame'>\n",
      "RangeIndex: 111068 entries, 0 to 111067\n",
      "Data columns (total 26 columns):\n",
      "id                            111068 non-null int64\n",
      "number                        111068 non-null object\n",
      "airline                       111068 non-null object\n",
      "airline_name                  111068 non-null object\n",
      "scheduled_departure_time      111068 non-null object\n",
      "scheduled_arrival_time        111063 non-null object\n",
      "departure_airport_city        111068 non-null object\n",
      "departure_airport_code        111068 non-null object\n",
      "departure_airport_country     111068 non-null object\n",
      "departure_airport_gate        66859 non-null object\n",
      "departure_airport_name        111068 non-null object\n",
      "departure_airport_region      111068 non-null object\n",
      "departure_airport_terminal    69728 non-null object\n",
      "departure_airport_timezone    111068 non-null object\n",
      "arrival_airport_city          111068 non-null object\n",
      "arrival_airport_code          111068 non-null object\n",
      "arrival_airport_country       111068 non-null object\n",
      "arrival_airport_gate          12087 non-null object\n",
      "arrival_airport_name          111068 non-null object\n",
      "arrival_airport_region        111068 non-null object\n",
      "arrival_airport_terminal      53050 non-null object\n",
      "arrival_airport_timezone      111068 non-null object\n",
      "flight_equipment_iata         111049 non-null object\n",
      "flight_equipment_name         111049 non-null object\n",
      "flight_duration               111065 non-null object\n",
      "delay                         111068 non-null int64\n",
      "dtypes: int64(2), object(24)\n",
      "memory usage: 22.0+ MB\n"
     ]
    }
   ],
   "source": [
    "df_train.info()"
   ]
  },
  {
   "cell_type": "code",
   "execution_count": 253,
   "metadata": {
    "ExecuteTime": {
     "end_time": "2019-11-04T11:39:01.590500Z",
     "start_time": "2019-11-04T11:39:01.353500Z"
    }
   },
   "outputs": [
    {
     "data": {
      "text/plain": [
       "id                                0\n",
       "number                            0\n",
       "airline                           0\n",
       "airline_name                      0\n",
       "scheduled_departure_time          0\n",
       "scheduled_arrival_time            5\n",
       "departure_airport_city            0\n",
       "departure_airport_code            0\n",
       "departure_airport_country         0\n",
       "departure_airport_gate        44209\n",
       "departure_airport_name            0\n",
       "departure_airport_region          0\n",
       "departure_airport_terminal    41340\n",
       "departure_airport_timezone        0\n",
       "arrival_airport_city              0\n",
       "arrival_airport_code              0\n",
       "arrival_airport_country           0\n",
       "arrival_airport_gate          98981\n",
       "arrival_airport_name              0\n",
       "arrival_airport_region            0\n",
       "arrival_airport_terminal      58018\n",
       "arrival_airport_timezone          0\n",
       "flight_equipment_iata            19\n",
       "flight_equipment_name            19\n",
       "flight_duration                   3\n",
       "delay                             0\n",
       "dtype: int64"
      ]
     },
     "execution_count": 253,
     "metadata": {},
     "output_type": "execute_result"
    }
   ],
   "source": [
    "df_train.isnull().sum()"
   ]
  },
  {
   "cell_type": "markdown",
   "metadata": {},
   "source": [
    "<div class=cbox>\n",
    "    <b>From the train data, there are lots of missing data so we have to clean the data. Those features which has 20% more missing data will be dropped.</b>\n",
    "</div>"
   ]
  },
  {
   "cell_type": "code",
   "execution_count": 254,
   "metadata": {
    "ExecuteTime": {
     "end_time": "2019-11-04T11:39:01.702500Z",
     "start_time": "2019-11-04T11:39:01.592500Z"
    }
   },
   "outputs": [],
   "source": [
    "df_train = df_train.drop(columns=['departure_airport_gate',\n",
    "                                 'departure_airport_terminal',\n",
    "                                 'arrival_airport_gate',\n",
    "                                 'arrival_airport_terminal'])"
   ]
  },
  {
   "cell_type": "markdown",
   "metadata": {},
   "source": [
    "<div class=cbox>\n",
    "    <b>From the train data, drop features in which are not related to delay as business sense (logic).</b>\n",
    "</div>"
   ]
  },
  {
   "cell_type": "code",
   "execution_count": 255,
   "metadata": {
    "ExecuteTime": {
     "end_time": "2019-11-04T11:39:01.730500Z",
     "start_time": "2019-11-04T11:39:01.704500Z"
    }
   },
   "outputs": [
    {
     "data": {
      "text/html": [
       "<div>\n",
       "<style scoped>\n",
       "    .dataframe tbody tr th:only-of-type {\n",
       "        vertical-align: middle;\n",
       "    }\n",
       "\n",
       "    .dataframe tbody tr th {\n",
       "        vertical-align: top;\n",
       "    }\n",
       "\n",
       "    .dataframe thead th {\n",
       "        text-align: right;\n",
       "    }\n",
       "</style>\n",
       "<table border=\"1\" class=\"dataframe\">\n",
       "  <thead>\n",
       "    <tr style=\"text-align: right;\">\n",
       "      <th></th>\n",
       "      <th>airline</th>\n",
       "      <th>scheduled_departure_time</th>\n",
       "      <th>scheduled_arrival_time</th>\n",
       "      <th>departure_airport_city</th>\n",
       "      <th>departure_airport_name</th>\n",
       "      <th>arrival_airport_city</th>\n",
       "      <th>arrival_airport_name</th>\n",
       "      <th>delay</th>\n",
       "    </tr>\n",
       "  </thead>\n",
       "  <tbody>\n",
       "    <tr>\n",
       "      <th>0</th>\n",
       "      <td>AK</td>\n",
       "      <td>2018-10-05 22:00:00</td>\n",
       "      <td>2018-10-05 23:05:00</td>\n",
       "      <td>Kuala Lumpur</td>\n",
       "      <td>Kuala Lumpur International Airport</td>\n",
       "      <td>Kota Bharu</td>\n",
       "      <td>Sultan Ismail Petra Airport</td>\n",
       "      <td>2</td>\n",
       "    </tr>\n",
       "    <tr>\n",
       "      <th>1</th>\n",
       "      <td>ID*</td>\n",
       "      <td>2018-10-05 22:00:00</td>\n",
       "      <td>2018-10-05 23:55:00</td>\n",
       "      <td>Kuala Lumpur</td>\n",
       "      <td>Kuala Lumpur International Airport</td>\n",
       "      <td>Jakarta</td>\n",
       "      <td>Soekarno-Hatta International Airport</td>\n",
       "      <td>8</td>\n",
       "    </tr>\n",
       "    <tr>\n",
       "      <th>2</th>\n",
       "      <td>MXD</td>\n",
       "      <td>2018-10-05 22:00:00</td>\n",
       "      <td>2018-10-05 23:55:00</td>\n",
       "      <td>Kuala Lumpur</td>\n",
       "      <td>Kuala Lumpur International Airport</td>\n",
       "      <td>Jakarta</td>\n",
       "      <td>Soekarno-Hatta International Airport</td>\n",
       "      <td>8</td>\n",
       "    </tr>\n",
       "    <tr>\n",
       "      <th>3</th>\n",
       "      <td>AK</td>\n",
       "      <td>2018-10-05 22:05:00</td>\n",
       "      <td>2018-10-06 01:00:00</td>\n",
       "      <td>Kuala Lumpur</td>\n",
       "      <td>Kuala Lumpur International Airport</td>\n",
       "      <td>Sandakan</td>\n",
       "      <td>Sandakan Airport</td>\n",
       "      <td>0</td>\n",
       "    </tr>\n",
       "    <tr>\n",
       "      <th>4</th>\n",
       "      <td>AK</td>\n",
       "      <td>2018-10-05 22:10:00</td>\n",
       "      <td>2018-10-06 01:25:00</td>\n",
       "      <td>Kuala Lumpur</td>\n",
       "      <td>Kuala Lumpur International Airport</td>\n",
       "      <td>Hanoi</td>\n",
       "      <td>Noi Bai International Airport</td>\n",
       "      <td>0</td>\n",
       "    </tr>\n",
       "  </tbody>\n",
       "</table>\n",
       "</div>"
      ],
      "text/plain": [
       "  airline scheduled_departure_time scheduled_arrival_time  \\\n",
       "0      AK      2018-10-05 22:00:00    2018-10-05 23:05:00   \n",
       "1     ID*      2018-10-05 22:00:00    2018-10-05 23:55:00   \n",
       "2     MXD      2018-10-05 22:00:00    2018-10-05 23:55:00   \n",
       "3      AK      2018-10-05 22:05:00    2018-10-06 01:00:00   \n",
       "4      AK      2018-10-05 22:10:00    2018-10-06 01:25:00   \n",
       "\n",
       "  departure_airport_city              departure_airport_name  \\\n",
       "0           Kuala Lumpur  Kuala Lumpur International Airport   \n",
       "1           Kuala Lumpur  Kuala Lumpur International Airport   \n",
       "2           Kuala Lumpur  Kuala Lumpur International Airport   \n",
       "3           Kuala Lumpur  Kuala Lumpur International Airport   \n",
       "4           Kuala Lumpur  Kuala Lumpur International Airport   \n",
       "\n",
       "  arrival_airport_city                  arrival_airport_name  delay  \n",
       "0           Kota Bharu           Sultan Ismail Petra Airport      2  \n",
       "1              Jakarta  Soekarno-Hatta International Airport      8  \n",
       "2              Jakarta  Soekarno-Hatta International Airport      8  \n",
       "3             Sandakan                      Sandakan Airport      0  \n",
       "4                Hanoi         Noi Bai International Airport      0  "
      ]
     },
     "execution_count": 255,
     "metadata": {},
     "output_type": "execute_result"
    }
   ],
   "source": [
    "df_train_c = df_train.drop(columns=['id',\n",
    "                                    'number',\n",
    "                                    'airline_name',\n",
    "                                    'departure_airport_code',\n",
    "                                    'departure_airport_country',\n",
    "                                    'departure_airport_region',\n",
    "                                    'departure_airport_timezone',\n",
    "                                   'arrival_airport_code',\n",
    "                                   'arrival_airport_country',\n",
    "                                   'arrival_airport_region',\n",
    "                                   'arrival_airport_timezone',\n",
    "                                   'flight_equipment_iata',\n",
    "                                   'flight_equipment_name',\n",
    "                                   'flight_duration'])\n",
    "df_train_c.head()"
   ]
  },
  {
   "cell_type": "markdown",
   "metadata": {},
   "source": [
    "<div class=cbox>\n",
    "    <b>From the train data, drop rows in which are still Nan.</b>\n",
    "</div>"
   ]
  },
  {
   "cell_type": "code",
   "execution_count": 256,
   "metadata": {
    "ExecuteTime": {
     "end_time": "2019-11-04T11:39:02.117500Z",
     "start_time": "2019-11-04T11:39:02.046500Z"
    }
   },
   "outputs": [
    {
     "data": {
      "text/plain": [
       "airline                     0\n",
       "scheduled_departure_time    0\n",
       "scheduled_arrival_time      0\n",
       "departure_airport_city      0\n",
       "departure_airport_name      0\n",
       "arrival_airport_city        0\n",
       "arrival_airport_name        0\n",
       "delay                       0\n",
       "dtype: int64"
      ]
     },
     "execution_count": 256,
     "metadata": {},
     "output_type": "execute_result"
    }
   ],
   "source": [
    "df_train_c = df_train_c.drop(index = df_train_c[df_train_c['scheduled_arrival_time'].isnull()].index).reset_index(drop=True)\n",
    "df_train_c.isnull().sum()"
   ]
  },
  {
   "cell_type": "markdown",
   "metadata": {},
   "source": [
    "<div class=cbox>\n",
    "    <b>Change data type of object into DateTime.</b>\n",
    "</div>"
   ]
  },
  {
   "cell_type": "code",
   "execution_count": 257,
   "metadata": {
    "ExecuteTime": {
     "end_time": "2019-11-04T11:39:02.560500Z",
     "start_time": "2019-11-04T11:39:02.439500Z"
    }
   },
   "outputs": [],
   "source": [
    "df_train_c['scheduled_departure_time'] = pd.to_datetime(df_train_c['scheduled_departure_time'], format='%Y-%m-%d')\n",
    "df_train_c['scheduled_arrival_time'] = pd.to_datetime(df_train_c['scheduled_arrival_time'], format='%Y-%m-%d')"
   ]
  },
  {
   "cell_type": "markdown",
   "metadata": {
    "ExecuteTime": {
     "end_time": "2019-11-04T06:24:47.985500Z",
     "start_time": "2019-11-04T06:24:47.950500Z"
    }
   },
   "source": [
    "<div class=cbox>\n",
    "    <b>Convert DateTime into several parts; Departure Hour and Day. Get the day because it has an effect on delay</b>\n",
    "</div>"
   ]
  },
  {
   "cell_type": "code",
   "execution_count": 258,
   "metadata": {
    "ExecuteTime": {
     "end_time": "2019-11-04T11:39:02.863500Z",
     "start_time": "2019-11-04T11:39:02.836500Z"
    }
   },
   "outputs": [
    {
     "data": {
      "text/html": [
       "<div>\n",
       "<style scoped>\n",
       "    .dataframe tbody tr th:only-of-type {\n",
       "        vertical-align: middle;\n",
       "    }\n",
       "\n",
       "    .dataframe tbody tr th {\n",
       "        vertical-align: top;\n",
       "    }\n",
       "\n",
       "    .dataframe thead th {\n",
       "        text-align: right;\n",
       "    }\n",
       "</style>\n",
       "<table border=\"1\" class=\"dataframe\">\n",
       "  <thead>\n",
       "    <tr style=\"text-align: right;\">\n",
       "      <th></th>\n",
       "      <th>airline</th>\n",
       "      <th>scheduled_departure_time</th>\n",
       "      <th>scheduled_arrival_time</th>\n",
       "      <th>departure_airport_name</th>\n",
       "      <th>delay</th>\n",
       "    </tr>\n",
       "  </thead>\n",
       "  <tbody>\n",
       "    <tr>\n",
       "      <th>0</th>\n",
       "      <td>AK</td>\n",
       "      <td>2018-10-05 22:00:00</td>\n",
       "      <td>2018-10-05 23:05:00</td>\n",
       "      <td>Kuala Lumpur International Airport</td>\n",
       "      <td>2</td>\n",
       "    </tr>\n",
       "    <tr>\n",
       "      <th>1</th>\n",
       "      <td>ID*</td>\n",
       "      <td>2018-10-05 22:00:00</td>\n",
       "      <td>2018-10-05 23:55:00</td>\n",
       "      <td>Kuala Lumpur International Airport</td>\n",
       "      <td>8</td>\n",
       "    </tr>\n",
       "    <tr>\n",
       "      <th>2</th>\n",
       "      <td>MXD</td>\n",
       "      <td>2018-10-05 22:00:00</td>\n",
       "      <td>2018-10-05 23:55:00</td>\n",
       "      <td>Kuala Lumpur International Airport</td>\n",
       "      <td>8</td>\n",
       "    </tr>\n",
       "    <tr>\n",
       "      <th>3</th>\n",
       "      <td>AK</td>\n",
       "      <td>2018-10-05 22:05:00</td>\n",
       "      <td>2018-10-06 01:00:00</td>\n",
       "      <td>Kuala Lumpur International Airport</td>\n",
       "      <td>0</td>\n",
       "    </tr>\n",
       "    <tr>\n",
       "      <th>4</th>\n",
       "      <td>AK</td>\n",
       "      <td>2018-10-05 22:10:00</td>\n",
       "      <td>2018-10-06 01:25:00</td>\n",
       "      <td>Kuala Lumpur International Airport</td>\n",
       "      <td>0</td>\n",
       "    </tr>\n",
       "  </tbody>\n",
       "</table>\n",
       "</div>"
      ],
      "text/plain": [
       "  airline scheduled_departure_time scheduled_arrival_time  \\\n",
       "0      AK      2018-10-05 22:00:00    2018-10-05 23:05:00   \n",
       "1     ID*      2018-10-05 22:00:00    2018-10-05 23:55:00   \n",
       "2     MXD      2018-10-05 22:00:00    2018-10-05 23:55:00   \n",
       "3      AK      2018-10-05 22:05:00    2018-10-06 01:00:00   \n",
       "4      AK      2018-10-05 22:10:00    2018-10-06 01:25:00   \n",
       "\n",
       "               departure_airport_name  delay  \n",
       "0  Kuala Lumpur International Airport      2  \n",
       "1  Kuala Lumpur International Airport      8  \n",
       "2  Kuala Lumpur International Airport      8  \n",
       "3  Kuala Lumpur International Airport      0  \n",
       "4  Kuala Lumpur International Airport      0  "
      ]
     },
     "execution_count": 258,
     "metadata": {},
     "output_type": "execute_result"
    }
   ],
   "source": [
    "df_train_c1 = df_train_c.copy()\n",
    "df_train_c1 = df_train_c1.drop(columns = ['arrival_airport_city','arrival_airport_name','departure_airport_city'])\n",
    "df_train_c1.head()"
   ]
  },
  {
   "cell_type": "code",
   "execution_count": 259,
   "metadata": {
    "ExecuteTime": {
     "end_time": "2019-11-04T11:39:05.376500Z",
     "start_time": "2019-11-04T11:39:03.055500Z"
    }
   },
   "outputs": [
    {
     "data": {
      "text/html": [
       "<div>\n",
       "<style scoped>\n",
       "    .dataframe tbody tr th:only-of-type {\n",
       "        vertical-align: middle;\n",
       "    }\n",
       "\n",
       "    .dataframe tbody tr th {\n",
       "        vertical-align: top;\n",
       "    }\n",
       "\n",
       "    .dataframe thead th {\n",
       "        text-align: right;\n",
       "    }\n",
       "</style>\n",
       "<table border=\"1\" class=\"dataframe\">\n",
       "  <thead>\n",
       "    <tr style=\"text-align: right;\">\n",
       "      <th></th>\n",
       "      <th>airline</th>\n",
       "      <th>departure_airport_name</th>\n",
       "      <th>delay</th>\n",
       "      <th>departure_hour</th>\n",
       "      <th>departure_day</th>\n",
       "      <th>arival_hour</th>\n",
       "    </tr>\n",
       "  </thead>\n",
       "  <tbody>\n",
       "    <tr>\n",
       "      <th>0</th>\n",
       "      <td>AK</td>\n",
       "      <td>Kuala Lumpur International Airport</td>\n",
       "      <td>2</td>\n",
       "      <td>22</td>\n",
       "      <td>Friday</td>\n",
       "      <td>23</td>\n",
       "    </tr>\n",
       "    <tr>\n",
       "      <th>1</th>\n",
       "      <td>ID*</td>\n",
       "      <td>Kuala Lumpur International Airport</td>\n",
       "      <td>8</td>\n",
       "      <td>22</td>\n",
       "      <td>Friday</td>\n",
       "      <td>23</td>\n",
       "    </tr>\n",
       "    <tr>\n",
       "      <th>2</th>\n",
       "      <td>MXD</td>\n",
       "      <td>Kuala Lumpur International Airport</td>\n",
       "      <td>8</td>\n",
       "      <td>22</td>\n",
       "      <td>Friday</td>\n",
       "      <td>23</td>\n",
       "    </tr>\n",
       "    <tr>\n",
       "      <th>3</th>\n",
       "      <td>AK</td>\n",
       "      <td>Kuala Lumpur International Airport</td>\n",
       "      <td>0</td>\n",
       "      <td>22</td>\n",
       "      <td>Friday</td>\n",
       "      <td>1</td>\n",
       "    </tr>\n",
       "    <tr>\n",
       "      <th>4</th>\n",
       "      <td>AK</td>\n",
       "      <td>Kuala Lumpur International Airport</td>\n",
       "      <td>0</td>\n",
       "      <td>22</td>\n",
       "      <td>Friday</td>\n",
       "      <td>1</td>\n",
       "    </tr>\n",
       "    <tr>\n",
       "      <th>...</th>\n",
       "      <td>...</td>\n",
       "      <td>...</td>\n",
       "      <td>...</td>\n",
       "      <td>...</td>\n",
       "      <td>...</td>\n",
       "      <td>...</td>\n",
       "    </tr>\n",
       "    <tr>\n",
       "      <th>111058</th>\n",
       "      <td>EK</td>\n",
       "      <td>Sultan Ismail Petra Airport</td>\n",
       "      <td>0</td>\n",
       "      <td>22</td>\n",
       "      <td>Friday</td>\n",
       "      <td>23</td>\n",
       "    </tr>\n",
       "    <tr>\n",
       "      <th>111059</th>\n",
       "      <td>PR</td>\n",
       "      <td>Sultan Ismail Petra Airport</td>\n",
       "      <td>0</td>\n",
       "      <td>22</td>\n",
       "      <td>Friday</td>\n",
       "      <td>23</td>\n",
       "    </tr>\n",
       "    <tr>\n",
       "      <th>111060</th>\n",
       "      <td>QR</td>\n",
       "      <td>Sultan Ismail Petra Airport</td>\n",
       "      <td>0</td>\n",
       "      <td>22</td>\n",
       "      <td>Friday</td>\n",
       "      <td>23</td>\n",
       "    </tr>\n",
       "    <tr>\n",
       "      <th>111061</th>\n",
       "      <td>AK</td>\n",
       "      <td>Sultan Ismail Petra Airport</td>\n",
       "      <td>7</td>\n",
       "      <td>23</td>\n",
       "      <td>Friday</td>\n",
       "      <td>1</td>\n",
       "    </tr>\n",
       "    <tr>\n",
       "      <th>111062</th>\n",
       "      <td>MH</td>\n",
       "      <td>Sibu Airport</td>\n",
       "      <td>0</td>\n",
       "      <td>23</td>\n",
       "      <td>Friday</td>\n",
       "      <td>23</td>\n",
       "    </tr>\n",
       "  </tbody>\n",
       "</table>\n",
       "<p>111063 rows × 6 columns</p>\n",
       "</div>"
      ],
      "text/plain": [
       "       airline              departure_airport_name  delay  departure_hour  \\\n",
       "0           AK  Kuala Lumpur International Airport      2              22   \n",
       "1          ID*  Kuala Lumpur International Airport      8              22   \n",
       "2          MXD  Kuala Lumpur International Airport      8              22   \n",
       "3           AK  Kuala Lumpur International Airport      0              22   \n",
       "4           AK  Kuala Lumpur International Airport      0              22   \n",
       "...        ...                                 ...    ...             ...   \n",
       "111058      EK         Sultan Ismail Petra Airport      0              22   \n",
       "111059      PR         Sultan Ismail Petra Airport      0              22   \n",
       "111060      QR         Sultan Ismail Petra Airport      0              22   \n",
       "111061      AK         Sultan Ismail Petra Airport      7              23   \n",
       "111062      MH                        Sibu Airport      0              23   \n",
       "\n",
       "       departure_day  arival_hour  \n",
       "0             Friday           23  \n",
       "1             Friday           23  \n",
       "2             Friday           23  \n",
       "3             Friday            1  \n",
       "4             Friday            1  \n",
       "...              ...          ...  \n",
       "111058        Friday           23  \n",
       "111059        Friday           23  \n",
       "111060        Friday           23  \n",
       "111061        Friday            1  \n",
       "111062        Friday           23  \n",
       "\n",
       "[111063 rows x 6 columns]"
      ]
     },
     "execution_count": 259,
     "metadata": {},
     "output_type": "execute_result"
    }
   ],
   "source": [
    "df_train_c1['departure_hour'] = df_train_c1.scheduled_departure_time.apply(lambda x: x.hour)\n",
    "df_train_c1['departure_day'] = df_train_c1.scheduled_departure_time.apply(lambda x: x.strftime('%A'))\n",
    "df_train_c1['arival_hour'] = df_train_c1.scheduled_arrival_time.apply(lambda x: x.hour)\n",
    "df_train_c1 = df_train_c1.drop(columns=['scheduled_departure_time','scheduled_arrival_time'])\n",
    "df_train_c1"
   ]
  },
  {
   "cell_type": "markdown",
   "metadata": {},
   "source": [
    "<div class=title1>\n",
    "    <b><font size='3'>Data Test Cleaning</font></b>\n",
    "</div>"
   ]
  },
  {
   "cell_type": "markdown",
   "metadata": {
    "ExecuteTime": {
     "end_time": "2019-11-04T07:07:05.212000Z",
     "start_time": "2019-11-04T07:07:05.197000Z"
    }
   },
   "source": [
    "<div class=cbox>\n",
    "    <b>Do the data cleaning from data train to data test</b>\n",
    "</div>"
   ]
  },
  {
   "cell_type": "code",
   "execution_count": 260,
   "metadata": {
    "ExecuteTime": {
     "end_time": "2019-11-04T11:39:05.387500Z",
     "start_time": "2019-11-04T11:39:05.378500Z"
    }
   },
   "outputs": [],
   "source": [
    "df_test = df_test.drop(columns=['departure_airport_gate',\n",
    "                               'departure_airport_terminal',\n",
    "                               'arrival_airport_gate',\n",
    "                               'arrival_airport_terminal',\n",
    "                               'id',\n",
    "                               'number',\n",
    "                               'airline_name',\n",
    "                               'departure_airport_code',\n",
    "                               'departure_airport_country',\n",
    "                               'departure_airport_region',\n",
    "                               'departure_airport_timezone',\n",
    "                               'arrival_airport_code',\n",
    "                               'arrival_airport_country',\n",
    "                               'arrival_airport_region',\n",
    "                               'arrival_airport_timezone',\n",
    "                               'flight_equipment_iata',\n",
    "                               'flight_equipment_name',\n",
    "                               'flight_duration',\n",
    "                               'arrival_airport_city',\n",
    "                               'arrival_airport_name',\n",
    "                               'departure_airport_city'])"
   ]
  },
  {
   "cell_type": "code",
   "execution_count": 261,
   "metadata": {
    "ExecuteTime": {
     "end_time": "2019-11-04T11:39:05.539500Z",
     "start_time": "2019-11-04T11:39:05.390500Z"
    }
   },
   "outputs": [],
   "source": [
    "df_test['scheduled_departure_time'] = pd.to_datetime(df_test['scheduled_departure_time'], format='%Y-%m-%d')\n",
    "df_test['scheduled_arrival_time'] = pd.to_datetime(df_test['scheduled_arrival_time'], format='%Y-%m-%d')"
   ]
  },
  {
   "cell_type": "code",
   "execution_count": 262,
   "metadata": {
    "ExecuteTime": {
     "end_time": "2019-11-04T11:39:05.685500Z",
     "start_time": "2019-11-04T11:39:05.543500Z"
    }
   },
   "outputs": [
    {
     "data": {
      "text/plain": [
       "airline                     0\n",
       "scheduled_departure_time    0\n",
       "scheduled_arrival_time      0\n",
       "departure_airport_name      0\n",
       "delay                       0\n",
       "dtype: int64"
      ]
     },
     "execution_count": 262,
     "metadata": {},
     "output_type": "execute_result"
    }
   ],
   "source": [
    "df_test = df_test.drop(index = df_test[df_test['scheduled_arrival_time'].isnull()].index).reset_index(drop=True)\n",
    "df_test.isnull().sum()"
   ]
  },
  {
   "cell_type": "code",
   "execution_count": 263,
   "metadata": {
    "ExecuteTime": {
     "end_time": "2019-11-04T11:39:06.783500Z",
     "start_time": "2019-11-04T11:39:05.688500Z"
    }
   },
   "outputs": [
    {
     "data": {
      "text/html": [
       "<div>\n",
       "<style scoped>\n",
       "    .dataframe tbody tr th:only-of-type {\n",
       "        vertical-align: middle;\n",
       "    }\n",
       "\n",
       "    .dataframe tbody tr th {\n",
       "        vertical-align: top;\n",
       "    }\n",
       "\n",
       "    .dataframe thead th {\n",
       "        text-align: right;\n",
       "    }\n",
       "</style>\n",
       "<table border=\"1\" class=\"dataframe\">\n",
       "  <thead>\n",
       "    <tr style=\"text-align: right;\">\n",
       "      <th></th>\n",
       "      <th>airline</th>\n",
       "      <th>departure_airport_name</th>\n",
       "      <th>delay</th>\n",
       "      <th>departure_hour</th>\n",
       "      <th>departure_day</th>\n",
       "      <th>arival_hour</th>\n",
       "    </tr>\n",
       "  </thead>\n",
       "  <tbody>\n",
       "    <tr>\n",
       "      <th>0</th>\n",
       "      <td>CZ</td>\n",
       "      <td>Kuala Lumpur International Airport</td>\n",
       "      <td>15</td>\n",
       "      <td>0</td>\n",
       "      <td>Saturday</td>\n",
       "      <td>4</td>\n",
       "    </tr>\n",
       "    <tr>\n",
       "      <th>1</th>\n",
       "      <td>MH</td>\n",
       "      <td>Kuala Lumpur International Airport</td>\n",
       "      <td>15</td>\n",
       "      <td>0</td>\n",
       "      <td>Saturday</td>\n",
       "      <td>4</td>\n",
       "    </tr>\n",
       "    <tr>\n",
       "      <th>2</th>\n",
       "      <td>TK</td>\n",
       "      <td>Kuala Lumpur International Airport</td>\n",
       "      <td>27</td>\n",
       "      <td>0</td>\n",
       "      <td>Saturday</td>\n",
       "      <td>2</td>\n",
       "    </tr>\n",
       "    <tr>\n",
       "      <th>3</th>\n",
       "      <td>AK</td>\n",
       "      <td>Kuala Lumpur International Airport</td>\n",
       "      <td>95</td>\n",
       "      <td>0</td>\n",
       "      <td>Saturday</td>\n",
       "      <td>1</td>\n",
       "    </tr>\n",
       "    <tr>\n",
       "      <th>4</th>\n",
       "      <td>UA</td>\n",
       "      <td>Kuala Lumpur International Airport</td>\n",
       "      <td>20</td>\n",
       "      <td>0</td>\n",
       "      <td>Saturday</td>\n",
       "      <td>6</td>\n",
       "    </tr>\n",
       "  </tbody>\n",
       "</table>\n",
       "</div>"
      ],
      "text/plain": [
       "  airline              departure_airport_name  delay  departure_hour  \\\n",
       "0      CZ  Kuala Lumpur International Airport     15               0   \n",
       "1      MH  Kuala Lumpur International Airport     15               0   \n",
       "2      TK  Kuala Lumpur International Airport     27               0   \n",
       "3      AK  Kuala Lumpur International Airport     95               0   \n",
       "4      UA  Kuala Lumpur International Airport     20               0   \n",
       "\n",
       "  departure_day  arival_hour  \n",
       "0      Saturday            4  \n",
       "1      Saturday            4  \n",
       "2      Saturday            2  \n",
       "3      Saturday            1  \n",
       "4      Saturday            6  "
      ]
     },
     "execution_count": 263,
     "metadata": {},
     "output_type": "execute_result"
    }
   ],
   "source": [
    "df_test['departure_hour'] = df_test.scheduled_departure_time.apply(lambda x: x.hour)\n",
    "df_test['departure_day'] = df_test.scheduled_departure_time.apply(lambda x: x.strftime('%A'))\n",
    "df_test['arival_hour'] = df_test.scheduled_arrival_time.apply(lambda x: x.hour)\n",
    "df_test = df_test.drop(columns=['scheduled_departure_time','scheduled_arrival_time'])\n",
    "df_test.head()"
   ]
  },
  {
   "cell_type": "markdown",
   "metadata": {},
   "source": [
    "<div class=title1>\n",
    "    <b><font size='3'>Data Processing</font></b>\n",
    "</div>"
   ]
  },
  {
   "cell_type": "markdown",
   "metadata": {
    "ExecuteTime": {
     "end_time": "2019-11-04T04:00:48.239500Z",
     "start_time": "2019-11-04T04:00:48.221500Z"
    }
   },
   "source": [
    "<div class=title1>\n",
    "    <b><font size='2'>Provide travel recommendation to passenger (best time to take a flight or best airline), so they will\n",
    "not get caught in delay. Each recommendation has to be supported by at least 1 graph.</font></b>\n",
    "</div>"
   ]
  },
  {
   "cell_type": "code",
   "execution_count": 264,
   "metadata": {
    "ExecuteTime": {
     "end_time": "2019-11-04T11:39:06.805500Z",
     "start_time": "2019-11-04T11:39:06.786500Z"
    }
   },
   "outputs": [],
   "source": [
    "df_train_c1_ga = df_train_c.groupby('airline').mean().sort_values('delay')[0:10]"
   ]
  },
  {
   "cell_type": "code",
   "execution_count": 265,
   "metadata": {
    "ExecuteTime": {
     "end_time": "2019-11-04T11:39:07.106500Z",
     "start_time": "2019-11-04T11:39:06.806500Z"
    }
   },
   "outputs": [
    {
     "data": {
      "text/plain": [
       "<matplotlib.axes._subplots.AxesSubplot at 0x3544d308>"
      ]
     },
     "execution_count": 265,
     "metadata": {},
     "output_type": "execute_result"
    },
    {
     "data": {
      "image/png": "[encoded data removed]",
      "text/plain": [
       "<Figure size 432x288 with 1 Axes>"
      ]
     },
     "metadata": {
      "needs_background": "light"
     },
     "output_type": "display_data"
    }
   ],
   "source": [
    "sns.barplot(df_train_c1_ga.index, df_train_c1_ga['delay'])"
   ]
  },
  {
   "cell_type": "markdown",
   "metadata": {},
   "source": [
    "<div class=cbox>\n",
    "    <b>From the graph above, there are 5 airlines that have 0 delay.</b>\n",
    "</div>"
   ]
  },
  {
   "cell_type": "code",
   "execution_count": 266,
   "metadata": {
    "ExecuteTime": {
     "end_time": "2019-11-04T11:39:07.124500Z",
     "start_time": "2019-11-04T11:39:07.108500Z"
    }
   },
   "outputs": [],
   "source": [
    "df_train_c1_gt = df_train_c1.groupby('departure_hour').mean().sort_values('delay')[0:10]"
   ]
  },
  {
   "cell_type": "code",
   "execution_count": 267,
   "metadata": {
    "ExecuteTime": {
     "end_time": "2019-11-04T11:39:07.483500Z",
     "start_time": "2019-11-04T11:39:07.126500Z"
    }
   },
   "outputs": [
    {
     "data": {
      "text/plain": [
       "<matplotlib.axes._subplots.AxesSubplot at 0x2c7d8948>"
      ]
     },
     "execution_count": 267,
     "metadata": {},
     "output_type": "execute_result"
    },
    {
     "data": {
      "image/png": "[encoded data removed]",
      "text/plain": [
       "<Figure size 432x288 with 1 Axes>"
      ]
     },
     "metadata": {
      "needs_background": "light"
     },
     "output_type": "display_data"
    }
   ],
   "source": [
    "sns.barplot(df_train_c1_gt.index, df_train_c1_gt['delay'])"
   ]
  },
  {
   "cell_type": "markdown",
   "metadata": {},
   "source": [
    "<div class=cbox>\n",
    "    <b>From the graph above, there is 1 time that has the lowest delay that is 21 or 9PM.</b>\n",
    "</div>"
   ]
  },
  {
   "cell_type": "markdown",
   "metadata": {},
   "source": [
    "<div class=cbox>\n",
    "    <b>Data in Airline Unique and in Departure Airport Name Unique has to be the same size.</b>\n",
    "</div>"
   ]
  },
  {
   "cell_type": "code",
   "execution_count": 268,
   "metadata": {
    "ExecuteTime": {
     "end_time": "2019-11-04T11:39:08.482500Z",
     "start_time": "2019-11-04T11:39:08.457500Z"
    }
   },
   "outputs": [
    {
     "name": "stdout",
     "output_type": "stream",
     "text": [
      "103\n",
      "101\n"
     ]
    }
   ],
   "source": [
    "print(len(df_train_c1['airline'].unique()))\n",
    "print(len(df_test['airline'].unique()))"
   ]
  },
  {
   "cell_type": "code",
   "execution_count": 269,
   "metadata": {
    "ExecuteTime": {
     "end_time": "2019-11-04T11:39:09.496500Z",
     "start_time": "2019-11-04T11:39:08.925500Z"
    }
   },
   "outputs": [],
   "source": [
    "aln = []\n",
    "for i in df_train_c1['airline'].unique():\n",
    "    if i not in df_test['airline'].unique():\n",
    "        aln.append(i)\n",
    "for i in df_test['airline'].unique():\n",
    "    if i not in df_train_c1['airline'].unique():\n",
    "        aln.append(i)"
   ]
  },
  {
   "cell_type": "code",
   "execution_count": 270,
   "metadata": {
    "ExecuteTime": {
     "end_time": "2019-11-04T11:39:09.673500Z",
     "start_time": "2019-11-04T11:39:09.666500Z"
    }
   },
   "outputs": [
    {
     "data": {
      "text/plain": [
       "['GX*', 'LD', 'UW*', 'TOM']"
      ]
     },
     "execution_count": 270,
     "metadata": {},
     "output_type": "execute_result"
    }
   ],
   "source": [
    "aln"
   ]
  },
  {
   "cell_type": "code",
   "execution_count": 271,
   "metadata": {
    "ExecuteTime": {
     "end_time": "2019-11-04T11:39:10.228500Z",
     "start_time": "2019-11-04T11:39:10.136500Z"
    }
   },
   "outputs": [],
   "source": [
    "df_train_c1 = df_train_c1[(df_train_c1['airline'] != aln[0]) & (df_train_c1['airline'] != aln[1]) & (df_train_c1['airline'] != aln[2]) & (df_train_c1['airline'] != aln[3])].reset_index(drop=True)\n",
    "df_test = df_test[(df_test['airline'] != aln[0]) & (df_test['airline'] != aln[1]) & (df_test['airline'] != aln[2]) & (df_test['airline'] != aln[3])].reset_index(drop=True)"
   ]
  },
  {
   "cell_type": "code",
   "execution_count": 272,
   "metadata": {
    "ExecuteTime": {
     "end_time": "2019-11-04T11:39:10.543500Z",
     "start_time": "2019-11-04T11:39:10.525500Z"
    }
   },
   "outputs": [
    {
     "name": "stdout",
     "output_type": "stream",
     "text": [
      "100\n",
      "100\n"
     ]
    }
   ],
   "source": [
    "print(len(df_train_c1['airline'].unique()))\n",
    "print(len(df_test['airline'].unique()))"
   ]
  },
  {
   "cell_type": "code",
   "execution_count": 273,
   "metadata": {
    "ExecuteTime": {
     "end_time": "2019-11-04T11:39:10.945500Z",
     "start_time": "2019-11-04T11:39:10.909500Z"
    }
   },
   "outputs": [
    {
     "name": "stdout",
     "output_type": "stream",
     "text": [
      "16\n",
      "17\n"
     ]
    }
   ],
   "source": [
    "print(len(df_train_c1['departure_airport_name'].unique()))\n",
    "print(len(df_test['departure_airport_name'].unique()))"
   ]
  },
  {
   "cell_type": "code",
   "execution_count": 274,
   "metadata": {
    "ExecuteTime": {
     "end_time": "2019-11-04T11:39:11.662500Z",
     "start_time": "2019-11-04T11:39:11.401500Z"
    }
   },
   "outputs": [],
   "source": [
    "dan = []\n",
    "for i in df_train_c1['departure_airport_name'].unique():\n",
    "    if i not in df_test['departure_airport_name'].unique():\n",
    "        dan.append(i)\n",
    "for i in df_test['departure_airport_name'].unique():\n",
    "    if i not in df_train_c1['departure_airport_name'].unique():\n",
    "        dan.append(i)"
   ]
  },
  {
   "cell_type": "code",
   "execution_count": 275,
   "metadata": {
    "ExecuteTime": {
     "end_time": "2019-11-04T11:39:11.768500Z",
     "start_time": "2019-11-04T11:39:11.764500Z"
    }
   },
   "outputs": [
    {
     "data": {
      "text/plain": [
       "['Mulu Airport']"
      ]
     },
     "execution_count": 275,
     "metadata": {},
     "output_type": "execute_result"
    }
   ],
   "source": [
    "dan"
   ]
  },
  {
   "cell_type": "code",
   "execution_count": 276,
   "metadata": {
    "ExecuteTime": {
     "end_time": "2019-11-04T11:39:12.119500Z",
     "start_time": "2019-11-04T11:39:12.088500Z"
    }
   },
   "outputs": [],
   "source": [
    "df_train_c1 = df_train_c1[df_train_c1['departure_airport_name'] != dan[0]].reset_index(drop=True)\n",
    "df_test = df_test[df_test['departure_airport_name'] != dan[0]].reset_index(drop=True)"
   ]
  },
  {
   "cell_type": "code",
   "execution_count": 277,
   "metadata": {
    "ExecuteTime": {
     "end_time": "2019-11-04T11:39:12.405500Z",
     "start_time": "2019-11-04T11:39:12.382500Z"
    }
   },
   "outputs": [
    {
     "name": "stdout",
     "output_type": "stream",
     "text": [
      "16\n",
      "16\n"
     ]
    }
   ],
   "source": [
    "print(len(df_train_c1['departure_airport_name'].unique()))\n",
    "print(len(df_test['departure_airport_name'].unique()))"
   ]
  },
  {
   "cell_type": "code",
   "execution_count": 278,
   "metadata": {
    "ExecuteTime": {
     "end_time": "2019-11-04T11:39:12.707500Z",
     "start_time": "2019-11-04T11:39:12.678500Z"
    }
   },
   "outputs": [],
   "source": [
    "df_train_c1_delay = df_train_c1[['delay']]\n",
    "df_train_c1 = df_train_c1.drop(columns='delay')"
   ]
  },
  {
   "cell_type": "markdown",
   "metadata": {},
   "source": [
    "<div class=cbox>\n",
    "    <b>Divide into two types data, Numerical and Categorical Data</b>\n",
    "</div>"
   ]
  },
  {
   "cell_type": "code",
   "execution_count": 279,
   "metadata": {
    "ExecuteTime": {
     "end_time": "2019-11-04T11:39:13.868500Z",
     "start_time": "2019-11-04T11:39:13.838500Z"
    }
   },
   "outputs": [],
   "source": [
    "numerical_data = df_train_c1.select_dtypes(include = [np.number]).columns\n",
    "categorical_data = df_train_c1.select_dtypes(exclude = [np.number]).columns"
   ]
  },
  {
   "cell_type": "markdown",
   "metadata": {},
   "source": [
    "<div class=title1>\n",
    "    <b><font size='2'>Create a model to estimate the delay duration ( Linear Regression )</font></b>\n",
    "</div>"
   ]
  },
  {
   "cell_type": "code",
   "execution_count": 280,
   "metadata": {
    "ExecuteTime": {
     "end_time": "2019-11-04T11:39:14.727500Z",
     "start_time": "2019-11-04T11:39:14.588500Z"
    }
   },
   "outputs": [],
   "source": [
    "datasets_dummies = pd.get_dummies(df_train_c1[categorical_data], drop_first=True)"
   ]
  },
  {
   "cell_type": "code",
   "execution_count": 281,
   "metadata": {
    "ExecuteTime": {
     "end_time": "2019-11-04T11:39:15.622500Z",
     "start_time": "2019-11-04T11:39:15.545500Z"
    }
   },
   "outputs": [
    {
     "data": {
      "text/html": [
       "<div>\n",
       "<style scoped>\n",
       "    .dataframe tbody tr th:only-of-type {\n",
       "        vertical-align: middle;\n",
       "    }\n",
       "\n",
       "    .dataframe tbody tr th {\n",
       "        vertical-align: top;\n",
       "    }\n",
       "\n",
       "    .dataframe thead th {\n",
       "        text-align: right;\n",
       "    }\n",
       "</style>\n",
       "<table border=\"1\" class=\"dataframe\">\n",
       "  <thead>\n",
       "    <tr style=\"text-align: right;\">\n",
       "      <th></th>\n",
       "      <th>departure_hour</th>\n",
       "      <th>arival_hour</th>\n",
       "      <th>airline_5J</th>\n",
       "      <th>airline_6E</th>\n",
       "      <th>airline_7C*</th>\n",
       "      <th>airline_7L*</th>\n",
       "      <th>airline_8L</th>\n",
       "      <th>airline_8M</th>\n",
       "      <th>airline_9C</th>\n",
       "      <th>airline_9W</th>\n",
       "      <th>...</th>\n",
       "      <th>departure_airport_name_Sibu Airport</th>\n",
       "      <th>departure_airport_name_Sultan Abdul Aziz Shah Airport</th>\n",
       "      <th>departure_airport_name_Sultan Ismail Petra Airport</th>\n",
       "      <th>departure_day_Monday</th>\n",
       "      <th>departure_day_Saturday</th>\n",
       "      <th>departure_day_Sunday</th>\n",
       "      <th>departure_day_Thursday</th>\n",
       "      <th>departure_day_Tuesday</th>\n",
       "      <th>departure_day_Wednesday</th>\n",
       "      <th>delay</th>\n",
       "    </tr>\n",
       "  </thead>\n",
       "  <tbody>\n",
       "    <tr>\n",
       "      <th>0</th>\n",
       "      <td>22</td>\n",
       "      <td>23</td>\n",
       "      <td>0</td>\n",
       "      <td>0</td>\n",
       "      <td>0</td>\n",
       "      <td>0</td>\n",
       "      <td>0</td>\n",
       "      <td>0</td>\n",
       "      <td>0</td>\n",
       "      <td>0</td>\n",
       "      <td>...</td>\n",
       "      <td>0</td>\n",
       "      <td>0</td>\n",
       "      <td>0</td>\n",
       "      <td>0</td>\n",
       "      <td>0</td>\n",
       "      <td>0</td>\n",
       "      <td>0</td>\n",
       "      <td>0</td>\n",
       "      <td>0</td>\n",
       "      <td>2</td>\n",
       "    </tr>\n",
       "    <tr>\n",
       "      <th>1</th>\n",
       "      <td>22</td>\n",
       "      <td>23</td>\n",
       "      <td>0</td>\n",
       "      <td>0</td>\n",
       "      <td>0</td>\n",
       "      <td>0</td>\n",
       "      <td>0</td>\n",
       "      <td>0</td>\n",
       "      <td>0</td>\n",
       "      <td>0</td>\n",
       "      <td>...</td>\n",
       "      <td>0</td>\n",
       "      <td>0</td>\n",
       "      <td>0</td>\n",
       "      <td>0</td>\n",
       "      <td>0</td>\n",
       "      <td>0</td>\n",
       "      <td>0</td>\n",
       "      <td>0</td>\n",
       "      <td>0</td>\n",
       "      <td>8</td>\n",
       "    </tr>\n",
       "    <tr>\n",
       "      <th>2</th>\n",
       "      <td>22</td>\n",
       "      <td>23</td>\n",
       "      <td>0</td>\n",
       "      <td>0</td>\n",
       "      <td>0</td>\n",
       "      <td>0</td>\n",
       "      <td>0</td>\n",
       "      <td>0</td>\n",
       "      <td>0</td>\n",
       "      <td>0</td>\n",
       "      <td>...</td>\n",
       "      <td>0</td>\n",
       "      <td>0</td>\n",
       "      <td>0</td>\n",
       "      <td>0</td>\n",
       "      <td>0</td>\n",
       "      <td>0</td>\n",
       "      <td>0</td>\n",
       "      <td>0</td>\n",
       "      <td>0</td>\n",
       "      <td>8</td>\n",
       "    </tr>\n",
       "    <tr>\n",
       "      <th>3</th>\n",
       "      <td>22</td>\n",
       "      <td>1</td>\n",
       "      <td>0</td>\n",
       "      <td>0</td>\n",
       "      <td>0</td>\n",
       "      <td>0</td>\n",
       "      <td>0</td>\n",
       "      <td>0</td>\n",
       "      <td>0</td>\n",
       "      <td>0</td>\n",
       "      <td>...</td>\n",
       "      <td>0</td>\n",
       "      <td>0</td>\n",
       "      <td>0</td>\n",
       "      <td>0</td>\n",
       "      <td>0</td>\n",
       "      <td>0</td>\n",
       "      <td>0</td>\n",
       "      <td>0</td>\n",
       "      <td>0</td>\n",
       "      <td>0</td>\n",
       "    </tr>\n",
       "    <tr>\n",
       "      <th>4</th>\n",
       "      <td>22</td>\n",
       "      <td>1</td>\n",
       "      <td>0</td>\n",
       "      <td>0</td>\n",
       "      <td>0</td>\n",
       "      <td>0</td>\n",
       "      <td>0</td>\n",
       "      <td>0</td>\n",
       "      <td>0</td>\n",
       "      <td>0</td>\n",
       "      <td>...</td>\n",
       "      <td>0</td>\n",
       "      <td>0</td>\n",
       "      <td>0</td>\n",
       "      <td>0</td>\n",
       "      <td>0</td>\n",
       "      <td>0</td>\n",
       "      <td>0</td>\n",
       "      <td>0</td>\n",
       "      <td>0</td>\n",
       "      <td>0</td>\n",
       "    </tr>\n",
       "  </tbody>\n",
       "</table>\n",
       "<p>5 rows × 123 columns</p>\n",
       "</div>"
      ],
      "text/plain": [
       "   departure_hour  arival_hour  airline_5J  airline_6E  airline_7C*  \\\n",
       "0              22           23           0           0            0   \n",
       "1              22           23           0           0            0   \n",
       "2              22           23           0           0            0   \n",
       "3              22            1           0           0            0   \n",
       "4              22            1           0           0            0   \n",
       "\n",
       "   airline_7L*  airline_8L  airline_8M  airline_9C  airline_9W  ...  \\\n",
       "0            0           0           0           0           0  ...   \n",
       "1            0           0           0           0           0  ...   \n",
       "2            0           0           0           0           0  ...   \n",
       "3            0           0           0           0           0  ...   \n",
       "4            0           0           0           0           0  ...   \n",
       "\n",
       "   departure_airport_name_Sibu Airport  \\\n",
       "0                                    0   \n",
       "1                                    0   \n",
       "2                                    0   \n",
       "3                                    0   \n",
       "4                                    0   \n",
       "\n",
       "   departure_airport_name_Sultan Abdul Aziz Shah Airport  \\\n",
       "0                                                  0       \n",
       "1                                                  0       \n",
       "2                                                  0       \n",
       "3                                                  0       \n",
       "4                                                  0       \n",
       "\n",
       "   departure_airport_name_Sultan Ismail Petra Airport  departure_day_Monday  \\\n",
       "0                                                  0                      0   \n",
       "1                                                  0                      0   \n",
       "2                                                  0                      0   \n",
       "3                                                  0                      0   \n",
       "4                                                  0                      0   \n",
       "\n",
       "   departure_day_Saturday  departure_day_Sunday  departure_day_Thursday  \\\n",
       "0                       0                     0                       0   \n",
       "1                       0                     0                       0   \n",
       "2                       0                     0                       0   \n",
       "3                       0                     0                       0   \n",
       "4                       0                     0                       0   \n",
       "\n",
       "   departure_day_Tuesday  departure_day_Wednesday  delay  \n",
       "0                      0                        0      2  \n",
       "1                      0                        0      8  \n",
       "2                      0                        0      8  \n",
       "3                      0                        0      0  \n",
       "4                      0                        0      0  \n",
       "\n",
       "[5 rows x 123 columns]"
      ]
     },
     "execution_count": 281,
     "metadata": {},
     "output_type": "execute_result"
    }
   ],
   "source": [
    "df_model = pd.concat([df_train_c1[numerical_data], datasets_dummies, df_train_c1_delay], axis = 1)\n",
    "df_model.head()"
   ]
  },
  {
   "cell_type": "code",
   "execution_count": 283,
   "metadata": {
    "ExecuteTime": {
     "end_time": "2019-11-04T11:39:23.475500Z",
     "start_time": "2019-11-04T11:39:23.395500Z"
    }
   },
   "outputs": [],
   "source": [
    "datasets_dummies = pd.get_dummies(df_test[categorical_data], drop_first=True)"
   ]
  },
  {
   "cell_type": "code",
   "execution_count": 284,
   "metadata": {
    "ExecuteTime": {
     "end_time": "2019-11-04T11:39:32.727500Z",
     "start_time": "2019-11-04T11:39:32.676500Z"
    }
   },
   "outputs": [
    {
     "data": {
      "text/html": [
       "<div>\n",
       "<style scoped>\n",
       "    .dataframe tbody tr th:only-of-type {\n",
       "        vertical-align: middle;\n",
       "    }\n",
       "\n",
       "    .dataframe tbody tr th {\n",
       "        vertical-align: top;\n",
       "    }\n",
       "\n",
       "    .dataframe thead th {\n",
       "        text-align: right;\n",
       "    }\n",
       "</style>\n",
       "<table border=\"1\" class=\"dataframe\">\n",
       "  <thead>\n",
       "    <tr style=\"text-align: right;\">\n",
       "      <th></th>\n",
       "      <th>departure_hour</th>\n",
       "      <th>arival_hour</th>\n",
       "      <th>airline_5J</th>\n",
       "      <th>airline_6E</th>\n",
       "      <th>airline_7C*</th>\n",
       "      <th>airline_7L*</th>\n",
       "      <th>airline_8L</th>\n",
       "      <th>airline_8M</th>\n",
       "      <th>airline_9C</th>\n",
       "      <th>airline_9W</th>\n",
       "      <th>...</th>\n",
       "      <th>departure_airport_name_Sibu Airport</th>\n",
       "      <th>departure_airport_name_Sultan Abdul Aziz Shah Airport</th>\n",
       "      <th>departure_airport_name_Sultan Ismail Petra Airport</th>\n",
       "      <th>departure_day_Monday</th>\n",
       "      <th>departure_day_Saturday</th>\n",
       "      <th>departure_day_Sunday</th>\n",
       "      <th>departure_day_Thursday</th>\n",
       "      <th>departure_day_Tuesday</th>\n",
       "      <th>departure_day_Wednesday</th>\n",
       "      <th>delay</th>\n",
       "    </tr>\n",
       "  </thead>\n",
       "  <tbody>\n",
       "    <tr>\n",
       "      <th>0</th>\n",
       "      <td>0</td>\n",
       "      <td>4</td>\n",
       "      <td>0</td>\n",
       "      <td>0</td>\n",
       "      <td>0</td>\n",
       "      <td>0</td>\n",
       "      <td>0</td>\n",
       "      <td>0</td>\n",
       "      <td>0</td>\n",
       "      <td>0</td>\n",
       "      <td>...</td>\n",
       "      <td>0</td>\n",
       "      <td>0</td>\n",
       "      <td>0</td>\n",
       "      <td>0</td>\n",
       "      <td>1</td>\n",
       "      <td>0</td>\n",
       "      <td>0</td>\n",
       "      <td>0</td>\n",
       "      <td>0</td>\n",
       "      <td>15</td>\n",
       "    </tr>\n",
       "    <tr>\n",
       "      <th>1</th>\n",
       "      <td>0</td>\n",
       "      <td>4</td>\n",
       "      <td>0</td>\n",
       "      <td>0</td>\n",
       "      <td>0</td>\n",
       "      <td>0</td>\n",
       "      <td>0</td>\n",
       "      <td>0</td>\n",
       "      <td>0</td>\n",
       "      <td>0</td>\n",
       "      <td>...</td>\n",
       "      <td>0</td>\n",
       "      <td>0</td>\n",
       "      <td>0</td>\n",
       "      <td>0</td>\n",
       "      <td>1</td>\n",
       "      <td>0</td>\n",
       "      <td>0</td>\n",
       "      <td>0</td>\n",
       "      <td>0</td>\n",
       "      <td>15</td>\n",
       "    </tr>\n",
       "    <tr>\n",
       "      <th>2</th>\n",
       "      <td>0</td>\n",
       "      <td>2</td>\n",
       "      <td>0</td>\n",
       "      <td>0</td>\n",
       "      <td>0</td>\n",
       "      <td>0</td>\n",
       "      <td>0</td>\n",
       "      <td>0</td>\n",
       "      <td>0</td>\n",
       "      <td>0</td>\n",
       "      <td>...</td>\n",
       "      <td>0</td>\n",
       "      <td>0</td>\n",
       "      <td>0</td>\n",
       "      <td>0</td>\n",
       "      <td>1</td>\n",
       "      <td>0</td>\n",
       "      <td>0</td>\n",
       "      <td>0</td>\n",
       "      <td>0</td>\n",
       "      <td>27</td>\n",
       "    </tr>\n",
       "    <tr>\n",
       "      <th>3</th>\n",
       "      <td>0</td>\n",
       "      <td>1</td>\n",
       "      <td>0</td>\n",
       "      <td>0</td>\n",
       "      <td>0</td>\n",
       "      <td>0</td>\n",
       "      <td>0</td>\n",
       "      <td>0</td>\n",
       "      <td>0</td>\n",
       "      <td>0</td>\n",
       "      <td>...</td>\n",
       "      <td>0</td>\n",
       "      <td>0</td>\n",
       "      <td>0</td>\n",
       "      <td>0</td>\n",
       "      <td>1</td>\n",
       "      <td>0</td>\n",
       "      <td>0</td>\n",
       "      <td>0</td>\n",
       "      <td>0</td>\n",
       "      <td>95</td>\n",
       "    </tr>\n",
       "    <tr>\n",
       "      <th>4</th>\n",
       "      <td>0</td>\n",
       "      <td>6</td>\n",
       "      <td>0</td>\n",
       "      <td>0</td>\n",
       "      <td>0</td>\n",
       "      <td>0</td>\n",
       "      <td>0</td>\n",
       "      <td>0</td>\n",
       "      <td>0</td>\n",
       "      <td>0</td>\n",
       "      <td>...</td>\n",
       "      <td>0</td>\n",
       "      <td>0</td>\n",
       "      <td>0</td>\n",
       "      <td>0</td>\n",
       "      <td>1</td>\n",
       "      <td>0</td>\n",
       "      <td>0</td>\n",
       "      <td>0</td>\n",
       "      <td>0</td>\n",
       "      <td>20</td>\n",
       "    </tr>\n",
       "  </tbody>\n",
       "</table>\n",
       "<p>5 rows × 123 columns</p>\n",
       "</div>"
      ],
      "text/plain": [
       "   departure_hour  arival_hour  airline_5J  airline_6E  airline_7C*  \\\n",
       "0               0            4           0           0            0   \n",
       "1               0            4           0           0            0   \n",
       "2               0            2           0           0            0   \n",
       "3               0            1           0           0            0   \n",
       "4               0            6           0           0            0   \n",
       "\n",
       "   airline_7L*  airline_8L  airline_8M  airline_9C  airline_9W  ...  \\\n",
       "0            0           0           0           0           0  ...   \n",
       "1            0           0           0           0           0  ...   \n",
       "2            0           0           0           0           0  ...   \n",
       "3            0           0           0           0           0  ...   \n",
       "4            0           0           0           0           0  ...   \n",
       "\n",
       "   departure_airport_name_Sibu Airport  \\\n",
       "0                                    0   \n",
       "1                                    0   \n",
       "2                                    0   \n",
       "3                                    0   \n",
       "4                                    0   \n",
       "\n",
       "   departure_airport_name_Sultan Abdul Aziz Shah Airport  \\\n",
       "0                                                  0       \n",
       "1                                                  0       \n",
       "2                                                  0       \n",
       "3                                                  0       \n",
       "4                                                  0       \n",
       "\n",
       "   departure_airport_name_Sultan Ismail Petra Airport  departure_day_Monday  \\\n",
       "0                                                  0                      0   \n",
       "1                                                  0                      0   \n",
       "2                                                  0                      0   \n",
       "3                                                  0                      0   \n",
       "4                                                  0                      0   \n",
       "\n",
       "   departure_day_Saturday  departure_day_Sunday  departure_day_Thursday  \\\n",
       "0                       1                     0                       0   \n",
       "1                       1                     0                       0   \n",
       "2                       1                     0                       0   \n",
       "3                       1                     0                       0   \n",
       "4                       1                     0                       0   \n",
       "\n",
       "   departure_day_Tuesday  departure_day_Wednesday  delay  \n",
       "0                      0                        0     15  \n",
       "1                      0                        0     15  \n",
       "2                      0                        0     27  \n",
       "3                      0                        0     95  \n",
       "4                      0                        0     20  \n",
       "\n",
       "[5 rows x 123 columns]"
      ]
     },
     "execution_count": 284,
     "metadata": {},
     "output_type": "execute_result"
    }
   ],
   "source": [
    "df_model_test = pd.concat([df_test[numerical_data], datasets_dummies, df_test['delay']], axis = 1)\n",
    "df_model_test.head()"
   ]
  },
  {
   "cell_type": "code",
   "execution_count": 285,
   "metadata": {
    "ExecuteTime": {
     "end_time": "2019-11-04T11:39:33.917500Z",
     "start_time": "2019-11-04T11:39:33.654500Z"
    }
   },
   "outputs": [],
   "source": [
    "x = df_model.iloc[:,0:len(df_model.columns)-1]\n",
    "y = df_model.iloc[:,len(df_model.columns)-1].values.reshape(-1,1)\n",
    "x = preprocessing.normalize(x)"
   ]
  },
  {
   "cell_type": "markdown",
   "metadata": {},
   "source": [
    "<div class=cbox>\n",
    "    <b>Check Data Correlation</b>\n",
    "</div>"
   ]
  },
  {
   "cell_type": "code",
   "execution_count": 286,
   "metadata": {
    "ExecuteTime": {
     "end_time": "2019-11-04T11:39:40.998500Z",
     "start_time": "2019-11-04T11:39:35.988500Z"
    }
   },
   "outputs": [
    {
     "data": {
      "text/plain": [
       "airline_MXD                                                  0.104352\n",
       "airline_FY                                                   0.088172\n",
       "departure_airport_name_Kuala Lumpur International Airport    0.079108\n",
       "departure_airport_name_Sultan Abdul Aziz Shah Airport        0.078748\n",
       "airline_CV                                                   0.077460\n",
       "arival_hour                                                  0.073624\n",
       "airline_MH                                                   0.059698\n",
       "airline_RA                                                   0.050349\n",
       "airline_AK                                                   0.048149\n",
       "airline_JT*                                                  0.044321\n",
       "Name: delay, dtype: float64"
      ]
     },
     "execution_count": 286,
     "metadata": {},
     "output_type": "execute_result"
    }
   ],
   "source": [
    "np.abs(df_model.corr(method= 'pearson')['delay']).sort_values(ascending=False)[1:11]"
   ]
  },
  {
   "cell_type": "code",
   "execution_count": 287,
   "metadata": {
    "ExecuteTime": {
     "end_time": "2019-11-04T11:39:41.574500Z",
     "start_time": "2019-11-04T11:39:41.001500Z"
    }
   },
   "outputs": [
    {
     "data": {
      "text/plain": [
       "LinearRegression(copy_X=True, fit_intercept=True, n_jobs=None, normalize=True)"
      ]
     },
     "execution_count": 287,
     "metadata": {},
     "output_type": "execute_result"
    }
   ],
   "source": [
    "regression = LinearRegression(normalize=True)\n",
    "regression.fit(x, y)"
   ]
  },
  {
   "cell_type": "code",
   "execution_count": 288,
   "metadata": {
    "ExecuteTime": {
     "end_time": "2019-11-04T11:39:43.132500Z",
     "start_time": "2019-11-04T11:39:43.006500Z"
    }
   },
   "outputs": [],
   "source": [
    "x_test = df_model_test.iloc[:,0:len(df_model.columns)-1]\n",
    "y_test = df_model_test.iloc[:,len(df_model.columns)-1].values.reshape(-1,1)\n",
    "x_test = preprocessing.normalize(x_test)"
   ]
  },
  {
   "cell_type": "code",
   "execution_count": 289,
   "metadata": {
    "ExecuteTime": {
     "end_time": "2019-11-04T11:40:17.296500Z",
     "start_time": "2019-11-04T11:40:17.265500Z"
    }
   },
   "outputs": [],
   "source": [
    "y_pred = regression.predict(x_test)"
   ]
  },
  {
   "cell_type": "code",
   "execution_count": 290,
   "metadata": {
    "ExecuteTime": {
     "end_time": "2019-11-04T11:40:20.689500Z",
     "start_time": "2019-11-04T11:40:20.681500Z"
    }
   },
   "outputs": [
    {
     "name": "stdout",
     "output_type": "stream",
     "text": [
      "MSE Y Test =  970.8974046105051\n"
     ]
    }
   ],
   "source": [
    "print(\"MSE Y Test = \", mean_squared_error(y_pred,y_test))"
   ]
  },
  {
   "cell_type": "code",
   "execution_count": 291,
   "metadata": {
    "ExecuteTime": {
     "end_time": "2019-11-04T11:40:27.555500Z",
     "start_time": "2019-11-04T11:40:27.223500Z"
    }
   },
   "outputs": [
    {
     "data": {
      "image/png": "[encoded data removed]",
      "text/plain": [
       "<Figure size 432x288 with 1 Axes>"
      ]
     },
     "metadata": {
      "needs_background": "light"
     },
     "output_type": "display_data"
    }
   ],
   "source": [
    "res = y_pred - y_test\n",
    "\n",
    "plt.hist(res, bins=100)\n",
    "plt.show()"
   ]
  },
  {
   "cell_type": "code",
   "execution_count": 292,
   "metadata": {
    "ExecuteTime": {
     "end_time": "2019-11-04T11:40:30.105500Z",
     "start_time": "2019-11-04T11:40:30.098500Z"
    }
   },
   "outputs": [],
   "source": [
    "data_lin_res = df_test[['delay']].copy()\n",
    "data_lin_res['delay_model'] = y_pred"
   ]
  },
  {
   "cell_type": "code",
   "execution_count": 293,
   "metadata": {
    "ExecuteTime": {
     "end_time": "2019-11-04T11:40:30.536500Z",
     "start_time": "2019-11-04T11:40:30.519500Z"
    }
   },
   "outputs": [
    {
     "data": {
      "text/html": [
       "<div>\n",
       "<style scoped>\n",
       "    .dataframe tbody tr th:only-of-type {\n",
       "        vertical-align: middle;\n",
       "    }\n",
       "\n",
       "    .dataframe tbody tr th {\n",
       "        vertical-align: top;\n",
       "    }\n",
       "\n",
       "    .dataframe thead th {\n",
       "        text-align: right;\n",
       "    }\n",
       "</style>\n",
       "<table border=\"1\" class=\"dataframe\">\n",
       "  <thead>\n",
       "    <tr style=\"text-align: right;\">\n",
       "      <th></th>\n",
       "      <th>delay</th>\n",
       "      <th>delay_model</th>\n",
       "    </tr>\n",
       "  </thead>\n",
       "  <tbody>\n",
       "    <tr>\n",
       "      <th>0</th>\n",
       "      <td>15</td>\n",
       "      <td>17.678223</td>\n",
       "    </tr>\n",
       "    <tr>\n",
       "      <th>1</th>\n",
       "      <td>15</td>\n",
       "      <td>13.171654</td>\n",
       "    </tr>\n",
       "    <tr>\n",
       "      <th>2</th>\n",
       "      <td>27</td>\n",
       "      <td>24.365358</td>\n",
       "    </tr>\n",
       "    <tr>\n",
       "      <th>3</th>\n",
       "      <td>95</td>\n",
       "      <td>10.410234</td>\n",
       "    </tr>\n",
       "    <tr>\n",
       "      <th>4</th>\n",
       "      <td>20</td>\n",
       "      <td>3.903615</td>\n",
       "    </tr>\n",
       "    <tr>\n",
       "      <th>5</th>\n",
       "      <td>20</td>\n",
       "      <td>9.200937</td>\n",
       "    </tr>\n",
       "    <tr>\n",
       "      <th>6</th>\n",
       "      <td>27</td>\n",
       "      <td>28.345267</td>\n",
       "    </tr>\n",
       "    <tr>\n",
       "      <th>7</th>\n",
       "      <td>16</td>\n",
       "      <td>9.114804</td>\n",
       "    </tr>\n",
       "    <tr>\n",
       "      <th>8</th>\n",
       "      <td>20</td>\n",
       "      <td>3.370524</td>\n",
       "    </tr>\n",
       "    <tr>\n",
       "      <th>9</th>\n",
       "      <td>16</td>\n",
       "      <td>9.114804</td>\n",
       "    </tr>\n",
       "    <tr>\n",
       "      <th>10</th>\n",
       "      <td>15</td>\n",
       "      <td>13.171654</td>\n",
       "    </tr>\n",
       "    <tr>\n",
       "      <th>11</th>\n",
       "      <td>20</td>\n",
       "      <td>9.200937</td>\n",
       "    </tr>\n",
       "    <tr>\n",
       "      <th>12</th>\n",
       "      <td>20</td>\n",
       "      <td>3.903615</td>\n",
       "    </tr>\n",
       "    <tr>\n",
       "      <th>13</th>\n",
       "      <td>95</td>\n",
       "      <td>10.410234</td>\n",
       "    </tr>\n",
       "    <tr>\n",
       "      <th>14</th>\n",
       "      <td>20</td>\n",
       "      <td>3.370524</td>\n",
       "    </tr>\n",
       "    <tr>\n",
       "      <th>15</th>\n",
       "      <td>27</td>\n",
       "      <td>24.365358</td>\n",
       "    </tr>\n",
       "    <tr>\n",
       "      <th>16</th>\n",
       "      <td>27</td>\n",
       "      <td>28.345267</td>\n",
       "    </tr>\n",
       "    <tr>\n",
       "      <th>17</th>\n",
       "      <td>15</td>\n",
       "      <td>17.678223</td>\n",
       "    </tr>\n",
       "    <tr>\n",
       "      <th>18</th>\n",
       "      <td>1</td>\n",
       "      <td>9.787216</td>\n",
       "    </tr>\n",
       "    <tr>\n",
       "      <th>19</th>\n",
       "      <td>28</td>\n",
       "      <td>29.505396</td>\n",
       "    </tr>\n",
       "  </tbody>\n",
       "</table>\n",
       "</div>"
      ],
      "text/plain": [
       "    delay  delay_model\n",
       "0      15    17.678223\n",
       "1      15    13.171654\n",
       "2      27    24.365358\n",
       "3      95    10.410234\n",
       "4      20     3.903615\n",
       "5      20     9.200937\n",
       "6      27    28.345267\n",
       "7      16     9.114804\n",
       "8      20     3.370524\n",
       "9      16     9.114804\n",
       "10     15    13.171654\n",
       "11     20     9.200937\n",
       "12     20     3.903615\n",
       "13     95    10.410234\n",
       "14     20     3.370524\n",
       "15     27    24.365358\n",
       "16     27    28.345267\n",
       "17     15    17.678223\n",
       "18      1     9.787216\n",
       "19     28    29.505396"
      ]
     },
     "execution_count": 293,
     "metadata": {},
     "output_type": "execute_result"
    }
   ],
   "source": [
    "data_lin_res.head(20)"
   ]
  },
  {
   "cell_type": "markdown",
   "metadata": {},
   "source": [
    "<div class=title1>\n",
    "    <b><font size='2'>Create a model to predict delay > 60 min ( Logistic regression and another supervised model you\n",
    "choosing )</font></b>\n",
    "</div>"
   ]
  },
  {
   "cell_type": "markdown",
   "metadata": {},
   "source": [
    "<div class=title1>\n",
    "    <b><font size='2'>Logistic Regression</font></b>\n",
    "</div>"
   ]
  },
  {
   "cell_type": "code",
   "execution_count": 35,
   "metadata": {
    "ExecuteTime": {
     "end_time": "2019-11-04T10:02:15.076500Z",
     "start_time": "2019-11-04T10:02:14.916500Z"
    }
   },
   "outputs": [],
   "source": [
    "x = df_model.iloc[:,0:len(df_model.columns)-1]\n",
    "y = df_model.iloc[:,len(df_model.columns)-1]"
   ]
  },
  {
   "cell_type": "code",
   "execution_count": 36,
   "metadata": {
    "ExecuteTime": {
     "end_time": "2019-11-04T10:06:33.036500Z",
     "start_time": "2019-11-04T10:02:15.079500Z"
    }
   },
   "outputs": [
    {
     "name": "stderr",
     "output_type": "stream",
     "text": [
      "D:\\Anaconda3\\lib\\site-packages\\sklearn\\linear_model\\logistic.py:947: ConvergenceWarning: lbfgs failed to converge. Increase the number of iterations.\n",
      "  \"of iterations.\", ConvergenceWarning)\n"
     ]
    },
    {
     "data": {
      "text/plain": [
       "LogisticRegression(C=1.0, class_weight=None, dual=False, fit_intercept=True,\n",
       "                   intercept_scaling=1, l1_ratio=None, max_iter=100,\n",
       "                   multi_class='auto', n_jobs=None, penalty='l2',\n",
       "                   random_state=None, solver='lbfgs', tol=0.0001, verbose=0,\n",
       "                   warm_start=False)"
      ]
     },
     "execution_count": 36,
     "metadata": {},
     "output_type": "execute_result"
    }
   ],
   "source": [
    "log_regression = LogisticRegression(solver='lbfgs',multi_class='auto')\n",
    "log_regression.fit(x, y)"
   ]
  },
  {
   "cell_type": "code",
   "execution_count": 37,
   "metadata": {
    "ExecuteTime": {
     "end_time": "2019-11-04T10:06:33.086500Z",
     "start_time": "2019-11-04T10:06:33.038500Z"
    }
   },
   "outputs": [],
   "source": [
    "x_test = df_model_test.iloc[:,0:len(df_model.columns)-1]\n",
    "y_test = df_model_test.iloc[:,len(df_model.columns)-1]"
   ]
  },
  {
   "cell_type": "code",
   "execution_count": 38,
   "metadata": {
    "ExecuteTime": {
     "end_time": "2019-11-04T10:06:33.297500Z",
     "start_time": "2019-11-04T10:06:33.088500Z"
    }
   },
   "outputs": [],
   "source": [
    "y_pred = regression.predict(x_test)"
   ]
  },
  {
   "cell_type": "code",
   "execution_count": 39,
   "metadata": {
    "ExecuteTime": {
     "end_time": "2019-11-04T10:06:33.446500Z",
     "start_time": "2019-11-04T10:06:33.299500Z"
    }
   },
   "outputs": [
    {
     "name": "stdout",
     "output_type": "stream",
     "text": [
      "MSE Y Test =  9019.918050453938\n"
     ]
    }
   ],
   "source": [
    "print(\"MSE Y Test = \", mean_squared_error(y_pred,y_test))"
   ]
  },
  {
   "cell_type": "code",
   "execution_count": 41,
   "metadata": {
    "ExecuteTime": {
     "end_time": "2019-11-04T10:07:12.774500Z",
     "start_time": "2019-11-04T10:07:12.763500Z"
    }
   },
   "outputs": [],
   "source": [
    "data_log_res = df_test[['delay']].copy()\n",
    "data_log_res['delay_model'] = y_pred"
   ]
  },
  {
   "cell_type": "code",
   "execution_count": 42,
   "metadata": {
    "ExecuteTime": {
     "end_time": "2019-11-04T10:07:13.593500Z",
     "start_time": "2019-11-04T10:07:13.574500Z"
    }
   },
   "outputs": [
    {
     "data": {
      "text/html": [
       "<div>\n",
       "<style scoped>\n",
       "    .dataframe tbody tr th:only-of-type {\n",
       "        vertical-align: middle;\n",
       "    }\n",
       "\n",
       "    .dataframe tbody tr th {\n",
       "        vertical-align: top;\n",
       "    }\n",
       "\n",
       "    .dataframe thead th {\n",
       "        text-align: right;\n",
       "    }\n",
       "</style>\n",
       "<table border=\"1\" class=\"dataframe\">\n",
       "  <thead>\n",
       "    <tr style=\"text-align: right;\">\n",
       "      <th></th>\n",
       "      <th>delay</th>\n",
       "      <th>delay_model</th>\n",
       "    </tr>\n",
       "  </thead>\n",
       "  <tbody>\n",
       "    <tr>\n",
       "      <th>0</th>\n",
       "      <td>2</td>\n",
       "      <td>-57.274321</td>\n",
       "    </tr>\n",
       "    <tr>\n",
       "      <th>1</th>\n",
       "      <td>8</td>\n",
       "      <td>9.418162</td>\n",
       "    </tr>\n",
       "    <tr>\n",
       "      <th>2</th>\n",
       "      <td>8</td>\n",
       "      <td>-19.083960</td>\n",
       "    </tr>\n",
       "    <tr>\n",
       "      <th>3</th>\n",
       "      <td>0</td>\n",
       "      <td>-178.551204</td>\n",
       "    </tr>\n",
       "    <tr>\n",
       "      <th>4</th>\n",
       "      <td>0</td>\n",
       "      <td>-178.551204</td>\n",
       "    </tr>\n",
       "    <tr>\n",
       "      <th>5</th>\n",
       "      <td>0</td>\n",
       "      <td>-57.274321</td>\n",
       "    </tr>\n",
       "    <tr>\n",
       "      <th>6</th>\n",
       "      <td>0</td>\n",
       "      <td>-57.274321</td>\n",
       "    </tr>\n",
       "    <tr>\n",
       "      <th>7</th>\n",
       "      <td>0</td>\n",
       "      <td>-173.038619</td>\n",
       "    </tr>\n",
       "    <tr>\n",
       "      <th>8</th>\n",
       "      <td>0</td>\n",
       "      <td>-57.274321</td>\n",
       "    </tr>\n",
       "    <tr>\n",
       "      <th>9</th>\n",
       "      <td>0</td>\n",
       "      <td>-184.063790</td>\n",
       "    </tr>\n",
       "    <tr>\n",
       "      <th>10</th>\n",
       "      <td>0</td>\n",
       "      <td>-178.551204</td>\n",
       "    </tr>\n",
       "    <tr>\n",
       "      <th>11</th>\n",
       "      <td>25</td>\n",
       "      <td>59.484798</td>\n",
       "    </tr>\n",
       "    <tr>\n",
       "      <th>12</th>\n",
       "      <td>7</td>\n",
       "      <td>-173.038619</td>\n",
       "    </tr>\n",
       "    <tr>\n",
       "      <th>13</th>\n",
       "      <td>4</td>\n",
       "      <td>-184.063790</td>\n",
       "    </tr>\n",
       "    <tr>\n",
       "      <th>14</th>\n",
       "      <td>0</td>\n",
       "      <td>-173.038619</td>\n",
       "    </tr>\n",
       "    <tr>\n",
       "      <th>15</th>\n",
       "      <td>0</td>\n",
       "      <td>-184.063790</td>\n",
       "    </tr>\n",
       "    <tr>\n",
       "      <th>16</th>\n",
       "      <td>25</td>\n",
       "      <td>-178.551204</td>\n",
       "    </tr>\n",
       "    <tr>\n",
       "      <th>17</th>\n",
       "      <td>0</td>\n",
       "      <td>-184.063790</td>\n",
       "    </tr>\n",
       "    <tr>\n",
       "      <th>18</th>\n",
       "      <td>1</td>\n",
       "      <td>-178.551204</td>\n",
       "    </tr>\n",
       "    <tr>\n",
       "      <th>19</th>\n",
       "      <td>12</td>\n",
       "      <td>-184.063790</td>\n",
       "    </tr>\n",
       "  </tbody>\n",
       "</table>\n",
       "</div>"
      ],
      "text/plain": [
       "    delay  delay_model\n",
       "0       2   -57.274321\n",
       "1       8     9.418162\n",
       "2       8   -19.083960\n",
       "3       0  -178.551204\n",
       "4       0  -178.551204\n",
       "5       0   -57.274321\n",
       "6       0   -57.274321\n",
       "7       0  -173.038619\n",
       "8       0   -57.274321\n",
       "9       0  -184.063790\n",
       "10      0  -178.551204\n",
       "11     25    59.484798\n",
       "12      7  -173.038619\n",
       "13      4  -184.063790\n",
       "14      0  -173.038619\n",
       "15      0  -184.063790\n",
       "16     25  -178.551204\n",
       "17      0  -184.063790\n",
       "18      1  -178.551204\n",
       "19     12  -184.063790"
      ]
     },
     "execution_count": 42,
     "metadata": {},
     "output_type": "execute_result"
    }
   ],
   "source": [
    "data_log_res.head(20)"
   ]
  },
  {
   "cell_type": "markdown",
   "metadata": {},
   "source": [
    "<div class=title1>\n",
    "    <b><font size='2'>XGBoost</font></b>\n",
    "</div>"
   ]
  },
  {
   "cell_type": "code",
   "execution_count": 43,
   "metadata": {
    "ExecuteTime": {
     "end_time": "2019-11-04T10:07:15.893500Z",
     "start_time": "2019-11-04T10:07:15.839500Z"
    }
   },
   "outputs": [],
   "source": [
    "x = df_model.iloc[:,0:len(df_model.columns)-1]\n",
    "y = df_model.iloc[:,len(df_model.columns)-1]"
   ]
  },
  {
   "cell_type": "code",
   "execution_count": 44,
   "metadata": {
    "ExecuteTime": {
     "end_time": "2019-11-04T10:37:59.323500Z",
     "start_time": "2019-11-04T10:07:16.274500Z"
    }
   },
   "outputs": [
    {
     "ename": "KeyboardInterrupt",
     "evalue": "",
     "output_type": "error",
     "traceback": [
      "\u001b[1;31m---------------------------------------------------------------------------\u001b[0m",
      "\u001b[1;31mKeyboardInterrupt\u001b[0m                         Traceback (most recent call last)",
      "\u001b[1;32m<ipython-input-44-2dbfa92f2ffd>\u001b[0m in \u001b[0;36m<module>\u001b[1;34m\u001b[0m\n\u001b[0;32m      1\u001b[0m \u001b[0mxgb\u001b[0m \u001b[1;33m=\u001b[0m \u001b[0mXGBClassifier\u001b[0m\u001b[1;33m(\u001b[0m\u001b[1;33m)\u001b[0m\u001b[1;33m\u001b[0m\u001b[1;33m\u001b[0m\u001b[0m\n\u001b[1;32m----> 2\u001b[1;33m \u001b[0mxgb\u001b[0m\u001b[1;33m.\u001b[0m\u001b[0mfit\u001b[0m\u001b[1;33m(\u001b[0m\u001b[0mx\u001b[0m\u001b[1;33m,\u001b[0m \u001b[0my\u001b[0m\u001b[1;33m)\u001b[0m\u001b[1;33m\u001b[0m\u001b[1;33m\u001b[0m\u001b[0m\n\u001b[0m",
      "\u001b[1;32mD:\\Anaconda3\\lib\\site-packages\\xgboost\\sklearn.py\u001b[0m in \u001b[0;36mfit\u001b[1;34m(self, X, y, sample_weight, eval_set, eval_metric, early_stopping_rounds, verbose, xgb_model, sample_weight_eval_set, callbacks)\u001b[0m\n\u001b[0;32m    730\u001b[0m                               \u001b[0mevals_result\u001b[0m\u001b[1;33m=\u001b[0m\u001b[0mevals_result\u001b[0m\u001b[1;33m,\u001b[0m \u001b[0mobj\u001b[0m\u001b[1;33m=\u001b[0m\u001b[0mobj\u001b[0m\u001b[1;33m,\u001b[0m \u001b[0mfeval\u001b[0m\u001b[1;33m=\u001b[0m\u001b[0mfeval\u001b[0m\u001b[1;33m,\u001b[0m\u001b[1;33m\u001b[0m\u001b[1;33m\u001b[0m\u001b[0m\n\u001b[0;32m    731\u001b[0m                               \u001b[0mverbose_eval\u001b[0m\u001b[1;33m=\u001b[0m\u001b[0mverbose\u001b[0m\u001b[1;33m,\u001b[0m \u001b[0mxgb_model\u001b[0m\u001b[1;33m=\u001b[0m\u001b[0mxgb_model\u001b[0m\u001b[1;33m,\u001b[0m\u001b[1;33m\u001b[0m\u001b[1;33m\u001b[0m\u001b[0m\n\u001b[1;32m--> 732\u001b[1;33m                               callbacks=callbacks)\n\u001b[0m\u001b[0;32m    733\u001b[0m \u001b[1;33m\u001b[0m\u001b[0m\n\u001b[0;32m    734\u001b[0m         \u001b[0mself\u001b[0m\u001b[1;33m.\u001b[0m\u001b[0mobjective\u001b[0m \u001b[1;33m=\u001b[0m \u001b[0mxgb_options\u001b[0m\u001b[1;33m[\u001b[0m\u001b[1;34m\"objective\"\u001b[0m\u001b[1;33m]\u001b[0m\u001b[1;33m\u001b[0m\u001b[1;33m\u001b[0m\u001b[0m\n",
      "\u001b[1;32mD:\\Anaconda3\\lib\\site-packages\\xgboost\\training.py\u001b[0m in \u001b[0;36mtrain\u001b[1;34m(params, dtrain, num_boost_round, evals, obj, feval, maximize, early_stopping_rounds, evals_result, verbose_eval, xgb_model, callbacks, learning_rates)\u001b[0m\n\u001b[0;32m    214\u001b[0m                            \u001b[0mevals\u001b[0m\u001b[1;33m=\u001b[0m\u001b[0mevals\u001b[0m\u001b[1;33m,\u001b[0m\u001b[1;33m\u001b[0m\u001b[1;33m\u001b[0m\u001b[0m\n\u001b[0;32m    215\u001b[0m                            \u001b[0mobj\u001b[0m\u001b[1;33m=\u001b[0m\u001b[0mobj\u001b[0m\u001b[1;33m,\u001b[0m \u001b[0mfeval\u001b[0m\u001b[1;33m=\u001b[0m\u001b[0mfeval\u001b[0m\u001b[1;33m,\u001b[0m\u001b[1;33m\u001b[0m\u001b[1;33m\u001b[0m\u001b[0m\n\u001b[1;32m--> 216\u001b[1;33m                            xgb_model=xgb_model, callbacks=callbacks)\n\u001b[0m\u001b[0;32m    217\u001b[0m \u001b[1;33m\u001b[0m\u001b[0m\n\u001b[0;32m    218\u001b[0m \u001b[1;33m\u001b[0m\u001b[0m\n",
      "\u001b[1;32mD:\\Anaconda3\\lib\\site-packages\\xgboost\\training.py\u001b[0m in \u001b[0;36m_train_internal\u001b[1;34m(params, dtrain, num_boost_round, evals, obj, feval, xgb_model, callbacks)\u001b[0m\n\u001b[0;32m     72\u001b[0m         \u001b[1;31m# Skip the first update if it is a recovery step.\u001b[0m\u001b[1;33m\u001b[0m\u001b[1;33m\u001b[0m\u001b[1;33m\u001b[0m\u001b[0m\n\u001b[0;32m     73\u001b[0m         \u001b[1;32mif\u001b[0m \u001b[0mversion\u001b[0m \u001b[1;33m%\u001b[0m \u001b[1;36m2\u001b[0m \u001b[1;33m==\u001b[0m \u001b[1;36m0\u001b[0m\u001b[1;33m:\u001b[0m\u001b[1;33m\u001b[0m\u001b[1;33m\u001b[0m\u001b[0m\n\u001b[1;32m---> 74\u001b[1;33m             \u001b[0mbst\u001b[0m\u001b[1;33m.\u001b[0m\u001b[0mupdate\u001b[0m\u001b[1;33m(\u001b[0m\u001b[0mdtrain\u001b[0m\u001b[1;33m,\u001b[0m \u001b[0mi\u001b[0m\u001b[1;33m,\u001b[0m \u001b[0mobj\u001b[0m\u001b[1;33m)\u001b[0m\u001b[1;33m\u001b[0m\u001b[1;33m\u001b[0m\u001b[0m\n\u001b[0m\u001b[0;32m     75\u001b[0m             \u001b[0mbst\u001b[0m\u001b[1;33m.\u001b[0m\u001b[0msave_rabit_checkpoint\u001b[0m\u001b[1;33m(\u001b[0m\u001b[1;33m)\u001b[0m\u001b[1;33m\u001b[0m\u001b[1;33m\u001b[0m\u001b[0m\n\u001b[0;32m     76\u001b[0m             \u001b[0mversion\u001b[0m \u001b[1;33m+=\u001b[0m \u001b[1;36m1\u001b[0m\u001b[1;33m\u001b[0m\u001b[1;33m\u001b[0m\u001b[0m\n",
      "\u001b[1;32mD:\\Anaconda3\\lib\\site-packages\\xgboost\\core.py\u001b[0m in \u001b[0;36mupdate\u001b[1;34m(self, dtrain, iteration, fobj)\u001b[0m\n\u001b[0;32m   1107\u001b[0m         \u001b[1;32mif\u001b[0m \u001b[0mfobj\u001b[0m \u001b[1;32mis\u001b[0m \u001b[1;32mNone\u001b[0m\u001b[1;33m:\u001b[0m\u001b[1;33m\u001b[0m\u001b[1;33m\u001b[0m\u001b[0m\n\u001b[0;32m   1108\u001b[0m             _check_call(_LIB.XGBoosterUpdateOneIter(self.handle, ctypes.c_int(iteration),\n\u001b[1;32m-> 1109\u001b[1;33m                                                     dtrain.handle))\n\u001b[0m\u001b[0;32m   1110\u001b[0m         \u001b[1;32melse\u001b[0m\u001b[1;33m:\u001b[0m\u001b[1;33m\u001b[0m\u001b[1;33m\u001b[0m\u001b[0m\n\u001b[0;32m   1111\u001b[0m             \u001b[0mpred\u001b[0m \u001b[1;33m=\u001b[0m \u001b[0mself\u001b[0m\u001b[1;33m.\u001b[0m\u001b[0mpredict\u001b[0m\u001b[1;33m(\u001b[0m\u001b[0mdtrain\u001b[0m\u001b[1;33m)\u001b[0m\u001b[1;33m\u001b[0m\u001b[1;33m\u001b[0m\u001b[0m\n",
      "\u001b[1;31mKeyboardInterrupt\u001b[0m: "
     ]
    }
   ],
   "source": [
    "xgb = XGBClassifier()\n",
    "xgb.fit(x, y)"
   ]
  },
  {
   "cell_type": "code",
   "execution_count": null,
   "metadata": {
    "ExecuteTime": {
     "end_time": "2019-11-04T10:37:59.325500Z",
     "start_time": "2019-11-04T10:07:16.509Z"
    }
   },
   "outputs": [],
   "source": [
    "x_test = df_model_test.iloc[:,0:len(df_model.columns)-1]\n",
    "y_test = df_model_test.iloc[:,len(df_model.columns)-1]"
   ]
  },
  {
   "cell_type": "code",
   "execution_count": null,
   "metadata": {
    "ExecuteTime": {
     "end_time": "2019-11-04T10:37:59.326500Z",
     "start_time": "2019-11-04T10:07:17.181Z"
    }
   },
   "outputs": [],
   "source": [
    "y_pred = regression.predict(x_test)"
   ]
  },
  {
   "cell_type": "code",
   "execution_count": null,
   "metadata": {
    "ExecuteTime": {
     "end_time": "2019-11-04T10:37:59.327500Z",
     "start_time": "2019-11-04T10:07:17.629Z"
    }
   },
   "outputs": [],
   "source": [
    "print(\"MSE Y Test = \", mean_squared_error(y_pred,y_test))"
   ]
  },
  {
   "cell_type": "code",
   "execution_count": null,
   "metadata": {
    "ExecuteTime": {
     "end_time": "2019-11-04T10:37:59.327500Z",
     "start_time": "2019-11-04T10:07:18.169Z"
    }
   },
   "outputs": [],
   "source": [
    "res = y_pred - y_test\n",
    "\n",
    "plt.hist(res, bins=100)\n",
    "plt.show()"
   ]
  },
  {
   "cell_type": "code",
   "execution_count": null,
   "metadata": {
    "ExecuteTime": {
     "end_time": "2019-11-04T10:37:59.329500Z",
     "start_time": "2019-11-04T10:07:21.757Z"
    }
   },
   "outputs": [],
   "source": [
    "data_xgb_res = df_test[['delay']].copy()\n",
    "data_xgb_res['delay_model'] = y_pred"
   ]
  },
  {
   "cell_type": "code",
   "execution_count": null,
   "metadata": {
    "ExecuteTime": {
     "end_time": "2019-11-04T10:37:59.330500Z",
     "start_time": "2019-11-04T10:07:33.963Z"
    }
   },
   "outputs": [],
   "source": [
    "data_xgb_res.head(20)"
   ]
  },
  {
   "cell_type": "code",
   "execution_count": 89,
   "metadata": {
    "ExecuteTime": {
     "end_time": "2019-11-04T11:02:45.094500Z",
     "start_time": "2019-11-04T11:02:44.899500Z"
    }
   },
   "outputs": [
    {
     "name": "stdout",
     "output_type": "stream",
     "text": [
      "['AK', 'ID*', 'MXD', 'RX', 'D7', 'NH', 'UA', 'AC', 'EK', 'QR', 'MH', 'JT*', 'GA', 'MI', 'SQ', 'CZ', '9W', 'TK', 'WE*', 'TG', 'PR', 'AA', 'WY', 'KL', 'UL', 'QZ', 'QF', '3K', 'MF', 'VA', 'CX', 'KA', 'NZ', 'CA', 'ZH', 'PG', '8M', 'CI', 'AI', 'JL', 'TR', 'IB', 'FD', 'Z2', 'EY', 'MK', 'IA', 'BI', 'VJC', 'LH', 'AY', 'KE', '8L', 'HA', 'DL', 'BR', 'BS*', 'FM', 'MU', 'AF', 'LX', 'KQ', 'VN', 'K6', 'SV', 'XY', 'HM', 'AZ', 'SK', 'ET', 'MS', 'OS', 'RJ', 'BA', 'W5', 'TH', 'LJ', 'ZE', 'FY', 'SJ', 'CTV', 'IW', 'CV', 'KC', 'HX', '7L*', 'RA', 'PK', 'H9*', 'HY', 'YG*', 'TP', '5J', 'BG', 'RS*', 'OZ', '7C*', '9C', 'DE', '6E']\n"
     ]
    }
   ],
   "source": []
  },
  {
   "cell_type": "code",
   "execution_count": null,
   "metadata": {},
   "outputs": [],
   "source": []
  }
 ],
 "metadata": {
  "hide_input": false,
  "kernelspec": {
   "display_name": "Python 3",
   "language": "python",
   "name": "python3"
  },
  "language_info": {
   "codemirror_mode": {
    "name": "ipython",
    "version": 3
   },
   "file_extension": ".py",
   "mimetype": "text/x-python",
   "name": "python",
   "nbconvert_exporter": "python",
   "pygments_lexer": "ipython3",
   "version": "3.7.4"
  },
  "toc": {
   "base_numbering": 1,
   "nav_menu": {},
   "number_sections": true,
   "sideBar": true,
   "skip_h1_title": false,
   "title_cell": "Table of Contents",
   "title_sidebar": "Contents",
   "toc_cell": false,
   "toc_position": {},
   "toc_section_display": true,
   "toc_window_display": false
  }
 },
 "nbformat": 4,
 "nbformat_minor": 2
}
