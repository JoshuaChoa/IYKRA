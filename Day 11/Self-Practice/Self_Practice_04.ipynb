{
 "cells": [
  {
   "cell_type": "markdown",
   "metadata": {},
   "source": [
    "<div class=title>\n",
    "<strong><center><font size=\"3\">DAY 11 - IYKRA</font></center>\n",
    "<hr>\n",
    "<center><font size=\"5\"><strong>Self-Practice 4</strong></font></center>\n",
    "<center><font size=\"4\"><strong>Foundation of Machine Learning</strong></font></center>\n",
    "<hr>\n",
    "<p style=\"text-align:center\">Author</p>\n",
    "<center>Joshua Effendi</center>\n",
    "<p style=\"text-align:center\">Date:</p>\n",
    "<center>4 November 2019</center></strong>\n",
    "</div>"
   ]
  },
  {
   "cell_type": "markdown",
   "metadata": {},
   "source": [
    "<div class=title1>\n",
    "    <b><font size='3'>Import Libraries</font></b>\n",
    "</div>"
   ]
  },
  {
   "cell_type": "code",
   "execution_count": null,
   "metadata": {
    "ExecuteTime": {
     "end_time": "2019-11-04T11:38:59.984500Z",
     "start_time": "2019-11-04T11:38:59.971500Z"
    }
   },
   "outputs": [],
   "source": [
    "import pandas as pd\n",
    "import numpy as np\n",
    "import matplotlib.pyplot as plt\n",
    "import seaborn as sns\n",
    "from sklearn.linear_model import LinearRegression, LogisticRegression\n",
    "from sklearn.metrics import mean_squared_error\n",
    "from sklearn import preprocessing\n",
    "from datetime import datetime\n",
    "from xgboost import XGBClassifier\n",
    "\n",
    "from IPython.core.display import HTML\n",
    "\n",
    "def css_styling():\n",
    "    styles = open(\"./styles/custom.css\", \"r\").read()\n",
    "    return HTML(styles)\n",
    "css_styling()"
   ]
  },
  {
   "cell_type": "markdown",
   "metadata": {
    "ExecuteTime": {
     "end_time": "2019-11-04T02:22:45.322500Z",
     "start_time": "2019-11-04T02:22:45.297500Z"
    }
   },
   "source": [
    "<div class=title1>\n",
    "    <b><font size='3'>Import Data</font></b>\n",
    "</div>"
   ]
  },
  {
   "cell_type": "code",
   "execution_count": null,
   "metadata": {
    "ExecuteTime": {
     "end_time": "2019-11-04T11:39:00.973500Z",
     "start_time": "2019-11-04T11:39:00.280500Z"
    }
   },
   "outputs": [],
   "source": [
    "df_train = pd.read_csv('training_dataset.csv')\n",
    "df_train"
   ]
  },
  {
   "cell_type": "code",
   "execution_count": null,
   "metadata": {
    "ExecuteTime": {
     "end_time": "2019-11-04T11:39:01.223500Z",
     "start_time": "2019-11-04T11:39:00.975500Z"
    }
   },
   "outputs": [],
   "source": [
    "df_test = pd.read_csv('test_dataset.csv')\n",
    "df_test.head()"
   ]
  },
  {
   "cell_type": "markdown",
   "metadata": {
    "ExecuteTime": {
     "end_time": "2019-11-04T02:25:10.004500Z",
     "start_time": "2019-11-04T02:25:09.977000Z"
    }
   },
   "source": [
    "<div class=title1>\n",
    "    <b><font size='3'>Data Cleansing</font></b>\n",
    "</div>"
   ]
  },
  {
   "cell_type": "code",
   "execution_count": null,
   "metadata": {
    "ExecuteTime": {
     "end_time": "2019-11-04T11:39:01.351500Z",
     "start_time": "2019-11-04T11:39:01.226500Z"
    }
   },
   "outputs": [],
   "source": [
    "df_train.info()"
   ]
  },
  {
   "cell_type": "code",
   "execution_count": null,
   "metadata": {
    "ExecuteTime": {
     "end_time": "2019-11-04T11:39:01.590500Z",
     "start_time": "2019-11-04T11:39:01.353500Z"
    }
   },
   "outputs": [],
   "source": [
    "df_train.isnull().sum()"
   ]
  },
  {
   "cell_type": "markdown",
   "metadata": {},
   "source": [
    "<div class=cbox>\n",
    "    <b>From the train data, there are lots of missing data so we have to clean the data. Those features which has 20% more missing data will be dropped.</b>\n",
    "</div>"
   ]
  },
  {
   "cell_type": "code",
   "execution_count": null,
   "metadata": {
    "ExecuteTime": {
     "end_time": "2019-11-04T11:39:01.702500Z",
     "start_time": "2019-11-04T11:39:01.592500Z"
    }
   },
   "outputs": [],
   "source": [
    "df_train = df_train.drop(columns=['departure_airport_gate',\n",
    "                                 'departure_airport_terminal',\n",
    "                                 'arrival_airport_gate',\n",
    "                                 'arrival_airport_terminal'])"
   ]
  },
  {
   "cell_type": "markdown",
   "metadata": {},
   "source": [
    "<div class=cbox>\n",
    "    <b>From the train data, drop features in which are not related to delay as business sense (logic).</b>\n",
    "</div>"
   ]
  },
  {
   "cell_type": "code",
   "execution_count": null,
   "metadata": {
    "ExecuteTime": {
     "end_time": "2019-11-04T11:39:01.730500Z",
     "start_time": "2019-11-04T11:39:01.704500Z"
    }
   },
   "outputs": [],
   "source": [
    "df_train_c = df_train.drop(columns=['id',\n",
    "                                    'number',\n",
    "                                    'airline_name',\n",
    "                                    'departure_airport_code',\n",
    "                                    'departure_airport_country',\n",
    "                                    'departure_airport_region',\n",
    "                                    'departure_airport_timezone',\n",
    "                                   'arrival_airport_code',\n",
    "                                   'arrival_airport_country',\n",
    "                                   'arrival_airport_region',\n",
    "                                   'arrival_airport_timezone',\n",
    "                                   'flight_equipment_iata',\n",
    "                                   'flight_equipment_name',\n",
    "                                   'flight_duration'])\n",
    "df_train_c.head()"
   ]
  },
  {
   "cell_type": "markdown",
   "metadata": {},
   "source": [
    "<div class=cbox>\n",
    "    <b>From the train data, drop rows in which are still Nan.</b>\n",
    "</div>"
   ]
  },
  {
   "cell_type": "code",
   "execution_count": null,
   "metadata": {
    "ExecuteTime": {
     "end_time": "2019-11-04T11:39:02.117500Z",
     "start_time": "2019-11-04T11:39:02.046500Z"
    }
   },
   "outputs": [],
   "source": [
    "df_train_c = df_train_c.drop(index = df_train_c[df_train_c['scheduled_arrival_time'].isnull()].index).reset_index(drop=True)\n",
    "df_train_c.isnull().sum()"
   ]
  },
  {
   "cell_type": "markdown",
   "metadata": {},
   "source": [
    "<div class=cbox>\n",
    "    <b>Change data type of object into DateTime.</b>\n",
    "</div>"
   ]
  },
  {
   "cell_type": "code",
   "execution_count": null,
   "metadata": {
    "ExecuteTime": {
     "end_time": "2019-11-04T11:39:02.560500Z",
     "start_time": "2019-11-04T11:39:02.439500Z"
    }
   },
   "outputs": [],
   "source": [
    "df_train_c['scheduled_departure_time'] = pd.to_datetime(df_train_c['scheduled_departure_time'], format='%Y-%m-%d')\n",
    "df_train_c['scheduled_arrival_time'] = pd.to_datetime(df_train_c['scheduled_arrival_time'], format='%Y-%m-%d')"
   ]
  },
  {
   "cell_type": "markdown",
   "metadata": {
    "ExecuteTime": {
     "end_time": "2019-11-04T06:24:47.985500Z",
     "start_time": "2019-11-04T06:24:47.950500Z"
    }
   },
   "source": [
    "<div class=cbox>\n",
    "    <b>Convert DateTime into several parts; Departure Hour and Day. Get the day because it has an effect on delay</b>\n",
    "</div>"
   ]
  },
  {
   "cell_type": "code",
   "execution_count": null,
   "metadata": {
    "ExecuteTime": {
     "end_time": "2019-11-04T11:39:02.863500Z",
     "start_time": "2019-11-04T11:39:02.836500Z"
    }
   },
   "outputs": [],
   "source": [
    "df_train_c1 = df_train_c.copy()\n",
    "df_train_c1 = df_train_c1.drop(columns = ['arrival_airport_city','arrival_airport_name','departure_airport_city'])\n",
    "df_train_c1.head()"
   ]
  },
  {
   "cell_type": "code",
   "execution_count": null,
   "metadata": {
    "ExecuteTime": {
     "end_time": "2019-11-04T11:39:05.376500Z",
     "start_time": "2019-11-04T11:39:03.055500Z"
    }
   },
   "outputs": [],
   "source": [
    "df_train_c1['departure_hour'] = df_train_c1.scheduled_departure_time.apply(lambda x: x.hour)\n",
    "df_train_c1['departure_day'] = df_train_c1.scheduled_departure_time.apply(lambda x: x.strftime('%A'))\n",
    "df_train_c1['arival_hour'] = df_train_c1.scheduled_arrival_time.apply(lambda x: x.hour)\n",
    "df_train_c1 = df_train_c1.drop(columns=['scheduled_departure_time','scheduled_arrival_time'])\n",
    "df_train_c1"
   ]
  },
  {
   "cell_type": "markdown",
   "metadata": {},
   "source": [
    "<div class=title1>\n",
    "    <b><font size='3'>Data Test Cleaning</font></b>\n",
    "</div>"
   ]
  },
  {
   "cell_type": "markdown",
   "metadata": {
    "ExecuteTime": {
     "end_time": "2019-11-04T07:07:05.212000Z",
     "start_time": "2019-11-04T07:07:05.197000Z"
    }
   },
   "source": [
    "<div class=cbox>\n",
    "    <b>Do the data cleaning from data train to data test</b>\n",
    "</div>"
   ]
  },
  {
   "cell_type": "code",
   "execution_count": null,
   "metadata": {
    "ExecuteTime": {
     "end_time": "2019-11-04T11:39:05.387500Z",
     "start_time": "2019-11-04T11:39:05.378500Z"
    }
   },
   "outputs": [],
   "source": [
    "df_test = df_test.drop(columns=['departure_airport_gate',\n",
    "                               'departure_airport_terminal',\n",
    "                               'arrival_airport_gate',\n",
    "                               'arrival_airport_terminal',\n",
    "                               'id',\n",
    "                               'number',\n",
    "                               'airline_name',\n",
    "                               'departure_airport_code',\n",
    "                               'departure_airport_country',\n",
    "                               'departure_airport_region',\n",
    "                               'departure_airport_timezone',\n",
    "                               'arrival_airport_code',\n",
    "                               'arrival_airport_country',\n",
    "                               'arrival_airport_region',\n",
    "                               'arrival_airport_timezone',\n",
    "                               'flight_equipment_iata',\n",
    "                               'flight_equipment_name',\n",
    "                               'flight_duration',\n",
    "                               'arrival_airport_city',\n",
    "                               'arrival_airport_name',\n",
    "                               'departure_airport_city'])"
   ]
  },
  {
   "cell_type": "code",
   "execution_count": null,
   "metadata": {
    "ExecuteTime": {
     "end_time": "2019-11-04T11:39:05.539500Z",
     "start_time": "2019-11-04T11:39:05.390500Z"
    }
   },
   "outputs": [],
   "source": [
    "df_test['scheduled_departure_time'] = pd.to_datetime(df_test['scheduled_departure_time'], format='%Y-%m-%d')\n",
    "df_test['scheduled_arrival_time'] = pd.to_datetime(df_test['scheduled_arrival_time'], format='%Y-%m-%d')"
   ]
  },
  {
   "cell_type": "code",
   "execution_count": null,
   "metadata": {
    "ExecuteTime": {
     "end_time": "2019-11-04T11:39:05.685500Z",
     "start_time": "2019-11-04T11:39:05.543500Z"
    }
   },
   "outputs": [],
   "source": [
    "df_test = df_test.drop(index = df_test[df_test['scheduled_arrival_time'].isnull()].index).reset_index(drop=True)\n",
    "df_test.isnull().sum()"
   ]
  },
  {
   "cell_type": "code",
   "execution_count": null,
   "metadata": {
    "ExecuteTime": {
     "end_time": "2019-11-04T11:39:06.783500Z",
     "start_time": "2019-11-04T11:39:05.688500Z"
    }
   },
   "outputs": [],
   "source": [
    "df_test['departure_hour'] = df_test.scheduled_departure_time.apply(lambda x: x.hour)\n",
    "df_test['departure_day'] = df_test.scheduled_departure_time.apply(lambda x: x.strftime('%A'))\n",
    "df_test['arival_hour'] = df_test.scheduled_arrival_time.apply(lambda x: x.hour)\n",
    "df_test = df_test.drop(columns=['scheduled_departure_time','scheduled_arrival_time'])\n",
    "df_test.head()"
   ]
  },
  {
   "cell_type": "markdown",
   "metadata": {},
   "source": [
    "<div class=title1>\n",
    "    <b><font size='3'>Data Processing</font></b>\n",
    "</div>"
   ]
  },
  {
   "cell_type": "markdown",
   "metadata": {
    "ExecuteTime": {
     "end_time": "2019-11-04T04:00:48.239500Z",
     "start_time": "2019-11-04T04:00:48.221500Z"
    }
   },
   "source": [
    "<div class=title1>\n",
    "    <b><font size='2'>Provide travel recommendation to passenger (best time to take a flight or best airline), so they will\n",
    "not get caught in delay. Each recommendation has to be supported by at least 1 graph.</font></b>\n",
    "</div>"
   ]
  },
  {
   "cell_type": "code",
   "execution_count": null,
   "metadata": {
    "ExecuteTime": {
     "end_time": "2019-11-04T11:39:06.805500Z",
     "start_time": "2019-11-04T11:39:06.786500Z"
    }
   },
   "outputs": [],
   "source": [
    "df_train_c1_ga = df_train_c.groupby('airline').mean().sort_values('delay')[0:10]"
   ]
  },
  {
   "cell_type": "code",
   "execution_count": null,
   "metadata": {
    "ExecuteTime": {
     "end_time": "2019-11-04T11:39:07.106500Z",
     "start_time": "2019-11-04T11:39:06.806500Z"
    }
   },
   "outputs": [],
   "source": [
    "sns.barplot(df_train_c1_ga.index, df_train_c1_ga['delay'])"
   ]
  },
  {
   "cell_type": "markdown",
   "metadata": {},
   "source": [
    "<div class=cbox>\n",
    "    <b>From the graph above, there are 5 airlines that have 0 delay.</b>\n",
    "</div>"
   ]
  },
  {
   "cell_type": "code",
   "execution_count": null,
   "metadata": {
    "ExecuteTime": {
     "end_time": "2019-11-04T11:39:07.124500Z",
     "start_time": "2019-11-04T11:39:07.108500Z"
    }
   },
   "outputs": [],
   "source": [
    "df_train_c1_gt = df_train_c1.groupby('departure_hour').mean().sort_values('delay')[0:10]"
   ]
  },
  {
   "cell_type": "code",
   "execution_count": null,
   "metadata": {
    "ExecuteTime": {
     "end_time": "2019-11-04T11:39:07.483500Z",
     "start_time": "2019-11-04T11:39:07.126500Z"
    }
   },
   "outputs": [],
   "source": [
    "sns.barplot(df_train_c1_gt.index, df_train_c1_gt['delay'])"
   ]
  },
  {
   "cell_type": "markdown",
   "metadata": {},
   "source": [
    "<div class=cbox>\n",
    "    <b>From the graph above, there is 1 time that has the lowest delay that is 21 or 9PM.</b>\n",
    "</div>"
   ]
  },
  {
   "cell_type": "markdown",
   "metadata": {},
   "source": [
    "<div class=cbox>\n",
    "    <b>Data in Airline Unique and in Departure Airport Name Unique has to be the same size.</b>\n",
    "</div>"
   ]
  },
  {
   "cell_type": "code",
   "execution_count": null,
   "metadata": {
    "ExecuteTime": {
     "end_time": "2019-11-04T11:39:08.482500Z",
     "start_time": "2019-11-04T11:39:08.457500Z"
    }
   },
   "outputs": [],
   "source": [
    "print(len(df_train_c1['airline'].unique()))\n",
    "print(len(df_test['airline'].unique()))"
   ]
  },
  {
   "cell_type": "code",
   "execution_count": null,
   "metadata": {
    "ExecuteTime": {
     "end_time": "2019-11-04T11:39:09.496500Z",
     "start_time": "2019-11-04T11:39:08.925500Z"
    }
   },
   "outputs": [],
   "source": [
    "aln = []\n",
    "for i in df_train_c1['airline'].unique():\n",
    "    if i not in df_test['airline'].unique():\n",
    "        aln.append(i)\n",
    "for i in df_test['airline'].unique():\n",
    "    if i not in df_train_c1['airline'].unique():\n",
    "        aln.append(i)"
   ]
  },
  {
   "cell_type": "code",
   "execution_count": null,
   "metadata": {
    "ExecuteTime": {
     "end_time": "2019-11-04T11:39:09.673500Z",
     "start_time": "2019-11-04T11:39:09.666500Z"
    }
   },
   "outputs": [],
   "source": [
    "aln"
   ]
  },
  {
   "cell_type": "code",
   "execution_count": null,
   "metadata": {
    "ExecuteTime": {
     "end_time": "2019-11-04T11:39:10.228500Z",
     "start_time": "2019-11-04T11:39:10.136500Z"
    }
   },
   "outputs": [],
   "source": [
    "df_train_c1 = df_train_c1[(df_train_c1['airline'] != aln[0]) & (df_train_c1['airline'] != aln[1]) & (df_train_c1['airline'] != aln[2]) & (df_train_c1['airline'] != aln[3])].reset_index(drop=True)\n",
    "df_test = df_test[(df_test['airline'] != aln[0]) & (df_test['airline'] != aln[1]) & (df_test['airline'] != aln[2]) & (df_test['airline'] != aln[3])].reset_index(drop=True)"
   ]
  },
  {
   "cell_type": "code",
   "execution_count": null,
   "metadata": {
    "ExecuteTime": {
     "end_time": "2019-11-04T11:39:10.543500Z",
     "start_time": "2019-11-04T11:39:10.525500Z"
    }
   },
   "outputs": [],
   "source": [
    "print(len(df_train_c1['airline'].unique()))\n",
    "print(len(df_test['airline'].unique()))"
   ]
  },
  {
   "cell_type": "code",
   "execution_count": null,
   "metadata": {
    "ExecuteTime": {
     "end_time": "2019-11-04T11:39:10.945500Z",
     "start_time": "2019-11-04T11:39:10.909500Z"
    }
   },
   "outputs": [],
   "source": [
    "print(len(df_train_c1['departure_airport_name'].unique()))\n",
    "print(len(df_test['departure_airport_name'].unique()))"
   ]
  },
  {
   "cell_type": "code",
   "execution_count": null,
   "metadata": {
    "ExecuteTime": {
     "end_time": "2019-11-04T11:39:11.662500Z",
     "start_time": "2019-11-04T11:39:11.401500Z"
    }
   },
   "outputs": [],
   "source": [
    "dan = []\n",
    "for i in df_train_c1['departure_airport_name'].unique():\n",
    "    if i not in df_test['departure_airport_name'].unique():\n",
    "        dan.append(i)\n",
    "for i in df_test['departure_airport_name'].unique():\n",
    "    if i not in df_train_c1['departure_airport_name'].unique():\n",
    "        dan.append(i)"
   ]
  },
  {
   "cell_type": "code",
   "execution_count": null,
   "metadata": {
    "ExecuteTime": {
     "end_time": "2019-11-04T11:39:11.768500Z",
     "start_time": "2019-11-04T11:39:11.764500Z"
    }
   },
   "outputs": [],
   "source": [
    "dan"
   ]
  },
  {
   "cell_type": "code",
   "execution_count": null,
   "metadata": {
    "ExecuteTime": {
     "end_time": "2019-11-04T11:39:12.119500Z",
     "start_time": "2019-11-04T11:39:12.088500Z"
    }
   },
   "outputs": [],
   "source": [
    "df_train_c1 = df_train_c1[df_train_c1['departure_airport_name'] != dan[0]].reset_index(drop=True)\n",
    "df_test = df_test[df_test['departure_airport_name'] != dan[0]].reset_index(drop=True)"
   ]
  },
  {
   "cell_type": "code",
   "execution_count": null,
   "metadata": {
    "ExecuteTime": {
     "end_time": "2019-11-04T11:39:12.405500Z",
     "start_time": "2019-11-04T11:39:12.382500Z"
    }
   },
   "outputs": [],
   "source": [
    "print(len(df_train_c1['departure_airport_name'].unique()))\n",
    "print(len(df_test['departure_airport_name'].unique()))"
   ]
  },
  {
   "cell_type": "code",
   "execution_count": null,
   "metadata": {
    "ExecuteTime": {
     "end_time": "2019-11-04T11:39:12.707500Z",
     "start_time": "2019-11-04T11:39:12.678500Z"
    }
   },
   "outputs": [],
   "source": [
    "df_train_c1_delay = df_train_c1[['delay']]\n",
    "df_train_c1 = df_train_c1.drop(columns='delay')"
   ]
  },
  {
   "cell_type": "markdown",
   "metadata": {},
   "source": [
    "<div class=cbox>\n",
    "    <b>Divide into two types data, Numerical and Categorical Data</b>\n",
    "</div>"
   ]
  },
  {
   "cell_type": "code",
   "execution_count": null,
   "metadata": {
    "ExecuteTime": {
     "end_time": "2019-11-04T11:39:13.868500Z",
     "start_time": "2019-11-04T11:39:13.838500Z"
    }
   },
   "outputs": [],
   "source": [
    "numerical_data = df_train_c1.select_dtypes(include = [np.number]).columns\n",
    "categorical_data = df_train_c1.select_dtypes(exclude = [np.number]).columns"
   ]
  },
  {
   "cell_type": "markdown",
   "metadata": {},
   "source": [
    "<div class=title1>\n",
    "    <b><font size='2'>Create a model to estimate the delay duration ( Linear Regression )</font></b>\n",
    "</div>"
   ]
  },
  {
   "cell_type": "code",
   "execution_count": null,
   "metadata": {
    "ExecuteTime": {
     "end_time": "2019-11-04T11:39:14.727500Z",
     "start_time": "2019-11-04T11:39:14.588500Z"
    }
   },
   "outputs": [],
   "source": [
    "datasets_dummies = pd.get_dummies(df_train_c1[categorical_data], drop_first=True)"
   ]
  },
  {
   "cell_type": "code",
   "execution_count": null,
   "metadata": {
    "ExecuteTime": {
     "end_time": "2019-11-04T11:39:15.622500Z",
     "start_time": "2019-11-04T11:39:15.545500Z"
    }
   },
   "outputs": [],
   "source": [
    "df_model = pd.concat([df_train_c1[numerical_data], datasets_dummies, df_train_c1_delay], axis = 1)\n",
    "df_model.head()"
   ]
  },
  {
   "cell_type": "code",
   "execution_count": null,
   "metadata": {
    "ExecuteTime": {
     "end_time": "2019-11-04T11:39:23.475500Z",
     "start_time": "2019-11-04T11:39:23.395500Z"
    }
   },
   "outputs": [],
   "source": [
    "datasets_dummies = pd.get_dummies(df_test[categorical_data], drop_first=True)"
   ]
  },
  {
   "cell_type": "code",
   "execution_count": null,
   "metadata": {
    "ExecuteTime": {
     "end_time": "2019-11-04T11:39:32.727500Z",
     "start_time": "2019-11-04T11:39:32.676500Z"
    }
   },
   "outputs": [],
   "source": [
    "df_model_test = pd.concat([df_test[numerical_data], datasets_dummies, df_test['delay']], axis = 1)\n",
    "df_model_test.head()"
   ]
  },
  {
   "cell_type": "code",
   "execution_count": null,
   "metadata": {
    "ExecuteTime": {
     "end_time": "2019-11-04T11:39:33.917500Z",
     "start_time": "2019-11-04T11:39:33.654500Z"
    }
   },
   "outputs": [],
   "source": [
    "x = df_model.iloc[:,0:len(df_model.columns)-1]\n",
    "y = df_model.iloc[:,len(df_model.columns)-1].values.reshape(-1,1)\n",
    "x = preprocessing.normalize(x)"
   ]
  },
  {
   "cell_type": "markdown",
   "metadata": {},
   "source": [
    "<div class=cbox>\n",
    "    <b>Check Data Correlation</b>\n",
    "</div>"
   ]
  },
  {
   "cell_type": "code",
   "execution_count": null,
   "metadata": {
    "ExecuteTime": {
     "end_time": "2019-11-04T11:39:40.998500Z",
     "start_time": "2019-11-04T11:39:35.988500Z"
    }
   },
   "outputs": [],
   "source": [
    "np.abs(df_model.corr(method= 'pearson')['delay']).sort_values(ascending=False)[1:11]"
   ]
  },
  {
   "cell_type": "code",
   "execution_count": null,
   "metadata": {
    "ExecuteTime": {
     "end_time": "2019-11-04T11:39:41.574500Z",
     "start_time": "2019-11-04T11:39:41.001500Z"
    }
   },
   "outputs": [],
   "source": [
    "regression = LinearRegression(normalize=True)\n",
    "regression.fit(x, y)"
   ]
  },
  {
   "cell_type": "code",
   "execution_count": null,
   "metadata": {
    "ExecuteTime": {
     "end_time": "2019-11-04T11:39:43.132500Z",
     "start_time": "2019-11-04T11:39:43.006500Z"
    }
   },
   "outputs": [],
   "source": [
    "x_test = df_model_test.iloc[:,0:len(df_model.columns)-1]\n",
    "y_test = df_model_test.iloc[:,len(df_model.columns)-1].values.reshape(-1,1)\n",
    "x_test = preprocessing.normalize(x_test)"
   ]
  },
  {
   "cell_type": "code",
   "execution_count": null,
   "metadata": {
    "ExecuteTime": {
     "end_time": "2019-11-04T11:40:17.296500Z",
     "start_time": "2019-11-04T11:40:17.265500Z"
    }
   },
   "outputs": [],
   "source": [
    "y_pred = regression.predict(x_test)"
   ]
  },
  {
   "cell_type": "code",
   "execution_count": null,
   "metadata": {
    "ExecuteTime": {
     "end_time": "2019-11-04T11:40:20.689500Z",
     "start_time": "2019-11-04T11:40:20.681500Z"
    }
   },
   "outputs": [],
   "source": [
    "print(\"MSE Y Test = \", mean_squared_error(y_pred,y_test))"
   ]
  },
  {
   "cell_type": "code",
   "execution_count": null,
   "metadata": {
    "ExecuteTime": {
     "end_time": "2019-11-04T11:40:27.555500Z",
     "start_time": "2019-11-04T11:40:27.223500Z"
    }
   },
   "outputs": [],
   "source": [
    "res = y_pred - y_test\n",
    "\n",
    "plt.hist(res, bins=100)\n",
    "plt.show()"
   ]
  },
  {
   "cell_type": "code",
   "execution_count": null,
   "metadata": {
    "ExecuteTime": {
     "end_time": "2019-11-04T11:40:30.105500Z",
     "start_time": "2019-11-04T11:40:30.098500Z"
    }
   },
   "outputs": [],
   "source": [
    "data_lin_res = df_test[['delay']].copy()\n",
    "data_lin_res['delay_model'] = y_pred"
   ]
  },
  {
   "cell_type": "code",
   "execution_count": null,
   "metadata": {
    "ExecuteTime": {
     "end_time": "2019-11-04T11:40:30.536500Z",
     "start_time": "2019-11-04T11:40:30.519500Z"
    }
   },
   "outputs": [],
   "source": [
    "data_lin_res.head(20)"
   ]
  },
  {
   "cell_type": "markdown",
   "metadata": {},
   "source": [
    "<div class=title1>\n",
    "    <b><font size='2'>Create a model to predict delay > 60 min ( Logistic regression and another supervised model you\n",
    "choosing )</font></b>\n",
    "</div>"
   ]
  },
  {
   "cell_type": "markdown",
   "metadata": {},
   "source": [
    "<div class=title1>\n",
    "    <b><font size='2'>Logistic Regression</font></b>\n",
    "</div>"
   ]
  },
  {
   "cell_type": "code",
   "execution_count": null,
   "metadata": {
    "ExecuteTime": {
     "end_time": "2019-11-04T10:02:15.076500Z",
     "start_time": "2019-11-04T10:02:14.916500Z"
    }
   },
   "outputs": [],
   "source": [
    "x = df_model.iloc[:,0:len(df_model.columns)-1]\n",
    "y = df_model.iloc[:,len(df_model.columns)-1]"
   ]
  },
  {
   "cell_type": "code",
   "execution_count": null,
   "metadata": {
    "ExecuteTime": {
     "end_time": "2019-11-04T10:06:33.036500Z",
     "start_time": "2019-11-04T10:02:15.079500Z"
    }
   },
   "outputs": [],
   "source": [
    "log_regression = LogisticRegression(solver='lbfgs',multi_class='auto')\n",
    "log_regression.fit(x, y)"
   ]
  },
  {
   "cell_type": "code",
   "execution_count": null,
   "metadata": {
    "ExecuteTime": {
     "end_time": "2019-11-04T10:06:33.086500Z",
     "start_time": "2019-11-04T10:06:33.038500Z"
    }
   },
   "outputs": [],
   "source": [
    "x_test = df_model_test.iloc[:,0:len(df_model.columns)-1]\n",
    "y_test = df_model_test.iloc[:,len(df_model.columns)-1]"
   ]
  },
  {
   "cell_type": "code",
   "execution_count": null,
   "metadata": {
    "ExecuteTime": {
     "end_time": "2019-11-04T10:06:33.297500Z",
     "start_time": "2019-11-04T10:06:33.088500Z"
    }
   },
   "outputs": [],
   "source": [
    "y_pred = regression.predict(x_test)"
   ]
  },
  {
   "cell_type": "code",
   "execution_count": null,
   "metadata": {
    "ExecuteTime": {
     "end_time": "2019-11-04T10:06:33.446500Z",
     "start_time": "2019-11-04T10:06:33.299500Z"
    }
   },
   "outputs": [],
   "source": [
    "print(\"MSE Y Test = \", mean_squared_error(y_pred,y_test))"
   ]
  },
  {
   "cell_type": "code",
   "execution_count": null,
   "metadata": {
    "ExecuteTime": {
     "end_time": "2019-11-04T10:07:12.774500Z",
     "start_time": "2019-11-04T10:07:12.763500Z"
    }
   },
   "outputs": [],
   "source": [
    "data_log_res = df_test[['delay']].copy()\n",
    "data_log_res['delay_model'] = y_pred"
   ]
  },
  {
   "cell_type": "code",
   "execution_count": null,
   "metadata": {
    "ExecuteTime": {
     "end_time": "2019-11-04T10:07:13.593500Z",
     "start_time": "2019-11-04T10:07:13.574500Z"
    }
   },
   "outputs": [],
   "source": [
    "data_log_res.head(20)"
   ]
  },
  {
   "cell_type": "markdown",
   "metadata": {},
   "source": [
    "<div class=title1>\n",
    "    <b><font size='2'>XGBoost</font></b>\n",
    "</div>"
   ]
  },
  {
   "cell_type": "code",
   "execution_count": null,
   "metadata": {
    "ExecuteTime": {
     "end_time": "2019-11-04T10:07:15.893500Z",
     "start_time": "2019-11-04T10:07:15.839500Z"
    }
   },
   "outputs": [],
   "source": [
    "x = df_model.iloc[:,0:len(df_model.columns)-1]\n",
    "y = df_model.iloc[:,len(df_model.columns)-1]"
   ]
  },
  {
   "cell_type": "code",
   "execution_count": null,
   "metadata": {
    "ExecuteTime": {
     "end_time": "2019-11-04T10:37:59.323500Z",
     "start_time": "2019-11-04T10:07:16.274500Z"
    }
   },
   "outputs": [],
   "source": [
    "xgb = XGBClassifier()\n",
    "xgb.fit(x, y)"
   ]
  },
  {
   "cell_type": "code",
   "execution_count": null,
   "metadata": {
    "ExecuteTime": {
     "end_time": "2019-11-04T10:37:59.325500Z",
     "start_time": "2019-11-04T10:07:16.509Z"
    }
   },
   "outputs": [],
   "source": [
    "x_test = df_model_test.iloc[:,0:len(df_model.columns)-1]\n",
    "y_test = df_model_test.iloc[:,len(df_model.columns)-1]"
   ]
  },
  {
   "cell_type": "code",
   "execution_count": null,
   "metadata": {
    "ExecuteTime": {
     "end_time": "2019-11-04T10:37:59.326500Z",
     "start_time": "2019-11-04T10:07:17.181Z"
    }
   },
   "outputs": [],
   "source": [
    "y_pred = regression.predict(x_test)"
   ]
  },
  {
   "cell_type": "code",
   "execution_count": null,
   "metadata": {
    "ExecuteTime": {
     "end_time": "2019-11-04T10:37:59.327500Z",
     "start_time": "2019-11-04T10:07:17.629Z"
    }
   },
   "outputs": [],
   "source": [
    "print(\"MSE Y Test = \", mean_squared_error(y_pred,y_test))"
   ]
  },
  {
   "cell_type": "code",
   "execution_count": null,
   "metadata": {
    "ExecuteTime": {
     "end_time": "2019-11-04T10:37:59.327500Z",
     "start_time": "2019-11-04T10:07:18.169Z"
    }
   },
   "outputs": [],
   "source": [
    "res = y_pred - y_test\n",
    "\n",
    "plt.hist(res, bins=100)\n",
    "plt.show()"
   ]
  },
  {
   "cell_type": "code",
   "execution_count": null,
   "metadata": {
    "ExecuteTime": {
     "end_time": "2019-11-04T10:37:59.329500Z",
     "start_time": "2019-11-04T10:07:21.757Z"
    }
   },
   "outputs": [],
   "source": [
    "data_xgb_res = df_test[['delay']].copy()\n",
    "data_xgb_res['delay_model'] = y_pred"
   ]
  },
  {
   "cell_type": "code",
   "execution_count": null,
   "metadata": {
    "ExecuteTime": {
     "end_time": "2019-11-04T10:37:59.330500Z",
     "start_time": "2019-11-04T10:07:33.963Z"
    }
   },
   "outputs": [],
   "source": [
    "data_xgb_res.head(20)"
   ]
  },
  {
   "cell_type": "code",
   "execution_count": null,
   "metadata": {
    "ExecuteTime": {
     "end_time": "2019-11-04T11:02:45.094500Z",
     "start_time": "2019-11-04T11:02:44.899500Z"
    }
   },
   "outputs": [],
   "source": []
  },
  {
   "cell_type": "code",
   "execution_count": null,
   "metadata": {},
   "outputs": [],
   "source": []
  }
 ],
 "metadata": {
  "hide_input": false,
  "kernelspec": {
   "display_name": "Python 3",
   "language": "python",
   "name": "python3"
  },
  "language_info": {
   "codemirror_mode": {
    "name": "ipython",
    "version": 3
   },
   "file_extension": ".py",
   "mimetype": "text/x-python",
   "name": "python",
   "nbconvert_exporter": "python",
   "pygments_lexer": "ipython3",
   "version": "3.7.4"
  },
  "toc": {
   "base_numbering": 1,
   "nav_menu": {},
   "number_sections": true,
   "sideBar": true,
   "skip_h1_title": false,
   "title_cell": "Table of Contents",
   "title_sidebar": "Contents",
   "toc_cell": false,
   "toc_position": {},
   "toc_section_display": true,
   "toc_window_display": false
  }
 },
 "nbformat": 4,
 "nbformat_minor": 2
}
