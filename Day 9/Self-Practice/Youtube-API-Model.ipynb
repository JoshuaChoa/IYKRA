{
 "cells": [
  {
   "cell_type": "markdown",
   "metadata": {},
   "source": [
    "<div class=title>\n",
    "<strong><center><font size=\"3\">DAY 9 - IYKRA</font></center>\n",
    "<hr>\n",
    "<center><font size=\"5\"><strong>Self-Practice 3</strong></font></center>\n",
    "<center><font size=\"4\"><strong>Foundation of Data Engineering</strong></font></center>\n",
    "<hr>\n",
    "<p style=\"text-align:center\">Author</p>\n",
    "<center>Joshua Effendi</center>\n",
    "<p style=\"text-align:center\">Date:</p>\n",
    "<center>31 October 2019</center></strong>\n",
    "</div>"
   ]
  },
  {
   "cell_type": "markdown",
   "metadata": {},
   "source": [
    "<div class=title1>\n",
    "    <b><font size='3'>Import Libaries and Set Up Libaries</font></b>\n",
    "</div>"
   ]
  },
  {
   "cell_type": "code",
   "execution_count": 82,
   "metadata": {
    "ExecuteTime": {
     "end_time": "2019-10-31T05:47:58.695000Z",
     "start_time": "2019-10-31T05:47:58.674000Z"
    }
   },
   "outputs": [
    {
     "name": "stderr",
     "output_type": "stream",
     "text": [
      "[nltk_data] Downloading package stopwords to\n",
      "[nltk_data]     C:\\Users\\joshua.effendi01\\AppData\\Roaming\\nltk_data...\n",
      "[nltk_data]   Package stopwords is already up-to-date!\n"
     ]
    },
    {
     "data": {
      "text/html": [
       "<style>\n",
       "div.cbox {\n",
       "    background-color: #ADD8E6;\n",
       "    padding: 0.5em;\n",
       "    text-align: justify;\n",
       "    text-justify: inter-word;\n",
       "    }\n",
       "div.title {\n",
       "    background-color: #90EE90;\n",
       "    padding: 0.5em;\n",
       "    }\n",
       "div.title1 {\n",
       "    background-color: #01D848;\n",
       "    padding: 0.5em;\n",
       "    }\n",
       "</style>"
      ],
      "text/plain": [
       "<IPython.core.display.HTML object>"
      ]
     },
     "execution_count": 82,
     "metadata": {},
     "output_type": "execute_result"
    }
   ],
   "source": [
    "import csv\n",
    "import os\n",
    "\n",
    "import pandas as pd\n",
    "import numpy as np\n",
    "\n",
    "import warnings\n",
    "warnings.filterwarnings(\"ignore\")\n",
    "\n",
    "import nltk\n",
    "nltk.download('stopwords')\n",
    "from nltk.corpus import stopwords\n",
    "from nltk.stem import PorterStemmer\n",
    "from nltk.tokenize import word_tokenize\n",
    "\n",
    "import re, string, unicodedata\n",
    "\n",
    "from textblob import TextBlob\n",
    "from textblob import Word\n",
    "\n",
    "from sklearn.pipeline import Pipeline\n",
    "from sklearn.feature_extraction.text import CountVectorizer\n",
    "from sklearn.feature_extraction.text import TfidfTransformer\n",
    "from sklearn.feature_extraction.text import TfidfVectorizer\n",
    "from sklearn import svm\n",
    "from sklearn.naive_bayes import MultinomialNB\n",
    "from sklearn.linear_model import LogisticRegression\n",
    "from sklearn.model_selection import train_test_split\n",
    "from sklearn.metrics import confusion_matrix, classification_report\n",
    "from sklearn.metrics import accuracy_score, precision_score, recall_score, f1_score\n",
    "\n",
    "from wordcloud import WordCloud, STOPWORDS\n",
    "\n",
    "from tqdm import tqdm \n",
    "tqdm.pandas()\n",
    "\n",
    "from bs4 import BeautifulSoup\n",
    "import pickle \n",
    "\n",
    "import matplotlib.pyplot as plt\n",
    "import seaborn as sns \n",
    "%matplotlib inline \n",
    " \n",
    "import google.oauth2.credentials\n",
    "\n",
    "from googleapiclient.discovery import build\n",
    "from googleapiclient.errors import HttpError\n",
    "from google_auth_oauthlib.flow import InstalledAppFlow\n",
    "from google.auth.transport.requests import Request\n",
    "\n",
    "from IPython.core.display import HTML\n",
    "\n",
    "def css_styling():\n",
    "    styles = open(\"./styles/custom.css\", \"r\").read()\n",
    "    return HTML(styles)\n",
    "css_styling()"
   ]
  },
  {
   "cell_type": "markdown",
   "metadata": {},
   "source": [
    "<div class=title1>\n",
    "    <b><font size='3'>Get Youtube's Comment and Save it to CSV</font></b>\n",
    "</div>"
   ]
  },
  {
   "cell_type": "code",
   "execution_count": 136,
   "metadata": {
    "ExecuteTime": {
     "end_time": "2019-10-31T07:49:15.315500Z",
     "start_time": "2019-10-31T07:48:06.746000Z"
    }
   },
   "outputs": [
    {
     "name": "stdout",
     "output_type": "stream",
     "text": [
      "Enter a keyword: Nuke a City\n"
     ]
    },
    {
     "ename": "HttpError",
     "evalue": "<HttpError 403 when requesting https://www.googleapis.com/youtube/v3/commentThreads?part=snippet&videoId=S81K-NiNrV0&textFormat=plainText&pageToken=QURTSl9pME00aVZ4MEV5UFIwd0t3TEctcklhaXpZQzRGeFE0aXZIZzc5OEprd2RNY2dkM2VzZHk5M2ptRXk4QW9xM0ZLa0k1ODRXTVM2ZEZXcjY0TWZzS2pTSE5qd0MtTXZqTEw0dTZ4bzlKN1cxUmhTTzcwaTUwSmI0M3JiVnhEbFVjTXdWRDd5QmZkaHM%3D&alt=json returned \"Daily Limit Exceeded. The quota will be reset at midnight Pacific Time (PT). You may monitor your quota usage and adjust limits in the API Console: https://console.developers.google.com/apis/api/youtube.googleapis.com/quotas?project=23456112772\">",
     "output_type": "error",
     "traceback": [
      "\u001b[1;31m---------------------------------------------------------------------------\u001b[0m",
      "\u001b[1;31mHttpError\u001b[0m                                 Traceback (most recent call last)",
      "\u001b[1;32m<ipython-input-136-48d3fc1e032e>\u001b[0m in \u001b[0;36m<module>\u001b[1;34m\u001b[0m\n\u001b[0;32m    101\u001b[0m     \u001b[0mservice\u001b[0m \u001b[1;33m=\u001b[0m \u001b[0mget_authenticated_service\u001b[0m\u001b[1;33m(\u001b[0m\u001b[1;33m)\u001b[0m\u001b[1;33m\u001b[0m\u001b[1;33m\u001b[0m\u001b[0m\n\u001b[0;32m    102\u001b[0m     \u001b[0mkeyword\u001b[0m \u001b[1;33m=\u001b[0m \u001b[0minput\u001b[0m\u001b[1;33m(\u001b[0m\u001b[1;34m'Enter a keyword: '\u001b[0m\u001b[1;33m)\u001b[0m\u001b[1;33m\u001b[0m\u001b[1;33m\u001b[0m\u001b[0m\n\u001b[1;32m--> 103\u001b[1;33m     \u001b[0msearch_videos_by_keyword\u001b[0m\u001b[1;33m(\u001b[0m\u001b[0mservice\u001b[0m\u001b[1;33m,\u001b[0m \u001b[0mq\u001b[0m\u001b[1;33m=\u001b[0m\u001b[0mkeyword\u001b[0m\u001b[1;33m,\u001b[0m \u001b[0mpart\u001b[0m\u001b[1;33m=\u001b[0m\u001b[1;34m'id,snippet'\u001b[0m\u001b[1;33m,\u001b[0m \u001b[0meventType\u001b[0m\u001b[1;33m=\u001b[0m\u001b[1;34m'completed'\u001b[0m\u001b[1;33m,\u001b[0m \u001b[0mtype\u001b[0m\u001b[1;33m=\u001b[0m\u001b[1;34m'video'\u001b[0m\u001b[1;33m)\u001b[0m\u001b[1;33m\u001b[0m\u001b[1;33m\u001b[0m\u001b[0m\n\u001b[0m\u001b[0;32m    104\u001b[0m \u001b[1;33m\u001b[0m\u001b[0m\n",
      "\u001b[1;32m<ipython-input-136-48d3fc1e032e>\u001b[0m in \u001b[0;36msearch_videos_by_keyword\u001b[1;34m(service, **kwargs)\u001b[0m\n\u001b[0;32m     87\u001b[0m         \u001b[0mtitle\u001b[0m \u001b[1;33m=\u001b[0m \u001b[0mitem\u001b[0m\u001b[1;33m[\u001b[0m\u001b[1;34m'snippet'\u001b[0m\u001b[1;33m]\u001b[0m\u001b[1;33m[\u001b[0m\u001b[1;34m'title'\u001b[0m\u001b[1;33m]\u001b[0m\u001b[1;33m\u001b[0m\u001b[1;33m\u001b[0m\u001b[0m\n\u001b[0;32m     88\u001b[0m         \u001b[0mvideo_id\u001b[0m \u001b[1;33m=\u001b[0m \u001b[0mitem\u001b[0m\u001b[1;33m[\u001b[0m\u001b[1;34m'id'\u001b[0m\u001b[1;33m]\u001b[0m\u001b[1;33m[\u001b[0m\u001b[1;34m'videoId'\u001b[0m\u001b[1;33m]\u001b[0m\u001b[1;33m\u001b[0m\u001b[1;33m\u001b[0m\u001b[0m\n\u001b[1;32m---> 89\u001b[1;33m         \u001b[0mcomments\u001b[0m \u001b[1;33m=\u001b[0m \u001b[0mget_video_comments\u001b[0m\u001b[1;33m(\u001b[0m\u001b[0mservice\u001b[0m\u001b[1;33m,\u001b[0m \u001b[0mpart\u001b[0m\u001b[1;33m=\u001b[0m\u001b[1;34m'snippet'\u001b[0m\u001b[1;33m,\u001b[0m \u001b[0mvideoId\u001b[0m\u001b[1;33m=\u001b[0m\u001b[0mvideo_id\u001b[0m\u001b[1;33m,\u001b[0m \u001b[0mtextFormat\u001b[0m\u001b[1;33m=\u001b[0m\u001b[1;34m'plainText'\u001b[0m\u001b[1;33m)\u001b[0m\u001b[1;33m\u001b[0m\u001b[1;33m\u001b[0m\u001b[0m\n\u001b[0m\u001b[0;32m     90\u001b[0m         \u001b[1;31m# make a tuple consisting of the video id, title, comment and add the result to\u001b[0m\u001b[1;33m\u001b[0m\u001b[1;33m\u001b[0m\u001b[1;33m\u001b[0m\u001b[0m\n\u001b[0;32m     91\u001b[0m         \u001b[1;31m# the final list\u001b[0m\u001b[1;33m\u001b[0m\u001b[1;33m\u001b[0m\u001b[1;33m\u001b[0m\u001b[0m\n",
      "\u001b[1;32m<ipython-input-136-48d3fc1e032e>\u001b[0m in \u001b[0;36mget_video_comments\u001b[1;34m(service, **kwargs)\u001b[0m\n\u001b[0;32m     45\u001b[0m         \u001b[1;32mif\u001b[0m \u001b[1;34m'nextPageToken'\u001b[0m \u001b[1;32min\u001b[0m \u001b[0mresults\u001b[0m\u001b[1;33m:\u001b[0m\u001b[1;33m\u001b[0m\u001b[1;33m\u001b[0m\u001b[0m\n\u001b[0;32m     46\u001b[0m             \u001b[0mkwargs\u001b[0m\u001b[1;33m[\u001b[0m\u001b[1;34m'pageToken'\u001b[0m\u001b[1;33m]\u001b[0m \u001b[1;33m=\u001b[0m \u001b[0mresults\u001b[0m\u001b[1;33m[\u001b[0m\u001b[1;34m'nextPageToken'\u001b[0m\u001b[1;33m]\u001b[0m\u001b[1;33m\u001b[0m\u001b[1;33m\u001b[0m\u001b[0m\n\u001b[1;32m---> 47\u001b[1;33m             \u001b[0mresults\u001b[0m \u001b[1;33m=\u001b[0m \u001b[0mservice\u001b[0m\u001b[1;33m.\u001b[0m\u001b[0mcommentThreads\u001b[0m\u001b[1;33m(\u001b[0m\u001b[1;33m)\u001b[0m\u001b[1;33m.\u001b[0m\u001b[0mlist\u001b[0m\u001b[1;33m(\u001b[0m\u001b[1;33m**\u001b[0m\u001b[0mkwargs\u001b[0m\u001b[1;33m)\u001b[0m\u001b[1;33m.\u001b[0m\u001b[0mexecute\u001b[0m\u001b[1;33m(\u001b[0m\u001b[1;33m)\u001b[0m\u001b[1;33m\u001b[0m\u001b[1;33m\u001b[0m\u001b[0m\n\u001b[0m\u001b[0;32m     48\u001b[0m         \u001b[1;32melse\u001b[0m\u001b[1;33m:\u001b[0m\u001b[1;33m\u001b[0m\u001b[1;33m\u001b[0m\u001b[0m\n\u001b[0;32m     49\u001b[0m             \u001b[1;32mbreak\u001b[0m\u001b[1;33m\u001b[0m\u001b[1;33m\u001b[0m\u001b[0m\n",
      "\u001b[1;32mD:\\Anaconda3\\lib\\site-packages\\googleapiclient\\_helpers.py\u001b[0m in \u001b[0;36mpositional_wrapper\u001b[1;34m(*args, **kwargs)\u001b[0m\n\u001b[0;32m    128\u001b[0m                 \u001b[1;32melif\u001b[0m \u001b[0mpositional_parameters_enforcement\u001b[0m \u001b[1;33m==\u001b[0m \u001b[0mPOSITIONAL_WARNING\u001b[0m\u001b[1;33m:\u001b[0m\u001b[1;33m\u001b[0m\u001b[1;33m\u001b[0m\u001b[0m\n\u001b[0;32m    129\u001b[0m                     \u001b[0mlogger\u001b[0m\u001b[1;33m.\u001b[0m\u001b[0mwarning\u001b[0m\u001b[1;33m(\u001b[0m\u001b[0mmessage\u001b[0m\u001b[1;33m)\u001b[0m\u001b[1;33m\u001b[0m\u001b[1;33m\u001b[0m\u001b[0m\n\u001b[1;32m--> 130\u001b[1;33m             \u001b[1;32mreturn\u001b[0m \u001b[0mwrapped\u001b[0m\u001b[1;33m(\u001b[0m\u001b[1;33m*\u001b[0m\u001b[0margs\u001b[0m\u001b[1;33m,\u001b[0m \u001b[1;33m**\u001b[0m\u001b[0mkwargs\u001b[0m\u001b[1;33m)\u001b[0m\u001b[1;33m\u001b[0m\u001b[1;33m\u001b[0m\u001b[0m\n\u001b[0m\u001b[0;32m    131\u001b[0m         \u001b[1;32mreturn\u001b[0m \u001b[0mpositional_wrapper\u001b[0m\u001b[1;33m\u001b[0m\u001b[1;33m\u001b[0m\u001b[0m\n\u001b[0;32m    132\u001b[0m \u001b[1;33m\u001b[0m\u001b[0m\n",
      "\u001b[1;32mD:\\Anaconda3\\lib\\site-packages\\googleapiclient\\http.py\u001b[0m in \u001b[0;36mexecute\u001b[1;34m(self, http, num_retries)\u001b[0m\n\u001b[0;32m    854\u001b[0m       \u001b[0mcallback\u001b[0m\u001b[1;33m(\u001b[0m\u001b[0mresp\u001b[0m\u001b[1;33m)\u001b[0m\u001b[1;33m\u001b[0m\u001b[1;33m\u001b[0m\u001b[0m\n\u001b[0;32m    855\u001b[0m     \u001b[1;32mif\u001b[0m \u001b[0mresp\u001b[0m\u001b[1;33m.\u001b[0m\u001b[0mstatus\u001b[0m \u001b[1;33m>=\u001b[0m \u001b[1;36m300\u001b[0m\u001b[1;33m:\u001b[0m\u001b[1;33m\u001b[0m\u001b[1;33m\u001b[0m\u001b[0m\n\u001b[1;32m--> 856\u001b[1;33m       \u001b[1;32mraise\u001b[0m \u001b[0mHttpError\u001b[0m\u001b[1;33m(\u001b[0m\u001b[0mresp\u001b[0m\u001b[1;33m,\u001b[0m \u001b[0mcontent\u001b[0m\u001b[1;33m,\u001b[0m \u001b[0muri\u001b[0m\u001b[1;33m=\u001b[0m\u001b[0mself\u001b[0m\u001b[1;33m.\u001b[0m\u001b[0muri\u001b[0m\u001b[1;33m)\u001b[0m\u001b[1;33m\u001b[0m\u001b[1;33m\u001b[0m\u001b[0m\n\u001b[0m\u001b[0;32m    857\u001b[0m     \u001b[1;32mreturn\u001b[0m \u001b[0mself\u001b[0m\u001b[1;33m.\u001b[0m\u001b[0mpostproc\u001b[0m\u001b[1;33m(\u001b[0m\u001b[0mresp\u001b[0m\u001b[1;33m,\u001b[0m \u001b[0mcontent\u001b[0m\u001b[1;33m)\u001b[0m\u001b[1;33m\u001b[0m\u001b[1;33m\u001b[0m\u001b[0m\n\u001b[0;32m    858\u001b[0m \u001b[1;33m\u001b[0m\u001b[0m\n",
      "\u001b[1;31mHttpError\u001b[0m: <HttpError 403 when requesting https://www.googleapis.com/youtube/v3/commentThreads?part=snippet&videoId=S81K-NiNrV0&textFormat=plainText&pageToken=QURTSl9pME00aVZ4MEV5UFIwd0t3TEctcklhaXpZQzRGeFE0aXZIZzc5OEprd2RNY2dkM2VzZHk5M2ptRXk4QW9xM0ZLa0k1ODRXTVM2ZEZXcjY0TWZzS2pTSE5qd0MtTXZqTEw0dTZ4bzlKN1cxUmhTTzcwaTUwSmI0M3JiVnhEbFVjTXdWRDd5QmZkaHM%3D&alt=json returned \"Daily Limit Exceeded. The quota will be reset at midnight Pacific Time (PT). You may monitor your quota usage and adjust limits in the API Console: https://console.developers.google.com/apis/api/youtube.googleapis.com/quotas?project=23456112772\">"
     ]
    }
   ],
   "source": [
    "# The CLIENT_SECRETS_FILE variable specifies the name of a file that contains\n",
    "# the OAuth 2.0 information for this application, including its client_id and\n",
    "# client_secret.\n",
    "CLIENT_SECRETS_FILE = \"client_secret.json\"\n",
    " \n",
    "# This OAuth 2.0 access scope allows for full read/write access to the\n",
    "# authenticated user's account and requires requests to use an SSL connection.\n",
    "SCOPES = ['https://www.googleapis.com/auth/youtube.force-ssl']\n",
    "API_SERVICE_NAME = 'youtube'\n",
    "API_VERSION = 'v3'\n",
    " \n",
    " \n",
    "def get_authenticated_service():\n",
    "    credentials = None\n",
    "    if os.path.exists('token.pickle'):\n",
    "        with open('token.pickle', 'rb') as token:\n",
    "            credentials = pickle.load(token)\n",
    "    #  Check if the credentials are invalid or do not exist\n",
    "    if not credentials or not credentials.valid:\n",
    "        # Check if the credentials have expired\n",
    "        if credentials and credentials.expired and credentials.refresh_token:\n",
    "            credentials.refresh(Request())\n",
    "        else:\n",
    "            flow = InstalledAppFlow.from_client_secrets_file(\n",
    "                CLIENT_SECRETS_FILE, SCOPES)\n",
    "            credentials = flow.run_console()\n",
    "\n",
    "        # Save the credentials for the next run\n",
    "        with open('token.pickle', 'wb') as token:\n",
    "            pickle.dump(credentials, token)\n",
    "\n",
    "    return build(API_SERVICE_NAME, API_VERSION, credentials = credentials)\n",
    " \n",
    " \n",
    "def get_video_comments(service, **kwargs):\n",
    "    comments = []\n",
    "    results = service.commentThreads().list(**kwargs).execute()\n",
    " \n",
    "    while results:\n",
    "        for item in results['items']:\n",
    "            comment = item['snippet']['topLevelComment']['snippet']['textDisplay']\n",
    "            comments.append(comment)\n",
    " \n",
    "        # Check if another page exists\n",
    "        if 'nextPageToken' in results:\n",
    "            kwargs['pageToken'] = results['nextPageToken']\n",
    "            results = service.commentThreads().list(**kwargs).execute()\n",
    "        else:\n",
    "            break\n",
    " \n",
    "    return comments\n",
    " \n",
    " \n",
    "def write_to_csv(comments):\n",
    "    with open('comments.csv', 'w') as comments_file:\n",
    "        comments_writer = csv.writer(comments_file, delimiter=',', quotechar='\"', quoting=csv.QUOTE_MINIMAL)\n",
    "        comments_writer.writerow(['Video ID', 'Title', 'COMMENT'])\n",
    "        for row in comments:\n",
    "            # convert the tuple to a list and write to the output file\n",
    "            comments_writer.writerow(list(row))\n",
    "\n",
    " \n",
    "def get_videos(service, **kwargs):\n",
    "    final_results = []\n",
    "    results = service.search().list(**kwargs).execute()\n",
    " \n",
    "    i = 0\n",
    "    max_pages = 3\n",
    "    while results and i < max_pages:\n",
    "        final_results.extend(results['items'])\n",
    " \n",
    "        # Check if another page exists\n",
    "        if 'nextPageToken' in results:\n",
    "            kwargs['pageToken'] = results['nextPageToken']\n",
    "            results = service.search().list(**kwargs).execute()\n",
    "            i += 1\n",
    "        else:\n",
    "            break\n",
    " \n",
    "    return final_results\n",
    " \n",
    " \n",
    "def search_videos_by_keyword(service, **kwargs):\n",
    "    results = get_videos(service, **kwargs)\n",
    "    final_result = []\n",
    "    for item in results:\n",
    "        title = item['snippet']['title']\n",
    "        video_id = item['id']['videoId']\n",
    "        comments = get_video_comments(service, part='snippet', videoId=video_id, textFormat='plainText')\n",
    "        # make a tuple consisting of the video id, title, comment and add the result to \n",
    "        # the final list\n",
    "        final_result.extend([(video_id, title, comment) for comment in comments]) \n",
    " \n",
    "    print(final_result)\n",
    "    write_to_csv(final_result)\n",
    " \n",
    "if __name__ == '__main__':\n",
    "    # When running locally, disable OAuthlib's HTTPs verification. When\n",
    "    # running in production *do not* leave this option enabled.\n",
    "    os.environ['OAUTHLIB_INSECURE_TRANSPORT'] = '1'\n",
    "    service = get_authenticated_service()\n",
    "    keyword = input('Enter a keyword: ')\n",
    "    search_videos_by_keyword(service, q=keyword, part='id,snippet', eventType='completed', type='video')\n",
    " "
   ]
  },
  {
   "cell_type": "markdown",
   "metadata": {},
   "source": [
    "<div class=title1>\n",
    "    <b><font size='3'>Get Data from CSV and Convert it DataFrame and Drop Duplicate</font></b>\n",
    "</div>"
   ]
  },
  {
   "cell_type": "code",
   "execution_count": 137,
   "metadata": {
    "ExecuteTime": {
     "end_time": "2019-10-31T07:50:24.551500Z",
     "start_time": "2019-10-31T07:50:24.544000Z"
    }
   },
   "outputs": [],
   "source": [
    "df = pd.read_csv('comments.csv')"
   ]
  },
  {
   "cell_type": "code",
   "execution_count": 138,
   "metadata": {
    "ExecuteTime": {
     "end_time": "2019-10-31T07:50:25.354000Z",
     "start_time": "2019-10-31T07:50:25.344000Z"
    }
   },
   "outputs": [
    {
     "data": {
      "text/html": [
       "<div>\n",
       "<style scoped>\n",
       "    .dataframe tbody tr th:only-of-type {\n",
       "        vertical-align: middle;\n",
       "    }\n",
       "\n",
       "    .dataframe tbody tr th {\n",
       "        vertical-align: top;\n",
       "    }\n",
       "\n",
       "    .dataframe thead th {\n",
       "        text-align: right;\n",
       "    }\n",
       "</style>\n",
       "<table border=\"1\" class=\"dataframe\">\n",
       "  <thead>\n",
       "    <tr style=\"text-align: right;\">\n",
       "      <th></th>\n",
       "      <th>COMMENT</th>\n",
       "    </tr>\n",
       "  </thead>\n",
       "  <tbody>\n",
       "    <tr>\n",
       "      <th>0</th>\n",
       "      <td>+447935454150 lovely girl talk to me xxx﻿</td>\n",
       "    </tr>\n",
       "    <tr>\n",
       "      <th>1</th>\n",
       "      <td>I always end up coming back to this song&lt;br /&gt;﻿</td>\n",
       "    </tr>\n",
       "    <tr>\n",
       "      <th>2</th>\n",
       "      <td>my sister just received over 6,500 new &lt;a rel=...</td>\n",
       "    </tr>\n",
       "    <tr>\n",
       "      <th>3</th>\n",
       "      <td>Cool﻿</td>\n",
       "    </tr>\n",
       "    <tr>\n",
       "      <th>4</th>\n",
       "      <td>Hello I&amp;#39;am from Palastine﻿</td>\n",
       "    </tr>\n",
       "  </tbody>\n",
       "</table>\n",
       "</div>"
      ],
      "text/plain": [
       "                                             COMMENT\n",
       "0          +447935454150 lovely girl talk to me xxx﻿\n",
       "1    I always end up coming back to this song<br />﻿\n",
       "2  my sister just received over 6,500 new <a rel=...\n",
       "3                                              Cool﻿\n",
       "4                     Hello I&#39;am from Palastine﻿"
      ]
     },
     "execution_count": 138,
     "metadata": {},
     "output_type": "execute_result"
    }
   ],
   "source": [
    "df = df[['COMMENT']]\n",
    "df.head()"
   ]
  },
  {
   "cell_type": "markdown",
   "metadata": {},
   "source": [
    "<div class=title1>\n",
    "    <b><font size='3'>Data Pre-Processing</font></b>\n",
    "</div>"
   ]
  },
  {
   "cell_type": "code",
   "execution_count": 139,
   "metadata": {
    "ExecuteTime": {
     "end_time": "2019-10-31T07:50:26.469000Z",
     "start_time": "2019-10-31T07:50:26.314000Z"
    }
   },
   "outputs": [],
   "source": [
    "#drop duplicate tweet \n",
    "g_unique = set()\n",
    "for item in df['COMMENT']:\n",
    "        g_unique.add(item) # ensures the element will only be copied if not already in the set\n",
    "com_yt = []\n",
    "for item in g_unique:\n",
    "    com_yt.append(item)\n",
    "    com_yt_df = pd.DataFrame(com_yt,columns = ['COMMENT'])"
   ]
  },
  {
   "cell_type": "code",
   "execution_count": 140,
   "metadata": {
    "ExecuteTime": {
     "end_time": "2019-10-31T07:50:26.601500Z",
     "start_time": "2019-10-31T07:50:26.596500Z"
    }
   },
   "outputs": [
    {
     "data": {
      "text/plain": [
       "412"
      ]
     },
     "execution_count": 140,
     "metadata": {},
     "output_type": "execute_result"
    }
   ],
   "source": [
    "len(com_yt_df)"
   ]
  },
  {
   "cell_type": "markdown",
   "metadata": {},
   "source": [
    "<div class=title1>\n",
    "    <b><font size='2'>Lower Casing</font></b>\n",
    "</div>"
   ]
  },
  {
   "cell_type": "code",
   "execution_count": 141,
   "metadata": {
    "ExecuteTime": {
     "end_time": "2019-10-31T07:50:27.236500Z",
     "start_time": "2019-10-31T07:50:27.221500Z"
    }
   },
   "outputs": [
    {
     "data": {
      "text/plain": [
       "0    thumbs up if you think this should have 1 bill...\n",
       "1                      i like the mmph version better﻿\n",
       "2                                      love this song﻿\n",
       "3                               plese subscribe to me﻿\n",
       "4                     hey, it&#39;s charlie from lost﻿\n",
       "Name: COMMENT, dtype: object"
      ]
     },
     "execution_count": 141,
     "metadata": {},
     "output_type": "execute_result"
    }
   ],
   "source": [
    "com_yt_df['COMMENT'] = com_yt_df['COMMENT'].apply(lambda x: \" \".join(x.lower() for x in x.split()))\n",
    "com_yt_df['COMMENT'].head()"
   ]
  },
  {
   "cell_type": "markdown",
   "metadata": {},
   "source": [
    "<div class=title1>\n",
    "    <b><font size='2'>Punctual Removal</font></b>\n",
    "</div>"
   ]
  },
  {
   "cell_type": "code",
   "execution_count": 142,
   "metadata": {
    "ExecuteTime": {
     "end_time": "2019-10-31T07:50:27.946500Z",
     "start_time": "2019-10-31T07:50:27.931500Z"
    }
   },
   "outputs": [
    {
     "data": {
      "text/html": [
       "<div>\n",
       "<style scoped>\n",
       "    .dataframe tbody tr th:only-of-type {\n",
       "        vertical-align: middle;\n",
       "    }\n",
       "\n",
       "    .dataframe tbody tr th {\n",
       "        vertical-align: top;\n",
       "    }\n",
       "\n",
       "    .dataframe thead th {\n",
       "        text-align: right;\n",
       "    }\n",
       "</style>\n",
       "<table border=\"1\" class=\"dataframe\">\n",
       "  <thead>\n",
       "    <tr style=\"text-align: right;\">\n",
       "      <th></th>\n",
       "      <th>COMMENT</th>\n",
       "    </tr>\n",
       "  </thead>\n",
       "  <tbody>\n",
       "    <tr>\n",
       "      <th>0</th>\n",
       "      <td>thumbs up if you think this should have 1 bill...</td>\n",
       "    </tr>\n",
       "    <tr>\n",
       "      <th>1</th>\n",
       "      <td>i like the mmph version better</td>\n",
       "    </tr>\n",
       "    <tr>\n",
       "      <th>2</th>\n",
       "      <td>love this song</td>\n",
       "    </tr>\n",
       "    <tr>\n",
       "      <th>3</th>\n",
       "      <td>plese subscribe to me</td>\n",
       "    </tr>\n",
       "    <tr>\n",
       "      <th>4</th>\n",
       "      <td>hey it39s charlie from lost</td>\n",
       "    </tr>\n",
       "  </tbody>\n",
       "</table>\n",
       "</div>"
      ],
      "text/plain": [
       "                                             COMMENT\n",
       "0  thumbs up if you think this should have 1 bill...\n",
       "1                     i like the mmph version better\n",
       "2                                     love this song\n",
       "3                              plese subscribe to me\n",
       "4                        hey it39s charlie from lost"
      ]
     },
     "execution_count": 142,
     "metadata": {},
     "output_type": "execute_result"
    }
   ],
   "source": [
    "com_yt_df['COMMENT'] = com_yt_df['COMMENT'].str.replace('[^\\w\\s]','')\n",
    "com_yt_df.head()"
   ]
  },
  {
   "cell_type": "markdown",
   "metadata": {
    "ExecuteTime": {
     "end_time": "2019-10-31T04:39:39.760000Z",
     "start_time": "2019-10-31T04:39:39.756000Z"
    }
   },
   "source": [
    "<div class=title1>\n",
    "    <b><font size='2'>Stopwords Removal</font></b>\n",
    "</div>"
   ]
  },
  {
   "cell_type": "code",
   "execution_count": 143,
   "metadata": {
    "ExecuteTime": {
     "end_time": "2019-10-31T07:50:28.706500Z",
     "start_time": "2019-10-31T07:50:28.666500Z"
    }
   },
   "outputs": [
    {
     "data": {
      "text/plain": [
       "0                         thumbs think 1 billion views\n",
       "1                             like mmph version better\n",
       "2                                            love song\n",
       "3                                      plese subscribe\n",
       "4                               hey it39s charlie lost\n",
       "5                                   noi hate way u lie\n",
       "6                              like lyrics music video\n",
       "7       eminem idol people españa mexico latinoamerica\n",
       "8    guys check extraordinary website called moneyg...\n",
       "9                                        favorite song\n",
       "Name: COMMENT, dtype: object"
      ]
     },
     "execution_count": 143,
     "metadata": {},
     "output_type": "execute_result"
    }
   ],
   "source": [
    "stop = stopwords.words('english')\n",
    "com_yt_df['COMMENT'] = com_yt_df['COMMENT'].apply(lambda x: \" \".join(x for x in x.split() if x not in stop))\n",
    "com_yt_df['COMMENT'].head(10)"
   ]
  },
  {
   "cell_type": "markdown",
   "metadata": {},
   "source": [
    "<div class=title1>\n",
    "    <b><font size='2'>Frequent Words Removal</font></b>\n",
    "</div>"
   ]
  },
  {
   "cell_type": "code",
   "execution_count": 144,
   "metadata": {
    "ExecuteTime": {
     "end_time": "2019-10-31T07:50:29.219000Z",
     "start_time": "2019-10-31T07:50:29.204000Z"
    }
   },
   "outputs": [
    {
     "data": {
      "text/plain": [
       "check        175\n",
       "like          72\n",
       "please        71\n",
       "song          69\n",
       "love          62\n",
       "channel       57\n",
       "subscribe     55\n",
       "video         55\n",
       "eminem        54\n",
       "guys          52\n",
       "dtype: int64"
      ]
     },
     "execution_count": 144,
     "metadata": {},
     "output_type": "execute_result"
    }
   ],
   "source": [
    "freq = pd.Series(' '.join(com_yt_df['COMMENT']).split()).value_counts()[:10]\n",
    "freq"
   ]
  },
  {
   "cell_type": "code",
   "execution_count": 145,
   "metadata": {
    "ExecuteTime": {
     "end_time": "2019-10-31T07:50:29.411500Z",
     "start_time": "2019-10-31T07:50:29.396500Z"
    }
   },
   "outputs": [
    {
     "data": {
      "text/plain": [
       "0    thumbs think 1 billion views\n",
       "1             mmph version better\n",
       "2                                \n",
       "3                           plese\n",
       "4          hey it39s charlie lost\n",
       "Name: COMMENT, dtype: object"
      ]
     },
     "execution_count": 145,
     "metadata": {},
     "output_type": "execute_result"
    }
   ],
   "source": [
    "freq = list(freq.index)\n",
    "com_yt_df['COMMENT'] = com_yt_df['COMMENT'].apply(lambda x: \" \".join(x for x in x.split() if x not in freq))\n",
    "com_yt_df['COMMENT'].head()"
   ]
  },
  {
   "cell_type": "markdown",
   "metadata": {},
   "source": [
    "<div class=title1>\n",
    "    <b><font size='2'>Rare Words Removal</font></b>\n",
    "</div>"
   ]
  },
  {
   "cell_type": "code",
   "execution_count": 146,
   "metadata": {
    "ExecuteTime": {
     "end_time": "2019-10-31T07:50:29.786500Z",
     "start_time": "2019-10-31T07:50:29.771500Z"
    }
   },
   "outputs": [
    {
     "data": {
      "text/plain": [
       "mexico                          1\n",
       "retrieve                        1\n",
       "taylor                          1\n",
       "worthless                       1\n",
       "increase                        1\n",
       "qiameth                         1\n",
       "depressed                       1\n",
       "growing                         1\n",
       "professor                       1\n",
       "niko20130926t220043613000hey    1\n",
       "dtype: int64"
      ]
     },
     "execution_count": 146,
     "metadata": {},
     "output_type": "execute_result"
    }
   ],
   "source": [
    "rare_word = pd.Series(' '.join(com_yt_df['COMMENT']).split()).value_counts()[-10:]\n",
    "rare_word"
   ]
  },
  {
   "cell_type": "code",
   "execution_count": 147,
   "metadata": {
    "ExecuteTime": {
     "end_time": "2019-10-31T07:50:30.171500Z",
     "start_time": "2019-10-31T07:50:29.951500Z"
    }
   },
   "outputs": [
    {
     "data": {
      "text/plain": [
       "0    thumbs think 1 billion views\n",
       "1             mmph version better\n",
       "2                                \n",
       "3                           plese\n",
       "4          hey it39s charlie lost\n",
       "Name: COMMENT, dtype: object"
      ]
     },
     "execution_count": 147,
     "metadata": {},
     "output_type": "execute_result"
    }
   ],
   "source": [
    "rare_word = list(rare_word.index)\n",
    "com_yt_df['COMMENT'] = com_yt_df['COMMENT'].apply(lambda x: \" \".join(x for x in x.split() if x not in freq))\n",
    "com_yt_df['COMMENT'].head()"
   ]
  },
  {
   "cell_type": "markdown",
   "metadata": {},
   "source": [
    "<div class=title1>\n",
    "    <b><font size='2'>Spelling Correction</font></b>\n",
    "</div>"
   ]
  },
  {
   "cell_type": "code",
   "execution_count": 148,
   "metadata": {
    "ExecuteTime": {
     "end_time": "2019-10-31T07:50:30.676500Z",
     "start_time": "2019-10-31T07:50:30.386500Z"
    }
   },
   "outputs": [
    {
     "data": {
      "text/plain": [
       "0    thumbs think 1 billion views\n",
       "1             much version better\n",
       "2                                \n",
       "3                          please\n",
       "4            hey its charlie lost\n",
       "Name: COMMENT, dtype: object"
      ]
     },
     "execution_count": 148,
     "metadata": {},
     "output_type": "execute_result"
    }
   ],
   "source": [
    "com_yt_df['COMMENT'][:5].apply(lambda x: str(TextBlob(x).correct()))"
   ]
  },
  {
   "cell_type": "markdown",
   "metadata": {},
   "source": [
    "<div class=title1>\n",
    "    <b><font size='2'>Tokenization</font></b>\n",
    "</div>"
   ]
  },
  {
   "cell_type": "code",
   "execution_count": 149,
   "metadata": {
    "ExecuteTime": {
     "end_time": "2019-10-31T07:50:30.841500Z",
     "start_time": "2019-10-31T07:50:30.831500Z"
    }
   },
   "outputs": [
    {
     "data": {
      "text/plain": [
       "WordList(['mmph', 'version', 'better'])"
      ]
     },
     "execution_count": 149,
     "metadata": {},
     "output_type": "execute_result"
    }
   ],
   "source": [
    "TextBlob(com_yt_df['COMMENT'][1]).words"
   ]
  },
  {
   "cell_type": "markdown",
   "metadata": {},
   "source": [
    "<div class=title1>\n",
    "    <b><font size='2'>Stemming</font></b>\n",
    "</div>"
   ]
  },
  {
   "cell_type": "code",
   "execution_count": 150,
   "metadata": {
    "ExecuteTime": {
     "end_time": "2019-10-31T07:50:31.391500Z",
     "start_time": "2019-10-31T07:50:31.236500Z"
    }
   },
   "outputs": [],
   "source": [
    "st = PorterStemmer()\n",
    "com_yt_df['COMMENT'] = com_yt_df['COMMENT'][:].apply(lambda x: \" \".join([st.stem(word) for word in x.split()]))"
   ]
  },
  {
   "cell_type": "markdown",
   "metadata": {
    "ExecuteTime": {
     "end_time": "2019-10-31T04:39:57.389000Z",
     "start_time": "2019-10-31T04:39:57.385000Z"
    }
   },
   "source": [
    "<div class=title1>\n",
    "    <b><font size='2'>Lematization</font></b>\n",
    "</div>"
   ]
  },
  {
   "cell_type": "code",
   "execution_count": 151,
   "metadata": {
    "ExecuteTime": {
     "end_time": "2019-10-31T07:50:31.736500Z",
     "start_time": "2019-10-31T07:50:31.676500Z"
    }
   },
   "outputs": [
    {
     "data": {
      "text/plain": [
       "0    thumb think 1 billion view\n",
       "1           mmph version better\n",
       "2                              \n",
       "3                         plese\n",
       "4          hey it39 charli lost\n",
       "Name: COMMENT, dtype: object"
      ]
     },
     "execution_count": 151,
     "metadata": {},
     "output_type": "execute_result"
    }
   ],
   "source": [
    "com_yt_df['COMMENT'] = com_yt_df['COMMENT'].apply(lambda x: \" \".join([Word(word).lemmatize() for word in x.split()]))\n",
    "com_yt_df['COMMENT'].head()"
   ]
  },
  {
   "cell_type": "markdown",
   "metadata": {},
   "source": [
    "<div class=title1>\n",
    "    <b><font size='3'>Data Exploration</font></b>\n",
    "</div>"
   ]
  },
  {
   "cell_type": "markdown",
   "metadata": {},
   "source": [
    "<div class=title1>\n",
    "    <b><font size='2'>Words Count</font></b>\n",
    "</div>"
   ]
  },
  {
   "cell_type": "code",
   "execution_count": 152,
   "metadata": {
    "ExecuteTime": {
     "end_time": "2019-10-31T07:50:32.334000Z",
     "start_time": "2019-10-31T07:50:32.319000Z"
    }
   },
   "outputs": [
    {
     "data": {
      "text/html": [
       "<div>\n",
       "<style scoped>\n",
       "    .dataframe tbody tr th:only-of-type {\n",
       "        vertical-align: middle;\n",
       "    }\n",
       "\n",
       "    .dataframe tbody tr th {\n",
       "        vertical-align: top;\n",
       "    }\n",
       "\n",
       "    .dataframe thead th {\n",
       "        text-align: right;\n",
       "    }\n",
       "</style>\n",
       "<table border=\"1\" class=\"dataframe\">\n",
       "  <thead>\n",
       "    <tr style=\"text-align: right;\">\n",
       "      <th></th>\n",
       "      <th>COMMENT</th>\n",
       "      <th>word_count</th>\n",
       "    </tr>\n",
       "  </thead>\n",
       "  <tbody>\n",
       "    <tr>\n",
       "      <th>0</th>\n",
       "      <td>thumb think 1 billion view</td>\n",
       "      <td>5</td>\n",
       "    </tr>\n",
       "    <tr>\n",
       "      <th>1</th>\n",
       "      <td>mmph version better</td>\n",
       "      <td>3</td>\n",
       "    </tr>\n",
       "    <tr>\n",
       "      <th>2</th>\n",
       "      <td></td>\n",
       "      <td>1</td>\n",
       "    </tr>\n",
       "    <tr>\n",
       "      <th>3</th>\n",
       "      <td>plese</td>\n",
       "      <td>1</td>\n",
       "    </tr>\n",
       "    <tr>\n",
       "      <th>4</th>\n",
       "      <td>hey it39 charli lost</td>\n",
       "      <td>4</td>\n",
       "    </tr>\n",
       "  </tbody>\n",
       "</table>\n",
       "</div>"
      ],
      "text/plain": [
       "                      COMMENT  word_count\n",
       "0  thumb think 1 billion view           5\n",
       "1         mmph version better           3\n",
       "2                                       1\n",
       "3                       plese           1\n",
       "4        hey it39 charli lost           4"
      ]
     },
     "execution_count": 152,
     "metadata": {},
     "output_type": "execute_result"
    }
   ],
   "source": [
    "com_yt_df['word_count'] = com_yt_df['COMMENT'].apply(lambda x: len(str(x).split(\" \")))\n",
    "com_yt_df.head()"
   ]
  },
  {
   "cell_type": "markdown",
   "metadata": {},
   "source": [
    "<div class=title1>\n",
    "    <b><font size='2'>Character Count</font></b>\n",
    "</div>"
   ]
  },
  {
   "cell_type": "code",
   "execution_count": 153,
   "metadata": {
    "ExecuteTime": {
     "end_time": "2019-10-31T07:50:32.731500Z",
     "start_time": "2019-10-31T07:50:32.716500Z"
    }
   },
   "outputs": [
    {
     "data": {
      "text/html": [
       "<div>\n",
       "<style scoped>\n",
       "    .dataframe tbody tr th:only-of-type {\n",
       "        vertical-align: middle;\n",
       "    }\n",
       "\n",
       "    .dataframe tbody tr th {\n",
       "        vertical-align: top;\n",
       "    }\n",
       "\n",
       "    .dataframe thead th {\n",
       "        text-align: right;\n",
       "    }\n",
       "</style>\n",
       "<table border=\"1\" class=\"dataframe\">\n",
       "  <thead>\n",
       "    <tr style=\"text-align: right;\">\n",
       "      <th></th>\n",
       "      <th>COMMENT</th>\n",
       "      <th>word_count</th>\n",
       "      <th>char_count</th>\n",
       "    </tr>\n",
       "  </thead>\n",
       "  <tbody>\n",
       "    <tr>\n",
       "      <th>0</th>\n",
       "      <td>thumb think 1 billion view</td>\n",
       "      <td>5</td>\n",
       "      <td>26</td>\n",
       "    </tr>\n",
       "    <tr>\n",
       "      <th>1</th>\n",
       "      <td>mmph version better</td>\n",
       "      <td>3</td>\n",
       "      <td>19</td>\n",
       "    </tr>\n",
       "    <tr>\n",
       "      <th>2</th>\n",
       "      <td></td>\n",
       "      <td>1</td>\n",
       "      <td>0</td>\n",
       "    </tr>\n",
       "    <tr>\n",
       "      <th>3</th>\n",
       "      <td>plese</td>\n",
       "      <td>1</td>\n",
       "      <td>5</td>\n",
       "    </tr>\n",
       "    <tr>\n",
       "      <th>4</th>\n",
       "      <td>hey it39 charli lost</td>\n",
       "      <td>4</td>\n",
       "      <td>20</td>\n",
       "    </tr>\n",
       "  </tbody>\n",
       "</table>\n",
       "</div>"
      ],
      "text/plain": [
       "                      COMMENT  word_count  char_count\n",
       "0  thumb think 1 billion view           5          26\n",
       "1         mmph version better           3          19\n",
       "2                                       1           0\n",
       "3                       plese           1           5\n",
       "4        hey it39 charli lost           4          20"
      ]
     },
     "execution_count": 153,
     "metadata": {},
     "output_type": "execute_result"
    }
   ],
   "source": [
    "com_yt_df['char_count'] = com_yt_df['COMMENT'].str.len()\n",
    "com_yt_df.head()"
   ]
  },
  {
   "cell_type": "markdown",
   "metadata": {},
   "source": [
    "<div class=title1>\n",
    "    <b><font size='2'>Stopwords Count</font></b>\n",
    "</div>"
   ]
  },
  {
   "cell_type": "code",
   "execution_count": 154,
   "metadata": {
    "ExecuteTime": {
     "end_time": "2019-10-31T07:50:33.151500Z",
     "start_time": "2019-10-31T07:50:33.114000Z"
    }
   },
   "outputs": [
    {
     "data": {
      "text/html": [
       "<div>\n",
       "<style scoped>\n",
       "    .dataframe tbody tr th:only-of-type {\n",
       "        vertical-align: middle;\n",
       "    }\n",
       "\n",
       "    .dataframe tbody tr th {\n",
       "        vertical-align: top;\n",
       "    }\n",
       "\n",
       "    .dataframe thead th {\n",
       "        text-align: right;\n",
       "    }\n",
       "</style>\n",
       "<table border=\"1\" class=\"dataframe\">\n",
       "  <thead>\n",
       "    <tr style=\"text-align: right;\">\n",
       "      <th></th>\n",
       "      <th>COMMENT</th>\n",
       "      <th>word_count</th>\n",
       "      <th>char_count</th>\n",
       "      <th>stopwords</th>\n",
       "    </tr>\n",
       "  </thead>\n",
       "  <tbody>\n",
       "    <tr>\n",
       "      <th>0</th>\n",
       "      <td>thumb think 1 billion view</td>\n",
       "      <td>5</td>\n",
       "      <td>26</td>\n",
       "      <td>0</td>\n",
       "    </tr>\n",
       "    <tr>\n",
       "      <th>1</th>\n",
       "      <td>mmph version better</td>\n",
       "      <td>3</td>\n",
       "      <td>19</td>\n",
       "      <td>0</td>\n",
       "    </tr>\n",
       "    <tr>\n",
       "      <th>2</th>\n",
       "      <td></td>\n",
       "      <td>1</td>\n",
       "      <td>0</td>\n",
       "      <td>0</td>\n",
       "    </tr>\n",
       "    <tr>\n",
       "      <th>3</th>\n",
       "      <td>plese</td>\n",
       "      <td>1</td>\n",
       "      <td>5</td>\n",
       "      <td>0</td>\n",
       "    </tr>\n",
       "    <tr>\n",
       "      <th>4</th>\n",
       "      <td>hey it39 charli lost</td>\n",
       "      <td>4</td>\n",
       "      <td>20</td>\n",
       "      <td>0</td>\n",
       "    </tr>\n",
       "  </tbody>\n",
       "</table>\n",
       "</div>"
      ],
      "text/plain": [
       "                      COMMENT  word_count  char_count  stopwords\n",
       "0  thumb think 1 billion view           5          26          0\n",
       "1         mmph version better           3          19          0\n",
       "2                                       1           0          0\n",
       "3                       plese           1           5          0\n",
       "4        hey it39 charli lost           4          20          0"
      ]
     },
     "execution_count": 154,
     "metadata": {},
     "output_type": "execute_result"
    }
   ],
   "source": [
    "stop = stopwords.words('english')\n",
    "com_yt_df['stopwords'] = com_yt_df['COMMENT'].apply(lambda x: len([x for x in x.split() if x in stop]))\n",
    "com_yt_df.head()"
   ]
  },
  {
   "cell_type": "markdown",
   "metadata": {},
   "source": [
    "<div class=title1>\n",
    "    <b><font size='2'>Special Characters Count</font></b>\n",
    "</div>"
   ]
  },
  {
   "cell_type": "code",
   "execution_count": 155,
   "metadata": {
    "ExecuteTime": {
     "end_time": "2019-10-31T07:50:33.999000Z",
     "start_time": "2019-10-31T07:50:33.981500Z"
    }
   },
   "outputs": [
    {
     "data": {
      "text/html": [
       "<div>\n",
       "<style scoped>\n",
       "    .dataframe tbody tr th:only-of-type {\n",
       "        vertical-align: middle;\n",
       "    }\n",
       "\n",
       "    .dataframe tbody tr th {\n",
       "        vertical-align: top;\n",
       "    }\n",
       "\n",
       "    .dataframe thead th {\n",
       "        text-align: right;\n",
       "    }\n",
       "</style>\n",
       "<table border=\"1\" class=\"dataframe\">\n",
       "  <thead>\n",
       "    <tr style=\"text-align: right;\">\n",
       "      <th></th>\n",
       "      <th>COMMENT</th>\n",
       "      <th>word_count</th>\n",
       "      <th>char_count</th>\n",
       "      <th>stopwords</th>\n",
       "      <th>spec_char</th>\n",
       "    </tr>\n",
       "  </thead>\n",
       "  <tbody>\n",
       "    <tr>\n",
       "      <th>0</th>\n",
       "      <td>thumb think 1 billion view</td>\n",
       "      <td>5</td>\n",
       "      <td>26</td>\n",
       "      <td>0</td>\n",
       "      <td>0</td>\n",
       "    </tr>\n",
       "    <tr>\n",
       "      <th>1</th>\n",
       "      <td>mmph version better</td>\n",
       "      <td>3</td>\n",
       "      <td>19</td>\n",
       "      <td>0</td>\n",
       "      <td>0</td>\n",
       "    </tr>\n",
       "    <tr>\n",
       "      <th>2</th>\n",
       "      <td></td>\n",
       "      <td>1</td>\n",
       "      <td>0</td>\n",
       "      <td>0</td>\n",
       "      <td>0</td>\n",
       "    </tr>\n",
       "    <tr>\n",
       "      <th>3</th>\n",
       "      <td>plese</td>\n",
       "      <td>1</td>\n",
       "      <td>5</td>\n",
       "      <td>0</td>\n",
       "      <td>0</td>\n",
       "    </tr>\n",
       "    <tr>\n",
       "      <th>4</th>\n",
       "      <td>hey it39 charli lost</td>\n",
       "      <td>4</td>\n",
       "      <td>20</td>\n",
       "      <td>0</td>\n",
       "      <td>0</td>\n",
       "    </tr>\n",
       "  </tbody>\n",
       "</table>\n",
       "</div>"
      ],
      "text/plain": [
       "                      COMMENT  word_count  char_count  stopwords  spec_char\n",
       "0  thumb think 1 billion view           5          26          0          0\n",
       "1         mmph version better           3          19          0          0\n",
       "2                                       1           0          0          0\n",
       "3                       plese           1           5          0          0\n",
       "4        hey it39 charli lost           4          20          0          0"
      ]
     },
     "execution_count": 155,
     "metadata": {},
     "output_type": "execute_result"
    }
   ],
   "source": [
    "com_yt_df['spec_char'] = com_yt_df['COMMENT'].apply(lambda x: len([x for x in x.split() if x.startswith('#')]))\n",
    "com_yt_df.head()"
   ]
  },
  {
   "cell_type": "markdown",
   "metadata": {},
   "source": [
    "<div class=title1>\n",
    "    <b><font size='3'>Labeling</font></b>\n",
    "</div>"
   ]
  },
  {
   "cell_type": "code",
   "execution_count": 156,
   "metadata": {
    "ExecuteTime": {
     "end_time": "2019-10-31T07:50:34.949000Z",
     "start_time": "2019-10-31T07:50:34.941500Z"
    }
   },
   "outputs": [],
   "source": [
    "new_df = df.copy()\n",
    "new_df.head()\n",
    "text = new_df.COMMENT"
   ]
  },
  {
   "cell_type": "code",
   "execution_count": 157,
   "metadata": {
    "ExecuteTime": {
     "end_time": "2019-10-31T07:50:35.786500Z",
     "start_time": "2019-10-31T07:50:35.599000Z"
    }
   },
   "outputs": [],
   "source": [
    "for i in range(0,len(text)):\n",
    "    textB = TextBlob(text[i])\n",
    "    sentiment = textB.sentiment.polarity\n",
    "    new_df.set_value(i,'sentiment', sentiment)\n",
    "    if sentiment < 0.00 :\n",
    "        sentimentclass = 'Negative'\n",
    "        new_df.set_value(i, 'sentimentclass', sentimentclass)\n",
    "    elif sentiment > 0.00 :\n",
    "        sentimentclass = 'Positive'\n",
    "        new_df.set_value(i, 'sentimentclass', sentimentclass)\n",
    "    else :\n",
    "        sentimentclass = ' Netral'\n",
    "        new_df.set_value(i, 'sentimentclass', sentimentclass)"
   ]
  },
  {
   "cell_type": "code",
   "execution_count": 158,
   "metadata": {
    "ExecuteTime": {
     "end_time": "2019-10-31T07:50:35.926500Z",
     "start_time": "2019-10-31T07:50:35.904000Z"
    }
   },
   "outputs": [
    {
     "data": {
      "text/html": [
       "<div>\n",
       "<style scoped>\n",
       "    .dataframe tbody tr th:only-of-type {\n",
       "        vertical-align: middle;\n",
       "    }\n",
       "\n",
       "    .dataframe tbody tr th {\n",
       "        vertical-align: top;\n",
       "    }\n",
       "\n",
       "    .dataframe thead th {\n",
       "        text-align: right;\n",
       "    }\n",
       "</style>\n",
       "<table border=\"1\" class=\"dataframe\">\n",
       "  <thead>\n",
       "    <tr style=\"text-align: right;\">\n",
       "      <th></th>\n",
       "      <th>COMMENT</th>\n",
       "      <th>sentiment</th>\n",
       "      <th>sentimentclass</th>\n",
       "    </tr>\n",
       "  </thead>\n",
       "  <tbody>\n",
       "    <tr>\n",
       "      <th>0</th>\n",
       "      <td>+447935454150 lovely girl talk to me xxx﻿</td>\n",
       "      <td>0.500000</td>\n",
       "      <td>Positive</td>\n",
       "    </tr>\n",
       "    <tr>\n",
       "      <th>1</th>\n",
       "      <td>I always end up coming back to this song&lt;br /&gt;﻿</td>\n",
       "      <td>0.000000</td>\n",
       "      <td>Netral</td>\n",
       "    </tr>\n",
       "    <tr>\n",
       "      <th>2</th>\n",
       "      <td>my sister just received over 6,500 new &lt;a rel=...</td>\n",
       "      <td>0.140693</td>\n",
       "      <td>Positive</td>\n",
       "    </tr>\n",
       "    <tr>\n",
       "      <th>3</th>\n",
       "      <td>Cool﻿</td>\n",
       "      <td>0.000000</td>\n",
       "      <td>Netral</td>\n",
       "    </tr>\n",
       "    <tr>\n",
       "      <th>4</th>\n",
       "      <td>Hello I&amp;#39;am from Palastine﻿</td>\n",
       "      <td>0.000000</td>\n",
       "      <td>Netral</td>\n",
       "    </tr>\n",
       "    <tr>\n",
       "      <th>...</th>\n",
       "      <td>...</td>\n",
       "      <td>...</td>\n",
       "      <td>...</td>\n",
       "    </tr>\n",
       "    <tr>\n",
       "      <th>443</th>\n",
       "      <td>SUBSCRIBE TO MY CHANNEL X PLEASE!. SPARE</td>\n",
       "      <td>0.000000</td>\n",
       "      <td>Netral</td>\n",
       "    </tr>\n",
       "    <tr>\n",
       "      <th>444</th>\n",
       "      <td>Check out my videos guy! :) Hope you guys had ...</td>\n",
       "      <td>0.625000</td>\n",
       "      <td>Positive</td>\n",
       "    </tr>\n",
       "    <tr>\n",
       "      <th>445</th>\n",
       "      <td>3 yrs ago I had a health scare but thankfully ...</td>\n",
       "      <td>0.124362</td>\n",
       "      <td>Positive</td>\n",
       "    </tr>\n",
       "    <tr>\n",
       "      <th>446</th>\n",
       "      <td>Rihanna looks so beautiful with red hair ;)﻿</td>\n",
       "      <td>0.366667</td>\n",
       "      <td>Positive</td>\n",
       "    </tr>\n",
       "    <tr>\n",
       "      <th>447</th>\n",
       "      <td>857.482.940 views AWESOME !!!!!!!!!!!!!!!!!!!!...</td>\n",
       "      <td>1.000000</td>\n",
       "      <td>Positive</td>\n",
       "    </tr>\n",
       "  </tbody>\n",
       "</table>\n",
       "<p>448 rows × 3 columns</p>\n",
       "</div>"
      ],
      "text/plain": [
       "                                               COMMENT  sentiment  \\\n",
       "0            +447935454150 lovely girl talk to me xxx﻿   0.500000   \n",
       "1      I always end up coming back to this song<br />﻿   0.000000   \n",
       "2    my sister just received over 6,500 new <a rel=...   0.140693   \n",
       "3                                                Cool﻿   0.000000   \n",
       "4                       Hello I&#39;am from Palastine﻿   0.000000   \n",
       "..                                                 ...        ...   \n",
       "443           SUBSCRIBE TO MY CHANNEL X PLEASE!. SPARE   0.000000   \n",
       "444  Check out my videos guy! :) Hope you guys had ...   0.625000   \n",
       "445  3 yrs ago I had a health scare but thankfully ...   0.124362   \n",
       "446       Rihanna looks so beautiful with red hair ;)﻿   0.366667   \n",
       "447  857.482.940 views AWESOME !!!!!!!!!!!!!!!!!!!!...   1.000000   \n",
       "\n",
       "    sentimentclass  \n",
       "0         Positive  \n",
       "1           Netral  \n",
       "2         Positive  \n",
       "3           Netral  \n",
       "4           Netral  \n",
       "..             ...  \n",
       "443         Netral  \n",
       "444       Positive  \n",
       "445       Positive  \n",
       "446       Positive  \n",
       "447       Positive  \n",
       "\n",
       "[448 rows x 3 columns]"
      ]
     },
     "execution_count": 158,
     "metadata": {},
     "output_type": "execute_result"
    }
   ],
   "source": [
    "new_df = new_df[['COMMENT','sentiment','sentimentclass']]\n",
    "new_df"
   ]
  },
  {
   "cell_type": "markdown",
   "metadata": {},
   "source": [
    "<div class=title1>\n",
    "    <b><font size='3'>Aggregation of SentimentClass</font></b>\n",
    "</div>"
   ]
  },
  {
   "cell_type": "code",
   "execution_count": 159,
   "metadata": {
    "ExecuteTime": {
     "end_time": "2019-10-31T07:50:36.896500Z",
     "start_time": "2019-10-31T07:50:36.871500Z"
    }
   },
   "outputs": [
    {
     "data": {
      "text/html": [
       "<div>\n",
       "<style scoped>\n",
       "    .dataframe tbody tr th:only-of-type {\n",
       "        vertical-align: middle;\n",
       "    }\n",
       "\n",
       "    .dataframe tbody tr th {\n",
       "        vertical-align: top;\n",
       "    }\n",
       "\n",
       "    .dataframe thead th {\n",
       "        text-align: right;\n",
       "    }\n",
       "</style>\n",
       "<table border=\"1\" class=\"dataframe\">\n",
       "  <thead>\n",
       "    <tr style=\"text-align: right;\">\n",
       "      <th></th>\n",
       "      <th>sentimentclass</th>\n",
       "      <th>tweet_count</th>\n",
       "      <th>percent</th>\n",
       "    </tr>\n",
       "  </thead>\n",
       "  <tbody>\n",
       "    <tr>\n",
       "      <th>0</th>\n",
       "      <td>Netral</td>\n",
       "      <td>185</td>\n",
       "      <td>0.412946</td>\n",
       "    </tr>\n",
       "    <tr>\n",
       "      <th>1</th>\n",
       "      <td>Negative</td>\n",
       "      <td>31</td>\n",
       "      <td>0.069196</td>\n",
       "    </tr>\n",
       "    <tr>\n",
       "      <th>2</th>\n",
       "      <td>Positive</td>\n",
       "      <td>232</td>\n",
       "      <td>0.517857</td>\n",
       "    </tr>\n",
       "  </tbody>\n",
       "</table>\n",
       "</div>"
      ],
      "text/plain": [
       "  sentimentclass  tweet_count   percent\n",
       "0         Netral          185  0.412946\n",
       "1       Negative           31  0.069196\n",
       "2       Positive          232  0.517857"
      ]
     },
     "execution_count": 159,
     "metadata": {},
     "output_type": "execute_result"
    }
   ],
   "source": [
    "#count sentiment \n",
    "sentiment = new_df.groupby(['sentimentclass'])['sentimentclass'].count()\n",
    "\n",
    "#make dataframe that will be created a chart \n",
    "chart = pd.DataFrame(sentiment)\n",
    "chart['tweet_count'] = chart['sentimentclass']\n",
    "chart.drop(['sentimentclass'], axis = 1, inplace = True )\n",
    "chart = chart.reset_index()\n",
    "\n",
    "#make a proportion of the number of tweet of each sentiment \n",
    "chart['percent'] = chart['tweet_count']/chart['tweet_count'].sum()\n",
    "chart"
   ]
  },
  {
   "cell_type": "markdown",
   "metadata": {},
   "source": [
    "<div class=title1>\n",
    "    <b><font size='3'>Visualization</font></b>\n",
    "</div>"
   ]
  },
  {
   "cell_type": "markdown",
   "metadata": {},
   "source": [
    "<div class=title1>\n",
    "    <b><font size='2'>Bar Chart/font></b>\n",
    "</div>"
   ]
  },
  {
   "cell_type": "code",
   "execution_count": 160,
   "metadata": {
    "ExecuteTime": {
     "end_time": "2019-10-31T07:50:38.245500Z",
     "start_time": "2019-10-31T07:50:38.070500Z"
    }
   },
   "outputs": [
    {
     "data": {
      "image/png": "[encoded data removed]",
      "text/plain": [
       "<Figure size 432x288 with 1 Axes>"
      ]
     },
     "metadata": {
      "needs_background": "light"
     },
     "output_type": "display_data"
    }
   ],
   "source": [
    "#make a barchar\n",
    "ax = sns.barplot(x= 'sentimentclass', y='tweet_count', data=chart)\n",
    "ax = ax.set_title('The number of sentiment for each class') "
   ]
  },
  {
   "cell_type": "markdown",
   "metadata": {
    "ExecuteTime": {
     "end_time": "2019-10-31T04:46:54.605000Z",
     "start_time": "2019-10-31T04:46:54.601000Z"
    }
   },
   "source": [
    "<div class=title1>\n",
    "    <b><font size='2'>Pie Chart</font></b>\n",
    "</div>"
   ]
  },
  {
   "cell_type": "code",
   "execution_count": 161,
   "metadata": {
    "ExecuteTime": {
     "end_time": "2019-10-31T07:50:39.119500Z",
     "start_time": "2019-10-31T07:50:38.970000Z"
    }
   },
   "outputs": [
    {
     "data": {
      "text/plain": [
       "(-1.1100616326353163,\n",
       " 1.1009182166409737,\n",
       " -1.2249019427552508,\n",
       " 1.1125459637720465)"
      ]
     },
     "execution_count": 161,
     "metadata": {},
     "output_type": "execute_result"
    },
    {
     "data": {
      "image/png": "[encoded data removed]",
      "text/plain": [
       "<Figure size 720x432 with 1 Axes>"
      ]
     },
     "metadata": {},
     "output_type": "display_data"
    }
   ],
   "source": [
    "colors = [ 'lightskyblue','red','yellowgreen']\n",
    "explode = (0, 0.2, 0)  # explode 1st slice\n",
    "# Plot\n",
    "figure = plt.figure(figsize= (10,6))\n",
    "plt.pie(chart['tweet_count'], explode=explode, labels=chart['sentimentclass'], colors=colors,\n",
    "autopct='%1.1f%%', shadow=True, startangle=140)\n",
    "plt.axis('equal')"
   ]
  },
  {
   "cell_type": "markdown",
   "metadata": {},
   "source": [
    "<div class=title1>\n",
    "    <b><font size='3'>Data Preparation</font></b>\n",
    "</div>"
   ]
  },
  {
   "cell_type": "code",
   "execution_count": 162,
   "metadata": {
    "ExecuteTime": {
     "end_time": "2019-10-31T07:50:40.857000Z",
     "start_time": "2019-10-31T07:50:40.849500Z"
    }
   },
   "outputs": [],
   "source": [
    "new_df_c = new_df[['COMMENT','sentimentclass']]"
   ]
  },
  {
   "cell_type": "code",
   "execution_count": 163,
   "metadata": {
    "ExecuteTime": {
     "end_time": "2019-10-31T07:50:41.422000Z",
     "start_time": "2019-10-31T07:50:41.409500Z"
    }
   },
   "outputs": [
    {
     "data": {
      "text/html": [
       "<div>\n",
       "<style scoped>\n",
       "    .dataframe tbody tr th:only-of-type {\n",
       "        vertical-align: middle;\n",
       "    }\n",
       "\n",
       "    .dataframe tbody tr th {\n",
       "        vertical-align: top;\n",
       "    }\n",
       "\n",
       "    .dataframe thead th {\n",
       "        text-align: right;\n",
       "    }\n",
       "</style>\n",
       "<table border=\"1\" class=\"dataframe\">\n",
       "  <thead>\n",
       "    <tr style=\"text-align: right;\">\n",
       "      <th></th>\n",
       "      <th>COMMENT</th>\n",
       "      <th>sentimentclass</th>\n",
       "    </tr>\n",
       "  </thead>\n",
       "  <tbody>\n",
       "    <tr>\n",
       "      <th>0</th>\n",
       "      <td>+447935454150 lovely girl talk to me xxx﻿</td>\n",
       "      <td>Positive</td>\n",
       "    </tr>\n",
       "    <tr>\n",
       "      <th>1</th>\n",
       "      <td>I always end up coming back to this song&lt;br /&gt;﻿</td>\n",
       "      <td>Netral</td>\n",
       "    </tr>\n",
       "    <tr>\n",
       "      <th>2</th>\n",
       "      <td>my sister just received over 6,500 new &lt;a rel=...</td>\n",
       "      <td>Positive</td>\n",
       "    </tr>\n",
       "    <tr>\n",
       "      <th>3</th>\n",
       "      <td>Cool﻿</td>\n",
       "      <td>Netral</td>\n",
       "    </tr>\n",
       "    <tr>\n",
       "      <th>4</th>\n",
       "      <td>Hello I&amp;#39;am from Palastine﻿</td>\n",
       "      <td>Netral</td>\n",
       "    </tr>\n",
       "    <tr>\n",
       "      <th>...</th>\n",
       "      <td>...</td>\n",
       "      <td>...</td>\n",
       "    </tr>\n",
       "    <tr>\n",
       "      <th>443</th>\n",
       "      <td>SUBSCRIBE TO MY CHANNEL X PLEASE!. SPARE</td>\n",
       "      <td>Netral</td>\n",
       "    </tr>\n",
       "    <tr>\n",
       "      <th>444</th>\n",
       "      <td>Check out my videos guy! :) Hope you guys had ...</td>\n",
       "      <td>Positive</td>\n",
       "    </tr>\n",
       "    <tr>\n",
       "      <th>445</th>\n",
       "      <td>3 yrs ago I had a health scare but thankfully ...</td>\n",
       "      <td>Positive</td>\n",
       "    </tr>\n",
       "    <tr>\n",
       "      <th>446</th>\n",
       "      <td>Rihanna looks so beautiful with red hair ;)﻿</td>\n",
       "      <td>Positive</td>\n",
       "    </tr>\n",
       "    <tr>\n",
       "      <th>447</th>\n",
       "      <td>857.482.940 views AWESOME !!!!!!!!!!!!!!!!!!!!...</td>\n",
       "      <td>Positive</td>\n",
       "    </tr>\n",
       "  </tbody>\n",
       "</table>\n",
       "<p>448 rows × 2 columns</p>\n",
       "</div>"
      ],
      "text/plain": [
       "                                               COMMENT sentimentclass\n",
       "0            +447935454150 lovely girl talk to me xxx﻿       Positive\n",
       "1      I always end up coming back to this song<br />﻿         Netral\n",
       "2    my sister just received over 6,500 new <a rel=...       Positive\n",
       "3                                                Cool﻿         Netral\n",
       "4                       Hello I&#39;am from Palastine﻿         Netral\n",
       "..                                                 ...            ...\n",
       "443           SUBSCRIBE TO MY CHANNEL X PLEASE!. SPARE         Netral\n",
       "444  Check out my videos guy! :) Hope you guys had ...       Positive\n",
       "445  3 yrs ago I had a health scare but thankfully ...       Positive\n",
       "446       Rihanna looks so beautiful with red hair ;)﻿       Positive\n",
       "447  857.482.940 views AWESOME !!!!!!!!!!!!!!!!!!!!...       Positive\n",
       "\n",
       "[448 rows x 2 columns]"
      ]
     },
     "execution_count": 163,
     "metadata": {},
     "output_type": "execute_result"
    }
   ],
   "source": [
    "new_df_c"
   ]
  },
  {
   "cell_type": "markdown",
   "metadata": {},
   "source": [
    "<div class=title1>\n",
    "    <b><font size='3'>Data Pre-Processing</font></b>\n",
    "</div>"
   ]
  },
  {
   "cell_type": "markdown",
   "metadata": {},
   "source": [
    "<div class=title1>\n",
    "    <b><font size='2'>Pre-Processing</font></b>\n",
    "</div>"
   ]
  },
  {
   "cell_type": "code",
   "execution_count": 164,
   "metadata": {
    "ExecuteTime": {
     "end_time": "2019-10-31T07:50:43.799500Z",
     "start_time": "2019-10-31T07:50:43.772000Z"
    }
   },
   "outputs": [],
   "source": [
    "stop = stopwords.words('english')\n",
    "new_df_c['COMMENT'] = new_df_c['COMMENT'].apply(lambda x: \" \".join(x for x in x.split() if x not in stop))"
   ]
  },
  {
   "cell_type": "code",
   "execution_count": 165,
   "metadata": {
    "ExecuteTime": {
     "end_time": "2019-10-31T07:50:44.219500Z",
     "start_time": "2019-10-31T07:50:44.172000Z"
    }
   },
   "outputs": [],
   "source": [
    "#lematization \n",
    "new_df_c['COMMENT']  = new_df_c['COMMENT'] .apply(lambda x: \" \".join([Word(word).lemmatize() for word in x.split()]))"
   ]
  },
  {
   "cell_type": "markdown",
   "metadata": {},
   "source": [
    "<div class=title1>\n",
    "    <b><font size='2'>Data Exploration</font></b>\n",
    "</div>"
   ]
  },
  {
   "cell_type": "code",
   "execution_count": 166,
   "metadata": {
    "ExecuteTime": {
     "end_time": "2019-10-31T07:50:45.034500Z",
     "start_time": "2019-10-31T07:50:45.017000Z"
    }
   },
   "outputs": [
    {
     "data": {
      "text/html": [
       "<div>\n",
       "<style scoped>\n",
       "    .dataframe tbody tr th:only-of-type {\n",
       "        vertical-align: middle;\n",
       "    }\n",
       "\n",
       "    .dataframe tbody tr th {\n",
       "        vertical-align: top;\n",
       "    }\n",
       "\n",
       "    .dataframe thead th {\n",
       "        text-align: right;\n",
       "    }\n",
       "</style>\n",
       "<table border=\"1\" class=\"dataframe\">\n",
       "  <thead>\n",
       "    <tr style=\"text-align: right;\">\n",
       "      <th></th>\n",
       "      <th>sentimentclass</th>\n",
       "      <th>tweet_count</th>\n",
       "      <th>percent</th>\n",
       "    </tr>\n",
       "  </thead>\n",
       "  <tbody>\n",
       "    <tr>\n",
       "      <th>0</th>\n",
       "      <td>Netral</td>\n",
       "      <td>185</td>\n",
       "      <td>0.412946</td>\n",
       "    </tr>\n",
       "    <tr>\n",
       "      <th>1</th>\n",
       "      <td>Negative</td>\n",
       "      <td>31</td>\n",
       "      <td>0.069196</td>\n",
       "    </tr>\n",
       "    <tr>\n",
       "      <th>2</th>\n",
       "      <td>Positive</td>\n",
       "      <td>232</td>\n",
       "      <td>0.517857</td>\n",
       "    </tr>\n",
       "  </tbody>\n",
       "</table>\n",
       "</div>"
      ],
      "text/plain": [
       "  sentimentclass  tweet_count   percent\n",
       "0         Netral          185  0.412946\n",
       "1       Negative           31  0.069196\n",
       "2       Positive          232  0.517857"
      ]
     },
     "execution_count": 166,
     "metadata": {},
     "output_type": "execute_result"
    }
   ],
   "source": [
    "#count sentiment \n",
    "sentiment = new_df_c.groupby(['sentimentclass'])['sentimentclass'].count()\n",
    "sentiment\n",
    "\n",
    "#make dataframe that will be created a chart \n",
    "chart = pd.DataFrame(sentiment)\n",
    "chart['tweet_count'] = chart['sentimentclass']\n",
    "chart.drop(['sentimentclass'], axis = 1, inplace = True )\n",
    "chart = chart.reset_index()\n",
    "\n",
    "#make a proportion of the number of tweet of each sentiment \n",
    "chart['percent'] = chart['tweet_count']/chart['tweet_count'].sum()\n",
    "chart"
   ]
  },
  {
   "cell_type": "markdown",
   "metadata": {},
   "source": [
    "<div class=title1>\n",
    "    <b><font size='3'>Feature Extraction</font></b>\n",
    "</div>"
   ]
  },
  {
   "cell_type": "markdown",
   "metadata": {
    "ExecuteTime": {
     "end_time": "2019-10-31T05:13:47.555000Z",
     "start_time": "2019-10-31T05:13:47.551000Z"
    }
   },
   "source": [
    "<div class=title1>\n",
    "    <b><font size='2'>Count Vectorizer</font></b>\n",
    "</div>"
   ]
  },
  {
   "cell_type": "code",
   "execution_count": 167,
   "metadata": {
    "ExecuteTime": {
     "end_time": "2019-10-31T07:50:46.517000Z",
     "start_time": "2019-10-31T07:50:46.512000Z"
    }
   },
   "outputs": [],
   "source": [
    "count_vectorizer = CountVectorizer(stop_words='english')"
   ]
  },
  {
   "cell_type": "markdown",
   "metadata": {},
   "source": [
    "<div class=title1>\n",
    "    <b><font size='2'>TF-IDF Vectorizer</font></b>\n",
    "</div>"
   ]
  },
  {
   "cell_type": "code",
   "execution_count": 168,
   "metadata": {
    "ExecuteTime": {
     "end_time": "2019-10-31T07:50:47.214500Z",
     "start_time": "2019-10-31T07:50:47.209500Z"
    }
   },
   "outputs": [],
   "source": [
    "tfidf = TfidfVectorizer(stop_words='english')"
   ]
  },
  {
   "cell_type": "markdown",
   "metadata": {},
   "source": [
    "<div class=title1>\n",
    "    <b><font size='3'>Modeling</font></b>\n",
    "</div>"
   ]
  },
  {
   "cell_type": "markdown",
   "metadata": {},
   "source": [
    "<div class=title1>\n",
    "    <b><font size='2'>Train-Test Split</font></b>\n",
    "</div>"
   ]
  },
  {
   "cell_type": "code",
   "execution_count": 169,
   "metadata": {
    "ExecuteTime": {
     "end_time": "2019-10-31T07:50:48.562000Z",
     "start_time": "2019-10-31T07:50:48.557000Z"
    }
   },
   "outputs": [],
   "source": [
    "X = new_df_c['COMMENT']\n",
    "y = new_df_c['sentimentclass']"
   ]
  },
  {
   "cell_type": "code",
   "execution_count": 170,
   "metadata": {
    "ExecuteTime": {
     "end_time": "2019-10-31T07:50:49.012000Z",
     "start_time": "2019-10-31T07:50:48.959500Z"
    }
   },
   "outputs": [],
   "source": [
    "#countvectorizer\n",
    "X_vectorizer = count_vectorizer.fit_transform(X)\n",
    "\n",
    "#tfidf vectorizer\n",
    "X_tfidf = tfidf.fit_transform(X)\n",
    "\n",
    "#train test split using countvectorizer \n",
    "train_X_vectorizer, test_X_vectorizer, train_y, test_y = train_test_split(X_vectorizer, y, test_size=0.2, random_state=0)\n",
    "\n",
    "#train test split using tfidfvectorizer \n",
    "train_X_tfidf, test_X_tfidf, train_y, test_y = train_test_split(X_tfidf, y, test_size=0.2, random_state=0)"
   ]
  },
  {
   "cell_type": "markdown",
   "metadata": {},
   "source": [
    "<div class=title1>\n",
    "    <b><font size='2'>Machine Learning - Logistic Regression</font></b>\n",
    "</div>"
   ]
  },
  {
   "cell_type": "code",
   "execution_count": 171,
   "metadata": {
    "ExecuteTime": {
     "end_time": "2019-10-31T07:50:49.892000Z",
     "start_time": "2019-10-31T07:50:49.874500Z"
    }
   },
   "outputs": [],
   "source": [
    "# Countvectorizer \n",
    "Lr_vect = LogisticRegression()\n",
    "Lr_vect.fit(train_X_vectorizer,train_y)\n",
    "Lr_pred_vect_train = Lr_vect.predict(train_X_vectorizer)\n",
    "Lr_pred_vect_test = Lr_vect.predict(test_X_vectorizer)\n",
    "# TFIDFVectorizer\n",
    "Lr_tfidf = LogisticRegression()\n",
    "Lr_tfidf.fit(train_X_tfidf,train_y)\n",
    "Lr_pred_tfidf_train = Lr_tfidf.predict(train_X_tfidf)\n",
    "Lr_pred_tfidf_test = Lr_tfidf.predict(test_X_tfidf)"
   ]
  },
  {
   "cell_type": "markdown",
   "metadata": {},
   "source": [
    "<div class=title1>\n",
    "    <b><font size='2'>Machine Learning - Logistic Regression - Evaluation</font></b>\n",
    "</div>"
   ]
  },
  {
   "cell_type": "code",
   "execution_count": 172,
   "metadata": {
    "ExecuteTime": {
     "end_time": "2019-10-31T07:50:50.959000Z",
     "start_time": "2019-10-31T07:50:50.901500Z"
    }
   },
   "outputs": [
    {
     "name": "stdout",
     "output_type": "stream",
     "text": [
      "______________ Countvectorizer ______________\n",
      "Information :\n",
      "Recall train & test     : 93.85% & 77.78%\n",
      "Precision train & test  : 93.85% & 77.78%\n",
      "F1 Score train & test   : 93.85% & 77.78%\n"
     ]
    }
   ],
   "source": [
    "# using count vectorizer\n",
    "print(\"______________ Countvectorizer ______________\")\n",
    "\n",
    "# Lr_clf_vec_report_train = classification_report(train_y, Lr_pred_vect_train)\n",
    "# Lr_clf_vec_report_test = classification_report(test_y, Lr_pred_vect_test)\n",
    "\n",
    "# Lr_confmatrix_vect_train = confusion_matrix(train_y, Lr_pred_vect_train) \n",
    "# Lr_confmatrix_vect_test = confusion_matrix(test_y, Lr_pred_vect_test)\n",
    "\n",
    "Lr_recall_vec_train = recall_score(train_y, Lr_pred_vect_train, average=\"micro\")\n",
    "Lr_recall_vec_test = recall_score(test_y, Lr_pred_vect_test,average=\"micro\") \n",
    "\n",
    "Lr_precision_vec_train = precision_score(train_y, Lr_pred_vect_train,average=\"micro\")\n",
    "Lr_precision_vec_test = precision_score(test_y, Lr_pred_vect_test,average=\"micro\")\n",
    "\n",
    "Lr_f1_score_vec_train = f1_score(train_y, Lr_pred_vect_train,average=\"micro\")\n",
    "Lr_f1_score_vec_test = f1_score(test_y,Lr_pred_vect_test,average=\"micro\")\n",
    "\n",
    "print('Information :')\n",
    "# print('Confusion matrix for Train :')\n",
    "# print(Lr_confmatrix_vect_train,'\\n')\n",
    "# print('Confusion matrix for Test :')\n",
    "# print(Lr_confmatrix_vect_test,'\\n')\n",
    "# print('Classification Refort for Train :')\n",
    "# print(Lr_clf_vec_report_train,'\\n')\n",
    "# print('Classification Refort for Test :')\n",
    "# print(Lr_clf_vec_report_test,'\\n')\n",
    "print('Recall train & test     : %.2f%%' % (Lr_recall_vec_train * 100), '&', '%.2f%%' % (Lr_recall_vec_test * 100))\n",
    "print('Precision train & test  : %.2f%%' % (Lr_precision_vec_train * 100), '&', '%.2f%%' % (Lr_precision_vec_test * 100))\n",
    "print('F1 Score train & test   : %.2f%%' % (Lr_f1_score_vec_train * 100), '&', '%.2f%%' % (Lr_f1_score_vec_test * 100))"
   ]
  },
  {
   "cell_type": "code",
   "execution_count": 173,
   "metadata": {
    "ExecuteTime": {
     "end_time": "2019-10-31T07:50:51.683500Z",
     "start_time": "2019-10-31T07:50:51.648500Z"
    }
   },
   "outputs": [
    {
     "name": "stdout",
     "output_type": "stream",
     "text": [
      "______________ TF-IDF ______________\n",
      "Information :\n",
      "Recall train & test     : 86.59% & 63.33%\n",
      "Precision train & test  : 86.59% & 63.33%\n",
      "F1 Score train & test   : 86.59% & 77.78%\n"
     ]
    }
   ],
   "source": [
    "# using count vectorizer\n",
    "print(\"______________ TF-IDF ______________\")\n",
    "\n",
    "\n",
    "Lr_recall_tfidf_train = recall_score(train_y, Lr_pred_tfidf_train, average=\"micro\")\n",
    "Lr_recall_tfidf_test = recall_score(test_y, Lr_pred_tfidf_test,average=\"micro\") \n",
    "\n",
    "Lr_precision_tfidf_train = precision_score(train_y, Lr_pred_tfidf_train,average=\"micro\")\n",
    "Lr_precision_tfidf_test = precision_score(test_y, Lr_pred_tfidf_test,average=\"micro\")\n",
    "\n",
    "Lr_f1_score_tfidf_train = f1_score(train_y, Lr_pred_tfidf_train,average=\"micro\")\n",
    "Lr_f1_score_tfidf_test = f1_score(test_y,Lr_pred_tfidf_test,average=\"micro\")\n",
    "\n",
    "print('Information :')\n",
    "print('Recall train & test     : %.2f%%' % (Lr_recall_tfidf_train * 100), '&', '%.2f%%' % (Lr_recall_tfidf_test * 100))\n",
    "print('Precision train & test  : %.2f%%' % (Lr_precision_tfidf_train * 100), '&', '%.2f%%' % (Lr_precision_tfidf_test * 100))\n",
    "print('F1 Score train & test   : %.2f%%' % (Lr_f1_score_tfidf_train * 100), '&', '%.2f%%' % (Lr_f1_score_vec_test * 100))"
   ]
  }
 ],
 "metadata": {
  "hide_input": false,
  "kernelspec": {
   "display_name": "Python 3",
   "language": "python",
   "name": "python3"
  },
  "language_info": {
   "codemirror_mode": {
    "name": "ipython",
    "version": 3
   },
   "file_extension": ".py",
   "mimetype": "text/x-python",
   "name": "python",
   "nbconvert_exporter": "python",
   "pygments_lexer": "ipython3",
   "version": "3.7.4"
  },
  "toc": {
   "base_numbering": 1,
   "nav_menu": {},
   "number_sections": true,
   "sideBar": true,
   "skip_h1_title": false,
   "title_cell": "Table of Contents",
   "title_sidebar": "Contents",
   "toc_cell": false,
   "toc_position": {},
   "toc_section_display": true,
   "toc_window_display": false
  }
 },
 "nbformat": 4,
 "nbformat_minor": 2
}
