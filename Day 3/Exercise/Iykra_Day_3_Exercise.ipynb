{
 "cells": [
  {
   "cell_type": "markdown",
   "metadata": {},
   "source": [
    " # <center>DAY 3 - IYKRA</center>\n",
    "<center><font size=\"6\">Foundation of Python Programming</font></center>\n",
    "<hr>\n",
    "<p style=\"text-align:center\"> **Author**</p>\n",
    "<center>**Joshua Effendi**</center>"
   ]
  },
  {
   "cell_type": "code",
   "execution_count": 1,
   "metadata": {
    "collapsed": true
   },
   "outputs": [],
   "source": [
    "import numpy as np\n",
    "import pandas as pd"
   ]
  },
  {
   "cell_type": "code",
   "execution_count": 2,
   "metadata": {
    "collapsed": true
   },
   "outputs": [],
   "source": [
    "imdb = pd.read_csv(\"https://raw.githubusercontent.com/scalabretta/GroupProject--IMDB/master/Dataset/IMDB-database-update.csv\", encoding='latin1')"
   ]
  },
  {
   "cell_type": "markdown",
   "metadata": {},
   "source": [
    "## Exercise 1"
   ]
  },
  {
   "cell_type": "markdown",
   "metadata": {},
   "source": [
    "** No.1 How many rows and columns reflected on dataset file IMDB-database-update.csv?**"
   ]
  },
  {
   "cell_type": "code",
   "execution_count": 3,
   "metadata": {},
   "outputs": [
    {
     "name": "stdout",
     "output_type": "stream",
     "text": [
      "Rows in IMDB-database-update.csv had been drop duplicates is 3781 and columns is 36\n"
     ]
    }
   ],
   "source": [
    "print('Rows in IMDB-database-update.csv had been drop duplicates is {} and columns is {}'.format(imdb.shape[0],imdb.shape[1]))"
   ]
  },
  {
   "cell_type": "code",
   "execution_count": 4,
   "metadata": {
    "collapsed": true
   },
   "outputs": [],
   "source": [
    "imdb = imdb.drop_duplicates(subset=\"movie_title\")"
   ]
  },
  {
   "cell_type": "markdown",
   "metadata": {},
   "source": [
    "**No.2  What are the top 3 movies with highest nett profit in 2015?**"
   ]
  },
  {
   "cell_type": "code",
   "execution_count": 5,
   "metadata": {},
   "outputs": [
    {
     "data": {
      "text/html": [
       "<div>\n",
       "<style>\n",
       "    .dataframe thead tr:only-child th {\n",
       "        text-align: right;\n",
       "    }\n",
       "\n",
       "    .dataframe thead th {\n",
       "        text-align: left;\n",
       "    }\n",
       "\n",
       "    .dataframe tbody tr th {\n",
       "        vertical-align: top;\n",
       "    }\n",
       "</style>\n",
       "<table border=\"1\" class=\"dataframe\">\n",
       "  <thead>\n",
       "    <tr style=\"text-align: right;\">\n",
       "      <th></th>\n",
       "      <th>movie_title</th>\n",
       "      <th>net_USD</th>\n",
       "    </tr>\n",
       "  </thead>\n",
       "  <tbody>\n",
       "    <tr>\n",
       "      <th>0</th>\n",
       "      <td>Jurassic World</td>\n",
       "      <td>502177271</td>\n",
       "    </tr>\n",
       "    <tr>\n",
       "      <th>1</th>\n",
       "      <td>Minions</td>\n",
       "      <td>262029560</td>\n",
       "    </tr>\n",
       "    <tr>\n",
       "      <th>2</th>\n",
       "      <td>Avengers: Age of Ultron</td>\n",
       "      <td>208991599</td>\n",
       "    </tr>\n",
       "  </tbody>\n",
       "</table>\n",
       "</div>"
      ],
      "text/plain": [
       "               movie_title    net_USD\n",
       "0           Jurassic World  502177271\n",
       "1                  Minions  262029560\n",
       "2  Avengers: Age of Ultron  208991599"
      ]
     },
     "execution_count": 5,
     "metadata": {},
     "output_type": "execute_result"
    }
   ],
   "source": [
    "imdb[imdb['title_year']==2015][['movie_title','net_USD']].sort_values(by=['net_USD'], ascending=False)[0:3].reset_index(drop=True)"
   ]
  },
  {
   "cell_type": "markdown",
   "metadata": {},
   "source": [
    "**No.3 What are the top 3 movies with highest gross profit in 2016?**"
   ]
  },
  {
   "cell_type": "code",
   "execution_count": 6,
   "metadata": {},
   "outputs": [
    {
     "data": {
      "text/html": [
       "<div>\n",
       "<style>\n",
       "    .dataframe thead tr:only-child th {\n",
       "        text-align: right;\n",
       "    }\n",
       "\n",
       "    .dataframe thead th {\n",
       "        text-align: left;\n",
       "    }\n",
       "\n",
       "    .dataframe tbody tr th {\n",
       "        vertical-align: top;\n",
       "    }\n",
       "</style>\n",
       "<table border=\"1\" class=\"dataframe\">\n",
       "  <thead>\n",
       "    <tr style=\"text-align: right;\">\n",
       "      <th></th>\n",
       "      <th>movie_title</th>\n",
       "      <th>net_USD</th>\n",
       "    </tr>\n",
       "  </thead>\n",
       "  <tbody>\n",
       "    <tr>\n",
       "      <th>0</th>\n",
       "      <td>Deadpool</td>\n",
       "      <td>305024263</td>\n",
       "    </tr>\n",
       "    <tr>\n",
       "      <th>1</th>\n",
       "      <td>The Secret Life of Pets</td>\n",
       "      <td>248505540</td>\n",
       "    </tr>\n",
       "    <tr>\n",
       "      <th>2</th>\n",
       "      <td>The Jungle Book</td>\n",
       "      <td>187645141</td>\n",
       "    </tr>\n",
       "  </tbody>\n",
       "</table>\n",
       "</div>"
      ],
      "text/plain": [
       "               movie_title    net_USD\n",
       "0                 Deadpool  305024263\n",
       "1  The Secret Life of Pets  248505540\n",
       "2          The Jungle Book  187645141"
      ]
     },
     "execution_count": 6,
     "metadata": {},
     "output_type": "execute_result"
    }
   ],
   "source": [
    "imdb[imdb['title_year']==2016][['movie_title','net_USD']].sort_values(by=['net_USD'], ascending=False)[0:3].reset_index(drop=True)"
   ]
  },
  {
   "cell_type": "markdown",
   "metadata": {},
   "source": [
    "**No.4 How many non-english movies are in the dataset? **"
   ]
  },
  {
   "cell_type": "code",
   "execution_count": 7,
   "metadata": {},
   "outputs": [
    {
     "name": "stdout",
     "output_type": "stream",
     "text": [
      "The movie with non-English language: 152\n",
      "\n"
     ]
    }
   ],
   "source": [
    "print(\"\"\"The movie with non-English language: {}\n",
    "\"\"\".format(imdb[imdb['language']!='English'].shape[0]))"
   ]
  },
  {
   "cell_type": "markdown",
   "metadata": {},
   "source": [
    "**No. 5 What are top 3 languages in the data set aside English (based on number of movies)?**"
   ]
  },
  {
   "cell_type": "code",
   "execution_count": 8,
   "metadata": {},
   "outputs": [
    {
     "data": {
      "text/html": [
       "<div>\n",
       "<style>\n",
       "    .dataframe thead tr:only-child th {\n",
       "        text-align: right;\n",
       "    }\n",
       "\n",
       "    .dataframe thead th {\n",
       "        text-align: left;\n",
       "    }\n",
       "\n",
       "    .dataframe tbody tr th {\n",
       "        vertical-align: top;\n",
       "    }\n",
       "</style>\n",
       "<table border=\"1\" class=\"dataframe\">\n",
       "  <thead>\n",
       "    <tr style=\"text-align: right;\">\n",
       "      <th></th>\n",
       "      <th>movie_ID</th>\n",
       "    </tr>\n",
       "    <tr>\n",
       "      <th>language</th>\n",
       "      <th></th>\n",
       "    </tr>\n",
       "  </thead>\n",
       "  <tbody>\n",
       "    <tr>\n",
       "      <th>French</th>\n",
       "      <td>33</td>\n",
       "    </tr>\n",
       "    <tr>\n",
       "      <th>Spanish</th>\n",
       "      <td>23</td>\n",
       "    </tr>\n",
       "    <tr>\n",
       "      <th>Mandarin</th>\n",
       "      <td>13</td>\n",
       "    </tr>\n",
       "  </tbody>\n",
       "</table>\n",
       "</div>"
      ],
      "text/plain": [
       "          movie_ID\n",
       "language          \n",
       "French          33\n",
       "Spanish         23\n",
       "Mandarin        13"
      ]
     },
     "execution_count": 8,
     "metadata": {},
     "output_type": "execute_result"
    }
   ],
   "source": [
    "imdb[imdb['language']!='English'].groupby('language').count().sort_values(by=['movie_ID'], ascending=False)[['movie_ID']][0:3]"
   ]
  },
  {
   "cell_type": "markdown",
   "metadata": {},
   "source": [
    "**No. 6 What are the top 3 countries with the highest nett profit in all dataset times?**"
   ]
  },
  {
   "cell_type": "code",
   "execution_count": 9,
   "metadata": {},
   "outputs": [
    {
     "data": {
      "text/html": [
       "<div>\n",
       "<style>\n",
       "    .dataframe thead tr:only-child th {\n",
       "        text-align: right;\n",
       "    }\n",
       "\n",
       "    .dataframe thead th {\n",
       "        text-align: left;\n",
       "    }\n",
       "\n",
       "    .dataframe tbody tr th {\n",
       "        vertical-align: top;\n",
       "    }\n",
       "</style>\n",
       "<table border=\"1\" class=\"dataframe\">\n",
       "  <thead>\n",
       "    <tr style=\"text-align: right;\">\n",
       "      <th></th>\n",
       "      <th>net_USD</th>\n",
       "    </tr>\n",
       "    <tr>\n",
       "      <th>country</th>\n",
       "      <th></th>\n",
       "    </tr>\n",
       "  </thead>\n",
       "  <tbody>\n",
       "    <tr>\n",
       "      <th>USA</th>\n",
       "      <td>50330300012</td>\n",
       "    </tr>\n",
       "    <tr>\n",
       "      <th>UK</th>\n",
       "      <td>1279724445</td>\n",
       "    </tr>\n",
       "    <tr>\n",
       "      <th>Canada</th>\n",
       "      <td>232040577</td>\n",
       "    </tr>\n",
       "  </tbody>\n",
       "</table>\n",
       "</div>"
      ],
      "text/plain": [
       "             net_USD\n",
       "country             \n",
       "USA      50330300012\n",
       "UK        1279724445\n",
       "Canada     232040577"
      ]
     },
     "execution_count": 9,
     "metadata": {},
     "output_type": "execute_result"
    }
   ],
   "source": [
    "imdb.groupby('country').sum().sort_values(by=['net_USD'], ascending=False)[['net_USD']][0:3]"
   ]
  },
  {
   "cell_type": "markdown",
   "metadata": {},
   "source": [
    "**No.7 What are the average budget of all movies in dataset in 2015?**"
   ]
  },
  {
   "cell_type": "code",
   "execution_count": 10,
   "metadata": {},
   "outputs": [
    {
     "name": "stdout",
     "output_type": "stream",
     "text": [
      "52102458.3333\n"
     ]
    }
   ],
   "source": [
    "x=imdb[imdb['title_year']==2015][['budget_USD']].mean()[0]\n",
    "print(x)"
   ]
  },
  {
   "cell_type": "markdown",
   "metadata": {},
   "source": [
    "**No.8 What are the average budget of all movies in dataset in 2016?**"
   ]
  },
  {
   "cell_type": "code",
   "execution_count": 11,
   "metadata": {},
   "outputs": [
    {
     "name": "stdout",
     "output_type": "stream",
     "text": [
      "66014754.0984\n"
     ]
    }
   ],
   "source": [
    "y=imdb[imdb['title_year']==2016][['budget_USD']].mean()[0]\n",
    "print(y)"
   ]
  },
  {
   "cell_type": "markdown",
   "metadata": {},
   "source": [
    "**No. 9 Which one is higher, average budget of all movies in dataset in 2015 or 2016?**"
   ]
  },
  {
   "cell_type": "code",
   "execution_count": 12,
   "metadata": {},
   "outputs": [
    {
     "name": "stdout",
     "output_type": "stream",
     "text": [
      "Higher average budget: $66014754.09836066 and year is 2016\n"
     ]
    }
   ],
   "source": [
    "if x > y:\n",
    "    print('Higher average budget: ${} and year is 2015'.format(x))\n",
    "elif x < y:\n",
    "    print('Higher average budget: ${} and year is 2016'.format(y))\n",
    "else:\n",
    "    print('No higher average budget')"
   ]
  },
  {
   "cell_type": "markdown",
   "metadata": {},
   "source": [
    "**No.10 What movie that resulted highest nett profit of all dataset times? How much did the movie make?**"
   ]
  },
  {
   "cell_type": "code",
   "execution_count": 13,
   "metadata": {},
   "outputs": [
    {
     "data": {
      "text/html": [
       "<div>\n",
       "<style>\n",
       "    .dataframe thead tr:only-child th {\n",
       "        text-align: right;\n",
       "    }\n",
       "\n",
       "    .dataframe thead th {\n",
       "        text-align: left;\n",
       "    }\n",
       "\n",
       "    .dataframe tbody tr th {\n",
       "        vertical-align: top;\n",
       "    }\n",
       "</style>\n",
       "<table border=\"1\" class=\"dataframe\">\n",
       "  <thead>\n",
       "    <tr style=\"text-align: right;\">\n",
       "      <th></th>\n",
       "      <th>movie_title</th>\n",
       "      <th>net_USD</th>\n",
       "    </tr>\n",
       "  </thead>\n",
       "  <tbody>\n",
       "    <tr>\n",
       "      <th>0</th>\n",
       "      <td>Avatar</td>\n",
       "      <td>523505847</td>\n",
       "    </tr>\n",
       "  </tbody>\n",
       "</table>\n",
       "</div>"
      ],
      "text/plain": [
       "  movie_title    net_USD\n",
       "0      Avatar  523505847"
      ]
     },
     "execution_count": 13,
     "metadata": {},
     "output_type": "execute_result"
    }
   ],
   "source": [
    "imdb.sort_values(by=['net_USD'],ascending=False)[['movie_title','net_USD']][0:1]"
   ]
  },
  {
   "cell_type": "markdown",
   "metadata": {},
   "source": [
    "## Exercise 2"
   ]
  },
  {
   "cell_type": "markdown",
   "metadata": {},
   "source": [
    " **Let’s set imdb_score benchmark as High-Rating movie with imdb_score > 7.5**"
   ]
  },
  {
   "cell_type": "markdown",
   "metadata": {},
   "source": [
    "**Create new variables “score_group” (“High” if imdb_score > 7.5 and “Low” if imdb <= 7.5)**"
   ]
  },
  {
   "cell_type": "code",
   "execution_count": 14,
   "metadata": {},
   "outputs": [
    {
     "data": {
      "text/html": [
       "<div>\n",
       "<style>\n",
       "    .dataframe thead tr:only-child th {\n",
       "        text-align: right;\n",
       "    }\n",
       "\n",
       "    .dataframe thead th {\n",
       "        text-align: left;\n",
       "    }\n",
       "\n",
       "    .dataframe tbody tr th {\n",
       "        vertical-align: top;\n",
       "    }\n",
       "</style>\n",
       "<table border=\"1\" class=\"dataframe\">\n",
       "  <thead>\n",
       "    <tr style=\"text-align: right;\">\n",
       "      <th></th>\n",
       "      <th>movie_ID</th>\n",
       "      <th>movie_title</th>\n",
       "      <th>duration</th>\n",
       "      <th>color</th>\n",
       "      <th>title_year</th>\n",
       "      <th>country</th>\n",
       "      <th>language</th>\n",
       "      <th>content_rating</th>\n",
       "      <th>budget_USD</th>\n",
       "      <th>gross_USD</th>\n",
       "      <th>...</th>\n",
       "      <th>actor_3_facebook_likes</th>\n",
       "      <th>cast_total_facebook_likes</th>\n",
       "      <th>movie_facebook?</th>\n",
       "      <th>movie_facebook_likes;</th>\n",
       "      <th>facenumber_in_poster</th>\n",
       "      <th>num_voted_users</th>\n",
       "      <th>num_user_for_reviews</th>\n",
       "      <th>imdb_score</th>\n",
       "      <th>imdb_top_250</th>\n",
       "      <th>score_group</th>\n",
       "    </tr>\n",
       "  </thead>\n",
       "  <tbody>\n",
       "    <tr>\n",
       "      <th>0</th>\n",
       "      <td>1</td>\n",
       "      <td>Avatar</td>\n",
       "      <td>178</td>\n",
       "      <td>1</td>\n",
       "      <td>2009</td>\n",
       "      <td>USA</td>\n",
       "      <td>English</td>\n",
       "      <td>PG-13</td>\n",
       "      <td>237000000</td>\n",
       "      <td>760505847</td>\n",
       "      <td>...</td>\n",
       "      <td>855</td>\n",
       "      <td>4834</td>\n",
       "      <td>1</td>\n",
       "      <td>33000</td>\n",
       "      <td>0</td>\n",
       "      <td>886204</td>\n",
       "      <td>3054</td>\n",
       "      <td>7.9</td>\n",
       "      <td>0</td>\n",
       "      <td>High</td>\n",
       "    </tr>\n",
       "    <tr>\n",
       "      <th>1</th>\n",
       "      <td>2</td>\n",
       "      <td>Pirates of the Caribbean: At World's End</td>\n",
       "      <td>169</td>\n",
       "      <td>1</td>\n",
       "      <td>2007</td>\n",
       "      <td>USA</td>\n",
       "      <td>English</td>\n",
       "      <td>PG-13</td>\n",
       "      <td>300000000</td>\n",
       "      <td>309404152</td>\n",
       "      <td>...</td>\n",
       "      <td>1000</td>\n",
       "      <td>48350</td>\n",
       "      <td>0</td>\n",
       "      <td>0</td>\n",
       "      <td>0</td>\n",
       "      <td>471220</td>\n",
       "      <td>1238</td>\n",
       "      <td>7.1</td>\n",
       "      <td>0</td>\n",
       "      <td>Low</td>\n",
       "    </tr>\n",
       "    <tr>\n",
       "      <th>2</th>\n",
       "      <td>3</td>\n",
       "      <td>The Dark Knight Rises</td>\n",
       "      <td>164</td>\n",
       "      <td>1</td>\n",
       "      <td>2012</td>\n",
       "      <td>USA</td>\n",
       "      <td>English</td>\n",
       "      <td>PG-13</td>\n",
       "      <td>250000000</td>\n",
       "      <td>448130642</td>\n",
       "      <td>...</td>\n",
       "      <td>23000</td>\n",
       "      <td>106759</td>\n",
       "      <td>1</td>\n",
       "      <td>164000</td>\n",
       "      <td>0</td>\n",
       "      <td>1144337</td>\n",
       "      <td>2701</td>\n",
       "      <td>8.5</td>\n",
       "      <td>1</td>\n",
       "      <td>High</td>\n",
       "    </tr>\n",
       "    <tr>\n",
       "      <th>3</th>\n",
       "      <td>4</td>\n",
       "      <td>Spider-Man 3</td>\n",
       "      <td>156</td>\n",
       "      <td>1</td>\n",
       "      <td>2007</td>\n",
       "      <td>USA</td>\n",
       "      <td>English</td>\n",
       "      <td>PG-13</td>\n",
       "      <td>258000000</td>\n",
       "      <td>336530303</td>\n",
       "      <td>...</td>\n",
       "      <td>4000</td>\n",
       "      <td>46055</td>\n",
       "      <td>0</td>\n",
       "      <td>0</td>\n",
       "      <td>0</td>\n",
       "      <td>383056</td>\n",
       "      <td>1902</td>\n",
       "      <td>6.2</td>\n",
       "      <td>0</td>\n",
       "      <td>Low</td>\n",
       "    </tr>\n",
       "    <tr>\n",
       "      <th>4</th>\n",
       "      <td>5</td>\n",
       "      <td>Batman v Superman: Dawn of Justice</td>\n",
       "      <td>183</td>\n",
       "      <td>1</td>\n",
       "      <td>2016</td>\n",
       "      <td>USA</td>\n",
       "      <td>English</td>\n",
       "      <td>PG-13</td>\n",
       "      <td>250000000</td>\n",
       "      <td>330249062</td>\n",
       "      <td>...</td>\n",
       "      <td>2000</td>\n",
       "      <td>24450</td>\n",
       "      <td>1</td>\n",
       "      <td>197000</td>\n",
       "      <td>0</td>\n",
       "      <td>371639</td>\n",
       "      <td>3018</td>\n",
       "      <td>6.9</td>\n",
       "      <td>0</td>\n",
       "      <td>Low</td>\n",
       "    </tr>\n",
       "  </tbody>\n",
       "</table>\n",
       "<p>5 rows × 37 columns</p>\n",
       "</div>"
      ],
      "text/plain": [
       "   movie_ID                               movie_title  duration  color  \\\n",
       "0         1                                    Avatar       178      1   \n",
       "1         2  Pirates of the Caribbean: At World's End       169      1   \n",
       "2         3                     The Dark Knight Rises       164      1   \n",
       "3         4                              Spider-Man 3       156      1   \n",
       "4         5        Batman v Superman: Dawn of Justice       183      1   \n",
       "\n",
       "   title_year country language content_rating  budget_USD  gross_USD  \\\n",
       "0        2009     USA  English          PG-13   237000000  760505847   \n",
       "1        2007     USA  English          PG-13   300000000  309404152   \n",
       "2        2012     USA  English          PG-13   250000000  448130642   \n",
       "3        2007     USA  English          PG-13   258000000  336530303   \n",
       "4        2016     USA  English          PG-13   250000000  330249062   \n",
       "\n",
       "      ...       actor_3_facebook_likes  cast_total_facebook_likes  \\\n",
       "0     ...                          855                       4834   \n",
       "1     ...                         1000                      48350   \n",
       "2     ...                        23000                     106759   \n",
       "3     ...                         4000                      46055   \n",
       "4     ...                         2000                      24450   \n",
       "\n",
       "  movie_facebook? movie_facebook_likes;  facenumber_in_poster  \\\n",
       "0               1                 33000                     0   \n",
       "1               0                     0                     0   \n",
       "2               1                164000                     0   \n",
       "3               0                     0                     0   \n",
       "4               1                197000                     0   \n",
       "\n",
       "   num_voted_users num_user_for_reviews  imdb_score  imdb_top_250  score_group  \n",
       "0           886204                 3054         7.9             0         High  \n",
       "1           471220                 1238         7.1             0          Low  \n",
       "2          1144337                 2701         8.5             1         High  \n",
       "3           383056                 1902         6.2             0          Low  \n",
       "4           371639                 3018         6.9             0          Low  \n",
       "\n",
       "[5 rows x 37 columns]"
      ]
     },
     "execution_count": 14,
     "metadata": {},
     "output_type": "execute_result"
    }
   ],
   "source": [
    "imdb.loc[imdb.imdb_score > 7.5, 'score_group'] = 'High'\n",
    "imdb.loc[imdb.imdb_score <= 7.5, 'score_group'] = 'Low'\n",
    "imdb.head()"
   ]
  },
  {
   "cell_type": "markdown",
   "metadata": {},
   "source": [
    "**Analyze at least 5 variables from which you can start figure out criteria of high rated movie**"
   ]
  },
  {
   "cell_type": "code",
   "execution_count": 15,
   "metadata": {},
   "outputs": [
    {
     "data": {
      "text/plain": [
       "imdb_top_250            0.516917\n",
       "imdb_score              0.499927\n",
       "num_voted_users         0.316254\n",
       "num_user_for_reviews    0.279220\n",
       "duration                0.204861\n",
       "Name: score_group, dtype: float64"
      ]
     },
     "execution_count": 15,
     "metadata": {},
     "output_type": "execute_result"
    }
   ],
   "source": [
    "imdb['score_group'] = imdb['score_group'].astype('category')\n",
    "imdb['score_group'].cat.categories = [0,1]\n",
    "imdb['score_group'] = imdb['score_group'].astype('float')\n",
    "np.abs(imdb.corr(method= 'kendall')['score_group']).sort_values(ascending=False)[1:6]"
   ]
  },
  {
   "cell_type": "markdown",
   "metadata": {},
   "source": [
    "**Analyse 5 more variables to strengthen criteria of high rated movies**"
   ]
  },
  {
   "cell_type": "code",
   "execution_count": 16,
   "metadata": {},
   "outputs": [
    {
     "data": {
      "text/plain": [
       "imdb_top_250             0.516917\n",
       "imdb_score               0.499927\n",
       "num_voted_users          0.316254\n",
       "num_user_for_reviews     0.279220\n",
       "duration                 0.204861\n",
       "movie_facebook_likes;    0.195189\n",
       "net_USD                  0.165571\n",
       "profitable               0.152667\n",
       "director_facebook?       0.138118\n",
       "color                    0.113296\n",
       "Name: score_group, dtype: float64"
      ]
     },
     "execution_count": 16,
     "metadata": {},
     "output_type": "execute_result"
    }
   ],
   "source": [
    "imdb['score_group'] = imdb['score_group'].astype('category')\n",
    "imdb['score_group'].cat.categories = [0,1]\n",
    "imdb['score_group'] = imdb['score_group'].astype('float')\n",
    "np.abs(imdb.corr(method= 'kendall')['score_group']).sort_values(ascending=False)[1:11]"
   ]
  }
 ],
 "metadata": {
  "kernelspec": {
   "display_name": "Python 3",
   "language": "python",
   "name": "python3"
  },
  "language_info": {
   "codemirror_mode": {
    "name": "ipython",
    "version": 3
   },
   "file_extension": ".py",
   "mimetype": "text/x-python",
   "name": "python",
   "nbconvert_exporter": "python",
   "pygments_lexer": "ipython3",
   "version": "3.6.3"
  }
 },
 "nbformat": 4,
 "nbformat_minor": 2
}
