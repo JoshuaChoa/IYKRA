{
 "cells": [
  {
   "cell_type": "code",
   "execution_count": 25,
   "metadata": {
    "ExecuteTime": {
     "end_time": "2019-11-22T04:40:37.354000Z",
     "start_time": "2019-11-22T04:40:37.336500Z"
    }
   },
   "outputs": [],
   "source": [
    "import pandas as pd\n",
    "import numpy as np\n",
    "from tqdm.notebook import tqdm"
   ]
  },
  {
   "cell_type": "code",
   "execution_count": 7,
   "metadata": {
    "ExecuteTime": {
     "end_time": "2019-11-22T04:20:46.682500Z",
     "start_time": "2019-11-22T04:20:45.725000Z"
    }
   },
   "outputs": [
    {
     "name": "stderr",
     "output_type": "stream",
     "text": [
      "D:\\Anaconda3\\lib\\site-packages\\IPython\\core\\interactiveshell.py:3058: DtypeWarning: Columns (4,5) have mixed types. Specify dtype option on import or set low_memory=False.\n",
      "  interactivity=interactivity, compiler=compiler, result=result)\n"
     ]
    },
    {
     "data": {
      "text/html": [
       "<div>\n",
       "<style scoped>\n",
       "    .dataframe tbody tr th:only-of-type {\n",
       "        vertical-align: middle;\n",
       "    }\n",
       "\n",
       "    .dataframe tbody tr th {\n",
       "        vertical-align: top;\n",
       "    }\n",
       "\n",
       "    .dataframe thead th {\n",
       "        text-align: right;\n",
       "    }\n",
       "</style>\n",
       "<table border=\"1\" class=\"dataframe\">\n",
       "  <thead>\n",
       "    <tr style=\"text-align: right;\">\n",
       "      <th></th>\n",
       "      <th>MonthID</th>\n",
       "      <th>ItemID</th>\n",
       "      <th>LocationID</th>\n",
       "      <th>Sum_GrossMarginAmount</th>\n",
       "      <th>Sum_Regular_Sales_Dollars</th>\n",
       "      <th>Sum_Markdown_Sales_Dollars</th>\n",
       "      <th>ScenarioID</th>\n",
       "      <th>ReportingPeriodID</th>\n",
       "      <th>Sum_Regular_Sales_Units</th>\n",
       "      <th>Sum_Markdown_Sales_Units</th>\n",
       "    </tr>\n",
       "  </thead>\n",
       "  <tbody>\n",
       "    <tr>\n",
       "      <th>0</th>\n",
       "      <td>201408</td>\n",
       "      <td>256441</td>\n",
       "      <td>568</td>\n",
       "      <td>4,99</td>\n",
       "      <td>9,99</td>\n",
       "      <td>0</td>\n",
       "      <td>1</td>\n",
       "      <td>20140801</td>\n",
       "      <td>1</td>\n",
       "      <td>0</td>\n",
       "    </tr>\n",
       "    <tr>\n",
       "      <th>1</th>\n",
       "      <td>201408</td>\n",
       "      <td>289471</td>\n",
       "      <td>24</td>\n",
       "      <td>4,99</td>\n",
       "      <td>9,99</td>\n",
       "      <td>0</td>\n",
       "      <td>1</td>\n",
       "      <td>20140801</td>\n",
       "      <td>1</td>\n",
       "      <td>0</td>\n",
       "    </tr>\n",
       "    <tr>\n",
       "      <th>2</th>\n",
       "      <td>201408</td>\n",
       "      <td>289471</td>\n",
       "      <td>27</td>\n",
       "      <td>4,99</td>\n",
       "      <td>9,99</td>\n",
       "      <td>0</td>\n",
       "      <td>1</td>\n",
       "      <td>20140801</td>\n",
       "      <td>1</td>\n",
       "      <td>0</td>\n",
       "    </tr>\n",
       "    <tr>\n",
       "      <th>3</th>\n",
       "      <td>201408</td>\n",
       "      <td>292637</td>\n",
       "      <td>530</td>\n",
       "      <td>4,99</td>\n",
       "      <td>9,99</td>\n",
       "      <td>0</td>\n",
       "      <td>1</td>\n",
       "      <td>20140801</td>\n",
       "      <td>1</td>\n",
       "      <td>0</td>\n",
       "    </tr>\n",
       "    <tr>\n",
       "      <th>4</th>\n",
       "      <td>201408</td>\n",
       "      <td>292637</td>\n",
       "      <td>565</td>\n",
       "      <td>4,99</td>\n",
       "      <td>9,99</td>\n",
       "      <td>0</td>\n",
       "      <td>1</td>\n",
       "      <td>20140801</td>\n",
       "      <td>1</td>\n",
       "      <td>0</td>\n",
       "    </tr>\n",
       "  </tbody>\n",
       "</table>\n",
       "</div>"
      ],
      "text/plain": [
       "   MonthID  ItemID  LocationID Sum_GrossMarginAmount  \\\n",
       "0   201408  256441         568                  4,99   \n",
       "1   201408  289471          24                  4,99   \n",
       "2   201408  289471          27                  4,99   \n",
       "3   201408  292637         530                  4,99   \n",
       "4   201408  292637         565                  4,99   \n",
       "\n",
       "  Sum_Regular_Sales_Dollars Sum_Markdown_Sales_Dollars  ScenarioID  \\\n",
       "0                      9,99                          0           1   \n",
       "1                      9,99                          0           1   \n",
       "2                      9,99                          0           1   \n",
       "3                      9,99                          0           1   \n",
       "4                      9,99                          0           1   \n",
       "\n",
       "   ReportingPeriodID  Sum_Regular_Sales_Units  Sum_Markdown_Sales_Units  \n",
       "0           20140801                        1                         0  \n",
       "1           20140801                        1                         0  \n",
       "2           20140801                        1                         0  \n",
       "3           20140801                        1                         0  \n",
       "4           20140801                        1                         0  "
      ]
     },
     "execution_count": 7,
     "metadata": {},
     "output_type": "execute_result"
    }
   ],
   "source": [
    "sales = pd.read_csv('Sales.csv', sep='\\t')\n",
    "sales.head()"
   ]
  },
  {
   "cell_type": "code",
   "execution_count": 29,
   "metadata": {
    "ExecuteTime": {
     "end_time": "2019-11-23T15:10:43.087000Z",
     "start_time": "2019-11-22T08:04:37.327000Z"
    }
   },
   "outputs": [
    {
     "data": {
      "application/vnd.jupyter.widget-view+json": {
       "model_id": "ba3d1649dd5c408e8b1522705927a0ba",
       "version_major": 2,
       "version_minor": 0
      },
      "text/plain": [
       "HBox(children=(IntProgress(value=0, max=923371), HTML(value='')))"
      ]
     },
     "metadata": {},
     "output_type": "display_data"
    },
    {
     "name": "stderr",
     "output_type": "stream",
     "text": [
      "D:\\Anaconda3\\lib\\site-packages\\pandas\\core\\indexing.py:205: SettingWithCopyWarning: \n",
      "A value is trying to be set on a copy of a slice from a DataFrame\n",
      "\n",
      "See the caveats in the documentation: http://pandas.pydata.org/pandas-docs/stable/user_guide/indexing.html#returning-a-view-versus-a-copy\n",
      "  self._setitem_with_indexer(indexer, value)\n"
     ]
    },
    {
     "name": "stdout",
     "output_type": "stream",
     "text": [
      "\n"
     ]
    }
   ],
   "source": [
    "sales['ReportingDate'] = 0\n",
    "for i in tqdm(sales.index):\n",
    "    sales['ReportingDate'].loc[i] = (str(sales['ReportingPeriodID'].loc[i]//10000000 % 10)+\\\n",
    "                                     str(sales['ReportingPeriodID'].loc[i]//1000000 % 10)+\\\n",
    "                                    str(sales['ReportingPeriodID'].loc[i]//100000 % 10)+\\\n",
    "                                    str(sales['ReportingPeriodID'].loc[i]//10000 % 10)+'-'+\\\n",
    "                                    str(sales['ReportingPeriodID'].loc[i]//1000 % 10)+\\\n",
    "                                    str(sales['ReportingPeriodID'].loc[i]//100 % 10)+'-'+\\\n",
    "                                    str(sales['ReportingPeriodID'].loc[i]//10 % 10)+\\\n",
    "                                    str(sales['ReportingPeriodID'].loc[i] % 10))"
   ]
  },
  {
   "cell_type": "code",
   "execution_count": 34,
   "metadata": {
    "ExecuteTime": {
     "end_time": "2019-11-23T15:11:04.796000Z",
     "start_time": "2019-11-23T15:11:04.784000Z"
    }
   },
   "outputs": [
    {
     "data": {
      "text/html": [
       "<div>\n",
       "<style scoped>\n",
       "    .dataframe tbody tr th:only-of-type {\n",
       "        vertical-align: middle;\n",
       "    }\n",
       "\n",
       "    .dataframe tbody tr th {\n",
       "        vertical-align: top;\n",
       "    }\n",
       "\n",
       "    .dataframe thead th {\n",
       "        text-align: right;\n",
       "    }\n",
       "</style>\n",
       "<table border=\"1\" class=\"dataframe\">\n",
       "  <thead>\n",
       "    <tr style=\"text-align: right;\">\n",
       "      <th></th>\n",
       "      <th>MonthID</th>\n",
       "      <th>ItemID</th>\n",
       "      <th>LocationID</th>\n",
       "      <th>Sum_GrossMarginAmount</th>\n",
       "      <th>Sum_Regular_Sales_Dollars</th>\n",
       "      <th>Sum_Markdown_Sales_Dollars</th>\n",
       "      <th>ScenarioID</th>\n",
       "      <th>ReportingPeriodID</th>\n",
       "      <th>Sum_Regular_Sales_Units</th>\n",
       "      <th>Sum_Markdown_Sales_Units</th>\n",
       "      <th>ReportingDate</th>\n",
       "    </tr>\n",
       "  </thead>\n",
       "  <tbody>\n",
       "    <tr>\n",
       "      <th>0</th>\n",
       "      <td>201408</td>\n",
       "      <td>256441</td>\n",
       "      <td>568</td>\n",
       "      <td>4,99</td>\n",
       "      <td>9,99</td>\n",
       "      <td>0</td>\n",
       "      <td>1</td>\n",
       "      <td>20140801</td>\n",
       "      <td>1</td>\n",
       "      <td>0</td>\n",
       "      <td>2014-08-01</td>\n",
       "    </tr>\n",
       "    <tr>\n",
       "      <th>1</th>\n",
       "      <td>201408</td>\n",
       "      <td>289471</td>\n",
       "      <td>24</td>\n",
       "      <td>4,99</td>\n",
       "      <td>9,99</td>\n",
       "      <td>0</td>\n",
       "      <td>1</td>\n",
       "      <td>20140801</td>\n",
       "      <td>1</td>\n",
       "      <td>0</td>\n",
       "      <td>2014-08-01</td>\n",
       "    </tr>\n",
       "    <tr>\n",
       "      <th>2</th>\n",
       "      <td>201408</td>\n",
       "      <td>289471</td>\n",
       "      <td>27</td>\n",
       "      <td>4,99</td>\n",
       "      <td>9,99</td>\n",
       "      <td>0</td>\n",
       "      <td>1</td>\n",
       "      <td>20140801</td>\n",
       "      <td>1</td>\n",
       "      <td>0</td>\n",
       "      <td>2014-08-01</td>\n",
       "    </tr>\n",
       "    <tr>\n",
       "      <th>3</th>\n",
       "      <td>201408</td>\n",
       "      <td>292637</td>\n",
       "      <td>530</td>\n",
       "      <td>4,99</td>\n",
       "      <td>9,99</td>\n",
       "      <td>0</td>\n",
       "      <td>1</td>\n",
       "      <td>20140801</td>\n",
       "      <td>1</td>\n",
       "      <td>0</td>\n",
       "      <td>2014-08-01</td>\n",
       "    </tr>\n",
       "    <tr>\n",
       "      <th>4</th>\n",
       "      <td>201408</td>\n",
       "      <td>292637</td>\n",
       "      <td>565</td>\n",
       "      <td>4,99</td>\n",
       "      <td>9,99</td>\n",
       "      <td>0</td>\n",
       "      <td>1</td>\n",
       "      <td>20140801</td>\n",
       "      <td>1</td>\n",
       "      <td>0</td>\n",
       "      <td>2014-08-01</td>\n",
       "    </tr>\n",
       "  </tbody>\n",
       "</table>\n",
       "</div>"
      ],
      "text/plain": [
       "   MonthID  ItemID  LocationID Sum_GrossMarginAmount  \\\n",
       "0   201408  256441         568                  4,99   \n",
       "1   201408  289471          24                  4,99   \n",
       "2   201408  289471          27                  4,99   \n",
       "3   201408  292637         530                  4,99   \n",
       "4   201408  292637         565                  4,99   \n",
       "\n",
       "  Sum_Regular_Sales_Dollars Sum_Markdown_Sales_Dollars  ScenarioID  \\\n",
       "0                      9,99                          0           1   \n",
       "1                      9,99                          0           1   \n",
       "2                      9,99                          0           1   \n",
       "3                      9,99                          0           1   \n",
       "4                      9,99                          0           1   \n",
       "\n",
       "   ReportingPeriodID  Sum_Regular_Sales_Units  Sum_Markdown_Sales_Units  \\\n",
       "0           20140801                        1                         0   \n",
       "1           20140801                        1                         0   \n",
       "2           20140801                        1                         0   \n",
       "3           20140801                        1                         0   \n",
       "4           20140801                        1                         0   \n",
       "\n",
       "  ReportingDate  \n",
       "0    2014-08-01  \n",
       "1    2014-08-01  \n",
       "2    2014-08-01  \n",
       "3    2014-08-01  \n",
       "4    2014-08-01  "
      ]
     },
     "execution_count": 34,
     "metadata": {},
     "output_type": "execute_result"
    }
   ],
   "source": [
    "sales.head()"
   ]
  },
  {
   "cell_type": "code",
   "execution_count": 35,
   "metadata": {
    "ExecuteTime": {
     "end_time": "2019-11-23T15:11:16.932000Z",
     "start_time": "2019-11-23T15:11:04.799000Z"
    }
   },
   "outputs": [],
   "source": [
    "sales.to_csv('Sales1.csv')"
   ]
  },
  {
   "cell_type": "code",
   "execution_count": null,
   "metadata": {},
   "outputs": [],
   "source": []
  }
 ],
 "metadata": {
  "hide_input": false,
  "kernelspec": {
   "display_name": "Python 3",
   "language": "python",
   "name": "python3"
  },
  "language_info": {
   "codemirror_mode": {
    "name": "ipython",
    "version": 3
   },
   "file_extension": ".py",
   "mimetype": "text/x-python",
   "name": "python",
   "nbconvert_exporter": "python",
   "pygments_lexer": "ipython3",
   "version": "3.7.4"
  },
  "toc": {
   "base_numbering": 1,
   "nav_menu": {},
   "number_sections": true,
   "sideBar": true,
   "skip_h1_title": false,
   "title_cell": "Table of Contents",
   "title_sidebar": "Contents",
   "toc_cell": false,
   "toc_position": {},
   "toc_section_display": true,
   "toc_window_display": false
  }
 },
 "nbformat": 4,
 "nbformat_minor": 2
}
